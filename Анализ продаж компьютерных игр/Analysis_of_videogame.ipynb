{
 "cells": [
  {
   "cell_type": "markdown",
   "metadata": {},
   "source": [
    "<div style=\"border:solid Chocolate 2px; padding: 40px\">\n",
    "\n",
    "<b>Андрей, привет!</b>\n",
    "\n",
    "Меня зовут Евгений Головин, я буду ревьюером твоего проекта. Если ты не против, то предлагаю построить наше общение на \"ты\" ;) Если удобнее на \"вы\", то нет проблем, только скажи об этом. \n",
    "\n",
    "В ходе работы я оставил тебе комментарии <font color='green'>зеленого</font>, <font color='gold'>желтого</font> и <font color='red'>красного</font> цветов. Сейчас объясню, что они значат:\n",
    "\n",
    "<br/>\n",
    "\n",
    "<div class=\"alert alert-success\">\n",
    "<h2> Комментарий ревьюера <a class=\"tocSkip\"> </h2>\n",
    "\n",
    "<b>Все супер!👍:</b> Решение на этом шаге является полностью правильным.\n",
    "</div>\n",
    "\n",
    "<br/>\n",
    "\n",
    "<div class=\"alert alert-warning\">\n",
    "    <h2> Комментарий ревьюера <a class=\"tocSkip\"> </h2>\n",
    "    \n",
    "<b>Небольшие замечания и рекомендации💡:</b> Решение на этом шаге станет еще лучше, если внести небольшие коррективы.\n",
    "</div>\n",
    "\n",
    "\n",
    "<br/>\n",
    "<div class=\"alert alert-block alert-danger\">\n",
    "<h2> Комментарий ревьюера <a class=\"tocSkip\"></h2>\n",
    "\n",
    "    \n",
    "<b>На доработку🤔:</b>\n",
    " Решение на этом шаге требует существенной переработки и внесения правок. Напоминаю, что проект не может быть принят с первого раза, если ревью содержит комментарии, рекомендующие доработать шаги.\n",
    "</div>\n",
    "    \n",
    "Увидев мой комментарий, не удаляй его, он будет очень полезен в случае повторной проверки работы :)\n",
    "    \n",
    "<div class=\"alert alert-info\">\n",
    "<b>А свой помечай вот так, чтобы я его не потерял ;)</b> \n",
    "</div>\n",
    "    \n",
    "На мои комменатрии можно и нужно реагировать, только делать это стоит так, чтобы твои и мои комменты не смешались: выделяй свои цветами, сильно отличающимися от моих.\n",
    "    \n",
    "Увидев у тебя неточность, в первый раз я лишь укажу на ее наличие и дам тебе возможность самому найти и исправить ее. На реальной работе твой руководитель будет поступать также, и я пытаюсь подготовить тебя именно к работе аналитиком. Но если ты пока не справишься с такой задачей - при следующей проверке я дам более точную подсказку!"
   ]
  },
  {
   "cell_type": "markdown",
   "metadata": {},
   "source": [
    "# Анализ продаж компьютерных игр\n",
    "<br>\n",
    "\n",
    "**Цель:** Выявить параметры, определяющие успешность игр, для дальнейшего управления продуктами (определение перспективных / стагнирующих сфер, распределение рекламных бюджетов, текущая / перспективная популярность).\n",
    "<br>\n",
    "\n",
    "**Выборка:** Исторические данные о выпущенных играх с продажами по регионам. Данные за 2016 год могут быть не полными.\n",
    "\n",
    "**Описание данных**\n",
    "<br>\n",
    "\n",
    "* `Name` — название игры\n",
    "<br>\n",
    "* `Platform` — платформа\n",
    "<br>\n",
    "* `Year_of_Release` — год выпуска\n",
    "<br>\n",
    "* `Genre` — жанр игры\n",
    "<br>\n",
    "* `NA_sales` — продажи в Северной Америке (миллионы долларов)\n",
    "<br>\n",
    "* `EU_sales` — продажи в Европе (миллионы долларов)\n",
    "<br>\n",
    "* `JP_sales` — продажи в Японии (миллионы долларов)\n",
    "<br>\n",
    "* `Other_sales` — продажи в других странах (миллионы долларов)\n",
    "<br>\n",
    "* `Critic_Score` — оценка критиков (от 0 до 100)\n",
    "<br>\n",
    "* `User_Score` — оценка пользователей (от 0 до 10)\n",
    "<br>\n",
    "* `Rating` — рейтинг от организации ESRB (англ. Entertainment Software Rating Board). Эта ассоциация определяет рейтинг компьютерных игр и присваивает им подходящую возрастную категорию.\n",
    "\n",
    "# Описание проекта\n",
    "<br>\n",
    "Вы работаете в интернет-магазине «Стримчик», который продаёт по всему миру компьютерные игры. Из открытых источников доступны исторические данные о продажах игр, оценки пользователей и экспертов, жанры и платформы (например, Xbox или PlayStation). Вам нужно выявить определяющие успешность игры закономерности. Это позволит сделать ставку на потенциально популярный продукт и спланировать рекламные кампании.\n",
    "<br>\n",
    "<br>\n",
    "Перед вами данные до 2016 года. Представим, что сейчас декабрь 2016 г., и вы планируете кампанию на 2017-й. Нужно отработать принцип работы с данными. Не важно, прогнозируете ли вы продажи на 2017 год по данным 2016-го или же 2027-й — по данным 2026 года.\n",
    "<br>\n",
    "<br>\n",
    "В наборе данных попадается аббревиатура ESRB (Entertainment Software Rating Board) — это ассоциация, определяющая возрастной рейтинг компьютерных игр. ESRB оценивает игровой контент и присваивает ему подходящую возрастную категорию, например, «Для взрослых», «Для детей младшего возраста» или «Для подростков».\n",
    "<br>\n",
    "\n",
    "# Инструкция по выполнению проекта\n",
    "\n",
    "**Шаг 1. Откройте файл с данными и изучите общую информацию**\n",
    "\n",
    "Путь к файлу: /datasets/games.csv\n",
    "\n",
    "**Шаг 2. Подготовьте данные**\n",
    "\n",
    "* Замените названия столбцов (приведите к нижнему регистру);\n",
    "* Преобразуйте данные в нужные типы. Опишите, в каких столбцах заменили тип данных и почему;\n",
    "* Обработайте пропуски при необходимости:\n",
    "* Объясните, почему заполнили пропуски определённым образом или почему не стали это делать;\n",
    "* Опишите причины, которые могли привести к пропускам;\n",
    "* Обратите внимание на аббревиатуру 'tbd' в столбцах с рейтингом. Поясните, как обработать это значение.\n",
    "* Посчитайте суммарные продажи во всех регионах и запишите их в отдельный столбец.\n",
    "\n",
    "**Шаг 3. Проведите исследовательский анализ данных**\n",
    "\n",
    "Посмотрите, сколько игр выпускалось в разные годы. Важны ли данные за все периоды?\n",
    "Посмотрите, как менялись продажи по платформам. Выберите платформы с наибольшими суммарными продажами и постройте распределение по годам. За какой характерный срок появляются новые и исчезают старые платформы?\n",
    "Возьмите данные за соответствующий актуальный период. Актуальный период определите самостоятельно в результате исследования предыдущих вопросов. Основной фактор — эти данные помогут построить прогноз на 2017 год.\n",
    "Не учитывайте в работе данные за предыдущие годы.\n",
    "Какие платформы лидируют по продажам, растут или падают? Выберите несколько потенциально прибыльных платформ.\n",
    "Постройте график «ящик с усами» по глобальным продажам игр в разбивке по платформам. Опишите результат.\n",
    "Посмотрите, как влияют на продажи внутри одной популярной платформы отзывы пользователей и критиков. Постройте диаграмму рассеяния и посчитайте корреляцию между отзывами и продажами. Сформулируйте выводы.\n",
    "Соотнесите выводы с продажами игр на других платформах.\n",
    "Посмотрите на общее распределение игр по жанрам. Что можно сказать о самых прибыльных жанрах? Выделяются ли жанры с высокими и низкими продажами?\n",
    "\n",
    "**Шаг 4. Составьте портрет пользователя каждого региона**\n",
    "\n",
    "Определите для пользователя каждого региона (NA, EU, JP):\n",
    "\n",
    "Самые популярные платформы (топ-5). Опишите различия в долях продаж.\n",
    "Самые популярные жанры (топ-5). Поясните разницу.\n",
    "Влияет ли рейтинг ESRB на продажи в отдельном регионе?\n",
    "\n",
    "**Шаг 5. Проверьте гипотезы**\n",
    "\n",
    "Средние пользовательские рейтинги платформ Xbox One и PC одинаковые;\n",
    "Средние пользовательские рейтинги жанров Action (англ. «действие») и Sports (англ. «виды спорта») разные.\n",
    "Задайте самостоятельно пороговое значение alpha.\n",
    "\n",
    "Поясните:\n",
    "\n",
    "Как вы сформулировали нулевую и альтернативную гипотезы;\n",
    "Какой критерий применили для проверки гипотез и почему.\n",
    "\n",
    "**Шаг 6. Напишите общий вывод**\n",
    "\n",
    "**Оформление:** Выполните задание в Jupyter Notebook. Заполните программный код в ячейках типа code, текстовые пояснения — в ячейках типа markdown. Примените форматирование и заголовки."
   ]
  },
  {
   "cell_type": "markdown",
   "metadata": {},
   "source": [
    "<div class=\"alert alert-success\">\n",
    "<h2> Комментарий ревьюера v1 <a class=\"tocSkip\"> </h2>\n",
    "\n",
    "<b>Все супер!👍:</b> Отличное введение! Начинаем работу) "
   ]
  },
  {
   "cell_type": "markdown",
   "metadata": {},
   "source": [
    "## Изучение данных из файла\n"
   ]
  },
  {
   "cell_type": "code",
   "execution_count": 1,
   "metadata": {},
   "outputs": [],
   "source": [
    "import pandas as pd\n",
    "import matplotlib.pyplot as plt\n",
    "import seaborn as sns\n",
    "import matplotlib.ticker as ticker\n",
    "import numpy as np\n",
    "from scipy import stats as st\n",
    "import os"
   ]
  },
  {
   "cell_type": "code",
   "execution_count": 2,
   "metadata": {},
   "outputs": [],
   "source": [
    "games = pd.read_csv('/datasets/games.csv')"
   ]
  },
  {
   "cell_type": "code",
   "execution_count": 3,
   "metadata": {},
   "outputs": [
    {
     "data": {
      "text/html": [
       "<div>\n",
       "<style scoped>\n",
       "    .dataframe tbody tr th:only-of-type {\n",
       "        vertical-align: middle;\n",
       "    }\n",
       "\n",
       "    .dataframe tbody tr th {\n",
       "        vertical-align: top;\n",
       "    }\n",
       "\n",
       "    .dataframe thead th {\n",
       "        text-align: right;\n",
       "    }\n",
       "</style>\n",
       "<table border=\"1\" class=\"dataframe\">\n",
       "  <thead>\n",
       "    <tr style=\"text-align: right;\">\n",
       "      <th></th>\n",
       "      <th>Name</th>\n",
       "      <th>Platform</th>\n",
       "      <th>Year_of_Release</th>\n",
       "      <th>Genre</th>\n",
       "      <th>NA_sales</th>\n",
       "      <th>EU_sales</th>\n",
       "      <th>JP_sales</th>\n",
       "      <th>Other_sales</th>\n",
       "      <th>Critic_Score</th>\n",
       "      <th>User_Score</th>\n",
       "      <th>Rating</th>\n",
       "    </tr>\n",
       "  </thead>\n",
       "  <tbody>\n",
       "    <tr>\n",
       "      <th>0</th>\n",
       "      <td>Wii Sports</td>\n",
       "      <td>Wii</td>\n",
       "      <td>2006.0</td>\n",
       "      <td>Sports</td>\n",
       "      <td>41.36</td>\n",
       "      <td>28.96</td>\n",
       "      <td>3.77</td>\n",
       "      <td>8.45</td>\n",
       "      <td>76.0</td>\n",
       "      <td>8</td>\n",
       "      <td>E</td>\n",
       "    </tr>\n",
       "    <tr>\n",
       "      <th>1</th>\n",
       "      <td>Super Mario Bros.</td>\n",
       "      <td>NES</td>\n",
       "      <td>1985.0</td>\n",
       "      <td>Platform</td>\n",
       "      <td>29.08</td>\n",
       "      <td>3.58</td>\n",
       "      <td>6.81</td>\n",
       "      <td>0.77</td>\n",
       "      <td>NaN</td>\n",
       "      <td>NaN</td>\n",
       "      <td>NaN</td>\n",
       "    </tr>\n",
       "    <tr>\n",
       "      <th>2</th>\n",
       "      <td>Mario Kart Wii</td>\n",
       "      <td>Wii</td>\n",
       "      <td>2008.0</td>\n",
       "      <td>Racing</td>\n",
       "      <td>15.68</td>\n",
       "      <td>12.76</td>\n",
       "      <td>3.79</td>\n",
       "      <td>3.29</td>\n",
       "      <td>82.0</td>\n",
       "      <td>8.3</td>\n",
       "      <td>E</td>\n",
       "    </tr>\n",
       "    <tr>\n",
       "      <th>3</th>\n",
       "      <td>Wii Sports Resort</td>\n",
       "      <td>Wii</td>\n",
       "      <td>2009.0</td>\n",
       "      <td>Sports</td>\n",
       "      <td>15.61</td>\n",
       "      <td>10.93</td>\n",
       "      <td>3.28</td>\n",
       "      <td>2.95</td>\n",
       "      <td>80.0</td>\n",
       "      <td>8</td>\n",
       "      <td>E</td>\n",
       "    </tr>\n",
       "    <tr>\n",
       "      <th>4</th>\n",
       "      <td>Pokemon Red/Pokemon Blue</td>\n",
       "      <td>GB</td>\n",
       "      <td>1996.0</td>\n",
       "      <td>Role-Playing</td>\n",
       "      <td>11.27</td>\n",
       "      <td>8.89</td>\n",
       "      <td>10.22</td>\n",
       "      <td>1.00</td>\n",
       "      <td>NaN</td>\n",
       "      <td>NaN</td>\n",
       "      <td>NaN</td>\n",
       "    </tr>\n",
       "  </tbody>\n",
       "</table>\n",
       "</div>"
      ],
      "text/plain": [
       "                       Name Platform  Year_of_Release         Genre  NA_sales  \\\n",
       "0                Wii Sports      Wii           2006.0        Sports     41.36   \n",
       "1         Super Mario Bros.      NES           1985.0      Platform     29.08   \n",
       "2            Mario Kart Wii      Wii           2008.0        Racing     15.68   \n",
       "3         Wii Sports Resort      Wii           2009.0        Sports     15.61   \n",
       "4  Pokemon Red/Pokemon Blue       GB           1996.0  Role-Playing     11.27   \n",
       "\n",
       "   EU_sales  JP_sales  Other_sales  Critic_Score User_Score Rating  \n",
       "0     28.96      3.77         8.45          76.0          8      E  \n",
       "1      3.58      6.81         0.77           NaN        NaN    NaN  \n",
       "2     12.76      3.79         3.29          82.0        8.3      E  \n",
       "3     10.93      3.28         2.95          80.0          8      E  \n",
       "4      8.89     10.22         1.00           NaN        NaN    NaN  "
      ]
     },
     "execution_count": 3,
     "metadata": {},
     "output_type": "execute_result"
    }
   ],
   "source": [
    "# Получение общей информации датасета\n",
    "games.head()"
   ]
  },
  {
   "cell_type": "code",
   "execution_count": 4,
   "metadata": {},
   "outputs": [
    {
     "name": "stdout",
     "output_type": "stream",
     "text": [
      "<class 'pandas.core.frame.DataFrame'>\n",
      "RangeIndex: 16715 entries, 0 to 16714\n",
      "Data columns (total 11 columns):\n",
      " #   Column           Non-Null Count  Dtype  \n",
      "---  ------           --------------  -----  \n",
      " 0   Name             16713 non-null  object \n",
      " 1   Platform         16715 non-null  object \n",
      " 2   Year_of_Release  16446 non-null  float64\n",
      " 3   Genre            16713 non-null  object \n",
      " 4   NA_sales         16715 non-null  float64\n",
      " 5   EU_sales         16715 non-null  float64\n",
      " 6   JP_sales         16715 non-null  float64\n",
      " 7   Other_sales      16715 non-null  float64\n",
      " 8   Critic_Score     8137 non-null   float64\n",
      " 9   User_Score       10014 non-null  object \n",
      " 10  Rating           9949 non-null   object \n",
      "dtypes: float64(6), object(5)\n",
      "memory usage: 1.4+ MB\n"
     ]
    }
   ],
   "source": [
    "games.info()"
   ]
  },
  {
   "cell_type": "code",
   "execution_count": 5,
   "metadata": {},
   "outputs": [
    {
     "data": {
      "text/plain": [
       "0"
      ]
     },
     "execution_count": 5,
     "metadata": {},
     "output_type": "execute_result"
    }
   ],
   "source": [
    "# проверим количество дубликатов в датасете, кол-во дубликатов равно 0\n",
    "games.duplicated().sum()"
   ]
  },
  {
   "cell_type": "code",
   "execution_count": 6,
   "metadata": {},
   "outputs": [
    {
     "data": {
      "text/plain": [
       "Name                  2\n",
       "Platform              0\n",
       "Year_of_Release     269\n",
       "Genre                 2\n",
       "NA_sales              0\n",
       "EU_sales              0\n",
       "JP_sales              0\n",
       "Other_sales           0\n",
       "Critic_Score       8578\n",
       "User_Score         6701\n",
       "Rating             6766\n",
       "dtype: int64"
      ]
     },
     "execution_count": 6,
     "metadata": {},
     "output_type": "execute_result"
    }
   ],
   "source": [
    "# проверим количество пропусков в датасете\n",
    "games.isna().sum()"
   ]
  },
  {
   "cell_type": "markdown",
   "metadata": {},
   "source": [
    "**Вывод:** в результате обзора данных выявлено, в датасете всего 11 столбцов и 16715 строк, есть пропуски в некоторых столбцах, дубликаты отсутствуют."
   ]
  },
  {
   "cell_type": "markdown",
   "metadata": {},
   "source": [
    "<div class=\"alert alert-success\">\n",
    "<h2> Комментарий ревьюера v1 <a class=\"tocSkip\"> </h2>\n",
    "\n",
    "<b>Все супер!👍:</b> Супер)"
   ]
  },
  {
   "cell_type": "markdown",
   "metadata": {},
   "source": [
    "## Предобработка данных"
   ]
  },
  {
   "cell_type": "markdown",
   "metadata": {},
   "source": [
    "* Дубликатов в датасете нет.\n",
    "* Есть пропуски в некоторых столбцах, необходимо обработать пропуски и изменить типы данных (напр. Year_of_Release).\n",
    "* Также необходимо изменить названия столбцов (привести названия столбцов к нижнему регистру)."
   ]
  },
  {
   "cell_type": "code",
   "execution_count": 7,
   "metadata": {},
   "outputs": [
    {
     "data": {
      "text/html": [
       "<div>\n",
       "<style scoped>\n",
       "    .dataframe tbody tr th:only-of-type {\n",
       "        vertical-align: middle;\n",
       "    }\n",
       "\n",
       "    .dataframe tbody tr th {\n",
       "        vertical-align: top;\n",
       "    }\n",
       "\n",
       "    .dataframe thead th {\n",
       "        text-align: right;\n",
       "    }\n",
       "</style>\n",
       "<table border=\"1\" class=\"dataframe\">\n",
       "  <thead>\n",
       "    <tr style=\"text-align: right;\">\n",
       "      <th></th>\n",
       "      <th>name</th>\n",
       "      <th>platform</th>\n",
       "      <th>year_of_release</th>\n",
       "      <th>genre</th>\n",
       "      <th>na_sales</th>\n",
       "      <th>eu_sales</th>\n",
       "      <th>jp_sales</th>\n",
       "      <th>other_sales</th>\n",
       "      <th>critic_score</th>\n",
       "      <th>user_score</th>\n",
       "      <th>rating</th>\n",
       "    </tr>\n",
       "  </thead>\n",
       "  <tbody>\n",
       "    <tr>\n",
       "      <th>0</th>\n",
       "      <td>Wii Sports</td>\n",
       "      <td>Wii</td>\n",
       "      <td>2006.0</td>\n",
       "      <td>Sports</td>\n",
       "      <td>41.36</td>\n",
       "      <td>28.96</td>\n",
       "      <td>3.77</td>\n",
       "      <td>8.45</td>\n",
       "      <td>76.0</td>\n",
       "      <td>8</td>\n",
       "      <td>E</td>\n",
       "    </tr>\n",
       "    <tr>\n",
       "      <th>1</th>\n",
       "      <td>Super Mario Bros.</td>\n",
       "      <td>NES</td>\n",
       "      <td>1985.0</td>\n",
       "      <td>Platform</td>\n",
       "      <td>29.08</td>\n",
       "      <td>3.58</td>\n",
       "      <td>6.81</td>\n",
       "      <td>0.77</td>\n",
       "      <td>NaN</td>\n",
       "      <td>NaN</td>\n",
       "      <td>NaN</td>\n",
       "    </tr>\n",
       "    <tr>\n",
       "      <th>2</th>\n",
       "      <td>Mario Kart Wii</td>\n",
       "      <td>Wii</td>\n",
       "      <td>2008.0</td>\n",
       "      <td>Racing</td>\n",
       "      <td>15.68</td>\n",
       "      <td>12.76</td>\n",
       "      <td>3.79</td>\n",
       "      <td>3.29</td>\n",
       "      <td>82.0</td>\n",
       "      <td>8.3</td>\n",
       "      <td>E</td>\n",
       "    </tr>\n",
       "    <tr>\n",
       "      <th>3</th>\n",
       "      <td>Wii Sports Resort</td>\n",
       "      <td>Wii</td>\n",
       "      <td>2009.0</td>\n",
       "      <td>Sports</td>\n",
       "      <td>15.61</td>\n",
       "      <td>10.93</td>\n",
       "      <td>3.28</td>\n",
       "      <td>2.95</td>\n",
       "      <td>80.0</td>\n",
       "      <td>8</td>\n",
       "      <td>E</td>\n",
       "    </tr>\n",
       "    <tr>\n",
       "      <th>4</th>\n",
       "      <td>Pokemon Red/Pokemon Blue</td>\n",
       "      <td>GB</td>\n",
       "      <td>1996.0</td>\n",
       "      <td>Role-Playing</td>\n",
       "      <td>11.27</td>\n",
       "      <td>8.89</td>\n",
       "      <td>10.22</td>\n",
       "      <td>1.00</td>\n",
       "      <td>NaN</td>\n",
       "      <td>NaN</td>\n",
       "      <td>NaN</td>\n",
       "    </tr>\n",
       "  </tbody>\n",
       "</table>\n",
       "</div>"
      ],
      "text/plain": [
       "                       name platform  year_of_release         genre  na_sales  \\\n",
       "0                Wii Sports      Wii           2006.0        Sports     41.36   \n",
       "1         Super Mario Bros.      NES           1985.0      Platform     29.08   \n",
       "2            Mario Kart Wii      Wii           2008.0        Racing     15.68   \n",
       "3         Wii Sports Resort      Wii           2009.0        Sports     15.61   \n",
       "4  Pokemon Red/Pokemon Blue       GB           1996.0  Role-Playing     11.27   \n",
       "\n",
       "   eu_sales  jp_sales  other_sales  critic_score user_score rating  \n",
       "0     28.96      3.77         8.45          76.0          8      E  \n",
       "1      3.58      6.81         0.77           NaN        NaN    NaN  \n",
       "2     12.76      3.79         3.29          82.0        8.3      E  \n",
       "3     10.93      3.28         2.95          80.0          8      E  \n",
       "4      8.89     10.22         1.00           NaN        NaN    NaN  "
      ]
     },
     "execution_count": 7,
     "metadata": {},
     "output_type": "execute_result"
    }
   ],
   "source": [
    "# Приведем названия столбцов к нижнему регистру\n",
    "games.columns = games.columns.str.lower()\n",
    "games.head() # проверим результат, названия столбцов приведены к нижнему регистру"
   ]
  },
  {
   "cell_type": "markdown",
   "metadata": {},
   "source": [
    "<div class=\"alert alert-success\">\n",
    "<h2> Комментарий ревьюера v1 <a class=\"tocSkip\"> </h2>\n",
    "\n",
    "<b>Все супер!👍:</b> Молодец, что верно используешь метод lower()"
   ]
  },
  {
   "cell_type": "code",
   "execution_count": 8,
   "metadata": {},
   "outputs": [
    {
     "data": {
      "text/html": [
       "<div>\n",
       "<style scoped>\n",
       "    .dataframe tbody tr th:only-of-type {\n",
       "        vertical-align: middle;\n",
       "    }\n",
       "\n",
       "    .dataframe tbody tr th {\n",
       "        vertical-align: top;\n",
       "    }\n",
       "\n",
       "    .dataframe thead th {\n",
       "        text-align: right;\n",
       "    }\n",
       "</style>\n",
       "<table border=\"1\" class=\"dataframe\">\n",
       "  <thead>\n",
       "    <tr style=\"text-align: right;\">\n",
       "      <th></th>\n",
       "      <th>name</th>\n",
       "      <th>platform</th>\n",
       "      <th>year_of_release</th>\n",
       "      <th>genre</th>\n",
       "      <th>na_sales</th>\n",
       "      <th>eu_sales</th>\n",
       "      <th>jp_sales</th>\n",
       "      <th>other_sales</th>\n",
       "      <th>critic_score</th>\n",
       "      <th>user_score</th>\n",
       "      <th>rating</th>\n",
       "    </tr>\n",
       "  </thead>\n",
       "  <tbody>\n",
       "    <tr>\n",
       "      <th>659</th>\n",
       "      <td>NaN</td>\n",
       "      <td>GEN</td>\n",
       "      <td>1993.0</td>\n",
       "      <td>NaN</td>\n",
       "      <td>1.78</td>\n",
       "      <td>0.53</td>\n",
       "      <td>0.00</td>\n",
       "      <td>0.08</td>\n",
       "      <td>NaN</td>\n",
       "      <td>NaN</td>\n",
       "      <td>NaN</td>\n",
       "    </tr>\n",
       "    <tr>\n",
       "      <th>14244</th>\n",
       "      <td>NaN</td>\n",
       "      <td>GEN</td>\n",
       "      <td>1993.0</td>\n",
       "      <td>NaN</td>\n",
       "      <td>0.00</td>\n",
       "      <td>0.00</td>\n",
       "      <td>0.03</td>\n",
       "      <td>0.00</td>\n",
       "      <td>NaN</td>\n",
       "      <td>NaN</td>\n",
       "      <td>NaN</td>\n",
       "    </tr>\n",
       "  </tbody>\n",
       "</table>\n",
       "</div>"
      ],
      "text/plain": [
       "      name platform  year_of_release genre  na_sales  eu_sales  jp_sales  \\\n",
       "659    NaN      GEN           1993.0   NaN      1.78      0.53      0.00   \n",
       "14244  NaN      GEN           1993.0   NaN      0.00      0.00      0.03   \n",
       "\n",
       "       other_sales  critic_score user_score rating  \n",
       "659           0.08           NaN        NaN    NaN  \n",
       "14244         0.00           NaN        NaN    NaN  "
      ]
     },
     "execution_count": 8,
     "metadata": {},
     "output_type": "execute_result"
    }
   ],
   "source": [
    "# Посмотрим на пропуски в столбце name, их 2. Кстати это те же строки с пропусками в столбце genre, убъем сразу двух зайцев.\n",
    "games[games['name'].isnull()]"
   ]
  },
  {
   "cell_type": "markdown",
   "metadata": {},
   "source": [
    "Данные пропуски лучше удалить, их всего 2 из 16175 строк."
   ]
  },
  {
   "cell_type": "code",
   "execution_count": 9,
   "metadata": {},
   "outputs": [],
   "source": [
    "games = games.dropna(subset = ['name'])"
   ]
  },
  {
   "cell_type": "code",
   "execution_count": 10,
   "metadata": {},
   "outputs": [
    {
     "data": {
      "text/html": [
       "<div>\n",
       "<style scoped>\n",
       "    .dataframe tbody tr th:only-of-type {\n",
       "        vertical-align: middle;\n",
       "    }\n",
       "\n",
       "    .dataframe tbody tr th {\n",
       "        vertical-align: top;\n",
       "    }\n",
       "\n",
       "    .dataframe thead th {\n",
       "        text-align: right;\n",
       "    }\n",
       "</style>\n",
       "<table border=\"1\" class=\"dataframe\">\n",
       "  <thead>\n",
       "    <tr style=\"text-align: right;\">\n",
       "      <th></th>\n",
       "      <th>name</th>\n",
       "      <th>platform</th>\n",
       "      <th>year_of_release</th>\n",
       "      <th>genre</th>\n",
       "      <th>na_sales</th>\n",
       "      <th>eu_sales</th>\n",
       "      <th>jp_sales</th>\n",
       "      <th>other_sales</th>\n",
       "      <th>critic_score</th>\n",
       "      <th>user_score</th>\n",
       "      <th>rating</th>\n",
       "    </tr>\n",
       "  </thead>\n",
       "  <tbody>\n",
       "  </tbody>\n",
       "</table>\n",
       "</div>"
      ],
      "text/plain": [
       "Empty DataFrame\n",
       "Columns: [name, platform, year_of_release, genre, na_sales, eu_sales, jp_sales, other_sales, critic_score, user_score, rating]\n",
       "Index: []"
      ]
     },
     "execution_count": 10,
     "metadata": {},
     "output_type": "execute_result"
    }
   ],
   "source": [
    "# Посмотрим на пропуски в столбце год выпуска (year_of_release), пропусков - 269\n",
    "games[games['year_of_release'].isnull()].head()\n",
    "# проверка\n",
    "games[games['name'].isnull()] "
   ]
  },
  {
   "cell_type": "markdown",
   "metadata": {},
   "source": [
    "Всего пропусков - 269 из 16175 строк, что составляет менее 2% от общего количества, данные пропуски также лучше удалить"
   ]
  },
  {
   "cell_type": "code",
   "execution_count": 11,
   "metadata": {},
   "outputs": [
    {
     "data": {
      "text/html": [
       "<div>\n",
       "<style scoped>\n",
       "    .dataframe tbody tr th:only-of-type {\n",
       "        vertical-align: middle;\n",
       "    }\n",
       "\n",
       "    .dataframe tbody tr th {\n",
       "        vertical-align: top;\n",
       "    }\n",
       "\n",
       "    .dataframe thead th {\n",
       "        text-align: right;\n",
       "    }\n",
       "</style>\n",
       "<table border=\"1\" class=\"dataframe\">\n",
       "  <thead>\n",
       "    <tr style=\"text-align: right;\">\n",
       "      <th></th>\n",
       "      <th>name</th>\n",
       "      <th>platform</th>\n",
       "      <th>year_of_release</th>\n",
       "      <th>genre</th>\n",
       "      <th>na_sales</th>\n",
       "      <th>eu_sales</th>\n",
       "      <th>jp_sales</th>\n",
       "      <th>other_sales</th>\n",
       "      <th>critic_score</th>\n",
       "      <th>user_score</th>\n",
       "      <th>rating</th>\n",
       "    </tr>\n",
       "  </thead>\n",
       "  <tbody>\n",
       "  </tbody>\n",
       "</table>\n",
       "</div>"
      ],
      "text/plain": [
       "Empty DataFrame\n",
       "Columns: [name, platform, year_of_release, genre, na_sales, eu_sales, jp_sales, other_sales, critic_score, user_score, rating]\n",
       "Index: []"
      ]
     },
     "execution_count": 11,
     "metadata": {},
     "output_type": "execute_result"
    }
   ],
   "source": [
    "games = games.dropna(subset = ['year_of_release'])\n",
    "# проверка\n",
    "games[games['year_of_release'].isnull()]"
   ]
  },
  {
   "cell_type": "markdown",
   "metadata": {},
   "source": [
    "<div class=\"alert alert-warning\">\n",
    "    <h2> Комментарий ревьюера v1 <a class=\"tocSkip\"> </h2>\n",
    "    \n",
    "<b>Небольшие замечания и рекомендации💡:</b> Окей, только не забывай сбрасывать индексы (можно сделать в конце предобработки)"
   ]
  },
  {
   "cell_type": "code",
   "execution_count": 12,
   "metadata": {},
   "outputs": [
    {
     "data": {
      "text/html": [
       "<div>\n",
       "<style scoped>\n",
       "    .dataframe tbody tr th:only-of-type {\n",
       "        vertical-align: middle;\n",
       "    }\n",
       "\n",
       "    .dataframe tbody tr th {\n",
       "        vertical-align: top;\n",
       "    }\n",
       "\n",
       "    .dataframe thead th {\n",
       "        text-align: right;\n",
       "    }\n",
       "</style>\n",
       "<table border=\"1\" class=\"dataframe\">\n",
       "  <thead>\n",
       "    <tr style=\"text-align: right;\">\n",
       "      <th></th>\n",
       "      <th>name</th>\n",
       "      <th>platform</th>\n",
       "      <th>year_of_release</th>\n",
       "      <th>genre</th>\n",
       "      <th>na_sales</th>\n",
       "      <th>eu_sales</th>\n",
       "      <th>jp_sales</th>\n",
       "      <th>other_sales</th>\n",
       "      <th>critic_score</th>\n",
       "      <th>user_score</th>\n",
       "      <th>rating</th>\n",
       "    </tr>\n",
       "  </thead>\n",
       "  <tbody>\n",
       "    <tr>\n",
       "      <th>1</th>\n",
       "      <td>Super Mario Bros.</td>\n",
       "      <td>NES</td>\n",
       "      <td>1985.0</td>\n",
       "      <td>Platform</td>\n",
       "      <td>29.08</td>\n",
       "      <td>3.58</td>\n",
       "      <td>6.81</td>\n",
       "      <td>0.77</td>\n",
       "      <td>NaN</td>\n",
       "      <td>NaN</td>\n",
       "      <td>NaN</td>\n",
       "    </tr>\n",
       "    <tr>\n",
       "      <th>4</th>\n",
       "      <td>Pokemon Red/Pokemon Blue</td>\n",
       "      <td>GB</td>\n",
       "      <td>1996.0</td>\n",
       "      <td>Role-Playing</td>\n",
       "      <td>11.27</td>\n",
       "      <td>8.89</td>\n",
       "      <td>10.22</td>\n",
       "      <td>1.00</td>\n",
       "      <td>NaN</td>\n",
       "      <td>NaN</td>\n",
       "      <td>NaN</td>\n",
       "    </tr>\n",
       "    <tr>\n",
       "      <th>5</th>\n",
       "      <td>Tetris</td>\n",
       "      <td>GB</td>\n",
       "      <td>1989.0</td>\n",
       "      <td>Puzzle</td>\n",
       "      <td>23.20</td>\n",
       "      <td>2.26</td>\n",
       "      <td>4.22</td>\n",
       "      <td>0.58</td>\n",
       "      <td>NaN</td>\n",
       "      <td>NaN</td>\n",
       "      <td>NaN</td>\n",
       "    </tr>\n",
       "    <tr>\n",
       "      <th>9</th>\n",
       "      <td>Duck Hunt</td>\n",
       "      <td>NES</td>\n",
       "      <td>1984.0</td>\n",
       "      <td>Shooter</td>\n",
       "      <td>26.93</td>\n",
       "      <td>0.63</td>\n",
       "      <td>0.28</td>\n",
       "      <td>0.47</td>\n",
       "      <td>NaN</td>\n",
       "      <td>NaN</td>\n",
       "      <td>NaN</td>\n",
       "    </tr>\n",
       "    <tr>\n",
       "      <th>10</th>\n",
       "      <td>Nintendogs</td>\n",
       "      <td>DS</td>\n",
       "      <td>2005.0</td>\n",
       "      <td>Simulation</td>\n",
       "      <td>9.05</td>\n",
       "      <td>10.95</td>\n",
       "      <td>1.93</td>\n",
       "      <td>2.74</td>\n",
       "      <td>NaN</td>\n",
       "      <td>NaN</td>\n",
       "      <td>NaN</td>\n",
       "    </tr>\n",
       "  </tbody>\n",
       "</table>\n",
       "</div>"
      ],
      "text/plain": [
       "                        name platform  year_of_release         genre  \\\n",
       "1          Super Mario Bros.      NES           1985.0      Platform   \n",
       "4   Pokemon Red/Pokemon Blue       GB           1996.0  Role-Playing   \n",
       "5                     Tetris       GB           1989.0        Puzzle   \n",
       "9                  Duck Hunt      NES           1984.0       Shooter   \n",
       "10                Nintendogs       DS           2005.0    Simulation   \n",
       "\n",
       "    na_sales  eu_sales  jp_sales  other_sales  critic_score user_score rating  \n",
       "1      29.08      3.58      6.81         0.77           NaN        NaN    NaN  \n",
       "4      11.27      8.89     10.22         1.00           NaN        NaN    NaN  \n",
       "5      23.20      2.26      4.22         0.58           NaN        NaN    NaN  \n",
       "9      26.93      0.63      0.28         0.47           NaN        NaN    NaN  \n",
       "10      9.05     10.95      1.93         2.74           NaN        NaN    NaN  "
      ]
     },
     "execution_count": 12,
     "metadata": {},
     "output_type": "execute_result"
    }
   ],
   "source": [
    "# Посмотрим на пропуски в столбце rating\n",
    "games[games['rating'].isnull()].head()"
   ]
  },
  {
   "cell_type": "markdown",
   "metadata": {},
   "source": [
    "В большинстве случаев, пропущены одновременно и рейтинг, оценка критиков и оценка пользователей. Пропусков слишком много, удалить их нельзя."
   ]
  },
  {
   "cell_type": "code",
   "execution_count": 13,
   "metadata": {},
   "outputs": [
    {
     "data": {
      "text/plain": [
       "Unknown    6676\n",
       "E          3921\n",
       "T          2905\n",
       "M          1536\n",
       "E10+       1393\n",
       "EC            8\n",
       "K-A           3\n",
       "RP            1\n",
       "AO            1\n",
       "Name: rating, dtype: int64"
      ]
     },
     "execution_count": 13,
     "metadata": {},
     "output_type": "execute_result"
    }
   ],
   "source": [
    "# заменим пропуски на Unknown\n",
    "games['rating'] = games['rating'].fillna('Unknown')\n",
    "games['rating'].value_counts()"
   ]
  },
  {
   "cell_type": "markdown",
   "metadata": {},
   "source": [
    "4 вида рейтинга встречаются часто: Е, Т, М и Е10+, а 4 встречаются очень редко. Их можно заменить:\n",
    "\n",
    "* АО - заменить на М;\n",
    "* RP - заменить на Unknown;\n",
    "* ЕС - заменить на Е;\n",
    "* К-А - заменить на Е."
   ]
  },
  {
   "cell_type": "code",
   "execution_count": 14,
   "metadata": {},
   "outputs": [],
   "source": [
    "games.loc[games['rating'] == 'AO', 'rating'] = 'M'\n",
    "games.loc[games['rating'] == 'RP', 'rating'] = 'Unknown'\n",
    "games.loc[games['rating'].isin(['EC', 'K-A']), 'rating'] = 'E'"
   ]
  },
  {
   "cell_type": "code",
   "execution_count": 15,
   "metadata": {
    "scrolled": true
   },
   "outputs": [
    {
     "data": {
      "text/plain": [
       "Unknown    6677\n",
       "E          3932\n",
       "T          2905\n",
       "M          1537\n",
       "E10+       1393\n",
       "Name: rating, dtype: int64"
      ]
     },
     "execution_count": 15,
     "metadata": {},
     "output_type": "execute_result"
    }
   ],
   "source": [
    "# проверка\n",
    "games['rating'].value_counts()"
   ]
  },
  {
   "cell_type": "markdown",
   "metadata": {},
   "source": [
    "<div class=\"alert alert-success\">\n",
    "<h2> Комментарий ревьюера v1 <a class=\"tocSkip\"> </h2>\n",
    "\n",
    "<b>Все супер!👍:</b> Хорошо)"
   ]
  },
  {
   "cell_type": "code",
   "execution_count": 16,
   "metadata": {},
   "outputs": [
    {
     "data": {
      "text/html": [
       "<div>\n",
       "<style scoped>\n",
       "    .dataframe tbody tr th:only-of-type {\n",
       "        vertical-align: middle;\n",
       "    }\n",
       "\n",
       "    .dataframe tbody tr th {\n",
       "        vertical-align: top;\n",
       "    }\n",
       "\n",
       "    .dataframe thead th {\n",
       "        text-align: right;\n",
       "    }\n",
       "</style>\n",
       "<table border=\"1\" class=\"dataframe\">\n",
       "  <thead>\n",
       "    <tr style=\"text-align: right;\">\n",
       "      <th></th>\n",
       "      <th>name</th>\n",
       "      <th>platform</th>\n",
       "      <th>year_of_release</th>\n",
       "      <th>genre</th>\n",
       "      <th>na_sales</th>\n",
       "      <th>eu_sales</th>\n",
       "      <th>jp_sales</th>\n",
       "      <th>other_sales</th>\n",
       "      <th>critic_score</th>\n",
       "      <th>user_score</th>\n",
       "      <th>rating</th>\n",
       "    </tr>\n",
       "  </thead>\n",
       "  <tbody>\n",
       "    <tr>\n",
       "      <th>1</th>\n",
       "      <td>Super Mario Bros.</td>\n",
       "      <td>NES</td>\n",
       "      <td>1985.0</td>\n",
       "      <td>Platform</td>\n",
       "      <td>29.08</td>\n",
       "      <td>3.58</td>\n",
       "      <td>6.81</td>\n",
       "      <td>0.77</td>\n",
       "      <td>NaN</td>\n",
       "      <td>NaN</td>\n",
       "      <td>Unknown</td>\n",
       "    </tr>\n",
       "    <tr>\n",
       "      <th>4</th>\n",
       "      <td>Pokemon Red/Pokemon Blue</td>\n",
       "      <td>GB</td>\n",
       "      <td>1996.0</td>\n",
       "      <td>Role-Playing</td>\n",
       "      <td>11.27</td>\n",
       "      <td>8.89</td>\n",
       "      <td>10.22</td>\n",
       "      <td>1.00</td>\n",
       "      <td>NaN</td>\n",
       "      <td>NaN</td>\n",
       "      <td>Unknown</td>\n",
       "    </tr>\n",
       "    <tr>\n",
       "      <th>5</th>\n",
       "      <td>Tetris</td>\n",
       "      <td>GB</td>\n",
       "      <td>1989.0</td>\n",
       "      <td>Puzzle</td>\n",
       "      <td>23.20</td>\n",
       "      <td>2.26</td>\n",
       "      <td>4.22</td>\n",
       "      <td>0.58</td>\n",
       "      <td>NaN</td>\n",
       "      <td>NaN</td>\n",
       "      <td>Unknown</td>\n",
       "    </tr>\n",
       "    <tr>\n",
       "      <th>9</th>\n",
       "      <td>Duck Hunt</td>\n",
       "      <td>NES</td>\n",
       "      <td>1984.0</td>\n",
       "      <td>Shooter</td>\n",
       "      <td>26.93</td>\n",
       "      <td>0.63</td>\n",
       "      <td>0.28</td>\n",
       "      <td>0.47</td>\n",
       "      <td>NaN</td>\n",
       "      <td>NaN</td>\n",
       "      <td>Unknown</td>\n",
       "    </tr>\n",
       "    <tr>\n",
       "      <th>10</th>\n",
       "      <td>Nintendogs</td>\n",
       "      <td>DS</td>\n",
       "      <td>2005.0</td>\n",
       "      <td>Simulation</td>\n",
       "      <td>9.05</td>\n",
       "      <td>10.95</td>\n",
       "      <td>1.93</td>\n",
       "      <td>2.74</td>\n",
       "      <td>NaN</td>\n",
       "      <td>NaN</td>\n",
       "      <td>Unknown</td>\n",
       "    </tr>\n",
       "  </tbody>\n",
       "</table>\n",
       "</div>"
      ],
      "text/plain": [
       "                        name platform  year_of_release         genre  \\\n",
       "1          Super Mario Bros.      NES           1985.0      Platform   \n",
       "4   Pokemon Red/Pokemon Blue       GB           1996.0  Role-Playing   \n",
       "5                     Tetris       GB           1989.0        Puzzle   \n",
       "9                  Duck Hunt      NES           1984.0       Shooter   \n",
       "10                Nintendogs       DS           2005.0    Simulation   \n",
       "\n",
       "    na_sales  eu_sales  jp_sales  other_sales  critic_score user_score  \\\n",
       "1      29.08      3.58      6.81         0.77           NaN        NaN   \n",
       "4      11.27      8.89     10.22         1.00           NaN        NaN   \n",
       "5      23.20      2.26      4.22         0.58           NaN        NaN   \n",
       "9      26.93      0.63      0.28         0.47           NaN        NaN   \n",
       "10      9.05     10.95      1.93         2.74           NaN        NaN   \n",
       "\n",
       "     rating  \n",
       "1   Unknown  \n",
       "4   Unknown  \n",
       "5   Unknown  \n",
       "9   Unknown  \n",
       "10  Unknown  "
      ]
     },
     "execution_count": 16,
     "metadata": {},
     "output_type": "execute_result"
    }
   ],
   "source": [
    "# Посмотрим на пропуски в столбце critic_score\n",
    "games[games['critic_score'].isnull()].head()"
   ]
  },
  {
   "cell_type": "markdown",
   "metadata": {},
   "source": [
    "Пропусков слишком много из общего количества строк, удалить их нельзя."
   ]
  },
  {
   "cell_type": "code",
   "execution_count": 17,
   "metadata": {
    "scrolled": true
   },
   "outputs": [
    {
     "data": {
      "text/plain": [
       "-10.0    8461\n",
       " 70.0     252\n",
       " 71.0     248\n",
       " 75.0     240\n",
       " 80.0     235\n",
       "         ... \n",
       " 20.0       3\n",
       " 29.0       3\n",
       " 13.0       1\n",
       " 17.0       1\n",
       " 21.0       1\n",
       "Name: critic_score, Length: 82, dtype: int64"
      ]
     },
     "execution_count": 17,
     "metadata": {},
     "output_type": "execute_result"
    }
   ],
   "source": [
    "# заменим пропуски на значение-заглушку -10\n",
    "games['critic_score'] = games['critic_score'].fillna(-10)\n",
    "# преобразуем столбец к целочисленному значению\n",
    "games['critic_score'] = games['critic_score'].astype('float')\n",
    "games['critic_score'].value_counts()"
   ]
  },
  {
   "cell_type": "markdown",
   "metadata": {},
   "source": [
    "<div class=\"alert alert-success\">\n",
    "<h2> Комментарий ревьюера v1 <a class=\"tocSkip\"> </h2>\n",
    "\n",
    "<b>Все супер!👍:</b> Окей"
   ]
  },
  {
   "cell_type": "code",
   "execution_count": 18,
   "metadata": {},
   "outputs": [
    {
     "data": {
      "text/html": [
       "<div>\n",
       "<style scoped>\n",
       "    .dataframe tbody tr th:only-of-type {\n",
       "        vertical-align: middle;\n",
       "    }\n",
       "\n",
       "    .dataframe tbody tr th {\n",
       "        vertical-align: top;\n",
       "    }\n",
       "\n",
       "    .dataframe thead th {\n",
       "        text-align: right;\n",
       "    }\n",
       "</style>\n",
       "<table border=\"1\" class=\"dataframe\">\n",
       "  <thead>\n",
       "    <tr style=\"text-align: right;\">\n",
       "      <th></th>\n",
       "      <th>name</th>\n",
       "      <th>platform</th>\n",
       "      <th>year_of_release</th>\n",
       "      <th>genre</th>\n",
       "      <th>na_sales</th>\n",
       "      <th>eu_sales</th>\n",
       "      <th>jp_sales</th>\n",
       "      <th>other_sales</th>\n",
       "      <th>critic_score</th>\n",
       "      <th>user_score</th>\n",
       "      <th>rating</th>\n",
       "    </tr>\n",
       "  </thead>\n",
       "  <tbody>\n",
       "    <tr>\n",
       "      <th>1</th>\n",
       "      <td>Super Mario Bros.</td>\n",
       "      <td>NES</td>\n",
       "      <td>1985.0</td>\n",
       "      <td>Platform</td>\n",
       "      <td>29.08</td>\n",
       "      <td>3.58</td>\n",
       "      <td>6.81</td>\n",
       "      <td>0.77</td>\n",
       "      <td>-10.0</td>\n",
       "      <td>NaN</td>\n",
       "      <td>Unknown</td>\n",
       "    </tr>\n",
       "    <tr>\n",
       "      <th>4</th>\n",
       "      <td>Pokemon Red/Pokemon Blue</td>\n",
       "      <td>GB</td>\n",
       "      <td>1996.0</td>\n",
       "      <td>Role-Playing</td>\n",
       "      <td>11.27</td>\n",
       "      <td>8.89</td>\n",
       "      <td>10.22</td>\n",
       "      <td>1.00</td>\n",
       "      <td>-10.0</td>\n",
       "      <td>NaN</td>\n",
       "      <td>Unknown</td>\n",
       "    </tr>\n",
       "    <tr>\n",
       "      <th>5</th>\n",
       "      <td>Tetris</td>\n",
       "      <td>GB</td>\n",
       "      <td>1989.0</td>\n",
       "      <td>Puzzle</td>\n",
       "      <td>23.20</td>\n",
       "      <td>2.26</td>\n",
       "      <td>4.22</td>\n",
       "      <td>0.58</td>\n",
       "      <td>-10.0</td>\n",
       "      <td>NaN</td>\n",
       "      <td>Unknown</td>\n",
       "    </tr>\n",
       "    <tr>\n",
       "      <th>9</th>\n",
       "      <td>Duck Hunt</td>\n",
       "      <td>NES</td>\n",
       "      <td>1984.0</td>\n",
       "      <td>Shooter</td>\n",
       "      <td>26.93</td>\n",
       "      <td>0.63</td>\n",
       "      <td>0.28</td>\n",
       "      <td>0.47</td>\n",
       "      <td>-10.0</td>\n",
       "      <td>NaN</td>\n",
       "      <td>Unknown</td>\n",
       "    </tr>\n",
       "    <tr>\n",
       "      <th>10</th>\n",
       "      <td>Nintendogs</td>\n",
       "      <td>DS</td>\n",
       "      <td>2005.0</td>\n",
       "      <td>Simulation</td>\n",
       "      <td>9.05</td>\n",
       "      <td>10.95</td>\n",
       "      <td>1.93</td>\n",
       "      <td>2.74</td>\n",
       "      <td>-10.0</td>\n",
       "      <td>NaN</td>\n",
       "      <td>Unknown</td>\n",
       "    </tr>\n",
       "  </tbody>\n",
       "</table>\n",
       "</div>"
      ],
      "text/plain": [
       "                        name platform  year_of_release         genre  \\\n",
       "1          Super Mario Bros.      NES           1985.0      Platform   \n",
       "4   Pokemon Red/Pokemon Blue       GB           1996.0  Role-Playing   \n",
       "5                     Tetris       GB           1989.0        Puzzle   \n",
       "9                  Duck Hunt      NES           1984.0       Shooter   \n",
       "10                Nintendogs       DS           2005.0    Simulation   \n",
       "\n",
       "    na_sales  eu_sales  jp_sales  other_sales  critic_score user_score  \\\n",
       "1      29.08      3.58      6.81         0.77         -10.0        NaN   \n",
       "4      11.27      8.89     10.22         1.00         -10.0        NaN   \n",
       "5      23.20      2.26      4.22         0.58         -10.0        NaN   \n",
       "9      26.93      0.63      0.28         0.47         -10.0        NaN   \n",
       "10      9.05     10.95      1.93         2.74         -10.0        NaN   \n",
       "\n",
       "     rating  \n",
       "1   Unknown  \n",
       "4   Unknown  \n",
       "5   Unknown  \n",
       "9   Unknown  \n",
       "10  Unknown  "
      ]
     },
     "execution_count": 18,
     "metadata": {},
     "output_type": "execute_result"
    }
   ],
   "source": [
    "# Посмотрим на пропуски в столбце user_score\n",
    "games[games['user_score'].isnull()].head()"
   ]
  },
  {
   "cell_type": "markdown",
   "metadata": {},
   "source": [
    "Пропусков слишком много из общего количества строк, удалить их нельзя. Также посмотрим на аббревиатуру 'tbd'."
   ]
  },
  {
   "cell_type": "code",
   "execution_count": 19,
   "metadata": {},
   "outputs": [
    {
     "data": {
      "text/html": [
       "<div>\n",
       "<style scoped>\n",
       "    .dataframe tbody tr th:only-of-type {\n",
       "        vertical-align: middle;\n",
       "    }\n",
       "\n",
       "    .dataframe tbody tr th {\n",
       "        vertical-align: top;\n",
       "    }\n",
       "\n",
       "    .dataframe thead th {\n",
       "        text-align: right;\n",
       "    }\n",
       "</style>\n",
       "<table border=\"1\" class=\"dataframe\">\n",
       "  <thead>\n",
       "    <tr style=\"text-align: right;\">\n",
       "      <th></th>\n",
       "      <th>name</th>\n",
       "      <th>platform</th>\n",
       "      <th>year_of_release</th>\n",
       "      <th>genre</th>\n",
       "      <th>na_sales</th>\n",
       "      <th>eu_sales</th>\n",
       "      <th>jp_sales</th>\n",
       "      <th>other_sales</th>\n",
       "      <th>critic_score</th>\n",
       "      <th>user_score</th>\n",
       "      <th>rating</th>\n",
       "    </tr>\n",
       "  </thead>\n",
       "  <tbody>\n",
       "    <tr>\n",
       "      <th>119</th>\n",
       "      <td>Zumba Fitness</td>\n",
       "      <td>Wii</td>\n",
       "      <td>2010.0</td>\n",
       "      <td>Sports</td>\n",
       "      <td>3.45</td>\n",
       "      <td>2.59</td>\n",
       "      <td>0.0</td>\n",
       "      <td>0.66</td>\n",
       "      <td>-10.0</td>\n",
       "      <td>tbd</td>\n",
       "      <td>E</td>\n",
       "    </tr>\n",
       "    <tr>\n",
       "      <th>301</th>\n",
       "      <td>Namco Museum: 50th Anniversary</td>\n",
       "      <td>PS2</td>\n",
       "      <td>2005.0</td>\n",
       "      <td>Misc</td>\n",
       "      <td>2.08</td>\n",
       "      <td>1.35</td>\n",
       "      <td>0.0</td>\n",
       "      <td>0.54</td>\n",
       "      <td>61.0</td>\n",
       "      <td>tbd</td>\n",
       "      <td>E10+</td>\n",
       "    </tr>\n",
       "    <tr>\n",
       "      <th>520</th>\n",
       "      <td>Zumba Fitness 2</td>\n",
       "      <td>Wii</td>\n",
       "      <td>2011.0</td>\n",
       "      <td>Sports</td>\n",
       "      <td>1.51</td>\n",
       "      <td>1.03</td>\n",
       "      <td>0.0</td>\n",
       "      <td>0.27</td>\n",
       "      <td>-10.0</td>\n",
       "      <td>tbd</td>\n",
       "      <td>T</td>\n",
       "    </tr>\n",
       "    <tr>\n",
       "      <th>645</th>\n",
       "      <td>uDraw Studio</td>\n",
       "      <td>Wii</td>\n",
       "      <td>2010.0</td>\n",
       "      <td>Misc</td>\n",
       "      <td>1.65</td>\n",
       "      <td>0.57</td>\n",
       "      <td>0.0</td>\n",
       "      <td>0.20</td>\n",
       "      <td>71.0</td>\n",
       "      <td>tbd</td>\n",
       "      <td>E</td>\n",
       "    </tr>\n",
       "    <tr>\n",
       "      <th>718</th>\n",
       "      <td>Just Dance Kids</td>\n",
       "      <td>Wii</td>\n",
       "      <td>2010.0</td>\n",
       "      <td>Misc</td>\n",
       "      <td>1.52</td>\n",
       "      <td>0.54</td>\n",
       "      <td>0.0</td>\n",
       "      <td>0.18</td>\n",
       "      <td>-10.0</td>\n",
       "      <td>tbd</td>\n",
       "      <td>E</td>\n",
       "    </tr>\n",
       "  </tbody>\n",
       "</table>\n",
       "</div>"
      ],
      "text/plain": [
       "                               name platform  year_of_release   genre  \\\n",
       "119                   Zumba Fitness      Wii           2010.0  Sports   \n",
       "301  Namco Museum: 50th Anniversary      PS2           2005.0    Misc   \n",
       "520                 Zumba Fitness 2      Wii           2011.0  Sports   \n",
       "645                    uDraw Studio      Wii           2010.0    Misc   \n",
       "718                 Just Dance Kids      Wii           2010.0    Misc   \n",
       "\n",
       "     na_sales  eu_sales  jp_sales  other_sales  critic_score user_score rating  \n",
       "119      3.45      2.59       0.0         0.66         -10.0        tbd      E  \n",
       "301      2.08      1.35       0.0         0.54          61.0        tbd   E10+  \n",
       "520      1.51      1.03       0.0         0.27         -10.0        tbd      T  \n",
       "645      1.65      0.57       0.0         0.20          71.0        tbd      E  \n",
       "718      1.52      0.54       0.0         0.18         -10.0        tbd      E  "
      ]
     },
     "execution_count": 19,
     "metadata": {},
     "output_type": "execute_result"
    }
   ],
   "source": [
    "games[games['user_score'] == 'tbd'].head()"
   ]
  },
  {
   "cell_type": "code",
   "execution_count": 20,
   "metadata": {},
   "outputs": [
    {
     "data": {
      "text/plain": [
       "0.14449039163220628"
      ]
     },
     "execution_count": 20,
     "metadata": {},
     "output_type": "execute_result"
    }
   ],
   "source": [
    "# процент строк с аббревиатурой 'tbd'.\n",
    "len(games[games['user_score'] == 'tbd'])/len(games)"
   ]
  },
  {
   "cell_type": "markdown",
   "metadata": {},
   "source": [
    "Аббревиатура 'tbd' практически ничем не отличается от пропуска, при этом таких значений - 14,5%. Заменим указанные значения на значение-заглушку, например отрицательное число (-10)."
   ]
  },
  {
   "cell_type": "code",
   "execution_count": 21,
   "metadata": {
    "scrolled": true
   },
   "outputs": [
    {
     "data": {
      "text/plain": [
       "array([  8. , -10. ,   8.3,   8.5,   6.6,   8.4,   8.6,   7.7,   6.3,\n",
       "         7.4,   8.2,   9. ,   7.9,   8.1,   8.7,   7.1,   3.4,   5.3,\n",
       "         4.8,   3.2,   8.9,   6.4,   7.8,   7.5,   2.6,   7.2,   9.2,\n",
       "         7. ,   7.3,   4.3,   7.6,   5.7,   5. ,   9.1,   6.5,   8.8,\n",
       "         6.9,   9.4,   6.8,   6.1,   6.7,   5.4,   4. ,   4.9,   4.5,\n",
       "         9.3,   6.2,   4.2,   6. ,   3.7,   4.1,   5.8,   5.6,   5.5,\n",
       "         4.4,   4.6,   5.9,   3.9,   3.1,   2.9,   5.2,   3.3,   4.7,\n",
       "         5.1,   3.5,   2.5,   1.9,   3. ,   2.7,   2.2,   2. ,   9.5,\n",
       "         2.1,   3.6,   2.8,   1.8,   3.8,   0. ,   1.6,   9.6,   2.4,\n",
       "         1.7,   1.1,   0.3,   1.5,   0.7,   1.2,   2.3,   0.5,   1.3,\n",
       "         0.2,   0.6,   1.4,   0.9,   1. ,   9.7])"
      ]
     },
     "execution_count": 21,
     "metadata": {},
     "output_type": "execute_result"
    }
   ],
   "source": [
    "# games['user_score'].unique()\n",
    "games['user_score'] = games['user_score'].replace('tbd', np.NaN)\n",
    "# также заменим значения NaN на -10\n",
    "games['user_score'] = games['user_score'].replace(np.NaN, -10)\n",
    "# преобразуем данный столбец к целочисленному значению\n",
    "games['user_score'] = games['user_score'].astype('float')\n",
    "games['user_score'].unique()"
   ]
  },
  {
   "cell_type": "markdown",
   "metadata": {},
   "source": [
    "<div class=\"alert alert-success\">\n",
    "<h2> Комментарий ревьюера v1 <a class=\"tocSkip\"> </h2>\n",
    "\n",
    "<b>Все супер!👍:</b>Молодец)"
   ]
  },
  {
   "cell_type": "code",
   "execution_count": 22,
   "metadata": {},
   "outputs": [],
   "source": [
    "# приведем типы данных столбца year_of_release на целочисленный\n",
    "games['year_of_release'] = games['year_of_release'].astype('int')"
   ]
  },
  {
   "cell_type": "markdown",
   "metadata": {},
   "source": [
    "<div class=\"alert alert-success\">\n",
    "<h2> Комментарий ревьюера v1 <a class=\"tocSkip\"> </h2>\n",
    "\n",
    "<b>Все супер!👍:</b> Окей"
   ]
  },
  {
   "cell_type": "code",
   "execution_count": 23,
   "metadata": {},
   "outputs": [],
   "source": [
    "# посчитаем суммарные продажи во всех регионах и запишим их в отдельный столбец\n",
    "games['total_sales'] = games['na_sales'] + games['eu_sales'] + games['jp_sales'] + games['other_sales']"
   ]
  },
  {
   "cell_type": "code",
   "execution_count": 24,
   "metadata": {
    "scrolled": true
   },
   "outputs": [
    {
     "data": {
      "text/html": [
       "<div>\n",
       "<style scoped>\n",
       "    .dataframe tbody tr th:only-of-type {\n",
       "        vertical-align: middle;\n",
       "    }\n",
       "\n",
       "    .dataframe tbody tr th {\n",
       "        vertical-align: top;\n",
       "    }\n",
       "\n",
       "    .dataframe thead th {\n",
       "        text-align: right;\n",
       "    }\n",
       "</style>\n",
       "<table border=\"1\" class=\"dataframe\">\n",
       "  <thead>\n",
       "    <tr style=\"text-align: right;\">\n",
       "      <th></th>\n",
       "      <th>name</th>\n",
       "      <th>platform</th>\n",
       "      <th>year_of_release</th>\n",
       "      <th>genre</th>\n",
       "      <th>na_sales</th>\n",
       "      <th>eu_sales</th>\n",
       "      <th>jp_sales</th>\n",
       "      <th>other_sales</th>\n",
       "      <th>critic_score</th>\n",
       "      <th>user_score</th>\n",
       "      <th>rating</th>\n",
       "      <th>total_sales</th>\n",
       "    </tr>\n",
       "  </thead>\n",
       "  <tbody>\n",
       "    <tr>\n",
       "      <th>0</th>\n",
       "      <td>Wii Sports</td>\n",
       "      <td>Wii</td>\n",
       "      <td>2006</td>\n",
       "      <td>Sports</td>\n",
       "      <td>41.36</td>\n",
       "      <td>28.96</td>\n",
       "      <td>3.77</td>\n",
       "      <td>8.45</td>\n",
       "      <td>76.0</td>\n",
       "      <td>8.0</td>\n",
       "      <td>E</td>\n",
       "      <td>82.54</td>\n",
       "    </tr>\n",
       "    <tr>\n",
       "      <th>1</th>\n",
       "      <td>Super Mario Bros.</td>\n",
       "      <td>NES</td>\n",
       "      <td>1985</td>\n",
       "      <td>Platform</td>\n",
       "      <td>29.08</td>\n",
       "      <td>3.58</td>\n",
       "      <td>6.81</td>\n",
       "      <td>0.77</td>\n",
       "      <td>-10.0</td>\n",
       "      <td>-10.0</td>\n",
       "      <td>Unknown</td>\n",
       "      <td>40.24</td>\n",
       "    </tr>\n",
       "    <tr>\n",
       "      <th>2</th>\n",
       "      <td>Mario Kart Wii</td>\n",
       "      <td>Wii</td>\n",
       "      <td>2008</td>\n",
       "      <td>Racing</td>\n",
       "      <td>15.68</td>\n",
       "      <td>12.76</td>\n",
       "      <td>3.79</td>\n",
       "      <td>3.29</td>\n",
       "      <td>82.0</td>\n",
       "      <td>8.3</td>\n",
       "      <td>E</td>\n",
       "      <td>35.52</td>\n",
       "    </tr>\n",
       "    <tr>\n",
       "      <th>3</th>\n",
       "      <td>Wii Sports Resort</td>\n",
       "      <td>Wii</td>\n",
       "      <td>2009</td>\n",
       "      <td>Sports</td>\n",
       "      <td>15.61</td>\n",
       "      <td>10.93</td>\n",
       "      <td>3.28</td>\n",
       "      <td>2.95</td>\n",
       "      <td>80.0</td>\n",
       "      <td>8.0</td>\n",
       "      <td>E</td>\n",
       "      <td>32.77</td>\n",
       "    </tr>\n",
       "    <tr>\n",
       "      <th>4</th>\n",
       "      <td>Pokemon Red/Pokemon Blue</td>\n",
       "      <td>GB</td>\n",
       "      <td>1996</td>\n",
       "      <td>Role-Playing</td>\n",
       "      <td>11.27</td>\n",
       "      <td>8.89</td>\n",
       "      <td>10.22</td>\n",
       "      <td>1.00</td>\n",
       "      <td>-10.0</td>\n",
       "      <td>-10.0</td>\n",
       "      <td>Unknown</td>\n",
       "      <td>31.38</td>\n",
       "    </tr>\n",
       "  </tbody>\n",
       "</table>\n",
       "</div>"
      ],
      "text/plain": [
       "                       name platform  year_of_release         genre  na_sales  \\\n",
       "0                Wii Sports      Wii             2006        Sports     41.36   \n",
       "1         Super Mario Bros.      NES             1985      Platform     29.08   \n",
       "2            Mario Kart Wii      Wii             2008        Racing     15.68   \n",
       "3         Wii Sports Resort      Wii             2009        Sports     15.61   \n",
       "4  Pokemon Red/Pokemon Blue       GB             1996  Role-Playing     11.27   \n",
       "\n",
       "   eu_sales  jp_sales  other_sales  critic_score  user_score   rating  \\\n",
       "0     28.96      3.77         8.45          76.0         8.0        E   \n",
       "1      3.58      6.81         0.77         -10.0       -10.0  Unknown   \n",
       "2     12.76      3.79         3.29          82.0         8.3        E   \n",
       "3     10.93      3.28         2.95          80.0         8.0        E   \n",
       "4      8.89     10.22         1.00         -10.0       -10.0  Unknown   \n",
       "\n",
       "   total_sales  \n",
       "0        82.54  \n",
       "1        40.24  \n",
       "2        35.52  \n",
       "3        32.77  \n",
       "4        31.38  "
      ]
     },
     "execution_count": 24,
     "metadata": {},
     "output_type": "execute_result"
    }
   ],
   "source": [
    "games.head()"
   ]
  },
  {
   "cell_type": "markdown",
   "metadata": {},
   "source": [
    "<div class=\"alert alert-success\">\n",
    "<h2> Комментарий ревьюера <a class=\"tocSkip\"> </h2>\n",
    "\n",
    "<b>Все супер!👍:</b> Столбец добавлен верно, но для подсчета суммарных продаж рекомендую использовать следующую конструкцию \n",
    "    \n",
    "    \n",
    "    games[['na_sales','eu_sales','jp_sales', 'other_sales']].sum(axis = 1)"
   ]
  },
  {
   "cell_type": "code",
   "execution_count": 25,
   "metadata": {},
   "outputs": [
    {
     "name": "stdout",
     "output_type": "stream",
     "text": [
      "<class 'pandas.core.frame.DataFrame'>\n",
      "Int64Index: 16444 entries, 0 to 16714\n",
      "Data columns (total 12 columns):\n",
      " #   Column           Non-Null Count  Dtype  \n",
      "---  ------           --------------  -----  \n",
      " 0   name             16444 non-null  object \n",
      " 1   platform         16444 non-null  object \n",
      " 2   year_of_release  16444 non-null  int64  \n",
      " 3   genre            16444 non-null  object \n",
      " 4   na_sales         16444 non-null  float64\n",
      " 5   eu_sales         16444 non-null  float64\n",
      " 6   jp_sales         16444 non-null  float64\n",
      " 7   other_sales      16444 non-null  float64\n",
      " 8   critic_score     16444 non-null  float64\n",
      " 9   user_score       16444 non-null  float64\n",
      " 10  rating           16444 non-null  object \n",
      " 11  total_sales      16444 non-null  float64\n",
      "dtypes: float64(7), int64(1), object(4)\n",
      "memory usage: 1.6+ MB\n"
     ]
    }
   ],
   "source": [
    "games.info()"
   ]
  },
  {
   "cell_type": "markdown",
   "metadata": {},
   "source": [
    "**Вывод:**\n",
    "Данные в датасетах преобразованы для дальнейшего использования, были обработаны пропуски, в некоторых случаях строки были удалены за ненадобностью, в некоторых пропуски были заменены на значение заглушку (-10), также были расчитаны суммарные продажи по регионам и записаны в отдельный столбец `total_sales`"
   ]
  },
  {
   "cell_type": "markdown",
   "metadata": {},
   "source": [
    "<div class=\"alert alert-success\">\n",
    "<h2> Комментарий ревьюера v1 <a class=\"tocSkip\"> </h2>\n",
    "\n",
    "<b>Все супер!👍:</b> Молодец)"
   ]
  },
  {
   "cell_type": "markdown",
   "metadata": {},
   "source": [
    "## Исследовательский анализ данных"
   ]
  },
  {
   "cell_type": "markdown",
   "metadata": {},
   "source": [
    "### Cколько игр выпускалось в разные годы. Важны ли данные за все периоды?"
   ]
  },
  {
   "cell_type": "code",
   "execution_count": 26,
   "metadata": {},
   "outputs": [
    {
     "data": {
      "text/plain": [
       "Text(0.5, 0, 'YEAR OF RELEASE')"
      ]
     },
     "execution_count": 26,
     "metadata": {},
     "output_type": "execute_result"
    },
    {
     "data": {
      "image/png": "[encoded data removed]",
      "text/plain": [
       "<Figure size 936x576 with 1 Axes>"
      ]
     },
     "metadata": {
      "needs_background": "light"
     },
     "output_type": "display_data"
    }
   ],
   "source": [
    "# Построим график зависимости количества игр от года выпуска\n",
    "platform_sales = games.pivot_table(index='year_of_release', values='total_sales', aggfunc='count').plot(grid=True, figsize=(13, 8))\n",
    "plt.ylabel('TOTAL SALES')\n",
    "plt.xlabel('YEAR OF RELEASE')"
   ]
  },
  {
   "cell_type": "markdown",
   "metadata": {},
   "source": [
    "**Вывод**\n",
    "\n",
    "Из графика можно предположить, что начиная с 2000 года начался рост количества игр, с 2002 по 2004 выявлен небольшой \"застой\", а затем резкий скачок до 2008-2009г, где наблюдался пик количества игр, затем наступил спад количества вплоть до 2016г. Таким образом, актуальными являются данные за прошедшие 10 лет, которые отражают как взлет, так и падение количества игр."
   ]
  },
  {
   "cell_type": "markdown",
   "metadata": {},
   "source": [
    "<div class=\"alert alert-warning\">\n",
    "    <h2> Комментарий ревьюера v1 <a class=\"tocSkip\"> </h2>\n",
    "    \n",
    "<b>Небольшие замечания и рекомендации💡:</b> Окей, но не забывай подписывать оси и названия заголовков у графиков "
   ]
  },
  {
   "cell_type": "markdown",
   "metadata": {},
   "source": [
    "<div class=\"alert alert-success\">\n",
    "<h2> Комментарий ревьюера v2 <a class=\"tocSkip\"> </h2>\n",
    "\n",
    "<b>Все супер!👍:</b> Хорошо)"
   ]
  },
  {
   "cell_type": "markdown",
   "metadata": {},
   "source": [
    "### Как менялись продажи по платформам."
   ]
  },
  {
   "cell_type": "markdown",
   "metadata": {},
   "source": [
    "Как менялись продажи по платформам. Выберите платформы с наибольшими суммарными продажами и постройте распределение по годам. За какой характерный срок появляются новые и исчезают старые платформы?"
   ]
  },
  {
   "cell_type": "code",
   "execution_count": 27,
   "metadata": {},
   "outputs": [
    {
     "data": {
      "text/plain": [
       "Text(0.5, 0, 'PLATFORM')"
      ]
     },
     "execution_count": 27,
     "metadata": {},
     "output_type": "execute_result"
    },
    {
     "data": {
      "image/png": "[encoded data removed]",
      "text/plain": [
       "<Figure size 432x288 with 1 Axes>"
      ]
     },
     "metadata": {
      "needs_background": "light"
     },
     "output_type": "display_data"
    }
   ],
   "source": [
    "# Построим график зависимости продаж по платформам\n",
    "platform_sales = games.pivot_table(index='platform', values='total_sales', aggfunc='sum').sort_values('total_sales', ascending=False).plot(kind='bar')\n",
    "plt.ylabel('TOTAL SALES')\n",
    "plt.xlabel('PLATFORM')"
   ]
  },
  {
   "cell_type": "markdown",
   "metadata": {},
   "source": [
    "Из данного графика можно выделить несколько платформ с наибольшими суммарными продажами, например, PS2, X360, PS3, Wii, DS, PS. Данные 6 платформ выделяются от всех остальных наибольшими суммарными продажами.\n",
    "\n",
    "Посмотрим, как менялись продажи по платформам с максимальным количеством продаж, построим распределение по годам."
   ]
  },
  {
   "cell_type": "markdown",
   "metadata": {},
   "source": [
    "<div class=\"alert alert-warning\">\n",
    "    <h2> Комментарий ревьюера v1 <a class=\"tocSkip\"> </h2>\n",
    "    \n",
    "<b>Небольшие замечания и рекомендации💡:</b> Топ платформ опредлен верно, но давай подпишем оси у графика)"
   ]
  },
  {
   "cell_type": "markdown",
   "metadata": {},
   "source": [
    "<div class=\"alert alert-success\">\n",
    "<h2> Комментарий ревьюера v2 <a class=\"tocSkip\"> </h2>\n",
    "\n",
    "<b>Все супер!👍:</b>ЛАйк"
   ]
  },
  {
   "cell_type": "code",
   "execution_count": 28,
   "metadata": {},
   "outputs": [
    {
     "data": {
      "text/plain": [
       "Text(0.5, 0, 'YEAR OF RELEASE')"
      ]
     },
     "execution_count": 28,
     "metadata": {},
     "output_type": "execute_result"
    },
    {
     "data": {
      "image/png": "[encoded data removed]",
      "text/plain": [
       "<Figure size 432x288 with 1 Axes>"
      ]
     },
     "metadata": {
      "needs_background": "light"
     },
     "output_type": "display_data"
    }
   ],
   "source": [
    "# Продажи по платформe PS2, распределение по годам.\n",
    "games.query('platform == \"PS2\"').pivot_table(index='year_of_release', values='total_sales', aggfunc='sum').plot(kind='bar')\n",
    "plt.ylabel('TOTAL SALES')\n",
    "plt.xlabel('YEAR OF RELEASE')"
   ]
  },
  {
   "cell_type": "markdown",
   "metadata": {},
   "source": [
    "По платформе PS2 пик продаж наблюдался в период 2001-2005гг., затем следует спад, в 2011г. продажи прекратились, в настоящее время платформа не актуальна."
   ]
  },
  {
   "cell_type": "code",
   "execution_count": 29,
   "metadata": {},
   "outputs": [
    {
     "data": {
      "text/plain": [
       "Text(0.5, 0, 'YEAR OF RELEASE')"
      ]
     },
     "execution_count": 29,
     "metadata": {},
     "output_type": "execute_result"
    },
    {
     "data": {
      "image/png": "[encoded data removed]",
      "text/plain": [
       "<Figure size 432x288 with 1 Axes>"
      ]
     },
     "metadata": {
      "needs_background": "light"
     },
     "output_type": "display_data"
    }
   ],
   "source": [
    "# Продажи по платформe X360, распределение по годам.\n",
    "games.query('platform == \"X360\"').pivot_table(index='year_of_release', values='total_sales', aggfunc='sum').plot(kind='bar')\n",
    "plt.ylabel('TOTAL SALES')\n",
    "plt.xlabel('YEAR OF RELEASE')"
   ]
  },
  {
   "cell_type": "markdown",
   "metadata": {},
   "source": [
    "По платформе X360 продажи стартовали с 2005г, пик продаж наблюдался в период 2010-2011гг., затем следует спад. Даже учитывая, что за 2016г. неполные данные, можно сделать вывод, что в настоящее время платформа не актуальна."
   ]
  },
  {
   "cell_type": "code",
   "execution_count": 30,
   "metadata": {},
   "outputs": [
    {
     "data": {
      "text/plain": [
       "Text(0.5, 0, 'YEAR OF RELEASE')"
      ]
     },
     "execution_count": 30,
     "metadata": {},
     "output_type": "execute_result"
    },
    {
     "data": {
      "image/png": "[encoded data removed]",
      "text/plain": [
       "<Figure size 432x288 with 1 Axes>"
      ]
     },
     "metadata": {
      "needs_background": "light"
     },
     "output_type": "display_data"
    }
   ],
   "source": [
    "# Продажи по платформe PS3, распределение по годам.\n",
    "games.query('platform == \"PS3\"').pivot_table(index='year_of_release', values='total_sales', aggfunc='sum').plot(kind='bar')\n",
    "plt.ylabel('TOTAL SALES')\n",
    "plt.xlabel('YEAR OF RELEASE')"
   ]
  },
  {
   "cell_type": "markdown",
   "metadata": {},
   "source": [
    "По платформе PS3 продажи стартовали с 2006г, пик продаж наблюдался в период 2009-2011гг., затем следует спад. В 2015-2016гг. продажи данной платформы имеют минимальные значения"
   ]
  },
  {
   "cell_type": "code",
   "execution_count": 31,
   "metadata": {},
   "outputs": [
    {
     "data": {
      "text/plain": [
       "Text(0.5, 0, 'YEAR OF RELEASE')"
      ]
     },
     "execution_count": 31,
     "metadata": {},
     "output_type": "execute_result"
    },
    {
     "data": {
      "image/png": "[encoded data removed]",
      "text/plain": [
       "<Figure size 432x288 with 1 Axes>"
      ]
     },
     "metadata": {
      "needs_background": "light"
     },
     "output_type": "display_data"
    }
   ],
   "source": [
    "# Продажи по платформe Wii, распределение по годам.\n",
    "games.query('platform == \"Wii\"').pivot_table(index='year_of_release', values='total_sales', aggfunc='sum').plot(kind='bar')\n",
    "plt.ylabel('TOTAL SALES')\n",
    "plt.xlabel('YEAR OF RELEASE')"
   ]
  },
  {
   "cell_type": "markdown",
   "metadata": {},
   "source": [
    "По платформе Wii продажи начались в 2006г., очень быстро достигли своего максимума в 2008-2009, затем следует спад, в 2014-2015г. продажи практически прекратились, в настоящее время платформа не актуальна."
   ]
  },
  {
   "cell_type": "code",
   "execution_count": 32,
   "metadata": {},
   "outputs": [
    {
     "data": {
      "text/plain": [
       "Text(0.5, 0, 'YEAR OF RELEASE')"
      ]
     },
     "execution_count": 32,
     "metadata": {},
     "output_type": "execute_result"
    },
    {
     "data": {
      "image/png": "[encoded data removed]",
      "text/plain": [
       "<Figure size 432x288 with 1 Axes>"
      ]
     },
     "metadata": {
      "needs_background": "light"
     },
     "output_type": "display_data"
    }
   ],
   "source": [
    "# Продажи по платформe DS, распределение по годам.\n",
    "games.query('platform == \"DS\"').pivot_table(index='year_of_release', values='total_sales', aggfunc='sum').plot(kind='bar')\n",
    "plt.ylabel('TOTAL SALES')\n",
    "plt.xlabel('YEAR OF RELEASE')"
   ]
  },
  {
   "cell_type": "markdown",
   "metadata": {},
   "source": [
    "По платформе DS продажи начались в 2004г., очень быстро достигли своего максимума в 2005-2008, затем следует спад, в 2013 продажи практически прекратились, в настоящее время платформа не актуальна."
   ]
  },
  {
   "cell_type": "code",
   "execution_count": 33,
   "metadata": {
    "scrolled": true
   },
   "outputs": [
    {
     "data": {
      "text/plain": [
       "Text(0.5, 0, 'YEAR OF RELEASE')"
      ]
     },
     "execution_count": 33,
     "metadata": {},
     "output_type": "execute_result"
    },
    {
     "data": {
      "image/png": "[encoded data removed]",
      "text/plain": [
       "<Figure size 432x288 with 1 Axes>"
      ]
     },
     "metadata": {
      "needs_background": "light"
     },
     "output_type": "display_data"
    }
   ],
   "source": [
    "# Продажи по платформe PS, распределение по годам.\n",
    "games.query('platform == \"PS\"').pivot_table(index='year_of_release', values='total_sales', aggfunc='sum').plot(kind='bar')\n",
    "plt.ylabel('TOTAL SALES')\n",
    "plt.xlabel('YEAR OF RELEASE')"
   ]
  },
  {
   "cell_type": "markdown",
   "metadata": {},
   "source": [
    "Данная платформа PS самая \"старая\" из рассматриваемых, продажи начались в 1994г., своего максимума достигли в 1997-1999гг, затем идет спад продаж, в 2003 продажи практически прекратились, в настоящее время платформа не актуальна."
   ]
  },
  {
   "cell_type": "markdown",
   "metadata": {},
   "source": [
    "<div class=\"alert alert-block alert-danger\">\n",
    "<h2> Комментарий ревьюера v1 <a class=\"tocSkip\"></h2>\n",
    "\n",
    "<b>На доработку🤔:</b>  Определим средний срок жизни платформ?"
   ]
  },
  {
   "cell_type": "code",
   "execution_count": 63,
   "metadata": {
    "scrolled": true
   },
   "outputs": [
    {
     "name": "stdout",
     "output_type": "stream",
     "text": [
      "Средний срок жизни платформы: 11\n"
     ]
    }
   ],
   "source": [
    "\n",
    "# определим средний срок жизни платформ\n",
    "mean_life_time = (\n",
    "(len(games.query('platform == \"X360\"').pivot_table(index='year_of_release'))\n",
    "+\n",
    "len(games.query('platform == \"PS\"').pivot_table(index='year_of_release'))\n",
    "+\n",
    "len(games.query('platform == \"PS3\"').pivot_table(index='year_of_release'))\n",
    "+\n",
    "len(games.query('platform == \"Wii\"').pivot_table(index='year_of_release'))\n",
    "+\n",
    "len(games.query('platform == \"DS\"').pivot_table(index='year_of_release'))\n",
    "+\n",
    "len(games.query('platform == \"PS\"').pivot_table(index='year_of_release'))) / 6\n",
    "\n",
    ")\n",
    "\n",
    "print('Средний срок жизни платформы:', round(mean_life_time))"
   ]
  },
  {
   "cell_type": "markdown",
   "metadata": {},
   "source": [
    "<div class=\"alert alert-success\">\n",
    "<h2> Комментарий ревьюера v2 <a class=\"tocSkip\"> </h2>\n",
    "\n",
    "<b>Все супер!👍:</b>Исправили) \n",
    "    "
   ]
  },
  {
   "cell_type": "markdown",
   "metadata": {},
   "source": [
    "### Возьмите данные за соответствующий актуальный период."
   ]
  },
  {
   "cell_type": "markdown",
   "metadata": {},
   "source": [
    "В целях формирования прогноза на 2017 года имеет смысл проводить анализ по последние 2-3 года и сохранением данных за 2016г, использование более \"старых\" данных не имеет практического смысла."
   ]
  },
  {
   "cell_type": "code",
   "execution_count": 35,
   "metadata": {},
   "outputs": [],
   "source": [
    "# отрезаем данные до 2014г. и сохраним данные за 2014, 2015, 2016гг. в таблице games_fresh\n",
    "games_fresh = games.query('year_of_release >= 2014').copy()"
   ]
  },
  {
   "cell_type": "markdown",
   "metadata": {},
   "source": [
    "<div class=\"alert alert-success\">\n",
    "<h2> Комментарий ревьюера v1 <a class=\"tocSkip\"> </h2>\n",
    "\n",
    "<b>Все супер!👍:</b> Согласен, для целей прогнозирования продаж на следующий год даже в традиционных бизнесах редко берут данные более чем за 2-3 года. А в такой динамично меняющейся индустрии, как компьютерные игры и вовсе не стоит брать слишком большой временной интервал - иначе обязательно захватишь уже отжившие тренды. Но и слишком короткий период тоже брать не стоит"
   ]
  },
  {
   "cell_type": "markdown",
   "metadata": {},
   "source": [
    "### Какие платформы лидируют по продажам, растут или падают?"
   ]
  },
  {
   "cell_type": "code",
   "execution_count": 36,
   "metadata": {},
   "outputs": [
    {
     "data": {
      "image/png": "[encoded data removed]",
      "text/plain": [
       "<Figure size 432x288 with 1 Axes>"
      ]
     },
     "metadata": {
      "needs_background": "light"
     },
     "output_type": "display_data"
    }
   ],
   "source": [
    "# построим график зависимости продаж от типа платформ за актуальный период 2014-2016\n",
    "platform_sales_fresh = games_fresh.pivot_table(index='platform', values='total_sales', aggfunc='sum').sort_values('total_sales', ascending=False).plot(kind='bar')"
   ]
  },
  {
   "cell_type": "markdown",
   "metadata": {},
   "source": [
    "**Из данного графика можно сделать вывод, что за актуальный период лидируют по продажам платформы PS4, XOne, 3DS. Далее построим распределение платформ по годам.**"
   ]
  },
  {
   "cell_type": "code",
   "execution_count": 37,
   "metadata": {},
   "outputs": [
    {
     "data": {
      "text/plain": [
       "<AxesSubplot:xlabel='year_of_release'>"
      ]
     },
     "execution_count": 37,
     "metadata": {},
     "output_type": "execute_result"
    },
    {
     "data": {
      "image/png": "[encoded data removed]",
      "text/plain": [
       "<Figure size 432x288 with 1 Axes>"
      ]
     },
     "metadata": {
      "needs_background": "light"
     },
     "output_type": "display_data"
    }
   ],
   "source": [
    "# Продажи по платформe PS4, распределение по годам.\n",
    "games_fresh.query('platform == \"PS4\"').pivot_table(index='year_of_release', values='total_sales', aggfunc='sum').plot(kind='bar')"
   ]
  },
  {
   "cell_type": "markdown",
   "metadata": {},
   "source": [
    "**Учитывая что данные за 2016г. неполные, можно сделать вывод, что по данной платформе продажи находятся на одном уровне, ее стабильно много покупают последние три года.**"
   ]
  },
  {
   "cell_type": "code",
   "execution_count": 38,
   "metadata": {},
   "outputs": [
    {
     "data": {
      "text/plain": [
       "<AxesSubplot:xlabel='year_of_release'>"
      ]
     },
     "execution_count": 38,
     "metadata": {},
     "output_type": "execute_result"
    },
    {
     "data": {
      "image/png": "[encoded data removed]",
      "text/plain": [
       "<Figure size 432x288 with 1 Axes>"
      ]
     },
     "metadata": {
      "needs_background": "light"
     },
     "output_type": "display_data"
    }
   ],
   "source": [
    "# Продажи по платформe XOne, распределение по годам.\n",
    "games_fresh.query('platform == \"XOne\"').pivot_table(index='year_of_release', values='total_sales', aggfunc='sum').plot(kind='bar')"
   ]
  },
  {
   "cell_type": "markdown",
   "metadata": {},
   "source": [
    "**Также учитывая неполноту данных за 2016г., продажи находятся на одном уровне, ее стабильно покупают последние три года, но количество продаж в 2 раза меньше платформы PS4.**"
   ]
  },
  {
   "cell_type": "code",
   "execution_count": 39,
   "metadata": {},
   "outputs": [
    {
     "data": {
      "text/plain": [
       "<AxesSubplot:xlabel='year_of_release'>"
      ]
     },
     "execution_count": 39,
     "metadata": {},
     "output_type": "execute_result"
    },
    {
     "data": {
      "image/png": "[encoded data removed]",
      "text/plain": [
       "<Figure size 432x288 with 1 Axes>"
      ]
     },
     "metadata": {
      "needs_background": "light"
     },
     "output_type": "display_data"
    }
   ],
   "source": [
    "# Продажи по платформe 3DS, распределение по годам.\n",
    "games_fresh.query('platform == \"3DS\"').pivot_table(index='year_of_release', values='total_sales', aggfunc='sum').plot(kind='bar')"
   ]
  },
  {
   "cell_type": "markdown",
   "metadata": {},
   "source": [
    "**По данной платформе наблюдается незначительный спад продаж, около 30 процентов ежегодно.**"
   ]
  },
  {
   "cell_type": "code",
   "execution_count": 40,
   "metadata": {},
   "outputs": [
    {
     "data": {
      "text/plain": [
       "<AxesSubplot:xlabel='year_of_release'>"
      ]
     },
     "execution_count": 40,
     "metadata": {},
     "output_type": "execute_result"
    },
    {
     "data": {
      "image/png": "[encoded data removed]",
      "text/plain": [
       "<Figure size 432x288 with 1 Axes>"
      ]
     },
     "metadata": {
      "needs_background": "light"
     },
     "output_type": "display_data"
    }
   ],
   "source": [
    "# Продажи по платформe PS3, распределение по годам.\n",
    "games_fresh.query('platform == \"PS3\"').pivot_table(index='year_of_release', values='total_sales', aggfunc='sum').plot(kind='bar')"
   ]
  },
  {
   "cell_type": "markdown",
   "metadata": {},
   "source": [
    "**Из графика видно, что в 2015г. продажи резко упали относительно 2014г., а в 2016г. продажи практически прекратились. На смену данной платформе PS3 пришла более современная PS4.**"
   ]
  },
  {
   "cell_type": "code",
   "execution_count": 41,
   "metadata": {},
   "outputs": [
    {
     "data": {
      "text/plain": [
       "<AxesSubplot:xlabel='year_of_release'>"
      ]
     },
     "execution_count": 41,
     "metadata": {},
     "output_type": "execute_result"
    },
    {
     "data": {
      "image/png": "[encoded data removed]",
      "text/plain": [
       "<Figure size 432x288 with 1 Axes>"
      ]
     },
     "metadata": {
      "needs_background": "light"
     },
     "output_type": "display_data"
    }
   ],
   "source": [
    "# Продажи по платформe X360, распределение по годам.\n",
    "games_fresh.query('platform == \"X360\"').pivot_table(index='year_of_release', values='total_sales', aggfunc='sum').plot(kind='bar')"
   ]
  },
  {
   "cell_type": "markdown",
   "metadata": {},
   "source": [
    "**Аналогичная ситуация наблюдается у данной платфоры, в 2016 ее уже никто не покупает.**"
   ]
  },
  {
   "cell_type": "code",
   "execution_count": 42,
   "metadata": {},
   "outputs": [
    {
     "data": {
      "text/plain": [
       "<AxesSubplot:xlabel='year_of_release'>"
      ]
     },
     "execution_count": 42,
     "metadata": {},
     "output_type": "execute_result"
    },
    {
     "data": {
      "image/png": "[encoded data removed]",
      "text/plain": [
       "<Figure size 432x288 with 1 Axes>"
      ]
     },
     "metadata": {
      "needs_background": "light"
     },
     "output_type": "display_data"
    }
   ],
   "source": [
    "# Продажи по платформe WiiU, распределение по годам.\n",
    "games_fresh.query('platform == \"WiiU\"').pivot_table(index='year_of_release', values='total_sales', aggfunc='sum').plot(kind='bar')"
   ]
  },
  {
   "cell_type": "code",
   "execution_count": 43,
   "metadata": {},
   "outputs": [
    {
     "data": {
      "text/plain": [
       "<AxesSubplot:xlabel='year_of_release'>"
      ]
     },
     "execution_count": 43,
     "metadata": {},
     "output_type": "execute_result"
    },
    {
     "data": {
      "image/png": "[encoded data removed]",
      "text/plain": [
       "<Figure size 432x288 with 1 Axes>"
      ]
     },
     "metadata": {
      "needs_background": "light"
     },
     "output_type": "display_data"
    }
   ],
   "source": [
    "# Продажи по платформe PC, распределение по годам.\n",
    "games_fresh.query('platform == \"PC\"').pivot_table(index='year_of_release', values='total_sales', aggfunc='sum').plot(kind='bar')"
   ]
  },
  {
   "cell_type": "code",
   "execution_count": 44,
   "metadata": {},
   "outputs": [
    {
     "data": {
      "text/plain": [
       "<AxesSubplot:xlabel='year_of_release'>"
      ]
     },
     "execution_count": 44,
     "metadata": {},
     "output_type": "execute_result"
    },
    {
     "data": {
      "image/png": "[encoded data removed]",
      "text/plain": [
       "<Figure size 432x288 with 1 Axes>"
      ]
     },
     "metadata": {
      "needs_background": "light"
     },
     "output_type": "display_data"
    }
   ],
   "source": [
    "# Продажи по платформe PSV, распределение по годам.\n",
    "games_fresh.query('platform == \"PSV\"').pivot_table(index='year_of_release', values='total_sales', aggfunc='sum').plot(kind='bar')"
   ]
  },
  {
   "cell_type": "code",
   "execution_count": 45,
   "metadata": {},
   "outputs": [
    {
     "data": {
      "text/plain": [
       "<AxesSubplot:xlabel='year_of_release'>"
      ]
     },
     "execution_count": 45,
     "metadata": {},
     "output_type": "execute_result"
    },
    {
     "data": {
      "image/png": "[encoded data removed]",
      "text/plain": [
       "<Figure size 432x288 with 1 Axes>"
      ]
     },
     "metadata": {
      "needs_background": "light"
     },
     "output_type": "display_data"
    }
   ],
   "source": [
    "# Продажи по платформe Wii, распределение по годам.\n",
    "games_fresh.query('platform == \"Wii\"').pivot_table(index='year_of_release', values='total_sales', aggfunc='sum').plot(kind='bar')"
   ]
  },
  {
   "cell_type": "markdown",
   "metadata": {},
   "source": [
    "**У платформ WiiU, PC, PSV, Wii изначально в 2014г. были относительно небольшие продажи, которые постепенно снижаются в 2015 и продолжают снижаться 2016г.**"
   ]
  },
  {
   "cell_type": "code",
   "execution_count": 46,
   "metadata": {},
   "outputs": [
    {
     "data": {
      "text/plain": [
       "<AxesSubplot:xlabel='year_of_release'>"
      ]
     },
     "execution_count": 46,
     "metadata": {},
     "output_type": "execute_result"
    },
    {
     "data": {
      "image/png": "[encoded data removed]",
      "text/plain": [
       "<Figure size 432x288 with 1 Axes>"
      ]
     },
     "metadata": {
      "needs_background": "light"
     },
     "output_type": "display_data"
    }
   ],
   "source": [
    "# Продажи по платформe PSP, распределение по годам.\n",
    "games_fresh.query('platform == \"PSP\"').pivot_table(index='year_of_release', values='total_sales', aggfunc='sum').plot(kind='bar')"
   ]
  },
  {
   "cell_type": "markdown",
   "metadata": {},
   "source": [
    "**По данной платформе продажи в 2016г. прекратились, в настоящее время не актуальна.**"
   ]
  },
  {
   "cell_type": "markdown",
   "metadata": {},
   "source": [
    "<div class=\"alert alert-success\">\n",
    "<h2> Комментарий ревьюера v1 <a class=\"tocSkip\"> </h2>\n",
    "\n",
    "<b>Все супер!👍:</b> Супер исследования!"
   ]
  },
  {
   "cell_type": "markdown",
   "metadata": {},
   "source": [
    "### Какие платформы можно оставить для анализа?\n",
    "\n",
    "**По результатам анализа количества продаж платформ за актуальный период, при дальнейшей обработке и анализе имеет смысл не учитывать платформы с минимальными продажами. Минимальные продажи у платформ PS3, X360, Wii, PSP.**"
   ]
  },
  {
   "cell_type": "code",
   "execution_count": 47,
   "metadata": {},
   "outputs": [],
   "source": [
    "# games_fresh = games_fresh.query('platform not in[\"PS3\", \"X360\", \"Wii\", \"PSP\"]')\n",
    "# games_fresh['platform'].value_counts() # проверка"
   ]
  },
  {
   "cell_type": "markdown",
   "metadata": {},
   "source": [
    "### График «ящик с усами» по глобальным продажам игр в разбивке по платформам."
   ]
  },
  {
   "cell_type": "code",
   "execution_count": 48,
   "metadata": {},
   "outputs": [
    {
     "data": {
      "image/png": "[encoded data removed]",
      "text/plain": [
       "<Figure size 1440x720 with 1 Axes>"
      ]
     },
     "metadata": {
      "needs_background": "light"
     },
     "output_type": "display_data"
    }
   ],
   "source": [
    "# построим график по глобальным продажам игр в разбивке по платформам\n",
    "fig = plt.figure(figsize = (20,10))\n",
    "sns.boxplot(data = games_fresh, y = 'total_sales', x='platform').set(title = 'Продажи по перспективным платформам за 2014-2016 гг', xlabel = 'Платформы', ylabel = 'Общие продажи', ylim=(0, 3))\n",
    "plt.show()"
   ]
  },
  {
   "cell_type": "code",
   "execution_count": 49,
   "metadata": {},
   "outputs": [
    {
     "data": {
      "text/html": [
       "<div>\n",
       "<style scoped>\n",
       "    .dataframe tbody tr th:only-of-type {\n",
       "        vertical-align: middle;\n",
       "    }\n",
       "\n",
       "    .dataframe tbody tr th {\n",
       "        vertical-align: top;\n",
       "    }\n",
       "\n",
       "    .dataframe thead tr th {\n",
       "        text-align: left;\n",
       "    }\n",
       "\n",
       "    .dataframe thead tr:last-of-type th {\n",
       "        text-align: right;\n",
       "    }\n",
       "</style>\n",
       "<table border=\"1\" class=\"dataframe\">\n",
       "  <thead>\n",
       "    <tr>\n",
       "      <th></th>\n",
       "      <th>var</th>\n",
       "      <th>median</th>\n",
       "      <th>mean</th>\n",
       "    </tr>\n",
       "    <tr>\n",
       "      <th></th>\n",
       "      <th>total_sales</th>\n",
       "      <th>total_sales</th>\n",
       "      <th>total_sales</th>\n",
       "    </tr>\n",
       "    <tr>\n",
       "      <th>platform</th>\n",
       "      <th></th>\n",
       "      <th></th>\n",
       "      <th></th>\n",
       "    </tr>\n",
       "  </thead>\n",
       "  <tbody>\n",
       "    <tr>\n",
       "      <th>3DS</th>\n",
       "      <td>1.412219</td>\n",
       "      <td>0.090</td>\n",
       "      <td>0.408868</td>\n",
       "    </tr>\n",
       "    <tr>\n",
       "      <th>PC</th>\n",
       "      <td>0.108477</td>\n",
       "      <td>0.060</td>\n",
       "      <td>0.179139</td>\n",
       "    </tr>\n",
       "    <tr>\n",
       "      <th>PS3</th>\n",
       "      <td>0.400764</td>\n",
       "      <td>0.110</td>\n",
       "      <td>0.311324</td>\n",
       "    </tr>\n",
       "    <tr>\n",
       "      <th>PS4</th>\n",
       "      <td>2.608124</td>\n",
       "      <td>0.185</td>\n",
       "      <td>0.766356</td>\n",
       "    </tr>\n",
       "    <tr>\n",
       "      <th>PSP</th>\n",
       "      <td>0.000769</td>\n",
       "      <td>0.020</td>\n",
       "      <td>0.027692</td>\n",
       "    </tr>\n",
       "    <tr>\n",
       "      <th>PSV</th>\n",
       "      <td>0.020048</td>\n",
       "      <td>0.040</td>\n",
       "      <td>0.075932</td>\n",
       "    </tr>\n",
       "    <tr>\n",
       "      <th>Wii</th>\n",
       "      <td>0.391189</td>\n",
       "      <td>0.180</td>\n",
       "      <td>0.460909</td>\n",
       "    </tr>\n",
       "    <tr>\n",
       "      <th>WiiU</th>\n",
       "      <td>1.349005</td>\n",
       "      <td>0.190</td>\n",
       "      <td>0.588767</td>\n",
       "    </tr>\n",
       "    <tr>\n",
       "      <th>X360</th>\n",
       "      <td>0.395599</td>\n",
       "      <td>0.180</td>\n",
       "      <td>0.434414</td>\n",
       "    </tr>\n",
       "    <tr>\n",
       "      <th>XOne</th>\n",
       "      <td>1.095189</td>\n",
       "      <td>0.205</td>\n",
       "      <td>0.615614</td>\n",
       "    </tr>\n",
       "  </tbody>\n",
       "</table>\n",
       "</div>"
      ],
      "text/plain": [
       "                 var      median        mean\n",
       "         total_sales total_sales total_sales\n",
       "platform                                    \n",
       "3DS         1.412219       0.090    0.408868\n",
       "PC          0.108477       0.060    0.179139\n",
       "PS3         0.400764       0.110    0.311324\n",
       "PS4         2.608124       0.185    0.766356\n",
       "PSP         0.000769       0.020    0.027692\n",
       "PSV         0.020048       0.040    0.075932\n",
       "Wii         0.391189       0.180    0.460909\n",
       "WiiU        1.349005       0.190    0.588767\n",
       "X360        0.395599       0.180    0.434414\n",
       "XOne        1.095189       0.205    0.615614"
      ]
     },
     "execution_count": 49,
     "metadata": {},
     "output_type": "execute_result"
    }
   ],
   "source": [
    "games_fresh.pivot_table(index = 'platform', values = ['total_sales'],aggfunc = ['var', 'median', 'mean'])"
   ]
  },
  {
   "cell_type": "markdown",
   "metadata": {},
   "source": [
    "**Вывод:**\n",
    "\n",
    "Из графика «ящик с усами» видно, что практически по всем платформам существуют выбросы дальше третьих квартилей. У платформ PS4, WiiU и XOne одинаковы медианные значения продаж (0.185, 0.190, 0.205 соответственно), также приблизительно равны среднее арифметическое значение продаж (0.766356, 0.588767, 0.615614 соответственно). Из данного анализа следует, что большей популярностью пользуются уже вышеуказанные платформы PS4, WiiU и XOne."
   ]
  },
  {
   "cell_type": "markdown",
   "metadata": {},
   "source": [
    "<div class=\"alert alert-success\">\n",
    "<h2> Комментарий ревьюера v1 <a class=\"tocSkip\"> </h2>\n",
    "\n",
    "<b>Все супер!👍:</b> Топ!"
   ]
  },
  {
   "cell_type": "markdown",
   "metadata": {},
   "source": [
    "### Как влияют на продажи внутри одной из популярной платформы отзывы пользователей и критиков. Постройте диаграмму рассеяния и посчитайте корреляцию между отзывами и продажами."
   ]
  },
  {
   "cell_type": "code",
   "execution_count": 50,
   "metadata": {},
   "outputs": [
    {
     "data": {
      "image/png": "[encoded data removed]",
      "text/plain": [
       "<Figure size 432x288 with 1 Axes>"
      ]
     },
     "metadata": {
      "needs_background": "light"
     },
     "output_type": "display_data"
    },
    {
     "data": {
      "image/png": "[encoded data removed]",
      "text/plain": [
       "<Figure size 432x288 with 1 Axes>"
      ]
     },
     "metadata": {
      "needs_background": "light"
     },
     "output_type": "display_data"
    },
    {
     "name": "stdout",
     "output_type": "stream",
     "text": [
      "critic_score    0.401903\n",
      "user_score     -0.043186\n",
      "total_sales     1.000000\n",
      "Name: total_sales, dtype: float64\n"
     ]
    }
   ],
   "source": [
    "# Построим диаграмму рассеяния для платформы PS4, исключим значения-заглушки (-10) в отзывах пользователей и критиков\n",
    "games_platform = games_fresh.query('platform == \"PS4\"')\n",
    "games_platform[games_platform['critic_score'] != -10].plot(kind='scatter', x='critic_score', y='total_sales')\n",
    "games_platform[games_platform['user_score'] != -10].plot(kind='scatter', x='user_score', y='total_sales')\n",
    "plt.show()\n",
    "# Расчет коэффициента корреляции\n",
    "print(games_platform[(games_platform['critic_score'] != -10) & (games_platform['user_score'] != -10)][['critic_score', 'user_score', 'total_sales']].corr()['total_sales'])"
   ]
  },
  {
   "cell_type": "markdown",
   "metadata": {},
   "source": [
    "**Оценка критиков для платформы PS4 имеет слабое влияние на продажи (коэфф. 0,4), оценка пользователей на продажи не влияет**"
   ]
  },
  {
   "cell_type": "code",
   "execution_count": 51,
   "metadata": {},
   "outputs": [
    {
     "data": {
      "image/png": "[encoded data removed]",
      "text/plain": [
       "<Figure size 432x288 with 1 Axes>"
      ]
     },
     "metadata": {
      "needs_background": "light"
     },
     "output_type": "display_data"
    },
    {
     "data": {
      "image/png": "[encoded data removed]",
      "text/plain": [
       "<Figure size 432x288 with 1 Axes>"
      ]
     },
     "metadata": {
      "needs_background": "light"
     },
     "output_type": "display_data"
    },
    {
     "name": "stdout",
     "output_type": "stream",
     "text": [
      "critic_score    0.284686\n",
      "user_score      0.279850\n",
      "total_sales     1.000000\n",
      "Name: total_sales, dtype: float64\n"
     ]
    }
   ],
   "source": [
    "# Построим диаграмму рассеяния для платформы 3DS\n",
    "games_platform = games_fresh.query('platform == \"3DS\"')\n",
    "games_platform[games_platform['critic_score'] != -10].plot(kind='scatter', x='critic_score', y='total_sales')\n",
    "games_platform[games_platform['user_score'] != -10].plot(kind='scatter', x='user_score', y='total_sales')\n",
    "plt.show()\n",
    "# Расчет коэффициента корреляции\n",
    "print(games_platform[(games_platform['critic_score'] != -10) & (games_platform['user_score'] != -10)][['critic_score', 'user_score', 'total_sales']].corr()['total_sales'])"
   ]
  },
  {
   "cell_type": "markdown",
   "metadata": {},
   "source": [
    "**Оценка критиков для платформы 3DS имеет очень слабое влияние на продажи (28 процентов), оценка пользователей также имеет очень слабое влияние.**"
   ]
  },
  {
   "cell_type": "code",
   "execution_count": 52,
   "metadata": {},
   "outputs": [
    {
     "data": {
      "image/png": "[encoded data removed]",
      "text/plain": [
       "<Figure size 432x288 with 1 Axes>"
      ]
     },
     "metadata": {
      "needs_background": "light"
     },
     "output_type": "display_data"
    },
    {
     "data": {
      "image/png": "[encoded data removed]",
      "text/plain": [
       "<Figure size 432x288 with 1 Axes>"
      ]
     },
     "metadata": {
      "needs_background": "light"
     },
     "output_type": "display_data"
    },
    {
     "name": "stdout",
     "output_type": "stream",
     "text": [
      "critic_score    0.172061\n",
      "user_score     -0.089974\n",
      "total_sales     1.000000\n",
      "Name: total_sales, dtype: float64\n"
     ]
    }
   ],
   "source": [
    "# Построим диаграмму рассеяния для платформы PC\n",
    "games_platform = games_fresh.query('platform == \"PC\"')\n",
    "games_platform[games_platform['critic_score'] != -10].plot(kind='scatter', x='critic_score', y='total_sales')\n",
    "games_platform[games_platform['user_score'] != -10].plot(kind='scatter', x='user_score', y='total_sales')\n",
    "plt.show()\n",
    "# Расчет коэффициента корреляции\n",
    "print(games_platform[(games_platform['critic_score'] != -10) & (games_platform['user_score'] != -10)][['critic_score', 'user_score', 'total_sales']].corr()['total_sales'])"
   ]
  },
  {
   "cell_type": "markdown",
   "metadata": {},
   "source": [
    "**Оценка критиков для платформы PC не имеет влияние на продажи (17 процентов), оценка пользователей на продажи не влияет.**"
   ]
  },
  {
   "cell_type": "code",
   "execution_count": 53,
   "metadata": {},
   "outputs": [
    {
     "data": {
      "image/png": "[encoded data removed]",
      "text/plain": [
       "<Figure size 432x288 with 1 Axes>"
      ]
     },
     "metadata": {
      "needs_background": "light"
     },
     "output_type": "display_data"
    },
    {
     "data": {
      "image/png": "[encoded data removed]",
      "text/plain": [
       "<Figure size 432x288 with 1 Axes>"
      ]
     },
     "metadata": {
      "needs_background": "light"
     },
     "output_type": "display_data"
    },
    {
     "name": "stdout",
     "output_type": "stream",
     "text": [
      "critic_score    0.041029\n",
      "user_score      0.023528\n",
      "total_sales     1.000000\n",
      "Name: total_sales, dtype: float64\n"
     ]
    }
   ],
   "source": [
    "# Построим диаграмму рассеяния для платформы PSV\n",
    "games_platform = games_fresh.query('platform == \"PSV\"')\n",
    "games_platform[games_platform['critic_score'] != -10].plot(kind='scatter', x='critic_score', y='total_sales')\n",
    "games_platform[games_platform['user_score'] != -10].plot(kind='scatter', x='user_score', y='total_sales')\n",
    "plt.show()\n",
    "# Расчет коэффициента корреляции\n",
    "print(games_platform[(games_platform['critic_score'] != -10) & (games_platform['user_score'] != -10)][['critic_score', 'user_score', 'total_sales']].corr()['total_sales'])"
   ]
  },
  {
   "cell_type": "markdown",
   "metadata": {},
   "source": [
    "**Оценка критиков для платформы PSV имеет слабое влияние на продажи, оценка пользователей имеет очень слабое влияние**"
   ]
  },
  {
   "cell_type": "code",
   "execution_count": 54,
   "metadata": {},
   "outputs": [
    {
     "data": {
      "image/png": "[encoded data removed]",
      "text/plain": [
       "<Figure size 432x288 with 1 Axes>"
      ]
     },
     "metadata": {
      "needs_background": "light"
     },
     "output_type": "display_data"
    },
    {
     "data": {
      "image/png": "[encoded data removed]",
      "text/plain": [
       "<Figure size 432x288 with 1 Axes>"
      ]
     },
     "metadata": {
      "needs_background": "light"
     },
     "output_type": "display_data"
    },
    {
     "name": "stdout",
     "output_type": "stream",
     "text": [
      "critic_score    0.375640\n",
      "user_score      0.411451\n",
      "total_sales     1.000000\n",
      "Name: total_sales, dtype: float64\n"
     ]
    }
   ],
   "source": [
    "# Построим диаграмму рассеяния для платформы WiiU\n",
    "games_platform = games_fresh.query('platform == \"WiiU\"')\n",
    "games_platform[games_platform['critic_score'] != -10].plot(kind='scatter', x='critic_score', y='total_sales')\n",
    "games_platform[games_platform['user_score'] != -10].plot(kind='scatter', x='user_score', y='total_sales')\n",
    "plt.show()\n",
    "# Расчет коэффициента корреляции\n",
    "print(games_platform[(games_platform['critic_score'] != -10) & (games_platform['user_score'] != -10)][['critic_score', 'user_score', 'total_sales']].corr()['total_sales'])"
   ]
  },
  {
   "cell_type": "markdown",
   "metadata": {},
   "source": [
    "**Оценка критиков для платформы WiiU имеет слабое влияние на продажи, оценка пользователей также имеет слабое влияние**"
   ]
  },
  {
   "cell_type": "code",
   "execution_count": 55,
   "metadata": {},
   "outputs": [
    {
     "data": {
      "image/png": "[encoded data removed]",
      "text/plain": [
       "<Figure size 432x288 with 1 Axes>"
      ]
     },
     "metadata": {
      "needs_background": "light"
     },
     "output_type": "display_data"
    },
    {
     "data": {
      "image/png": "[encoded data removed]",
      "text/plain": [
       "<Figure size 432x288 with 1 Axes>"
      ]
     },
     "metadata": {
      "needs_background": "light"
     },
     "output_type": "display_data"
    },
    {
     "name": "stdout",
     "output_type": "stream",
     "text": [
      "critic_score    0.422112\n",
      "user_score     -0.091734\n",
      "total_sales     1.000000\n",
      "Name: total_sales, dtype: float64\n"
     ]
    }
   ],
   "source": [
    "# Построим диаграмму рассеяния для платформы XOne\n",
    "games_platform = games_fresh.query('platform == \"XOne\"')\n",
    "games_platform[games_platform['critic_score'] != -10].plot(kind='scatter', x='critic_score', y='total_sales')\n",
    "games_platform[games_platform['user_score'] != -10].plot(kind='scatter', x='user_score', y='total_sales')\n",
    "plt.show()\n",
    "# Расчет коэффициента корреляции\n",
    "print(games_platform[(games_platform['critic_score'] != -10) & (games_platform['user_score'] != -10)][['critic_score', 'user_score', 'total_sales']].corr()['total_sales'])"
   ]
  },
  {
   "cell_type": "markdown",
   "metadata": {},
   "source": [
    "**Оценка критиков для платформы XOne имеет слабое влияние на продажи, оценка пользователей на продажи не влияет**"
   ]
  },
  {
   "cell_type": "markdown",
   "metadata": {},
   "source": [
    "**Вывод:**\n",
    "\n",
    "Из построенных выше диаграмм рассеяния и расчета коэффициента корреляции по каждой платформе между отзывами и продажами видно, что оценки критиков для всех платформ практически не влияют или имеют очень слабое влияние на продажи. Оценки пользователей имеют очень слабое влияние на продажи и не влияют совсем."
   ]
  },
  {
   "cell_type": "markdown",
   "metadata": {},
   "source": [
    "<div class=\"alert alert-success\">\n",
    "<h2> Комментарий ревьюера v1 <a class=\"tocSkip\"> </h2>\n",
    "\n",
    "<b>Все супер!👍:</b> По зависимостям все верно) "
   ]
  },
  {
   "cell_type": "markdown",
   "metadata": {},
   "source": [
    "### Общее распределение игр по жанрам. Выделяются ли жанры с высокими и низкими продажами?"
   ]
  },
  {
   "cell_type": "code",
   "execution_count": 69,
   "metadata": {},
   "outputs": [
    {
     "data": {
      "image/png": "[encoded data removed]",
      "text/plain": [
       "<Figure size 936x576 with 1 Axes>"
      ]
     },
     "metadata": {
      "needs_background": "light"
     },
     "output_type": "display_data"
    }
   ],
   "source": [
    "# Построим график распределения продаж по жанрам игр\n",
    "plt.figure(figsize=(13, 8))\n",
    "platform_sales_fresh = games_fresh.pivot_table(index='genre', values='total_sales', aggfunc='median').sort_values('total_sales', ascending=False)\n",
    "(sns.barplot(data = platform_sales_fresh, x = platform_sales_fresh.index, y = 'total_sales', color = 'green')\n",
    "    .set(title = 'Продажи по жанрам за 2014-2016 гг', xlabel = 'Платформы', ylabel = 'Общие продажи'))\n",
    "plt.show()"
   ]
  },
  {
   "cell_type": "markdown",
   "metadata": {},
   "source": [
    "**Вывод**\n",
    "\n",
    "Самый популярный жанр - \"shooter\", у него больше всего продаж, а меньше всего у \"adventure\", этот жанр менее популярен.\n",
    "\n",
    "Наибольшую популярность имеют жанры: \"shooter\", \"sports\", \"platform\", \"role-playing\". У них наибольшее количество продаж с отрывом от остальных.\""
   ]
  },
  {
   "cell_type": "markdown",
   "metadata": {},
   "source": [
    "<div class=\"alert alert-block alert-danger\">\n",
    "<h2> Комментарий ревьюера v1 <a class=\"tocSkip\"></h2>\n",
    "\n",
    "<b>На доработку🤔:</b>  Общие продажи - плохая метрика для поиска наиболее прибыльного жанра. За высокими показателями общих продаж может скрываться множество мелких игр с низкими продажами. Или 2-3 звезды и куча провалов. Лучше найти жанр, где игры стабильно приносят высокий доход - для этого стоит рассмотреть средние или медианные продажи"
   ]
  },
  {
   "cell_type": "markdown",
   "metadata": {},
   "source": [
    "<div class=\"alert alert-success\">\n",
    "<h2> Комментарий ревьюера v2 <a class=\"tocSkip\"> </h2>\n",
    "\n",
    "<b>Все супер!👍:</b> Окей"
   ]
  },
  {
   "cell_type": "markdown",
   "metadata": {},
   "source": [
    "### Составьте портрет пользователя каждого региона (NA, EU, JP)\n",
    "\n",
    "Определите для пользователя каждого региона (NA, EU, JP):\n",
    "\n",
    "* Самые популярные платформы (топ-5). Опишите различия в долях продаж.\n",
    "* Самые популярные жанры (топ-5). Поясните разницу.\n",
    "* Влияет ли рейтинг ESRB на продажи в отдельном регионе?\n",
    "* Определим для пользователей каждого региона (NA, EU, JP) самые популярные платформы"
   ]
  },
  {
   "cell_type": "code",
   "execution_count": 57,
   "metadata": {},
   "outputs": [
    {
     "data": {
      "image/png": "[encoded data removed]",
      "text/plain": [
       "<Figure size 864x576 with 1 Axes>"
      ]
     },
     "metadata": {
      "needs_background": "light"
     },
     "output_type": "display_data"
    }
   ],
   "source": [
    "# сумма проданных копий для Северной Америки по платформам\n",
    "na_platf = games_fresh.groupby(['platform'])['na_sales'].agg(['sum'])\n",
    "# сумма проданных копий для Европы по платформам\n",
    "eu_platf = games_fresh.groupby(['platform'])['eu_sales'].agg(['sum'])\n",
    "# сумма проданных копий для Японии по платформам\n",
    "jp_platf = games_fresh.groupby(['platform'])['jp_sales'].agg(['sum'])\n",
    "# объединяем Series\n",
    "users_platf = pd.concat([na_platf, eu_platf, jp_platf], axis=1).reset_index()\n",
    "users_platf.columns = ['platform', 'american_user', 'europe_user', 'japan_user']\n",
    "users_platf = users_platf.sort_values(by='american_user', ascending=False)\n",
    "# строим bar plot\n",
    "users_platf.plot.bar(x=\"platform\", rot=0, figsize =(12, 8))\n",
    "plt.title('Сравнение популярности платформ в разных странах', fontsize=14)\n",
    "plt.xlabel('Платформы', fontsize=10)\n",
    "plt.ylabel('Продажи, млн шт',fontsize=12)\n",
    "plt.show()"
   ]
  },
  {
   "cell_type": "markdown",
   "metadata": {},
   "source": [
    "**Из графика видно:**\n",
    "\n",
    "* для пользователей Америки самыми популярными платформами являются PS4 (100 млн. шт) и XOne (более 80 млн. шт), платформы 3DS и WiiU имеют одинаковые кол-во продаж (около 20 млн. шт), самыми не популярными платформами являются PC и PSV.\n",
    "* для пользователей Европы самыми популярными платформами также являются PS4 (130 млн. шт) и XOne (более 50 млн. шт), платформы 3DS, WiiU и PC имеют одинаковые кол-во продаж (около 19 млн. шт), самыми не популярными платформой является PSV.\n",
    "* для пользователей Японии самой популярной платформой является 3DS (около 50 млн. шт), платформы PS4 и PSV имеют одинаковые кол-во продаж (чуть ниже 19 млн. шт), самыми не популярными платформами являются WiiU, XOne и PC."
   ]
  },
  {
   "cell_type": "markdown",
   "metadata": {},
   "source": [
    "<div class=\"alert alert-warning\">\n",
    "    <h2> Комментарий ревьюера v1 <a class=\"tocSkip\"> </h2>\n",
    "    \n",
    "<b>Небольшие замечания и рекомендации💡:</b> Отлично) Было бы круто, расположить на разных графиках результаты по каждому региону) "
   ]
  },
  {
   "cell_type": "markdown",
   "metadata": {},
   "source": [
    "**Определим для пользователей каждого региона (NA, EU, JP) самые популярные жанры игр.**"
   ]
  },
  {
   "cell_type": "code",
   "execution_count": 58,
   "metadata": {},
   "outputs": [
    {
     "data": {
      "image/png": "[encoded data removed]",
      "text/plain": [
       "<Figure size 1080x576 with 1 Axes>"
      ]
     },
     "metadata": {
      "needs_background": "light"
     },
     "output_type": "display_data"
    }
   ],
   "source": [
    "# сумма проданных копий для Северной Америки по жанрам\n",
    "na_genre = games_fresh.groupby(['genre'])['na_sales'].agg(['sum'])\n",
    "# сумма проданных копий для Европы по жанрам\n",
    "eu_genre = games_fresh.groupby(['genre'])['eu_sales'].agg(['sum'])\n",
    "# сумма проданных копий для Японии по жанрам\n",
    "jp_genre = games_fresh.groupby(['genre'])['jp_sales'].agg(['sum'])\n",
    "# объединяем Series\n",
    "users_genre = pd.concat([na_genre, eu_genre, jp_genre], axis=1).reset_index()\n",
    "users_genre.columns = ['genre', 'american_user', 'europe_user', 'japan_user']\n",
    "users_genre = users_genre.sort_values(by='american_user', ascending=False)\n",
    "# строим bar plot\n",
    "users_genre.plot.bar(x=\"genre\", rot=0, figsize =(15, 8))\n",
    "plt.title('Сравнение популярности жанров в разных странах', fontsize=14)\n",
    "plt.xlabel('Жанры', fontsize=10)\n",
    "plt.ylabel('Продажи, млн шт',fontsize=12)\n",
    "plt.show()"
   ]
  },
  {
   "cell_type": "markdown",
   "metadata": {},
   "source": [
    "**Из графика видно:**\n",
    "\n",
    "* для пользователей Америки самыми популярными жанрами являются Shooter (более 60 млн. шт) и Action (60 млн. шт), жанры Sports и Role-Playing имеют одинаковое количество продаж (около 30 млн. шт), самыми не популярными жанрами в Америке являются Strategy и Puzzle.\n",
    "* для пользователей Европы самыми популярными жанрами также являются Action (более 60 млн. шт) и Shooter (более 55 млн. шт), жанры Sports и Role-Playing имеют приблизительно одинаковое количество продаж (около 30 млн. шт), самыми не популярными жанрами в Европе также являются Strategy и Puzzle.\n",
    "* для пользователей Японии самыми популярными жанрами с подавляющим преимуществом являются Role-Playing и Action (27 млн. шт), затем следуют несолько жанров Fighting, Misc, Adventure, Shooter имеют одинаковые кол-во продаж (около 5 млн. шт), самыми не популярными жанрами в Японии являются Strategy и Puzzle.\n",
    "\n",
    "**Определим влияние рейтинга ESRB на продажи в отдельном регионе.**"
   ]
  },
  {
   "cell_type": "markdown",
   "metadata": {},
   "source": [
    "<div class=\"alert alert-warning\">\n",
    "    <h2> Комментарий ревьюера v1 <a class=\"tocSkip\"> </h2>\n",
    "    \n",
    "<b>Небольшие замечания и рекомендации💡:</b> Справделив комментарий выше) "
   ]
  },
  {
   "cell_type": "code",
   "execution_count": 59,
   "metadata": {},
   "outputs": [
    {
     "data": {
      "image/png": "[encoded data removed]",
      "text/plain": [
       "<Figure size 1080x576 with 1 Axes>"
      ]
     },
     "metadata": {
      "needs_background": "light"
     },
     "output_type": "display_data"
    }
   ],
   "source": [
    "# сумма проданных копий для Северной Америки по рейтингу\n",
    "na_rating = games_fresh.groupby(['rating'])['na_sales'].agg(['sum'])\n",
    "# сумма проданных копий для Европы по рейтингу\n",
    "eu_rating = games_fresh.groupby(['rating'])['eu_sales'].agg(['sum'])\n",
    "# сумма проданных копий для Японии по рейтингу\n",
    "jp_rating = games_fresh.groupby(['rating'])['jp_sales'].agg(['sum'])\n",
    "# объединяем Series \n",
    "users_rat = pd.concat([na_rating, eu_rating, jp_rating], axis=1).reset_index()\n",
    "users_rat.columns = ['rating', 'american_user', 'europe_user', 'japan_user']\n",
    "users_rat = users_rat.sort_values(by='american_user', ascending=False)\n",
    "users_rat \n",
    "# строим bar plot\n",
    "users_rat.plot.bar(x=\"rating\", rot=0, figsize =(15, 8))\n",
    "plt.title('Сравнение популярности рейтингов игр в разных странах', fontsize=14)\n",
    "plt.xlabel('Рейтинг', fontsize=10)\n",
    "plt.ylabel('Продажи, млн шт',fontsize=12)\n",
    "plt.show()"
   ]
  },
  {
   "cell_type": "markdown",
   "metadata": {},
   "source": [
    "**Из графика видно:**\n",
    "\n",
    "* для пользователей Америки и Европы самые популярные игры с рейтингом М (80 млн. шт), затем следуют игры с неопределенным рейтингом Unknown (более 50 млн. шт), далее соответственно с рейтингом Е, Т и Е10+. Можно сказать, что в Америке и Европе пользователи отдают предпочтение одинаковым играм с одним и тем же рейтингом.\n",
    "* для пользователей Японии кардинально иная картина влияния рейтингов игр на продажи. Самыми популярными являются игры с рейтингом Unknown (50 млн. шт), затем с рейтингом Т, Е, М и Е10+."
   ]
  },
  {
   "cell_type": "markdown",
   "metadata": {},
   "source": [
    "<div class=\"alert alert-warning\">\n",
    "    <h2> Комментарий ревьюера v1 <a class=\"tocSkip\"> </h2>\n",
    "    \n",
    "<b>Небольшие замечания и рекомендации💡:</b>Тоже самое)"
   ]
  },
  {
   "cell_type": "markdown",
   "metadata": {},
   "source": [
    "**Вывод:**\n",
    "\n",
    "В данном пункте проведены исследования для определения портрета пользователя каждого региона. Можно отметить, что предпочтения пользователей Америки и Европы во многом схожи, самыми популярными платформами являются PS4 и XOne, любимые жанры - Shooter и Action, игры с рейтингом М и Unknown. В связи с многочисленностью пользователей в данных регионах бизнесу повышенное внимание в первую очередь стоит обратить на указанные платформы и жанры игр. Предпочтения пользователей из Японии существенно отличаются, самой популярной платформой являются 3DS, любимые жанры - Role-Playing и Action и игры с рейтингом Unknown."
   ]
  },
  {
   "cell_type": "markdown",
   "metadata": {},
   "source": [
    "<div class=\"alert alert-success\">\n",
    "<h2> Комментарий ревьюера v1 <a class=\"tocSkip\"> </h2>\n",
    "\n",
    "<b>Все супер!👍:</b> Хорошая работа по разделу! Молодец:)"
   ]
  },
  {
   "cell_type": "markdown",
   "metadata": {},
   "source": [
    "## Проверка гипотез"
   ]
  },
  {
   "cell_type": "markdown",
   "metadata": {},
   "source": [
    "**Средние пользовательские рейтинги платформ Xbox One и PC одинаковые**\n",
    "\n",
    "**Нулевая гипотеза:** Средние пользовательские рейтинги платформ Xbox One и PC одинаковые.\n",
    "\n",
    "**Альтернативная гипотеза:** Средние пользовательские рейтинги платформ Xbox One и PC различаются."
   ]
  },
  {
   "cell_type": "markdown",
   "metadata": {},
   "source": [
    "<div class=\"alert alert-success\">\n",
    "<h2> Комментарий ревьюера v1 <a class=\"tocSkip\"> </h2>\n",
    "\n",
    "<b>Все супер!👍:</b> Гипотезы сформулированы верно)"
   ]
  },
  {
   "cell_type": "code",
   "execution_count": 60,
   "metadata": {},
   "outputs": [
    {
     "name": "stdout",
     "output_type": "stream",
     "text": [
      "p-значение: 0.12481511051825932\n",
      "Не получилось отвергнуть нулевую гипотезу\n"
     ]
    }
   ],
   "source": [
    "# удаляем значения-заглушки\n",
    "games_fresh[games_fresh['user_score'] != -10]\n",
    "\n",
    "results = st.ttest_ind(games_fresh.query('platform == \"XOne\"')['user_score'], games_fresh.query('platform == \"PC\"')['user_score'])\n",
    "\n",
    "alpha = 0.05\n",
    "print('p-значение:', results.pvalue)\n",
    "\n",
    "if results.pvalue < alpha:\n",
    "    print(\"Отвергаем нулевую гипотезу\")\n",
    "else:\n",
    "    print(\"Не получилось отвергнуть нулевую гипотезу\")"
   ]
  },
  {
   "cell_type": "markdown",
   "metadata": {},
   "source": [
    "**Вывод:** p-значение: 0.12481511051825932\n",
    "\n",
    "нет оснований утверждать, что средние пользовательские рейтинги платформ Xbox One и PC значимо различаются. Принимаем нулевую гипотезу, p-значение больше значения alpha, что дает основание принять предположение об отсутствии различий между средними пользовательскими рейтингами платформ Xbox One и PC"
   ]
  },
  {
   "cell_type": "markdown",
   "metadata": {},
   "source": [
    "<div class=\"alert alert-success\">\n",
    "<h2> Комментарий ревьюера v1 <a class=\"tocSkip\"> </h2>\n",
    "\n",
    "<b>Все супер!👍:</b> Отлично"
   ]
  },
  {
   "cell_type": "markdown",
   "metadata": {},
   "source": [
    "**Средние пользовательские рейтинги жанров Action и Sports разные**\n",
    "\n",
    "**Нулевая гипотеза:** Средние пользовательские рейтинги жанров Action и Sports одинаковые.\n",
    "\n",
    "**Альтернативная гипотеза:** Средние пользовательские рейтинги жанров Action и Sports различаются."
   ]
  },
  {
   "cell_type": "markdown",
   "metadata": {},
   "source": [
    "<div class=\"alert alert-success\">\n",
    "<h2> Комментарий ревьюера v1 <a class=\"tocSkip\"> </h2>\n",
    "\n",
    "<b>Все супер!👍:</b> Гипотезы сформулированы верно"
   ]
  },
  {
   "cell_type": "code",
   "execution_count": 61,
   "metadata": {},
   "outputs": [
    {
     "name": "stdout",
     "output_type": "stream",
     "text": [
      "p-значение: 3.690722894578082e-08\n",
      "Отвергаем нулевую гипотезу\n"
     ]
    }
   ],
   "source": [
    "results = st.ttest_ind(games_fresh.query('genre == \"Action\"')['user_score'], games_fresh.query('genre == \"Sports\"')['user_score'])\n",
    "\n",
    "alpha = 0.05 # критический уровень статистической значимости\n",
    "# если p-value окажется меньше него - отвегнем гипотезу\n",
    "\n",
    "print('p-значение:', results.pvalue)\n",
    "\n",
    "if results.pvalue < alpha:\n",
    "    print(\"Отвергаем нулевую гипотезу\")\n",
    "else:\n",
    "    print(\"Не получилось отвергнуть нулевую гипотезу\")"
   ]
  },
  {
   "cell_type": "markdown",
   "metadata": {},
   "source": [
    "**Вывод:** p-значение: 2.083064105338575e-07\n",
    "\n",
    "Принимаем альтернативную гипотезу, p-значение достаточно мало, что дает основание отвергнуть предположение об отсутствии различий между cредними пользовательскими рейтингами жанров Action и Sports."
   ]
  },
  {
   "cell_type": "markdown",
   "metadata": {},
   "source": [
    "<div class=\"alert alert-success\">\n",
    "<h2> Комментарий ревьюера v1 <a class=\"tocSkip\"> </h2>\n",
    "\n",
    "<b>Все супер!👍:</b>Хорошо)"
   ]
  },
  {
   "cell_type": "markdown",
   "metadata": {},
   "source": [
    "## Итоговый вывод"
   ]
  },
  {
   "cell_type": "markdown",
   "metadata": {},
   "source": [
    "**В ходе выполнения данного проекта:**\n",
    "\n",
    "* Проведен обзор данных и выполнена предобработка данных, выявлены недостатки в данных, были обработаны пропуски, в некоторых случаях строки были удалены за ненадобностью, в некоторых пропуски были заменены на значение заглушку (-10), также были расчитаны суммарные продажи по регионам и записаны в отдельный столбец 'total_sales'.\n",
    "\n",
    "**Проведен исследовательский анализ данных:**\n",
    "\n",
    "* Построен график количества игр выпускавшихся в разные годы.\n",
    "* Построен график как менялись продажи по платформам. Указаны платформы с наибольшими продажами и распределение по годам.\n",
    "* По итогам анализа данных, выбран соответствующий актуальный период.\n",
    "* Построен график зависимости продаж от типа платформ за актуальный период.\n",
    "* Построен график «ящик с усами» по продажам игр в разбивке по платформам.\n",
    "* Проведен анализ влияния на продажи отзывов пользователей и критиков. Построена диаграмма рассеяния и расчитан коэффициент * * корреляции между отзывами и продажами\n",
    "\n",
    "**Вывод:**\n",
    "\n",
    "* Начиная с 2000 года начался рост количества игр, с 2002 по 2004 небольшой \"застой\", а затем резкий скачок до 2008-2009г, где наблюдался пик количества игр, затем наступил спад вплоть до 2016г.\n",
    "* Платформы с наибольшими суммарными продажами, PS2, X360, PS3, Wii, DS, PS. Данные 6 платформ выделяются от всех остальных наибольшими суммарными продажами.\n",
    "* В целях формирования прогноза на 2017 года имеет смысл проводить анализ по последние 2-3 года c сохранением данных за 2016г. Выбран соответствующий актуальный период 2014-2016гг.\n",
    "* По результатам анализа количества продаж за актуальный период, при дальнейшей обработке и анализе имеет смысл не учитывать платформы с минимальными продажами. Минимальные продажи у платформ PS3, X360, Wii, PSP.\n",
    "* Из анализа графика «ящик с усами» следует, что большей популярностью пользуются платформы PS4, WiiU и XOne. У платформ PS4, WiiU и XOne одинаковы медианные значения продаж (0.185, 0.190, 0.205 соответственно), также приблизительно равны среднее арифметическое значение продаж (0.766356, 0.588767, 0.615614 соответственно).\n",
    "* Из построенных диаграмм рассеяния и расчета коэффициента корреляции по каждой платформе между отзывами и продажами видно, что оценки критиков для всех платформ практически не влияют или имеют очень слабое влияние на продажи. Оценки пользователей также имеют очень слабое влияние на продажи и не влияют совсем.\n",
    "\n",
    "\n",
    "**Составлен портрет пользователя каждого региона**\n",
    "\n",
    "* Определены для пользователя каждого региона (NA, EU, JP) самые популярные платформы, жанры, а также влияние рейтинга ESRB на продажи в регионах.\n",
    "\n",
    "**Вывод:** Предпочтения пользователей Америки и Европы во многом схожи, самыми популярными платформами являются PS4 и XOne, любимые жанры - Shooter и Action, игры с рейтингом М и Unknown. В связи с многочисленностью пользователей в данных регионах бизнесу повышенное внимание в первую очередь стоит обратить на указанные платформы и жанры игр. Предпочтения пользователей из Японии существенно отличаются, самой популярной платформой являются 3DS, любимые жанры - Role-Playing и Action и игры с рейтингом Unknown.\n",
    "\n",
    "**Проведена проверка двух гипотез:**\n",
    "\n",
    "* Средние пользовательские рейтинги платформ Xbox One и PC одинаковые;\n",
    "* Средние пользовательские рейтинги жанров Action и Sports разные.\n",
    "\n",
    "**Результаты проверки гипотез:**\n",
    "* Первая гипотеза: Принимаем нулевую гипотезу.\n",
    "* Вторая гипотеза: Принимаем альтернативную гипотезу."
   ]
  },
  {
   "cell_type": "markdown",
   "metadata": {},
   "source": [
    "<div class=\"alert alert-block alert-danger\">\n",
    "<h2> Комментарий ревьюера v1 <a class=\"tocSkip\"></h2>\n",
    "\n",
    "<b>На доработку🤔:</b>  Доработаем по мотивам ошибок) И не забывай подписывать оси и названия заголовков у графиков - это хороший тон! "
   ]
  },
  {
   "cell_type": "markdown",
   "metadata": {},
   "source": [
    "<div class=\"alert alert-success\">\n",
    "<h2> Комментарий ревьюера v2 <a class=\"tocSkip\"> </h2>\n",
    "\n",
    "<b>Все супер!👍:</b> Вывод отражает проделанную работу! "
   ]
  },
  {
   "cell_type": "markdown",
   "metadata": {},
   "source": [
    "<div style=\"border:solid Chocolate 2px; padding: 40px\">\n",
    "    \n",
    "**Общий вывод по проекту ревьювера**:\n",
    "Андрей, спасибо за  проект! Ты приложил много усилий, чтобы довести его до конца, проделана огромная работа, и это видно невооруженным глазом, ты большой молодец!\n",
    "    \n",
    "**Отмечу положительные моменты**:\n",
    "    \n",
    "    1. Все разложено по полочкам, всегда понятен ход твоих мыслей, приятно смотреть\n",
    "    \n",
    "    2. Отличные визуализации\n",
    "    \n",
    "    3. На разных шагах проекта ты предлагал очень интересные решения и методы для их реализации. Хорошая работа!\n",
    "    \n",
    "    \n",
    "**На что стоит обратить внимание**:\n",
    "    \n",
    "    1. Неверно определены популярные жанры \n",
    "    \n",
    "    \n",
    "**Удачи и жду твой проект на повторное ревью!**"
   ]
  },
  {
   "cell_type": "markdown",
   "metadata": {},
   "source": [
    "<div style=\"border:solid Chocolate 2px; padding: 40px\">\n",
    "    \n",
    "**Общий вывод по проекту ревьювера v2**:\n",
    "Андрей, ошибки исправлены, проект принят, поздравляю тебя! Успешной учебы и еще увидимся в Практикуме!"
   ]
  },
  {
   "cell_type": "code",
   "execution_count": null,
   "metadata": {},
   "outputs": [],
   "source": []
  }
 ],
 "metadata": {
  "ExecuteTimeLog": [
   {
    "duration": 1388,
    "start_time": "2023-02-28T15:15:52.407Z"
   },
   {
    "duration": 111,
    "start_time": "2023-02-28T15:16:24.013Z"
   },
   {
    "duration": 20,
    "start_time": "2023-02-28T15:16:48.839Z"
   },
   {
    "duration": 15,
    "start_time": "2023-02-28T15:17:09.140Z"
   },
   {
    "duration": 13,
    "start_time": "2023-02-28T15:17:27.953Z"
   },
   {
    "duration": 14,
    "start_time": "2023-02-28T15:17:28.129Z"
   },
   {
    "duration": 14,
    "start_time": "2023-02-28T15:17:43.858Z"
   },
   {
    "duration": 9,
    "start_time": "2023-02-28T15:17:51.913Z"
   },
   {
    "duration": 21,
    "start_time": "2023-02-28T15:20:07.106Z"
   },
   {
    "duration": 15,
    "start_time": "2023-02-28T15:27:43.308Z"
   },
   {
    "duration": 8,
    "start_time": "2023-02-28T15:29:44.633Z"
   },
   {
    "duration": 15,
    "start_time": "2023-02-28T15:29:48.417Z"
   },
   {
    "duration": 6,
    "start_time": "2023-02-28T15:29:54.637Z"
   },
   {
    "duration": 15,
    "start_time": "2023-02-28T15:30:08.815Z"
   },
   {
    "duration": 12,
    "start_time": "2023-02-28T15:30:59.564Z"
   },
   {
    "duration": 10,
    "start_time": "2023-02-28T15:31:24.516Z"
   },
   {
    "duration": 16,
    "start_time": "2023-02-28T15:32:10.911Z"
   },
   {
    "duration": 12,
    "start_time": "2023-02-28T15:32:58.171Z"
   },
   {
    "duration": 9,
    "start_time": "2023-02-28T15:33:39.947Z"
   },
   {
    "duration": 7,
    "start_time": "2023-02-28T15:33:46.513Z"
   },
   {
    "duration": 10,
    "start_time": "2023-02-28T15:34:01.832Z"
   },
   {
    "duration": 16,
    "start_time": "2023-02-28T15:34:05.633Z"
   },
   {
    "duration": 10,
    "start_time": "2023-02-28T15:34:06.833Z"
   },
   {
    "duration": 8,
    "start_time": "2023-02-28T15:34:08.613Z"
   },
   {
    "duration": 8,
    "start_time": "2023-02-28T15:34:11.147Z"
   },
   {
    "duration": 6,
    "start_time": "2023-02-28T15:34:13.035Z"
   },
   {
    "duration": 36,
    "start_time": "2023-02-28T15:34:25.979Z"
   },
   {
    "duration": 17,
    "start_time": "2023-02-28T15:35:02.495Z"
   },
   {
    "duration": 17,
    "start_time": "2023-02-28T15:36:36.346Z"
   },
   {
    "duration": 21,
    "start_time": "2023-02-28T15:37:05.770Z"
   },
   {
    "duration": 11,
    "start_time": "2023-02-28T15:37:33.392Z"
   },
   {
    "duration": 51,
    "start_time": "2023-02-28T15:37:48.815Z"
   },
   {
    "duration": 13,
    "start_time": "2023-02-28T15:38:38.008Z"
   },
   {
    "duration": 4,
    "start_time": "2023-02-28T15:38:50.361Z"
   },
   {
    "duration": 12,
    "start_time": "2023-02-28T15:38:56.717Z"
   },
   {
    "duration": 13,
    "start_time": "2023-02-28T15:39:06.073Z"
   },
   {
    "duration": 1018,
    "start_time": "2023-02-28T15:46:42.933Z"
   },
   {
    "duration": 0,
    "start_time": "2023-02-28T15:46:43.953Z"
   },
   {
    "duration": 972,
    "start_time": "2023-02-28T15:47:05.079Z"
   },
   {
    "duration": 9,
    "start_time": "2023-02-28T16:00:20.833Z"
   },
   {
    "duration": 4,
    "start_time": "2023-02-28T16:00:38.449Z"
   },
   {
    "duration": 26,
    "start_time": "2023-02-28T16:00:40.575Z"
   },
   {
    "duration": 18,
    "start_time": "2023-02-28T16:00:42.812Z"
   },
   {
    "duration": 4,
    "start_time": "2023-02-28T16:00:51.220Z"
   },
   {
    "duration": 5,
    "start_time": "2023-02-28T16:01:18.560Z"
   },
   {
    "duration": 38,
    "start_time": "2023-02-28T16:01:18.975Z"
   },
   {
    "duration": 14,
    "start_time": "2023-02-28T16:01:19.521Z"
   },
   {
    "duration": 206,
    "start_time": "2023-02-28T16:03:43.149Z"
   },
   {
    "duration": 258,
    "start_time": "2023-02-28T16:06:09.774Z"
   },
   {
    "duration": 174,
    "start_time": "2023-02-28T16:07:04.760Z"
   },
   {
    "duration": 56,
    "start_time": "2023-02-28T16:07:18.403Z"
   },
   {
    "duration": 196,
    "start_time": "2023-02-28T16:07:43.080Z"
   },
   {
    "duration": 176,
    "start_time": "2023-02-28T16:08:15.125Z"
   },
   {
    "duration": 173,
    "start_time": "2023-02-28T16:10:19.955Z"
   },
   {
    "duration": 66,
    "start_time": "2023-02-28T16:10:27.458Z"
   },
   {
    "duration": 186,
    "start_time": "2023-02-28T16:10:47.667Z"
   },
   {
    "duration": 232,
    "start_time": "2023-02-28T16:10:52.241Z"
   },
   {
    "duration": 63,
    "start_time": "2023-02-28T16:10:59.251Z"
   },
   {
    "duration": 204,
    "start_time": "2023-02-28T16:11:20.050Z"
   },
   {
    "duration": 6,
    "start_time": "2023-02-28T16:13:33.743Z"
   },
   {
    "duration": 17,
    "start_time": "2023-02-28T16:15:09.983Z"
   },
   {
    "duration": 5,
    "start_time": "2023-02-28T16:15:13.054Z"
   },
   {
    "duration": 24,
    "start_time": "2023-02-28T16:15:25.149Z"
   },
   {
    "duration": 7,
    "start_time": "2023-02-28T16:15:31.402Z"
   },
   {
    "duration": 53,
    "start_time": "2023-02-28T16:15:54.174Z"
   },
   {
    "duration": 17,
    "start_time": "2023-02-28T16:16:23.199Z"
   },
   {
    "duration": 156,
    "start_time": "2023-02-28T16:16:30.860Z"
   },
   {
    "duration": 130,
    "start_time": "2023-02-28T16:21:53.480Z"
   },
   {
    "duration": 130,
    "start_time": "2023-02-28T16:22:40.233Z"
   },
   {
    "duration": 124,
    "start_time": "2023-02-28T16:23:09.113Z"
   },
   {
    "duration": 128,
    "start_time": "2023-02-28T16:23:41.527Z"
   },
   {
    "duration": 134,
    "start_time": "2023-02-28T16:24:20.306Z"
   },
   {
    "duration": 128,
    "start_time": "2023-02-28T16:24:57.805Z"
   },
   {
    "duration": 129,
    "start_time": "2023-02-28T16:25:36.613Z"
   },
   {
    "duration": 135,
    "start_time": "2023-02-28T16:25:46.340Z"
   },
   {
    "duration": 162,
    "start_time": "2023-02-28T16:26:02.920Z"
   },
   {
    "duration": 129,
    "start_time": "2023-02-28T16:26:35.988Z"
   },
   {
    "duration": 44,
    "start_time": "2023-02-28T16:26:45.600Z"
   },
   {
    "duration": 2,
    "start_time": "2023-02-28T16:28:00.069Z"
   },
   {
    "duration": 379,
    "start_time": "2023-02-28T16:28:48.423Z"
   },
   {
    "duration": 24,
    "start_time": "2023-02-28T16:28:59.625Z"
   },
   {
    "duration": 285,
    "start_time": "2023-02-28T16:33:28.226Z"
   },
   {
    "duration": 356,
    "start_time": "2023-02-28T16:34:17.583Z"
   },
   {
    "duration": 296,
    "start_time": "2023-02-28T16:34:54.239Z"
   },
   {
    "duration": 60,
    "start_time": "2023-02-28T16:37:12.725Z"
   },
   {
    "duration": 301,
    "start_time": "2023-02-28T16:37:28.356Z"
   },
   {
    "duration": 316,
    "start_time": "2023-02-28T16:38:15.510Z"
   },
   {
    "duration": 327,
    "start_time": "2023-02-28T16:38:52.239Z"
   },
   {
    "duration": 240,
    "start_time": "2023-02-28T16:41:21.297Z"
   },
   {
    "duration": 62,
    "start_time": "2023-02-28T16:41:30.062Z"
   },
   {
    "duration": 285,
    "start_time": "2023-02-28T16:42:46.207Z"
   },
   {
    "duration": 326,
    "start_time": "2023-02-28T16:43:45.709Z"
   },
   {
    "duration": 206,
    "start_time": "2023-02-28T16:44:39.034Z"
   },
   {
    "duration": 11,
    "start_time": "2023-02-28T16:46:53.223Z"
   },
   {
    "duration": 9,
    "start_time": "2023-02-28T16:48:26.059Z"
   },
   {
    "duration": 57,
    "start_time": "2023-02-28T17:29:12.195Z"
   },
   {
    "duration": 192,
    "start_time": "2023-02-28T17:50:28.335Z"
   },
   {
    "duration": 265,
    "start_time": "2023-02-28T17:51:08.029Z"
   },
   {
    "duration": 187,
    "start_time": "2023-02-28T17:51:14.189Z"
   },
   {
    "duration": 183,
    "start_time": "2023-02-28T17:51:20.027Z"
   },
   {
    "duration": 185,
    "start_time": "2023-02-28T17:51:37.613Z"
   },
   {
    "duration": 12,
    "start_time": "2023-02-28T17:54:37.049Z"
   },
   {
    "duration": 12,
    "start_time": "2023-02-28T18:04:04.418Z"
   },
   {
    "duration": 19,
    "start_time": "2023-02-28T18:04:12.051Z"
   },
   {
    "duration": 1062,
    "start_time": "2023-02-28T18:04:42.612Z"
   },
   {
    "duration": 66,
    "start_time": "2023-02-28T18:04:43.676Z"
   },
   {
    "duration": 17,
    "start_time": "2023-02-28T18:04:43.744Z"
   },
   {
    "duration": 13,
    "start_time": "2023-02-28T18:04:43.763Z"
   },
   {
    "duration": 14,
    "start_time": "2023-02-28T18:04:43.778Z"
   },
   {
    "duration": 8,
    "start_time": "2023-02-28T18:04:43.793Z"
   },
   {
    "duration": 16,
    "start_time": "2023-02-28T18:04:43.802Z"
   },
   {
    "duration": 15,
    "start_time": "2023-02-28T18:04:43.820Z"
   },
   {
    "duration": 7,
    "start_time": "2023-02-28T18:04:43.836Z"
   },
   {
    "duration": 9,
    "start_time": "2023-02-28T18:04:43.846Z"
   },
   {
    "duration": 33,
    "start_time": "2023-02-28T18:04:43.856Z"
   },
   {
    "duration": 14,
    "start_time": "2023-02-28T18:04:43.890Z"
   },
   {
    "duration": 7,
    "start_time": "2023-02-28T18:04:43.906Z"
   },
   {
    "duration": 10,
    "start_time": "2023-02-28T18:04:43.915Z"
   },
   {
    "duration": 6,
    "start_time": "2023-02-28T18:04:43.927Z"
   },
   {
    "duration": 21,
    "start_time": "2023-02-28T18:04:43.935Z"
   },
   {
    "duration": 10,
    "start_time": "2023-02-28T18:04:43.986Z"
   },
   {
    "duration": 40,
    "start_time": "2023-02-28T18:04:43.997Z"
   },
   {
    "duration": 20,
    "start_time": "2023-02-28T18:04:44.038Z"
   },
   {
    "duration": 5,
    "start_time": "2023-02-28T18:04:44.059Z"
   },
   {
    "duration": 20,
    "start_time": "2023-02-28T18:04:44.066Z"
   },
   {
    "duration": 3,
    "start_time": "2023-02-28T18:04:44.087Z"
   },
   {
    "duration": 4,
    "start_time": "2023-02-28T18:04:44.092Z"
   },
   {
    "duration": 17,
    "start_time": "2023-02-28T18:04:44.097Z"
   },
   {
    "duration": 14,
    "start_time": "2023-02-28T18:04:44.116Z"
   },
   {
    "duration": 245,
    "start_time": "2023-02-28T18:04:44.131Z"
   },
   {
    "duration": 251,
    "start_time": "2023-02-28T18:04:44.378Z"
   },
   {
    "duration": 182,
    "start_time": "2023-02-28T18:04:44.632Z"
   },
   {
    "duration": 173,
    "start_time": "2023-02-28T18:04:44.816Z"
   },
   {
    "duration": 178,
    "start_time": "2023-02-28T18:04:44.991Z"
   },
   {
    "duration": 170,
    "start_time": "2023-02-28T18:04:45.171Z"
   },
   {
    "duration": 178,
    "start_time": "2023-02-28T18:04:45.343Z"
   },
   {
    "duration": 223,
    "start_time": "2023-02-28T18:04:45.522Z"
   },
   {
    "duration": 135,
    "start_time": "2023-02-28T18:04:45.746Z"
   },
   {
    "duration": 0,
    "start_time": "2023-02-28T18:04:45.882Z"
   },
   {
    "duration": 0,
    "start_time": "2023-02-28T18:04:45.887Z"
   },
   {
    "duration": 0,
    "start_time": "2023-02-28T18:04:45.889Z"
   },
   {
    "duration": 0,
    "start_time": "2023-02-28T18:04:45.891Z"
   },
   {
    "duration": 0,
    "start_time": "2023-02-28T18:04:45.892Z"
   },
   {
    "duration": 0,
    "start_time": "2023-02-28T18:04:45.894Z"
   },
   {
    "duration": 0,
    "start_time": "2023-02-28T18:04:45.895Z"
   },
   {
    "duration": 0,
    "start_time": "2023-02-28T18:04:45.897Z"
   },
   {
    "duration": 0,
    "start_time": "2023-02-28T18:04:45.898Z"
   },
   {
    "duration": 0,
    "start_time": "2023-02-28T18:04:45.900Z"
   },
   {
    "duration": 0,
    "start_time": "2023-02-28T18:04:45.901Z"
   },
   {
    "duration": 0,
    "start_time": "2023-02-28T18:04:45.902Z"
   },
   {
    "duration": 0,
    "start_time": "2023-02-28T18:04:45.903Z"
   },
   {
    "duration": 0,
    "start_time": "2023-02-28T18:04:45.904Z"
   },
   {
    "duration": 0,
    "start_time": "2023-02-28T18:04:45.905Z"
   },
   {
    "duration": 0,
    "start_time": "2023-02-28T18:04:45.907Z"
   },
   {
    "duration": 0,
    "start_time": "2023-02-28T18:04:45.908Z"
   },
   {
    "duration": 0,
    "start_time": "2023-02-28T18:04:45.910Z"
   },
   {
    "duration": 0,
    "start_time": "2023-02-28T18:04:45.911Z"
   },
   {
    "duration": 0,
    "start_time": "2023-02-28T18:04:45.912Z"
   },
   {
    "duration": 0,
    "start_time": "2023-02-28T18:04:45.914Z"
   },
   {
    "duration": 0,
    "start_time": "2023-02-28T18:04:45.916Z"
   },
   {
    "duration": 0,
    "start_time": "2023-02-28T18:04:45.917Z"
   },
   {
    "duration": 0,
    "start_time": "2023-02-28T18:04:45.918Z"
   },
   {
    "duration": 0,
    "start_time": "2023-02-28T18:04:45.919Z"
   },
   {
    "duration": 0,
    "start_time": "2023-02-28T18:04:45.920Z"
   },
   {
    "duration": 0,
    "start_time": "2023-02-28T18:04:45.921Z"
   },
   {
    "duration": 14,
    "start_time": "2023-02-28T18:05:07.009Z"
   },
   {
    "duration": 14,
    "start_time": "2023-02-28T18:05:23.217Z"
   },
   {
    "duration": 21,
    "start_time": "2023-02-28T18:05:32.017Z"
   },
   {
    "duration": 20,
    "start_time": "2023-02-28T18:05:38.224Z"
   },
   {
    "duration": 13,
    "start_time": "2023-02-28T18:06:36.591Z"
   },
   {
    "duration": 12,
    "start_time": "2023-02-28T18:06:40.976Z"
   },
   {
    "duration": 45,
    "start_time": "2023-02-28T18:06:51.648Z"
   },
   {
    "duration": 7,
    "start_time": "2023-02-28T18:06:55.759Z"
   },
   {
    "duration": 8,
    "start_time": "2023-02-28T18:07:12.357Z"
   },
   {
    "duration": 6,
    "start_time": "2023-02-28T18:07:21.552Z"
   },
   {
    "duration": 8,
    "start_time": "2023-02-28T18:07:34.447Z"
   },
   {
    "duration": 7,
    "start_time": "2023-02-28T18:08:11.566Z"
   },
   {
    "duration": 13,
    "start_time": "2023-02-28T18:08:55.085Z"
   },
   {
    "duration": 7,
    "start_time": "2023-02-28T18:09:03.391Z"
   },
   {
    "duration": 12,
    "start_time": "2023-02-28T18:09:17.220Z"
   },
   {
    "duration": 7,
    "start_time": "2023-02-28T18:12:31.389Z"
   },
   {
    "duration": 9,
    "start_time": "2023-02-28T18:13:14.459Z"
   },
   {
    "duration": 7,
    "start_time": "2023-02-28T18:13:20.827Z"
   },
   {
    "duration": 23,
    "start_time": "2023-02-28T18:13:29.291Z"
   },
   {
    "duration": 7,
    "start_time": "2023-02-28T18:13:33.451Z"
   },
   {
    "duration": 14,
    "start_time": "2023-02-28T18:15:02.106Z"
   },
   {
    "duration": 3,
    "start_time": "2023-02-28T18:15:29.625Z"
   },
   {
    "duration": 12,
    "start_time": "2023-02-28T18:15:32.287Z"
   },
   {
    "duration": 23,
    "start_time": "2023-02-28T18:15:36.473Z"
   },
   {
    "duration": 14,
    "start_time": "2023-02-28T18:16:02.477Z"
   },
   {
    "duration": 12,
    "start_time": "2023-02-28T18:16:26.029Z"
   },
   {
    "duration": 37,
    "start_time": "2023-02-28T18:17:39.900Z"
   },
   {
    "duration": 39,
    "start_time": "2023-02-28T18:17:50.281Z"
   },
   {
    "duration": 51,
    "start_time": "2023-02-28T18:19:38.200Z"
   },
   {
    "duration": 49,
    "start_time": "2023-02-28T18:22:27.112Z"
   },
   {
    "duration": 15,
    "start_time": "2023-02-28T18:22:41.287Z"
   },
   {
    "duration": 70,
    "start_time": "2023-02-28T18:25:15.590Z"
   },
   {
    "duration": 5,
    "start_time": "2023-02-28T18:25:35.173Z"
   },
   {
    "duration": 45,
    "start_time": "2023-02-28T18:25:40.805Z"
   },
   {
    "duration": 56,
    "start_time": "2023-02-28T18:25:57.045Z"
   },
   {
    "duration": 45,
    "start_time": "2023-02-28T18:49:59.350Z"
   },
   {
    "duration": 45,
    "start_time": "2023-02-28T18:51:18.277Z"
   },
   {
    "duration": 46,
    "start_time": "2023-02-28T18:51:29.445Z"
   },
   {
    "duration": 45,
    "start_time": "2023-02-28T18:52:28.838Z"
   },
   {
    "duration": 44,
    "start_time": "2023-02-28T18:53:09.750Z"
   },
   {
    "duration": 50,
    "start_time": "2023-02-28T18:53:40.966Z"
   },
   {
    "duration": 48,
    "start_time": "2023-02-28T18:53:58.164Z"
   },
   {
    "duration": 52,
    "start_time": "2023-02-28T18:54:07.491Z"
   },
   {
    "duration": 178,
    "start_time": "2023-02-28T18:55:22.899Z"
   },
   {
    "duration": 187,
    "start_time": "2023-02-28T18:55:27.075Z"
   },
   {
    "duration": 193,
    "start_time": "2023-02-28T18:57:22.372Z"
   },
   {
    "duration": 265,
    "start_time": "2023-02-28T18:57:56.499Z"
   },
   {
    "duration": 181,
    "start_time": "2023-02-28T18:58:39.068Z"
   },
   {
    "duration": 168,
    "start_time": "2023-02-28T18:58:55.921Z"
   },
   {
    "duration": 173,
    "start_time": "2023-02-28T18:59:00.257Z"
   },
   {
    "duration": 168,
    "start_time": "2023-02-28T18:59:04.367Z"
   },
   {
    "duration": 168,
    "start_time": "2023-02-28T18:59:08.689Z"
   },
   {
    "duration": 163,
    "start_time": "2023-02-28T18:59:17.223Z"
   },
   {
    "duration": 236,
    "start_time": "2023-02-28T18:59:22.179Z"
   },
   {
    "duration": 151,
    "start_time": "2023-02-28T18:59:26.337Z"
   },
   {
    "duration": 160,
    "start_time": "2023-02-28T18:59:29.521Z"
   },
   {
    "duration": 11,
    "start_time": "2023-02-28T19:00:31.410Z"
   },
   {
    "duration": 1065,
    "start_time": "2023-02-28T19:00:38.605Z"
   },
   {
    "duration": 48,
    "start_time": "2023-02-28T19:00:39.672Z"
   },
   {
    "duration": 16,
    "start_time": "2023-02-28T19:00:39.721Z"
   },
   {
    "duration": 13,
    "start_time": "2023-02-28T19:00:39.738Z"
   },
   {
    "duration": 14,
    "start_time": "2023-02-28T19:00:39.752Z"
   },
   {
    "duration": 23,
    "start_time": "2023-02-28T19:00:39.767Z"
   },
   {
    "duration": 15,
    "start_time": "2023-02-28T19:00:39.791Z"
   },
   {
    "duration": 18,
    "start_time": "2023-02-28T19:00:39.808Z"
   },
   {
    "duration": 16,
    "start_time": "2023-02-28T19:00:39.828Z"
   },
   {
    "duration": 12,
    "start_time": "2023-02-28T19:00:39.846Z"
   },
   {
    "duration": 27,
    "start_time": "2023-02-28T19:00:39.859Z"
   },
   {
    "duration": 14,
    "start_time": "2023-02-28T19:00:39.887Z"
   },
   {
    "duration": 9,
    "start_time": "2023-02-28T19:00:39.903Z"
   },
   {
    "duration": 8,
    "start_time": "2023-02-28T19:00:39.915Z"
   },
   {
    "duration": 8,
    "start_time": "2023-02-28T19:00:39.924Z"
   },
   {
    "duration": 14,
    "start_time": "2023-02-28T19:00:39.934Z"
   },
   {
    "duration": 37,
    "start_time": "2023-02-28T19:00:39.950Z"
   },
   {
    "duration": 23,
    "start_time": "2023-02-28T19:00:39.988Z"
   },
   {
    "duration": 14,
    "start_time": "2023-02-28T19:00:40.012Z"
   },
   {
    "duration": 5,
    "start_time": "2023-02-28T19:00:40.028Z"
   },
   {
    "duration": 13,
    "start_time": "2023-02-28T19:00:40.035Z"
   },
   {
    "duration": 3,
    "start_time": "2023-02-28T19:00:40.050Z"
   },
   {
    "duration": 5,
    "start_time": "2023-02-28T19:00:40.054Z"
   },
   {
    "duration": 35,
    "start_time": "2023-02-28T19:00:40.061Z"
   },
   {
    "duration": 13,
    "start_time": "2023-02-28T19:00:40.097Z"
   },
   {
    "duration": 224,
    "start_time": "2023-02-28T19:00:40.112Z"
   },
   {
    "duration": 272,
    "start_time": "2023-02-28T19:00:40.337Z"
   },
   {
    "duration": 191,
    "start_time": "2023-02-28T19:00:40.611Z"
   },
   {
    "duration": 177,
    "start_time": "2023-02-28T19:00:40.803Z"
   },
   {
    "duration": 175,
    "start_time": "2023-02-28T19:00:40.981Z"
   },
   {
    "duration": 173,
    "start_time": "2023-02-28T19:00:41.158Z"
   },
   {
    "duration": 176,
    "start_time": "2023-02-28T19:00:41.333Z"
   },
   {
    "duration": 242,
    "start_time": "2023-02-28T19:00:41.510Z"
   },
   {
    "duration": 51,
    "start_time": "2023-02-28T19:00:41.754Z"
   },
   {
    "duration": 5,
    "start_time": "2023-02-28T19:00:41.806Z"
   },
   {
    "duration": 155,
    "start_time": "2023-02-28T19:00:41.812Z"
   },
   {
    "duration": 137,
    "start_time": "2023-02-28T19:00:41.968Z"
   },
   {
    "duration": 138,
    "start_time": "2023-02-28T19:00:42.107Z"
   },
   {
    "duration": 133,
    "start_time": "2023-02-28T19:00:42.247Z"
   },
   {
    "duration": 131,
    "start_time": "2023-02-28T19:00:42.386Z"
   },
   {
    "duration": 134,
    "start_time": "2023-02-28T19:00:42.521Z"
   },
   {
    "duration": 123,
    "start_time": "2023-02-28T19:00:42.656Z"
   },
   {
    "duration": 125,
    "start_time": "2023-02-28T19:00:42.785Z"
   },
   {
    "duration": 138,
    "start_time": "2023-02-28T19:00:42.911Z"
   },
   {
    "duration": 137,
    "start_time": "2023-02-28T19:00:43.050Z"
   },
   {
    "duration": 134,
    "start_time": "2023-02-28T19:00:43.189Z"
   },
   {
    "duration": 2,
    "start_time": "2023-02-28T19:00:43.325Z"
   },
   {
    "duration": 389,
    "start_time": "2023-02-28T19:00:43.328Z"
   },
   {
    "duration": 25,
    "start_time": "2023-02-28T19:00:43.719Z"
   },
   {
    "duration": 300,
    "start_time": "2023-02-28T19:00:43.745Z"
   },
   {
    "duration": 293,
    "start_time": "2023-02-28T19:00:44.046Z"
   },
   {
    "duration": 264,
    "start_time": "2023-02-28T19:00:44.341Z"
   },
   {
    "duration": 264,
    "start_time": "2023-02-28T19:00:44.606Z"
   },
   {
    "duration": 272,
    "start_time": "2023-02-28T19:00:44.872Z"
   },
   {
    "duration": 266,
    "start_time": "2023-02-28T19:00:45.145Z"
   },
   {
    "duration": 228,
    "start_time": "2023-02-28T19:00:45.412Z"
   },
   {
    "duration": 245,
    "start_time": "2023-02-28T19:00:45.641Z"
   },
   {
    "duration": 277,
    "start_time": "2023-02-28T19:00:45.887Z"
   },
   {
    "duration": 215,
    "start_time": "2023-02-28T19:00:46.166Z"
   },
   {
    "duration": 10,
    "start_time": "2023-02-28T19:00:46.386Z"
   },
   {
    "duration": 10,
    "start_time": "2023-02-28T19:00:46.397Z"
   },
   {
    "duration": 122,
    "start_time": "2023-02-28T19:10:11.596Z"
   },
   {
    "duration": 220,
    "start_time": "2023-02-28T19:10:16.449Z"
   },
   {
    "duration": 13,
    "start_time": "2023-02-28T19:12:29.611Z"
   },
   {
    "duration": 9,
    "start_time": "2023-02-28T19:12:32.559Z"
   },
   {
    "duration": 15,
    "start_time": "2023-02-28T19:12:39.259Z"
   },
   {
    "duration": 14,
    "start_time": "2023-02-28T19:12:41.853Z"
   },
   {
    "duration": 45,
    "start_time": "2023-02-28T19:12:53.467Z"
   },
   {
    "duration": 16,
    "start_time": "2023-02-28T19:12:58.222Z"
   },
   {
    "duration": 12,
    "start_time": "2023-02-28T19:13:00.219Z"
   },
   {
    "duration": 1158,
    "start_time": "2023-02-28T19:13:07.359Z"
   },
   {
    "duration": 48,
    "start_time": "2023-02-28T19:13:08.519Z"
   },
   {
    "duration": 19,
    "start_time": "2023-02-28T19:13:08.568Z"
   },
   {
    "duration": 29,
    "start_time": "2023-02-28T19:13:08.589Z"
   },
   {
    "duration": 22,
    "start_time": "2023-02-28T19:13:08.620Z"
   },
   {
    "duration": 12,
    "start_time": "2023-02-28T19:13:08.644Z"
   },
   {
    "duration": 40,
    "start_time": "2023-02-28T19:13:08.658Z"
   },
   {
    "duration": 21,
    "start_time": "2023-02-28T19:13:08.700Z"
   },
   {
    "duration": 10,
    "start_time": "2023-02-28T19:13:08.723Z"
   },
   {
    "duration": 9,
    "start_time": "2023-02-28T19:13:08.735Z"
   },
   {
    "duration": 41,
    "start_time": "2023-02-28T19:13:08.746Z"
   },
   {
    "duration": 16,
    "start_time": "2023-02-28T19:13:08.789Z"
   },
   {
    "duration": 8,
    "start_time": "2023-02-28T19:13:08.807Z"
   },
   {
    "duration": 12,
    "start_time": "2023-02-28T19:13:08.816Z"
   },
   {
    "duration": 8,
    "start_time": "2023-02-28T19:13:08.829Z"
   },
   {
    "duration": 55,
    "start_time": "2023-02-28T19:13:08.839Z"
   },
   {
    "duration": 12,
    "start_time": "2023-02-28T19:13:08.896Z"
   },
   {
    "duration": 24,
    "start_time": "2023-02-28T19:13:08.910Z"
   },
   {
    "duration": 17,
    "start_time": "2023-02-28T19:13:08.936Z"
   },
   {
    "duration": 34,
    "start_time": "2023-02-28T19:13:08.954Z"
   },
   {
    "duration": 13,
    "start_time": "2023-02-28T19:13:08.990Z"
   },
   {
    "duration": 10,
    "start_time": "2023-02-28T19:13:09.005Z"
   },
   {
    "duration": 10,
    "start_time": "2023-02-28T19:13:09.017Z"
   },
   {
    "duration": 19,
    "start_time": "2023-02-28T19:13:09.029Z"
   },
   {
    "duration": 16,
    "start_time": "2023-02-28T19:13:09.049Z"
   },
   {
    "duration": 220,
    "start_time": "2023-02-28T19:13:09.066Z"
   },
   {
    "duration": 270,
    "start_time": "2023-02-28T19:13:09.288Z"
   },
   {
    "duration": 190,
    "start_time": "2023-02-28T19:13:09.562Z"
   },
   {
    "duration": 185,
    "start_time": "2023-02-28T19:13:09.753Z"
   },
   {
    "duration": 185,
    "start_time": "2023-02-28T19:13:09.940Z"
   },
   {
    "duration": 189,
    "start_time": "2023-02-28T19:13:10.127Z"
   },
   {
    "duration": 175,
    "start_time": "2023-02-28T19:13:10.318Z"
   },
   {
    "duration": 224,
    "start_time": "2023-02-28T19:13:10.494Z"
   },
   {
    "duration": 45,
    "start_time": "2023-02-28T19:13:10.720Z"
   },
   {
    "duration": 21,
    "start_time": "2023-02-28T19:13:10.767Z"
   },
   {
    "duration": 159,
    "start_time": "2023-02-28T19:13:10.790Z"
   },
   {
    "duration": 142,
    "start_time": "2023-02-28T19:13:10.951Z"
   },
   {
    "duration": 136,
    "start_time": "2023-02-28T19:13:11.095Z"
   },
   {
    "duration": 123,
    "start_time": "2023-02-28T19:13:11.233Z"
   },
   {
    "duration": 129,
    "start_time": "2023-02-28T19:13:11.358Z"
   },
   {
    "duration": 138,
    "start_time": "2023-02-28T19:13:11.489Z"
   },
   {
    "duration": 120,
    "start_time": "2023-02-28T19:13:11.628Z"
   },
   {
    "duration": 137,
    "start_time": "2023-02-28T19:13:11.749Z"
   },
   {
    "duration": 130,
    "start_time": "2023-02-28T19:13:11.887Z"
   },
   {
    "duration": 144,
    "start_time": "2023-02-28T19:13:12.018Z"
   },
   {
    "duration": 133,
    "start_time": "2023-02-28T19:13:12.164Z"
   },
   {
    "duration": 2,
    "start_time": "2023-02-28T19:13:12.299Z"
   },
   {
    "duration": 371,
    "start_time": "2023-02-28T19:13:12.303Z"
   },
   {
    "duration": 28,
    "start_time": "2023-02-28T19:13:12.676Z"
   },
   {
    "duration": 271,
    "start_time": "2023-02-28T19:13:12.706Z"
   },
   {
    "duration": 285,
    "start_time": "2023-02-28T19:13:12.979Z"
   },
   {
    "duration": 259,
    "start_time": "2023-02-28T19:13:13.265Z"
   },
   {
    "duration": 268,
    "start_time": "2023-02-28T19:13:13.525Z"
   },
   {
    "duration": 300,
    "start_time": "2023-02-28T19:13:13.795Z"
   },
   {
    "duration": 275,
    "start_time": "2023-02-28T19:13:14.097Z"
   },
   {
    "duration": 213,
    "start_time": "2023-02-28T19:13:14.373Z"
   },
   {
    "duration": 241,
    "start_time": "2023-02-28T19:13:14.588Z"
   },
   {
    "duration": 278,
    "start_time": "2023-02-28T19:13:14.830Z"
   },
   {
    "duration": 213,
    "start_time": "2023-02-28T19:13:15.109Z"
   },
   {
    "duration": 10,
    "start_time": "2023-02-28T19:13:15.324Z"
   },
   {
    "duration": 10,
    "start_time": "2023-02-28T19:13:15.335Z"
   },
   {
    "duration": 13,
    "start_time": "2023-02-28T19:13:17.845Z"
   },
   {
    "duration": 14,
    "start_time": "2023-02-28T19:13:21.211Z"
   },
   {
    "duration": 10,
    "start_time": "2023-02-28T19:13:23.686Z"
   },
   {
    "duration": 9,
    "start_time": "2023-02-28T19:13:25.878Z"
   },
   {
    "duration": 1198,
    "start_time": "2023-02-28T19:13:33.484Z"
   },
   {
    "duration": 48,
    "start_time": "2023-02-28T19:13:34.685Z"
   },
   {
    "duration": 18,
    "start_time": "2023-02-28T19:13:34.735Z"
   },
   {
    "duration": 20,
    "start_time": "2023-02-28T19:13:34.756Z"
   },
   {
    "duration": 20,
    "start_time": "2023-02-28T19:13:34.778Z"
   },
   {
    "duration": 11,
    "start_time": "2023-02-28T19:13:34.799Z"
   },
   {
    "duration": 22,
    "start_time": "2023-02-28T19:13:34.812Z"
   },
   {
    "duration": 18,
    "start_time": "2023-02-28T19:13:34.836Z"
   },
   {
    "duration": 30,
    "start_time": "2023-02-28T19:13:34.856Z"
   },
   {
    "duration": 10,
    "start_time": "2023-02-28T19:13:34.888Z"
   },
   {
    "duration": 11,
    "start_time": "2023-02-28T19:13:34.900Z"
   },
   {
    "duration": 16,
    "start_time": "2023-02-28T19:13:34.913Z"
   },
   {
    "duration": 18,
    "start_time": "2023-02-28T19:13:34.931Z"
   },
   {
    "duration": 36,
    "start_time": "2023-02-28T19:13:34.951Z"
   },
   {
    "duration": 9,
    "start_time": "2023-02-28T19:13:34.988Z"
   },
   {
    "duration": 17,
    "start_time": "2023-02-28T19:13:34.998Z"
   },
   {
    "duration": 8,
    "start_time": "2023-02-28T19:13:35.017Z"
   },
   {
    "duration": 14,
    "start_time": "2023-02-28T19:13:35.027Z"
   },
   {
    "duration": 52,
    "start_time": "2023-02-28T19:13:35.043Z"
   },
   {
    "duration": 7,
    "start_time": "2023-02-28T19:13:35.096Z"
   },
   {
    "duration": 15,
    "start_time": "2023-02-28T19:13:35.104Z"
   },
   {
    "duration": 6,
    "start_time": "2023-02-28T19:13:35.121Z"
   },
   {
    "duration": 7,
    "start_time": "2023-02-28T19:13:35.129Z"
   },
   {
    "duration": 17,
    "start_time": "2023-02-28T19:13:35.138Z"
   },
   {
    "duration": 43,
    "start_time": "2023-02-28T19:13:35.157Z"
   },
   {
    "duration": 257,
    "start_time": "2023-02-28T19:13:35.202Z"
   },
   {
    "duration": 297,
    "start_time": "2023-02-28T19:13:35.461Z"
   },
   {
    "duration": 199,
    "start_time": "2023-02-28T19:13:35.762Z"
   },
   {
    "duration": 197,
    "start_time": "2023-02-28T19:13:35.962Z"
   },
   {
    "duration": 198,
    "start_time": "2023-02-28T19:13:36.161Z"
   },
   {
    "duration": 176,
    "start_time": "2023-02-28T19:13:36.361Z"
   },
   {
    "duration": 174,
    "start_time": "2023-02-28T19:13:36.539Z"
   },
   {
    "duration": 240,
    "start_time": "2023-02-28T19:13:36.715Z"
   },
   {
    "duration": 72,
    "start_time": "2023-02-28T19:13:36.957Z"
   },
   {
    "duration": 6,
    "start_time": "2023-02-28T19:13:37.031Z"
   },
   {
    "duration": 229,
    "start_time": "2023-02-28T19:13:37.039Z"
   },
   {
    "duration": 180,
    "start_time": "2023-02-28T19:13:37.269Z"
   },
   {
    "duration": 124,
    "start_time": "2023-02-28T19:13:37.451Z"
   },
   {
    "duration": 136,
    "start_time": "2023-02-28T19:13:37.577Z"
   },
   {
    "duration": 138,
    "start_time": "2023-02-28T19:13:37.715Z"
   },
   {
    "duration": 176,
    "start_time": "2023-02-28T19:13:37.854Z"
   },
   {
    "duration": 196,
    "start_time": "2023-02-28T19:13:38.032Z"
   },
   {
    "duration": 145,
    "start_time": "2023-02-28T19:13:38.231Z"
   },
   {
    "duration": 202,
    "start_time": "2023-02-28T19:13:38.377Z"
   },
   {
    "duration": 169,
    "start_time": "2023-02-28T19:13:38.585Z"
   },
   {
    "duration": 134,
    "start_time": "2023-02-28T19:13:38.756Z"
   },
   {
    "duration": 2,
    "start_time": "2023-02-28T19:13:38.892Z"
   },
   {
    "duration": 387,
    "start_time": "2023-02-28T19:13:38.896Z"
   },
   {
    "duration": 28,
    "start_time": "2023-02-28T19:13:39.284Z"
   },
   {
    "duration": 282,
    "start_time": "2023-02-28T19:13:39.314Z"
   },
   {
    "duration": 323,
    "start_time": "2023-02-28T19:13:39.598Z"
   },
   {
    "duration": 397,
    "start_time": "2023-02-28T19:13:39.923Z"
   },
   {
    "duration": 282,
    "start_time": "2023-02-28T19:13:40.322Z"
   },
   {
    "duration": 290,
    "start_time": "2023-02-28T19:13:40.606Z"
   },
   {
    "duration": 275,
    "start_time": "2023-02-28T19:13:40.898Z"
   },
   {
    "duration": 221,
    "start_time": "2023-02-28T19:13:41.174Z"
   },
   {
    "duration": 248,
    "start_time": "2023-02-28T19:13:41.397Z"
   },
   {
    "duration": 269,
    "start_time": "2023-02-28T19:13:41.647Z"
   },
   {
    "duration": 210,
    "start_time": "2023-02-28T19:13:41.918Z"
   },
   {
    "duration": 10,
    "start_time": "2023-02-28T19:13:42.130Z"
   },
   {
    "duration": 10,
    "start_time": "2023-02-28T19:13:42.141Z"
   },
   {
    "duration": 54,
    "start_time": "2023-02-28T19:16:08.283Z"
   },
   {
    "duration": 46,
    "start_time": "2023-02-28T19:16:18.649Z"
   },
   {
    "duration": 218,
    "start_time": "2023-02-28T19:16:47.082Z"
   },
   {
    "duration": 120,
    "start_time": "2023-02-28T19:16:56.201Z"
   },
   {
    "duration": 202,
    "start_time": "2023-02-28T19:16:59.564Z"
   },
   {
    "duration": 305,
    "start_time": "2023-02-28T19:17:12.568Z"
   },
   {
    "duration": 19,
    "start_time": "2023-02-28T19:17:19.160Z"
   },
   {
    "duration": 194,
    "start_time": "2023-02-28T19:17:22.409Z"
   }
  ],
  "kernelspec": {
   "display_name": "Python 3 (ipykernel)",
   "language": "python",
   "name": "python3"
  },
  "language_info": {
   "codemirror_mode": {
    "name": "ipython",
    "version": 3
   },
   "file_extension": ".py",
   "mimetype": "text/x-python",
   "name": "python",
   "nbconvert_exporter": "python",
   "pygments_lexer": "ipython3",
   "version": "3.9.5"
  },
  "toc": {
   "base_numbering": 1,
   "nav_menu": {},
   "number_sections": true,
   "sideBar": true,
   "skip_h1_title": true,
   "title_cell": "Table of Contents",
   "title_sidebar": "Contents",
   "toc_cell": false,
   "toc_position": {},
   "toc_section_display": true,
   "toc_window_display": false
  }
 },
 "nbformat": 4,
 "nbformat_minor": 2
}
