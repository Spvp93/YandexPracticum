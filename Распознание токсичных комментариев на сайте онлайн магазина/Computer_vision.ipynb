{
 "cells": [
  {
   "cell_type": "markdown",
   "metadata": {},
   "source": [
    "<img src=\"http://s3.amazonaws.com/pix.iemoji.com/images/emoji/apple/ios-12/256/waving-hand.png\" align=left width=44, heigth=44>\n",
    "<div class=\"alert alert-info\">\n",
    "<b> Комментарий ревьюера</b>\n",
    "\n",
    "\n",
    "Привет, Андрей! Давай знакомиться! Меня зовут Дмитрий Махортов, и я буду проверять твой проект. Сразу предлагаю общение на «ты» 🙂, но если тебе это не комфортно, то дай знать, и мы перейдем на «вы». \n",
    "\n",
    "Моя основная цель — не указать на совершенные тобою ошибки, а поделиться своим опытом и помочь тебе погрузиться в увлекательный мир работы с данными и вырасти в крепкого профи. Это отдаленная цель. А ближайшая - сделать твою работу еще лучше )).\n",
    "   \n",
    "    \n",
    "Все ключевые этапы в работе выполнены, и я вижу что с проектом ты справшяешься. Есть моменты, которые нужно доработать, но я уверен, у тебя все получится.\n",
    "        \n",
    "Расскажу как обычно проходит проверка:    \n",
    "Бывают моменты, которые требуют пристального внимания. Комментарии по ним выделены <span style='background-color:#F7B3A4'> красным цветом </span> и обозначены значком 🛑. После их доработки проект будет принят.  🙂\n",
    " \n",
    "<span style='background-color:#B7EBA7'> Зеленым цветом </span> и значком ✅ отмечены удачные и элегантные решения, на которые можно опираться в будущих проектах. Или советы «со звездочкой», которые помогут тебе в будущем.\n",
    "\n",
    "<span style='background-color:#F9EDA6'>Жёлтым цветом </span> и значком ⚠️ выделено то, что в следующий раз можно сделать по-другому. Ты можешь учесть эти комментарии при выполнении будущих заданий или доработать проект сейчас (однако это не обязательно).\n",
    "\n",
    "Давай работать над проектом в диалоге: **если ты что-то меняешь в проекте по моим рекомендациям — пиши об этом**. Выбери для своих комментариев какой-то заметный цвет, так мне будет легче отследить изменения. Пожалуйста, **не перемещай, не изменяй и не удаляй мои комментарии**. Всё это поможет выполнить повторную проверку твоего проекта оперативнее. \n",
    "</div>"
   ]
  },
  {
   "cell_type": "markdown",
   "metadata": {},
   "source": [
    "<div class=\"alert\" style=\"background-color:#ead7f7;color:#8737bf\">\n",
    "    <font size=\"3\"><b>образец комментария студента</b></font>\n",
    "   \n",
    "Можешь использовать этот комментарий. Просто удали этот текст и вместо него напиши свой 🙂\n",
    "\n",
    "</div>"
   ]
  },
  {
   "cell_type": "markdown",
   "metadata": {
    "toc": true
   },
   "source": [
    "<h1>Содержание<span class=\"tocSkip\"></span></h1>\n",
    "<div class=\"toc\"><ul class=\"toc-item\"><li><span><a href=\"#Подготовка\" data-toc-modified-id=\"Подготовка-1\"><span class=\"toc-item-num\">1&nbsp;&nbsp;</span>Подготовка</a></span><ul class=\"toc-item\"><li><span><a href=\"#Тренировочная-и-тестовая-выборки\" data-toc-modified-id=\"Тренировочная-и-тестовая-выборки-1.1\"><span class=\"toc-item-num\">1.1&nbsp;&nbsp;</span>Тренировочная и тестовая выборки</a></span></li></ul></li><li><span><a href=\"#Обучение\" data-toc-modified-id=\"Обучение-2\"><span class=\"toc-item-num\">2&nbsp;&nbsp;</span>Обучение</a></span></li><li><span><a href=\"#Выводы\" data-toc-modified-id=\"Выводы-3\"><span class=\"toc-item-num\">3&nbsp;&nbsp;</span>Выводы</a></span></li><li><span><a href=\"#Чек-лист-проверки\" data-toc-modified-id=\"Чек-лист-проверки-4\"><span class=\"toc-item-num\">4&nbsp;&nbsp;</span>Чек-лист проверки</a></span></li></ul></div>"
   ]
  },
  {
   "cell_type": "markdown",
   "metadata": {},
   "source": [
    "# Проект для «Викишоп»"
   ]
  },
  {
   "cell_type": "markdown",
   "metadata": {},
   "source": [
    "Интернет-магазин «Викишоп» запускает новый сервис. Теперь пользователи могут редактировать и дополнять описания товаров, как в вики-сообществах. То есть клиенты предлагают свои правки и комментируют изменения других. Магазину нужен инструмент, который будет искать токсичные комментарии и отправлять их на модерацию. \n",
    "\n",
    "Обучите модель классифицировать комментарии на позитивные и негативные. В вашем распоряжении набор данных с разметкой о токсичности правок.\n",
    "\n",
    "Постройте модель со значением метрики качества *F1* не меньше 0.75. \n",
    "\n",
    "**Инструкция по выполнению проекта**\n",
    "\n",
    "1. Загрузите и подготовьте данные.\n",
    "2. Обучите разные модели. \n",
    "3. Сделайте выводы.\n",
    "\n",
    "Для выполнения проекта применять *BERT* необязательно, но вы можете попробовать.\n",
    "\n",
    "**Описание данных**\n",
    "\n",
    "Данные находятся в файле `toxic_comments.csv`. Столбец *text* в нём содержит текст комментария, а *toxic* — целевой признак."
   ]
  },
  {
   "cell_type": "markdown",
   "metadata": {},
   "source": [
    "## Подготовка"
   ]
  },
  {
   "cell_type": "code",
   "execution_count": 47,
   "metadata": {},
   "outputs": [
    {
     "name": "stderr",
     "output_type": "stream",
     "text": [
      "[nltk_data] Downloading package averaged_perceptron_tagger to\n",
      "[nltk_data]     /home/jovyan/nltk_data...\n",
      "[nltk_data]   Package averaged_perceptron_tagger is already up-to-\n",
      "[nltk_data]       date!\n"
     ]
    }
   ],
   "source": [
    "import pandas as pd\n",
    "import matplotlib.pyplot as plt\n",
    "import seaborn as sns\n",
    "import re\n",
    "import nltk\n",
    "nltk.download('averaged_perceptron_tagger')\n",
    "import numpy as np\n",
    "from tqdm import tqdm\n",
    "from tqdm.notebook import tqdm\n",
    "tqdm.pandas()\n",
    "from numpy.random import RandomState\n",
    "from nltk.corpus import stopwords, wordnet\n",
    "from sklearn.feature_extraction.text import TfidfVectorizer\n",
    "from sklearn.model_selection import train_test_split, RandomizedSearchCV\n",
    "from sklearn.metrics import f1_score, roc_curve, roc_auc_score\n",
    "from nltk.stem import WordNetLemmatizer \n",
    "from sklearn.linear_model import LogisticRegression\n",
    "from sklearn.svm import LinearSVC\n",
    "from sklearn.naive_bayes import MultinomialNB\n",
    "from sklearn.neighbors import KNeighborsClassifier\n",
    "from sklearn.tree import DecisionTreeClassifier\n",
    "from sklearn import metrics\n",
    "\n",
    "\n",
    "import warnings\n",
    "warnings.filterwarnings(\"ignore\")"
   ]
  },
  {
   "cell_type": "markdown",
   "metadata": {},
   "source": [
    "<img src=\"https://emojigraph.org/media/apple/check-mark-button_2705.png\" align=left width=33, heigth=33>\n",
    "<div class=\"alert alert-success\">\n",
    "Отлично, все нужные библиотеки импортированы в начале ноутбука.Это хорошая практика.</div>"
   ]
  },
  {
   "cell_type": "code",
   "execution_count": 2,
   "metadata": {},
   "outputs": [],
   "source": [
    "data = pd.read_csv('/datasets/toxic_comments.csv')"
   ]
  },
  {
   "cell_type": "code",
   "execution_count": 3,
   "metadata": {
    "scrolled": true
   },
   "outputs": [
    {
     "name": "stdout",
     "output_type": "stream",
     "text": [
      "<class 'pandas.core.frame.DataFrame'>\n",
      "RangeIndex: 159292 entries, 0 to 159291\n",
      "Data columns (total 3 columns):\n",
      " #   Column      Non-Null Count   Dtype \n",
      "---  ------      --------------   ----- \n",
      " 0   Unnamed: 0  159292 non-null  int64 \n",
      " 1   text        159292 non-null  object\n",
      " 2   toxic       159292 non-null  int64 \n",
      "dtypes: int64(2), object(1)\n",
      "memory usage: 3.6+ MB\n"
     ]
    }
   ],
   "source": [
    "data.info()"
   ]
  },
  {
   "cell_type": "markdown",
   "metadata": {},
   "source": [
    "Посмотрим на содержимое данных."
   ]
  },
  {
   "cell_type": "code",
   "execution_count": 4,
   "metadata": {},
   "outputs": [],
   "source": [
    "pd.set_option('display.max_colwidth', 1000)"
   ]
  },
  {
   "cell_type": "code",
   "execution_count": 5,
   "metadata": {},
   "outputs": [
    {
     "data": {
      "text/html": [
       "<div>\n",
       "<style scoped>\n",
       "    .dataframe tbody tr th:only-of-type {\n",
       "        vertical-align: middle;\n",
       "    }\n",
       "\n",
       "    .dataframe tbody tr th {\n",
       "        vertical-align: top;\n",
       "    }\n",
       "\n",
       "    .dataframe thead th {\n",
       "        text-align: right;\n",
       "    }\n",
       "</style>\n",
       "<table border=\"1\" class=\"dataframe\">\n",
       "  <thead>\n",
       "    <tr style=\"text-align: right;\">\n",
       "      <th></th>\n",
       "      <th>Unnamed: 0</th>\n",
       "      <th>text</th>\n",
       "      <th>toxic</th>\n",
       "    </tr>\n",
       "  </thead>\n",
       "  <tbody>\n",
       "    <tr>\n",
       "      <th>0</th>\n",
       "      <td>0</td>\n",
       "      <td>Explanation\\nWhy the edits made under my username Hardcore Metallica Fan were reverted? They weren't vandalisms, just closure on some GAs after I voted at New York Dolls FAC. And please don't remove the template from the talk page since I'm retired now.89.205.38.27</td>\n",
       "      <td>0</td>\n",
       "    </tr>\n",
       "    <tr>\n",
       "      <th>1</th>\n",
       "      <td>1</td>\n",
       "      <td>D'aww! He matches this background colour I'm seemingly stuck with. Thanks.  (talk) 21:51, January 11, 2016 (UTC)</td>\n",
       "      <td>0</td>\n",
       "    </tr>\n",
       "    <tr>\n",
       "      <th>2</th>\n",
       "      <td>2</td>\n",
       "      <td>Hey man, I'm really not trying to edit war. It's just that this guy is constantly removing relevant information and talking to me through edits instead of my talk page. He seems to care more about the formatting than the actual info.</td>\n",
       "      <td>0</td>\n",
       "    </tr>\n",
       "    <tr>\n",
       "      <th>3</th>\n",
       "      <td>3</td>\n",
       "      <td>\"\\nMore\\nI can't make any real suggestions on improvement - I wondered if the section statistics should be later on, or a subsection of \"\"types of accidents\"\"  -I think the references may need tidying so that they are all in the exact same format ie date format etc. I can do that later on, if no-one else does first - if you have any preferences for formatting style on references or want to do it yourself please let me know.\\n\\nThere appears to be a backlog on articles for review so I guess there may be a delay until a reviewer turns up. It's listed in the relevant form eg Wikipedia:Good_article_nominations#Transport  \"</td>\n",
       "      <td>0</td>\n",
       "    </tr>\n",
       "    <tr>\n",
       "      <th>4</th>\n",
       "      <td>4</td>\n",
       "      <td>You, sir, are my hero. Any chance you remember what page that's on?</td>\n",
       "      <td>0</td>\n",
       "    </tr>\n",
       "  </tbody>\n",
       "</table>\n",
       "</div>"
      ],
      "text/plain": [
       "   Unnamed: 0  \\\n",
       "0           0   \n",
       "1           1   \n",
       "2           2   \n",
       "3           3   \n",
       "4           4   \n",
       "\n",
       "                                                                                                                                                                                                                                                                                                                                                                                                                                                                                                                                                                                                                                                 text  \\\n",
       "0                                                                                                                                                                                                                                                                                                                                                                           Explanation\\nWhy the edits made under my username Hardcore Metallica Fan were reverted? They weren't vandalisms, just closure on some GAs after I voted at New York Dolls FAC. And please don't remove the template from the talk page since I'm retired now.89.205.38.27   \n",
       "1                                                                                                                                                                                                                                                                                                                                                                                                                                                                                                                                    D'aww! He matches this background colour I'm seemingly stuck with. Thanks.  (talk) 21:51, January 11, 2016 (UTC)   \n",
       "2                                                                                                                                                                                                                                                                                                                                                                                                           Hey man, I'm really not trying to edit war. It's just that this guy is constantly removing relevant information and talking to me through edits instead of my talk page. He seems to care more about the formatting than the actual info.   \n",
       "3  \"\\nMore\\nI can't make any real suggestions on improvement - I wondered if the section statistics should be later on, or a subsection of \"\"types of accidents\"\"  -I think the references may need tidying so that they are all in the exact same format ie date format etc. I can do that later on, if no-one else does first - if you have any preferences for formatting style on references or want to do it yourself please let me know.\\n\\nThere appears to be a backlog on articles for review so I guess there may be a delay until a reviewer turns up. It's listed in the relevant form eg Wikipedia:Good_article_nominations#Transport  \"   \n",
       "4                                                                                                                                                                                                                                                                                                                                                                                                                                                                                                                                                                                 You, sir, are my hero. Any chance you remember what page that's on?   \n",
       "\n",
       "   toxic  \n",
       "0      0  \n",
       "1      0  \n",
       "2      0  \n",
       "3      0  \n",
       "4      0  "
      ]
     },
     "execution_count": 5,
     "metadata": {},
     "output_type": "execute_result"
    }
   ],
   "source": [
    "data.head()"
   ]
  },
  {
   "cell_type": "markdown",
   "metadata": {},
   "source": [
    "Текст комеентариев написан на английском языке. В дальнейшем нужно подобрать корректный лемматизатор.\n",
    "\n",
    "Проверим, есть ли дубликаты в наборе."
   ]
  },
  {
   "cell_type": "code",
   "execution_count": 6,
   "metadata": {
    "scrolled": true
   },
   "outputs": [
    {
     "name": "stdout",
     "output_type": "stream",
     "text": [
      "\n",
      "Количество дубликатов в наборе данных - 0\n"
     ]
    }
   ],
   "source": [
    "print('\\nКоличество дубликатов в наборе данных -', data.duplicated().sum())"
   ]
  },
  {
   "cell_type": "markdown",
   "metadata": {},
   "source": [
    "<img src=\"https://emojigraph.org/media/apple/check-mark-button_2705.png\" align=left width=33, heigth=33>\n",
    "<div class=\"alert alert-success\">\n",
    "Данные загружены и исследованы.</div>"
   ]
  },
  {
   "cell_type": "markdown",
   "metadata": {},
   "source": [
    "Посмотрим на баланс классов."
   ]
  },
  {
   "cell_type": "code",
   "execution_count": 7,
   "metadata": {
    "scrolled": true
   },
   "outputs": [
    {
     "data": {
      "image/png": "[encoded data removed]",
      "text/plain": [
       "<Figure size 1080x360 with 1 Axes>"
      ]
     },
     "metadata": {
      "needs_background": "light"
     },
     "output_type": "display_data"
    }
   ],
   "source": [
    "plt.figure(figsize=[15, 5])\n",
    "plt.title('ГРАФИК БАЛАНСА КЛАССОВ В ЦЕЛЕВОМ ПРИЗНАКЕ.', fontsize=15)\n",
    "palette = {0: 'tab:red', 1: 'tab:green'}\n",
    "sns.set_style('darkgrid')\n",
    "sns.barplot(x=data['toxic'].value_counts().index,\n",
    "            y=data['toxic'].value_counts(),\n",
    "            hue=data['toxic'].value_counts().index,\n",
    "           palette=palette)\n",
    "plt.ylabel('Количество', fontsize=13)\n",
    "plt.xlabel('Классы', fontsize=13)\n",
    "plt.grid(True)\n",
    "negative_class = data['toxic'].value_counts(normalize=True)[0]\n",
    "positive_class = data['toxic'].value_counts(normalize=True)[1]\n",
    "plt.legend(title=f'Отрицательный класс - {negative_class:.2f}%, Положительный класс - {positive_class:.2f}%', \n",
    "           loc='center', \n",
    "           edgecolor = 'r',\n",
    "           facecolor = 'oldlace',\n",
    "           bbox_to_anchor=(0.5, -0.25));\n"
   ]
  },
  {
   "cell_type": "markdown",
   "metadata": {},
   "source": [
    "<img src=\"https://emojigraph.org/media/apple/check-mark-button_2705.png\" align=left width=33, heigth=33>\n",
    "<div class=\"alert alert-success\">\n",
    "Молодец, исследован баланс классов. Это важная информация для задачи классификации.</div>"
   ]
  },
  {
   "cell_type": "markdown",
   "metadata": {},
   "source": [
    "<img src=\"https://upload.wikimedia.org/wikipedia/commons/thumb/8/81/Stop_sign.png/240px-Stop_sign.png\" align=left width=35, heigth=35>\n",
    "<div class=\"alert alert-danger\">\n",
    "Прошу избавиться от вывода текстового представления python-объектов, которые возвращают используемые тобой функции например \n",
    "    \n",
    "    <matplotlib.legend.Legend at 0x7f5705b335b0>\n",
    "\n",
    "    \n",
    "Это можно сделать достаточно просто, если добавить  точку с запятой после последней команды в ячейке.\n",
    "   \n",
    "</div>\n"
   ]
  },
  {
   "cell_type": "markdown",
   "metadata": {},
   "source": [
    "<div class=\"alert\" style=\"background-color:#ead7f7;color:#8737bf\">\n",
    "    <font size=\"3\"><b>Комментарий студента</b></font>\n",
    "   \n",
    "Исправил.\n",
    "\n",
    "</div>"
   ]
  },
  {
   "cell_type": "markdown",
   "metadata": {},
   "source": [
    "<img src=\"https://emojigraph.org/media/apple/check-mark-button_2705.png\" align=left width=33, heigth=33>\n",
    "<div class=\"alert alert-success\">\n",
    "<b>v2</b> 👍 </div>"
   ]
  },
  {
   "attachments": {
    "image-4.png": {
     "image/png": "[encoded data removed]"
    }
   },
   "cell_type": "markdown",
   "metadata": {},
   "source": [
    "<img src=\"https://emojigraph.org/media/apple/check-mark-button_2705.png\" align=left width=33, heigth=33>\n",
    "<div class=\"alert alert-success\">\n",
    "<b>минутка теории</b> \n",
    " По умолчанию jupyter notebook выводит результат вычислений в последней строке ячейки, если этот результат не записан в переменную. Мы часто пользуемся этим, обратившись к какому-нибудь объекту в последней строке и видим результат без дополнительных print() или dispay()\n",
    "    \n",
    "    \n",
    "  Ниже три ячейки с кодом. Обрати внимание, если просто сделать вычисление - то результат выводится, но если добавить точку с запятой или записать результат в переменную, то ничего не происходит. Обрати внимание, когда происходит вывод:\n",
    "   - последня строка\n",
    "   - нет точки с запятой в конце\n",
    "    \n",
    "   - результат не записан в переменную\n",
    " \n",
    "И досточно убрать одно из этих условий, как вывода нет.\n",
    "\n",
    "![image-4.png](attachment:image-4.png)    \n",
    "\n",
    " Функции matlitlib не только выводят графики, но и возвращают python объекты axis. Это внутренняя кухня, чтобы можно было строить сложные графики. Но для нас побочным эффектом является то, что в ноутбуке мы видим текстовое предоставление объекта, которое выводит ноутбук. И для красоты такое поведение стоит заблокировать. \n",
    "\n",
    "\n",
    "\n",
    "</div>"
   ]
  },
  {
   "cell_type": "markdown",
   "metadata": {},
   "source": [
    "Присутствует дисбаланс классов.\n",
    "\n",
    "Рассмотрим тест комментариев."
   ]
  },
  {
   "cell_type": "code",
   "execution_count": 8,
   "metadata": {
    "scrolled": true
   },
   "outputs": [
    {
     "data": {
      "text/html": [
       "<div>\n",
       "<style scoped>\n",
       "    .dataframe tbody tr th:only-of-type {\n",
       "        vertical-align: middle;\n",
       "    }\n",
       "\n",
       "    .dataframe tbody tr th {\n",
       "        vertical-align: top;\n",
       "    }\n",
       "\n",
       "    .dataframe thead th {\n",
       "        text-align: right;\n",
       "    }\n",
       "</style>\n",
       "<table border=\"1\" class=\"dataframe\">\n",
       "  <thead>\n",
       "    <tr style=\"text-align: right;\">\n",
       "      <th></th>\n",
       "      <th>Unnamed: 0</th>\n",
       "      <th>text</th>\n",
       "      <th>toxic</th>\n",
       "    </tr>\n",
       "  </thead>\n",
       "  <tbody>\n",
       "    <tr>\n",
       "      <th>0</th>\n",
       "      <td>0</td>\n",
       "      <td>Explanation\\nWhy the edits made under my username Hardcore Metallica Fan were reverted? They weren't vandalisms, just closure on some GAs after I voted at New York Dolls FAC. And please don't remove the template from the talk page since I'm retired now.89.205.38.27</td>\n",
       "      <td>0</td>\n",
       "    </tr>\n",
       "    <tr>\n",
       "      <th>1</th>\n",
       "      <td>1</td>\n",
       "      <td>D'aww! He matches this background colour I'm seemingly stuck with. Thanks.  (talk) 21:51, January 11, 2016 (UTC)</td>\n",
       "      <td>0</td>\n",
       "    </tr>\n",
       "    <tr>\n",
       "      <th>2</th>\n",
       "      <td>2</td>\n",
       "      <td>Hey man, I'm really not trying to edit war. It's just that this guy is constantly removing relevant information and talking to me through edits instead of my talk page. He seems to care more about the formatting than the actual info.</td>\n",
       "      <td>0</td>\n",
       "    </tr>\n",
       "    <tr>\n",
       "      <th>3</th>\n",
       "      <td>3</td>\n",
       "      <td>\"\\nMore\\nI can't make any real suggestions on improvement - I wondered if the section statistics should be later on, or a subsection of \"\"types of accidents\"\"  -I think the references may need tidying so that they are all in the exact same format ie date format etc. I can do that later on, if no-one else does first - if you have any preferences for formatting style on references or want to do it yourself please let me know.\\n\\nThere appears to be a backlog on articles for review so I guess there may be a delay until a reviewer turns up. It's listed in the relevant form eg Wikipedia:Good_article_nominations#Transport  \"</td>\n",
       "      <td>0</td>\n",
       "    </tr>\n",
       "    <tr>\n",
       "      <th>4</th>\n",
       "      <td>4</td>\n",
       "      <td>You, sir, are my hero. Any chance you remember what page that's on?</td>\n",
       "      <td>0</td>\n",
       "    </tr>\n",
       "  </tbody>\n",
       "</table>\n",
       "</div>"
      ],
      "text/plain": [
       "   Unnamed: 0  \\\n",
       "0           0   \n",
       "1           1   \n",
       "2           2   \n",
       "3           3   \n",
       "4           4   \n",
       "\n",
       "                                                                                                                                                                                                                                                                                                                                                                                                                                                                                                                                                                                                                                                 text  \\\n",
       "0                                                                                                                                                                                                                                                                                                                                                                           Explanation\\nWhy the edits made under my username Hardcore Metallica Fan were reverted? They weren't vandalisms, just closure on some GAs after I voted at New York Dolls FAC. And please don't remove the template from the talk page since I'm retired now.89.205.38.27   \n",
       "1                                                                                                                                                                                                                                                                                                                                                                                                                                                                                                                                    D'aww! He matches this background colour I'm seemingly stuck with. Thanks.  (talk) 21:51, January 11, 2016 (UTC)   \n",
       "2                                                                                                                                                                                                                                                                                                                                                                                                           Hey man, I'm really not trying to edit war. It's just that this guy is constantly removing relevant information and talking to me through edits instead of my talk page. He seems to care more about the formatting than the actual info.   \n",
       "3  \"\\nMore\\nI can't make any real suggestions on improvement - I wondered if the section statistics should be later on, or a subsection of \"\"types of accidents\"\"  -I think the references may need tidying so that they are all in the exact same format ie date format etc. I can do that later on, if no-one else does first - if you have any preferences for formatting style on references or want to do it yourself please let me know.\\n\\nThere appears to be a backlog on articles for review so I guess there may be a delay until a reviewer turns up. It's listed in the relevant form eg Wikipedia:Good_article_nominations#Transport  \"   \n",
       "4                                                                                                                                                                                                                                                                                                                                                                                                                                                                                                                                                                                 You, sir, are my hero. Any chance you remember what page that's on?   \n",
       "\n",
       "   toxic  \n",
       "0      0  \n",
       "1      0  \n",
       "2      0  \n",
       "3      0  \n",
       "4      0  "
      ]
     },
     "execution_count": 8,
     "metadata": {},
     "output_type": "execute_result"
    }
   ],
   "source": [
    "data.head()"
   ]
  },
  {
   "cell_type": "markdown",
   "metadata": {},
   "source": [
    "В тексте присутствуют неинформативные символы. Для улучшения работы будущих моделей необходимо \"почистить\" текст."
   ]
  },
  {
   "cell_type": "code",
   "execution_count": 9,
   "metadata": {},
   "outputs": [],
   "source": [
    "data = data.sample(50000).reset_index(drop=True)"
   ]
  },
  {
   "cell_type": "markdown",
   "metadata": {},
   "source": [
    "<img src=\"https://upload.wikimedia.org/wikipedia/commons/b/ba/Warning_sign_4.0.png\" align=left width=44, heigth=33>\n",
    "<div class=\"alert alert-warning\">\n",
    "Загвоздка в том, что чем меньше данных, тем сложнее получить хорошую метрику.  Для лучшего качества я наоборот советую использовать полный датасет и отрезать на тестирование 10%. \n",
    "    \n",
    "На 50_000 записей можно получить проходную метрику, но прийдется постараться. \n",
    "\n",
    "</div>"
   ]
  },
  {
   "cell_type": "code",
   "execution_count": 10,
   "metadata": {},
   "outputs": [],
   "source": [
    "def clear_text(dirty_string):\n",
    "    new_string = dirty_string.lower()\n",
    "    new_string = re.sub(r\"(?:\\n|\\r)\", \"\", new_string)\n",
    "    new_string = re.sub(r'[^a-zA-Z\\ ]', \" \", new_string).strip()\n",
    "    return new_string"
   ]
  },
  {
   "cell_type": "code",
   "execution_count": 11,
   "metadata": {
    "scrolled": true
   },
   "outputs": [
    {
     "name": "stdout",
     "output_type": "stream",
     "text": [
      "CPU times: user 940 ms, sys: 2.59 ms, total: 943 ms\n",
      "Wall time: 953 ms\n"
     ]
    }
   ],
   "source": [
    "%%time\n",
    "data['text'] = data['text'].apply(clear_text)"
   ]
  },
  {
   "cell_type": "markdown",
   "metadata": {},
   "source": [
    "<img src=\"https://emojigraph.org/media/apple/check-mark-button_2705.png\" align=left width=33, heigth=33>\n",
    "<div class=\"alert alert-success\">\n",
    " 👍 \n",
    "\n",
    "Текст очищен, но я советую при чистке оставить символ ' (апостроф), он играет важную роль в английском языке.\n",
    "</div>"
   ]
  },
  {
   "cell_type": "code",
   "execution_count": 12,
   "metadata": {
    "scrolled": false
   },
   "outputs": [
    {
     "data": {
      "text/html": [
       "<div>\n",
       "<style scoped>\n",
       "    .dataframe tbody tr th:only-of-type {\n",
       "        vertical-align: middle;\n",
       "    }\n",
       "\n",
       "    .dataframe tbody tr th {\n",
       "        vertical-align: top;\n",
       "    }\n",
       "\n",
       "    .dataframe thead th {\n",
       "        text-align: right;\n",
       "    }\n",
       "</style>\n",
       "<table border=\"1\" class=\"dataframe\">\n",
       "  <thead>\n",
       "    <tr style=\"text-align: right;\">\n",
       "      <th></th>\n",
       "      <th>Unnamed: 0</th>\n",
       "      <th>text</th>\n",
       "      <th>toxic</th>\n",
       "    </tr>\n",
       "  </thead>\n",
       "  <tbody>\n",
       "    <tr>\n",
       "      <th>0</th>\n",
       "      <td>43449</td>\n",
       "      <td>i would somewhat agree with laurahale on the point that gas are not really good articles  i have seen some comments on article talk pages post ga or during pr or fac showing discontent on the ga review that was done  some key points on the topic are missing or language is poor or some other sorts   i have recently also been in dykns where they felt as good as facs with all grilling of critical points  but i do not understand lh s opposition for a new slot of gas on main page  in case lh has doubts against the ga review process i would suggest that gars should also be done by multiple editors  single editor doing a ga review could sometimes be a reason for missing or overlooking some factors in the article  i have seen multiple editors getting involved in dykns but hardly seen that happening on gas        t c</td>\n",
       "      <td>0</td>\n",
       "    </tr>\n",
       "    <tr>\n",
       "      <th>1</th>\n",
       "      <td>5703</td>\n",
       "      <td>every other press agency said the crowd was chanting   you re a tory too   only the daily mail which by the way is a tory paper reported that the croud chanted   fucking tory jew   he is a dispicable scab but that is because of his politics not his liniage</td>\n",
       "      <td>1</td>\n",
       "    </tr>\n",
       "    <tr>\n",
       "      <th>2</th>\n",
       "      <td>31723</td>\n",
       "      <td>my abuelo told me he was distant  but related</td>\n",
       "      <td>0</td>\n",
       "    </tr>\n",
       "    <tr>\n",
       "      <th>3</th>\n",
       "      <td>11835</td>\n",
       "      <td>just to make it clear  you may not put in any links whatsoever to thecivilengg com       o</td>\n",
       "      <td>0</td>\n",
       "    </tr>\n",
       "    <tr>\n",
       "      <th>4</th>\n",
       "      <td>156644</td>\n",
       "      <td>chelmer valley high school hi  i wonder if you would revisist wikipedia articles for deletion chelmer valley high school  please  the article has been rewritten showing the school has been independently judged to be outstanding with a world record breaking gymnastics team</td>\n",
       "      <td>0</td>\n",
       "    </tr>\n",
       "  </tbody>\n",
       "</table>\n",
       "</div>"
      ],
      "text/plain": [
       "   Unnamed: 0  \\\n",
       "0       43449   \n",
       "1        5703   \n",
       "2       31723   \n",
       "3       11835   \n",
       "4      156644   \n",
       "\n",
       "                                                                                                                                                                                                                                                                                                                                                                                                                                                                                                                                                                                                                                                                                                                                                                                                                                                  text  \\\n",
       "0  i would somewhat agree with laurahale on the point that gas are not really good articles  i have seen some comments on article talk pages post ga or during pr or fac showing discontent on the ga review that was done  some key points on the topic are missing or language is poor or some other sorts   i have recently also been in dykns where they felt as good as facs with all grilling of critical points  but i do not understand lh s opposition for a new slot of gas on main page  in case lh has doubts against the ga review process i would suggest that gars should also be done by multiple editors  single editor doing a ga review could sometimes be a reason for missing or overlooking some factors in the article  i have seen multiple editors getting involved in dykns but hardly seen that happening on gas        t c   \n",
       "1                                                                                                                                                                                                                                                                                                                                                                                                                                                                                                                                                                                     every other press agency said the crowd was chanting   you re a tory too   only the daily mail which by the way is a tory paper reported that the croud chanted   fucking tory jew   he is a dispicable scab but that is because of his politics not his liniage   \n",
       "2                                                                                                                                                                                                                                                                                                                                                                                                                                                                                                                                                                                                                                                                                                                                                                                                        my abuelo told me he was distant  but related   \n",
       "3                                                                                                                                                                                                                                                                                                                                                                                                                                                                                                                                                                                                                                                                                                                                                           just to make it clear  you may not put in any links whatsoever to thecivilengg com       o   \n",
       "4                                                                                                                                                                                                                                                                                                                                                                                                                                                                                                                                                                     chelmer valley high school hi  i wonder if you would revisist wikipedia articles for deletion chelmer valley high school  please  the article has been rewritten showing the school has been independently judged to be outstanding with a world record breaking gymnastics team   \n",
       "\n",
       "   toxic  \n",
       "0      0  \n",
       "1      1  \n",
       "2      0  \n",
       "3      0  \n",
       "4      0  "
      ]
     },
     "execution_count": 12,
     "metadata": {},
     "output_type": "execute_result"
    }
   ],
   "source": [
    "data.head()"
   ]
  },
  {
   "cell_type": "markdown",
   "metadata": {},
   "source": [
    "Теперь приведем все слова к их лемме."
   ]
  },
  {
   "cell_type": "code",
   "execution_count": 13,
   "metadata": {
    "scrolled": true
   },
   "outputs": [
    {
     "name": "stderr",
     "output_type": "stream",
     "text": [
      "[nltk_data] Downloading package wordnet to /home/jovyan/nltk_data...\n",
      "[nltk_data]   Package wordnet is already up-to-date!\n",
      "[nltk_data] Downloading package stopwords to /home/jovyan/nltk_data...\n",
      "[nltk_data]   Package stopwords is already up-to-date!\n"
     ]
    }
   ],
   "source": [
    "nltk.download('wordnet')\n",
    "nltk.download('stopwords')\n",
    "stop_words = set(stopwords.words('english'))"
   ]
  },
  {
   "cell_type": "code",
   "execution_count": 14,
   "metadata": {},
   "outputs": [],
   "source": [
    "lemmatizer = WordNetLemmatizer()"
   ]
  },
  {
   "cell_type": "code",
   "execution_count": 15,
   "metadata": {},
   "outputs": [],
   "source": [
    "def lemmatize_sentence(sentence):\n",
    "    lemmatized_text = []\n",
    "    lst_with_words = nltk.word_tokenize(sentence)\n",
    "    for word, tag in nltk.pos_tag(lst_with_words):\n",
    "        if tag.startswith('J'):\n",
    "            initial_word = lemmatizer.lemmatize(word, pos='a')\n",
    "        elif tag.startswith('V'):\n",
    "            initial_word = lemmatizer.lemmatize(word, pos='v')\n",
    "        elif tag.startswith('N'):\n",
    "            initial_word = lemmatizer.lemmatize(word, pos='n')\n",
    "        elif tag.startswith('R'):\n",
    "            initial_word = lemmatizer.lemmatize(word, pos='r')\n",
    "        else:\n",
    "            initial_word = word\n",
    "        lemmatized_text.append(initial_word)\n",
    "    return \" \".join(lemmatized_text)"
   ]
  },
  {
   "attachments": {
    "image.png": {
     "image/png": "[encoded data removed]"
    }
   },
   "cell_type": "markdown",
   "metadata": {},
   "source": [
    "<img src=\"https://upload.wikimedia.org/wikipedia/commons/thumb/8/81/Stop_sign.png/240px-Stop_sign.png\" align=left width=35, heigth=35>\n",
    "<div class=\"alert alert-danger\">\n",
    "Молодец, что используешь лемматизатор WordNetLemmatizer. Но в данном случае он отработал не очень хорошо, и если присмотреться к тексту это хорошо видно. Например, в четвертой строке видим глагол are, но его начальная форма - be. Аналогично в нулевой строке есть глагол made, а его начальная форма make. \n",
    "    \n",
    "![image.png](attachment:image.png)    \n",
    "    \n",
    "Кроме самого слова в лемматизатор нужно передать дополнительную информацию о части речи слова (POS тег). \n",
    "    \n",
    "    \n",
    "    \n",
    "Ты можешь доработать подход с WordNetLemmatizer или использовать spaCy, там все отрабатывает \"из коробки\". Можешь посмотреть вот эту статью.  \n",
    "\n",
    "\n",
    "https://webdevblog.ru/podhody-lemmatizacii-s-primerami-v-python/\n",
    "    \n",
    "Хочу обратить твое внимание, что код из вышеуказанной статьи выполняется несколько дольше, чем оптимизированный, вот из этого топика\n",
    "    \n",
    "https://stackoverflow.com/questions/50992974/nltk-wordnetlemmatizer-not-lemmatizing-as-expected    \n",
    "    \n",
    "    \n",
    "    \n",
    "Совет - старайся сразу проверять  результаты лемматизации. Например, для предложения\n",
    "    \n",
    "    sentence = \"The striped bats are hanging on their feet for best\"\n",
    "    \n",
    "После лемматизации должен получиться вот такой результат\n",
    "    \n",
    "    \"the strip bat be hang on their foot for best\"    \n",
    "</div>"
   ]
  },
  {
   "cell_type": "markdown",
   "metadata": {},
   "source": [
    "<div class=\"alert\" style=\"background-color:#ead7f7;color:#8737bf\">\n",
    "    <font size=\"3\"><b>Комментарий студента</b></font>\n",
    "   \n",
    "Исправил.\n",
    "\n",
    "</div>"
   ]
  },
  {
   "cell_type": "markdown",
   "metadata": {},
   "source": [
    "<img src=\"https://emojigraph.org/media/apple/check-mark-button_2705.png\" align=left width=33, heigth=33>\n",
    "<div class=\"alert alert-success\">\n",
    "<b>v2</b> 👍 </div>"
   ]
  },
  {
   "cell_type": "code",
   "execution_count": 16,
   "metadata": {
    "scrolled": true
   },
   "outputs": [
    {
     "data": {
      "application/vnd.jupyter.widget-view+json": {
       "model_id": "65f6661dbbfa4a5ea7e9d47f84bffec1",
       "version_major": 2,
       "version_minor": 0
      },
      "text/plain": [
       "  0%|          | 0/50000 [00:00<?, ?it/s]"
      ]
     },
     "metadata": {},
     "output_type": "display_data"
    },
    {
     "name": "stdout",
     "output_type": "stream",
     "text": [
      "CPU times: user 3min 25s, sys: 2.41 s, total: 3min 27s\n",
      "Wall time: 3min 34s\n"
     ]
    }
   ],
   "source": [
    "%%time\n",
    "data['text'] = data['text'].progress_apply(lemmatize_sentence)"
   ]
  },
  {
   "cell_type": "markdown",
   "metadata": {},
   "source": [
    "<img src=\"https://upload.wikimedia.org/wikipedia/commons/b/ba/Warning_sign_4.0.png\" align=left width=44, heigth=33>\n",
    "<div class=\"alert alert-warning\">\n",
    "\n",
    "Правильная лемматизация длится долго... Минут 20-30, в зависимости от мощности компьютера. Гораздо комфортнее видеть прогресс выполнения этой длительной операции, чем сидеть и гадать \"а не зависла ли она\", \"закончит только к утру или через 30 секунд\"? Можно воспользоваться прогресс -баром от tqdm.\n",
    "    \n",
    "     \n",
    "    from tqdm.notebook import tqdm\n",
    "    tqdm.pandas()\n",
    "\n",
    "    data['lemm_text'] = data['text'].progress_apply(lemmafunction)\n",
    "    \n",
    "    \n",
    "    \n",
    "    \n",
    "</div>\n",
    "\n"
   ]
  },
  {
   "cell_type": "markdown",
   "metadata": {},
   "source": [
    "### Тренировочная и тестовая выборки"
   ]
  },
  {
   "cell_type": "code",
   "execution_count": 17,
   "metadata": {},
   "outputs": [],
   "source": [
    "features = data.drop(['toxic'], axis=1)\n",
    "target = data['toxic']"
   ]
  },
  {
   "cell_type": "code",
   "execution_count": 18,
   "metadata": {},
   "outputs": [],
   "source": [
    "features_train, features_test, y_train, y_test = train_test_split(features, target, test_size=0.25, random_state=12345)"
   ]
  },
  {
   "cell_type": "markdown",
   "metadata": {},
   "source": [
    "<img src=\"https://emojigraph.org/media/apple/check-mark-button_2705.png\" align=left width=33, heigth=33>\n",
    "<div class=\"alert alert-success\">\n",
    "    \n",
    "Данные разделены на выборки. Но я бы посоветовал тебе изменить пропорции и выделить на тест 10%. Причина простая - модели, которые мы обучаем чувствительны к объему обучающих данных. Чем больше слов они увидят в процессе обучения, и оценят их вклад в \"токсичность\", тем лучше будут модели. А для корректного тестирования и 10% данных вполне достаточно, учитывая немаленький размер датасета.\n",
    "\n",
    "</div>"
   ]
  },
  {
   "cell_type": "markdown",
   "metadata": {},
   "source": [
    "<img src=\"https://upload.wikimedia.org/wikipedia/commons/b/ba/Warning_sign_4.0.png\" align=left width=44, heigth=33>\n",
    "<div class=\"alert alert-warning\">\n",
    "Старайся не делать такие длинные строки. Стандарт PEP8 регулирует длину строки 79 символов. Придерживаться такого очень сложно, но лучше хотя-бы вмещать в экран, чтобы не приходилось использовать scroll.\n",
    "    \n",
    "    \n",
    "А еще  если сомневаешься, как отформатировать правильно - всегда можно найти какой-нибудь оналйн-форматтер, например этот\n",
    "    \n",
    "  https://extendsclass.com/python-formatter.html\n",
    "    \n",
    "    \n",
    "В качестве дополнительного развития могу порекомендоваь книгу \"PYTHON  чистый код для продолжающих\", Эл Свейгарт    \n",
    "    \n",
    "   \n",
    "    \n",
    "    \n",
    "</div>"
   ]
  },
  {
   "cell_type": "code",
   "execution_count": 19,
   "metadata": {},
   "outputs": [],
   "source": [
    "del features, target, data"
   ]
  },
  {
   "cell_type": "markdown",
   "metadata": {},
   "source": [
    "В качестве метода векторизации выбрал TF-IDF. Методу так же передадим атрибут stop_words, для того чтобы избавится от неинформативных слов. Обучать векторизатор будем на тренировочной выборке (корпусе)."
   ]
  },
  {
   "cell_type": "code",
   "execution_count": 20,
   "metadata": {},
   "outputs": [],
   "source": [
    "corpus_train = features_train['text']\n",
    "corpus_test = features_test['text']"
   ]
  },
  {
   "cell_type": "markdown",
   "metadata": {},
   "source": [
    "\n",
    "<img src=\"https://upload.wikimedia.org/wikipedia/commons/thumb/8/81/Stop_sign.png/240px-Stop_sign.png\" align=left width=35, heigth=35>\n",
    "<div class=\"alert alert-danger\">\n",
    "Не нужно (и даже вредно) менять кодировку на unicode. Изменение кодировки увеличивает количество оперативной памяти, необходимой для хранения текстов и может привсти к падению ядра. Но наши тексты написаны латиницей, поэтому вполне достаточно кодировки по умолчанию.\n",
    "\n",
    "Возможно изменно из-за этого тебе не хватает оперативки и ты постоянно удаляешь лишние объекты.\n",
    "</div>\n"
   ]
  },
  {
   "cell_type": "markdown",
   "metadata": {},
   "source": [
    "<div class=\"alert\" style=\"background-color:#ead7f7;color:#8737bf\">\n",
    "    <font size=\"3\"><b>Комментарий студента</b></font>\n",
    "   \n",
    "Исправил.\n",
    "\n",
    "</div>"
   ]
  },
  {
   "cell_type": "markdown",
   "metadata": {},
   "source": [
    "<img src=\"https://emojigraph.org/media/apple/check-mark-button_2705.png\" align=left width=33, heigth=33>\n",
    "<div class=\"alert alert-success\">\n",
    "<b>v2</b> 👍 </div>"
   ]
  },
  {
   "cell_type": "code",
   "execution_count": 21,
   "metadata": {},
   "outputs": [],
   "source": [
    "del features_train, features_test"
   ]
  },
  {
   "cell_type": "markdown",
   "metadata": {},
   "source": [
    "Учитывая большое количество слов, буду использовать подход основанный на n-граммах, так же ограничим количество векторов параметрами min_df и max_df."
   ]
  },
  {
   "cell_type": "code",
   "execution_count": 22,
   "metadata": {},
   "outputs": [],
   "source": [
    "count_tf_idf = TfidfVectorizer(ngram_range=(1,2),\n",
    "                               stop_words=stop_words,\n",
    "                               min_df=3,\n",
    "                               max_df=0.9,\n",
    "                               strip_accents='unicode',\n",
    "                               use_idf=1,\n",
    "                               smooth_idf=1,\n",
    "                               sublinear_tf=1)"
   ]
  },
  {
   "cell_type": "markdown",
   "metadata": {},
   "source": [
    "<img src=\"https://upload.wikimedia.org/wikipedia/commons/b/ba/Warning_sign_4.0.png\" align=left width=44, heigth=33>\n",
    "<div class=\"alert alert-warning\">\n",
    "С гиперпараметрами TfidfVectorizer будь осторожен. Можно сильно \"обрезать\" признаки и моделям будет сложно научиться.\n",
    "    \n",
    "Если совсем зайдешь в тупик - попробуй гиперпараметры по умолчинаю, без дополнительной настройки. Да,там получается много признаков, но нужные метрики выбиваются.    \n",
    "</div>"
   ]
  },
  {
   "cell_type": "code",
   "execution_count": 23,
   "metadata": {},
   "outputs": [],
   "source": [
    "tf_df = count_tf_idf.fit(corpus_train)"
   ]
  },
  {
   "cell_type": "code",
   "execution_count": 24,
   "metadata": {},
   "outputs": [],
   "source": [
    "x_train = tf_df.transform(corpus_train)\n",
    "x_test = tf_df.transform(corpus_test)"
   ]
  },
  {
   "cell_type": "markdown",
   "metadata": {},
   "source": [
    "<img src=\"https://emojigraph.org/media/apple/check-mark-button_2705.png\" align=left width=33, heigth=33>\n",
    "<div class=\"alert alert-success\">\n",
    "👍 Молодец, получены признаки из текстов с помощью TF-IDF. И совершенно верно векторайзер вначале обучен на обучающем наборе и затем применен к тестовому</div>"
   ]
  },
  {
   "cell_type": "code",
   "execution_count": 25,
   "metadata": {},
   "outputs": [],
   "source": [
    "del count_tf_idf, tf_df, corpus_train, corpus_test"
   ]
  },
  {
   "cell_type": "markdown",
   "metadata": {},
   "source": [
    "**Вывод**\n",
    "\n",
    "* Из текста удалены все не информативные символы и слова.\n",
    "\n",
    "* Каждое слово приведено к его лемме.\n",
    "\n",
    "* Слова в тексте векторизованы.\n",
    "\n",
    "* Обнаружен дисбаланс классов."
   ]
  },
  {
   "cell_type": "markdown",
   "metadata": {},
   "source": [
    "## Обучение"
   ]
  },
  {
   "cell_type": "code",
   "execution_count": 26,
   "metadata": {},
   "outputs": [],
   "source": [
    "models_scors = pd.DataFrame(columns = ['model', 'F1'])"
   ]
  },
  {
   "cell_type": "code",
   "execution_count": 27,
   "metadata": {},
   "outputs": [],
   "source": [
    "dct_with_models_param = {}"
   ]
  },
  {
   "cell_type": "code",
   "execution_count": 28,
   "metadata": {},
   "outputs": [],
   "source": [
    "state = RandomState(12345)"
   ]
  },
  {
   "cell_type": "markdown",
   "metadata": {},
   "source": [
    "Для дальнейшего обучения выбрал несколько моделей."
   ]
  },
  {
   "cell_type": "markdown",
   "metadata": {},
   "source": [
    "**LogisticRegression**"
   ]
  },
  {
   "cell_type": "code",
   "execution_count": 29,
   "metadata": {},
   "outputs": [
    {
     "name": "stdout",
     "output_type": "stream",
     "text": [
      "F1 Score: 0.7475778636194272\n",
      "CPU times: user 3min 38s, sys: 4min 58s, total: 8min 37s\n",
      "Wall time: 8min 37s\n"
     ]
    }
   ],
   "source": [
    "%%time\n",
    "model_lr_for_search = LogisticRegression(class_weight='balanced', solver='liblinear', max_iter=1000)\n",
    "params = dict(C=np.arange(1, 20, 1))\n",
    "search_for_lr = RandomizedSearchCV(model_lr_for_search, \n",
    "                                   params,\n",
    "                                   scoring='f1',\n",
    "                                   random_state=state)\n",
    "search_for_lr.fit(x_train, y_train)\n",
    "dct_with_models_param['LR'] = search_for_lr.best_params_\n",
    "dct_with_models_param['LR'].update(train_f1=search_for_lr.best_score_)\n",
    "print(\"F1 Score:\", search_for_lr.best_score_)\n",
    "models_scors = models_scors.append({'model' : 'LinearRegression',\n",
    "                     'F1' : search_for_lr.best_score_}, ignore_index=True)"
   ]
  },
  {
   "cell_type": "markdown",
   "metadata": {},
   "source": [
    "<img src=\"https://upload.wikimedia.org/wikipedia/commons/b/ba/Warning_sign_4.0.png\" align=left width=44, heigth=33>\n",
    "<div class=\"alert alert-warning\">\n",
    "Поиск по сетке использует крос-валидацию.  А кросс-валидация одновремено с извлечением признаков из текстов требует особого подхода. Ты помнишь, что векторайзер мы обучали на обучающей выборке а применяли к тестовой. Что происходит при кросс-валидации? Ты разбиваешь большую обучающую выборку на несколько фолдов, из них выделяешь часть на обучение, часть на валидацию.  Но признаки (TF-IDF) уже обучены на всем наборе (обучающий + валидационный). Получается утечка данных. Чтобы избежать её нужно использовать pipeline из векторайзера и модели.\n",
    "    \n",
    "Пример такого пайплайна можно посмотреть в официальной документации\n",
    "    \n",
    "  https://scikit-learn.org/stable/auto_examples/model_selection/plot_grid_search_text_feature_extraction.html\n",
    "    \n",
    "И еще полезные материалы:\n",
    "    \n",
    "  https://newtechaudit.ru/pipeline-v-rabote-s-dannymi/      \n",
    "</div>"
   ]
  },
  {
   "cell_type": "markdown",
   "metadata": {},
   "source": [
    "<img src=\"https://emojigraph.org/media/apple/check-mark-button_2705.png\" align=left width=33, heigth=33>\n",
    "<div class=\"alert alert-success\">\n",
    "Подбор гиперпараметра С это очень правильное решение. Линейные модели очень хорошо работают с признаками, полученными из текстов. С помощью TF-IDF мы получили очень длинные разряженные вектора. И действительно, они очень длинные (на полном датасете с дефолтными настройками длина может достигать 150_000), при этом очень мало значений отличаются от нуля. Так вот, линейные модели гораздо лучше деревьев справляются с такими признаками. Но им нужно помочь - и ослабить регуляризацию, т.к. она заметно вырастает из за большого количества признаков. И делаем мы это как раз подбирая гиперпараметр С.\n",
    "    \n",
    "\n",
    "</div>"
   ]
  },
  {
   "cell_type": "code",
   "execution_count": 30,
   "metadata": {},
   "outputs": [],
   "source": [
    "#del model_lr_for_search, search_for_lr"
   ]
  },
  {
   "cell_type": "code",
   "execution_count": 31,
   "metadata": {
    "scrolled": true
   },
   "outputs": [],
   "source": [
    "#%%time\n",
    "#test_model_lr = LogisticRegression(solver='liblinear',\n",
    "#                                   C=dct_with_models_param['LR']['C'],\n",
    "#                                   class_weight='balanced',\n",
    "#                                   random_state=state,\n",
    "#                                   max_iter=1000)\n",
    "#test_model_lr.fit(x_train, y_train)"
   ]
  },
  {
   "cell_type": "markdown",
   "metadata": {},
   "source": [
    "<img src=\"https://upload.wikimedia.org/wikipedia/commons/b/ba/Warning_sign_4.0.png\" align=left width=44, heigth=33>\n",
    "<div class=\"alert alert-warning\">\n",
    "Не нужно переобучать модель заново, ведь лучшая модель, уже обученая на всех доступных данных уже хранится в атрибуте best_estimator_  \n",
    "        \n",
    "</div>"
   ]
  },
  {
   "cell_type": "markdown",
   "metadata": {},
   "source": [
    "<img src=\"https://upload.wikimedia.org/wikipedia/commons/b/ba/Warning_sign_4.0.png\" align=left width=44, heigth=33>\n",
    "<div class=\"alert alert-warning\">\n",
    "Пожалуйста покажи любопытному читателю, какую метрику удалось получить с помощью  логистической регрессии.     \n",
    "</div>"
   ]
  },
  {
   "cell_type": "markdown",
   "metadata": {},
   "source": [
    "<div class=\"alert\" style=\"background-color:#ead7f7;color:#8737bf\">\n",
    "    <font size=\"3\"><b>Комментарий студента</b></font>\n",
    "   \n",
    "Указал вывод F1 меры во всех моделях.\n",
    "\n",
    "</div>"
   ]
  },
  {
   "cell_type": "markdown",
   "metadata": {},
   "source": [
    "<img src=\"https://emojigraph.org/media/apple/check-mark-button_2705.png\" align=left width=33, heigth=33>\n",
    "<div class=\"alert alert-success\">\n",
    "<b>v2</b> 👍 </div>"
   ]
  },
  {
   "cell_type": "markdown",
   "metadata": {},
   "source": [
    "**Модель DecisionTreeClassifier**"
   ]
  },
  {
   "cell_type": "code",
   "execution_count": 32,
   "metadata": {},
   "outputs": [
    {
     "name": "stdout",
     "output_type": "stream",
     "text": [
      "F1 score: 0.6301328871492846\n",
      "CPU times: user 7min, sys: 3.21 s, total: 7min 3s\n",
      "Wall time: 7min 3s\n"
     ]
    }
   ],
   "source": [
    "%%time\n",
    "model_dtc_for_search = DecisionTreeClassifier(class_weight='balanced')\n",
    "params = dict(max_depth=np.arange(10, 100, 10),\n",
    "              splitter=['best', 'random'],\n",
    "              min_samples_leaf=[1, 3])\n",
    "search_for_dtc = RandomizedSearchCV(model_dtc_for_search, \n",
    "                                   params,\n",
    "                                   scoring='f1',\n",
    "                                   random_state=state)\n",
    "search_for_dtc.fit(x_train, y_train)\n",
    "dct_with_models_param['DTC'] = search_for_dtc.best_params_\n",
    "dct_with_models_param['DTC'].update(train_f1=search_for_dtc.best_score_)\n",
    "print(\"F1 score:\", search_for_dtc.best_score_)\n",
    "models_scors = models_scors.append({'model' : 'DecisionTreeClassifier',\n",
    "                     'F1' : search_for_dtc.best_score_}, ignore_index=True)"
   ]
  },
  {
   "cell_type": "markdown",
   "metadata": {},
   "source": [
    "<img src=\"https://upload.wikimedia.org/wikipedia/commons/b/ba/Warning_sign_4.0.png\" align=left width=44, heigth=33>\n",
    "<div class=\"alert alert-warning\">\n",
    "Здесь тоже возникают утечки, вязанные с кросс-валидацией над признаками, полученными применением TfidfVectorizer ко всей обучающей выборке.      \n",
    "</div>"
   ]
  },
  {
   "cell_type": "code",
   "execution_count": 33,
   "metadata": {},
   "outputs": [],
   "source": [
    "#del model_dtc_for_search, search_for_dtc"
   ]
  },
  {
   "cell_type": "code",
   "execution_count": 34,
   "metadata": {
    "scrolled": true
   },
   "outputs": [],
   "source": [
    "#%%time\n",
    "#test_model_dtc = DecisionTreeClassifier(max_depth=dct_with_models_param['DTC']['max_depth'], \n",
    "#                                       splitter=dct_with_models_param['DTC']['splitter'],\n",
    "#                                       min_samples_leaf=dct_with_models_param['DTC']['min_samples_leaf'],\n",
    "#                                       class_weight='balanced',\n",
    "#                                       random_state=state)\n",
    "#test_model_dtc.fit(x_train, y_train)"
   ]
  },
  {
   "cell_type": "markdown",
   "metadata": {},
   "source": [
    "<img src=\"https://upload.wikimedia.org/wikipedia/commons/b/ba/Warning_sign_4.0.png\" align=left width=44, heigth=33>\n",
    "<div class=\"alert alert-warning\">\n",
    "Не нужно переобучать модель заново, ведь лучшая модель, уже обученая на всех доступных данных уже хранится в атрибуте best_estimator_  \n",
    "        \n",
    "</div>"
   ]
  },
  {
   "cell_type": "markdown",
   "metadata": {},
   "source": [
    "**Модель LinearSVC**"
   ]
  },
  {
   "cell_type": "code",
   "execution_count": 35,
   "metadata": {
    "scrolled": true
   },
   "outputs": [
    {
     "name": "stdout",
     "output_type": "stream",
     "text": [
      "F1 score: 0.7426027323230185\n",
      "CPU times: user 18.3 s, sys: 78.6 ms, total: 18.3 s\n",
      "Wall time: 18.5 s\n"
     ]
    }
   ],
   "source": [
    "%%time\n",
    "model_lsvc_for_search = LinearSVC(random_state=state, class_weight='balanced')\n",
    "params = dict(C=np.arange(0.1, 1, 0.1))\n",
    "search_for_lsvc = RandomizedSearchCV(model_lsvc_for_search, \n",
    "                                   params,\n",
    "                                   scoring='f1',\n",
    "                                   random_state=state)\n",
    "search_for_lsvc.fit(x_train, y_train)\n",
    "dct_with_models_param['LinearSVC'] = search_for_lsvc.best_params_\n",
    "dct_with_models_param['LinearSVC'].update(train_f1=search_for_lsvc.best_score_)\n",
    "print(\"F1 score:\", search_for_lsvc.best_score_)\n",
    "models_scors = models_scors.append({'model' : 'LinearSVC',\n",
    "                     'F1' : search_for_lsvc.best_score_}, ignore_index=True)"
   ]
  },
  {
   "cell_type": "markdown",
   "metadata": {},
   "source": [
    "<img src=\"https://upload.wikimedia.org/wikipedia/commons/b/ba/Warning_sign_4.0.png\" align=left width=44, heigth=33>\n",
    "<div class=\"alert alert-warning\">\n",
    "Здесь тоже возникают утечки, вязанные с кросс-валидацией над признаками, полученными применением TfidfVectorizer ко всей обучающей выборке.      \n",
    "</div>"
   ]
  },
  {
   "cell_type": "code",
   "execution_count": 36,
   "metadata": {},
   "outputs": [],
   "source": [
    "#del model_lsvc_for_search, search_for_lsvc"
   ]
  },
  {
   "cell_type": "code",
   "execution_count": 37,
   "metadata": {
    "scrolled": true
   },
   "outputs": [],
   "source": [
    "#%%time\n",
    "#test_model_lsvc = LinearSVC(C=dct_with_models_param['LinearSVC']['C'], \n",
    "#                          class_weight='balanced',\n",
    "#                          random_state=state)\n",
    "#test_model_lsvc.fit(x_train, y_train)"
   ]
  },
  {
   "cell_type": "markdown",
   "metadata": {},
   "source": [
    "<img src=\"https://upload.wikimedia.org/wikipedia/commons/b/ba/Warning_sign_4.0.png\" align=left width=44, heigth=33>\n",
    "<div class=\"alert alert-warning\">\n",
    "Не нужно переобучать модель заново, ведь лучшая модель, уже обученая на всех доступных данных уже хранится в атрибуте best_estimator_  \n",
    "        \n",
    "</div>"
   ]
  },
  {
   "cell_type": "markdown",
   "metadata": {},
   "source": [
    "**Модель MultinomialNB**"
   ]
  },
  {
   "cell_type": "code",
   "execution_count": 38,
   "metadata": {
    "scrolled": true
   },
   "outputs": [
    {
     "name": "stdout",
     "output_type": "stream",
     "text": [
      "F1 score: 0.5990105405794524\n",
      "CPU times: user 527 ms, sys: 1.42 ms, total: 528 ms\n",
      "Wall time: 527 ms\n"
     ]
    }
   ],
   "source": [
    "%%time\n",
    "model_mnb_for_search = MultinomialNB()\n",
    "params = dict(alpha=[0,1], fit_prior=[True, False])\n",
    "search_for_mnb = RandomizedSearchCV(model_mnb_for_search,\n",
    "                                    params,\n",
    "                                    scoring='f1')\n",
    "search_for_mnb.fit(x_train, y_train)\n",
    "dct_with_models_param['MNB'] = search_for_mnb.best_params_\n",
    "dct_with_models_param['MNB'].update(train_f1=search_for_mnb.best_score_)\n",
    "print(\"F1 score:\", search_for_mnb.best_score_)\n",
    "models_scors = models_scors.append({'model' : 'MultinomialNB',\n",
    "                     'F1' : search_for_mnb.best_score_}, ignore_index=True)"
   ]
  },
  {
   "cell_type": "markdown",
   "metadata": {},
   "source": [
    "<img src=\"https://upload.wikimedia.org/wikipedia/commons/b/ba/Warning_sign_4.0.png\" align=left width=44, heigth=33>\n",
    "<div class=\"alert alert-warning\">\n",
    "Здесь тоже возникают утечки, вязанные с кросс-валидацией над признаками, полученными применением TfidfVectorizer ко всей обучающей выборке.      \n",
    "</div>"
   ]
  },
  {
   "cell_type": "code",
   "execution_count": 39,
   "metadata": {},
   "outputs": [],
   "source": [
    "#del model_mnb_for_search, search_for_mnb"
   ]
  },
  {
   "cell_type": "code",
   "execution_count": 40,
   "metadata": {
    "scrolled": true
   },
   "outputs": [],
   "source": [
    "#%%time\n",
    "#test_model_mnb = MultinomialNB(alpha=dct_with_models_param['MNB']['alpha'], \n",
    "#                          fit_prior=dct_with_models_param['MNB']['fit_prior'])\n",
    "#test_model_mnb.fit(x_train, y_train)"
   ]
  },
  {
   "cell_type": "markdown",
   "metadata": {},
   "source": [
    "<img src=\"https://upload.wikimedia.org/wikipedia/commons/b/ba/Warning_sign_4.0.png\" align=left width=44, heigth=33>\n",
    "<div class=\"alert alert-warning\">\n",
    "Не нужно переобучать модель заново, ведь лучшая модель, уже обученая на всех доступных данных уже хранится в атрибуте best_estimator_  \n",
    "        \n",
    "</div>"
   ]
  },
  {
   "cell_type": "markdown",
   "metadata": {},
   "source": [
    "**Модель KNeighborsClassifier**"
   ]
  },
  {
   "cell_type": "code",
   "execution_count": 41,
   "metadata": {},
   "outputs": [
    {
     "name": "stdout",
     "output_type": "stream",
     "text": [
      "F1 score: 0.05437418992445538\n",
      "CPU times: user 20min 41s, sys: 1min 6s, total: 21min 47s\n",
      "Wall time: 21min 48s\n"
     ]
    }
   ],
   "source": [
    "%%time\n",
    "model_knb_for_search = KNeighborsClassifier()\n",
    "params = dict(weights=['uniform', 'distance'],\n",
    "              p=[1,2],\n",
    "              leaf_size=np.arange(10,40,1),\n",
    "              metric=['minkowski', 'chebyshev'],\n",
    "              n_neighbors=np.arange(5, 40, 10))\n",
    "search_for_knb = RandomizedSearchCV(model_knb_for_search,\n",
    "                                    params,\n",
    "                                    scoring='f1')\n",
    "search_for_knb.fit(x_train, y_train)\n",
    "dct_with_models_param['KNB'] = search_for_knb.best_params_\n",
    "dct_with_models_param['KNB'].update(train_f1=search_for_knb.best_score_)\n",
    "print(\"F1 score:\", search_for_knb.best_score_)\n",
    "models_scors = models_scors.append({'model' : 'KNeighborsClassifier',\n",
    "                     'F1' : search_for_knb.best_score_}, ignore_index=True)"
   ]
  },
  {
   "cell_type": "markdown",
   "metadata": {},
   "source": [
    "<img src=\"https://upload.wikimedia.org/wikipedia/commons/b/ba/Warning_sign_4.0.png\" align=left width=44, heigth=33>\n",
    "<div class=\"alert alert-warning\">\n",
    "Здесь тоже возникают утечки, вязанные с кросс-валидацией над признаками, полученными применением TfidfVectorizer ко всей обучающей выборке.      \n",
    "</div>"
   ]
  },
  {
   "cell_type": "code",
   "execution_count": 42,
   "metadata": {},
   "outputs": [],
   "source": [
    "#del model_knb_for_search, search_for_knb"
   ]
  },
  {
   "cell_type": "code",
   "execution_count": 43,
   "metadata": {},
   "outputs": [],
   "source": [
    "#%%time\n",
    "#test_model_knb = KNeighborsClassifier(weights=dct_with_models_param['KNB']['weights'],\n",
    "#                                      p=dct_with_models_param['KNB']['p'],\n",
    "#                                      n_neighbors=dct_with_models_param['KNB']['n_neighbors'],\n",
    "#                                      leaf_size=dct_with_models_param['KNB']['leaf_size'],\n",
    "#                                      metric=dct_with_models_param['KNB']['metric'])\n",
    "#test_model_knb.fit(x_train, y_train)"
   ]
  },
  {
   "cell_type": "markdown",
   "metadata": {},
   "source": [
    "<img src=\"https://upload.wikimedia.org/wikipedia/commons/b/ba/Warning_sign_4.0.png\" align=left width=44, heigth=33>\n",
    "<div class=\"alert alert-warning\">\n",
    "Не нужно переобучать модель заново, ведь лучшая модель, уже обученая на всех доступных данных уже хранится в атрибуте best_estimator_  \n",
    "        \n",
    "</div>"
   ]
  },
  {
   "cell_type": "code",
   "execution_count": 44,
   "metadata": {
    "scrolled": false
   },
   "outputs": [
    {
     "data": {
      "text/plain": [
       "{'weights': 'distance',\n",
       " 'p': 1,\n",
       " 'n_neighbors': 15,\n",
       " 'metric': 'minkowski',\n",
       " 'leaf_size': 25,\n",
       " 'train_f1': 0.05437418992445538}"
      ]
     },
     "execution_count": 44,
     "metadata": {},
     "output_type": "execute_result"
    }
   ],
   "source": [
    "dct_with_models_param['KNB']"
   ]
  },
  {
   "cell_type": "markdown",
   "metadata": {},
   "source": [
    "<img src=\"https://upload.wikimedia.org/wikipedia/commons/thumb/8/81/Stop_sign.png/240px-Stop_sign.png\" align=left width=35, heigth=35>\n",
    "<div class=\"alert alert-danger\">\n",
    "Пожалуйста покажи какие результаты ты получил с помощью кросс-валидации и выбери лучшую модель.\n",
    "\n",
    "</div>"
   ]
  },
  {
   "cell_type": "markdown",
   "metadata": {},
   "source": [
    "<div class=\"alert\" style=\"background-color:#ead7f7;color:#8737bf\">\n",
    "    <font size=\"3\"><b>Комментарий студента</b></font>\n",
    "   \n",
    "Вывел таблицу с результатами каждой модели и выбрал лучшую.\n",
    "\n",
    "</div>"
   ]
  },
  {
   "cell_type": "markdown",
   "metadata": {},
   "source": [
    "<img src=\"https://emojigraph.org/media/apple/check-mark-button_2705.png\" align=left width=33, heigth=33>\n",
    "<div class=\"alert alert-success\">\n",
    "<b>v2</b> 👍 </div>"
   ]
  },
  {
   "cell_type": "code",
   "execution_count": 45,
   "metadata": {},
   "outputs": [
    {
     "data": {
      "text/html": [
       "<div>\n",
       "<style scoped>\n",
       "    .dataframe tbody tr th:only-of-type {\n",
       "        vertical-align: middle;\n",
       "    }\n",
       "\n",
       "    .dataframe tbody tr th {\n",
       "        vertical-align: top;\n",
       "    }\n",
       "\n",
       "    .dataframe thead th {\n",
       "        text-align: right;\n",
       "    }\n",
       "</style>\n",
       "<table border=\"1\" class=\"dataframe\">\n",
       "  <thead>\n",
       "    <tr style=\"text-align: right;\">\n",
       "      <th></th>\n",
       "      <th>model</th>\n",
       "      <th>F1</th>\n",
       "    </tr>\n",
       "  </thead>\n",
       "  <tbody>\n",
       "    <tr>\n",
       "      <th>0</th>\n",
       "      <td>LinearRegression</td>\n",
       "      <td>0.747578</td>\n",
       "    </tr>\n",
       "    <tr>\n",
       "      <th>1</th>\n",
       "      <td>DecisionTreeClassifier</td>\n",
       "      <td>0.630133</td>\n",
       "    </tr>\n",
       "    <tr>\n",
       "      <th>2</th>\n",
       "      <td>LinearSVC</td>\n",
       "      <td>0.742603</td>\n",
       "    </tr>\n",
       "    <tr>\n",
       "      <th>3</th>\n",
       "      <td>MultinomialNB</td>\n",
       "      <td>0.599011</td>\n",
       "    </tr>\n",
       "    <tr>\n",
       "      <th>4</th>\n",
       "      <td>KNeighborsClassifier</td>\n",
       "      <td>0.054374</td>\n",
       "    </tr>\n",
       "  </tbody>\n",
       "</table>\n",
       "</div>"
      ],
      "text/plain": [
       "                    model        F1\n",
       "0        LinearRegression  0.747578\n",
       "1  DecisionTreeClassifier  0.630133\n",
       "2               LinearSVC  0.742603\n",
       "3           MultinomialNB  0.599011\n",
       "4    KNeighborsClassifier  0.054374"
      ]
     },
     "execution_count": 45,
     "metadata": {},
     "output_type": "execute_result"
    }
   ],
   "source": [
    "models_scors"
   ]
  },
  {
   "cell_type": "markdown",
   "metadata": {},
   "source": [
    "По результатам, лучше всего себя проявила модель **LinearRegression**. Её и будем тестировать."
   ]
  },
  {
   "cell_type": "markdown",
   "metadata": {},
   "source": [
    "**Тестирование**"
   ]
  },
  {
   "cell_type": "markdown",
   "metadata": {},
   "source": [
    " <img src=\"https://upload.wikimedia.org/wikipedia/commons/thumb/8/81/Stop_sign.png/240px-Stop_sign.png\" align=left width=35, heigth=35>\n",
    " <div class=\"alert alert-danger\">\n",
    "К данному этапу мы должны подойти с одной выбранной моделью. Любое использование тестовой выборки (в том числе для выбора лучшей модели) - это нарушение.\n",
    "\n",
    "\n",
    "И совершенно точно нельзя заниматься подбором порога классификации (гиперпараметр) по тестовой выборке. С помощью тестовой выборки мы только оцениваем лучшую модель с целью понять, какая будет метрика на новых данных, которые модель не видела. А все улучшения мы делаем на валидационной выборке или кросс-валидации.\n",
    "</div>"
   ]
  },
  {
   "cell_type": "markdown",
   "metadata": {},
   "source": [
    "<img src=\"https://emojigraph.org/media/apple/check-mark-button_2705.png\" align=left width=33, heigth=33>\n",
    "<div class=\"alert alert-success\">\n",
    "<b>v2</b> 👍 </div>"
   ]
  },
  {
   "cell_type": "markdown",
   "metadata": {},
   "source": [
    "**LogisticRegression**"
   ]
  },
  {
   "cell_type": "code",
   "execution_count": 49,
   "metadata": {},
   "outputs": [
    {
     "name": "stdout",
     "output_type": "stream",
     "text": [
      "F1-мера: 0.769942196531792\n",
      "CPU times: user 9.81 ms, sys: 331 µs, total: 10.1 ms\n",
      "Wall time: 8.73 ms\n"
     ]
    }
   ],
   "source": [
    "%%time\n",
    "y_pred = search_for_lr.predict(x_test)\n",
    "f1_score = metrics.f1_score(y_test, y_pred)\n",
    "print(\"F1-мера:\", f1_score)"
   ]
  },
  {
   "cell_type": "markdown",
   "metadata": {},
   "source": [
    "## Выводы"
   ]
  },
  {
   "cell_type": "markdown",
   "metadata": {},
   "source": [
    "Логистическая регрессия выдает результат F1-score: 0.769 на тестовой выборке, это лучший результат.\n",
    "\n",
    "Он вписывается в требуемый порог не меньше 0.75."
   ]
  },
  {
   "cell_type": "markdown",
   "metadata": {},
   "source": [
    "## Чек-лист проверки"
   ]
  },
  {
   "cell_type": "markdown",
   "metadata": {},
   "source": [
    "- [x]  Jupyter Notebook открыт\n",
    "- [x]  Весь код выполняется без ошибок\n",
    "- [x]  Ячейки с кодом расположены в порядке исполнения\n",
    "- [x]  Данные загружены и подготовлены\n",
    "- [x]  Модели обучены\n",
    "- [x]  Значение метрики *F1* не меньше 0.75\n",
    "- [x]  Выводы написаны"
   ]
  },
  {
   "cell_type": "markdown",
   "metadata": {},
   "source": [
    "<img src=\"http://s3.amazonaws.com/pix.iemoji.com/images/emoji/apple/ios-12/256/waving-hand.png\" align=left width=44, heigth=44>\n",
    "<div class=\"alert alert-info\">\n",
    "<b> Заключительный комментарий v2</b>\n",
    "И снова привет!\n",
    "Вижу что ты проработал мои комментарии. Теперь проект может быть принят. Поздравляю и желаю дальнейших успехов!\n",
    "\n",
    "</div>"
   ]
  },
  {
   "cell_type": "markdown",
   "metadata": {},
   "source": [
    "<img src=\"http://s3.amazonaws.com/pix.iemoji.com/images/emoji/apple/ios-12/256/waving-hand.png\" align=left width=44, heigth=44>\n",
    "<div class=\"alert alert-info\">\n",
    "<b> Заключительный комментарий</b>\n",
    "Давай подведем итоги. В целом с проектом ты справляешься - текст предобработан, извлечены признаки и обучены классификаторы. \n",
    "    \n",
    "Но вот достигнуть метрики 0,75 у тебя не получилось, видимо по этому ты начал подгонять порог классификации под тестовую выборку.\n",
    "    \n",
    "    \n",
    "Что нужно доработать:\n",
    "    \n",
    " - Пожалуйста доработай оформление графика\n",
    " - Пожалуста перепиши раздел с лемматизацией. Сейчас она выполняется некорректно.\n",
    " - Не стоит перекодировать английский текст в Юникод. \n",
    " - Выбор лучшей модели нужно производить по оценкам, полученым с помощью кросс-валидации. А выбирать модель по тестовой выборке и тем более подбирать порог классификации по тестовой выборке нельзя.\n",
    "    \n",
    "    \n",
    "Попробуй увеличить количество данных используемых для обучения + поработать с гиперпараметрами векторизации и логистическая регрессия даст тебе хороший результат.\n",
    "     \n",
    "Жду твоих исправлений :)\n",
    "</div>"
   ]
  },
  {
   "cell_type": "markdown",
   "metadata": {},
   "source": [
    "<img src=\"http://s3.amazonaws.com/pix.iemoji.com/images/emoji/apple/ios-12/256/waving-hand.png\" align=left width=44, heigth=44>\n",
    "<div class=\"alert alert-info\">\n",
    "<b> рекомендации по доп. материалам</b>\n",
    "Если решишь погрузиться в область работы с текстами, очень советую несколько продвинутых бесплатных курсов.\n",
    "    \n",
    "   - Отличный бесплатный курс от Школы глубокого обучения МФТИ (https://stepik.org/org/dlschool), старт курса каждые пол года. Два семестра, один по основам и компьютерному зрению, второй по обработке естественного языка. Проходить нужно именно в таком порядке,т.к. почти весь современный NLP построен на нейронках.\n",
    "    \n",
    "   - \"Нейронные сети и компьютерное зрение\" от Samsung Research Russia (https://stepik.org/course/50352/syllabus). Есть также продолжение по NLP.  \n",
    "   - Трек NLP от сообщества ODS https://ods.ai/tracks/nlp-course-autumn-22\n",
    "    \n",
    "</div>"
   ]
  },
  {
   "cell_type": "markdown",
   "metadata": {},
   "source": [
    "<img src=\"https://emojigraph.org/media/apple/check-mark-button_2705.png\" align=left width=33, heigth=33>\n",
    "<div class=\"alert alert-success\"> \n",
    "<b>минутка теории</b>\n",
    "    \n",
    "<b>общий дизайн ML исследования</b>\n",
    "\n",
    "В курсе мы используем следующую схему оценки качества алгоритмов:\n",
    "\n",
    "1. Все данные делятся на 3 части: \n",
    "   - обучение,\n",
    "   - валидация,\n",
    "   - тест.\n",
    "\n",
    "2. Каждый из алгоритмов будет обучен на обучающей выборке. \n",
    "3. Подбор гиперпараметров мы осуществляем с помощью оценки на валидационной выборке.\n",
    "4. Когда гиперпараметры подобраны, качество каждого алгоритма мы оцениваем с помощью валидационной выборки.\n",
    "    \n",
    "5. Выбираем лучший по оценке на валидационной выборке.\n",
    "6. И уже самый лучший алгоритм оцениваем по тестовой выборке.\n",
    "\n",
    "\n",
    "Есть более системный вариант этой схемы, с использованием кросс-валидации. В этом случае  схема немного адаптируется. \n",
    "\n",
    "Все данные делятся на 2 части, первая будет использоваться для обучения и подбора гиперпараметров, и оценки алгоритмов с помощью кросс-валидации, вторая будет использоваться для финального тестирования.\n",
    "    \n",
    "    \n",
    "Я советую до начала обучения моделей  решить для себя, какую стратегию стоит использовать в проекте (с кросс-валидацией или с выделением отдельной валидационной выборки).    \n",
    "\n",
    "\n",
    "<b>Дополнительные материалы:</b>    \n",
    "    \n",
    "    \n",
    "<a href=\"https://academy.yandex.ru/handbook/ml/article/kross-validaciya\">Онлайн-учебник по машинному обучению от ШАД</a>        \n",
    "        \n",
    "    \n",
    "<a href=\"https://github.com/minhdai2410/machine-learning-data-analysis-yandex-mipt-coursera/blob/master/2%20Supervised%20Learning/Lectures/2-1.Problema_pereobucheniya_i_bor_ba_s_nej.pdf\">Конспект специализации Машинное обучение и анализ данных</a>, внимание двум последним страницам.\n",
    "</div>"
   ]
  },
  {
   "cell_type": "markdown",
   "metadata": {},
   "source": []
  },
  {
   "cell_type": "code",
   "execution_count": null,
   "metadata": {},
   "outputs": [],
   "source": []
  }
 ],
 "metadata": {
  "ExecuteTimeLog": [
   {
    "duration": 10901,
    "start_time": "2023-06-27T19:15:33.753Z"
   },
   {
    "duration": 10707,
    "start_time": "2023-06-27T19:15:44.658Z"
   },
   {
    "duration": 284,
    "start_time": "2023-06-27T19:15:55.368Z"
   },
   {
    "duration": 205,
    "start_time": "2023-06-27T19:15:58.554Z"
   },
   {
    "duration": 5,
    "start_time": "2023-06-27T19:17:43.654Z"
   },
   {
    "duration": 100,
    "start_time": "2023-06-27T19:17:52.652Z"
   },
   {
    "duration": 1008,
    "start_time": "2023-06-27T19:18:28.654Z"
   },
   {
    "duration": 1605,
    "start_time": "2023-06-27T19:18:54.152Z"
   },
   {
    "duration": 16,
    "start_time": "2023-06-27T19:19:21.452Z"
   },
   {
    "duration": 203,
    "start_time": "2023-06-27T19:20:01.353Z"
   },
   {
    "duration": 5,
    "start_time": "2023-06-27T19:20:08.353Z"
   },
   {
    "duration": 4307,
    "start_time": "2023-06-27T19:20:16.152Z"
   },
   {
    "duration": 11,
    "start_time": "2023-06-27T19:20:33.052Z"
   },
   {
    "duration": 716,
    "start_time": "2023-06-27T19:21:22.353Z"
   },
   {
    "duration": 4,
    "start_time": "2023-06-27T19:21:34.256Z"
   },
   {
    "duration": 5,
    "start_time": "2023-06-27T19:21:43.454Z"
   },
   {
    "duration": 187619,
    "start_time": "2023-06-27T19:21:52.053Z"
   },
   {
    "duration": 32,
    "start_time": "2023-06-27T19:32:56.154Z"
   },
   {
    "duration": 107,
    "start_time": "2023-06-27T19:33:41.355Z"
   },
   {
    "duration": 93,
    "start_time": "2023-06-27T19:33:48.760Z"
   },
   {
    "duration": 2742,
    "start_time": "2023-06-27T19:34:25.558Z"
   },
   {
    "duration": 5,
    "start_time": "2023-06-27T19:34:39.812Z"
   },
   {
    "duration": 3,
    "start_time": "2023-06-27T19:35:04.895Z"
   },
   {
    "duration": 5200,
    "start_time": "2023-06-27T19:35:12.757Z"
   },
   {
    "duration": 5039,
    "start_time": "2023-06-27T19:35:24.508Z"
   },
   {
    "duration": 211,
    "start_time": "2023-06-27T19:35:38.222Z"
   },
   {
    "duration": 3,
    "start_time": "2023-06-27T19:36:27.708Z"
   },
   {
    "duration": 3,
    "start_time": "2023-06-27T19:36:36.499Z"
   },
   {
    "duration": 459728,
    "start_time": "2023-06-27T19:37:38.927Z"
   },
   {
    "duration": 3,
    "start_time": "2023-06-27T19:48:53.816Z"
   },
   {
    "duration": 12267,
    "start_time": "2023-06-27T19:49:04.796Z"
   },
   {
    "duration": 431120,
    "start_time": "2023-06-27T19:50:02.196Z"
   },
   {
    "duration": 4,
    "start_time": "2023-06-27T19:59:05.700Z"
   },
   {
    "duration": 13491,
    "start_time": "2023-06-27T19:59:15.705Z"
   },
   {
    "duration": 24615,
    "start_time": "2023-06-27T19:59:56.426Z"
   },
   {
    "duration": 3,
    "start_time": "2023-06-27T20:00:42.173Z"
   },
   {
    "duration": 615,
    "start_time": "2023-06-27T20:00:56.429Z"
   },
   {
    "duration": 611,
    "start_time": "2023-06-27T20:02:19.914Z"
   },
   {
    "duration": 3,
    "start_time": "2023-06-27T20:02:29.613Z"
   },
   {
    "duration": 37,
    "start_time": "2023-06-27T20:02:38.047Z"
   },
   {
    "duration": 644802,
    "start_time": "2023-06-27T20:04:22.606Z"
   },
   {
    "duration": 3,
    "start_time": "2023-06-27T20:18:16.843Z"
   },
   {
    "duration": 17,
    "start_time": "2023-06-27T20:18:28.003Z"
   },
   {
    "duration": 5,
    "start_time": "2023-06-27T20:18:43.406Z"
   },
   {
    "duration": 5,
    "start_time": "2023-06-27T20:21:38.142Z"
   },
   {
    "duration": 17,
    "start_time": "2023-06-27T20:21:50.078Z"
   },
   {
    "duration": 7,
    "start_time": "2023-06-27T20:22:19.612Z"
   },
   {
    "duration": 420,
    "start_time": "2023-06-27T20:22:27.009Z"
   },
   {
    "duration": 3,
    "start_time": "2023-06-27T20:22:34.802Z"
   },
   {
    "duration": 4,
    "start_time": "2023-06-27T20:22:42.937Z"
   },
   {
    "duration": 509,
    "start_time": "2023-06-27T20:23:22.210Z"
   },
   {
    "duration": 29,
    "start_time": "2023-06-27T20:24:11.942Z"
   },
   {
    "duration": 224,
    "start_time": "2023-06-27T20:24:20.922Z"
   },
   {
    "duration": 4,
    "start_time": "2023-06-27T20:24:28.870Z"
   },
   {
    "duration": 4,
    "start_time": "2023-06-27T20:24:36.130Z"
   },
   {
    "duration": 434,
    "start_time": "2023-06-27T20:24:53.006Z"
   },
   {
    "duration": 28,
    "start_time": "2023-06-27T20:25:30.276Z"
   },
   {
    "duration": 11,
    "start_time": "2023-06-27T20:26:10.038Z"
   },
   {
    "duration": 243,
    "start_time": "2023-06-27T20:26:17.295Z"
   },
   {
    "duration": 8,
    "start_time": "2023-06-27T20:26:25.549Z"
   },
   {
    "duration": 5,
    "start_time": "2023-06-27T20:26:33.909Z"
   },
   {
    "duration": 501,
    "start_time": "2023-06-27T20:26:48.571Z"
   },
   {
    "duration": 19718,
    "start_time": "2023-06-27T20:27:20.010Z"
   },
   {
    "duration": 169,
    "start_time": "2023-06-27T20:28:35.326Z"
   },
   {
    "duration": 4,
    "start_time": "2023-06-27T20:28:42.982Z"
   },
   {
    "duration": 5,
    "start_time": "2023-06-27T20:28:49.511Z"
   },
   {
    "duration": 21170,
    "start_time": "2023-06-27T20:29:03.179Z"
   },
   {
    "duration": 497,
    "start_time": "2023-06-27T20:29:24.360Z"
   },
   {
    "duration": 22,
    "start_time": "2023-06-27T20:29:47.478Z"
   },
   {
    "duration": 4,
    "start_time": "2023-06-27T20:29:54.975Z"
   },
   {
    "duration": 11,
    "start_time": "2023-06-27T20:30:03.537Z"
   },
   {
    "duration": 5,
    "start_time": "2023-06-27T20:30:36.252Z"
   },
   {
    "duration": 6,
    "start_time": "2023-06-27T20:30:46.582Z"
   },
   {
    "duration": 9,
    "start_time": "2023-06-27T20:30:56.201Z"
   },
   {
    "duration": 66,
    "start_time": "2023-06-27T22:48:57.132Z"
   },
   {
    "duration": 2564,
    "start_time": "2023-06-27T22:49:02.255Z"
   },
   {
    "duration": 4278,
    "start_time": "2023-06-27T22:49:04.823Z"
   },
   {
    "duration": 38,
    "start_time": "2023-06-27T22:49:09.103Z"
   },
   {
    "duration": 3,
    "start_time": "2023-06-27T22:49:12.910Z"
   },
   {
    "duration": 18,
    "start_time": "2023-06-27T22:49:13.793Z"
   },
   {
    "duration": 283,
    "start_time": "2023-06-27T22:49:15.326Z"
   },
   {
    "duration": 225,
    "start_time": "2023-06-27T22:49:17.602Z"
   },
   {
    "duration": 205,
    "start_time": "2023-06-27T22:50:13.244Z"
   },
   {
    "duration": 230,
    "start_time": "2023-06-27T22:50:22.620Z"
   },
   {
    "duration": 156,
    "start_time": "2023-06-27T22:50:41.002Z"
   },
   {
    "duration": 239,
    "start_time": "2023-06-27T22:50:47.001Z"
   },
   {
    "duration": 227,
    "start_time": "2023-06-27T22:52:55.632Z"
   },
   {
    "duration": 163,
    "start_time": "2023-06-27T22:53:13.265Z"
   },
   {
    "duration": 225,
    "start_time": "2023-06-27T22:53:18.997Z"
   },
   {
    "duration": 263,
    "start_time": "2023-06-27T22:54:44.164Z"
   },
   {
    "duration": 8,
    "start_time": "2023-06-27T22:55:53.525Z"
   },
   {
    "duration": 28,
    "start_time": "2023-06-27T22:55:54.648Z"
   },
   {
    "duration": 4,
    "start_time": "2023-06-27T22:55:55.800Z"
   },
   {
    "duration": 844,
    "start_time": "2023-06-27T22:55:59.061Z"
   },
   {
    "duration": 9,
    "start_time": "2023-06-27T22:56:02.502Z"
   },
   {
    "duration": 199,
    "start_time": "2023-06-27T22:56:07.001Z"
   },
   {
    "duration": 5,
    "start_time": "2023-06-27T23:06:38.804Z"
   },
   {
    "duration": 904,
    "start_time": "2023-06-27T23:06:50.613Z"
   },
   {
    "duration": 441,
    "start_time": "2023-06-27T23:08:19.352Z"
   },
   {
    "duration": 1144,
    "start_time": "2023-06-27T23:08:38.399Z"
   },
   {
    "duration": 3,
    "start_time": "2023-06-27T23:09:24.345Z"
   },
   {
    "duration": 11,
    "start_time": "2023-06-27T23:09:24.672Z"
   },
   {
    "duration": 2971,
    "start_time": "2023-06-28T08:41:20.517Z"
   },
   {
    "duration": 2251,
    "start_time": "2023-06-28T08:41:28.210Z"
   },
   {
    "duration": 32,
    "start_time": "2023-06-28T08:41:30.463Z"
   },
   {
    "duration": 58,
    "start_time": "2023-06-28T08:41:30.497Z"
   },
   {
    "duration": 52,
    "start_time": "2023-06-28T08:41:30.557Z"
   },
   {
    "duration": 253,
    "start_time": "2023-06-28T08:41:31.742Z"
   },
   {
    "duration": 207,
    "start_time": "2023-06-28T08:41:33.452Z"
   },
   {
    "duration": 8,
    "start_time": "2023-06-28T08:41:43.436Z"
   },
   {
    "duration": 16,
    "start_time": "2023-06-28T08:41:45.357Z"
   },
   {
    "duration": 3,
    "start_time": "2023-06-28T08:41:48.061Z"
   },
   {
    "duration": 696,
    "start_time": "2023-06-28T08:41:50.125Z"
   },
   {
    "duration": 10,
    "start_time": "2023-06-28T08:41:52.674Z"
   },
   {
    "duration": 27,
    "start_time": "2023-06-28T08:41:56.333Z"
   },
   {
    "duration": 4,
    "start_time": "2023-06-28T08:41:57.505Z"
   },
   {
    "duration": 4,
    "start_time": "2023-06-28T08:41:59.116Z"
   },
   {
    "duration": 342,
    "start_time": "2023-06-28T08:42:04.007Z"
   },
   {
    "duration": 175059,
    "start_time": "2023-06-28T08:44:38.104Z"
   },
   {
    "duration": 9,
    "start_time": "2023-06-28T08:47:56.821Z"
   },
   {
    "duration": 16,
    "start_time": "2023-06-28T08:50:31.536Z"
   },
   {
    "duration": 50,
    "start_time": "2023-06-28T08:52:59.651Z"
   },
   {
    "duration": 8,
    "start_time": "2023-06-28T08:53:46.926Z"
   },
   {
    "duration": 48,
    "start_time": "2023-06-28T08:55:25.390Z"
   },
   {
    "duration": 45,
    "start_time": "2023-06-28T08:57:03.765Z"
   },
   {
    "duration": 44,
    "start_time": "2023-06-28T08:57:50.419Z"
   },
   {
    "duration": 17,
    "start_time": "2023-06-28T09:07:54.774Z"
   },
   {
    "duration": 11,
    "start_time": "2023-06-28T09:08:00.818Z"
   },
   {
    "duration": 10,
    "start_time": "2023-06-28T09:08:08.326Z"
   },
   {
    "duration": 9,
    "start_time": "2023-06-28T09:08:21.031Z"
   },
   {
    "duration": 6,
    "start_time": "2023-06-28T09:08:29.670Z"
   },
   {
    "duration": 10,
    "start_time": "2023-06-28T09:08:30.506Z"
   },
   {
    "duration": 3,
    "start_time": "2023-06-28T09:08:33.317Z"
   },
   {
    "duration": 648,
    "start_time": "2023-06-28T09:08:35.174Z"
   },
   {
    "duration": 11,
    "start_time": "2023-06-28T09:08:36.816Z"
   },
   {
    "duration": 237,
    "start_time": "2023-06-28T09:09:08.010Z"
   },
   {
    "duration": 5,
    "start_time": "2023-06-28T09:09:09.032Z"
   },
   {
    "duration": 16,
    "start_time": "2023-06-28T09:09:18.615Z"
   },
   {
    "duration": 5,
    "start_time": "2023-06-28T09:09:27.614Z"
   },
   {
    "duration": 3,
    "start_time": "2023-06-28T09:10:10.042Z"
   },
   {
    "duration": 3,
    "start_time": "2023-06-28T09:10:11.414Z"
   },
   {
    "duration": 4,
    "start_time": "2023-06-28T09:10:18.819Z"
   },
   {
    "duration": 3712,
    "start_time": "2023-06-28T09:10:24.570Z"
   },
   {
    "duration": 3590,
    "start_time": "2023-06-28T09:10:30.634Z"
   },
   {
    "duration": 89,
    "start_time": "2023-06-28T09:10:36.896Z"
   },
   {
    "duration": 3,
    "start_time": "2023-06-28T09:10:41.547Z"
   },
   {
    "duration": 4,
    "start_time": "2023-06-28T09:10:42.234Z"
   },
   {
    "duration": 421029,
    "start_time": "2023-06-28T09:12:57.824Z"
   },
   {
    "duration": 3,
    "start_time": "2023-06-28T09:20:48.028Z"
   },
   {
    "duration": 3,
    "start_time": "2023-06-28T09:20:55.002Z"
   },
   {
    "duration": 3,
    "start_time": "2023-06-28T09:20:56.970Z"
   },
   {
    "duration": 428998,
    "start_time": "2023-06-28T10:14:27.661Z"
   },
   {
    "duration": 441787,
    "start_time": "2023-06-28T10:25:40.144Z"
   },
   {
    "duration": 457135,
    "start_time": "2023-06-28T10:33:26.428Z"
   },
   {
    "duration": 5,
    "start_time": "2023-06-28T10:44:57.870Z"
   },
   {
    "duration": 4,
    "start_time": "2023-06-28T10:45:33.311Z"
   },
   {
    "duration": 441054,
    "start_time": "2023-06-28T10:46:18.208Z"
   },
   {
    "duration": 3,
    "start_time": "2023-06-28T10:53:45.948Z"
   },
   {
    "duration": 7,
    "start_time": "2023-06-28T10:54:06.237Z"
   },
   {
    "duration": 8,
    "start_time": "2023-06-28T10:54:17.918Z"
   },
   {
    "duration": 284181,
    "start_time": "2023-06-28T10:57:05.249Z"
   },
   {
    "duration": 3,
    "start_time": "2023-06-28T11:08:26.033Z"
   },
   {
    "duration": 3,
    "start_time": "2023-06-28T11:08:27.527Z"
   },
   {
    "duration": 14213,
    "start_time": "2023-06-28T11:08:32.594Z"
   },
   {
    "duration": 3,
    "start_time": "2023-06-28T11:09:33.059Z"
   },
   {
    "duration": 3,
    "start_time": "2023-06-28T11:09:34.244Z"
   },
   {
    "duration": 527,
    "start_time": "2023-06-28T11:09:39.428Z"
   },
   {
    "duration": 3,
    "start_time": "2023-06-28T11:09:43.591Z"
   },
   {
    "duration": 3,
    "start_time": "2023-06-28T11:09:45.283Z"
   },
   {
    "duration": 662367,
    "start_time": "2023-06-28T11:09:47.715Z"
   },
   {
    "duration": 3,
    "start_time": "2023-06-28T11:22:05.047Z"
   },
   {
    "duration": 3,
    "start_time": "2023-06-28T11:22:05.655Z"
   },
   {
    "duration": 4,
    "start_time": "2023-06-28T11:22:07.387Z"
   },
   {
    "duration": 7,
    "start_time": "2023-06-28T11:22:10.285Z"
   },
   {
    "duration": 92,
    "start_time": "2023-06-28T11:23:44.648Z"
   },
   {
    "duration": 4,
    "start_time": "2023-06-28T11:24:02.605Z"
   },
   {
    "duration": 103,
    "start_time": "2023-06-28T11:24:47.532Z"
   },
   {
    "duration": 116,
    "start_time": "2023-06-28T11:25:10.347Z"
   },
   {
    "duration": 84,
    "start_time": "2023-06-28T11:25:50.829Z"
   },
   {
    "duration": 4,
    "start_time": "2023-06-28T11:32:13.912Z"
   },
   {
    "duration": 377,
    "start_time": "2023-06-28T11:32:24.814Z"
   },
   {
    "duration": 210,
    "start_time": "2023-06-28T11:32:30.439Z"
   },
   {
    "duration": 528,
    "start_time": "2023-06-28T11:32:37.808Z"
   },
   {
    "duration": 189,
    "start_time": "2023-06-28T11:32:47.820Z"
   },
   {
    "duration": 220,
    "start_time": "2023-06-28T11:32:53.128Z"
   },
   {
    "duration": 219,
    "start_time": "2023-06-28T11:32:55.335Z"
   },
   {
    "duration": 355,
    "start_time": "2023-06-28T11:34:18.457Z"
   },
   {
    "duration": 169,
    "start_time": "2023-06-28T11:35:21.404Z"
   },
   {
    "duration": 129,
    "start_time": "2023-06-28T11:37:24.241Z"
   },
   {
    "duration": 3,
    "start_time": "2023-06-28T11:43:01.944Z"
   },
   {
    "duration": 4,
    "start_time": "2023-06-28T11:43:02.618Z"
   },
   {
    "duration": 13,
    "start_time": "2023-06-28T12:11:13.109Z"
   },
   {
    "duration": 3410,
    "start_time": "2023-06-28T12:12:44.974Z"
   },
   {
    "duration": 1660,
    "start_time": "2023-06-28T12:12:48.386Z"
   },
   {
    "duration": 39,
    "start_time": "2023-06-28T12:12:50.048Z"
   },
   {
    "duration": 13,
    "start_time": "2023-06-28T12:12:50.093Z"
   },
   {
    "duration": 33,
    "start_time": "2023-06-28T12:12:50.110Z"
   },
   {
    "duration": 312,
    "start_time": "2023-06-28T12:12:50.145Z"
   },
   {
    "duration": 236,
    "start_time": "2023-06-28T12:12:50.465Z"
   },
   {
    "duration": 9,
    "start_time": "2023-06-28T12:12:50.703Z"
   },
   {
    "duration": 48,
    "start_time": "2023-06-28T12:12:50.715Z"
   },
   {
    "duration": 17,
    "start_time": "2023-06-28T12:12:50.765Z"
   },
   {
    "duration": 997,
    "start_time": "2023-06-28T12:12:50.790Z"
   },
   {
    "duration": 9,
    "start_time": "2023-06-28T12:12:51.798Z"
   },
   {
    "duration": 409,
    "start_time": "2023-06-28T12:12:51.808Z"
   },
   {
    "duration": 2,
    "start_time": "2023-06-28T12:12:52.221Z"
   },
   {
    "duration": 23,
    "start_time": "2023-06-28T12:12:52.225Z"
   },
   {
    "duration": 214422,
    "start_time": "2023-06-28T12:12:52.250Z"
   },
   {
    "duration": 8,
    "start_time": "2023-06-28T12:16:26.674Z"
   },
   {
    "duration": 38,
    "start_time": "2023-06-28T12:16:26.684Z"
   },
   {
    "duration": 3,
    "start_time": "2023-06-28T12:16:26.725Z"
   },
   {
    "duration": 26,
    "start_time": "2023-06-28T12:16:26.731Z"
   },
   {
    "duration": 36,
    "start_time": "2023-06-28T12:16:26.764Z"
   },
   {
    "duration": 31,
    "start_time": "2023-06-28T12:16:26.802Z"
   },
   {
    "duration": 4257,
    "start_time": "2023-06-28T12:16:26.835Z"
   },
   {
    "duration": 4273,
    "start_time": "2023-06-28T12:16:31.094Z"
   },
   {
    "duration": 79,
    "start_time": "2023-06-28T12:16:35.374Z"
   },
   {
    "duration": 47,
    "start_time": "2023-06-28T12:16:35.455Z"
   },
   {
    "duration": 21,
    "start_time": "2023-06-28T12:16:35.504Z"
   },
   {
    "duration": 20,
    "start_time": "2023-06-28T12:16:35.527Z"
   },
   {
    "duration": 518020,
    "start_time": "2023-06-28T12:16:35.549Z"
   },
   {
    "duration": 3,
    "start_time": "2023-06-28T12:25:13.572Z"
   },
   {
    "duration": 99,
    "start_time": "2023-06-28T12:25:13.577Z"
   },
   {
    "duration": 423837,
    "start_time": "2023-06-28T12:25:13.678Z"
   },
   {
    "duration": 2,
    "start_time": "2023-06-28T12:32:17.517Z"
   },
   {
    "duration": 20,
    "start_time": "2023-06-28T12:32:17.521Z"
   },
   {
    "duration": 18503,
    "start_time": "2023-06-28T12:32:17.544Z"
   },
   {
    "duration": 6,
    "start_time": "2023-06-28T12:32:36.057Z"
   },
   {
    "duration": 30,
    "start_time": "2023-06-28T12:32:36.067Z"
   },
   {
    "duration": 571,
    "start_time": "2023-06-28T12:32:36.099Z"
   },
   {
    "duration": 2,
    "start_time": "2023-06-28T12:32:36.673Z"
   },
   {
    "duration": 27,
    "start_time": "2023-06-28T12:32:36.677Z"
   },
   {
    "duration": 1308350,
    "start_time": "2023-06-28T12:32:36.708Z"
   },
   {
    "duration": 3,
    "start_time": "2023-06-28T12:54:25.059Z"
   },
   {
    "duration": 5,
    "start_time": "2023-06-28T12:54:25.065Z"
   },
   {
    "duration": 58,
    "start_time": "2023-06-28T12:54:25.072Z"
   },
   {
    "duration": 49,
    "start_time": "2023-06-28T12:54:25.132Z"
   },
   {
    "duration": 158,
    "start_time": "2023-06-28T12:54:25.183Z"
   },
   {
    "duration": 0,
    "start_time": "2023-06-28T12:54:25.343Z"
   },
   {
    "duration": 0,
    "start_time": "2023-06-28T12:54:25.344Z"
   },
   {
    "duration": 0,
    "start_time": "2023-06-28T12:54:25.345Z"
   },
   {
    "duration": 7,
    "start_time": "2023-06-28T12:59:45.570Z"
   },
   {
    "duration": 10,
    "start_time": "2023-06-28T12:59:53.767Z"
   },
   {
    "duration": 13,
    "start_time": "2023-06-28T13:01:54.165Z"
   }
  ],
  "kernelspec": {
   "display_name": "Python 3 (ipykernel)",
   "language": "python",
   "name": "python3"
  },
  "language_info": {
   "codemirror_mode": {
    "name": "ipython",
    "version": 3
   },
   "file_extension": ".py",
   "mimetype": "text/x-python",
   "name": "python",
   "nbconvert_exporter": "python",
   "pygments_lexer": "ipython3",
   "version": "3.9.5"
  },
  "toc": {
   "base_numbering": 1,
   "nav_menu": {},
   "number_sections": true,
   "sideBar": true,
   "skip_h1_title": true,
   "title_cell": "Содержание",
   "title_sidebar": "Contents",
   "toc_cell": true,
   "toc_position": {
    "height": "calc(100% - 180px)",
    "left": "10px",
    "top": "150px",
    "width": "302.391px"
   },
   "toc_section_display": true,
   "toc_window_display": false
  }
 },
 "nbformat": 4,
 "nbformat_minor": 2
}
