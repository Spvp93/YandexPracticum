{
 "cells": [
  {
   "cell_type": "markdown",
   "metadata": {},
   "source": [
    "<div style=\"border:solid Chocolate 2px; padding: 40px\">\n",
    " \n",
    "<b> Андрей, привет!👋</b>  \n",
    "\n",
    "Меня зовут Кирилл Васильев, я буду ревьюером твоего проекта. Я предлагаю общаться на «ты», но если привычнее на «вы», просто скажи об этом! \n",
    "\n",
    "Я буду оставлять комментарии в твоем проекте. Пожалуйста, не удаляй их, они могут быть полезны в случае повторной проверки.\n",
    "\n",
    "Ты можешь реагировать на комментарии как просто написав их в Markdown-ячейках, так и выделив их цветом. Например, <font color='blue'>синим</font>. Второй способ, на мой взгляд, удобнее.\n",
    "\n",
    "Свои комментарии я буду обозначать <font color='green'>зеленым</font>, <font color='gold'>желтым</font> и <font color='red'>красным</font> цветами, например:\n",
    "  \n",
    "<br/>\n",
    "\n",
    "<div class=\"alert alert-success\">\n",
    "<h2> Комментарий ревьюера <a class=\"tocSkip\"> </h2>\n",
    "\n",
    "<b>Все отлично!👍:</b> В случае, если решение на отдельном шаге является полностью правильным. Здесь же я могу давать советы и предложения.\n",
    "</div>\n",
    "\n",
    "<br/>\n",
    "\n",
    "<div class=\"alert alert-warning\">\n",
    "    <h2> Комментарий ревьюера <a class=\"tocSkip\"> </h2>\n",
    "    \n",
    "<b>Некоторые замечания и рекомендации💡:</b> В случае, когда решение на отдельном шаге станет еще лучше, если внести небольшие коррективы.\n",
    "</div>\n",
    "\n",
    "\n",
    "<br/>\n",
    "<div class=\"alert alert-block alert-danger\">\n",
    "<h2> Комментарий ревьюера <a class=\"tocSkip\"></h2>\n",
    "\n",
    "    \n",
    "<b>На доработку🤔:</b>\n",
    " В случае, когда решение на отдельном шаге требует существенной переработки и внесения правок. Напоминаю, что проект не может быть принят с первого раза, если ревью содержит комментарии, рекомендующие доработать шаги.\n",
    "</div>\n",
    "\n",
    "<br/>\n",
    "<div class=\"alert alert-info\">\n",
    "Рекомендую для твоих комментариев использовать синий или любой другой цветной фон. Я постараюсь ничего не пропустить, но если комментарии будут выделены, то это мне очень поможет!\n",
    "</div>\n",
    "    \n",
    "Увидев у тебя неточность, в первый раз я лишь укажу на ее наличие и дам тебе возможность самостоятельно найти и исправить ее. На реальной работе твой руководитель будет поступать также. Но если ты пока не справишься с такой задачей - при следующей проверке я дам более точную подсказку."
   ]
  },
  {
   "cell_type": "markdown",
   "metadata": {
    "toc": true
   },
   "source": [
    "<h1>Содержание<span class=\"tocSkip\"></span></h1>\n",
    "<div class=\"toc\"><ul class=\"toc-item\"><li><span><a href=\"#Подготовка-данных\" data-toc-modified-id=\"Подготовка-данных-1\"><span class=\"toc-item-num\">1&nbsp;&nbsp;</span>Подготовка данных</a></span><ul class=\"toc-item\"><li><span><a href=\"#Подготовим-данные\" data-toc-modified-id=\"Подготовим-данные-1.1\"><span class=\"toc-item-num\">1.1&nbsp;&nbsp;</span>Подготовим данные</a></span></li></ul></li><li><span><a href=\"#Исследование-задачи\" data-toc-modified-id=\"Исследование-задачи-2\"><span class=\"toc-item-num\">2&nbsp;&nbsp;</span>Исследование задачи</a></span><ul class=\"toc-item\"><li><span><a href=\"#Логистическая-регрессия\" data-toc-modified-id=\"Логистическая-регрессия-2.1\"><span class=\"toc-item-num\">2.1&nbsp;&nbsp;</span>Логистическая регрессия</a></span></li><li><span><a href=\"#Дерево-решений\" data-toc-modified-id=\"Дерево-решений-2.2\"><span class=\"toc-item-num\">2.2&nbsp;&nbsp;</span>Дерево решений</a></span></li><li><span><a href=\"#Случайный-лес\" data-toc-modified-id=\"Случайный-лес-2.3\"><span class=\"toc-item-num\">2.3&nbsp;&nbsp;</span>Случайный лес</a></span></li></ul></li><li><span><a href=\"#Борьба-с-дисбалансом\" data-toc-modified-id=\"Борьба-с-дисбалансом-3\"><span class=\"toc-item-num\">3&nbsp;&nbsp;</span>Борьба с дисбалансом</a></span><ul class=\"toc-item\"><li><span><a href=\"#Логистическая-регрессия\" data-toc-modified-id=\"Логистическая-регрессия-3.1\"><span class=\"toc-item-num\">3.1&nbsp;&nbsp;</span>Логистическая регрессия</a></span></li><li><span><a href=\"#Дерево-решений\" data-toc-modified-id=\"Дерево-решений-3.2\"><span class=\"toc-item-num\">3.2&nbsp;&nbsp;</span>Дерево решений</a></span></li><li><span><a href=\"#Случайный-лес\" data-toc-modified-id=\"Случайный-лес-3.3\"><span class=\"toc-item-num\">3.3&nbsp;&nbsp;</span>Случайный лес</a></span></li><li><span><a href=\"#Лоистическая-регрессия\" data-toc-modified-id=\"Лоистическая-регрессия-3.4\"><span class=\"toc-item-num\">3.4&nbsp;&nbsp;</span>Лоистическая регрессия</a></span></li><li><span><a href=\"#Дерево-решений\" data-toc-modified-id=\"Дерево-решений-3.5\"><span class=\"toc-item-num\">3.5&nbsp;&nbsp;</span>Дерево решений</a></span></li><li><span><a href=\"#Случайный-лес\" data-toc-modified-id=\"Случайный-лес-3.6\"><span class=\"toc-item-num\">3.6&nbsp;&nbsp;</span>Случайный лес</a></span></li><li><span><a href=\"#Логистическая-регрессия\" data-toc-modified-id=\"Логистическая-регрессия-3.7\"><span class=\"toc-item-num\">3.7&nbsp;&nbsp;</span>Логистическая регрессия</a></span></li><li><span><a href=\"#Дерево-решений\" data-toc-modified-id=\"Дерево-решений-3.8\"><span class=\"toc-item-num\">3.8&nbsp;&nbsp;</span>Дерево решений</a></span></li><li><span><a href=\"#Случайный-лес\" data-toc-modified-id=\"Случайный-лес-3.9\"><span class=\"toc-item-num\">3.9&nbsp;&nbsp;</span>Случайный лес</a></span></li></ul></li><li><span><a href=\"#Тестирование-модели\" data-toc-modified-id=\"Тестирование-модели-4\"><span class=\"toc-item-num\">4&nbsp;&nbsp;</span>Тестирование модели</a></span></li><li><span><a href=\"#Вывод\" data-toc-modified-id=\"Вывод-5\"><span class=\"toc-item-num\">5&nbsp;&nbsp;</span>Вывод</a></span></li><li><span><a href=\"#Чек-лист-готовности-проекта\" data-toc-modified-id=\"Чек-лист-готовности-проекта-6\"><span class=\"toc-item-num\">6&nbsp;&nbsp;</span>Чек-лист готовности проекта</a></span></li></ul></div>"
   ]
  },
  {
   "cell_type": "markdown",
   "metadata": {},
   "source": [
    "# Отток клиентов"
   ]
  },
  {
   "cell_type": "markdown",
   "metadata": {},
   "source": [
    "Из «Бета-Банка» стали уходить клиенты. Каждый месяц. Немного, но заметно. Банковские маркетологи посчитали: сохранять текущих клиентов дешевле, чем привлекать новых.\n",
    "\n",
    "Нужно спрогнозировать, уйдёт клиент из банка в ближайшее время или нет. Вам предоставлены исторические данные о поведении клиентов и расторжении договоров с банком. \n",
    "\n",
    "Постройте модель с предельно большим значением *F1*-меры. Чтобы сдать проект успешно, нужно довести метрику до 0.59. Проверьте *F1*-меру на тестовой выборке самостоятельно.\n",
    "\n",
    "Дополнительно измеряйте *AUC-ROC*, сравнивайте её значение с *F1*-мерой.\n",
    "\n",
    "Источник данных: [https://www.kaggle.com/barelydedicated/bank-customer-churn-modeling](https://www.kaggle.com/barelydedicated/bank-customer-churn-modeling)"
   ]
  },
  {
   "cell_type": "markdown",
   "metadata": {},
   "source": [
    "## Подготовка данных"
   ]
  },
  {
   "cell_type": "code",
   "execution_count": 1,
   "metadata": {},
   "outputs": [],
   "source": [
    "import os\n",
    "import pandas as pd \n",
    "import numpy as np\n",
    "import seaborn as sb\n",
    "import matplotlib.pyplot as plt \n",
    "\n",
    "from urllib.request import urlretrieve\n",
    "from pathlib import Path\n",
    "\n",
    "from sklearn.model_selection import train_test_split\n",
    "from sklearn.preprocessing import OrdinalEncoder, StandardScaler\n",
    "from sklearn.utils import shuffle\n",
    "\n",
    "from sklearn.tree import DecisionTreeClassifier\n",
    "from sklearn.ensemble import RandomForestClassifier\n",
    "from sklearn.linear_model import LogisticRegression\n",
    "\n",
    "from sklearn.metrics import f1_score, roc_auc_score \n",
    "import warnings\n",
    "warnings.filterwarnings(\"ignore\")\n"
   ]
  },
  {
   "cell_type": "code",
   "execution_count": 2,
   "metadata": {},
   "outputs": [],
   "source": [
    "df = pd.read_csv('/datasets/Churn.csv')"
   ]
  },
  {
   "cell_type": "code",
   "execution_count": 3,
   "metadata": {
    "scrolled": false
   },
   "outputs": [
    {
     "name": "stdout",
     "output_type": "stream",
     "text": [
      "<class 'pandas.core.frame.DataFrame'>\n",
      "RangeIndex: 10000 entries, 0 to 9999\n",
      "Data columns (total 14 columns):\n",
      " #   Column           Non-Null Count  Dtype  \n",
      "---  ------           --------------  -----  \n",
      " 0   RowNumber        10000 non-null  int64  \n",
      " 1   CustomerId       10000 non-null  int64  \n",
      " 2   Surname          10000 non-null  object \n",
      " 3   CreditScore      10000 non-null  int64  \n",
      " 4   Geography        10000 non-null  object \n",
      " 5   Gender           10000 non-null  object \n",
      " 6   Age              10000 non-null  int64  \n",
      " 7   Tenure           9091 non-null   float64\n",
      " 8   Balance          10000 non-null  float64\n",
      " 9   NumOfProducts    10000 non-null  int64  \n",
      " 10  HasCrCard        10000 non-null  int64  \n",
      " 11  IsActiveMember   10000 non-null  int64  \n",
      " 12  EstimatedSalary  10000 non-null  float64\n",
      " 13  Exited           10000 non-null  int64  \n",
      "dtypes: float64(3), int64(8), object(3)\n",
      "memory usage: 1.1+ MB\n"
     ]
    }
   ],
   "source": [
    "df.info()"
   ]
  },
  {
   "cell_type": "markdown",
   "metadata": {},
   "source": [
    "\n",
    "<div class=\"alert alert-success\">\n",
    "<h2> Комментарий ревьюера <a class=\"tocSkip\"> </h2>\n",
    " \n",
    "👍 По импортам и загрузке все отлично.\n",
    "</div>  \n",
    "\n"
   ]
  },
  {
   "cell_type": "code",
   "execution_count": 4,
   "metadata": {},
   "outputs": [],
   "source": [
    "df.columns = map(str.lower, df.columns)"
   ]
  },
  {
   "cell_type": "markdown",
   "metadata": {},
   "source": [
    "<div class=\"alert alert-success\">\n",
    "<h2> Комментарий ревьюера <a class=\"tocSkip\"> </h2>\n",
    "\n",
    "👍 Колонки был в верблюжьем стиле. Мы убрали заглавные буквы, теперь, строго говоря, они без стиля. Можно было бы довести тогда до змеиного стиля с нижним подчеркиванием. Сейчас переделывать не нужно, потому что ниже придется менять названия переменных у столбцов.   \n",
    "    \n",
    "На будущее, для приведения к змеиному стилю, чтобы не делать вручную, можно использовать регулярные выражения. Например, так:\n",
    "\n",
    "`df.columns = [re.sub(r'(?<!^)(?=[A-Z])', '_', i).lower() for i in df.columns]`\n",
    "    \n",
    "Подробнее про регулярные выражения можно почитать здесь: https://habr.com/ru/post/349860/    \n",
    "</div>\n"
   ]
  },
  {
   "cell_type": "code",
   "execution_count": 5,
   "metadata": {
    "scrolled": true
   },
   "outputs": [
    {
     "data": {
      "text/html": [
       "<div>\n",
       "<style scoped>\n",
       "    .dataframe tbody tr th:only-of-type {\n",
       "        vertical-align: middle;\n",
       "    }\n",
       "\n",
       "    .dataframe tbody tr th {\n",
       "        vertical-align: top;\n",
       "    }\n",
       "\n",
       "    .dataframe thead th {\n",
       "        text-align: right;\n",
       "    }\n",
       "</style>\n",
       "<table border=\"1\" class=\"dataframe\">\n",
       "  <thead>\n",
       "    <tr style=\"text-align: right;\">\n",
       "      <th></th>\n",
       "      <th>rownumber</th>\n",
       "      <th>customerid</th>\n",
       "      <th>surname</th>\n",
       "      <th>creditscore</th>\n",
       "      <th>geography</th>\n",
       "      <th>gender</th>\n",
       "      <th>age</th>\n",
       "      <th>tenure</th>\n",
       "      <th>balance</th>\n",
       "      <th>numofproducts</th>\n",
       "      <th>hascrcard</th>\n",
       "      <th>isactivemember</th>\n",
       "      <th>estimatedsalary</th>\n",
       "      <th>exited</th>\n",
       "    </tr>\n",
       "  </thead>\n",
       "  <tbody>\n",
       "    <tr>\n",
       "      <th>0</th>\n",
       "      <td>1</td>\n",
       "      <td>15634602</td>\n",
       "      <td>Hargrave</td>\n",
       "      <td>619</td>\n",
       "      <td>France</td>\n",
       "      <td>Female</td>\n",
       "      <td>42</td>\n",
       "      <td>2.0</td>\n",
       "      <td>0.00</td>\n",
       "      <td>1</td>\n",
       "      <td>1</td>\n",
       "      <td>1</td>\n",
       "      <td>101348.88</td>\n",
       "      <td>1</td>\n",
       "    </tr>\n",
       "    <tr>\n",
       "      <th>1</th>\n",
       "      <td>2</td>\n",
       "      <td>15647311</td>\n",
       "      <td>Hill</td>\n",
       "      <td>608</td>\n",
       "      <td>Spain</td>\n",
       "      <td>Female</td>\n",
       "      <td>41</td>\n",
       "      <td>1.0</td>\n",
       "      <td>83807.86</td>\n",
       "      <td>1</td>\n",
       "      <td>0</td>\n",
       "      <td>1</td>\n",
       "      <td>112542.58</td>\n",
       "      <td>0</td>\n",
       "    </tr>\n",
       "    <tr>\n",
       "      <th>2</th>\n",
       "      <td>3</td>\n",
       "      <td>15619304</td>\n",
       "      <td>Onio</td>\n",
       "      <td>502</td>\n",
       "      <td>France</td>\n",
       "      <td>Female</td>\n",
       "      <td>42</td>\n",
       "      <td>8.0</td>\n",
       "      <td>159660.80</td>\n",
       "      <td>3</td>\n",
       "      <td>1</td>\n",
       "      <td>0</td>\n",
       "      <td>113931.57</td>\n",
       "      <td>1</td>\n",
       "    </tr>\n",
       "    <tr>\n",
       "      <th>3</th>\n",
       "      <td>4</td>\n",
       "      <td>15701354</td>\n",
       "      <td>Boni</td>\n",
       "      <td>699</td>\n",
       "      <td>France</td>\n",
       "      <td>Female</td>\n",
       "      <td>39</td>\n",
       "      <td>1.0</td>\n",
       "      <td>0.00</td>\n",
       "      <td>2</td>\n",
       "      <td>0</td>\n",
       "      <td>0</td>\n",
       "      <td>93826.63</td>\n",
       "      <td>0</td>\n",
       "    </tr>\n",
       "    <tr>\n",
       "      <th>4</th>\n",
       "      <td>5</td>\n",
       "      <td>15737888</td>\n",
       "      <td>Mitchell</td>\n",
       "      <td>850</td>\n",
       "      <td>Spain</td>\n",
       "      <td>Female</td>\n",
       "      <td>43</td>\n",
       "      <td>2.0</td>\n",
       "      <td>125510.82</td>\n",
       "      <td>1</td>\n",
       "      <td>1</td>\n",
       "      <td>1</td>\n",
       "      <td>79084.10</td>\n",
       "      <td>0</td>\n",
       "    </tr>\n",
       "  </tbody>\n",
       "</table>\n",
       "</div>"
      ],
      "text/plain": [
       "   rownumber  customerid   surname  creditscore geography  gender  age  \\\n",
       "0          1    15634602  Hargrave          619    France  Female   42   \n",
       "1          2    15647311      Hill          608     Spain  Female   41   \n",
       "2          3    15619304      Onio          502    France  Female   42   \n",
       "3          4    15701354      Boni          699    France  Female   39   \n",
       "4          5    15737888  Mitchell          850     Spain  Female   43   \n",
       "\n",
       "   tenure    balance  numofproducts  hascrcard  isactivemember  \\\n",
       "0     2.0       0.00              1          1               1   \n",
       "1     1.0   83807.86              1          0               1   \n",
       "2     8.0  159660.80              3          1               0   \n",
       "3     1.0       0.00              2          0               0   \n",
       "4     2.0  125510.82              1          1               1   \n",
       "\n",
       "   estimatedsalary  exited  \n",
       "0        101348.88       1  \n",
       "1        112542.58       0  \n",
       "2        113931.57       1  \n",
       "3         93826.63       0  \n",
       "4         79084.10       0  "
      ]
     },
     "execution_count": 5,
     "metadata": {},
     "output_type": "execute_result"
    }
   ],
   "source": [
    "df.head()"
   ]
  },
  {
   "cell_type": "code",
   "execution_count": 6,
   "metadata": {
    "scrolled": true
   },
   "outputs": [
    {
     "name": "stdout",
     "output_type": "stream",
     "text": [
      "<class 'pandas.core.frame.DataFrame'>\n",
      "Int64Index: 9091 entries, 0 to 9998\n",
      "Data columns (total 14 columns):\n",
      " #   Column           Non-Null Count  Dtype  \n",
      "---  ------           --------------  -----  \n",
      " 0   rownumber        9091 non-null   int64  \n",
      " 1   customerid       9091 non-null   int64  \n",
      " 2   surname          9091 non-null   object \n",
      " 3   creditscore      9091 non-null   int64  \n",
      " 4   geography        9091 non-null   object \n",
      " 5   gender           9091 non-null   object \n",
      " 6   age              9091 non-null   int64  \n",
      " 7   tenure           9091 non-null   float64\n",
      " 8   balance          9091 non-null   float64\n",
      " 9   numofproducts    9091 non-null   int64  \n",
      " 10  hascrcard        9091 non-null   int64  \n",
      " 11  isactivemember   9091 non-null   int64  \n",
      " 12  estimatedsalary  9091 non-null   float64\n",
      " 13  exited           9091 non-null   int64  \n",
      "dtypes: float64(3), int64(8), object(3)\n",
      "memory usage: 1.0+ MB\n"
     ]
    }
   ],
   "source": [
    "df=df.dropna()\n",
    "df.info()"
   ]
  },
  {
   "cell_type": "markdown",
   "metadata": {},
   "source": [
    "<div class=\"alert alert-success\">\n",
    "<h2> Комментарий ревьюера <a class=\"tocSkip\"> </h2>\n",
    "\n",
    "👍 Отлично, но было бы неплохо добавить аргументацию такой обработки пропусков.\n",
    "</div>"
   ]
  },
  {
   "cell_type": "code",
   "execution_count": 7,
   "metadata": {},
   "outputs": [
    {
     "data": {
      "text/plain": [
       "2787"
      ]
     },
     "execution_count": 7,
     "metadata": {},
     "output_type": "execute_result"
    }
   ],
   "source": [
    "len(df['surname'].unique())"
   ]
  },
  {
   "cell_type": "code",
   "execution_count": 8,
   "metadata": {
    "scrolled": true
   },
   "outputs": [
    {
     "data": {
      "text/plain": [
       "France     4550\n",
       "Germany    2293\n",
       "Spain      2248\n",
       "Name: geography, dtype: int64"
      ]
     },
     "execution_count": 8,
     "metadata": {},
     "output_type": "execute_result"
    }
   ],
   "source": [
    "df['geography'].value_counts()"
   ]
  },
  {
   "cell_type": "code",
   "execution_count": 9,
   "metadata": {
    "scrolled": true
   },
   "outputs": [
    {
     "data": {
      "text/plain": [
       "Male      4974\n",
       "Female    4117\n",
       "Name: gender, dtype: int64"
      ]
     },
     "execution_count": 9,
     "metadata": {},
     "output_type": "execute_result"
    }
   ],
   "source": [
    "df['gender'].value_counts()"
   ]
  },
  {
   "cell_type": "code",
   "execution_count": 10,
   "metadata": {
    "scrolled": true
   },
   "outputs": [
    {
     "data": {
      "text/plain": [
       "1.0     952\n",
       "2.0     950\n",
       "8.0     933\n",
       "3.0     928\n",
       "5.0     927\n",
       "7.0     925\n",
       "4.0     885\n",
       "9.0     882\n",
       "6.0     881\n",
       "10.0    446\n",
       "0.0     382\n",
       "Name: tenure, dtype: int64"
      ]
     },
     "execution_count": 10,
     "metadata": {},
     "output_type": "execute_result"
    }
   ],
   "source": [
    "df['tenure'].value_counts()"
   ]
  },
  {
   "cell_type": "code",
   "execution_count": 11,
   "metadata": {
    "scrolled": true
   },
   "outputs": [
    {
     "data": {
      "text/plain": [
       "1    4617\n",
       "2    4184\n",
       "3     234\n",
       "4      56\n",
       "Name: numofproducts, dtype: int64"
      ]
     },
     "execution_count": 11,
     "metadata": {},
     "output_type": "execute_result"
    }
   ],
   "source": [
    "df['numofproducts'].value_counts()"
   ]
  },
  {
   "cell_type": "code",
   "execution_count": 12,
   "metadata": {
    "scrolled": true
   },
   "outputs": [
    {
     "data": {
      "text/plain": [
       "0    7237\n",
       "1    1854\n",
       "Name: exited, dtype: int64"
      ]
     },
     "execution_count": 12,
     "metadata": {},
     "output_type": "execute_result"
    }
   ],
   "source": [
    "df['exited'].value_counts()"
   ]
  },
  {
   "cell_type": "code",
   "execution_count": 13,
   "metadata": {
    "scrolled": true
   },
   "outputs": [
    {
     "data": {
      "text/plain": [
       "3283"
      ]
     },
     "execution_count": 13,
     "metadata": {},
     "output_type": "execute_result"
    }
   ],
   "source": [
    "len(df.query('balance == 0'))"
   ]
  },
  {
   "cell_type": "code",
   "execution_count": 14,
   "metadata": {
    "scrolled": true
   },
   "outputs": [
    {
     "data": {
      "text/plain": [
       "1    6409\n",
       "0    2682\n",
       "Name: hascrcard, dtype: int64"
      ]
     },
     "execution_count": 14,
     "metadata": {},
     "output_type": "execute_result"
    }
   ],
   "source": [
    "df['hascrcard'].value_counts()"
   ]
  },
  {
   "cell_type": "code",
   "execution_count": 15,
   "metadata": {
    "scrolled": false
   },
   "outputs": [
    {
     "data": {
      "text/plain": [
       "1    4687\n",
       "0    4404\n",
       "Name: isactivemember, dtype: int64"
      ]
     },
     "execution_count": 15,
     "metadata": {},
     "output_type": "execute_result"
    }
   ],
   "source": [
    "df['isactivemember'].value_counts()"
   ]
  },
  {
   "cell_type": "code",
   "execution_count": 16,
   "metadata": {},
   "outputs": [],
   "source": [
    "exited = df['exited']"
   ]
  },
  {
   "cell_type": "code",
   "execution_count": 17,
   "metadata": {},
   "outputs": [],
   "source": [
    "def make_pie_plot(data, name):\n",
    "    counts = data.value_counts()\n",
    "    counts.plot.pie(legend=True, labeldistance=1.2, autopct='%1.2f%%', figsize=(12,6), title=name)\n",
    "    plt.show()"
   ]
  },
  {
   "cell_type": "code",
   "execution_count": 18,
   "metadata": {
    "scrolled": true
   },
   "outputs": [
    {
     "data": {
      "image/png": "[encoded data removed]",
      "text/plain": [
       "<Figure size 864x432 with 1 Axes>"
      ]
     },
     "metadata": {},
     "output_type": "display_data"
    }
   ],
   "source": [
    "make_pie_plot(df['exited'], 'Количество клиентов, прекратившие сотрудничество с банком')\n",
    "# 1 = Да, 0 = Нет"
   ]
  },
  {
   "cell_type": "code",
   "execution_count": 19,
   "metadata": {
    "scrolled": true
   },
   "outputs": [
    {
     "data": {
      "image/png": "[encoded data removed]",
      "text/plain": [
       "<Figure size 864x432 with 1 Axes>"
      ]
     },
     "metadata": {},
     "output_type": "display_data"
    }
   ],
   "source": [
    "make_pie_plot(df['hascrcard'], 'Клиенты у которых есть кредитная карта банка')"
   ]
  },
  {
   "cell_type": "code",
   "execution_count": 20,
   "metadata": {
    "scrolled": true
   },
   "outputs": [
    {
     "data": {
      "image/png": "[encoded data removed]",
      "text/plain": [
       "<Figure size 864x432 with 1 Axes>"
      ]
     },
     "metadata": {},
     "output_type": "display_data"
    }
   ],
   "source": [
    "make_pie_plot(df['isactivemember'], 'Активные клиенты банка')"
   ]
  },
  {
   "cell_type": "code",
   "execution_count": 21,
   "metadata": {
    "scrolled": true
   },
   "outputs": [
    {
     "data": {
      "image/png": "[encoded data removed]",
      "text/plain": [
       "<Figure size 864x432 with 1 Axes>"
      ]
     },
     "metadata": {},
     "output_type": "display_data"
    }
   ],
   "source": [
    "make_pie_plot(df['gender'], 'Пол клиентов банка')"
   ]
  },
  {
   "cell_type": "code",
   "execution_count": 22,
   "metadata": {
    "scrolled": true
   },
   "outputs": [
    {
     "data": {
      "image/png": "[encoded data removed]",
      "text/plain": [
       "<Figure size 864x432 with 1 Axes>"
      ]
     },
     "metadata": {},
     "output_type": "display_data"
    }
   ],
   "source": [
    "make_pie_plot(df['geography'], 'Национальность клиента банка')"
   ]
  },
  {
   "cell_type": "code",
   "execution_count": 23,
   "metadata": {
    "scrolled": true
   },
   "outputs": [
    {
     "data": {
      "image/png": "[encoded data removed]",
      "text/plain": [
       "<Figure size 432x288 with 1 Axes>"
      ]
     },
     "metadata": {
      "needs_background": "light"
     },
     "output_type": "display_data"
    }
   ],
   "source": [
    "df.pivot_table(index='age', values='rownumber', aggfunc='sum').sort_values('age', ascending=False).plot(legend=False, title='Возраст клиентов банка')\n",
    "plt.show()"
   ]
  },
  {
   "cell_type": "code",
   "execution_count": 24,
   "metadata": {
    "scrolled": true
   },
   "outputs": [
    {
     "data": {
      "image/png": "[encoded data removed]",
      "text/plain": [
       "<Figure size 864x720 with 5 Axes>"
      ]
     },
     "metadata": {
      "needs_background": "light"
     },
     "output_type": "display_data"
    }
   ],
   "source": [
    "plt.figure(figsize=(12,10))\n",
    "columns = ['hascrcard', 'gender', 'isactivemember', 'numofproducts', 'geography']\n",
    "for i in range(5):\n",
    "    plt.subplot(3, 2, i+1)\n",
    "    sb.countplot(x=columns[i], hue='exited', data=df)\n",
    "    plt.xticks(rotation=0)\n",
    "    plt.legend([\"Not Exited\", \"Exited\"])\n",
    "plt.show()"
   ]
  },
  {
   "cell_type": "markdown",
   "metadata": {},
   "source": [
    "* 10000 уникальных id\n",
    "\n",
    "* 2932 уникальных имен\n",
    "\n",
    "Страны и количество клиентов банка:\n",
    "* France 5014\n",
    "* Germany 2509\n",
    "* Spain 2477\n",
    "\n",
    "Количество мужчин и женщин:\n",
    "* Male 5457\n",
    "* Female 4543\n",
    "\n",
    "Клиенты с нулевым балансом: 3617\n",
    "\n",
    "Количество недвижимости у клиентов от 0 до 10\n",
    "всего 4 продукта банка и количество клиентов, использующих их:\n",
    "* 5084\n",
    "* 4590\n",
    "* 266\n",
    "* 60\n",
    "\n",
    "Следующие столбцы имеют булевые значения:\n",
    "* hascrcard\n",
    "* isactivemember\n",
    "* exited\n",
    "\n",
    "Самому молодому клиенту банка 18 лет, самому старому 92\n",
    "\n",
    "Клиенты, ушедшие из банка: 2037\n",
    "\n",
    "Клиенты у которых есть кредитные карты банка 2945\n",
    "\n",
    "Активные клиенты банка 4849"
   ]
  },
  {
   "cell_type": "markdown",
   "metadata": {},
   "source": [
    "<div class=\"alert alert-success\">\n",
    "<h2> Комментарий ревьюера <a class=\"tocSkip\"> </h2>\n",
    "\n",
    "👍 Неплохая аналитика. Есть интересные зацепки, кажется, но не будем пока их развивать.\n",
    "</div>"
   ]
  },
  {
   "cell_type": "markdown",
   "metadata": {},
   "source": [
    "### Подготовим данные"
   ]
  },
  {
   "cell_type": "markdown",
   "metadata": {},
   "source": [
    "Уберем ненужные столбцы. Обозначим target и features с помощью функции"
   ]
  },
  {
   "cell_type": "code",
   "execution_count": 25,
   "metadata": {},
   "outputs": [],
   "source": [
    "df = df.drop(['rownumber',\t'customerid',\t'surname'], axis=1)\n",
    "rnd_state = 12345"
   ]
  },
  {
   "cell_type": "markdown",
   "metadata": {},
   "source": [
    "<div class=\"alert alert-success\">\n",
    "<h2> Комментарий ревьюера <a class=\"tocSkip\"> </h2>\n",
    "\n",
    "👍 Согласен. (в коде остались отступы после копирования, в среде Практикума такой код работает, но вообще иногда может выскакивать и ошибка).\n",
    "</div> \n"
   ]
  },
  {
   "cell_type": "code",
   "execution_count": 26,
   "metadata": {},
   "outputs": [],
   "source": [
    "def make_target_features(data, target_col='exited'):    \n",
    "    target = data[target_col]\n",
    "    features = data.drop(target_col, axis=1)\n",
    "    return target, features"
   ]
  },
  {
   "cell_type": "markdown",
   "metadata": {},
   "source": [
    "Поделим исходный набор данных на три части: обучающую, валидационную и тестовую. Размеры тестового и валидационного наборов сделаем 60% \\ 20% \\ 20%"
   ]
  },
  {
   "cell_type": "code",
   "execution_count": 27,
   "metadata": {},
   "outputs": [],
   "source": [
    "def split_data(features, target):\n",
    "    features_train, features_valid, target_train, target_valid = train_test_split(features, target, test_size=0.4, random_state=rnd_state)\n",
    "\n",
    "    features_valid, features_test, target_valid, target_test = train_test_split(features_valid, target_valid, test_size=0.5, random_state=rnd_state)\n",
    "    # Масштабируем количественные признаки\n",
    "    scaler = StandardScaler()\n",
    "    numeric = ['creditscore', 'age', 'tenure', 'balance', 'numofproducts', 'estimatedsalary']\n",
    "    scaler.fit(features_train[numeric])\n",
    "    \n",
    "    features_train[numeric] = scaler.transform(features_train[numeric])\n",
    "    features_valid[numeric] = scaler.transform(features_valid[numeric])\n",
    "    features_test[numeric] = scaler.transform(features_test[numeric])\n",
    "    \n",
    "    return features_train, features_valid, features_test, target_train, target_valid, target_test"
   ]
  },
  {
   "cell_type": "markdown",
   "metadata": {},
   "source": [
    "<div class=\"alert alert-success\">\n",
    "<h2> Комментарий ревьюера <a class=\"tocSkip\"> </h2>\n",
    " \n",
    "👍 Здесь все выглядит корректно. \n",
    "</div>  "
   ]
  },
  {
   "cell_type": "markdown",
   "metadata": {},
   "source": [
    "Функция возвращает обученную модель"
   ]
  },
  {
   "cell_type": "code",
   "execution_count": 28,
   "metadata": {},
   "outputs": [],
   "source": [
    "def train_and_predict(data, model, log_prefix='', samplefunc=None, test=False):\n",
    "    target, features = make_target_features(data)\n",
    "    features_train, features_valid, features_test, target_train, target_valid, target_test = split_data(features, target)\n",
    "\n",
    "    if samplefunc:\n",
    "        features_train, target_train = samplefunc(features_train, target_train)\n",
    "    \n",
    "    model.fit(features_train, target_train)\n",
    "    predicted_valid = model.predict(features_valid)\n",
    "    print(f'{log_prefix}F1 of valid: {f1_score(target_valid, predicted_valid)}')\n",
    "    \n",
    "    if test:\n",
    "        predictions_test = model.predict(features_test)\n",
    "        print(f'{log_prefix}F1 of test: {f1_score(target_test, predicted_test)}')\n",
    "    \n",
    "    return model"
   ]
  },
  {
   "cell_type": "markdown",
   "metadata": {},
   "source": [
    "Преобразуем категориальные признаки в численные"
   ]
  },
  {
   "cell_type": "code",
   "execution_count": 29,
   "metadata": {},
   "outputs": [],
   "source": [
    "data_ohe = pd.get_dummies(df, drop_first=True)"
   ]
  },
  {
   "cell_type": "markdown",
   "metadata": {},
   "source": [
    "<div class=\"alert alert-success\">\n",
    "<h2> Комментарий ревьюера <a class=\"tocSkip\"> </h2>\n",
    "\n",
    "👍 Согласен. В дамми-ловушку не попались.\n",
    "</div>\n",
    "\n"
   ]
  },
  {
   "cell_type": "markdown",
   "metadata": {},
   "source": [
    "<div class=\"alert alert-warning\">\n",
    "<h2> Комментарий ревьюера <a class=\"tocSkip\"> </h2>\n",
    "    \n",
    "<b>Некоторые замечания и рекомендации💡:</b> \n",
    "\n",
    "В тренажере давался пример использования прямого кодирования с помощью get_dummies, однако это далеко не самый оптимальный вариант. Он подходит для анализа данных, но в машинном обучении может служить причиной ошибок при обучении моделей.\n",
    "    \n",
    "Можно использовать класс <a href=\"https://scikit-learn.org/stable/modules/generated/sklearn.preprocessing.OneHotEncoder.html\">OHE из sklearn</a>. Он точно понадобится в будущих проектах, можно потренироваться сейчас. \n",
    "\n",
    "Практикум подготовил инструкцию, как использовать OHE: https://colab.research.google.com/drive/1_gAMXcQKoCShB_l8FNtYEejMnosm9mvt?usp=sharing \n",
    "\n",
    "А теперь замечания «под звездочкой»:\n",
    "\n",
    "Есть загвоздка, что нам нужно будет одновременно использовать параметры drop='first' и handle_unknown='ignore’.  в OHE, а на платформе такое сочетание может выдавать ошибку (в части случаев). Если ошибка появляется, необходимо загрузить нужную версию сайкит-лерна. Для этого:\n",
    "\n",
    "1. В отдельной строке в самом начале проекта запускаем такую команду:\n",
    " `!pip install scikit-learn==1.1.3`\n",
    "     \n",
    "2. Находим в меню юпитера кнопку `Kernel`, нажимаем и выбираем Restart&Run all \n",
    "\n",
    "\n",
    "И сразу уточню, что OHE мы используем уже после разделения выборок на обучающую, валидационную и тестовую. Обучаем на трейне, применяем ко всем. Кодируем после разбиения по аналогии с масштабированием. Посмотреть поподробнее также можно здесь <a href=\"https://stackoverflow.com/questions/55525195/do-i-have-to-do-one-hot-encoding-separately-for-train-and-test-dataset\">можно здесь</a> .\n",
    "      \n",
    "</div> "
   ]
  },
  {
   "cell_type": "markdown",
   "metadata": {},
   "source": [
    "## Исследование задачи"
   ]
  },
  {
   "cell_type": "markdown",
   "metadata": {},
   "source": [
    "Проверим, как часто в целевом признаке нашего исходного датасета встречается класс «1» или «0»:"
   ]
  },
  {
   "cell_type": "code",
   "execution_count": 30,
   "metadata": {
    "scrolled": true
   },
   "outputs": [
    {
     "data": {
      "text/plain": [
       "0    0.796062\n",
       "1    0.203938\n",
       "Name: exited, dtype: float64"
      ]
     },
     "execution_count": 30,
     "metadata": {},
     "output_type": "execute_result"
    }
   ],
   "source": [
    "frequency_of_0_1 = df['exited'].value_counts(normalize=True)\n",
    "frequency_of_0_1"
   ]
  },
  {
   "cell_type": "markdown",
   "metadata": {},
   "source": [
    "Соотношение очень несбалансировано: 0 ~ 80% и 1 ~ 20%. На данном этапе мы будем исследовать модели без учета дисбаланса классов, заведомо ожидая плохие результаты.\n",
    "\n",
    "Часть данных - категориальные. Для обучения модели логистической регрессии нам потребуется преобразовать категориальные признаки прямым кодированием, а для обучения модели решающего дерева или случайного леса выполнить порядковое кодирование. Применим технику порядкового кодирования для категориальных признаков."
   ]
  },
  {
   "cell_type": "markdown",
   "metadata": {},
   "source": [
    "<div class=\"alert alert-success\">\n",
    "<h2> Комментарий ревьюера <a class=\"tocSkip\"> </h2>\n",
    "\n",
    "👍 Дисбаланс исследовали. Да, он достаточно сильный, чтобы негативно повлиять на качество моделей.\n",
    "</div>\n"
   ]
  },
  {
   "cell_type": "markdown",
   "metadata": {},
   "source": [
    "<div class=\"alert alert-warning\">\n",
    "<h2> Комментарий ревьюера <a class=\"tocSkip\"> </h2>\n",
    "    \n",
    "<b>Некоторые замечания и рекомендации💡:</b> \n",
    "\n",
    "Если категорий мало, как у нас, то одинаково отлично будут работать и прямое и порядковое кодирование для деревьев. Если же категорий десятки, то здесь ты совершенно прав, нужно будет разделять для моделей (хотя обычно и там разница не бывает критичной, но все зависит от количества категорий).\n",
    "    \n",
    "ИТОГО: в этом проекте можно обойтись везде прямым кодированием. Но ошибки, конечно, от разделения не будет.\n",
    "    \n",
    "       \n",
    "</div>\n"
   ]
  },
  {
   "cell_type": "code",
   "execution_count": 31,
   "metadata": {},
   "outputs": [],
   "source": [
    "encoder = OrdinalEncoder()\n",
    "data_ordinal = pd.DataFrame(encoder.fit_transform(df), columns=df.columns)"
   ]
  },
  {
   "cell_type": "markdown",
   "metadata": {},
   "source": [
    "### Логистическая регрессия"
   ]
  },
  {
   "cell_type": "code",
   "execution_count": 32,
   "metadata": {
    "scrolled": true
   },
   "outputs": [
    {
     "name": "stdout",
     "output_type": "stream",
     "text": [
      "F1 of valid: 0.30400000000000005\n"
     ]
    },
    {
     "data": {
      "text/plain": [
       "LogisticRegression(random_state=12345, solver='liblinear')"
      ]
     },
     "execution_count": 32,
     "metadata": {},
     "output_type": "execute_result"
    }
   ],
   "source": [
    "model = LogisticRegression(solver='liblinear', random_state=rnd_state)\n",
    "train_and_predict(data_ohe, model)"
   ]
  },
  {
   "cell_type": "markdown",
   "metadata": {},
   "source": [
    "Плохие показатели F1 при дисбалансе данных"
   ]
  },
  {
   "cell_type": "markdown",
   "metadata": {},
   "source": [
    "### Дерево решений"
   ]
  },
  {
   "cell_type": "code",
   "execution_count": 33,
   "metadata": {
    "scrolled": true
   },
   "outputs": [
    {
     "name": "stdout",
     "output_type": "stream",
     "text": [
      "max_depth 2:\tF1 of valid: 0.5304878048780488\n",
      "max_depth 4:\tF1 of valid: 0.5414551607445008\n",
      "max_depth 6:\tF1 of valid: 0.5106382978723404\n",
      "max_depth 8:\tF1 of valid: 0.5085910652920962\n",
      "max_depth 10:\tF1 of valid: 0.5421133231240429\n",
      "max_depth 12:\tF1 of valid: 0.5\n",
      "max_depth 14:\tF1 of valid: 0.4798927613941019\n",
      "max_depth 16:\tF1 of valid: 0.4746666666666667\n",
      "max_depth 18:\tF1 of valid: 0.4562334217506631\n",
      "max_depth 20:\tF1 of valid: 0.45144356955380577\n"
     ]
    }
   ],
   "source": [
    "for max_depth in range(2, 22, 2):\n",
    "    model = DecisionTreeClassifier(max_depth=max_depth, random_state=rnd_state)\n",
    "    train_and_predict(data_ordinal, model, log_prefix=f'max_depth {max_depth}:\\t')"
   ]
  },
  {
   "cell_type": "markdown",
   "metadata": {},
   "source": [
    "Лучший показатель при глубине 4: max_depth 4: F1 of valid: 0.5414551607445008"
   ]
  },
  {
   "cell_type": "markdown",
   "metadata": {},
   "source": [
    "### Случайный лес"
   ]
  },
  {
   "cell_type": "code",
   "execution_count": 34,
   "metadata": {
    "scrolled": false
   },
   "outputs": [
    {
     "name": "stdout",
     "output_type": "stream",
     "text": [
      "n_estimators = 10:\tF1 of valid: 0.4573643410852713\n",
      "n_estimators = 20:\tF1 of valid: 0.43373493975903615\n",
      "n_estimators = 30:\tF1 of valid: 0.45364891518737677\n",
      "n_estimators = 40:\tF1 of valid: 0.5083487940630798\n",
      "n_estimators = 50:\tF1 of valid: 0.5037878787878788\n",
      "n_estimators = 60:\tF1 of valid: 0.49142857142857144\n",
      "n_estimators = 70:\tF1 of valid: 0.48262548262548266\n",
      "n_estimators = 80:\tF1 of valid: 0.4875239923224568\n",
      "n_estimators = 90:\tF1 of valid: 0.4678362573099415\n",
      "n_estimators = 100:\tF1 of valid: 0.48046875000000006\n",
      "n_estimators = 110:\tF1 of valid: 0.48262548262548266\n",
      "n_estimators = 120:\tF1 of valid: 0.4796905222437138\n",
      "n_estimators = 130:\tF1 of valid: 0.4737864077669904\n",
      "n_estimators = 140:\tF1 of valid: 0.4737864077669904\n",
      "n_estimators = 150:\tF1 of valid: 0.48262548262548266\n",
      "n_estimators = 160:\tF1 of valid: 0.47984644913627633\n",
      "n_estimators = 170:\tF1 of valid: 0.4749034749034749\n",
      "n_estimators = 180:\tF1 of valid: 0.47784200385356457\n",
      "n_estimators = 190:\tF1 of valid: 0.47582205029013547\n",
      "n_estimators = 200:\tF1 of valid: 0.47563352826510724\n"
     ]
    }
   ],
   "source": [
    "for estim in range(10, 201, 10):\n",
    "    model = RandomForestClassifier(n_estimators=estim, max_depth=4, random_state=rnd_state)\n",
    "    train_and_predict(data_ordinal, model, log_prefix=f'n_estimators = {estim}:\\t')"
   ]
  },
  {
   "cell_type": "markdown",
   "metadata": {},
   "source": [
    "<div class=\"alert alert-block alert-danger\">\n",
    "<h2><s> Комментарий ревьюера <a class=\"tocSkip\"></h2>\n",
    "  \n",
    "<b>На доработку🤔:</b>\n",
    " \n",
    "В лесе необходимо подобрать минимум глубину и количество оценщиков (эстиматоров, деревьев). Можно сделать в двойном цикле:\n",
    "    \n",
    "`for est in range(10, 151, 10):\n",
    "    for depth in range(1, 16):\n",
    "        model = RandomForestClassifier(random_state=12345, n_estimators=est, max_depth=depth)`\n",
    "   \n",
    "\n",
    "</div>\n",
    "\n"
   ]
  },
  {
   "cell_type": "markdown",
   "metadata": {},
   "source": [
    "Лучший результат при количестве деревьев 40: n_estimators = 40: F1 of valid: 0.5083487940630798"
   ]
  },
  {
   "cell_type": "code",
   "execution_count": 35,
   "metadata": {},
   "outputs": [
    {
     "name": "stdout",
     "output_type": "stream",
     "text": [
      "n_estimators=10, max_depth=1, F1=0.0\n",
      "n_estimators=10, max_depth=2, F1=0.15571776155717762\n",
      "n_estimators=10, max_depth=3, F1=0.2361111111111111\n",
      "n_estimators=10, max_depth=4, F1=0.4573643410852713\n",
      "n_estimators=10, max_depth=5, F1=0.44047619047619047\n",
      "n_estimators=10, max_depth=6, F1=0.5247706422018349\n",
      "n_estimators=10, max_depth=7, F1=0.5359712230215826\n",
      "n_estimators=10, max_depth=8, F1=0.558303886925795\n",
      "n_estimators=10, max_depth=9, F1=0.547945205479452\n",
      "n_estimators=10, max_depth=10, F1=0.5690235690235691\n",
      "n_estimators=10, max_depth=11, F1=0.5517241379310345\n",
      "n_estimators=10, max_depth=12, F1=0.552542372881356\n",
      "n_estimators=10, max_depth=13, F1=0.5337726523887973\n",
      "n_estimators=10, max_depth=14, F1=0.5527156549520766\n",
      "n_estimators=10, max_depth=15, F1=0.5544871794871794\n",
      "n_estimators=20, max_depth=1, F1=0.0\n",
      "n_estimators=20, max_depth=2, F1=0.20476190476190476\n",
      "n_estimators=20, max_depth=3, F1=0.26146788990825687\n",
      "n_estimators=20, max_depth=4, F1=0.43373493975903615\n",
      "n_estimators=20, max_depth=5, F1=0.4639376218323587\n",
      "n_estimators=20, max_depth=6, F1=0.532608695652174\n",
      "n_estimators=20, max_depth=7, F1=0.5253623188405797\n",
      "n_estimators=20, max_depth=8, F1=0.558303886925795\n",
      "n_estimators=20, max_depth=9, F1=0.5634782608695652\n",
      "n_estimators=20, max_depth=10, F1=0.5724020442930153\n",
      "n_estimators=20, max_depth=11, F1=0.5704347826086957\n",
      "n_estimators=20, max_depth=12, F1=0.5627118644067797\n",
      "n_estimators=20, max_depth=13, F1=0.5604026845637583\n",
      "n_estimators=20, max_depth=14, F1=0.5514950166112956\n",
      "n_estimators=20, max_depth=15, F1=0.5844155844155844\n",
      "n_estimators=30, max_depth=1, F1=0.0\n",
      "n_estimators=30, max_depth=2, F1=0.21327014218009477\n",
      "n_estimators=30, max_depth=3, F1=0.25806451612903225\n",
      "n_estimators=30, max_depth=4, F1=0.45364891518737677\n",
      "n_estimators=30, max_depth=5, F1=0.4799999999999999\n",
      "n_estimators=30, max_depth=6, F1=0.55\n",
      "n_estimators=30, max_depth=7, F1=0.5369369369369369\n",
      "n_estimators=30, max_depth=8, F1=0.5541740674955595\n",
      "n_estimators=30, max_depth=9, F1=0.5454545454545454\n",
      "n_estimators=30, max_depth=10, F1=0.5830508474576271\n",
      "n_estimators=30, max_depth=11, F1=0.5699481865284974\n",
      "n_estimators=30, max_depth=12, F1=0.5621805792163543\n",
      "n_estimators=30, max_depth=13, F1=0.5656565656565656\n",
      "n_estimators=30, max_depth=14, F1=0.5575959933222037\n",
      "n_estimators=30, max_depth=15, F1=0.5766062602965404\n",
      "n_estimators=40, max_depth=1, F1=0.0\n",
      "n_estimators=40, max_depth=2, F1=0.20902612826603328\n",
      "n_estimators=40, max_depth=3, F1=0.25866050808314084\n",
      "n_estimators=40, max_depth=4, F1=0.5083487940630798\n",
      "n_estimators=40, max_depth=5, F1=0.5055762081784386\n",
      "n_estimators=40, max_depth=6, F1=0.5480427046263346\n",
      "n_estimators=40, max_depth=7, F1=0.5366726296958855\n",
      "n_estimators=40, max_depth=8, F1=0.5448028673835125\n",
      "n_estimators=40, max_depth=9, F1=0.5580589254766032\n",
      "n_estimators=40, max_depth=10, F1=0.5733788395904437\n",
      "n_estimators=40, max_depth=11, F1=0.5655172413793104\n",
      "n_estimators=40, max_depth=12, F1=0.5616438356164384\n",
      "n_estimators=40, max_depth=13, F1=0.5647840531561461\n",
      "n_estimators=40, max_depth=14, F1=0.5619834710743801\n",
      "n_estimators=40, max_depth=15, F1=0.578512396694215\n",
      "n_estimators=50, max_depth=1, F1=0.0\n",
      "n_estimators=50, max_depth=2, F1=0.16097560975609757\n",
      "n_estimators=50, max_depth=3, F1=0.2383177570093458\n",
      "n_estimators=50, max_depth=4, F1=0.5037878787878788\n",
      "n_estimators=50, max_depth=5, F1=0.5111940298507462\n",
      "n_estimators=50, max_depth=6, F1=0.5438282647584973\n",
      "n_estimators=50, max_depth=7, F1=0.5352622061482821\n",
      "n_estimators=50, max_depth=8, F1=0.5385996409335727\n",
      "n_estimators=50, max_depth=9, F1=0.5499124343257443\n",
      "n_estimators=50, max_depth=10, F1=0.5660377358490567\n",
      "n_estimators=50, max_depth=11, F1=0.5524475524475524\n",
      "n_estimators=50, max_depth=12, F1=0.5611015490533563\n",
      "n_estimators=50, max_depth=13, F1=0.5700000000000001\n",
      "n_estimators=50, max_depth=14, F1=0.5536912751677853\n",
      "n_estimators=50, max_depth=15, F1=0.5719008264462809\n",
      "n_estimators=60, max_depth=1, F1=0.0\n",
      "n_estimators=60, max_depth=2, F1=0.15647921760391198\n",
      "n_estimators=60, max_depth=3, F1=0.23419203747072603\n",
      "n_estimators=60, max_depth=4, F1=0.49142857142857144\n",
      "n_estimators=60, max_depth=5, F1=0.5102420856610801\n",
      "n_estimators=60, max_depth=6, F1=0.5496453900709221\n",
      "n_estimators=60, max_depth=7, F1=0.5431654676258993\n",
      "n_estimators=60, max_depth=8, F1=0.5428571428571429\n",
      "n_estimators=60, max_depth=9, F1=0.5559440559440559\n",
      "n_estimators=60, max_depth=10, F1=0.5655172413793104\n",
      "n_estimators=60, max_depth=11, F1=0.5530434782608695\n",
      "n_estimators=60, max_depth=12, F1=0.5636672325976232\n",
      "n_estimators=60, max_depth=13, F1=0.5613445378151262\n",
      "n_estimators=60, max_depth=14, F1=0.5605306799336649\n",
      "n_estimators=60, max_depth=15, F1=0.5613445378151262\n",
      "n_estimators=70, max_depth=1, F1=0.0\n",
      "n_estimators=70, max_depth=2, F1=0.16990291262135923\n",
      "n_estimators=70, max_depth=3, F1=0.22169811320754718\n",
      "n_estimators=70, max_depth=4, F1=0.48262548262548266\n",
      "n_estimators=70, max_depth=5, F1=0.5267034990791897\n",
      "n_estimators=70, max_depth=6, F1=0.5506216696269983\n",
      "n_estimators=70, max_depth=7, F1=0.5431654676258993\n",
      "n_estimators=70, max_depth=8, F1=0.539568345323741\n",
      "n_estimators=70, max_depth=9, F1=0.5565217391304348\n",
      "n_estimators=70, max_depth=10, F1=0.5660377358490567\n",
      "n_estimators=70, max_depth=11, F1=0.560553633217993\n",
      "n_estimators=70, max_depth=12, F1=0.564625850340136\n",
      "n_estimators=70, max_depth=13, F1=0.5709515859766277\n",
      "n_estimators=70, max_depth=14, F1=0.562396006655574\n",
      "n_estimators=70, max_depth=15, F1=0.5609348914858097\n",
      "n_estimators=80, max_depth=1, F1=0.0\n",
      "n_estimators=80, max_depth=2, F1=0.16545012165450118\n",
      "n_estimators=80, max_depth=3, F1=0.22588235294117645\n",
      "n_estimators=80, max_depth=4, F1=0.4875239923224568\n",
      "n_estimators=80, max_depth=5, F1=0.5230202578268877\n",
      "n_estimators=80, max_depth=6, F1=0.5480427046263346\n",
      "n_estimators=80, max_depth=7, F1=0.5457809694793537\n",
      "n_estimators=80, max_depth=8, F1=0.5350089766606823\n",
      "n_estimators=80, max_depth=9, F1=0.5543859649122806\n",
      "n_estimators=80, max_depth=10, F1=0.5660377358490567\n",
      "n_estimators=80, max_depth=11, F1=0.560553633217993\n",
      "n_estimators=80, max_depth=12, F1=0.5626072041166381\n",
      "n_estimators=80, max_depth=13, F1=0.5661641541038525\n",
      "n_estimators=80, max_depth=14, F1=0.5555555555555556\n",
      "n_estimators=80, max_depth=15, F1=0.5657237936772047\n",
      "n_estimators=90, max_depth=1, F1=0.0\n",
      "n_estimators=90, max_depth=2, F1=0.13366336633663367\n",
      "n_estimators=90, max_depth=3, F1=0.22588235294117645\n",
      "n_estimators=90, max_depth=4, F1=0.4678362573099415\n",
      "n_estimators=90, max_depth=5, F1=0.5257352941176471\n",
      "n_estimators=90, max_depth=6, F1=0.5516014234875445\n",
      "n_estimators=90, max_depth=7, F1=0.5398550724637682\n",
      "n_estimators=90, max_depth=8, F1=0.5342960288808665\n",
      "n_estimators=90, max_depth=9, F1=0.5483304042179262\n",
      "n_estimators=90, max_depth=10, F1=0.5565217391304348\n",
      "n_estimators=90, max_depth=11, F1=0.5599999999999999\n",
      "n_estimators=90, max_depth=12, F1=0.5591766723842195\n",
      "n_estimators=90, max_depth=13, F1=0.5656565656565656\n",
      "n_estimators=90, max_depth=14, F1=0.5690235690235691\n",
      "n_estimators=90, max_depth=15, F1=0.5609348914858097\n",
      "n_estimators=100, max_depth=1, F1=0.0\n",
      "n_estimators=100, max_depth=2, F1=0.16097560975609757\n",
      "n_estimators=100, max_depth=3, F1=0.22588235294117645\n",
      "n_estimators=100, max_depth=4, F1=0.48046875000000006\n",
      "n_estimators=100, max_depth=5, F1=0.5230202578268877\n",
      "n_estimators=100, max_depth=6, F1=0.55\n",
      "n_estimators=100, max_depth=7, F1=0.5352622061482821\n",
      "n_estimators=100, max_depth=8, F1=0.5342960288808665\n",
      "n_estimators=100, max_depth=9, F1=0.5473684210526316\n",
      "n_estimators=100, max_depth=10, F1=0.5640138408304498\n",
      "n_estimators=100, max_depth=11, F1=0.5625\n",
      "n_estimators=100, max_depth=12, F1=0.5591766723842195\n",
      "n_estimators=100, max_depth=13, F1=0.5647058823529412\n",
      "n_estimators=100, max_depth=14, F1=0.5617597292724196\n",
      "n_estimators=100, max_depth=15, F1=0.5681063122923589\n",
      "n_estimators=110, max_depth=1, F1=0.0\n",
      "n_estimators=110, max_depth=2, F1=0.16545012165450118\n",
      "n_estimators=110, max_depth=3, F1=0.22588235294117645\n",
      "n_estimators=110, max_depth=4, F1=0.48262548262548266\n",
      "n_estimators=110, max_depth=5, F1=0.5247706422018349\n",
      "n_estimators=110, max_depth=6, F1=0.5405405405405405\n",
      "n_estimators=110, max_depth=7, F1=0.5362318840579711\n",
      "n_estimators=110, max_depth=8, F1=0.5335753176043557\n",
      "n_estimators=110, max_depth=9, F1=0.5457746478873239\n",
      "n_estimators=110, max_depth=10, F1=0.5555555555555556\n",
      "n_estimators=110, max_depth=11, F1=0.5595854922279793\n",
      "n_estimators=110, max_depth=12, F1=0.5606837606837607\n",
      "n_estimators=110, max_depth=13, F1=0.5583756345177665\n",
      "n_estimators=110, max_depth=14, F1=0.5656565656565656\n",
      "n_estimators=110, max_depth=15, F1=0.5661641541038525\n",
      "n_estimators=120, max_depth=1, F1=0.0\n",
      "n_estimators=120, max_depth=2, F1=0.16097560975609757\n",
      "n_estimators=120, max_depth=3, F1=0.22588235294117645\n",
      "n_estimators=120, max_depth=4, F1=0.4796905222437138\n",
      "n_estimators=120, max_depth=5, F1=0.5185185185185186\n",
      "n_estimators=120, max_depth=6, F1=0.5405405405405405\n",
      "n_estimators=120, max_depth=7, F1=0.5362318840579711\n",
      "n_estimators=120, max_depth=8, F1=0.5333333333333333\n",
      "n_estimators=120, max_depth=9, F1=0.5483304042179262\n",
      "n_estimators=120, max_depth=10, F1=0.5555555555555556\n",
      "n_estimators=120, max_depth=11, F1=0.560553633217993\n",
      "n_estimators=120, max_depth=12, F1=0.5621805792163543\n",
      "n_estimators=120, max_depth=13, F1=0.5559322033898306\n",
      "n_estimators=120, max_depth=14, F1=0.5555555555555556\n",
      "n_estimators=120, max_depth=15, F1=0.5628140703517588\n",
      "n_estimators=130, max_depth=1, F1=0.0\n",
      "n_estimators=130, max_depth=2, F1=0.17433414043583534\n",
      "n_estimators=130, max_depth=3, F1=0.2300469483568075\n",
      "n_estimators=130, max_depth=4, F1=0.4737864077669904\n",
      "n_estimators=130, max_depth=5, F1=0.5202952029520296\n",
      "n_estimators=130, max_depth=6, F1=0.5379061371841155\n",
      "n_estimators=130, max_depth=7, F1=0.532608695652174\n",
      "n_estimators=130, max_depth=8, F1=0.5359712230215826\n",
      "n_estimators=130, max_depth=9, F1=0.5499124343257443\n",
      "n_estimators=130, max_depth=10, F1=0.5580589254766032\n",
      "n_estimators=130, max_depth=11, F1=0.5664939550949913\n",
      "n_estimators=130, max_depth=12, F1=0.5547945205479453\n",
      "n_estimators=130, max_depth=13, F1=0.5589225589225589\n",
      "n_estimators=130, max_depth=14, F1=0.5531197301854974\n",
      "n_estimators=130, max_depth=15, F1=0.5695142378559465\n",
      "n_estimators=140, max_depth=1, F1=0.0\n",
      "n_estimators=140, max_depth=2, F1=0.178743961352657\n",
      "n_estimators=140, max_depth=3, F1=0.2383177570093458\n",
      "n_estimators=140, max_depth=4, F1=0.4737864077669904\n",
      "n_estimators=140, max_depth=5, F1=0.5185185185185186\n",
      "n_estimators=140, max_depth=6, F1=0.5379061371841155\n",
      "n_estimators=140, max_depth=7, F1=0.5352622061482821\n",
      "n_estimators=140, max_depth=8, F1=0.5366726296958855\n",
      "n_estimators=140, max_depth=9, F1=0.5499124343257443\n",
      "n_estimators=140, max_depth=10, F1=0.5611015490533563\n",
      "n_estimators=140, max_depth=11, F1=0.5630397236614854\n",
      "n_estimators=140, max_depth=12, F1=0.5523156089193826\n",
      "n_estimators=140, max_depth=13, F1=0.5613445378151262\n",
      "n_estimators=140, max_depth=14, F1=0.5604026845637583\n",
      "n_estimators=140, max_depth=15, F1=0.5737976782752903\n",
      "n_estimators=150, max_depth=1, F1=0.0\n",
      "n_estimators=150, max_depth=2, F1=0.1875\n",
      "n_estimators=150, max_depth=3, F1=0.2424242424242424\n",
      "n_estimators=150, max_depth=4, F1=0.48262548262548266\n",
      "n_estimators=150, max_depth=5, F1=0.5230202578268877\n",
      "n_estimators=150, max_depth=6, F1=0.5421903052064632\n",
      "n_estimators=150, max_depth=7, F1=0.5369369369369369\n",
      "n_estimators=150, max_depth=8, F1=0.5402504472271914\n",
      "n_estimators=150, max_depth=9, F1=0.5524475524475524\n",
      "n_estimators=150, max_depth=10, F1=0.5655172413793104\n",
      "n_estimators=150, max_depth=11, F1=0.5664939550949913\n",
      "n_estimators=150, max_depth=12, F1=0.5470085470085471\n",
      "n_estimators=150, max_depth=13, F1=0.5568760611205433\n",
      "n_estimators=150, max_depth=14, F1=0.5521885521885521\n",
      "n_estimators=150, max_depth=15, F1=0.5676126878130217\n",
      "Best F1: 0.5844155844155844, max_depth: 15, n_estimators: 20\n"
     ]
    }
   ],
   "source": [
    "target = data_ordinal['exited']\n",
    "features = data_ordinal.drop('exited', axis=1)\n",
    "\n",
    "features_train, features_valid, target_train, target_valid = train_test_split(features, target, test_size=0.4, random_state=rnd_state)\n",
    "\n",
    "features_valid, features_test, target_valid, target_test = train_test_split(features_valid, target_valid, test_size=0.5, random_state=rnd_state)\n",
    "# Масштабируем количественные признаки\n",
    "scaler = StandardScaler()\n",
    "numeric = ['creditscore', 'age', 'tenure', 'balance', 'numofproducts', 'estimatedsalary']\n",
    "scaler.fit(features_train[numeric])\n",
    "    \n",
    "features_train[numeric] = scaler.transform(features_train[numeric])\n",
    "features_valid[numeric] = scaler.transform(features_valid[numeric])\n",
    "features_test[numeric] = scaler.transform(features_test[numeric])\n",
    "\n",
    "best_f1 = 0\n",
    "best_depth = 0\n",
    "best_est = 0\n",
    "for est in range(10, 151, 10):\n",
    "    for depth in range(1, 16):\n",
    "        model = RandomForestClassifier(random_state=12345, n_estimators=est, max_depth=depth)\n",
    "        model.fit(features_train, target_train)\n",
    "        predicted_valid = model.predict(features_valid)\n",
    "        f1 = f1_score(target_valid, predicted_valid)\n",
    "        print(f\"n_estimators={est}, max_depth={depth}, F1={f1}\")\n",
    "        if f1 > best_f1:\n",
    "            best_f1 = f1\n",
    "            best_depth = depth\n",
    "            best_est = est\n",
    "\n",
    "\n",
    "print(f\"Best F1: {best_f1}, max_depth: {best_depth}, n_estimators: {best_est}\")"
   ]
  },
  {
   "cell_type": "markdown",
   "metadata": {},
   "source": [
    "<div class=\"alert alert-info\">\n",
    "Для использования счётчика лучших параметров глубины, эстиматоров при лучшем показателе F1 меры  в двойном цикле,  в начале цикла объявил глобальные переменные по делению выборки на тестовую и валидацилнную, т.к. изначальные функции, описанные ранее для данных операций, не давали возможность автоматически сравнить полученные результаты в цикле. \n",
    "</div>    "
   ]
  },
  {
   "cell_type": "markdown",
   "metadata": {},
   "source": [
    "<div class=\"alert alert-info\">\n",
    "Лучший результат при количестве: n_estimators = 20: max_depth = 15:  F1 of valid: 0.5844155844155844\n",
    "</div>  "
   ]
  },
  {
   "cell_type": "markdown",
   "metadata": {},
   "source": [
    "<div class=\"alert alert-warning\">\n",
    "<h2> Комментарий ревьюера  #2 <a class=\"tocSkip\"> </h2>\n",
    "    \n",
    "<b>Некоторые замечания и рекомендации💡:</b> \n",
    "\n",
    "Tеперь все неплохо. Единственное, в проектах лучше делать три шага: предобработку (здесь полностью готовим выборки), и только после этого исследование моделей, затем тестирование. У тебя получился перехлест, ты обучил модель до того как закончил с подготовкой данных. Это противоречит принципу GIGO, из такого обучения мы не можем извлечь полезной и звслуживающей доверия информации.\n",
    "       \n",
    "</div>\n"
   ]
  },
  {
   "cell_type": "markdown",
   "metadata": {},
   "source": [
    "## Борьба с дисбалансом"
   ]
  },
  {
   "cell_type": "markdown",
   "metadata": {},
   "source": [
    "Придадим объектам редкого класса 1 больший вес используя гиперпараметр class_weight='balanced'"
   ]
  },
  {
   "cell_type": "markdown",
   "metadata": {},
   "source": [
    "### Логистическая регрессия"
   ]
  },
  {
   "cell_type": "code",
   "execution_count": 36,
   "metadata": {
    "scrolled": true
   },
   "outputs": [
    {
     "name": "stdout",
     "output_type": "stream",
     "text": [
      "F1 of valid: 0.509731232622799\n"
     ]
    },
    {
     "data": {
      "text/plain": [
       "LogisticRegression(class_weight='balanced', random_state=12345,\n",
       "                   solver='liblinear')"
      ]
     },
     "execution_count": 36,
     "metadata": {},
     "output_type": "execute_result"
    }
   ],
   "source": [
    "model = LogisticRegression(class_weight='balanced', solver='liblinear', random_state=rnd_state)\n",
    "train_and_predict(data_ohe, model)"
   ]
  },
  {
   "cell_type": "markdown",
   "metadata": {},
   "source": [
    "Результат немного лучше чем с несбалансированнными данными"
   ]
  },
  {
   "cell_type": "markdown",
   "metadata": {},
   "source": [
    "### Дерево решений"
   ]
  },
  {
   "cell_type": "code",
   "execution_count": 37,
   "metadata": {
    "scrolled": false
   },
   "outputs": [
    {
     "name": "stdout",
     "output_type": "stream",
     "text": [
      "max_depth 2:\tF1 of valid: 0.5297619047619048\n",
      "max_depth 4:\tF1 of valid: 0.5045492142266335\n",
      "max_depth 6:\tF1 of valid: 0.574370709382151\n",
      "max_depth 8:\tF1 of valid: 0.5342163355408388\n",
      "max_depth 10:\tF1 of valid: 0.5011086474501109\n",
      "max_depth 12:\tF1 of valid: 0.47362250879249707\n",
      "max_depth 14:\tF1 of valid: 0.4860759493670886\n",
      "max_depth 16:\tF1 of valid: 0.47780678851174935\n",
      "max_depth 18:\tF1 of valid: 0.4779706275033378\n",
      "max_depth 20:\tF1 of valid: 0.4737550471063257\n"
     ]
    }
   ],
   "source": [
    "for max_depth in range(2, 22, 2):\n",
    "    model = DecisionTreeClassifier(class_weight='balanced', max_depth=max_depth, random_state=rnd_state)\n",
    "    train_and_predict(data_ordinal, model, log_prefix=f'max_depth {max_depth}:\\t')"
   ]
  },
  {
   "cell_type": "markdown",
   "metadata": {},
   "source": [
    "\n",
    "<div class=\"alert alert-success\">\n",
    "<h2> Комментарий ревьюера <a class=\"tocSkip\"> </h2>\n",
    "\n",
    "👍 Всё верно по коду выше.\n",
    "</div>  "
   ]
  },
  {
   "cell_type": "markdown",
   "metadata": {},
   "source": [
    "Лучший результат с глубиной в 6: max_depth 6: F1 of valid: 0.574370709382151"
   ]
  },
  {
   "cell_type": "markdown",
   "metadata": {},
   "source": [
    "### Случайный лес"
   ]
  },
  {
   "cell_type": "code",
   "execution_count": 38,
   "metadata": {
    "scrolled": true
   },
   "outputs": [
    {
     "name": "stdout",
     "output_type": "stream",
     "text": [
      "n_estimators = 10:\tF1 of valid: 0.5947712418300654\n",
      "n_estimators = 20:\tF1 of valid: 0.5947136563876652\n",
      "n_estimators = 30:\tF1 of valid: 0.5971769815418023\n",
      "n_estimators = 40:\tF1 of valid: 0.5942982456140351\n",
      "n_estimators = 50:\tF1 of valid: 0.5976008724100327\n",
      "n_estimators = 60:\tF1 of valid: 0.6032786885245902\n",
      "n_estimators = 70:\tF1 of valid: 0.6019629225736096\n",
      "n_estimators = 80:\tF1 of valid: 0.604143947655398\n",
      "n_estimators = 90:\tF1 of valid: 0.6030368763557484\n",
      "n_estimators = 100:\tF1 of valid: 0.5997818974918212\n",
      "n_estimators = 110:\tF1 of valid: 0.5964912280701754\n",
      "n_estimators = 120:\tF1 of valid: 0.5958378970427164\n",
      "n_estimators = 130:\tF1 of valid: 0.5995623632385121\n",
      "n_estimators = 140:\tF1 of valid: 0.5971459934138309\n",
      "n_estimators = 150:\tF1 of valid: 0.5986842105263158\n",
      "n_estimators = 160:\tF1 of valid: 0.6004366812227073\n",
      "n_estimators = 170:\tF1 of valid: 0.6008771929824562\n",
      "n_estimators = 180:\tF1 of valid: 0.5967213114754097\n",
      "n_estimators = 190:\tF1 of valid: 0.5980284775465499\n",
      "n_estimators = 200:\tF1 of valid: 0.5984598459845984\n"
     ]
    }
   ],
   "source": [
    "for estim in range(10, 201, 10):\n",
    "    model = RandomForestClassifier(class_weight='balanced', n_estimators=estim, max_depth=6, random_state=rnd_state)\n",
    "    train_and_predict(data_ordinal, model, log_prefix=f'n_estimators = {estim}:\\t')"
   ]
  },
  {
   "cell_type": "markdown",
   "metadata": {},
   "source": [
    "<div class=\"alert alert-warning\">\n",
    "<h2> Комментарий ревьюера <a class=\"tocSkip\"> </h2>\n",
    "    \n",
    "<b>Некоторые замечания и рекомендации💡:</b> \n",
    "\n",
    "А здесь аналогичное замечание: нужно подобрать два гиперпараметра (минимум).\n",
    "       \n",
    "</div>"
   ]
  },
  {
   "cell_type": "markdown",
   "metadata": {},
   "source": [
    "Лучший результат с количиством деревьем 60: n_estimators = 60: F1 of valid: 0.6032786885245902"
   ]
  },
  {
   "cell_type": "code",
   "execution_count": 39,
   "metadata": {
    "scrolled": true
   },
   "outputs": [
    {
     "name": "stdout",
     "output_type": "stream",
     "text": [
      "n_estimators=10, max_depth=1, F1=0.5330578512396694\n",
      "n_estimators=10, max_depth=2, F1=0.5582761998041136\n",
      "n_estimators=10, max_depth=3, F1=0.565262076053443\n",
      "n_estimators=10, max_depth=4, F1=0.5633802816901409\n",
      "n_estimators=10, max_depth=5, F1=0.5834230355220668\n",
      "n_estimators=10, max_depth=6, F1=0.5947712418300654\n",
      "n_estimators=10, max_depth=7, F1=0.5897435897435898\n",
      "n_estimators=10, max_depth=8, F1=0.6016073478760047\n",
      "n_estimators=10, max_depth=9, F1=0.6004618937644342\n",
      "n_estimators=10, max_depth=10, F1=0.5898734177215189\n",
      "n_estimators=10, max_depth=11, F1=0.5793650793650794\n",
      "n_estimators=10, max_depth=12, F1=0.5948275862068966\n",
      "n_estimators=10, max_depth=13, F1=0.5857988165680473\n",
      "n_estimators=10, max_depth=14, F1=0.5820433436532508\n",
      "n_estimators=10, max_depth=15, F1=0.5700636942675159\n",
      "n_estimators=20, max_depth=1, F1=0.5471502590673575\n",
      "n_estimators=20, max_depth=2, F1=0.5708460754332314\n",
      "n_estimators=20, max_depth=3, F1=0.56312625250501\n",
      "n_estimators=20, max_depth=4, F1=0.5780933062880325\n",
      "n_estimators=20, max_depth=5, F1=0.5956989247311828\n",
      "n_estimators=20, max_depth=6, F1=0.5947136563876652\n",
      "n_estimators=20, max_depth=7, F1=0.6147091108671788\n",
      "n_estimators=20, max_depth=8, F1=0.6091015169194866\n",
      "n_estimators=20, max_depth=9, F1=0.6144721233689207\n",
      "n_estimators=20, max_depth=10, F1=0.6064516129032258\n",
      "n_estimators=20, max_depth=11, F1=0.5880758807588076\n",
      "n_estimators=20, max_depth=12, F1=0.6178623718887263\n",
      "n_estimators=20, max_depth=13, F1=0.6055045871559633\n",
      "n_estimators=20, max_depth=14, F1=0.5956790123456791\n",
      "n_estimators=20, max_depth=15, F1=0.5704918032786884\n",
      "n_estimators=30, max_depth=1, F1=0.5625\n",
      "n_estimators=30, max_depth=2, F1=0.5782881002087683\n",
      "n_estimators=30, max_depth=3, F1=0.5802469135802468\n",
      "n_estimators=30, max_depth=4, F1=0.5805785123966943\n",
      "n_estimators=30, max_depth=5, F1=0.598698481561822\n",
      "n_estimators=30, max_depth=6, F1=0.5971769815418023\n",
      "n_estimators=30, max_depth=7, F1=0.6116611661166116\n",
      "n_estimators=30, max_depth=8, F1=0.6177156177156177\n",
      "n_estimators=30, max_depth=9, F1=0.6113116726835137\n",
      "n_estimators=30, max_depth=10, F1=0.6151832460732984\n",
      "n_estimators=30, max_depth=11, F1=0.5997210599721059\n",
      "n_estimators=30, max_depth=12, F1=0.6062407132243686\n",
      "n_estimators=30, max_depth=13, F1=0.5945121951219512\n",
      "n_estimators=30, max_depth=14, F1=0.5996860282574569\n",
      "n_estimators=30, max_depth=15, F1=0.565359477124183\n",
      "n_estimators=40, max_depth=1, F1=0.5408062930186824\n",
      "n_estimators=40, max_depth=2, F1=0.5656565656565655\n",
      "n_estimators=40, max_depth=3, F1=0.5723014256619146\n",
      "n_estimators=40, max_depth=4, F1=0.5776850886339937\n",
      "n_estimators=40, max_depth=5, F1=0.6026200873362447\n",
      "n_estimators=40, max_depth=6, F1=0.5942982456140351\n",
      "n_estimators=40, max_depth=7, F1=0.6070640176600441\n",
      "n_estimators=40, max_depth=8, F1=0.6186046511627907\n",
      "n_estimators=40, max_depth=9, F1=0.6280193236714976\n",
      "n_estimators=40, max_depth=10, F1=0.6206896551724138\n",
      "n_estimators=40, max_depth=11, F1=0.6125874125874127\n",
      "n_estimators=40, max_depth=12, F1=0.6094674556213018\n",
      "n_estimators=40, max_depth=13, F1=0.6132930513595166\n",
      "n_estimators=40, max_depth=14, F1=0.5911949685534591\n",
      "n_estimators=40, max_depth=15, F1=0.5983739837398374\n",
      "n_estimators=50, max_depth=1, F1=0.5522682445759369\n",
      "n_estimators=50, max_depth=2, F1=0.5696846388606308\n",
      "n_estimators=50, max_depth=3, F1=0.574642126789366\n",
      "n_estimators=50, max_depth=4, F1=0.5810526315789475\n",
      "n_estimators=50, max_depth=5, F1=0.5952380952380953\n",
      "n_estimators=50, max_depth=6, F1=0.5976008724100327\n",
      "n_estimators=50, max_depth=7, F1=0.6076233183856502\n",
      "n_estimators=50, max_depth=8, F1=0.6202090592334495\n",
      "n_estimators=50, max_depth=9, F1=0.6278787878787879\n",
      "n_estimators=50, max_depth=10, F1=0.6226912928759895\n",
      "n_estimators=50, max_depth=11, F1=0.6153846153846153\n",
      "n_estimators=50, max_depth=12, F1=0.6098654708520179\n",
      "n_estimators=50, max_depth=13, F1=0.6153846153846154\n",
      "n_estimators=50, max_depth=14, F1=0.5841269841269842\n",
      "n_estimators=50, max_depth=15, F1=0.5938009787928222\n",
      "n_estimators=60, max_depth=1, F1=0.54158215010142\n",
      "n_estimators=60, max_depth=2, F1=0.5649948822927329\n",
      "n_estimators=60, max_depth=3, F1=0.5728952772073922\n",
      "n_estimators=60, max_depth=4, F1=0.5853658536585367\n",
      "n_estimators=60, max_depth=5, F1=0.5956521739130435\n",
      "n_estimators=60, max_depth=6, F1=0.6032786885245902\n",
      "n_estimators=60, max_depth=7, F1=0.6126126126126126\n",
      "n_estimators=60, max_depth=8, F1=0.6146682188591386\n",
      "n_estimators=60, max_depth=9, F1=0.6260657734470159\n",
      "n_estimators=60, max_depth=10, F1=0.6235138705416118\n",
      "n_estimators=60, max_depth=11, F1=0.6197183098591549\n",
      "n_estimators=60, max_depth=12, F1=0.6080476900149032\n",
      "n_estimators=60, max_depth=13, F1=0.6102719033232628\n",
      "n_estimators=60, max_depth=14, F1=0.5832012678288432\n",
      "n_estimators=60, max_depth=15, F1=0.5857605177993528\n",
      "n_estimators=70, max_depth=1, F1=0.5450819672131147\n",
      "n_estimators=70, max_depth=2, F1=0.5548902195608783\n",
      "n_estimators=70, max_depth=3, F1=0.5755693581780539\n",
      "n_estimators=70, max_depth=4, F1=0.5822784810126582\n",
      "n_estimators=70, max_depth=5, F1=0.5930735930735931\n",
      "n_estimators=70, max_depth=6, F1=0.6019629225736096\n",
      "n_estimators=70, max_depth=7, F1=0.609375\n",
      "n_estimators=70, max_depth=8, F1=0.6193247962747381\n",
      "n_estimators=70, max_depth=9, F1=0.6317073170731707\n",
      "n_estimators=70, max_depth=10, F1=0.6275033377837116\n",
      "n_estimators=70, max_depth=11, F1=0.6169014084507042\n",
      "n_estimators=70, max_depth=12, F1=0.6110283159463488\n",
      "n_estimators=70, max_depth=13, F1=0.5957446808510637\n",
      "n_estimators=70, max_depth=14, F1=0.5955414012738853\n",
      "n_estimators=70, max_depth=15, F1=0.5886178861788618\n",
      "n_estimators=80, max_depth=1, F1=0.5333333333333333\n",
      "n_estimators=80, max_depth=2, F1=0.554\n",
      "n_estimators=80, max_depth=3, F1=0.5749741468459151\n",
      "n_estimators=80, max_depth=4, F1=0.5878661087866109\n",
      "n_estimators=80, max_depth=5, F1=0.5920344456404737\n",
      "n_estimators=80, max_depth=6, F1=0.604143947655398\n",
      "n_estimators=80, max_depth=7, F1=0.6086956521739131\n",
      "n_estimators=80, max_depth=8, F1=0.6216530849825379\n",
      "n_estimators=80, max_depth=9, F1=0.6242350061199511\n",
      "n_estimators=80, max_depth=10, F1=0.6250000000000001\n",
      "n_estimators=80, max_depth=11, F1=0.6195190947666195\n",
      "n_estimators=80, max_depth=12, F1=0.6133333333333334\n",
      "n_estimators=80, max_depth=13, F1=0.6085626911314984\n",
      "n_estimators=80, max_depth=14, F1=0.5917721518987341\n",
      "n_estimators=80, max_depth=15, F1=0.5918699186991869\n",
      "n_estimators=90, max_depth=1, F1=0.5384615384615385\n",
      "n_estimators=90, max_depth=2, F1=0.5572441742654508\n",
      "n_estimators=90, max_depth=3, F1=0.578238341968912\n",
      "n_estimators=90, max_depth=4, F1=0.5844559585492228\n",
      "n_estimators=90, max_depth=5, F1=0.5931477516059958\n",
      "n_estimators=90, max_depth=6, F1=0.6030368763557484\n",
      "n_estimators=90, max_depth=7, F1=0.6091825307950728\n",
      "n_estimators=90, max_depth=8, F1=0.6227967097532314\n",
      "n_estimators=90, max_depth=9, F1=0.6332518337408313\n",
      "n_estimators=90, max_depth=10, F1=0.6198675496688743\n",
      "n_estimators=90, max_depth=11, F1=0.6138613861386139\n",
      "n_estimators=90, max_depth=12, F1=0.6140089418777943\n",
      "n_estimators=90, max_depth=13, F1=0.602446483180428\n",
      "n_estimators=90, max_depth=14, F1=0.5952755905511811\n",
      "n_estimators=90, max_depth=15, F1=0.5895765472312703\n",
      "n_estimators=100, max_depth=1, F1=0.5376782077393075\n",
      "n_estimators=100, max_depth=2, F1=0.5667351129363449\n",
      "n_estimators=100, max_depth=3, F1=0.5813221406086044\n",
      "n_estimators=100, max_depth=4, F1=0.5830721003134796\n",
      "n_estimators=100, max_depth=5, F1=0.5891141942369265\n",
      "n_estimators=100, max_depth=6, F1=0.5997818974918212\n",
      "n_estimators=100, max_depth=7, F1=0.6119235095613048\n",
      "n_estimators=100, max_depth=8, F1=0.6266195524146053\n",
      "n_estimators=100, max_depth=9, F1=0.6331288343558282\n",
      "n_estimators=100, max_depth=10, F1=0.624505928853755\n",
      "n_estimators=100, max_depth=11, F1=0.6169014084507042\n",
      "n_estimators=100, max_depth=12, F1=0.6294117647058823\n",
      "n_estimators=100, max_depth=13, F1=0.5996908809891809\n",
      "n_estimators=100, max_depth=14, F1=0.592948717948718\n",
      "n_estimators=100, max_depth=15, F1=0.5855263157894737\n",
      "n_estimators=110, max_depth=1, F1=0.5416248746238717\n",
      "n_estimators=110, max_depth=2, F1=0.5649484536082475\n",
      "n_estimators=110, max_depth=3, F1=0.5717277486910995\n",
      "n_estimators=110, max_depth=4, F1=0.5821989528795811\n",
      "n_estimators=110, max_depth=5, F1=0.5907626208378088\n",
      "n_estimators=110, max_depth=6, F1=0.5964912280701754\n",
      "n_estimators=110, max_depth=7, F1=0.606942889137738\n",
      "n_estimators=110, max_depth=8, F1=0.6219081272084805\n",
      "n_estimators=110, max_depth=9, F1=0.6306748466257669\n",
      "n_estimators=110, max_depth=10, F1=0.6235138705416118\n",
      "n_estimators=110, max_depth=11, F1=0.6207865168539326\n",
      "n_estimators=110, max_depth=12, F1=0.6215022091310751\n",
      "n_estimators=110, max_depth=13, F1=0.5990783410138248\n",
      "n_estimators=110, max_depth=14, F1=0.5859872611464969\n",
      "n_estimators=110, max_depth=15, F1=0.5775577557755776\n",
      "n_estimators=120, max_depth=1, F1=0.5511022044088176\n",
      "n_estimators=120, max_depth=2, F1=0.5667011375387798\n",
      "n_estimators=120, max_depth=3, F1=0.5723270440251573\n",
      "n_estimators=120, max_depth=4, F1=0.5810526315789475\n",
      "n_estimators=120, max_depth=5, F1=0.5903743315508022\n",
      "n_estimators=120, max_depth=6, F1=0.5958378970427164\n",
      "n_estimators=120, max_depth=7, F1=0.6078212290502792\n",
      "n_estimators=120, max_depth=8, F1=0.6207701283547258\n",
      "n_estimators=120, max_depth=9, F1=0.6297662976629766\n",
      "n_estimators=120, max_depth=10, F1=0.62532981530343\n",
      "n_estimators=120, max_depth=11, F1=0.6181818181818182\n",
      "n_estimators=120, max_depth=12, F1=0.6196769456681351\n",
      "n_estimators=120, max_depth=13, F1=0.6052227342549923\n",
      "n_estimators=120, max_depth=14, F1=0.5886075949367088\n",
      "n_estimators=120, max_depth=15, F1=0.5793780687397708\n",
      "n_estimators=130, max_depth=1, F1=0.5504950495049505\n",
      "n_estimators=130, max_depth=2, F1=0.5770423991726991\n",
      "n_estimators=130, max_depth=3, F1=0.5741127348643007\n",
      "n_estimators=130, max_depth=4, F1=0.5854166666666667\n",
      "n_estimators=130, max_depth=5, F1=0.5935483870967742\n",
      "n_estimators=130, max_depth=6, F1=0.5995623632385121\n",
      "n_estimators=130, max_depth=7, F1=0.6028921023359288\n",
      "n_estimators=130, max_depth=8, F1=0.6197183098591549\n",
      "n_estimators=130, max_depth=9, F1=0.6331288343558282\n",
      "n_estimators=130, max_depth=10, F1=0.624505928853755\n",
      "n_estimators=130, max_depth=11, F1=0.6203059805285118\n",
      "n_estimators=130, max_depth=12, F1=0.6205882352941176\n",
      "n_estimators=130, max_depth=13, F1=0.6003062787136294\n",
      "n_estimators=130, max_depth=14, F1=0.5962145110410095\n",
      "n_estimators=130, max_depth=15, F1=0.5845648604269295\n",
      "n_estimators=140, max_depth=1, F1=0.5505505505505506\n",
      "n_estimators=140, max_depth=2, F1=0.5817805383022775\n",
      "n_estimators=140, max_depth=3, F1=0.5753138075313807\n",
      "n_estimators=140, max_depth=4, F1=0.5871369294605809\n",
      "n_estimators=140, max_depth=5, F1=0.5935483870967742\n",
      "n_estimators=140, max_depth=6, F1=0.5971459934138309\n",
      "n_estimators=140, max_depth=7, F1=0.6085011185682326\n",
      "n_estimators=140, max_depth=8, F1=0.6222222222222222\n",
      "n_estimators=140, max_depth=9, F1=0.6311881188118813\n",
      "n_estimators=140, max_depth=10, F1=0.6263157894736843\n",
      "n_estimators=140, max_depth=11, F1=0.620979020979021\n",
      "n_estimators=140, max_depth=12, F1=0.6187683284457477\n",
      "n_estimators=140, max_depth=13, F1=0.602446483180428\n",
      "n_estimators=140, max_depth=14, F1=0.5927099841521394\n",
      "n_estimators=140, max_depth=15, F1=0.5849673202614379\n",
      "n_estimators=150, max_depth=1, F1=0.5494505494505494\n",
      "n_estimators=150, max_depth=2, F1=0.5762004175365345\n",
      "n_estimators=150, max_depth=3, F1=0.576235541535226\n",
      "n_estimators=150, max_depth=4, F1=0.5849056603773585\n",
      "n_estimators=150, max_depth=5, F1=0.5944206008583691\n",
      "n_estimators=150, max_depth=6, F1=0.5986842105263158\n",
      "n_estimators=150, max_depth=7, F1=0.605586592178771\n",
      "n_estimators=150, max_depth=8, F1=0.627497062279671\n",
      "n_estimators=150, max_depth=9, F1=0.6372549019607844\n",
      "n_estimators=150, max_depth=10, F1=0.6254927726675427\n",
      "n_estimators=150, max_depth=11, F1=0.6244725738396625\n",
      "n_estimators=150, max_depth=12, F1=0.6246334310850441\n",
      "n_estimators=150, max_depth=13, F1=0.6064318529862174\n",
      "n_estimators=150, max_depth=14, F1=0.5917721518987341\n",
      "n_estimators=150, max_depth=15, F1=0.5826513911620295\n",
      "Best F1: 0.6372549019607844, max_depth: 9, n_estimators: 150\n"
     ]
    }
   ],
   "source": [
    "best_f1 = 0\n",
    "best_depth = 0\n",
    "best_est = 0\n",
    "for est in range(10, 151, 10):\n",
    "    for depth in range(1, 16):\n",
    "        model = RandomForestClassifier(class_weight='balanced', random_state=12345, n_estimators=est, max_depth=depth)\n",
    "        model.fit(features_train, target_train)\n",
    "        predicted_valid = model.predict(features_valid)\n",
    "        f1 = f1_score(target_valid, predicted_valid)\n",
    "        print(f\"n_estimators={est}, max_depth={depth}, F1={f1}\")\n",
    "        if f1 > best_f1:\n",
    "            best_f1 = f1\n",
    "            best_depth = depth\n",
    "            best_est = est\n",
    "\n",
    "\n",
    "print(f\"Best F1: {best_f1}, max_depth: {best_depth}, n_estimators: {best_est}\")"
   ]
  },
  {
   "cell_type": "markdown",
   "metadata": {},
   "source": [
    "<div class=\"alert alert-info\">\n",
    "Лучший результат при количестве: n_estimators = 150: max_depth = 9:  F1 of valid: 0.6372549019607844\n",
    "</div>  "
   ]
  },
  {
   "cell_type": "markdown",
   "metadata": {},
   "source": [
    "Увеличим объекты редкого класса и переобучим модели."
   ]
  },
  {
   "cell_type": "code",
   "execution_count": 40,
   "metadata": {},
   "outputs": [],
   "source": [
    "def upsample(features, target, repeat=10):\n",
    "    features_zeros = features[target == 0]\n",
    "    features_ones = features[target == 1]\n",
    "    target_zeros = target[target == 0]\n",
    "    target_ones = target[target == 1]\n",
    "\n",
    "    features_upsampled = pd.concat([features_zeros] + [features_ones] * repeat)\n",
    "    target_upsampled = pd.concat([target_zeros] + [target_ones] * repeat)\n",
    "    \n",
    "    features_upsampled, target_upsampled = shuffle(\n",
    "        features_upsampled, target_upsampled, random_state=rnd_state)\n",
    "    \n",
    "    return features_upsampled, target_upsampled"
   ]
  },
  {
   "cell_type": "markdown",
   "metadata": {},
   "source": [
    "<div class=\"alert alert-success\">\n",
    "<h2> Комментарий ревьюера <a class=\"tocSkip\"> </h2>\n",
    "\n",
    "👍 Отлично, что используешь рукописную функцию, но здесь можно все оптимизировать, используя <a href=\"https://imbalanced-learn.org/stable/references/generated/imblearn.over_sampling.SMOTE.html\">SMOTE</a> для увеличения выборки и <a href=\"https://imbalanced-learn.org/stable/references/generated/imblearn.under_sampling.RandomUnderSampler.html\">RandomUnderSampler</a>  для уменьшения. \n",
    "    \n",
    "Апсемплинг делается очень просто:\n",
    "    \n",
    "`oversample = SMOTE(random_state=RANDOM_STATE)`\n",
    "\n",
    "`features_train_up, target_train_up = oversample.fit_resample(features_train_enc, target_train)`\n",
    "    \n",
    "*предварительно импотрировав `from imblearn.over_sampling import SMOTE`\n",
    "\n",
    "**Чтобы импортировать imblearn его сначала требуется проинсталлировать. через `!pip install imblearn`\n",
    "    \n",
    "</div>"
   ]
  },
  {
   "cell_type": "markdown",
   "metadata": {},
   "source": [
    "<div class=\"alert alert-block alert-danger\">\n",
    "<h2><s> Комментарий ревьюера <a class=\"tocSkip\"></h2>\n",
    "  \n",
    "<b>На доработку🤔:</b>\n",
    " \n",
    "Здесь ты дублируешь редкий класс в 10 раз. У нас же, как мы увидели раньше, дисбаланс составляет 1:4. То есть, теперь окажется, что бывший редкий класс будет в 2,5 раза чаще встречаться.\n",
    "    \n",
    "Правильно будет довести баланс классов до 1:1, то есть, умножить на 4 (подав такой коэффициент в функцию).\n",
    "\n",
    "</div> \n"
   ]
  },
  {
   "cell_type": "code",
   "execution_count": 41,
   "metadata": {},
   "outputs": [],
   "source": [
    "def upsample(features, target, repeat=4):\n",
    "    features_zeros = features[target == 0]\n",
    "    features_ones = features[target == 1]\n",
    "    target_zeros = target[target == 0]\n",
    "    target_ones = target[target == 1]\n",
    "\n",
    "    features_upsampled = pd.concat([features_zeros] + [features_ones] * repeat)\n",
    "    target_upsampled = pd.concat([target_zeros] + [target_ones] * repeat)\n",
    "    \n",
    "    features_upsampled, target_upsampled = shuffle(\n",
    "        features_upsampled, target_upsampled, random_state=rnd_state)\n",
    "    \n",
    "    return features_upsampled, target_upsampled"
   ]
  },
  {
   "cell_type": "markdown",
   "metadata": {},
   "source": [
    "<div class=\"alert alert-info\">\n",
    "При балансе классов 1:1, это улучшело показатель F1 меры на разных моделях. Но он так же меньше чем в случае с сбалансированными классами. \n",
    "</div>  "
   ]
  },
  {
   "cell_type": "markdown",
   "metadata": {},
   "source": [
    "### Лоистическая регрессия"
   ]
  },
  {
   "cell_type": "code",
   "execution_count": 42,
   "metadata": {
    "scrolled": true
   },
   "outputs": [
    {
     "name": "stdout",
     "output_type": "stream",
     "text": [
      "F1 of valid: 0.5085972850678734\n"
     ]
    },
    {
     "data": {
      "text/plain": [
       "LogisticRegression(random_state=12345, solver='liblinear')"
      ]
     },
     "execution_count": 42,
     "metadata": {},
     "output_type": "execute_result"
    }
   ],
   "source": [
    "model = LogisticRegression(solver='liblinear', random_state=rnd_state)\n",
    "train_and_predict(data_ohe, model, samplefunc=upsample)"
   ]
  },
  {
   "cell_type": "markdown",
   "metadata": {},
   "source": [
    "### Дерево решений"
   ]
  },
  {
   "cell_type": "code",
   "execution_count": 43,
   "metadata": {
    "scrolled": false
   },
   "outputs": [
    {
     "name": "stdout",
     "output_type": "stream",
     "text": [
      "max_depth 2:\tF1 of valid: 0.5297619047619048\n",
      "max_depth 4:\tF1 of valid: 0.5045492142266335\n",
      "max_depth 6:\tF1 of valid: 0.5562248995983935\n",
      "max_depth 8:\tF1 of valid: 0.5314109165808445\n",
      "max_depth 10:\tF1 of valid: 0.5083240843507214\n",
      "max_depth 12:\tF1 of valid: 0.48267898383371827\n",
      "max_depth 14:\tF1 of valid: 0.48249027237354086\n",
      "max_depth 16:\tF1 of valid: 0.4646194926568759\n",
      "max_depth 18:\tF1 of valid: 0.4734042553191489\n",
      "max_depth 20:\tF1 of valid: 0.45100671140939597\n"
     ]
    }
   ],
   "source": [
    "for max_depth in range(2, 22, 2):\n",
    "    model = DecisionTreeClassifier(max_depth=max_depth, random_state=rnd_state)\n",
    "    train_and_predict(data_ordinal, model, samplefunc=upsample, log_prefix=f'max_depth {max_depth}:\\t')"
   ]
  },
  {
   "cell_type": "markdown",
   "metadata": {},
   "source": [
    "Лучший результат с глубиной 6: max_depth 6: F1 of valid: 0.5321100917431193"
   ]
  },
  {
   "cell_type": "markdown",
   "metadata": {},
   "source": [
    "### Случайный лес"
   ]
  },
  {
   "cell_type": "code",
   "execution_count": 44,
   "metadata": {
    "scrolled": true
   },
   "outputs": [
    {
     "name": "stdout",
     "output_type": "stream",
     "text": [
      "n_estimators = 10:\tF1 of valid: 0.6198243412797992\n",
      "n_estimators = 20:\tF1 of valid: 0.6201550387596899\n",
      "n_estimators = 30:\tF1 of valid: 0.6303501945525292\n",
      "n_estimators = 40:\tF1 of valid: 0.6261319534282019\n",
      "n_estimators = 50:\tF1 of valid: 0.6354166666666666\n",
      "n_estimators = 60:\tF1 of valid: 0.6347150259067357\n",
      "n_estimators = 70:\tF1 of valid: 0.6348387096774193\n",
      "n_estimators = 80:\tF1 of valid: 0.6261319534282019\n",
      "n_estimators = 90:\tF1 of valid: 0.6330749354005168\n",
      "n_estimators = 100:\tF1 of valid: 0.6381322957198444\n",
      "n_estimators = 110:\tF1 of valid: 0.6329442282749675\n",
      "n_estimators = 120:\tF1 of valid: 0.6302083333333333\n",
      "n_estimators = 130:\tF1 of valid: 0.6267880364109233\n",
      "n_estimators = 140:\tF1 of valid: 0.6299212598425197\n",
      "n_estimators = 150:\tF1 of valid: 0.6254927726675427\n",
      "n_estimators = 160:\tF1 of valid: 0.6271409749670619\n",
      "n_estimators = 170:\tF1 of valid: 0.6279683377308707\n",
      "n_estimators = 180:\tF1 of valid: 0.6271409749670619\n",
      "n_estimators = 190:\tF1 of valid: 0.6286472148541115\n",
      "n_estimators = 200:\tF1 of valid: 0.6296296296296297\n"
     ]
    }
   ],
   "source": [
    "for estim in range(10, 201, 10):\n",
    "    model = RandomForestClassifier(n_estimators=estim, max_depth=12, random_state=rnd_state)\n",
    "    train_and_predict(data_ordinal, model, samplefunc=upsample, log_prefix=f'n_estimators = {estim}:\\t')"
   ]
  },
  {
   "cell_type": "markdown",
   "metadata": {},
   "source": [
    "Лучший результат с количеством деревьев 100: n_estimators = 100: F1 of valid: 0.6056782334384858"
   ]
  },
  {
   "cell_type": "markdown",
   "metadata": {},
   "source": [
    "<div class=\"alert alert-warning\">\n",
    "<h2> Комментарий ревьюера <a class=\"tocSkip\"> </h2>\n",
    "    \n",
    "<b>Некоторые замечания и рекомендации💡:</b> \n",
    "\n",
    "Также нужно подобрать не только количество деревьев, но и глубину.\n",
    "       \n",
    "</div>"
   ]
  },
  {
   "cell_type": "code",
   "execution_count": 45,
   "metadata": {
    "scrolled": true
   },
   "outputs": [
    {
     "name": "stdout",
     "output_type": "stream",
     "text": [
      "n_estimators=10, max_depth=1, F1=0.0\n",
      "n_estimators=10, max_depth=2, F1=0.15571776155717762\n",
      "n_estimators=10, max_depth=3, F1=0.2361111111111111\n",
      "n_estimators=10, max_depth=4, F1=0.4573643410852713\n",
      "n_estimators=10, max_depth=5, F1=0.44047619047619047\n",
      "n_estimators=10, max_depth=6, F1=0.5247706422018349\n",
      "n_estimators=10, max_depth=7, F1=0.5359712230215826\n",
      "n_estimators=10, max_depth=8, F1=0.558303886925795\n",
      "n_estimators=10, max_depth=9, F1=0.547945205479452\n",
      "n_estimators=10, max_depth=10, F1=0.5690235690235691\n",
      "n_estimators=10, max_depth=11, F1=0.5517241379310345\n",
      "n_estimators=10, max_depth=12, F1=0.552542372881356\n",
      "n_estimators=10, max_depth=13, F1=0.5337726523887973\n",
      "n_estimators=10, max_depth=14, F1=0.5527156549520766\n",
      "n_estimators=10, max_depth=15, F1=0.5544871794871794\n",
      "n_estimators=20, max_depth=1, F1=0.0\n",
      "n_estimators=20, max_depth=2, F1=0.20476190476190476\n",
      "n_estimators=20, max_depth=3, F1=0.26146788990825687\n",
      "n_estimators=20, max_depth=4, F1=0.43373493975903615\n",
      "n_estimators=20, max_depth=5, F1=0.4639376218323587\n",
      "n_estimators=20, max_depth=6, F1=0.532608695652174\n",
      "n_estimators=20, max_depth=7, F1=0.5253623188405797\n",
      "n_estimators=20, max_depth=8, F1=0.558303886925795\n",
      "n_estimators=20, max_depth=9, F1=0.5634782608695652\n",
      "n_estimators=20, max_depth=10, F1=0.5724020442930153\n",
      "n_estimators=20, max_depth=11, F1=0.5704347826086957\n",
      "n_estimators=20, max_depth=12, F1=0.5627118644067797\n",
      "n_estimators=20, max_depth=13, F1=0.5604026845637583\n",
      "n_estimators=20, max_depth=14, F1=0.5514950166112956\n",
      "n_estimators=20, max_depth=15, F1=0.5844155844155844\n",
      "n_estimators=30, max_depth=1, F1=0.0\n",
      "n_estimators=30, max_depth=2, F1=0.21327014218009477\n",
      "n_estimators=30, max_depth=3, F1=0.25806451612903225\n",
      "n_estimators=30, max_depth=4, F1=0.45364891518737677\n",
      "n_estimators=30, max_depth=5, F1=0.4799999999999999\n",
      "n_estimators=30, max_depth=6, F1=0.55\n",
      "n_estimators=30, max_depth=7, F1=0.5369369369369369\n",
      "n_estimators=30, max_depth=8, F1=0.5541740674955595\n",
      "n_estimators=30, max_depth=9, F1=0.5454545454545454\n",
      "n_estimators=30, max_depth=10, F1=0.5830508474576271\n",
      "n_estimators=30, max_depth=11, F1=0.5699481865284974\n",
      "n_estimators=30, max_depth=12, F1=0.5621805792163543\n",
      "n_estimators=30, max_depth=13, F1=0.5656565656565656\n",
      "n_estimators=30, max_depth=14, F1=0.5575959933222037\n",
      "n_estimators=30, max_depth=15, F1=0.5766062602965404\n",
      "n_estimators=40, max_depth=1, F1=0.0\n",
      "n_estimators=40, max_depth=2, F1=0.20902612826603328\n",
      "n_estimators=40, max_depth=3, F1=0.25866050808314084\n",
      "n_estimators=40, max_depth=4, F1=0.5083487940630798\n",
      "n_estimators=40, max_depth=5, F1=0.5055762081784386\n",
      "n_estimators=40, max_depth=6, F1=0.5480427046263346\n",
      "n_estimators=40, max_depth=7, F1=0.5366726296958855\n",
      "n_estimators=40, max_depth=8, F1=0.5448028673835125\n",
      "n_estimators=40, max_depth=9, F1=0.5580589254766032\n",
      "n_estimators=40, max_depth=10, F1=0.5733788395904437\n",
      "n_estimators=40, max_depth=11, F1=0.5655172413793104\n",
      "n_estimators=40, max_depth=12, F1=0.5616438356164384\n",
      "n_estimators=40, max_depth=13, F1=0.5647840531561461\n",
      "n_estimators=40, max_depth=14, F1=0.5619834710743801\n",
      "n_estimators=40, max_depth=15, F1=0.578512396694215\n",
      "n_estimators=50, max_depth=1, F1=0.0\n",
      "n_estimators=50, max_depth=2, F1=0.16097560975609757\n",
      "n_estimators=50, max_depth=3, F1=0.2383177570093458\n",
      "n_estimators=50, max_depth=4, F1=0.5037878787878788\n",
      "n_estimators=50, max_depth=5, F1=0.5111940298507462\n",
      "n_estimators=50, max_depth=6, F1=0.5438282647584973\n",
      "n_estimators=50, max_depth=7, F1=0.5352622061482821\n",
      "n_estimators=50, max_depth=8, F1=0.5385996409335727\n",
      "n_estimators=50, max_depth=9, F1=0.5499124343257443\n",
      "n_estimators=50, max_depth=10, F1=0.5660377358490567\n",
      "n_estimators=50, max_depth=11, F1=0.5524475524475524\n",
      "n_estimators=50, max_depth=12, F1=0.5611015490533563\n",
      "n_estimators=50, max_depth=13, F1=0.5700000000000001\n",
      "n_estimators=50, max_depth=14, F1=0.5536912751677853\n",
      "n_estimators=50, max_depth=15, F1=0.5719008264462809\n",
      "n_estimators=60, max_depth=1, F1=0.0\n",
      "n_estimators=60, max_depth=2, F1=0.15647921760391198\n",
      "n_estimators=60, max_depth=3, F1=0.23419203747072603\n",
      "n_estimators=60, max_depth=4, F1=0.49142857142857144\n",
      "n_estimators=60, max_depth=5, F1=0.5102420856610801\n",
      "n_estimators=60, max_depth=6, F1=0.5496453900709221\n",
      "n_estimators=60, max_depth=7, F1=0.5431654676258993\n",
      "n_estimators=60, max_depth=8, F1=0.5428571428571429\n",
      "n_estimators=60, max_depth=9, F1=0.5559440559440559\n",
      "n_estimators=60, max_depth=10, F1=0.5655172413793104\n",
      "n_estimators=60, max_depth=11, F1=0.5530434782608695\n",
      "n_estimators=60, max_depth=12, F1=0.5636672325976232\n",
      "n_estimators=60, max_depth=13, F1=0.5613445378151262\n",
      "n_estimators=60, max_depth=14, F1=0.5605306799336649\n",
      "n_estimators=60, max_depth=15, F1=0.5613445378151262\n",
      "n_estimators=70, max_depth=1, F1=0.0\n",
      "n_estimators=70, max_depth=2, F1=0.16990291262135923\n",
      "n_estimators=70, max_depth=3, F1=0.22169811320754718\n",
      "n_estimators=70, max_depth=4, F1=0.48262548262548266\n",
      "n_estimators=70, max_depth=5, F1=0.5267034990791897\n",
      "n_estimators=70, max_depth=6, F1=0.5506216696269983\n",
      "n_estimators=70, max_depth=7, F1=0.5431654676258993\n",
      "n_estimators=70, max_depth=8, F1=0.539568345323741\n",
      "n_estimators=70, max_depth=9, F1=0.5565217391304348\n",
      "n_estimators=70, max_depth=10, F1=0.5660377358490567\n",
      "n_estimators=70, max_depth=11, F1=0.560553633217993\n",
      "n_estimators=70, max_depth=12, F1=0.564625850340136\n",
      "n_estimators=70, max_depth=13, F1=0.5709515859766277\n",
      "n_estimators=70, max_depth=14, F1=0.562396006655574\n",
      "n_estimators=70, max_depth=15, F1=0.5609348914858097\n",
      "n_estimators=80, max_depth=1, F1=0.0\n",
      "n_estimators=80, max_depth=2, F1=0.16545012165450118\n",
      "n_estimators=80, max_depth=3, F1=0.22588235294117645\n",
      "n_estimators=80, max_depth=4, F1=0.4875239923224568\n",
      "n_estimators=80, max_depth=5, F1=0.5230202578268877\n",
      "n_estimators=80, max_depth=6, F1=0.5480427046263346\n",
      "n_estimators=80, max_depth=7, F1=0.5457809694793537\n",
      "n_estimators=80, max_depth=8, F1=0.5350089766606823\n",
      "n_estimators=80, max_depth=9, F1=0.5543859649122806\n",
      "n_estimators=80, max_depth=10, F1=0.5660377358490567\n",
      "n_estimators=80, max_depth=11, F1=0.560553633217993\n",
      "n_estimators=80, max_depth=12, F1=0.5626072041166381\n",
      "n_estimators=80, max_depth=13, F1=0.5661641541038525\n",
      "n_estimators=80, max_depth=14, F1=0.5555555555555556\n",
      "n_estimators=80, max_depth=15, F1=0.5657237936772047\n",
      "n_estimators=90, max_depth=1, F1=0.0\n",
      "n_estimators=90, max_depth=2, F1=0.13366336633663367\n",
      "n_estimators=90, max_depth=3, F1=0.22588235294117645\n",
      "n_estimators=90, max_depth=4, F1=0.4678362573099415\n",
      "n_estimators=90, max_depth=5, F1=0.5257352941176471\n",
      "n_estimators=90, max_depth=6, F1=0.5516014234875445\n",
      "n_estimators=90, max_depth=7, F1=0.5398550724637682\n",
      "n_estimators=90, max_depth=8, F1=0.5342960288808665\n",
      "n_estimators=90, max_depth=9, F1=0.5483304042179262\n",
      "n_estimators=90, max_depth=10, F1=0.5565217391304348\n",
      "n_estimators=90, max_depth=11, F1=0.5599999999999999\n",
      "n_estimators=90, max_depth=12, F1=0.5591766723842195\n",
      "n_estimators=90, max_depth=13, F1=0.5656565656565656\n",
      "n_estimators=90, max_depth=14, F1=0.5690235690235691\n",
      "n_estimators=90, max_depth=15, F1=0.5609348914858097\n",
      "n_estimators=100, max_depth=1, F1=0.0\n",
      "n_estimators=100, max_depth=2, F1=0.16097560975609757\n",
      "n_estimators=100, max_depth=3, F1=0.22588235294117645\n",
      "n_estimators=100, max_depth=4, F1=0.48046875000000006\n",
      "n_estimators=100, max_depth=5, F1=0.5230202578268877\n",
      "n_estimators=100, max_depth=6, F1=0.55\n",
      "n_estimators=100, max_depth=7, F1=0.5352622061482821\n",
      "n_estimators=100, max_depth=8, F1=0.5342960288808665\n",
      "n_estimators=100, max_depth=9, F1=0.5473684210526316\n",
      "n_estimators=100, max_depth=10, F1=0.5640138408304498\n",
      "n_estimators=100, max_depth=11, F1=0.5625\n",
      "n_estimators=100, max_depth=12, F1=0.5591766723842195\n",
      "n_estimators=100, max_depth=13, F1=0.5647058823529412\n",
      "n_estimators=100, max_depth=14, F1=0.5617597292724196\n",
      "n_estimators=100, max_depth=15, F1=0.5681063122923589\n",
      "n_estimators=110, max_depth=1, F1=0.0\n",
      "n_estimators=110, max_depth=2, F1=0.16545012165450118\n",
      "n_estimators=110, max_depth=3, F1=0.22588235294117645\n",
      "n_estimators=110, max_depth=4, F1=0.48262548262548266\n",
      "n_estimators=110, max_depth=5, F1=0.5247706422018349\n",
      "n_estimators=110, max_depth=6, F1=0.5405405405405405\n",
      "n_estimators=110, max_depth=7, F1=0.5362318840579711\n",
      "n_estimators=110, max_depth=8, F1=0.5335753176043557\n",
      "n_estimators=110, max_depth=9, F1=0.5457746478873239\n",
      "n_estimators=110, max_depth=10, F1=0.5555555555555556\n",
      "n_estimators=110, max_depth=11, F1=0.5595854922279793\n",
      "n_estimators=110, max_depth=12, F1=0.5606837606837607\n",
      "n_estimators=110, max_depth=13, F1=0.5583756345177665\n",
      "n_estimators=110, max_depth=14, F1=0.5656565656565656\n",
      "n_estimators=110, max_depth=15, F1=0.5661641541038525\n",
      "n_estimators=120, max_depth=1, F1=0.0\n",
      "n_estimators=120, max_depth=2, F1=0.16097560975609757\n",
      "n_estimators=120, max_depth=3, F1=0.22588235294117645\n",
      "n_estimators=120, max_depth=4, F1=0.4796905222437138\n",
      "n_estimators=120, max_depth=5, F1=0.5185185185185186\n",
      "n_estimators=120, max_depth=6, F1=0.5405405405405405\n",
      "n_estimators=120, max_depth=7, F1=0.5362318840579711\n",
      "n_estimators=120, max_depth=8, F1=0.5333333333333333\n",
      "n_estimators=120, max_depth=9, F1=0.5483304042179262\n",
      "n_estimators=120, max_depth=10, F1=0.5555555555555556\n",
      "n_estimators=120, max_depth=11, F1=0.560553633217993\n",
      "n_estimators=120, max_depth=12, F1=0.5621805792163543\n",
      "n_estimators=120, max_depth=13, F1=0.5559322033898306\n",
      "n_estimators=120, max_depth=14, F1=0.5555555555555556\n",
      "n_estimators=120, max_depth=15, F1=0.5628140703517588\n",
      "n_estimators=130, max_depth=1, F1=0.0\n",
      "n_estimators=130, max_depth=2, F1=0.17433414043583534\n",
      "n_estimators=130, max_depth=3, F1=0.2300469483568075\n",
      "n_estimators=130, max_depth=4, F1=0.4737864077669904\n",
      "n_estimators=130, max_depth=5, F1=0.5202952029520296\n",
      "n_estimators=130, max_depth=6, F1=0.5379061371841155\n",
      "n_estimators=130, max_depth=7, F1=0.532608695652174\n",
      "n_estimators=130, max_depth=8, F1=0.5359712230215826\n",
      "n_estimators=130, max_depth=9, F1=0.5499124343257443\n",
      "n_estimators=130, max_depth=10, F1=0.5580589254766032\n",
      "n_estimators=130, max_depth=11, F1=0.5664939550949913\n",
      "n_estimators=130, max_depth=12, F1=0.5547945205479453\n",
      "n_estimators=130, max_depth=13, F1=0.5589225589225589\n",
      "n_estimators=130, max_depth=14, F1=0.5531197301854974\n",
      "n_estimators=130, max_depth=15, F1=0.5695142378559465\n",
      "n_estimators=140, max_depth=1, F1=0.0\n",
      "n_estimators=140, max_depth=2, F1=0.178743961352657\n",
      "n_estimators=140, max_depth=3, F1=0.2383177570093458\n",
      "n_estimators=140, max_depth=4, F1=0.4737864077669904\n",
      "n_estimators=140, max_depth=5, F1=0.5185185185185186\n",
      "n_estimators=140, max_depth=6, F1=0.5379061371841155\n",
      "n_estimators=140, max_depth=7, F1=0.5352622061482821\n",
      "n_estimators=140, max_depth=8, F1=0.5366726296958855\n",
      "n_estimators=140, max_depth=9, F1=0.5499124343257443\n",
      "n_estimators=140, max_depth=10, F1=0.5611015490533563\n",
      "n_estimators=140, max_depth=11, F1=0.5630397236614854\n",
      "n_estimators=140, max_depth=12, F1=0.5523156089193826\n",
      "n_estimators=140, max_depth=13, F1=0.5613445378151262\n",
      "n_estimators=140, max_depth=14, F1=0.5604026845637583\n",
      "n_estimators=140, max_depth=15, F1=0.5737976782752903\n",
      "n_estimators=150, max_depth=1, F1=0.0\n",
      "n_estimators=150, max_depth=2, F1=0.1875\n",
      "n_estimators=150, max_depth=3, F1=0.2424242424242424\n",
      "n_estimators=150, max_depth=4, F1=0.48262548262548266\n",
      "n_estimators=150, max_depth=5, F1=0.5230202578268877\n",
      "n_estimators=150, max_depth=6, F1=0.5421903052064632\n",
      "n_estimators=150, max_depth=7, F1=0.5369369369369369\n",
      "n_estimators=150, max_depth=8, F1=0.5402504472271914\n",
      "n_estimators=150, max_depth=9, F1=0.5524475524475524\n",
      "n_estimators=150, max_depth=10, F1=0.5655172413793104\n",
      "n_estimators=150, max_depth=11, F1=0.5664939550949913\n",
      "n_estimators=150, max_depth=12, F1=0.5470085470085471\n",
      "n_estimators=150, max_depth=13, F1=0.5568760611205433\n",
      "n_estimators=150, max_depth=14, F1=0.5521885521885521\n",
      "n_estimators=150, max_depth=15, F1=0.5676126878130217\n",
      "Best F1: 0.5844155844155844, max_depth: 15, n_estimators: 20\n"
     ]
    }
   ],
   "source": [
    "best_f1 = 0\n",
    "best_depth = 0\n",
    "best_est = 0\n",
    "for est in range(10, 151, 10):\n",
    "    for depth in range(1, 16):\n",
    "        model = model = RandomForestClassifier(n_estimators=est, max_depth=depth, random_state=rnd_state)\n",
    "        model.fit(features_train, target_train)\n",
    "        predicted_valid = model.predict(features_valid)\n",
    "        f1 = f1_score(target_valid, predicted_valid)\n",
    "        print(f\"n_estimators={est}, max_depth={depth}, F1={f1}\")\n",
    "        if f1 > best_f1:\n",
    "            best_f1 = f1\n",
    "            best_depth = depth\n",
    "            best_est = est\n",
    "\n",
    "\n",
    "print(f\"Best F1: {best_f1}, max_depth: {best_depth}, n_estimators: {best_est}\")"
   ]
  },
  {
   "cell_type": "markdown",
   "metadata": {},
   "source": [
    "<div class=\"alert alert-info\">\n",
    "Лучший результат при количестве: n_estimators = 20 : max_depth = 15:  F1 of valid: 0.5844155844155844\n",
    "</div>  "
   ]
  },
  {
   "cell_type": "markdown",
   "metadata": {},
   "source": [
    "Значение F1-меры у каждой из рассмотренных моделей меньше, чем в случае балансировки классов\n",
    "\n",
    "Уменьшеним выборку"
   ]
  },
  {
   "cell_type": "code",
   "execution_count": 46,
   "metadata": {},
   "outputs": [],
   "source": [
    "def downsample(features, target, fraction = 0.2):\n",
    "    features_zeros = features[target == 0]\n",
    "    features_ones = features[target == 1]\n",
    "    target_zeros = target[target == 0]\n",
    "    target_ones = target[target == 1]\n",
    "\n",
    "    features_downsampled = pd.concat(\n",
    "        [features_zeros.sample(frac=fraction, random_state=rnd_state)] + [features_ones]\n",
    "    )\n",
    "    target_downsampled = pd.concat(\n",
    "        [target_zeros.sample(frac=fraction, random_state=rnd_state)] + [target_ones]\n",
    "    )\n",
    "    \n",
    "    return features_downsampled, target_downsampled"
   ]
  },
  {
   "cell_type": "markdown",
   "metadata": {},
   "source": [
    "<div class=\"alert alert-warning\">\n",
    "<h2> Комментарий ревьюера <a class=\"tocSkip\"> </h2>\n",
    "    \n",
    "<b>Некоторые замечания и рекомендации💡:</b> \n",
    "\n",
    "Здесь уже близко к нужному коэффициенту, но правильнее будет 0.25\n",
    "       \n",
    "</div>"
   ]
  },
  {
   "cell_type": "code",
   "execution_count": 47,
   "metadata": {},
   "outputs": [],
   "source": [
    "def downsample(features, target, fraction = 0.25):\n",
    "    features_zeros = features[target == 0]\n",
    "    features_ones = features[target == 1]\n",
    "    target_zeros = target[target == 0]\n",
    "    target_ones = target[target == 1]\n",
    "\n",
    "    features_downsampled = pd.concat(\n",
    "        [features_zeros.sample(frac=fraction, random_state=rnd_state)] + [features_ones]\n",
    "    )\n",
    "    target_downsampled = pd.concat(\n",
    "        [target_zeros.sample(frac=fraction, random_state=rnd_state)] + [target_ones]\n",
    "    )\n",
    "    \n",
    "    return features_downsampled, target_downsampled"
   ]
  },
  {
   "cell_type": "markdown",
   "metadata": {},
   "source": [
    "<div class=\"alert alert-info\">\n",
    "При использовании коэффициента 0.25, это так же улучшело показатель F1 меры на разных моделях. Но он так же меньше чем в случае с сбалансированными классами. \n",
    "</div>  "
   ]
  },
  {
   "cell_type": "markdown",
   "metadata": {},
   "source": [
    "### Логистическая регрессия"
   ]
  },
  {
   "cell_type": "code",
   "execution_count": 48,
   "metadata": {
    "scrolled": true
   },
   "outputs": [
    {
     "name": "stdout",
     "output_type": "stream",
     "text": [
      "F1 of valid: 0.5044883303411131\n"
     ]
    },
    {
     "data": {
      "text/plain": [
       "LogisticRegression(random_state=12345, solver='liblinear')"
      ]
     },
     "execution_count": 48,
     "metadata": {},
     "output_type": "execute_result"
    }
   ],
   "source": [
    "model = LogisticRegression(solver='liblinear', random_state=rnd_state)\n",
    "train_and_predict(data_ohe, model, samplefunc=downsample)"
   ]
  },
  {
   "cell_type": "markdown",
   "metadata": {},
   "source": [
    "### Дерево решений"
   ]
  },
  {
   "cell_type": "code",
   "execution_count": 49,
   "metadata": {
    "scrolled": false
   },
   "outputs": [
    {
     "name": "stdout",
     "output_type": "stream",
     "text": [
      "max_depth 2:\tF1 of valid: 0.5100788781770377\n",
      "max_depth 4:\tF1 of valid: 0.5148861646234676\n",
      "max_depth 6:\tF1 of valid: 0.5376930063578564\n",
      "max_depth 8:\tF1 of valid: 0.5582255083179297\n",
      "max_depth 10:\tF1 of valid: 0.5018587360594795\n",
      "max_depth 12:\tF1 of valid: 0.4946043165467626\n",
      "max_depth 14:\tF1 of valid: 0.5018248175182481\n",
      "max_depth 16:\tF1 of valid: 0.4918918918918919\n",
      "max_depth 18:\tF1 of valid: 0.48446069469835473\n",
      "max_depth 20:\tF1 of valid: 0.48446069469835473\n"
     ]
    }
   ],
   "source": [
    "for max_depth in range(2, 22, 2):\n",
    "    model = DecisionTreeClassifier(max_depth=max_depth, random_state=rnd_state)\n",
    "    train_and_predict(data_ordinal, model, samplefunc=downsample, log_prefix=f'max_depth {max_depth}:\\t')"
   ]
  },
  {
   "cell_type": "markdown",
   "metadata": {},
   "source": [
    "Лучший результат при глубине 10: max_depth 10: F1 of valid: 0.5340699815837937"
   ]
  },
  {
   "cell_type": "markdown",
   "metadata": {},
   "source": [
    "### Случайный лес"
   ]
  },
  {
   "cell_type": "code",
   "execution_count": 50,
   "metadata": {
    "scrolled": false
   },
   "outputs": [
    {
     "name": "stdout",
     "output_type": "stream",
     "text": [
      "n_estimators = 10:\tF1 of valid: 0.5543792107795957\n",
      "n_estimators = 20:\tF1 of valid: 0.5583566760037347\n",
      "n_estimators = 30:\tF1 of valid: 0.5665071770334928\n",
      "n_estimators = 40:\tF1 of valid: 0.5640038498556305\n",
      "n_estimators = 50:\tF1 of valid: 0.5643469971401335\n",
      "n_estimators = 60:\tF1 of valid: 0.5640535372848948\n",
      "n_estimators = 70:\tF1 of valid: 0.5638599810785241\n",
      "n_estimators = 80:\tF1 of valid: 0.5603038936372269\n",
      "n_estimators = 90:\tF1 of valid: 0.5654648956356736\n",
      "n_estimators = 100:\tF1 of valid: 0.5673352435530086\n",
      "n_estimators = 110:\tF1 of valid: 0.5673352435530086\n",
      "n_estimators = 120:\tF1 of valid: 0.5673352435530086\n",
      "n_estimators = 130:\tF1 of valid: 0.564638783269962\n",
      "n_estimators = 140:\tF1 of valid: 0.5670498084291188\n",
      "n_estimators = 150:\tF1 of valid: 0.5659655831739961\n",
      "n_estimators = 160:\tF1 of valid: 0.564299424184261\n",
      "n_estimators = 170:\tF1 of valid: 0.5626794258373206\n",
      "n_estimators = 180:\tF1 of valid: 0.564299424184261\n",
      "n_estimators = 190:\tF1 of valid: 0.5681381957773513\n",
      "n_estimators = 200:\tF1 of valid: 0.5686839577329491\n"
     ]
    }
   ],
   "source": [
    "for estim in range(10, 201, 10):\n",
    "    model = RandomForestClassifier(n_estimators=estim, max_depth=4, random_state=rnd_state)\n",
    "    train_and_predict(data_ordinal, model, samplefunc=downsample, log_prefix=f'n_estimators = {estim}:\\t')"
   ]
  },
  {
   "cell_type": "markdown",
   "metadata": {},
   "source": [
    "Лучший результат при количестве деревьев 30: n_estimators = 30: F1 of valid: 0.5516074450084603"
   ]
  },
  {
   "cell_type": "markdown",
   "metadata": {},
   "source": [
    "<div class=\"alert alert-warning\">\n",
    "<h2> Комментарий ревьюера <a class=\"tocSkip\"> </h2>\n",
    "    \n",
    "<b>Некоторые замечания и рекомендации💡:</b> \n",
    "\n",
    "Напишу везде про два гиперпараметра, чтобы не забыть.\n",
    "       \n",
    "</div>"
   ]
  },
  {
   "cell_type": "code",
   "execution_count": 51,
   "metadata": {
    "scrolled": false
   },
   "outputs": [
    {
     "name": "stdout",
     "output_type": "stream",
     "text": [
      "n_estimators=10, max_depth=1, F1=0.47563352826510724\n",
      "n_estimators=10, max_depth=2, F1=0.47563352826510724\n",
      "n_estimators=10, max_depth=3, F1=0.47563352826510724\n",
      "n_estimators=10, max_depth=4, F1=0.47563352826510724\n",
      "n_estimators=10, max_depth=5, F1=0.47563352826510724\n",
      "n_estimators=10, max_depth=6, F1=0.47563352826510724\n",
      "n_estimators=10, max_depth=7, F1=0.47563352826510724\n",
      "n_estimators=10, max_depth=8, F1=0.47563352826510724\n",
      "n_estimators=10, max_depth=9, F1=0.47563352826510724\n",
      "n_estimators=10, max_depth=10, F1=0.47563352826510724\n",
      "n_estimators=10, max_depth=11, F1=0.47563352826510724\n",
      "n_estimators=10, max_depth=12, F1=0.47563352826510724\n",
      "n_estimators=10, max_depth=13, F1=0.47563352826510724\n",
      "n_estimators=10, max_depth=14, F1=0.47563352826510724\n",
      "n_estimators=10, max_depth=15, F1=0.47563352826510724\n",
      "n_estimators=20, max_depth=1, F1=0.47563352826510724\n",
      "n_estimators=20, max_depth=2, F1=0.47563352826510724\n",
      "n_estimators=20, max_depth=3, F1=0.47563352826510724\n",
      "n_estimators=20, max_depth=4, F1=0.47563352826510724\n",
      "n_estimators=20, max_depth=5, F1=0.47563352826510724\n",
      "n_estimators=20, max_depth=6, F1=0.47563352826510724\n",
      "n_estimators=20, max_depth=7, F1=0.47563352826510724\n",
      "n_estimators=20, max_depth=8, F1=0.47563352826510724\n",
      "n_estimators=20, max_depth=9, F1=0.47563352826510724\n",
      "n_estimators=20, max_depth=10, F1=0.47563352826510724\n",
      "n_estimators=20, max_depth=11, F1=0.47563352826510724\n",
      "n_estimators=20, max_depth=12, F1=0.47563352826510724\n",
      "n_estimators=20, max_depth=13, F1=0.47563352826510724\n",
      "n_estimators=20, max_depth=14, F1=0.47563352826510724\n",
      "n_estimators=20, max_depth=15, F1=0.47563352826510724\n",
      "n_estimators=30, max_depth=1, F1=0.47563352826510724\n",
      "n_estimators=30, max_depth=2, F1=0.47563352826510724\n",
      "n_estimators=30, max_depth=3, F1=0.47563352826510724\n",
      "n_estimators=30, max_depth=4, F1=0.47563352826510724\n",
      "n_estimators=30, max_depth=5, F1=0.47563352826510724\n",
      "n_estimators=30, max_depth=6, F1=0.47563352826510724\n",
      "n_estimators=30, max_depth=7, F1=0.47563352826510724\n",
      "n_estimators=30, max_depth=8, F1=0.47563352826510724\n",
      "n_estimators=30, max_depth=9, F1=0.47563352826510724\n",
      "n_estimators=30, max_depth=10, F1=0.47563352826510724\n",
      "n_estimators=30, max_depth=11, F1=0.47563352826510724\n",
      "n_estimators=30, max_depth=12, F1=0.47563352826510724\n",
      "n_estimators=30, max_depth=13, F1=0.47563352826510724\n",
      "n_estimators=30, max_depth=14, F1=0.47563352826510724\n",
      "n_estimators=30, max_depth=15, F1=0.47563352826510724\n",
      "n_estimators=40, max_depth=1, F1=0.47563352826510724\n",
      "n_estimators=40, max_depth=2, F1=0.47563352826510724\n",
      "n_estimators=40, max_depth=3, F1=0.47563352826510724\n",
      "n_estimators=40, max_depth=4, F1=0.47563352826510724\n",
      "n_estimators=40, max_depth=5, F1=0.47563352826510724\n",
      "n_estimators=40, max_depth=6, F1=0.47563352826510724\n",
      "n_estimators=40, max_depth=7, F1=0.47563352826510724\n",
      "n_estimators=40, max_depth=8, F1=0.47563352826510724\n",
      "n_estimators=40, max_depth=9, F1=0.47563352826510724\n",
      "n_estimators=40, max_depth=10, F1=0.47563352826510724\n",
      "n_estimators=40, max_depth=11, F1=0.47563352826510724\n",
      "n_estimators=40, max_depth=12, F1=0.47563352826510724\n",
      "n_estimators=40, max_depth=13, F1=0.47563352826510724\n",
      "n_estimators=40, max_depth=14, F1=0.47563352826510724\n",
      "n_estimators=40, max_depth=15, F1=0.47563352826510724\n",
      "n_estimators=50, max_depth=1, F1=0.47563352826510724\n",
      "n_estimators=50, max_depth=2, F1=0.47563352826510724\n",
      "n_estimators=50, max_depth=3, F1=0.47563352826510724\n",
      "n_estimators=50, max_depth=4, F1=0.47563352826510724\n",
      "n_estimators=50, max_depth=5, F1=0.47563352826510724\n",
      "n_estimators=50, max_depth=6, F1=0.47563352826510724\n",
      "n_estimators=50, max_depth=7, F1=0.47563352826510724\n",
      "n_estimators=50, max_depth=8, F1=0.47563352826510724\n",
      "n_estimators=50, max_depth=9, F1=0.47563352826510724\n",
      "n_estimators=50, max_depth=10, F1=0.47563352826510724\n",
      "n_estimators=50, max_depth=11, F1=0.47563352826510724\n",
      "n_estimators=50, max_depth=12, F1=0.47563352826510724\n",
      "n_estimators=50, max_depth=13, F1=0.47563352826510724\n",
      "n_estimators=50, max_depth=14, F1=0.47563352826510724\n",
      "n_estimators=50, max_depth=15, F1=0.47563352826510724\n",
      "n_estimators=60, max_depth=1, F1=0.47563352826510724\n",
      "n_estimators=60, max_depth=2, F1=0.47563352826510724\n",
      "n_estimators=60, max_depth=3, F1=0.47563352826510724\n",
      "n_estimators=60, max_depth=4, F1=0.47563352826510724\n",
      "n_estimators=60, max_depth=5, F1=0.47563352826510724\n",
      "n_estimators=60, max_depth=6, F1=0.47563352826510724\n",
      "n_estimators=60, max_depth=7, F1=0.47563352826510724\n",
      "n_estimators=60, max_depth=8, F1=0.47563352826510724\n",
      "n_estimators=60, max_depth=9, F1=0.47563352826510724\n",
      "n_estimators=60, max_depth=10, F1=0.47563352826510724\n",
      "n_estimators=60, max_depth=11, F1=0.47563352826510724\n",
      "n_estimators=60, max_depth=12, F1=0.47563352826510724\n",
      "n_estimators=60, max_depth=13, F1=0.47563352826510724\n",
      "n_estimators=60, max_depth=14, F1=0.47563352826510724\n",
      "n_estimators=60, max_depth=15, F1=0.47563352826510724\n",
      "n_estimators=70, max_depth=1, F1=0.47563352826510724\n",
      "n_estimators=70, max_depth=2, F1=0.47563352826510724\n",
      "n_estimators=70, max_depth=3, F1=0.47563352826510724\n",
      "n_estimators=70, max_depth=4, F1=0.47563352826510724\n",
      "n_estimators=70, max_depth=5, F1=0.47563352826510724\n",
      "n_estimators=70, max_depth=6, F1=0.47563352826510724\n",
      "n_estimators=70, max_depth=7, F1=0.47563352826510724\n",
      "n_estimators=70, max_depth=8, F1=0.47563352826510724\n",
      "n_estimators=70, max_depth=9, F1=0.47563352826510724\n",
      "n_estimators=70, max_depth=10, F1=0.47563352826510724\n",
      "n_estimators=70, max_depth=11, F1=0.47563352826510724\n",
      "n_estimators=70, max_depth=12, F1=0.47563352826510724\n",
      "n_estimators=70, max_depth=13, F1=0.47563352826510724\n",
      "n_estimators=70, max_depth=14, F1=0.47563352826510724\n",
      "n_estimators=70, max_depth=15, F1=0.47563352826510724\n",
      "n_estimators=80, max_depth=1, F1=0.47563352826510724\n",
      "n_estimators=80, max_depth=2, F1=0.47563352826510724\n",
      "n_estimators=80, max_depth=3, F1=0.47563352826510724\n",
      "n_estimators=80, max_depth=4, F1=0.47563352826510724\n",
      "n_estimators=80, max_depth=5, F1=0.47563352826510724\n",
      "n_estimators=80, max_depth=6, F1=0.47563352826510724\n",
      "n_estimators=80, max_depth=7, F1=0.47563352826510724\n",
      "n_estimators=80, max_depth=8, F1=0.47563352826510724\n",
      "n_estimators=80, max_depth=9, F1=0.47563352826510724\n",
      "n_estimators=80, max_depth=10, F1=0.47563352826510724\n",
      "n_estimators=80, max_depth=11, F1=0.47563352826510724\n",
      "n_estimators=80, max_depth=12, F1=0.47563352826510724\n",
      "n_estimators=80, max_depth=13, F1=0.47563352826510724\n",
      "n_estimators=80, max_depth=14, F1=0.47563352826510724\n",
      "n_estimators=80, max_depth=15, F1=0.47563352826510724\n",
      "n_estimators=90, max_depth=1, F1=0.47563352826510724\n",
      "n_estimators=90, max_depth=2, F1=0.47563352826510724\n",
      "n_estimators=90, max_depth=3, F1=0.47563352826510724\n",
      "n_estimators=90, max_depth=4, F1=0.47563352826510724\n",
      "n_estimators=90, max_depth=5, F1=0.47563352826510724\n",
      "n_estimators=90, max_depth=6, F1=0.47563352826510724\n",
      "n_estimators=90, max_depth=7, F1=0.47563352826510724\n",
      "n_estimators=90, max_depth=8, F1=0.47563352826510724\n",
      "n_estimators=90, max_depth=9, F1=0.47563352826510724\n",
      "n_estimators=90, max_depth=10, F1=0.47563352826510724\n",
      "n_estimators=90, max_depth=11, F1=0.47563352826510724\n",
      "n_estimators=90, max_depth=12, F1=0.47563352826510724\n",
      "n_estimators=90, max_depth=13, F1=0.47563352826510724\n",
      "n_estimators=90, max_depth=14, F1=0.47563352826510724\n",
      "n_estimators=90, max_depth=15, F1=0.47563352826510724\n",
      "n_estimators=100, max_depth=1, F1=0.47563352826510724\n",
      "n_estimators=100, max_depth=2, F1=0.47563352826510724\n",
      "n_estimators=100, max_depth=3, F1=0.47563352826510724\n",
      "n_estimators=100, max_depth=4, F1=0.47563352826510724\n",
      "n_estimators=100, max_depth=5, F1=0.47563352826510724\n",
      "n_estimators=100, max_depth=6, F1=0.47563352826510724\n",
      "n_estimators=100, max_depth=7, F1=0.47563352826510724\n",
      "n_estimators=100, max_depth=8, F1=0.47563352826510724\n",
      "n_estimators=100, max_depth=9, F1=0.47563352826510724\n",
      "n_estimators=100, max_depth=10, F1=0.47563352826510724\n",
      "n_estimators=100, max_depth=11, F1=0.47563352826510724\n",
      "n_estimators=100, max_depth=12, F1=0.47563352826510724\n",
      "n_estimators=100, max_depth=13, F1=0.47563352826510724\n",
      "n_estimators=100, max_depth=14, F1=0.47563352826510724\n",
      "n_estimators=100, max_depth=15, F1=0.47563352826510724\n",
      "n_estimators=110, max_depth=1, F1=0.47563352826510724\n",
      "n_estimators=110, max_depth=2, F1=0.47563352826510724\n",
      "n_estimators=110, max_depth=3, F1=0.47563352826510724\n",
      "n_estimators=110, max_depth=4, F1=0.47563352826510724\n",
      "n_estimators=110, max_depth=5, F1=0.47563352826510724\n",
      "n_estimators=110, max_depth=6, F1=0.47563352826510724\n",
      "n_estimators=110, max_depth=7, F1=0.47563352826510724\n",
      "n_estimators=110, max_depth=8, F1=0.47563352826510724\n",
      "n_estimators=110, max_depth=9, F1=0.47563352826510724\n",
      "n_estimators=110, max_depth=10, F1=0.47563352826510724\n",
      "n_estimators=110, max_depth=11, F1=0.47563352826510724\n",
      "n_estimators=110, max_depth=12, F1=0.47563352826510724\n",
      "n_estimators=110, max_depth=13, F1=0.47563352826510724\n",
      "n_estimators=110, max_depth=14, F1=0.47563352826510724\n",
      "n_estimators=110, max_depth=15, F1=0.47563352826510724\n",
      "n_estimators=120, max_depth=1, F1=0.47563352826510724\n",
      "n_estimators=120, max_depth=2, F1=0.47563352826510724\n",
      "n_estimators=120, max_depth=3, F1=0.47563352826510724\n",
      "n_estimators=120, max_depth=4, F1=0.47563352826510724\n",
      "n_estimators=120, max_depth=5, F1=0.47563352826510724\n",
      "n_estimators=120, max_depth=6, F1=0.47563352826510724\n",
      "n_estimators=120, max_depth=7, F1=0.47563352826510724\n",
      "n_estimators=120, max_depth=8, F1=0.47563352826510724\n",
      "n_estimators=120, max_depth=9, F1=0.47563352826510724\n",
      "n_estimators=120, max_depth=10, F1=0.47563352826510724\n",
      "n_estimators=120, max_depth=11, F1=0.47563352826510724\n",
      "n_estimators=120, max_depth=12, F1=0.47563352826510724\n",
      "n_estimators=120, max_depth=13, F1=0.47563352826510724\n",
      "n_estimators=120, max_depth=14, F1=0.47563352826510724\n",
      "n_estimators=120, max_depth=15, F1=0.47563352826510724\n",
      "n_estimators=130, max_depth=1, F1=0.47563352826510724\n",
      "n_estimators=130, max_depth=2, F1=0.47563352826510724\n",
      "n_estimators=130, max_depth=3, F1=0.47563352826510724\n",
      "n_estimators=130, max_depth=4, F1=0.47563352826510724\n",
      "n_estimators=130, max_depth=5, F1=0.47563352826510724\n",
      "n_estimators=130, max_depth=6, F1=0.47563352826510724\n",
      "n_estimators=130, max_depth=7, F1=0.47563352826510724\n",
      "n_estimators=130, max_depth=8, F1=0.47563352826510724\n",
      "n_estimators=130, max_depth=9, F1=0.47563352826510724\n",
      "n_estimators=130, max_depth=10, F1=0.47563352826510724\n",
      "n_estimators=130, max_depth=11, F1=0.47563352826510724\n",
      "n_estimators=130, max_depth=12, F1=0.47563352826510724\n",
      "n_estimators=130, max_depth=13, F1=0.47563352826510724\n",
      "n_estimators=130, max_depth=14, F1=0.47563352826510724\n",
      "n_estimators=130, max_depth=15, F1=0.47563352826510724\n",
      "n_estimators=140, max_depth=1, F1=0.47563352826510724\n",
      "n_estimators=140, max_depth=2, F1=0.47563352826510724\n",
      "n_estimators=140, max_depth=3, F1=0.47563352826510724\n",
      "n_estimators=140, max_depth=4, F1=0.47563352826510724\n",
      "n_estimators=140, max_depth=5, F1=0.47563352826510724\n",
      "n_estimators=140, max_depth=6, F1=0.47563352826510724\n",
      "n_estimators=140, max_depth=7, F1=0.47563352826510724\n",
      "n_estimators=140, max_depth=8, F1=0.47563352826510724\n",
      "n_estimators=140, max_depth=9, F1=0.47563352826510724\n",
      "n_estimators=140, max_depth=10, F1=0.47563352826510724\n",
      "n_estimators=140, max_depth=11, F1=0.47563352826510724\n",
      "n_estimators=140, max_depth=12, F1=0.47563352826510724\n",
      "n_estimators=140, max_depth=13, F1=0.47563352826510724\n",
      "n_estimators=140, max_depth=14, F1=0.47563352826510724\n",
      "n_estimators=140, max_depth=15, F1=0.47563352826510724\n",
      "n_estimators=150, max_depth=1, F1=0.47563352826510724\n",
      "n_estimators=150, max_depth=2, F1=0.47563352826510724\n",
      "n_estimators=150, max_depth=3, F1=0.47563352826510724\n",
      "n_estimators=150, max_depth=4, F1=0.47563352826510724\n",
      "n_estimators=150, max_depth=5, F1=0.47563352826510724\n",
      "n_estimators=150, max_depth=6, F1=0.47563352826510724\n",
      "n_estimators=150, max_depth=7, F1=0.47563352826510724\n",
      "n_estimators=150, max_depth=8, F1=0.47563352826510724\n",
      "n_estimators=150, max_depth=9, F1=0.47563352826510724\n",
      "n_estimators=150, max_depth=10, F1=0.47563352826510724\n",
      "n_estimators=150, max_depth=11, F1=0.47563352826510724\n",
      "n_estimators=150, max_depth=12, F1=0.47563352826510724\n",
      "n_estimators=150, max_depth=13, F1=0.47563352826510724\n",
      "n_estimators=150, max_depth=14, F1=0.47563352826510724\n",
      "n_estimators=150, max_depth=15, F1=0.47563352826510724\n",
      "Best F1: 0.47563352826510724, max_depth: 1, n_estimators: 10\n"
     ]
    }
   ],
   "source": [
    "best_f1 = 0\n",
    "best_depth = 0\n",
    "best_est = 0\n",
    "for est in range(10, 151, 10):\n",
    "    for depth in range(1, 16):\n",
    "        RandomForestClassifier(n_estimators=est, max_depth=depth, random_state=rnd_state)\n",
    "        model.fit(features_train, target_train)\n",
    "        predicted_valid = model.predict(features_valid)\n",
    "        f1 = f1_score(target_valid, predicted_valid)\n",
    "        print(f\"n_estimators={est}, max_depth={depth}, F1={f1}\")\n",
    "        if f1 > best_f1:\n",
    "            best_f1 = f1\n",
    "            best_depth = depth\n",
    "            best_est = est\n",
    "\n",
    "\n",
    "print(f\"Best F1: {best_f1}, max_depth: {best_depth}, n_estimators: {best_est}\")"
   ]
  },
  {
   "cell_type": "markdown",
   "metadata": {},
   "source": [
    "<div class=\"alert alert-info\">\n",
    "Лучший результат при количестве: n_estimators = 10 : max_depth = 1:  F1 of valid: 0.47563352826510724\n",
    "</div>  "
   ]
  },
  {
   "cell_type": "markdown",
   "metadata": {},
   "source": [
    "Значение F1-меры у каждой из рассмотренных моделей меньше, чем в случае балансировки классов. В случае Decision Tree Classifier разница мала."
   ]
  },
  {
   "cell_type": "markdown",
   "metadata": {},
   "source": [
    "## Тестирование модели"
   ]
  },
  {
   "cell_type": "markdown",
   "metadata": {},
   "source": [
    "Лучший результат показала модель Random Forest Classifier с глубиной 9 и количеством деревьев 150"
   ]
  },
  {
   "cell_type": "code",
   "execution_count": 52,
   "metadata": {},
   "outputs": [
    {
     "name": "stdout",
     "output_type": "stream",
     "text": [
      "valid: 0.6372549019607844\n",
      "test: 0.5955204216073782\n"
     ]
    }
   ],
   "source": [
    "target, features = make_target_features(data_ordinal)\n",
    "features_train, features_valid, features_test, target_train, target_valid, target_test = split_data(features, target)\n",
    "\n",
    "model = RandomForestClassifier(class_weight='balanced', n_estimators=150, max_depth=9, random_state=rnd_state)\n",
    "model.fit(features_train, target_train)\n",
    "\n",
    "predicted_valid = model.predict(features_valid)\n",
    "print('valid:', f1_score(target_valid, predicted_valid))\n",
    "\n",
    "predicted_test = model.predict(features_test)\n",
    "print('test:', f1_score(target_test, predicted_test))"
   ]
  },
  {
   "cell_type": "markdown",
   "metadata": {},
   "source": [
    "<div class=\"alert alert-block alert-danger\">\n",
    "<h2><s> Комментарий ревьюера <a class=\"tocSkip\"></h2>\n",
    "  \n",
    "<b>На доработку🤔:</b>\n",
    " \n",
    "Пока не дотянули по качеству. Как раз, думаю, поможет подбор гиперпараметров.\n",
    "\n",
    "</div>\n"
   ]
  },
  {
   "cell_type": "markdown",
   "metadata": {},
   "source": [
    "<div class=\"alert alert-info\">\n",
    "С новыми параметрами глубины и этиматоров, значение F1 укладывается в необходимые по заданию\n",
    "</div> "
   ]
  },
  {
   "cell_type": "markdown",
   "metadata": {},
   "source": [
    "<div class=\"alert alert-success\">\n",
    "<h2> Комментарий ревьюера #2 <a class=\"tocSkip\"> </h2>\n",
    "\n",
    "👍 Теперь все отлично.\n",
    "</div>"
   ]
  },
  {
   "cell_type": "markdown",
   "metadata": {},
   "source": [
    "Посчитаем AUC-ROC для нашей модели и посмотрим насколько она лучше случайной модели"
   ]
  },
  {
   "cell_type": "code",
   "execution_count": 53,
   "metadata": {},
   "outputs": [
    {
     "data": {
      "text/plain": [
       "0.8661314994560585"
      ]
     },
     "execution_count": 53,
     "metadata": {},
     "output_type": "execute_result"
    }
   ],
   "source": [
    "probabilities_valid = model.predict_proba(features_valid)\n",
    "probabilities_one_valid = probabilities_valid[:, 1]\n",
    "\n",
    "roc_auc_score(target_valid, probabilities_one_valid)"
   ]
  },
  {
   "cell_type": "markdown",
   "metadata": {},
   "source": [
    "<div class=\"alert alert-success\">\n",
    "<h2> Комментарий ревьюера <a class=\"tocSkip\"> </h2>\n",
    "\n",
    "👍 Всё верно  \n",
    "</div>  \n",
    "\n"
   ]
  },
  {
   "cell_type": "markdown",
   "metadata": {},
   "source": [
    "<div class=\"alert alert-warning\">\n",
    "<h2> Комментарий ревьюера <a class=\"tocSkip\"> </h2>\n",
    "    \n",
    "<b>Некоторые замечания и рекомендации💡:</b> \n",
    "\n",
    "\n",
    "Я бы добавил сравнение по f1-мере с константной моделью, также можно посмотреть recall и прокомментировать, какую долю клиентов на отток модель верно детектирует.\n",
    "***\n",
    "\n",
    "Здесь в дамми-модели я бы предсказал везде «1». Условно говоря, если предсказываем ноль, моделируем ситуацию, когда акцию с бонусами для удержания клиентов решили не проводить. Если предсказываем единицу − решили раздать бонусы вообще всем клиентам. Если в дамми-модели предсказываем по единице, можно подсчитать F1, она не будет зануляться.\n",
    "    \n",
    "`dummy_model = DummyClassifier(strategy='constant', constant=1)\n",
    "dummy_model.fit(features_train, target_train)\n",
    "f1_score(dummy_model.predict(features_test), target_test)`\n",
    "    \n",
    "Импорт: from sklearn.dummy import DummyClassifier\n",
    "\n",
    "       \n",
    "</div>\n",
    "\n"
   ]
  },
  {
   "cell_type": "markdown",
   "metadata": {},
   "source": [
    "## Вывод\n",
    "\n",
    "В работе были рассмотрены несколько методов, как увеличить требуемые показания. Метод: баланссировки классов, увеличения и уменьшения выборки.\n",
    "\n",
    "Проведено исследование работы трёх вариантов расчетов на основе моделей: \n",
    "* Случайный лес\n",
    "* Дерево решений\n",
    "* Логистическая регрессия\n",
    "\n",
    "Наиболее эффективным оказался случайный лес, но он требует больше времени на расчет модели.\n",
    "\n",
    "В конечнои итоге, были получены показания F1 меры не менее тех, которые требовались в рамках данного проекта."
   ]
  },
  {
   "cell_type": "markdown",
   "metadata": {},
   "source": [
    "<div style=\"border:solid Chocolate 2px; padding: 40px\">\n",
    "\n",
    "**Общий вывод по проекту**\n",
    "    \n",
    "Спасибо за твой проект! Есть несколько важных моментов, которые необходимо улучшить. Их ты найдешь в разноцветных комментариях.\n",
    "    \n",
    "**Отмечу положительные моменты проекта🚀**\n",
    "    \n",
    "* Хорошая структура проекта. Выбор моделей, порядок исследования.\n",
    "* Отличная предобработка.\n",
    "* Хорошая автоматизация решений, подбор гиперпараметров в функции.\n",
    "* Есть пояснения к шагам, код с высокой читаемостью. \n",
    "* Логичность решений.\n",
    "    \n",
    "**На что стоит обратить внимание🤔**\n",
    "    \n",
    "* В Случайном лесе важно подобрать глубину и количество деревьев.\n",
    "* Апсемплинг и даунсемплинг необходимо сделать с верным коэффициентом и до равенства классов (у нас дисбаланс 1:4, нужно будет умножать на 4 или на 0.25 соответственно).\n",
    "* Необходимо достичь качества модели F1>0.59\n",
    "* Важно добавить общий вывод по проекту.\n",
    "* Эти и остальные замечания я также написал по ходу проекта.\n",
    "    \n",
    "**Желаю удачи и жду твой проект на повторное ревью!**😉\n",
    "    \n",
    "    \n",
    "</div>\n"
   ]
  },
  {
   "cell_type": "markdown",
   "metadata": {},
   "source": [
    "<div style=\"border:solid Chocolate 2px; padding: 40px\">\n",
    "\n",
    "**Комментарий ко второй проверке**\n",
    "\n",
    "Спасибо за доработку. Критичных комментариев нет. \n",
    "    \n",
    "Есть одно замечание по схеме проекта. Написал его выше, продублирую здесь: «в проектах лучше делать три шага: предобработку (здесь полностью готовим выборки), и только после этого исследование моделей, затем тестирование. У тебя получился перехлест, ты обучил модель до того как закончил с подготовкой данных. Это противоречит принципу GIGO, из такого обучения мы не можем извлечь полезной и звслуживающей доверия информации».\n",
    "\n",
    "Желаю удачи в дальнейшей учебе!\n",
    "\n",
    "</div>\n"
   ]
  },
  {
   "cell_type": "markdown",
   "metadata": {},
   "source": [
    "## Чек-лист готовности проекта"
   ]
  },
  {
   "cell_type": "markdown",
   "metadata": {},
   "source": [
    "Поставьте 'x' в выполненных пунктах. Далее нажмите Shift+Enter."
   ]
  },
  {
   "cell_type": "markdown",
   "metadata": {},
   "source": [
    "- [x]  Jupyter Notebook открыт\n",
    "- [x]  Весь код выполняется без ошибок\n",
    "- [x]  Ячейки с кодом расположены в порядке исполнения\n",
    "- [x]  Выполнен шаг 1: данные подготовлены\n",
    "- [x]  Выполнен шаг 2: задача исследована\n",
    "    - [x]  Исследован баланс классов\n",
    "    - [x]  Изучены модели без учёта дисбаланса\n",
    "    - [x]  Написаны выводы по результатам исследования\n",
    "- [x]  Выполнен шаг 3: учтён дисбаланс\n",
    "    - [x]  Применено несколько способов борьбы с дисбалансом\n",
    "    - [x]  Написаны выводы по результатам исследования\n",
    "- [x]  Выполнен шаг 4: проведено тестирование\n",
    "- [x]  Удалось достичь *F1*-меры не менее 0.59\n",
    "- [x]  Исследована метрика *AUC-ROC*"
   ]
  },
  {
   "cell_type": "code",
   "execution_count": null,
   "metadata": {},
   "outputs": [],
   "source": []
  }
 ],
 "metadata": {
  "ExecuteTimeLog": [
   {
    "duration": 1636,
    "start_time": "2023-04-14T11:57:18.925Z"
   },
   {
    "duration": 371,
    "start_time": "2023-04-14T11:57:31.772Z"
   },
   {
    "duration": 12,
    "start_time": "2023-04-14T11:57:41.198Z"
   },
   {
    "duration": 2,
    "start_time": "2023-04-14T11:58:06.493Z"
   },
   {
    "duration": 15,
    "start_time": "2023-04-14T11:58:13.372Z"
   },
   {
    "duration": 18,
    "start_time": "2023-04-14T11:58:30.083Z"
   },
   {
    "duration": 4,
    "start_time": "2023-04-14T11:58:41.901Z"
   },
   {
    "duration": 5,
    "start_time": "2023-04-14T11:58:53.790Z"
   },
   {
    "duration": 6,
    "start_time": "2023-04-14T11:59:06.622Z"
   },
   {
    "duration": 5,
    "start_time": "2023-04-14T11:59:16.702Z"
   },
   {
    "duration": 5,
    "start_time": "2023-04-14T11:59:34.982Z"
   },
   {
    "duration": 5,
    "start_time": "2023-04-14T11:59:46.703Z"
   },
   {
    "duration": 6,
    "start_time": "2023-04-14T11:59:58.879Z"
   },
   {
    "duration": 5,
    "start_time": "2023-04-14T12:02:28.659Z"
   },
   {
    "duration": 6,
    "start_time": "2023-04-14T12:02:39.206Z"
   },
   {
    "duration": 2,
    "start_time": "2023-04-14T12:02:52.198Z"
   },
   {
    "duration": 3,
    "start_time": "2023-04-14T12:03:13.324Z"
   },
   {
    "duration": 148,
    "start_time": "2023-04-14T12:03:19.823Z"
   },
   {
    "duration": 114,
    "start_time": "2023-04-14T12:03:31.811Z"
   },
   {
    "duration": 114,
    "start_time": "2023-04-14T12:03:42.935Z"
   },
   {
    "duration": 113,
    "start_time": "2023-04-14T12:03:54.151Z"
   },
   {
    "duration": 115,
    "start_time": "2023-04-14T12:04:00.935Z"
   },
   {
    "duration": 197,
    "start_time": "2023-04-14T12:04:14.615Z"
   },
   {
    "duration": 136,
    "start_time": "2023-04-14T12:04:38.505Z"
   },
   {
    "duration": 105,
    "start_time": "2023-04-14T12:04:50.216Z"
   },
   {
    "duration": 448,
    "start_time": "2023-04-14T12:05:00.009Z"
   },
   {
    "duration": 4,
    "start_time": "2023-04-14T12:12:06.045Z"
   },
   {
    "duration": 2,
    "start_time": "2023-04-14T12:12:14.231Z"
   },
   {
    "duration": 5,
    "start_time": "2023-04-14T12:12:41.191Z"
   },
   {
    "duration": 4,
    "start_time": "2023-04-14T12:13:03.612Z"
   },
   {
    "duration": 10,
    "start_time": "2023-04-14T12:13:28.295Z"
   },
   {
    "duration": 6,
    "start_time": "2023-04-14T12:14:05.498Z"
   },
   {
    "duration": 26,
    "start_time": "2023-04-14T12:14:36.218Z"
   },
   {
    "duration": 20,
    "start_time": "2023-04-14T12:20:28.747Z"
   },
   {
    "duration": 45,
    "start_time": "2023-04-14T12:21:14.805Z"
   },
   {
    "duration": 392,
    "start_time": "2023-04-14T12:27:34.944Z"
   },
   {
    "duration": 7509,
    "start_time": "2023-04-14T12:29:53.683Z"
   },
   {
    "duration": 97,
    "start_time": "2023-04-14T12:40:34.579Z"
   },
   {
    "duration": 422,
    "start_time": "2023-04-14T12:42:01.940Z"
   },
   {
    "duration": 9583,
    "start_time": "2023-04-14T13:19:25.038Z"
   },
   {
    "duration": 4,
    "start_time": "2023-04-14T13:20:56.688Z"
   },
   {
    "duration": 1429,
    "start_time": "2023-04-14T13:21:02.109Z"
   },
   {
    "duration": 41,
    "start_time": "2023-04-14T13:21:03.540Z"
   },
   {
    "duration": 12,
    "start_time": "2023-04-14T13:21:03.582Z"
   },
   {
    "duration": 3,
    "start_time": "2023-04-14T13:21:03.596Z"
   },
   {
    "duration": 19,
    "start_time": "2023-04-14T13:21:03.600Z"
   },
   {
    "duration": 17,
    "start_time": "2023-04-14T13:21:03.620Z"
   },
   {
    "duration": 4,
    "start_time": "2023-04-14T13:21:03.638Z"
   },
   {
    "duration": 31,
    "start_time": "2023-04-14T13:21:03.643Z"
   },
   {
    "duration": 7,
    "start_time": "2023-04-14T13:21:03.675Z"
   },
   {
    "duration": 6,
    "start_time": "2023-04-14T13:21:03.684Z"
   },
   {
    "duration": 7,
    "start_time": "2023-04-14T13:21:03.692Z"
   },
   {
    "duration": 6,
    "start_time": "2023-04-14T13:21:03.700Z"
   },
   {
    "duration": 7,
    "start_time": "2023-04-14T13:21:03.707Z"
   },
   {
    "duration": 6,
    "start_time": "2023-04-14T13:21:03.715Z"
   },
   {
    "duration": 6,
    "start_time": "2023-04-14T13:21:03.722Z"
   },
   {
    "duration": 5,
    "start_time": "2023-04-14T13:21:03.730Z"
   },
   {
    "duration": 6,
    "start_time": "2023-04-14T13:21:03.736Z"
   },
   {
    "duration": 165,
    "start_time": "2023-04-14T13:21:03.772Z"
   },
   {
    "duration": 134,
    "start_time": "2023-04-14T13:21:03.938Z"
   },
   {
    "duration": 129,
    "start_time": "2023-04-14T13:21:04.073Z"
   },
   {
    "duration": 132,
    "start_time": "2023-04-14T13:21:04.203Z"
   },
   {
    "duration": 217,
    "start_time": "2023-04-14T13:21:04.336Z"
   },
   {
    "duration": 129,
    "start_time": "2023-04-14T13:21:04.554Z"
   },
   {
    "duration": 505,
    "start_time": "2023-04-14T13:21:04.685Z"
   },
   {
    "duration": 4,
    "start_time": "2023-04-14T13:21:05.191Z"
   },
   {
    "duration": 20,
    "start_time": "2023-04-14T13:21:05.196Z"
   },
   {
    "duration": 13,
    "start_time": "2023-04-14T13:21:05.218Z"
   },
   {
    "duration": 7,
    "start_time": "2023-04-14T13:21:05.234Z"
   },
   {
    "duration": 18,
    "start_time": "2023-04-14T13:21:05.242Z"
   },
   {
    "duration": 6,
    "start_time": "2023-04-14T13:21:05.261Z"
   },
   {
    "duration": 29,
    "start_time": "2023-04-14T13:21:05.268Z"
   },
   {
    "duration": 75,
    "start_time": "2023-04-14T13:21:05.298Z"
   },
   {
    "duration": 463,
    "start_time": "2023-04-14T13:21:05.375Z"
   },
   {
    "duration": 7221,
    "start_time": "2023-04-14T13:21:05.840Z"
   },
   {
    "duration": 49,
    "start_time": "2023-04-14T13:21:13.063Z"
   },
   {
    "duration": 463,
    "start_time": "2023-04-14T13:21:13.172Z"
   },
   {
    "duration": 9072,
    "start_time": "2023-04-14T13:21:13.638Z"
   },
   {
    "duration": 3,
    "start_time": "2023-04-14T13:23:18.788Z"
   },
   {
    "duration": 125,
    "start_time": "2023-04-14T13:23:54.550Z"
   },
   {
    "duration": 565,
    "start_time": "2023-04-14T13:24:30.136Z"
   },
   {
    "duration": 24522,
    "start_time": "2023-04-14T13:34:35.669Z"
   },
   {
    "duration": 4,
    "start_time": "2023-04-14T13:37:25.002Z"
   },
   {
    "duration": 44,
    "start_time": "2023-04-14T13:37:59.355Z"
   },
   {
    "duration": 276,
    "start_time": "2023-04-14T13:38:42.877Z"
   },
   {
    "duration": 4378,
    "start_time": "2023-04-14T13:40:07.584Z"
   },
   {
    "duration": 291,
    "start_time": "2023-04-14T13:44:14.727Z"
   },
   {
    "duration": 20,
    "start_time": "2023-04-14T13:44:58.790Z"
   },
   {
    "duration": 1290,
    "start_time": "2023-04-14T13:52:56.790Z"
   },
   {
    "duration": 44,
    "start_time": "2023-04-14T13:52:58.082Z"
   },
   {
    "duration": 15,
    "start_time": "2023-04-14T13:52:58.127Z"
   },
   {
    "duration": 3,
    "start_time": "2023-04-14T13:52:58.143Z"
   },
   {
    "duration": 37,
    "start_time": "2023-04-14T13:52:58.148Z"
   },
   {
    "duration": 29,
    "start_time": "2023-04-14T13:52:58.186Z"
   },
   {
    "duration": 5,
    "start_time": "2023-04-14T13:52:58.216Z"
   },
   {
    "duration": 10,
    "start_time": "2023-04-14T13:52:58.222Z"
   },
   {
    "duration": 9,
    "start_time": "2023-04-14T13:52:58.233Z"
   },
   {
    "duration": 7,
    "start_time": "2023-04-14T13:52:58.243Z"
   },
   {
    "duration": 5,
    "start_time": "2023-04-14T13:52:58.252Z"
   },
   {
    "duration": 4,
    "start_time": "2023-04-14T13:52:58.259Z"
   },
   {
    "duration": 32,
    "start_time": "2023-04-14T13:52:58.265Z"
   },
   {
    "duration": 13,
    "start_time": "2023-04-14T13:52:58.299Z"
   },
   {
    "duration": 21,
    "start_time": "2023-04-14T13:52:58.313Z"
   },
   {
    "duration": 6,
    "start_time": "2023-04-14T13:52:58.335Z"
   },
   {
    "duration": 6,
    "start_time": "2023-04-14T13:52:58.342Z"
   },
   {
    "duration": 192,
    "start_time": "2023-04-14T13:52:58.349Z"
   },
   {
    "duration": 161,
    "start_time": "2023-04-14T13:52:58.543Z"
   },
   {
    "duration": 168,
    "start_time": "2023-04-14T13:52:58.706Z"
   },
   {
    "duration": 159,
    "start_time": "2023-04-14T13:52:58.877Z"
   },
   {
    "duration": 184,
    "start_time": "2023-04-14T13:52:59.039Z"
   },
   {
    "duration": 144,
    "start_time": "2023-04-14T13:52:59.225Z"
   },
   {
    "duration": 651,
    "start_time": "2023-04-14T13:52:59.370Z"
   },
   {
    "duration": 5,
    "start_time": "2023-04-14T13:53:00.022Z"
   },
   {
    "duration": 24,
    "start_time": "2023-04-14T13:53:00.028Z"
   },
   {
    "duration": 12,
    "start_time": "2023-04-14T13:53:00.054Z"
   },
   {
    "duration": 35,
    "start_time": "2023-04-14T13:53:00.068Z"
   },
   {
    "duration": 17,
    "start_time": "2023-04-14T13:53:00.104Z"
   },
   {
    "duration": 21,
    "start_time": "2023-04-14T13:53:00.123Z"
   },
   {
    "duration": 60,
    "start_time": "2023-04-14T13:53:00.145Z"
   },
   {
    "duration": 89,
    "start_time": "2023-04-14T13:53:00.207Z"
   },
   {
    "duration": 506,
    "start_time": "2023-04-14T13:53:00.298Z"
   },
   {
    "duration": 7803,
    "start_time": "2023-04-14T13:53:00.805Z"
   },
   {
    "duration": 90,
    "start_time": "2023-04-14T13:53:08.610Z"
   },
   {
    "duration": 477,
    "start_time": "2023-04-14T13:53:08.701Z"
   },
   {
    "duration": 9778,
    "start_time": "2023-04-14T13:53:09.180Z"
   },
   {
    "duration": 4,
    "start_time": "2023-04-14T13:53:18.959Z"
   },
   {
    "duration": 138,
    "start_time": "2023-04-14T13:53:18.965Z"
   },
   {
    "duration": 683,
    "start_time": "2023-04-14T13:53:19.106Z"
   },
   {
    "duration": 24870,
    "start_time": "2023-04-14T13:53:19.795Z"
   },
   {
    "duration": 4,
    "start_time": "2023-04-14T13:53:44.666Z"
   },
   {
    "duration": 119,
    "start_time": "2023-04-14T13:53:44.671Z"
   },
   {
    "duration": 390,
    "start_time": "2023-04-14T13:53:44.792Z"
   },
   {
    "duration": 5130,
    "start_time": "2023-04-14T13:53:45.183Z"
   },
   {
    "duration": 355,
    "start_time": "2023-04-14T13:53:50.315Z"
   },
   {
    "duration": 31,
    "start_time": "2023-04-14T13:53:50.672Z"
   },
   {
    "duration": 50,
    "start_time": "2023-04-14T15:38:04.935Z"
   },
   {
    "duration": 1711,
    "start_time": "2023-04-14T15:38:15.658Z"
   },
   {
    "duration": 95,
    "start_time": "2023-04-14T15:38:17.372Z"
   },
   {
    "duration": 14,
    "start_time": "2023-04-14T15:38:17.469Z"
   },
   {
    "duration": 2,
    "start_time": "2023-04-14T15:38:17.485Z"
   },
   {
    "duration": 40,
    "start_time": "2023-04-14T15:38:17.489Z"
   },
   {
    "duration": 23,
    "start_time": "2023-04-14T15:38:17.531Z"
   },
   {
    "duration": 5,
    "start_time": "2023-04-14T15:38:17.556Z"
   },
   {
    "duration": 15,
    "start_time": "2023-04-14T15:38:17.562Z"
   },
   {
    "duration": 33,
    "start_time": "2023-04-14T15:38:17.579Z"
   },
   {
    "duration": 10,
    "start_time": "2023-04-14T15:38:17.615Z"
   },
   {
    "duration": 6,
    "start_time": "2023-04-14T15:38:17.627Z"
   },
   {
    "duration": 6,
    "start_time": "2023-04-14T15:38:17.635Z"
   },
   {
    "duration": 7,
    "start_time": "2023-04-14T15:38:17.643Z"
   },
   {
    "duration": 5,
    "start_time": "2023-04-14T15:38:17.653Z"
   },
   {
    "duration": 12,
    "start_time": "2023-04-14T15:38:17.660Z"
   },
   {
    "duration": 24,
    "start_time": "2023-04-14T15:38:17.674Z"
   },
   {
    "duration": 20,
    "start_time": "2023-04-14T15:38:17.699Z"
   },
   {
    "duration": 200,
    "start_time": "2023-04-14T15:38:17.721Z"
   },
   {
    "duration": 150,
    "start_time": "2023-04-14T15:38:17.923Z"
   },
   {
    "duration": 170,
    "start_time": "2023-04-14T15:38:18.075Z"
   },
   {
    "duration": 181,
    "start_time": "2023-04-14T15:38:18.247Z"
   },
   {
    "duration": 251,
    "start_time": "2023-04-14T15:38:18.429Z"
   },
   {
    "duration": 152,
    "start_time": "2023-04-14T15:38:18.682Z"
   },
   {
    "duration": 628,
    "start_time": "2023-04-14T15:38:18.835Z"
   },
   {
    "duration": 4,
    "start_time": "2023-04-14T15:38:19.465Z"
   },
   {
    "duration": 11,
    "start_time": "2023-04-14T15:38:19.471Z"
   },
   {
    "duration": 10,
    "start_time": "2023-04-14T15:38:19.484Z"
   },
   {
    "duration": 10,
    "start_time": "2023-04-14T15:38:19.509Z"
   },
   {
    "duration": 20,
    "start_time": "2023-04-14T15:38:19.522Z"
   },
   {
    "duration": 13,
    "start_time": "2023-04-14T15:38:19.544Z"
   },
   {
    "duration": 27,
    "start_time": "2023-04-14T15:38:19.558Z"
   },
   {
    "duration": 109,
    "start_time": "2023-04-14T15:38:19.586Z"
   },
   {
    "duration": 507,
    "start_time": "2023-04-14T15:38:19.697Z"
   },
   {
    "duration": 8709,
    "start_time": "2023-04-14T15:38:20.206Z"
   },
   {
    "duration": 172,
    "start_time": "2023-04-14T15:40:10.632Z"
   },
   {
    "duration": 482,
    "start_time": "2023-04-14T15:40:10.806Z"
   },
   {
    "duration": 1598,
    "start_time": "2023-04-14T15:40:21.057Z"
   },
   {
    "duration": 38,
    "start_time": "2023-04-14T15:40:22.657Z"
   },
   {
    "duration": 20,
    "start_time": "2023-04-14T15:40:22.705Z"
   },
   {
    "duration": 6,
    "start_time": "2023-04-14T15:40:22.727Z"
   },
   {
    "duration": 19,
    "start_time": "2023-04-14T15:40:22.736Z"
   },
   {
    "duration": 18,
    "start_time": "2023-04-14T15:40:22.757Z"
   },
   {
    "duration": 5,
    "start_time": "2023-04-14T15:40:22.777Z"
   },
   {
    "duration": 14,
    "start_time": "2023-04-14T15:40:22.796Z"
   },
   {
    "duration": 11,
    "start_time": "2023-04-14T15:40:22.814Z"
   },
   {
    "duration": 8,
    "start_time": "2023-04-14T15:40:22.830Z"
   },
   {
    "duration": 13,
    "start_time": "2023-04-14T15:40:22.839Z"
   },
   {
    "duration": 7,
    "start_time": "2023-04-14T15:40:22.854Z"
   },
   {
    "duration": 14,
    "start_time": "2023-04-14T15:40:22.862Z"
   },
   {
    "duration": 7,
    "start_time": "2023-04-14T15:40:22.892Z"
   },
   {
    "duration": 18,
    "start_time": "2023-04-14T15:40:22.900Z"
   },
   {
    "duration": 10,
    "start_time": "2023-04-14T15:40:22.920Z"
   },
   {
    "duration": 5,
    "start_time": "2023-04-14T15:40:22.932Z"
   },
   {
    "duration": 233,
    "start_time": "2023-04-14T15:40:22.939Z"
   },
   {
    "duration": 181,
    "start_time": "2023-04-14T15:40:23.174Z"
   },
   {
    "duration": 174,
    "start_time": "2023-04-14T15:40:23.357Z"
   },
   {
    "duration": 173,
    "start_time": "2023-04-14T15:40:23.533Z"
   },
   {
    "duration": 264,
    "start_time": "2023-04-14T15:40:23.710Z"
   },
   {
    "duration": 159,
    "start_time": "2023-04-14T15:40:23.975Z"
   },
   {
    "duration": 694,
    "start_time": "2023-04-14T15:40:24.136Z"
   },
   {
    "duration": 4,
    "start_time": "2023-04-14T15:40:24.832Z"
   },
   {
    "duration": 15,
    "start_time": "2023-04-14T15:40:24.838Z"
   },
   {
    "duration": 22,
    "start_time": "2023-04-14T15:40:24.855Z"
   },
   {
    "duration": 6,
    "start_time": "2023-04-14T15:40:24.879Z"
   },
   {
    "duration": 53,
    "start_time": "2023-04-14T15:40:24.887Z"
   },
   {
    "duration": 8,
    "start_time": "2023-04-14T15:40:24.942Z"
   },
   {
    "duration": 47,
    "start_time": "2023-04-14T15:40:24.952Z"
   },
   {
    "duration": 126,
    "start_time": "2023-04-14T15:40:25.001Z"
   },
   {
    "duration": 446,
    "start_time": "2023-04-14T15:40:25.195Z"
   },
   {
    "duration": 8822,
    "start_time": "2023-04-14T15:40:25.643Z"
   },
   {
    "duration": 177,
    "start_time": "2023-04-14T15:42:16.620Z"
   },
   {
    "duration": 434,
    "start_time": "2023-04-14T15:42:16.803Z"
   },
   {
    "duration": 10218,
    "start_time": "2023-04-14T15:42:17.239Z"
   },
   {
    "duration": 5,
    "start_time": "2023-04-14T15:42:27.458Z"
   },
   {
    "duration": 132,
    "start_time": "2023-04-14T15:42:27.464Z"
   },
   {
    "duration": 722,
    "start_time": "2023-04-14T15:42:27.603Z"
   },
   {
    "duration": 27610,
    "start_time": "2023-04-14T15:42:28.327Z"
   },
   {
    "duration": 4,
    "start_time": "2023-04-14T15:42:55.939Z"
   },
   {
    "duration": 68,
    "start_time": "2023-04-14T15:42:55.945Z"
   },
   {
    "duration": 528,
    "start_time": "2023-04-14T15:42:56.018Z"
   },
   {
    "duration": 5585,
    "start_time": "2023-04-14T15:42:56.548Z"
   },
   {
    "duration": 383,
    "start_time": "2023-04-14T15:43:02.136Z"
   },
   {
    "duration": 27,
    "start_time": "2023-04-14T15:43:02.522Z"
   },
   {
    "duration": 100260,
    "start_time": "2023-04-14T15:43:02.550Z"
   },
   {
    "duration": 102476,
    "start_time": "2023-04-14T15:53:03.573Z"
   },
   {
    "duration": 8546,
    "start_time": "2023-04-14T19:48:28.326Z"
   },
   {
    "duration": 1001,
    "start_time": "2023-04-14T19:49:03.852Z"
   },
   {
    "duration": 98564,
    "start_time": "2023-04-14T19:57:07.810Z"
   },
   {
    "duration": 94768,
    "start_time": "2023-04-14T20:02:00.859Z"
   },
   {
    "duration": 248818,
    "start_time": "2023-04-14T20:26:00.200Z"
   },
   {
    "duration": 5,
    "start_time": "2023-04-14T21:06:58.837Z"
   },
   {
    "duration": 91,
    "start_time": "2023-04-14T21:09:36.212Z"
   },
   {
    "duration": 487,
    "start_time": "2023-04-14T21:09:42.196Z"
   },
   {
    "duration": 4,
    "start_time": "2023-04-14T21:11:13.168Z"
   },
   {
    "duration": 45,
    "start_time": "2023-04-14T21:11:27.224Z"
   },
   {
    "duration": 72,
    "start_time": "2023-04-14T21:12:45.050Z"
   },
   {
    "duration": 312,
    "start_time": "2023-04-14T21:12:56.309Z"
   },
   {
    "duration": 29,
    "start_time": "2023-04-14T21:13:09.289Z"
   },
   {
    "duration": 62651,
    "start_time": "2023-04-14T21:15:19.261Z"
   },
   {
    "duration": 1909,
    "start_time": "2023-04-16T15:58:27.711Z"
   },
   {
    "duration": 120,
    "start_time": "2023-04-16T15:58:29.622Z"
   },
   {
    "duration": 23,
    "start_time": "2023-04-16T15:58:29.743Z"
   },
   {
    "duration": 10,
    "start_time": "2023-04-16T15:58:29.782Z"
   },
   {
    "duration": 19,
    "start_time": "2023-04-16T15:58:29.797Z"
   },
   {
    "duration": 18,
    "start_time": "2023-04-16T15:58:29.818Z"
   },
   {
    "duration": 5,
    "start_time": "2023-04-16T15:58:29.838Z"
   },
   {
    "duration": 9,
    "start_time": "2023-04-16T15:58:29.845Z"
   },
   {
    "duration": 24,
    "start_time": "2023-04-16T15:58:29.857Z"
   },
   {
    "duration": 22,
    "start_time": "2023-04-16T15:58:29.887Z"
   },
   {
    "duration": 6,
    "start_time": "2023-04-16T15:58:29.913Z"
   },
   {
    "duration": 7,
    "start_time": "2023-04-16T15:58:29.921Z"
   },
   {
    "duration": 9,
    "start_time": "2023-04-16T15:58:29.930Z"
   },
   {
    "duration": 6,
    "start_time": "2023-04-16T15:58:29.941Z"
   },
   {
    "duration": 32,
    "start_time": "2023-04-16T15:58:29.949Z"
   },
   {
    "duration": 5,
    "start_time": "2023-04-16T15:58:29.985Z"
   },
   {
    "duration": 8,
    "start_time": "2023-04-16T15:58:29.992Z"
   },
   {
    "duration": 353,
    "start_time": "2023-04-16T15:58:30.001Z"
   },
   {
    "duration": 183,
    "start_time": "2023-04-16T15:58:30.355Z"
   },
   {
    "duration": 156,
    "start_time": "2023-04-16T15:58:30.540Z"
   },
   {
    "duration": 199,
    "start_time": "2023-04-16T15:58:30.698Z"
   },
   {
    "duration": 311,
    "start_time": "2023-04-16T15:58:30.902Z"
   },
   {
    "duration": 173,
    "start_time": "2023-04-16T15:58:31.216Z"
   },
   {
    "duration": 701,
    "start_time": "2023-04-16T15:58:31.391Z"
   },
   {
    "duration": 6,
    "start_time": "2023-04-16T15:58:32.095Z"
   },
   {
    "duration": 27,
    "start_time": "2023-04-16T15:58:32.104Z"
   },
   {
    "duration": 35,
    "start_time": "2023-04-16T15:58:32.134Z"
   },
   {
    "duration": 19,
    "start_time": "2023-04-16T15:58:32.186Z"
   },
   {
    "duration": 26,
    "start_time": "2023-04-16T15:58:32.207Z"
   },
   {
    "duration": 19,
    "start_time": "2023-04-16T15:58:32.234Z"
   },
   {
    "duration": 38,
    "start_time": "2023-04-16T15:58:32.254Z"
   },
   {
    "duration": 192,
    "start_time": "2023-04-16T15:58:32.294Z"
   },
   {
    "duration": 560,
    "start_time": "2023-04-16T15:58:32.491Z"
   },
   {
    "duration": 9933,
    "start_time": "2023-04-16T15:58:33.053Z"
   },
   {
    "duration": 197,
    "start_time": "2023-04-16T15:58:42.987Z"
   },
   {
    "duration": 0,
    "start_time": "2023-04-16T15:58:43.186Z"
   },
   {
    "duration": 0,
    "start_time": "2023-04-16T15:58:43.190Z"
   },
   {
    "duration": 0,
    "start_time": "2023-04-16T15:58:43.191Z"
   },
   {
    "duration": 0,
    "start_time": "2023-04-16T15:58:43.192Z"
   },
   {
    "duration": 0,
    "start_time": "2023-04-16T15:58:43.193Z"
   },
   {
    "duration": 0,
    "start_time": "2023-04-16T15:58:43.194Z"
   },
   {
    "duration": 0,
    "start_time": "2023-04-16T15:58:43.195Z"
   },
   {
    "duration": 0,
    "start_time": "2023-04-16T15:58:43.196Z"
   },
   {
    "duration": 0,
    "start_time": "2023-04-16T15:58:43.202Z"
   },
   {
    "duration": 0,
    "start_time": "2023-04-16T15:58:43.203Z"
   },
   {
    "duration": 0,
    "start_time": "2023-04-16T15:58:43.204Z"
   },
   {
    "duration": 0,
    "start_time": "2023-04-16T15:58:43.205Z"
   },
   {
    "duration": 0,
    "start_time": "2023-04-16T15:58:43.207Z"
   },
   {
    "duration": 0,
    "start_time": "2023-04-16T15:58:43.210Z"
   },
   {
    "duration": 0,
    "start_time": "2023-04-16T15:58:43.211Z"
   },
   {
    "duration": 0,
    "start_time": "2023-04-16T15:58:43.212Z"
   },
   {
    "duration": 1552,
    "start_time": "2023-04-16T16:38:15.121Z"
   },
   {
    "duration": 52,
    "start_time": "2023-04-16T16:38:16.678Z"
   },
   {
    "duration": 12,
    "start_time": "2023-04-16T16:38:16.732Z"
   },
   {
    "duration": 3,
    "start_time": "2023-04-16T16:38:16.745Z"
   },
   {
    "duration": 33,
    "start_time": "2023-04-16T16:38:16.749Z"
   },
   {
    "duration": 26,
    "start_time": "2023-04-16T16:38:16.784Z"
   },
   {
    "duration": 5,
    "start_time": "2023-04-16T16:38:16.813Z"
   },
   {
    "duration": 7,
    "start_time": "2023-04-16T16:38:16.819Z"
   },
   {
    "duration": 9,
    "start_time": "2023-04-16T16:38:16.827Z"
   },
   {
    "duration": 27,
    "start_time": "2023-04-16T16:38:16.838Z"
   },
   {
    "duration": 8,
    "start_time": "2023-04-16T16:38:16.867Z"
   },
   {
    "duration": 9,
    "start_time": "2023-04-16T16:38:16.880Z"
   },
   {
    "duration": 13,
    "start_time": "2023-04-16T16:38:16.891Z"
   },
   {
    "duration": 10,
    "start_time": "2023-04-16T16:38:16.907Z"
   },
   {
    "duration": 5,
    "start_time": "2023-04-16T16:38:16.919Z"
   },
   {
    "duration": 3,
    "start_time": "2023-04-16T16:38:16.925Z"
   },
   {
    "duration": 8,
    "start_time": "2023-04-16T16:38:16.930Z"
   },
   {
    "duration": 224,
    "start_time": "2023-04-16T16:38:16.940Z"
   },
   {
    "duration": 230,
    "start_time": "2023-04-16T16:38:17.166Z"
   },
   {
    "duration": 171,
    "start_time": "2023-04-16T16:38:17.402Z"
   },
   {
    "duration": 162,
    "start_time": "2023-04-16T16:38:17.576Z"
   },
   {
    "duration": 271,
    "start_time": "2023-04-16T16:38:17.740Z"
   },
   {
    "duration": 164,
    "start_time": "2023-04-16T16:38:18.013Z"
   },
   {
    "duration": 593,
    "start_time": "2023-04-16T16:38:18.179Z"
   },
   {
    "duration": 9,
    "start_time": "2023-04-16T16:38:18.782Z"
   },
   {
    "duration": 14,
    "start_time": "2023-04-16T16:38:18.793Z"
   },
   {
    "duration": 4,
    "start_time": "2023-04-16T16:38:18.811Z"
   },
   {
    "duration": 5,
    "start_time": "2023-04-16T16:38:18.817Z"
   },
   {
    "duration": 15,
    "start_time": "2023-04-16T16:38:18.823Z"
   },
   {
    "duration": 6,
    "start_time": "2023-04-16T16:38:18.839Z"
   },
   {
    "duration": 27,
    "start_time": "2023-04-16T16:38:18.847Z"
   },
   {
    "duration": 104,
    "start_time": "2023-04-16T16:38:18.875Z"
   },
   {
    "duration": 490,
    "start_time": "2023-04-16T16:38:18.980Z"
   },
   {
    "duration": 8276,
    "start_time": "2023-04-16T16:38:19.474Z"
   },
   {
    "duration": 143,
    "start_time": "2023-04-16T16:38:27.752Z"
   },
   {
    "duration": 0,
    "start_time": "2023-04-16T16:38:27.898Z"
   },
   {
    "duration": 0,
    "start_time": "2023-04-16T16:38:27.900Z"
   },
   {
    "duration": 0,
    "start_time": "2023-04-16T16:38:27.901Z"
   },
   {
    "duration": 0,
    "start_time": "2023-04-16T16:38:27.903Z"
   },
   {
    "duration": 0,
    "start_time": "2023-04-16T16:38:27.904Z"
   },
   {
    "duration": 0,
    "start_time": "2023-04-16T16:38:27.906Z"
   },
   {
    "duration": 0,
    "start_time": "2023-04-16T16:38:27.909Z"
   },
   {
    "duration": 0,
    "start_time": "2023-04-16T16:38:27.912Z"
   },
   {
    "duration": 0,
    "start_time": "2023-04-16T16:38:27.914Z"
   },
   {
    "duration": 0,
    "start_time": "2023-04-16T16:38:27.915Z"
   },
   {
    "duration": 0,
    "start_time": "2023-04-16T16:38:27.916Z"
   },
   {
    "duration": 0,
    "start_time": "2023-04-16T16:38:27.917Z"
   },
   {
    "duration": 0,
    "start_time": "2023-04-16T16:38:27.918Z"
   },
   {
    "duration": 0,
    "start_time": "2023-04-16T16:38:27.919Z"
   },
   {
    "duration": 0,
    "start_time": "2023-04-16T16:38:27.920Z"
   },
   {
    "duration": 0,
    "start_time": "2023-04-16T16:38:27.921Z"
   },
   {
    "duration": 6,
    "start_time": "2023-04-16T16:39:28.050Z"
   },
   {
    "duration": 4,
    "start_time": "2023-04-16T16:39:30.336Z"
   },
   {
    "duration": 11,
    "start_time": "2023-04-16T16:39:50.024Z"
   },
   {
    "duration": 299,
    "start_time": "2023-04-16T16:48:19.903Z"
   },
   {
    "duration": 48,
    "start_time": "2023-04-17T18:02:08.278Z"
   },
   {
    "duration": 1637,
    "start_time": "2023-04-17T18:02:15.215Z"
   },
   {
    "duration": 88,
    "start_time": "2023-04-17T18:02:16.854Z"
   },
   {
    "duration": 17,
    "start_time": "2023-04-17T18:02:16.944Z"
   },
   {
    "duration": 3,
    "start_time": "2023-04-17T18:02:20.116Z"
   },
   {
    "duration": 15,
    "start_time": "2023-04-17T18:02:21.127Z"
   },
   {
    "duration": 16,
    "start_time": "2023-04-17T18:02:25.155Z"
   },
   {
    "duration": 5,
    "start_time": "2023-04-17T18:02:26.835Z"
   },
   {
    "duration": 6,
    "start_time": "2023-04-17T18:02:27.716Z"
   },
   {
    "duration": 6,
    "start_time": "2023-04-17T18:02:29.859Z"
   },
   {
    "duration": 5,
    "start_time": "2023-04-17T18:02:30.213Z"
   },
   {
    "duration": 6,
    "start_time": "2023-04-17T18:02:30.611Z"
   },
   {
    "duration": 6,
    "start_time": "2023-04-17T18:02:31.011Z"
   },
   {
    "duration": 7,
    "start_time": "2023-04-17T18:02:31.620Z"
   },
   {
    "duration": 7,
    "start_time": "2023-04-17T18:02:32.312Z"
   },
   {
    "duration": 6,
    "start_time": "2023-04-17T18:02:32.646Z"
   },
   {
    "duration": 2,
    "start_time": "2023-04-17T18:02:33.115Z"
   },
   {
    "duration": 3,
    "start_time": "2023-04-17T18:02:33.571Z"
   },
   {
    "duration": 189,
    "start_time": "2023-04-17T18:02:34.987Z"
   },
   {
    "duration": 120,
    "start_time": "2023-04-17T18:02:38.616Z"
   },
   {
    "duration": 116,
    "start_time": "2023-04-17T18:02:39.519Z"
   },
   {
    "duration": 112,
    "start_time": "2023-04-17T18:02:39.907Z"
   },
   {
    "duration": 132,
    "start_time": "2023-04-17T18:02:40.422Z"
   },
   {
    "duration": 164,
    "start_time": "2023-04-17T18:02:40.919Z"
   },
   {
    "duration": 501,
    "start_time": "2023-04-17T18:02:41.543Z"
   },
   {
    "duration": 5,
    "start_time": "2023-04-17T18:02:46.228Z"
   },
   {
    "duration": 3,
    "start_time": "2023-04-17T18:02:47.317Z"
   },
   {
    "duration": 6,
    "start_time": "2023-04-17T18:02:48.757Z"
   },
   {
    "duration": 5,
    "start_time": "2023-04-17T18:02:50.517Z"
   },
   {
    "duration": 13,
    "start_time": "2023-04-17T18:02:51.712Z"
   },
   {
    "duration": 7,
    "start_time": "2023-04-17T18:02:55.317Z"
   },
   {
    "duration": 28,
    "start_time": "2023-04-17T18:02:58.356Z"
   },
   {
    "duration": 98,
    "start_time": "2023-04-17T18:02:59.877Z"
   },
   {
    "duration": 353,
    "start_time": "2023-04-17T18:03:01.419Z"
   },
   {
    "duration": 7904,
    "start_time": "2023-04-17T18:03:05.156Z"
   },
   {
    "duration": 80,
    "start_time": "2023-04-17T18:03:19.275Z"
   },
   {
    "duration": 10,
    "start_time": "2023-04-17T18:04:13.512Z"
   },
   {
    "duration": 5,
    "start_time": "2023-04-17T18:04:30.818Z"
   },
   {
    "duration": 10,
    "start_time": "2023-04-17T18:06:53.516Z"
   },
   {
    "duration": 10,
    "start_time": "2023-04-17T18:15:29.464Z"
   },
   {
    "duration": 1975,
    "start_time": "2023-04-19T13:12:57.617Z"
   },
   {
    "duration": 103,
    "start_time": "2023-04-19T13:12:59.595Z"
   },
   {
    "duration": 15,
    "start_time": "2023-04-19T13:12:59.699Z"
   },
   {
    "duration": 4,
    "start_time": "2023-04-19T13:12:59.716Z"
   },
   {
    "duration": 62,
    "start_time": "2023-04-19T13:12:59.723Z"
   },
   {
    "duration": 16,
    "start_time": "2023-04-19T13:12:59.787Z"
   },
   {
    "duration": 4,
    "start_time": "2023-04-19T13:12:59.805Z"
   },
   {
    "duration": 15,
    "start_time": "2023-04-19T13:12:59.810Z"
   },
   {
    "duration": 24,
    "start_time": "2023-04-19T13:12:59.826Z"
   },
   {
    "duration": 24,
    "start_time": "2023-04-19T13:12:59.852Z"
   },
   {
    "duration": 7,
    "start_time": "2023-04-19T13:12:59.878Z"
   },
   {
    "duration": 11,
    "start_time": "2023-04-19T13:12:59.886Z"
   },
   {
    "duration": 9,
    "start_time": "2023-04-19T13:12:59.899Z"
   },
   {
    "duration": 12,
    "start_time": "2023-04-19T13:12:59.911Z"
   },
   {
    "duration": 12,
    "start_time": "2023-04-19T13:12:59.924Z"
   },
   {
    "duration": 27,
    "start_time": "2023-04-19T13:12:59.937Z"
   },
   {
    "duration": 6,
    "start_time": "2023-04-19T13:12:59.965Z"
   },
   {
    "duration": 194,
    "start_time": "2023-04-19T13:12:59.973Z"
   },
   {
    "duration": 138,
    "start_time": "2023-04-19T13:13:00.169Z"
   },
   {
    "duration": 162,
    "start_time": "2023-04-19T13:13:00.309Z"
   },
   {
    "duration": 157,
    "start_time": "2023-04-19T13:13:00.472Z"
   },
   {
    "duration": 262,
    "start_time": "2023-04-19T13:13:00.631Z"
   },
   {
    "duration": 146,
    "start_time": "2023-04-19T13:13:00.894Z"
   },
   {
    "duration": 540,
    "start_time": "2023-04-19T13:13:01.041Z"
   },
   {
    "duration": 4,
    "start_time": "2023-04-19T13:13:01.583Z"
   },
   {
    "duration": 31,
    "start_time": "2023-04-19T13:13:01.589Z"
   },
   {
    "duration": 9,
    "start_time": "2023-04-19T13:13:01.622Z"
   },
   {
    "duration": 46,
    "start_time": "2023-04-19T13:13:01.634Z"
   },
   {
    "duration": 26,
    "start_time": "2023-04-19T13:13:01.682Z"
   },
   {
    "duration": 10,
    "start_time": "2023-04-19T13:13:01.709Z"
   },
   {
    "duration": 41,
    "start_time": "2023-04-19T13:13:01.720Z"
   },
   {
    "duration": 75,
    "start_time": "2023-04-19T13:13:01.762Z"
   },
   {
    "duration": 458,
    "start_time": "2023-04-19T13:13:01.839Z"
   },
   {
    "duration": 7931,
    "start_time": "2023-04-19T13:13:02.299Z"
   },
   {
    "duration": 146,
    "start_time": "2023-04-19T13:13:10.233Z"
   },
   {
    "duration": 0,
    "start_time": "2023-04-19T13:13:10.382Z"
   },
   {
    "duration": 0,
    "start_time": "2023-04-19T13:13:10.383Z"
   },
   {
    "duration": 0,
    "start_time": "2023-04-19T13:13:10.384Z"
   },
   {
    "duration": 0,
    "start_time": "2023-04-19T13:13:10.386Z"
   },
   {
    "duration": 0,
    "start_time": "2023-04-19T13:13:10.388Z"
   },
   {
    "duration": 0,
    "start_time": "2023-04-19T13:13:10.389Z"
   },
   {
    "duration": 0,
    "start_time": "2023-04-19T13:13:10.390Z"
   },
   {
    "duration": 0,
    "start_time": "2023-04-19T13:13:10.391Z"
   },
   {
    "duration": 0,
    "start_time": "2023-04-19T13:13:10.393Z"
   },
   {
    "duration": 0,
    "start_time": "2023-04-19T13:13:10.394Z"
   },
   {
    "duration": 0,
    "start_time": "2023-04-19T13:13:10.395Z"
   },
   {
    "duration": 0,
    "start_time": "2023-04-19T13:13:10.396Z"
   },
   {
    "duration": 0,
    "start_time": "2023-04-19T13:13:10.398Z"
   },
   {
    "duration": 0,
    "start_time": "2023-04-19T13:13:10.399Z"
   },
   {
    "duration": 0,
    "start_time": "2023-04-19T13:13:10.401Z"
   },
   {
    "duration": 0,
    "start_time": "2023-04-19T13:13:10.435Z"
   },
   {
    "duration": 22,
    "start_time": "2023-04-19T13:20:18.332Z"
   },
   {
    "duration": 11,
    "start_time": "2023-04-19T13:21:03.997Z"
   },
   {
    "duration": 12,
    "start_time": "2023-04-19T13:21:15.214Z"
   },
   {
    "duration": 52,
    "start_time": "2023-04-19T13:22:19.808Z"
   },
   {
    "duration": 63,
    "start_time": "2023-04-19T13:22:26.831Z"
   },
   {
    "duration": 60,
    "start_time": "2023-04-19T13:22:54.944Z"
   },
   {
    "duration": 60,
    "start_time": "2023-04-19T13:23:18.772Z"
   },
   {
    "duration": 12,
    "start_time": "2023-04-19T13:27:01.287Z"
   },
   {
    "duration": 61,
    "start_time": "2023-04-19T13:27:37.896Z"
   },
   {
    "duration": 13,
    "start_time": "2023-04-19T13:27:51.467Z"
   },
   {
    "duration": 1734,
    "start_time": "2023-04-19T15:13:04.936Z"
   },
   {
    "duration": 44,
    "start_time": "2023-04-19T15:13:06.672Z"
   },
   {
    "duration": 13,
    "start_time": "2023-04-19T15:13:06.718Z"
   },
   {
    "duration": 51,
    "start_time": "2023-04-19T15:13:06.734Z"
   },
   {
    "duration": 22,
    "start_time": "2023-04-19T15:13:06.787Z"
   },
   {
    "duration": 19,
    "start_time": "2023-04-19T15:13:06.810Z"
   },
   {
    "duration": 11,
    "start_time": "2023-04-19T15:13:06.831Z"
   },
   {
    "duration": 46,
    "start_time": "2023-04-19T15:13:06.843Z"
   },
   {
    "duration": 13,
    "start_time": "2023-04-19T15:13:06.891Z"
   },
   {
    "duration": 8,
    "start_time": "2023-04-19T15:13:06.907Z"
   },
   {
    "duration": 10,
    "start_time": "2023-04-19T15:13:06.916Z"
   },
   {
    "duration": 10,
    "start_time": "2023-04-19T15:13:06.928Z"
   },
   {
    "duration": 38,
    "start_time": "2023-04-19T15:13:06.940Z"
   },
   {
    "duration": 8,
    "start_time": "2023-04-19T15:13:06.980Z"
   },
   {
    "duration": 12,
    "start_time": "2023-04-19T15:13:06.989Z"
   },
   {
    "duration": 6,
    "start_time": "2023-04-19T15:13:07.003Z"
   },
   {
    "duration": 8,
    "start_time": "2023-04-19T15:13:07.011Z"
   },
   {
    "duration": 221,
    "start_time": "2023-04-19T15:13:07.020Z"
   },
   {
    "duration": 167,
    "start_time": "2023-04-19T15:13:07.244Z"
   },
   {
    "duration": 196,
    "start_time": "2023-04-19T15:13:07.413Z"
   },
   {
    "duration": 190,
    "start_time": "2023-04-19T15:13:07.612Z"
   },
   {
    "duration": 322,
    "start_time": "2023-04-19T15:13:07.804Z"
   },
   {
    "duration": 180,
    "start_time": "2023-04-19T15:13:08.127Z"
   },
   {
    "duration": 706,
    "start_time": "2023-04-19T15:13:08.309Z"
   },
   {
    "duration": 5,
    "start_time": "2023-04-19T15:13:09.016Z"
   },
   {
    "duration": 6,
    "start_time": "2023-04-19T15:13:09.033Z"
   },
   {
    "duration": 42,
    "start_time": "2023-04-19T15:13:09.041Z"
   },
   {
    "duration": 5,
    "start_time": "2023-04-19T15:13:09.088Z"
   },
   {
    "duration": 17,
    "start_time": "2023-04-19T15:13:09.095Z"
   },
   {
    "duration": 7,
    "start_time": "2023-04-19T15:13:09.115Z"
   },
   {
    "duration": 45,
    "start_time": "2023-04-19T15:13:09.124Z"
   },
   {
    "duration": 160,
    "start_time": "2023-04-19T15:13:09.176Z"
   },
   {
    "duration": 491,
    "start_time": "2023-04-19T15:13:09.338Z"
   },
   {
    "duration": 7458,
    "start_time": "2023-04-19T15:13:09.830Z"
   },
   {
    "duration": 114,
    "start_time": "2023-04-19T15:13:17.290Z"
   },
   {
    "duration": 0,
    "start_time": "2023-04-19T15:13:17.405Z"
   },
   {
    "duration": 0,
    "start_time": "2023-04-19T15:13:17.406Z"
   },
   {
    "duration": 0,
    "start_time": "2023-04-19T15:13:17.407Z"
   },
   {
    "duration": 0,
    "start_time": "2023-04-19T15:13:17.408Z"
   },
   {
    "duration": 0,
    "start_time": "2023-04-19T15:13:17.409Z"
   },
   {
    "duration": 0,
    "start_time": "2023-04-19T15:13:17.410Z"
   },
   {
    "duration": 0,
    "start_time": "2023-04-19T15:13:17.411Z"
   },
   {
    "duration": 0,
    "start_time": "2023-04-19T15:13:17.411Z"
   },
   {
    "duration": 0,
    "start_time": "2023-04-19T15:13:17.412Z"
   },
   {
    "duration": 0,
    "start_time": "2023-04-19T15:13:17.413Z"
   },
   {
    "duration": 0,
    "start_time": "2023-04-19T15:13:17.414Z"
   },
   {
    "duration": 0,
    "start_time": "2023-04-19T15:13:17.414Z"
   },
   {
    "duration": 0,
    "start_time": "2023-04-19T15:13:17.415Z"
   },
   {
    "duration": 0,
    "start_time": "2023-04-19T15:13:17.436Z"
   },
   {
    "duration": 0,
    "start_time": "2023-04-19T15:13:17.437Z"
   },
   {
    "duration": 0,
    "start_time": "2023-04-19T15:13:17.437Z"
   },
   {
    "duration": 3,
    "start_time": "2023-04-19T16:45:07.215Z"
   },
   {
    "duration": 68,
    "start_time": "2023-04-19T16:45:07.220Z"
   },
   {
    "duration": 47,
    "start_time": "2023-04-19T16:52:27.379Z"
   },
   {
    "duration": 52,
    "start_time": "2023-04-19T16:52:29.980Z"
   },
   {
    "duration": 11,
    "start_time": "2023-04-19T16:54:37.141Z"
   },
   {
    "duration": 64,
    "start_time": "2023-04-19T16:54:57.592Z"
   },
   {
    "duration": 62,
    "start_time": "2023-04-19T16:56:00.425Z"
   },
   {
    "duration": 1411,
    "start_time": "2023-04-19T17:03:19.862Z"
   },
   {
    "duration": 41,
    "start_time": "2023-04-19T17:03:21.275Z"
   },
   {
    "duration": 13,
    "start_time": "2023-04-19T17:03:21.318Z"
   },
   {
    "duration": 5,
    "start_time": "2023-04-19T17:03:21.332Z"
   },
   {
    "duration": 50,
    "start_time": "2023-04-19T17:03:21.339Z"
   },
   {
    "duration": 21,
    "start_time": "2023-04-19T17:03:21.390Z"
   },
   {
    "duration": 4,
    "start_time": "2023-04-19T17:03:21.413Z"
   },
   {
    "duration": 7,
    "start_time": "2023-04-19T17:03:21.419Z"
   },
   {
    "duration": 17,
    "start_time": "2023-04-19T17:03:21.428Z"
   },
   {
    "duration": 27,
    "start_time": "2023-04-19T17:03:21.446Z"
   },
   {
    "duration": 9,
    "start_time": "2023-04-19T17:03:21.474Z"
   },
   {
    "duration": 7,
    "start_time": "2023-04-19T17:03:21.485Z"
   },
   {
    "duration": 7,
    "start_time": "2023-04-19T17:03:21.494Z"
   },
   {
    "duration": 6,
    "start_time": "2023-04-19T17:03:21.504Z"
   },
   {
    "duration": 7,
    "start_time": "2023-04-19T17:03:21.511Z"
   },
   {
    "duration": 8,
    "start_time": "2023-04-19T17:03:21.519Z"
   },
   {
    "duration": 38,
    "start_time": "2023-04-19T17:03:21.528Z"
   },
   {
    "duration": 188,
    "start_time": "2023-04-19T17:03:21.568Z"
   },
   {
    "duration": 131,
    "start_time": "2023-04-19T17:03:21.763Z"
   },
   {
    "duration": 136,
    "start_time": "2023-04-19T17:03:21.896Z"
   },
   {
    "duration": 139,
    "start_time": "2023-04-19T17:03:22.036Z"
   },
   {
    "duration": 227,
    "start_time": "2023-04-19T17:03:22.177Z"
   },
   {
    "duration": 133,
    "start_time": "2023-04-19T17:03:22.406Z"
   },
   {
    "duration": 525,
    "start_time": "2023-04-19T17:03:22.544Z"
   },
   {
    "duration": 5,
    "start_time": "2023-04-19T17:03:23.070Z"
   },
   {
    "duration": 6,
    "start_time": "2023-04-19T17:03:23.076Z"
   },
   {
    "duration": 7,
    "start_time": "2023-04-19T17:03:23.084Z"
   },
   {
    "duration": 12,
    "start_time": "2023-04-19T17:03:23.093Z"
   },
   {
    "duration": 17,
    "start_time": "2023-04-19T17:03:23.107Z"
   },
   {
    "duration": 18,
    "start_time": "2023-04-19T17:03:23.126Z"
   },
   {
    "duration": 31,
    "start_time": "2023-04-19T17:03:23.151Z"
   },
   {
    "duration": 80,
    "start_time": "2023-04-19T17:03:23.184Z"
   },
   {
    "duration": 385,
    "start_time": "2023-04-19T17:03:23.336Z"
   },
   {
    "duration": 7412,
    "start_time": "2023-04-19T17:03:23.723Z"
   },
   {
    "duration": 90970,
    "start_time": "2023-04-19T17:03:31.145Z"
   },
   {
    "duration": 122,
    "start_time": "2023-04-19T17:05:02.117Z"
   },
   {
    "duration": 461,
    "start_time": "2023-04-19T17:05:02.240Z"
   },
   {
    "duration": 9310,
    "start_time": "2023-04-19T17:05:02.702Z"
   },
   {
    "duration": 146,
    "start_time": "2023-04-19T17:05:12.014Z"
   },
   {
    "duration": 0,
    "start_time": "2023-04-19T17:05:12.162Z"
   },
   {
    "duration": 0,
    "start_time": "2023-04-19T17:05:12.163Z"
   },
   {
    "duration": 0,
    "start_time": "2023-04-19T17:05:12.164Z"
   },
   {
    "duration": 0,
    "start_time": "2023-04-19T17:05:12.165Z"
   },
   {
    "duration": 0,
    "start_time": "2023-04-19T17:05:12.166Z"
   },
   {
    "duration": 0,
    "start_time": "2023-04-19T17:05:12.168Z"
   },
   {
    "duration": 0,
    "start_time": "2023-04-19T17:05:12.169Z"
   },
   {
    "duration": 0,
    "start_time": "2023-04-19T17:05:12.170Z"
   },
   {
    "duration": 0,
    "start_time": "2023-04-19T17:05:12.171Z"
   },
   {
    "duration": 0,
    "start_time": "2023-04-19T17:05:12.173Z"
   },
   {
    "duration": 0,
    "start_time": "2023-04-19T17:05:12.173Z"
   },
   {
    "duration": 0,
    "start_time": "2023-04-19T17:05:12.174Z"
   },
   {
    "duration": 125,
    "start_time": "2023-04-19T17:20:39.482Z"
   },
   {
    "duration": 51,
    "start_time": "2023-04-19T17:20:50.264Z"
   },
   {
    "duration": 18,
    "start_time": "2023-04-19T17:31:33.006Z"
   },
   {
    "duration": 13,
    "start_time": "2023-04-19T17:33:59.098Z"
   },
   {
    "duration": 20,
    "start_time": "2023-04-19T17:35:02.799Z"
   },
   {
    "duration": 68,
    "start_time": "2023-04-19T17:36:42.318Z"
   },
   {
    "duration": 93270,
    "start_time": "2023-04-19T17:37:23.519Z"
   },
   {
    "duration": 90142,
    "start_time": "2023-04-19T18:07:25.653Z"
   },
   {
    "duration": 90285,
    "start_time": "2023-04-19T18:10:11.698Z"
   },
   {
    "duration": 1640,
    "start_time": "2023-04-19T18:12:43.861Z"
   },
   {
    "duration": 53,
    "start_time": "2023-04-19T18:12:45.503Z"
   },
   {
    "duration": 15,
    "start_time": "2023-04-19T18:12:45.562Z"
   },
   {
    "duration": 3,
    "start_time": "2023-04-19T18:12:45.579Z"
   },
   {
    "duration": 28,
    "start_time": "2023-04-19T18:12:45.583Z"
   },
   {
    "duration": 17,
    "start_time": "2023-04-19T18:12:45.613Z"
   },
   {
    "duration": 39,
    "start_time": "2023-04-19T18:12:45.631Z"
   },
   {
    "duration": 7,
    "start_time": "2023-04-19T18:12:45.671Z"
   },
   {
    "duration": 9,
    "start_time": "2023-04-19T18:12:45.680Z"
   },
   {
    "duration": 10,
    "start_time": "2023-04-19T18:12:45.690Z"
   },
   {
    "duration": 13,
    "start_time": "2023-04-19T18:12:45.701Z"
   },
   {
    "duration": 14,
    "start_time": "2023-04-19T18:12:45.715Z"
   },
   {
    "duration": 38,
    "start_time": "2023-04-19T18:12:45.731Z"
   },
   {
    "duration": 6,
    "start_time": "2023-04-19T18:12:45.771Z"
   },
   {
    "duration": 10,
    "start_time": "2023-04-19T18:12:45.779Z"
   },
   {
    "duration": 10,
    "start_time": "2023-04-19T18:12:45.791Z"
   },
   {
    "duration": 15,
    "start_time": "2023-04-19T18:12:45.803Z"
   },
   {
    "duration": 232,
    "start_time": "2023-04-19T18:12:45.820Z"
   },
   {
    "duration": 145,
    "start_time": "2023-04-19T18:12:46.059Z"
   },
   {
    "duration": 148,
    "start_time": "2023-04-19T18:12:46.206Z"
   },
   {
    "duration": 139,
    "start_time": "2023-04-19T18:12:46.356Z"
   },
   {
    "duration": 243,
    "start_time": "2023-04-19T18:12:46.497Z"
   },
   {
    "duration": 155,
    "start_time": "2023-04-19T18:12:46.742Z"
   },
   {
    "duration": 589,
    "start_time": "2023-04-19T18:12:46.900Z"
   },
   {
    "duration": 6,
    "start_time": "2023-04-19T18:12:47.491Z"
   },
   {
    "duration": 6,
    "start_time": "2023-04-19T18:12:47.499Z"
   },
   {
    "duration": 9,
    "start_time": "2023-04-19T18:12:47.507Z"
   },
   {
    "duration": 46,
    "start_time": "2023-04-19T18:12:47.518Z"
   },
   {
    "duration": 37,
    "start_time": "2023-04-19T18:12:47.565Z"
   },
   {
    "duration": 7,
    "start_time": "2023-04-19T18:12:47.603Z"
   },
   {
    "duration": 27,
    "start_time": "2023-04-19T18:12:47.612Z"
   },
   {
    "duration": 97,
    "start_time": "2023-04-19T18:12:47.641Z"
   },
   {
    "duration": 502,
    "start_time": "2023-04-19T18:12:47.740Z"
   },
   {
    "duration": 7395,
    "start_time": "2023-04-19T18:12:48.245Z"
   },
   {
    "duration": 153,
    "start_time": "2023-04-19T18:12:55.648Z"
   },
   {
    "duration": 0,
    "start_time": "2023-04-19T18:12:55.803Z"
   },
   {
    "duration": 0,
    "start_time": "2023-04-19T18:12:55.804Z"
   },
   {
    "duration": 0,
    "start_time": "2023-04-19T18:12:55.805Z"
   },
   {
    "duration": 0,
    "start_time": "2023-04-19T18:12:55.806Z"
   },
   {
    "duration": 0,
    "start_time": "2023-04-19T18:12:55.807Z"
   },
   {
    "duration": 0,
    "start_time": "2023-04-19T18:12:55.809Z"
   },
   {
    "duration": 0,
    "start_time": "2023-04-19T18:12:55.810Z"
   },
   {
    "duration": 0,
    "start_time": "2023-04-19T18:12:55.811Z"
   },
   {
    "duration": 0,
    "start_time": "2023-04-19T18:12:55.813Z"
   },
   {
    "duration": 0,
    "start_time": "2023-04-19T18:12:55.814Z"
   },
   {
    "duration": 0,
    "start_time": "2023-04-19T18:12:55.837Z"
   },
   {
    "duration": 0,
    "start_time": "2023-04-19T18:12:55.838Z"
   },
   {
    "duration": 0,
    "start_time": "2023-04-19T18:12:55.840Z"
   },
   {
    "duration": 0,
    "start_time": "2023-04-19T18:12:55.841Z"
   },
   {
    "duration": 0,
    "start_time": "2023-04-19T18:12:55.843Z"
   },
   {
    "duration": 0,
    "start_time": "2023-04-19T18:12:55.844Z"
   },
   {
    "duration": 86387,
    "start_time": "2023-04-19T18:15:56.972Z"
   },
   {
    "duration": 7,
    "start_time": "2023-04-19T18:21:43.027Z"
   },
   {
    "duration": 1652,
    "start_time": "2023-04-19T18:22:15.018Z"
   },
   {
    "duration": 45,
    "start_time": "2023-04-19T18:22:16.672Z"
   },
   {
    "duration": 23,
    "start_time": "2023-04-19T18:22:16.719Z"
   },
   {
    "duration": 27,
    "start_time": "2023-04-19T18:22:16.747Z"
   },
   {
    "duration": 45,
    "start_time": "2023-04-19T18:22:16.776Z"
   },
   {
    "duration": 66,
    "start_time": "2023-04-19T18:22:16.823Z"
   },
   {
    "duration": 7,
    "start_time": "2023-04-19T18:22:16.891Z"
   },
   {
    "duration": 16,
    "start_time": "2023-04-19T18:22:16.900Z"
   },
   {
    "duration": 26,
    "start_time": "2023-04-19T18:22:16.918Z"
   },
   {
    "duration": 33,
    "start_time": "2023-04-19T18:22:16.950Z"
   },
   {
    "duration": 20,
    "start_time": "2023-04-19T18:22:16.985Z"
   },
   {
    "duration": 15,
    "start_time": "2023-04-19T18:22:17.007Z"
   },
   {
    "duration": 41,
    "start_time": "2023-04-19T18:22:17.024Z"
   },
   {
    "duration": 18,
    "start_time": "2023-04-19T18:22:17.066Z"
   },
   {
    "duration": 11,
    "start_time": "2023-04-19T18:22:17.085Z"
   },
   {
    "duration": 16,
    "start_time": "2023-04-19T18:22:17.097Z"
   },
   {
    "duration": 10,
    "start_time": "2023-04-19T18:22:17.115Z"
   },
   {
    "duration": 206,
    "start_time": "2023-04-19T18:22:17.126Z"
   },
   {
    "duration": 147,
    "start_time": "2023-04-19T18:22:17.334Z"
   },
   {
    "duration": 138,
    "start_time": "2023-04-19T18:22:17.482Z"
   },
   {
    "duration": 149,
    "start_time": "2023-04-19T18:22:17.622Z"
   },
   {
    "duration": 231,
    "start_time": "2023-04-19T18:22:17.773Z"
   },
   {
    "duration": 150,
    "start_time": "2023-04-19T18:22:18.006Z"
   },
   {
    "duration": 518,
    "start_time": "2023-04-19T18:22:18.157Z"
   },
   {
    "duration": 4,
    "start_time": "2023-04-19T18:22:18.677Z"
   },
   {
    "duration": 9,
    "start_time": "2023-04-19T18:22:18.682Z"
   },
   {
    "duration": 7,
    "start_time": "2023-04-19T18:22:18.693Z"
   },
   {
    "duration": 119,
    "start_time": "2023-04-19T18:22:18.704Z"
   },
   {
    "duration": 0,
    "start_time": "2023-04-19T18:22:18.825Z"
   },
   {
    "duration": 0,
    "start_time": "2023-04-19T18:22:18.826Z"
   },
   {
    "duration": 0,
    "start_time": "2023-04-19T18:22:18.827Z"
   },
   {
    "duration": 0,
    "start_time": "2023-04-19T18:22:18.840Z"
   },
   {
    "duration": 0,
    "start_time": "2023-04-19T18:22:18.841Z"
   },
   {
    "duration": 0,
    "start_time": "2023-04-19T18:22:18.841Z"
   },
   {
    "duration": 0,
    "start_time": "2023-04-19T18:22:18.842Z"
   },
   {
    "duration": 0,
    "start_time": "2023-04-19T18:22:18.843Z"
   },
   {
    "duration": 0,
    "start_time": "2023-04-19T18:22:18.844Z"
   },
   {
    "duration": 0,
    "start_time": "2023-04-19T18:22:18.844Z"
   },
   {
    "duration": 0,
    "start_time": "2023-04-19T18:22:18.845Z"
   },
   {
    "duration": 0,
    "start_time": "2023-04-19T18:22:18.845Z"
   },
   {
    "duration": 0,
    "start_time": "2023-04-19T18:22:18.846Z"
   },
   {
    "duration": 0,
    "start_time": "2023-04-19T18:22:18.846Z"
   },
   {
    "duration": 0,
    "start_time": "2023-04-19T18:22:18.848Z"
   },
   {
    "duration": 0,
    "start_time": "2023-04-19T18:22:18.849Z"
   },
   {
    "duration": 0,
    "start_time": "2023-04-19T18:22:18.850Z"
   },
   {
    "duration": 0,
    "start_time": "2023-04-19T18:22:18.851Z"
   },
   {
    "duration": 0,
    "start_time": "2023-04-19T18:22:18.852Z"
   },
   {
    "duration": 0,
    "start_time": "2023-04-19T18:22:18.853Z"
   },
   {
    "duration": 0,
    "start_time": "2023-04-19T18:22:18.854Z"
   },
   {
    "duration": 0,
    "start_time": "2023-04-19T18:22:18.855Z"
   },
   {
    "duration": 0,
    "start_time": "2023-04-19T18:22:18.856Z"
   },
   {
    "duration": 15,
    "start_time": "2023-04-19T18:22:29.970Z"
   },
   {
    "duration": 1717,
    "start_time": "2023-04-19T18:22:44.268Z"
   },
   {
    "duration": 50,
    "start_time": "2023-04-19T18:22:45.988Z"
   },
   {
    "duration": 26,
    "start_time": "2023-04-19T18:22:46.042Z"
   },
   {
    "duration": 13,
    "start_time": "2023-04-19T18:22:46.070Z"
   },
   {
    "duration": 29,
    "start_time": "2023-04-19T18:22:46.087Z"
   },
   {
    "duration": 38,
    "start_time": "2023-04-19T18:22:46.118Z"
   },
   {
    "duration": 24,
    "start_time": "2023-04-19T18:22:46.158Z"
   },
   {
    "duration": 11,
    "start_time": "2023-04-19T18:22:46.184Z"
   },
   {
    "duration": 11,
    "start_time": "2023-04-19T18:22:46.197Z"
   },
   {
    "duration": 11,
    "start_time": "2023-04-19T18:22:46.209Z"
   },
   {
    "duration": 18,
    "start_time": "2023-04-19T18:22:46.222Z"
   },
   {
    "duration": 44,
    "start_time": "2023-04-19T18:22:46.243Z"
   },
   {
    "duration": 14,
    "start_time": "2023-04-19T18:22:46.289Z"
   },
   {
    "duration": 7,
    "start_time": "2023-04-19T18:22:46.306Z"
   },
   {
    "duration": 10,
    "start_time": "2023-04-19T18:22:46.314Z"
   },
   {
    "duration": 4,
    "start_time": "2023-04-19T18:22:46.326Z"
   },
   {
    "duration": 43,
    "start_time": "2023-04-19T18:22:46.332Z"
   },
   {
    "duration": 234,
    "start_time": "2023-04-19T18:22:46.377Z"
   },
   {
    "duration": 179,
    "start_time": "2023-04-19T18:22:46.612Z"
   },
   {
    "duration": 179,
    "start_time": "2023-04-19T18:22:46.793Z"
   },
   {
    "duration": 207,
    "start_time": "2023-04-19T18:22:46.974Z"
   },
   {
    "duration": 339,
    "start_time": "2023-04-19T18:22:47.183Z"
   },
   {
    "duration": 186,
    "start_time": "2023-04-19T18:22:47.524Z"
   },
   {
    "duration": 691,
    "start_time": "2023-04-19T18:22:47.712Z"
   },
   {
    "duration": 6,
    "start_time": "2023-04-19T18:22:48.405Z"
   },
   {
    "duration": 18,
    "start_time": "2023-04-19T18:22:48.413Z"
   },
   {
    "duration": 47,
    "start_time": "2023-04-19T18:22:48.442Z"
   },
   {
    "duration": 140,
    "start_time": "2023-04-19T18:22:48.491Z"
   },
   {
    "duration": 0,
    "start_time": "2023-04-19T18:22:48.637Z"
   },
   {
    "duration": 0,
    "start_time": "2023-04-19T18:22:48.638Z"
   },
   {
    "duration": 0,
    "start_time": "2023-04-19T18:22:48.641Z"
   },
   {
    "duration": 0,
    "start_time": "2023-04-19T18:22:48.642Z"
   },
   {
    "duration": 0,
    "start_time": "2023-04-19T18:22:48.643Z"
   },
   {
    "duration": 0,
    "start_time": "2023-04-19T18:22:48.644Z"
   },
   {
    "duration": 0,
    "start_time": "2023-04-19T18:22:48.645Z"
   },
   {
    "duration": 0,
    "start_time": "2023-04-19T18:22:48.645Z"
   },
   {
    "duration": 0,
    "start_time": "2023-04-19T18:22:48.646Z"
   },
   {
    "duration": 0,
    "start_time": "2023-04-19T18:22:48.647Z"
   },
   {
    "duration": 0,
    "start_time": "2023-04-19T18:22:48.649Z"
   },
   {
    "duration": 0,
    "start_time": "2023-04-19T18:22:48.651Z"
   },
   {
    "duration": 0,
    "start_time": "2023-04-19T18:22:48.653Z"
   },
   {
    "duration": 0,
    "start_time": "2023-04-19T18:22:48.653Z"
   },
   {
    "duration": 0,
    "start_time": "2023-04-19T18:22:48.654Z"
   },
   {
    "duration": 0,
    "start_time": "2023-04-19T18:22:48.655Z"
   },
   {
    "duration": 0,
    "start_time": "2023-04-19T18:22:48.656Z"
   },
   {
    "duration": 0,
    "start_time": "2023-04-19T18:22:48.657Z"
   },
   {
    "duration": 0,
    "start_time": "2023-04-19T18:22:48.659Z"
   },
   {
    "duration": 0,
    "start_time": "2023-04-19T18:22:48.660Z"
   },
   {
    "duration": 0,
    "start_time": "2023-04-19T18:22:48.661Z"
   },
   {
    "duration": 0,
    "start_time": "2023-04-19T18:22:48.662Z"
   },
   {
    "duration": 0,
    "start_time": "2023-04-19T18:22:48.663Z"
   },
   {
    "duration": 14,
    "start_time": "2023-04-19T18:24:40.863Z"
   },
   {
    "duration": 1477,
    "start_time": "2023-04-19T18:24:54.502Z"
   },
   {
    "duration": 44,
    "start_time": "2023-04-19T18:24:55.980Z"
   },
   {
    "duration": 19,
    "start_time": "2023-04-19T18:24:56.027Z"
   },
   {
    "duration": 25,
    "start_time": "2023-04-19T18:24:56.055Z"
   },
   {
    "duration": 21,
    "start_time": "2023-04-19T18:24:56.083Z"
   },
   {
    "duration": 17,
    "start_time": "2023-04-19T18:24:56.106Z"
   },
   {
    "duration": 5,
    "start_time": "2023-04-19T18:24:56.124Z"
   },
   {
    "duration": 36,
    "start_time": "2023-04-19T18:24:56.131Z"
   },
   {
    "duration": 16,
    "start_time": "2023-04-19T18:24:56.169Z"
   },
   {
    "duration": 20,
    "start_time": "2023-04-19T18:24:56.187Z"
   },
   {
    "duration": 10,
    "start_time": "2023-04-19T18:24:56.209Z"
   },
   {
    "duration": 24,
    "start_time": "2023-04-19T18:24:56.221Z"
   },
   {
    "duration": 31,
    "start_time": "2023-04-19T18:24:56.246Z"
   },
   {
    "duration": 10,
    "start_time": "2023-04-19T18:24:56.280Z"
   },
   {
    "duration": 13,
    "start_time": "2023-04-19T18:24:56.291Z"
   },
   {
    "duration": 6,
    "start_time": "2023-04-19T18:24:56.306Z"
   },
   {
    "duration": 8,
    "start_time": "2023-04-19T18:24:56.314Z"
   },
   {
    "duration": 177,
    "start_time": "2023-04-19T18:24:56.324Z"
   },
   {
    "duration": 164,
    "start_time": "2023-04-19T18:24:56.502Z"
   },
   {
    "duration": 135,
    "start_time": "2023-04-19T18:24:56.668Z"
   },
   {
    "duration": 151,
    "start_time": "2023-04-19T18:24:56.805Z"
   },
   {
    "duration": 287,
    "start_time": "2023-04-19T18:24:56.976Z"
   },
   {
    "duration": 156,
    "start_time": "2023-04-19T18:24:57.273Z"
   },
   {
    "duration": 593,
    "start_time": "2023-04-19T18:24:57.431Z"
   },
   {
    "duration": 14,
    "start_time": "2023-04-19T18:24:58.026Z"
   },
   {
    "duration": 44,
    "start_time": "2023-04-19T18:24:58.042Z"
   },
   {
    "duration": 24,
    "start_time": "2023-04-19T18:24:58.088Z"
   },
   {
    "duration": 133,
    "start_time": "2023-04-19T18:24:58.114Z"
   },
   {
    "duration": 0,
    "start_time": "2023-04-19T18:24:58.249Z"
   },
   {
    "duration": 0,
    "start_time": "2023-04-19T18:24:58.250Z"
   },
   {
    "duration": 0,
    "start_time": "2023-04-19T18:24:58.251Z"
   },
   {
    "duration": 0,
    "start_time": "2023-04-19T18:24:58.252Z"
   },
   {
    "duration": 0,
    "start_time": "2023-04-19T18:24:58.253Z"
   },
   {
    "duration": 1,
    "start_time": "2023-04-19T18:24:58.254Z"
   },
   {
    "duration": 0,
    "start_time": "2023-04-19T18:24:58.256Z"
   },
   {
    "duration": 0,
    "start_time": "2023-04-19T18:24:58.257Z"
   },
   {
    "duration": 0,
    "start_time": "2023-04-19T18:24:58.258Z"
   },
   {
    "duration": 0,
    "start_time": "2023-04-19T18:24:58.259Z"
   },
   {
    "duration": 0,
    "start_time": "2023-04-19T18:24:58.263Z"
   },
   {
    "duration": 0,
    "start_time": "2023-04-19T18:24:58.264Z"
   },
   {
    "duration": 0,
    "start_time": "2023-04-19T18:24:58.265Z"
   },
   {
    "duration": 0,
    "start_time": "2023-04-19T18:24:58.266Z"
   },
   {
    "duration": 0,
    "start_time": "2023-04-19T18:24:58.267Z"
   },
   {
    "duration": 0,
    "start_time": "2023-04-19T18:24:58.269Z"
   },
   {
    "duration": 0,
    "start_time": "2023-04-19T18:24:58.270Z"
   },
   {
    "duration": 0,
    "start_time": "2023-04-19T18:24:58.271Z"
   },
   {
    "duration": 0,
    "start_time": "2023-04-19T18:24:58.272Z"
   },
   {
    "duration": 0,
    "start_time": "2023-04-19T18:24:58.274Z"
   },
   {
    "duration": 0,
    "start_time": "2023-04-19T18:24:58.275Z"
   },
   {
    "duration": 0,
    "start_time": "2023-04-19T18:24:58.276Z"
   },
   {
    "duration": 0,
    "start_time": "2023-04-19T18:24:58.277Z"
   },
   {
    "duration": 4,
    "start_time": "2023-04-19T18:25:15.590Z"
   },
   {
    "duration": 1503,
    "start_time": "2023-04-19T18:25:28.095Z"
   },
   {
    "duration": 50,
    "start_time": "2023-04-19T18:25:29.601Z"
   },
   {
    "duration": 21,
    "start_time": "2023-04-19T18:25:29.653Z"
   },
   {
    "duration": 5,
    "start_time": "2023-04-19T18:25:29.678Z"
   },
   {
    "duration": 25,
    "start_time": "2023-04-19T18:25:29.686Z"
   },
   {
    "duration": 49,
    "start_time": "2023-04-19T18:25:29.713Z"
   },
   {
    "duration": 24,
    "start_time": "2023-04-19T18:25:29.764Z"
   },
   {
    "duration": 9,
    "start_time": "2023-04-19T18:25:29.791Z"
   },
   {
    "duration": 11,
    "start_time": "2023-04-19T18:25:29.802Z"
   },
   {
    "duration": 20,
    "start_time": "2023-04-19T18:25:29.814Z"
   },
   {
    "duration": 43,
    "start_time": "2023-04-19T18:25:29.836Z"
   },
   {
    "duration": 7,
    "start_time": "2023-04-19T18:25:29.881Z"
   },
   {
    "duration": 10,
    "start_time": "2023-04-19T18:25:29.889Z"
   },
   {
    "duration": 8,
    "start_time": "2023-04-19T18:25:29.901Z"
   },
   {
    "duration": 20,
    "start_time": "2023-04-19T18:25:29.910Z"
   },
   {
    "duration": 36,
    "start_time": "2023-04-19T18:25:29.932Z"
   },
   {
    "duration": 6,
    "start_time": "2023-04-19T18:25:29.969Z"
   },
   {
    "duration": 192,
    "start_time": "2023-04-19T18:25:29.976Z"
   },
   {
    "duration": 142,
    "start_time": "2023-04-19T18:25:30.170Z"
   },
   {
    "duration": 159,
    "start_time": "2023-04-19T18:25:30.314Z"
   },
   {
    "duration": 138,
    "start_time": "2023-04-19T18:25:30.475Z"
   },
   {
    "duration": 271,
    "start_time": "2023-04-19T18:25:30.615Z"
   },
   {
    "duration": 144,
    "start_time": "2023-04-19T18:25:30.887Z"
   },
   {
    "duration": 577,
    "start_time": "2023-04-19T18:25:31.034Z"
   },
   {
    "duration": 5,
    "start_time": "2023-04-19T18:25:31.612Z"
   },
   {
    "duration": 41,
    "start_time": "2023-04-19T18:25:31.618Z"
   },
   {
    "duration": 15,
    "start_time": "2023-04-19T18:25:31.663Z"
   },
   {
    "duration": 11,
    "start_time": "2023-04-19T18:25:31.679Z"
   },
   {
    "duration": 18,
    "start_time": "2023-04-19T18:25:31.692Z"
   },
   {
    "duration": 21,
    "start_time": "2023-04-19T18:25:31.711Z"
   },
   {
    "duration": 66,
    "start_time": "2023-04-19T18:25:31.734Z"
   },
   {
    "duration": 142,
    "start_time": "2023-04-19T18:25:31.802Z"
   },
   {
    "duration": 463,
    "start_time": "2023-04-19T18:25:31.946Z"
   },
   {
    "duration": 7736,
    "start_time": "2023-04-19T18:25:32.411Z"
   },
   {
    "duration": 85949,
    "start_time": "2023-04-19T18:25:40.151Z"
   },
   {
    "duration": 146,
    "start_time": "2023-04-19T18:27:06.102Z"
   },
   {
    "duration": 457,
    "start_time": "2023-04-19T18:27:06.335Z"
   },
   {
    "duration": 10723,
    "start_time": "2023-04-19T18:27:06.794Z"
   },
   {
    "duration": 192147,
    "start_time": "2023-04-19T18:27:17.519Z"
   },
   {
    "duration": 5,
    "start_time": "2023-04-19T18:30:29.668Z"
   },
   {
    "duration": 5,
    "start_time": "2023-04-19T18:30:29.677Z"
   },
   {
    "duration": 159,
    "start_time": "2023-04-19T18:30:29.684Z"
   },
   {
    "duration": 619,
    "start_time": "2023-04-19T18:30:29.848Z"
   },
   {
    "duration": 18378,
    "start_time": "2023-04-19T18:30:30.469Z"
   },
   {
    "duration": 9,
    "start_time": "2023-04-19T18:30:48.848Z"
   },
   {
    "duration": 18,
    "start_time": "2023-04-19T18:30:48.858Z"
   },
   {
    "duration": 70,
    "start_time": "2023-04-19T18:30:48.877Z"
   },
   {
    "duration": 437,
    "start_time": "2023-04-19T18:30:48.952Z"
   },
   {
    "duration": 4975,
    "start_time": "2023-04-19T18:30:49.391Z"
   },
   {
    "duration": 301,
    "start_time": "2023-04-19T18:30:54.373Z"
   },
   {
    "duration": 23,
    "start_time": "2023-04-19T18:30:54.675Z"
   },
   {
    "duration": 58142,
    "start_time": "2023-04-19T18:57:27.659Z"
   },
   {
    "duration": 87154,
    "start_time": "2023-04-19T18:58:33.048Z"
   },
   {
    "duration": 85,
    "start_time": "2023-04-19T19:02:46.696Z"
   },
   {
    "duration": 93805,
    "start_time": "2023-04-19T19:02:55.223Z"
   },
   {
    "duration": 9,
    "start_time": "2023-04-19T19:04:29.030Z"
   },
   {
    "duration": 194,
    "start_time": "2023-04-19T19:04:29.043Z"
   },
   {
    "duration": 801,
    "start_time": "2023-04-19T19:24:11.609Z"
   },
   {
    "duration": 857,
    "start_time": "2023-04-19T19:24:37.770Z"
   },
   {
    "duration": 885,
    "start_time": "2023-04-19T19:24:49.661Z"
   },
   {
    "duration": 4,
    "start_time": "2023-04-19T19:28:39.570Z"
   },
   {
    "duration": 73,
    "start_time": "2023-04-19T19:28:42.595Z"
   },
   {
    "duration": 4,
    "start_time": "2023-04-19T19:28:49.793Z"
   },
   {
    "duration": 108,
    "start_time": "2023-04-19T19:28:53.730Z"
   },
   {
    "duration": 450,
    "start_time": "2023-04-19T19:28:58.262Z"
   },
   {
    "duration": 17080,
    "start_time": "2023-04-19T19:29:10.082Z"
   },
   {
    "duration": 83186,
    "start_time": "2023-04-19T19:31:15.896Z"
   },
   {
    "duration": 83615,
    "start_time": "2023-04-19T19:36:06.031Z"
   },
   {
    "duration": 3,
    "start_time": "2023-04-19T19:41:55.882Z"
   },
   {
    "duration": 56,
    "start_time": "2023-04-19T19:42:00.082Z"
   },
   {
    "duration": 4,
    "start_time": "2023-04-19T19:42:07.928Z"
   },
   {
    "duration": 52,
    "start_time": "2023-04-19T19:42:10.383Z"
   },
   {
    "duration": 97,
    "start_time": "2023-04-19T19:48:02.886Z"
   },
   {
    "duration": 102,
    "start_time": "2023-04-19T19:48:06.086Z"
   },
   {
    "duration": 97,
    "start_time": "2023-04-19T19:48:13.199Z"
   },
   {
    "duration": 4,
    "start_time": "2023-04-19T19:49:17.315Z"
   },
   {
    "duration": 69,
    "start_time": "2023-04-19T19:49:19.571Z"
   },
   {
    "duration": 24879,
    "start_time": "2023-04-19T19:50:11.858Z"
   },
   {
    "duration": 1321,
    "start_time": "2023-04-19T19:53:40.959Z"
   },
   {
    "duration": 40,
    "start_time": "2023-04-19T19:53:42.281Z"
   },
   {
    "duration": 12,
    "start_time": "2023-04-19T19:53:42.322Z"
   },
   {
    "duration": 10,
    "start_time": "2023-04-19T19:53:42.335Z"
   },
   {
    "duration": 30,
    "start_time": "2023-04-19T19:53:42.347Z"
   },
   {
    "duration": 17,
    "start_time": "2023-04-19T19:53:42.379Z"
   },
   {
    "duration": 5,
    "start_time": "2023-04-19T19:53:42.397Z"
   },
   {
    "duration": 5,
    "start_time": "2023-04-19T19:53:42.404Z"
   },
   {
    "duration": 7,
    "start_time": "2023-04-19T19:53:42.411Z"
   },
   {
    "duration": 33,
    "start_time": "2023-04-19T19:53:42.419Z"
   },
   {
    "duration": 5,
    "start_time": "2023-04-19T19:53:42.458Z"
   },
   {
    "duration": 6,
    "start_time": "2023-04-19T19:53:42.464Z"
   },
   {
    "duration": 11,
    "start_time": "2023-04-19T19:53:42.472Z"
   },
   {
    "duration": 8,
    "start_time": "2023-04-19T19:53:42.486Z"
   },
   {
    "duration": 5,
    "start_time": "2023-04-19T19:53:42.496Z"
   },
   {
    "duration": 8,
    "start_time": "2023-04-19T19:53:42.503Z"
   },
   {
    "duration": 6,
    "start_time": "2023-04-19T19:53:42.513Z"
   },
   {
    "duration": 196,
    "start_time": "2023-04-19T19:53:42.521Z"
   },
   {
    "duration": 147,
    "start_time": "2023-04-19T19:53:42.719Z"
   },
   {
    "duration": 118,
    "start_time": "2023-04-19T19:53:42.868Z"
   },
   {
    "duration": 131,
    "start_time": "2023-04-19T19:53:42.987Z"
   },
   {
    "duration": 231,
    "start_time": "2023-04-19T19:53:43.120Z"
   },
   {
    "duration": 122,
    "start_time": "2023-04-19T19:53:43.352Z"
   },
   {
    "duration": 490,
    "start_time": "2023-04-19T19:53:43.476Z"
   },
   {
    "duration": 4,
    "start_time": "2023-04-19T19:53:43.968Z"
   },
   {
    "duration": 6,
    "start_time": "2023-04-19T19:53:43.973Z"
   },
   {
    "duration": 6,
    "start_time": "2023-04-19T19:53:43.980Z"
   },
   {
    "duration": 7,
    "start_time": "2023-04-19T19:53:43.988Z"
   },
   {
    "duration": 12,
    "start_time": "2023-04-19T19:53:43.996Z"
   },
   {
    "duration": 4,
    "start_time": "2023-04-19T19:53:44.010Z"
   },
   {
    "duration": 54,
    "start_time": "2023-04-19T19:53:44.015Z"
   },
   {
    "duration": 66,
    "start_time": "2023-04-19T19:53:44.073Z"
   },
   {
    "duration": 502,
    "start_time": "2023-04-19T19:53:44.140Z"
   },
   {
    "duration": 7347,
    "start_time": "2023-04-19T19:53:44.650Z"
   },
   {
    "duration": 84665,
    "start_time": "2023-04-19T19:53:51.999Z"
   },
   {
    "duration": 177,
    "start_time": "2023-04-19T19:55:16.666Z"
   },
   {
    "duration": 409,
    "start_time": "2023-04-19T19:55:16.845Z"
   },
   {
    "duration": 8868,
    "start_time": "2023-04-19T19:55:17.257Z"
   },
   {
    "duration": 84040,
    "start_time": "2023-04-19T19:55:26.128Z"
   },
   {
    "duration": 4,
    "start_time": "2023-04-19T19:56:50.169Z"
   },
   {
    "duration": 10,
    "start_time": "2023-04-19T19:56:50.176Z"
   },
   {
    "duration": 81,
    "start_time": "2023-04-19T19:56:50.187Z"
   },
   {
    "duration": 531,
    "start_time": "2023-04-19T19:56:50.338Z"
   },
   {
    "duration": 17269,
    "start_time": "2023-04-19T19:56:50.870Z"
   },
   {
    "duration": 83615,
    "start_time": "2023-04-19T19:57:08.147Z"
   },
   {
    "duration": 4,
    "start_time": "2023-04-19T19:58:31.765Z"
   },
   {
    "duration": 11,
    "start_time": "2023-04-19T19:58:31.771Z"
   },
   {
    "duration": 62,
    "start_time": "2023-04-19T19:58:31.783Z"
   },
   {
    "duration": 454,
    "start_time": "2023-04-19T19:58:31.847Z"
   },
   {
    "duration": 5184,
    "start_time": "2023-04-19T19:58:32.302Z"
   },
   {
    "duration": 150932,
    "start_time": "2023-04-19T19:58:37.487Z"
   },
   {
    "duration": 802,
    "start_time": "2023-04-19T20:01:08.420Z"
   },
   {
    "duration": 61,
    "start_time": "2023-04-19T20:01:09.223Z"
   }
  ],
  "kernelspec": {
   "display_name": "Python 3 (ipykernel)",
   "language": "python",
   "name": "python3"
  },
  "language_info": {
   "codemirror_mode": {
    "name": "ipython",
    "version": 3
   },
   "file_extension": ".py",
   "mimetype": "text/x-python",
   "name": "python",
   "nbconvert_exporter": "python",
   "pygments_lexer": "ipython3",
   "version": "3.9.5"
  },
  "toc": {
   "base_numbering": 1,
   "nav_menu": {},
   "number_sections": true,
   "sideBar": true,
   "skip_h1_title": true,
   "title_cell": "Содержание",
   "title_sidebar": "Contents",
   "toc_cell": true,
   "toc_position": {},
   "toc_section_display": true,
   "toc_window_display": false
  }
 },
 "nbformat": 4,
 "nbformat_minor": 2
}
