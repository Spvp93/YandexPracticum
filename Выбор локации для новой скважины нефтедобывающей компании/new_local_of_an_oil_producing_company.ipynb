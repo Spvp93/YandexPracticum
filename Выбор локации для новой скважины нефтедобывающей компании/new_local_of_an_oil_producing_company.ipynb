{
 "cells": [
  {
   "cell_type": "markdown",
   "metadata": {},
   "source": [
    "<div style=\"border:solid blue 2px; padding: 20px\">\n",
    "<b>Привет, Андрей!👋</b>\n",
    "\n",
    "Меня зовут Арсений, и я буду ревьюером твоего проекта. Если не против, то давай общаться на «ты» :) Но мы легко можем перейти на «вы», если тебе так будет комфортнее. \n",
    "\n",
    "Моя основная цель — помочь тебе стать крутым специалистом, поэтому давай разберем твой проект и попробуем сделать его еще лучше. Ниже ты найдешь мои комментарии - **пожалуйста, не перемещай, не изменяй и не удаляй их**. Я буду использовать цветовую разметку:\n",
    "\n",
    "<div class=\"alert alert-danger\">\n",
    "<b>Комментарий ревьюера ❌:</b> Так выделены самые важные замечания. Без их отработки проект не будет принят. </div>\n",
    "\n",
    "<div class=\"alert alert-warning\">\n",
    "<b>Комментарий ревьюера ⚠️:</b> Так выделены небольшие замечания. Я надеюсь, что их ты тоже учтешь - твой проект от этого станет только лучше. Но исправлять их необязательно. </div>\n",
    "\n",
    "<div class=\"alert alert-success\">\n",
    "<b>Комментарий ревьюера ✔️:</b> Так я выделяю то, что сделано отлично. </div>\n",
    "\n",
    "Давай работать над проектом в диалоге: **если ты что-то меняешь в проекте или отвечаешь на мои комменатри — пиши об этом. Если нужно удалить часть кода или целую ячейку, то лучше просто закомментируй.** Мне будет легче отследить изменения, если ты выделишь свои комментарии:\n",
    "<div class=\"alert alert-info\"> <b>Комментарий студента:</b> Например, вот так. </div>"
   ]
  },
  {
   "cell_type": "markdown",
   "metadata": {},
   "source": [
    "# Выбор локации для скважины"
   ]
  },
  {
   "cell_type": "markdown",
   "metadata": {},
   "source": [
    "Допустим, вы работаете в добывающей компании «ГлавРосГосНефть». Нужно решить, где бурить новую скважину.\n",
    "\n",
    "Вам предоставлены пробы нефти в трёх регионах: в каждом 10 000 месторождений, где измерили качество нефти и объём её запасов. Постройте модель машинного обучения, которая поможет определить регион, где добыча принесёт наибольшую прибыль. Проанализируйте возможную прибыль и риски техникой *Bootstrap.*\n",
    "\n",
    "Шаги для выбора локации:\n",
    "\n",
    "- В избранном регионе ищут месторождения, для каждого определяют значения признаков;\n",
    "- Строят модель и оценивают объём запасов;\n",
    "- Выбирают месторождения с самым высокими оценками значений. Количество месторождений зависит от бюджета компании и стоимости разработки одной скважины;\n",
    "- Прибыль равна суммарной прибыли отобранных месторождений."
   ]
  },
  {
   "cell_type": "markdown",
   "metadata": {},
   "source": [
    "<div class=\"alert alert-success\">\n",
    "<b>Комментарий ревьюера ✔️:</b> Отличное вступление. Сюда еще можно добавить содержание и описание данных. Тогда, например, заказчику или проверяющему будет проще сориентироваться в твоем проекте. </div>"
   ]
  },
  {
   "cell_type": "markdown",
   "metadata": {},
   "source": [
    "## Загрузка и подготовка данных"
   ]
  },
  {
   "cell_type": "code",
   "execution_count": 1,
   "metadata": {},
   "outputs": [],
   "source": [
    "import os\n",
    "import pandas as pd\n",
    "import numpy as np\n",
    "\n",
    "from scipy import stats as st\n",
    "from sklearn.model_selection import train_test_split\n",
    "from sklearn.linear_model import LinearRegression\n",
    "from sklearn.metrics import mean_squared_error"
   ]
  },
  {
   "cell_type": "markdown",
   "metadata": {},
   "source": [
    "<div class=\"alert alert-success\">\n",
    "<b>Комментарий ревьюера ✔️:</b> Здорово, что все импорты находятся в одной ячейке. Но, чтобы сделать ещё лучше, приведу рекомендации по стандартам PEP-8.<br>\n",
    "    \n",
    "Импорты могут быть сгруппированы в следующем порядке:\n",
    "\n",
    "1.импорты из стандартной библиотеки\n",
    "    \n",
    "2.импорты сторонних библиотек\n",
    "    \n",
    "3.импорты модулей текущего проекта\n",
    "\n",
    "Можно вставить пустую строку между каждой группой импортов.\n",
    "\n",
    "В каждой группе желательно отсортировать импорты в алфавитном порядке.\n",
    "\n",
    "Ccылка для ознакомления: https://pythonworld.ru/osnovy/pep-8-rukovodstvo-po-napisaniyu-koda-na-python.html</div>"
   ]
  },
  {
   "cell_type": "code",
   "execution_count": 2,
   "metadata": {},
   "outputs": [],
   "source": [
    "RND = np.random.RandomState(12345)\n",
    "BOOTHSTR_SAMPLS = 1000\n",
    "BUDGET = 10**10\n",
    "PER_1K_BARRELL = 450000\n",
    "N_SAMPLS = 500\n",
    "WELLS_NUMBER = 200"
   ]
  },
  {
   "cell_type": "markdown",
   "metadata": {},
   "source": [
    "<div class=\"alert alert-success\">\n",
    "<b>Комментарий ревьюера ✔️:</b> Супер! Есть все необходимые константы. </div>"
   ]
  },
  {
   "cell_type": "code",
   "execution_count": 3,
   "metadata": {},
   "outputs": [],
   "source": [
    "reg0 = pd.read_csv('https://code.s3.yandex.net/datasets/geo_data_0.csv')\n",
    "reg1 = pd.read_csv('https://code.s3.yandex.net/datasets/geo_data_1.csv')\n",
    "reg2 = pd.read_csv('https://code.s3.yandex.net/datasets/geo_data_2.csv')\n",
    "regs = [reg0, reg1, reg2]"
   ]
  },
  {
   "cell_type": "code",
   "execution_count": 4,
   "metadata": {
    "scrolled": true
   },
   "outputs": [
    {
     "name": "stdout",
     "output_type": "stream",
     "text": [
      "<class 'pandas.core.frame.DataFrame'>\n",
      "RangeIndex: 100000 entries, 0 to 99999\n",
      "Data columns (total 5 columns):\n",
      " #   Column   Non-Null Count   Dtype  \n",
      "---  ------   --------------   -----  \n",
      " 0   id       100000 non-null  object \n",
      " 1   f0       100000 non-null  float64\n",
      " 2   f1       100000 non-null  float64\n",
      " 3   f2       100000 non-null  float64\n",
      " 4   product  100000 non-null  float64\n",
      "dtypes: float64(4), object(1)\n",
      "memory usage: 3.8+ MB\n",
      "None\n",
      "<class 'pandas.core.frame.DataFrame'>\n",
      "RangeIndex: 100000 entries, 0 to 99999\n",
      "Data columns (total 5 columns):\n",
      " #   Column   Non-Null Count   Dtype  \n",
      "---  ------   --------------   -----  \n",
      " 0   id       100000 non-null  object \n",
      " 1   f0       100000 non-null  float64\n",
      " 2   f1       100000 non-null  float64\n",
      " 3   f2       100000 non-null  float64\n",
      " 4   product  100000 non-null  float64\n",
      "dtypes: float64(4), object(1)\n",
      "memory usage: 3.8+ MB\n",
      "None\n",
      "<class 'pandas.core.frame.DataFrame'>\n",
      "RangeIndex: 100000 entries, 0 to 99999\n",
      "Data columns (total 5 columns):\n",
      " #   Column   Non-Null Count   Dtype  \n",
      "---  ------   --------------   -----  \n",
      " 0   id       100000 non-null  object \n",
      " 1   f0       100000 non-null  float64\n",
      " 2   f1       100000 non-null  float64\n",
      " 3   f2       100000 non-null  float64\n",
      " 4   product  100000 non-null  float64\n",
      "dtypes: float64(4), object(1)\n",
      "memory usage: 3.8+ MB\n",
      "None\n"
     ]
    }
   ],
   "source": [
    "for reg in regs:\n",
    "    print(reg.info())"
   ]
  },
  {
   "cell_type": "code",
   "execution_count": 5,
   "metadata": {
    "scrolled": true
   },
   "outputs": [
    {
     "name": "stdout",
     "output_type": "stream",
     "text": [
      "0\n",
      "0\n",
      "0\n"
     ]
    }
   ],
   "source": [
    "for reg in regs:\n",
    "    print(reg.duplicated().sum())"
   ]
  },
  {
   "cell_type": "code",
   "execution_count": 6,
   "metadata": {
    "scrolled": true
   },
   "outputs": [
    {
     "name": "stdout",
     "output_type": "stream",
     "text": [
      "id         0\n",
      "f0         0\n",
      "f1         0\n",
      "f2         0\n",
      "product    0\n",
      "dtype: int64\n",
      "id         0\n",
      "f0         0\n",
      "f1         0\n",
      "f2         0\n",
      "product    0\n",
      "dtype: int64\n",
      "id         0\n",
      "f0         0\n",
      "f1         0\n",
      "f2         0\n",
      "product    0\n",
      "dtype: int64\n"
     ]
    }
   ],
   "source": [
    "for reg in regs:\n",
    "    print(reg.isnull().sum())"
   ]
  },
  {
   "cell_type": "code",
   "execution_count": 7,
   "metadata": {
    "scrolled": true
   },
   "outputs": [
    {
     "name": "stdout",
     "output_type": "stream",
     "text": [
      "99990\n",
      "99996\n",
      "99996\n"
     ]
    }
   ],
   "source": [
    "for reg in regs:\n",
    "    print(len(reg['id'].unique()))"
   ]
  },
  {
   "cell_type": "markdown",
   "metadata": {},
   "source": [
    "<div class=\"alert alert-success\">\n",
    "<b>Комментарий ревьюера ✔️:</b> Данные загружены корректно. Есть первичный анализ данных. Молодец, что используешь циклы. Ведь так ты избегаешь дублирования кода.</div>"
   ]
  },
  {
   "cell_type": "markdown",
   "metadata": {},
   "source": [
    "<div class=\"alert alert-warning\">\n",
    "<b>Комментарий ревьюера ⚠️:</b> Еще можно было бы посмотреть на сами данные, например, методом head. И еще советую в циклах как-то разделать вывод, например, вставить пустую строку.  </div>"
   ]
  },
  {
   "cell_type": "code",
   "execution_count": 8,
   "metadata": {},
   "outputs": [],
   "source": [
    "for i in range(3):\n",
    "    regs[i] = regs[i].drop_duplicates(subset=['id']).reset_index(drop=True)\n",
    "    regs[i] = regs[i].drop(['id'], axis=1)"
   ]
  },
  {
   "cell_type": "markdown",
   "metadata": {},
   "source": [
    "<div class=\"alert alert-success\">\n",
    "<b>Комментарий ревьюера ✔️:</b> Да, этот признак нам действительно не понадобится.</div>"
   ]
  },
  {
   "cell_type": "code",
   "execution_count": 9,
   "metadata": {
    "scrolled": false
   },
   "outputs": [
    {
     "data": {
      "text/html": [
       "<div>\n",
       "<style scoped>\n",
       "    .dataframe tbody tr th:only-of-type {\n",
       "        vertical-align: middle;\n",
       "    }\n",
       "\n",
       "    .dataframe tbody tr th {\n",
       "        vertical-align: top;\n",
       "    }\n",
       "\n",
       "    .dataframe thead th {\n",
       "        text-align: right;\n",
       "    }\n",
       "</style>\n",
       "<table border=\"1\" class=\"dataframe\">\n",
       "  <thead>\n",
       "    <tr style=\"text-align: right;\">\n",
       "      <th></th>\n",
       "      <th>f0</th>\n",
       "      <th>f1</th>\n",
       "      <th>f2</th>\n",
       "      <th>product</th>\n",
       "    </tr>\n",
       "  </thead>\n",
       "  <tbody>\n",
       "    <tr>\n",
       "      <th>f0</th>\n",
       "      <td>1.000000</td>\n",
       "      <td>-0.440723</td>\n",
       "      <td>-0.003153</td>\n",
       "      <td>0.143536</td>\n",
       "    </tr>\n",
       "    <tr>\n",
       "      <th>f1</th>\n",
       "      <td>-0.440723</td>\n",
       "      <td>1.000000</td>\n",
       "      <td>0.001724</td>\n",
       "      <td>-0.192356</td>\n",
       "    </tr>\n",
       "    <tr>\n",
       "      <th>f2</th>\n",
       "      <td>-0.003153</td>\n",
       "      <td>0.001724</td>\n",
       "      <td>1.000000</td>\n",
       "      <td>0.483663</td>\n",
       "    </tr>\n",
       "    <tr>\n",
       "      <th>product</th>\n",
       "      <td>0.143536</td>\n",
       "      <td>-0.192356</td>\n",
       "      <td>0.483663</td>\n",
       "      <td>1.000000</td>\n",
       "    </tr>\n",
       "  </tbody>\n",
       "</table>\n",
       "</div>"
      ],
      "text/plain": [
       "               f0        f1        f2   product\n",
       "f0       1.000000 -0.440723 -0.003153  0.143536\n",
       "f1      -0.440723  1.000000  0.001724 -0.192356\n",
       "f2      -0.003153  0.001724  1.000000  0.483663\n",
       "product  0.143536 -0.192356  0.483663  1.000000"
      ]
     },
     "execution_count": 9,
     "metadata": {},
     "output_type": "execute_result"
    }
   ],
   "source": [
    "reg0.corr()"
   ]
  },
  {
   "cell_type": "markdown",
   "metadata": {},
   "source": [
    "В Регионе 0 видна корреляция между Product и F2, а также обратная корреляция между признаками F0 и F1"
   ]
  },
  {
   "cell_type": "code",
   "execution_count": 10,
   "metadata": {
    "scrolled": true
   },
   "outputs": [
    {
     "data": {
      "text/html": [
       "<div>\n",
       "<style scoped>\n",
       "    .dataframe tbody tr th:only-of-type {\n",
       "        vertical-align: middle;\n",
       "    }\n",
       "\n",
       "    .dataframe tbody tr th {\n",
       "        vertical-align: top;\n",
       "    }\n",
       "\n",
       "    .dataframe thead th {\n",
       "        text-align: right;\n",
       "    }\n",
       "</style>\n",
       "<table border=\"1\" class=\"dataframe\">\n",
       "  <thead>\n",
       "    <tr style=\"text-align: right;\">\n",
       "      <th></th>\n",
       "      <th>f0</th>\n",
       "      <th>f1</th>\n",
       "      <th>f2</th>\n",
       "      <th>product</th>\n",
       "    </tr>\n",
       "  </thead>\n",
       "  <tbody>\n",
       "    <tr>\n",
       "      <th>f0</th>\n",
       "      <td>1.000000</td>\n",
       "      <td>0.182287</td>\n",
       "      <td>-0.001777</td>\n",
       "      <td>-0.030491</td>\n",
       "    </tr>\n",
       "    <tr>\n",
       "      <th>f1</th>\n",
       "      <td>0.182287</td>\n",
       "      <td>1.000000</td>\n",
       "      <td>-0.002595</td>\n",
       "      <td>-0.010155</td>\n",
       "    </tr>\n",
       "    <tr>\n",
       "      <th>f2</th>\n",
       "      <td>-0.001777</td>\n",
       "      <td>-0.002595</td>\n",
       "      <td>1.000000</td>\n",
       "      <td>0.999397</td>\n",
       "    </tr>\n",
       "    <tr>\n",
       "      <th>product</th>\n",
       "      <td>-0.030491</td>\n",
       "      <td>-0.010155</td>\n",
       "      <td>0.999397</td>\n",
       "      <td>1.000000</td>\n",
       "    </tr>\n",
       "  </tbody>\n",
       "</table>\n",
       "</div>"
      ],
      "text/plain": [
       "               f0        f1        f2   product\n",
       "f0       1.000000  0.182287 -0.001777 -0.030491\n",
       "f1       0.182287  1.000000 -0.002595 -0.010155\n",
       "f2      -0.001777 -0.002595  1.000000  0.999397\n",
       "product -0.030491 -0.010155  0.999397  1.000000"
      ]
     },
     "execution_count": 10,
     "metadata": {},
     "output_type": "execute_result"
    }
   ],
   "source": [
    "reg1.corr()"
   ]
  },
  {
   "cell_type": "markdown",
   "metadata": {},
   "source": [
    "В Регионе 1 показана почти 100-процентная коррелляция у Product и F2"
   ]
  },
  {
   "cell_type": "code",
   "execution_count": 11,
   "metadata": {
    "scrolled": true
   },
   "outputs": [
    {
     "data": {
      "text/html": [
       "<div>\n",
       "<style scoped>\n",
       "    .dataframe tbody tr th:only-of-type {\n",
       "        vertical-align: middle;\n",
       "    }\n",
       "\n",
       "    .dataframe tbody tr th {\n",
       "        vertical-align: top;\n",
       "    }\n",
       "\n",
       "    .dataframe thead th {\n",
       "        text-align: right;\n",
       "    }\n",
       "</style>\n",
       "<table border=\"1\" class=\"dataframe\">\n",
       "  <thead>\n",
       "    <tr style=\"text-align: right;\">\n",
       "      <th></th>\n",
       "      <th>f0</th>\n",
       "      <th>f1</th>\n",
       "      <th>f2</th>\n",
       "      <th>product</th>\n",
       "    </tr>\n",
       "  </thead>\n",
       "  <tbody>\n",
       "    <tr>\n",
       "      <th>f0</th>\n",
       "      <td>1.000000</td>\n",
       "      <td>0.000528</td>\n",
       "      <td>-0.000448</td>\n",
       "      <td>-0.001987</td>\n",
       "    </tr>\n",
       "    <tr>\n",
       "      <th>f1</th>\n",
       "      <td>0.000528</td>\n",
       "      <td>1.000000</td>\n",
       "      <td>0.000779</td>\n",
       "      <td>-0.001012</td>\n",
       "    </tr>\n",
       "    <tr>\n",
       "      <th>f2</th>\n",
       "      <td>-0.000448</td>\n",
       "      <td>0.000779</td>\n",
       "      <td>1.000000</td>\n",
       "      <td>0.445871</td>\n",
       "    </tr>\n",
       "    <tr>\n",
       "      <th>product</th>\n",
       "      <td>-0.001987</td>\n",
       "      <td>-0.001012</td>\n",
       "      <td>0.445871</td>\n",
       "      <td>1.000000</td>\n",
       "    </tr>\n",
       "  </tbody>\n",
       "</table>\n",
       "</div>"
      ],
      "text/plain": [
       "               f0        f1        f2   product\n",
       "f0       1.000000  0.000528 -0.000448 -0.001987\n",
       "f1       0.000528  1.000000  0.000779 -0.001012\n",
       "f2      -0.000448  0.000779  1.000000  0.445871\n",
       "product -0.001987 -0.001012  0.445871  1.000000"
      ]
     },
     "execution_count": 11,
     "metadata": {},
     "output_type": "execute_result"
    }
   ],
   "source": [
    "reg2.corr()"
   ]
  },
  {
   "cell_type": "markdown",
   "metadata": {},
   "source": [
    "В Регионе 2 видна корреляция между Product и F2"
   ]
  },
  {
   "cell_type": "markdown",
   "metadata": {},
   "source": [
    "<div class=\"alert alert-warning\">\n",
    "<b>Комментарий ревьюера ⚠️:</b> Молодец, что смотришь на корреляцию признаков, ведь может иметь место проблема <a href='http://www.machinelearning.ru/wiki/index.php?title=%D0%9C%D1%83%D0%BB%D1%8C%D1%82%D0%B8%D0%BA%D0%BE%D0%BB%D0%BB%D0%B8%D0%BD%D0%B5%D0%B0%D1%80%D0%BD%D0%BE%D1%81%D1%82%D1%8C'>мультиколлинеарности</a>. Правда для наглядности рекомендую построить <a href=\"https://medium.com/@szabo.bibor/how-to-create-a-seaborn-correlation-heatmap-in-python-834c0686b88e\">хитмап</a>. </div>"
   ]
  },
  {
   "cell_type": "markdown",
   "metadata": {},
   "source": [
    "## Обучение и проверка модели"
   ]
  },
  {
   "cell_type": "code",
   "execution_count": 12,
   "metadata": {},
   "outputs": [],
   "source": [
    "def make_predictictions (data):\n",
    "    features = data.drop(['id', 'product'], axis = 1)\n",
    "    target = data['product']\n",
    "    features_train, features_valid, target_train, target_valid = train_test_split(features, target, test_size=.25, random_state=RND)\n",
    "    model = LinearRegression()\n",
    "    model.fit(features_train, target_train)\n",
    "    return pd.Series(model.predict(features_valid)), target_valid"
   ]
  },
  {
   "cell_type": "code",
   "execution_count": 13,
   "metadata": {},
   "outputs": [],
   "source": [
    "predicted_1, target_1 = make_predictictions(reg0)\n",
    "predicted_2, target_2 = make_predictictions(reg1)\n",
    "predicted_3, target_3 = make_predictictions(reg2)"
   ]
  },
  {
   "cell_type": "code",
   "execution_count": 14,
   "metadata": {},
   "outputs": [],
   "source": [
    "def show_rmse (answers, predictions):\n",
    "    mse = mean_squared_error(answers, predictions)\n",
    "    print('Средний запас сырья, тыс. баррелей:', predictions.mean())\n",
    "    print('RMSE:', mse ** 0.5)"
   ]
  },
  {
   "cell_type": "code",
   "execution_count": 15,
   "metadata": {
    "scrolled": true
   },
   "outputs": [
    {
     "name": "stdout",
     "output_type": "stream",
     "text": [
      "Регион 1\n",
      "Средний запас сырья, тыс. баррелей: 92.59256778438035\n",
      "RMSE: 37.5794217150813\n"
     ]
    }
   ],
   "source": [
    "print('Регион 1')\n",
    "show_rmse(target_1, predicted_1)"
   ]
  },
  {
   "cell_type": "code",
   "execution_count": 16,
   "metadata": {
    "scrolled": true
   },
   "outputs": [
    {
     "name": "stdout",
     "output_type": "stream",
     "text": [
      "Регион 2\n",
      "Средний запас сырья, тыс. баррелей: 68.76995145799754\n",
      "RMSE: 0.889736773768065\n"
     ]
    }
   ],
   "source": [
    "print('Регион 2')\n",
    "show_rmse(target_2, predicted_2)"
   ]
  },
  {
   "cell_type": "code",
   "execution_count": 17,
   "metadata": {
    "scrolled": true
   },
   "outputs": [
    {
     "name": "stdout",
     "output_type": "stream",
     "text": [
      "Регион 3\n",
      "Средний запас сырья, тыс. баррелей: 95.087528122523\n",
      "RMSE: 39.958042459521614\n"
     ]
    }
   ],
   "source": [
    "print('Регион 3')\n",
    "show_rmse(target_3, predicted_3)"
   ]
  },
  {
   "cell_type": "markdown",
   "metadata": {},
   "source": [
    "<div class=\"alert alert-success\">\n",
    "<b>Комментарий ревьюера ✔️:</b> Все правильно, молодец! И отличные функции.  </div>"
   ]
  },
  {
   "cell_type": "markdown",
   "metadata": {},
   "source": [
    "Самое маленькое значение RMSE вышло у Региона 1"
   ]
  },
  {
   "cell_type": "markdown",
   "metadata": {},
   "source": [
    "<div class=\"alert alert-warning\">\n",
    "<b>Комментарий ревьюера ⚠️:</b> Вывод лучше расписать более поподробнее. </div>"
   ]
  },
  {
   "cell_type": "markdown",
   "metadata": {},
   "source": [
    "## Подготовка к расчёту прибыли"
   ]
  },
  {
   "cell_type": "code",
   "execution_count": 18,
   "metadata": {},
   "outputs": [],
   "source": [
    "BUDGET_FOR_ONE = BUDGET / WELLS_NUMBER\n",
    "Min_mean_product = BUDGET_FOR_ONE / PER_1K_BARRELL"
   ]
  },
  {
   "cell_type": "code",
   "execution_count": 19,
   "metadata": {
    "scrolled": true
   },
   "outputs": [
    {
     "data": {
      "text/plain": [
       "111.11111111111111"
      ]
     },
     "execution_count": 19,
     "metadata": {},
     "output_type": "execute_result"
    }
   ],
   "source": [
    "Min_mean_product"
   ]
  },
  {
   "cell_type": "markdown",
   "metadata": {},
   "source": [
    "<div class=\"alert alert-success\">\n",
    "<b>Комментарий ревьюера ✔️:</b> Расчеты верны. </div>"
   ]
  },
  {
   "cell_type": "markdown",
   "metadata": {},
   "source": [
    "Минимальный объем сырья при котором разработка месторождения не будет убыточной"
   ]
  },
  {
   "cell_type": "code",
   "execution_count": 20,
   "metadata": {},
   "outputs": [
    {
     "name": "stdout",
     "output_type": "stream",
     "text": [
      "Средний истинный запас сырья в регионах, тыс. баррелей:\n",
      "\n",
      "Регион  1 :  92.07859674082927\n",
      "Регион  2 :  68.77162424984647\n",
      "Регион  3 :  94.74895871720241\n"
     ]
    }
   ],
   "source": [
    "print(\"Средний истинный запас сырья в регионах, тыс. баррелей:\")\n",
    "print()\n",
    "count = 0\n",
    "targets = [target_1, target_2, target_3]\n",
    "for target in targets:\n",
    "    count += 1\n",
    "    print('Регион ', count,': ',  target.mean())"
   ]
  },
  {
   "cell_type": "markdown",
   "metadata": {},
   "source": [
    "Исследуя средний истинный запас сырья в регионах, разработка месторождений в любом регионе будет убыточной."
   ]
  },
  {
   "cell_type": "markdown",
   "metadata": {},
   "source": [
    "<div class=\"alert alert-warning\">\n",
    "<b>Комментарий ревьюера ⚠️:</b> Будет убыток только в том случае, если выбирать скважины для разработки случайным образом. </div>"
   ]
  },
  {
   "cell_type": "markdown",
   "metadata": {},
   "source": [
    "Выберем 500 скважин из которых отберем 200 лучших"
   ]
  },
  {
   "cell_type": "code",
   "execution_count": 21,
   "metadata": {},
   "outputs": [],
   "source": [
    "def revenue(target, probabilities):\n",
    "    target = pd.Series(target).reset_index(drop=True)\n",
    "    probabilities = pd.Series(probabilities).reset_index(drop=True)\n",
    "    probs_sorted = probabilities.sort_values(ascending=False)\n",
    "    selected = target[probs_sorted.index][:WELLS_NUMBER]\n",
    "    mlrd = 1000000000\n",
    "    return ((PER_1K_BARRELL * selected.sum()) - BUDGET) / mlrd"
   ]
  },
  {
   "cell_type": "markdown",
   "metadata": {},
   "source": [
    "<div class=\"alert alert-success\">\n",
    "<b>Комментарий ревьюера ✔️:</b> Алгоритм верный. </div>"
   ]
  },
  {
   "cell_type": "code",
   "execution_count": 22,
   "metadata": {},
   "outputs": [
    {
     "data": {
      "text/plain": [
       "3.3208260431398506"
      ]
     },
     "execution_count": 22,
     "metadata": {},
     "output_type": "execute_result"
    }
   ],
   "source": [
    "revenue(target_1, predicted_1)"
   ]
  },
  {
   "cell_type": "code",
   "execution_count": 23,
   "metadata": {
    "scrolled": true
   },
   "outputs": [
    {
     "data": {
      "text/plain": [
       "2.4150866966815108"
      ]
     },
     "execution_count": 23,
     "metadata": {},
     "output_type": "execute_result"
    }
   ],
   "source": [
    "revenue(target_2, predicted_2)"
   ]
  },
  {
   "cell_type": "code",
   "execution_count": 24,
   "metadata": {},
   "outputs": [
    {
     "data": {
      "text/plain": [
       "2.539915945842947"
      ]
     },
     "execution_count": 24,
     "metadata": {},
     "output_type": "execute_result"
    }
   ],
   "source": [
    "revenue(target_3, predicted_3)"
   ]
  },
  {
   "cell_type": "markdown",
   "metadata": {},
   "source": [
    "Самый прибыльный регион - Регион 1, так как может принести прибыль больше трех миллиардов рублей"
   ]
  },
  {
   "cell_type": "markdown",
   "metadata": {},
   "source": [
    "<div class=\"alert alert-warning\">\n",
    "<b>Комментарий ревьюера ⚠️:</b> Пока что рано это утверждать. </div>"
   ]
  },
  {
   "cell_type": "markdown",
   "metadata": {},
   "source": [
    "## Расчёт прибыли и рисков "
   ]
  },
  {
   "cell_type": "code",
   "execution_count": 25,
   "metadata": {},
   "outputs": [],
   "source": [
    "def bootstrap (target, predictions):\n",
    "    values = []\n",
    "    for i in range(BOOTHSTR_SAMPLS):\n",
    "        target_subsample = target.reset_index(drop=True).sample(n=N_SAMPLS, replace=True, random_state=RND)\n",
    "        probs_subsample = predictions[target_subsample.index]\n",
    "        rev = revenue(target_subsample, probs_subsample)\n",
    "        values.append(rev)\n",
    "    risk = 0.025\n",
    "    values = pd.Series(values)\n",
    "    lower = values.quantile(risk)\n",
    "    #confidence_interval = st.t.interval(0.95, len(values)-1, values.mean(), values.sem())\n",
    "    confidence_interval = (values.quantile(0.025), values.quantile(0.975))\n",
    "    mean = values.mean()\n",
    "\n",
    "    print(\"Средняя выручка:\", mean)\n",
    "    print(\"2.5%-квантиль:\", lower)\n",
    "    print(\"Доверительный интервал:\", confidence_interval)\n",
    "    print(f\"Риск убытка: {(values < 0).mean():.1%}\")"
   ]
  },
  {
   "cell_type": "markdown",
   "metadata": {},
   "source": [
    "<div class=\"alert alert-success\">\n",
    "<b>Комментарий ревьюера ✔️:</b> Отличная функция, в ней реализованы все необходимые шаги. И здорово, что ты не забыл избавиться от несоответствия индексов. Иначе бы возникли ошибки в расчетах. </div>"
   ]
  },
  {
   "cell_type": "markdown",
   "metadata": {},
   "source": [
    "<div class=\"alert alert-warning\">\n",
    "<b>Комментарий ревьюера ⚠️:</b> Тут еще есть одна интересная деталь, связанная с реализацией самого Bootstrap: в процессе может получиться, что выборка с реальными значениями для подсчёта прибыли получится большего размера, чем мы ожидаем. Например, не 200 скважин, а 206-208 значений, соответственно, риск будет при этом занижен, ведь прибыль мы считаем, учитывая расходы на разработку именно 200 скважин, меньшего числа. <br>\n",
    "Рекомендация здесь: не бутстрапировать отдельно столбец с предсказаниями, а привязывать его при этом к столбцу с реальными значениями, например, бутстрапируя цельный DataFrame с предсказанными и реальными значениями.</div>"
   ]
  },
  {
   "cell_type": "markdown",
   "metadata": {},
   "source": [
    "<div class=\"alert alert-danger\">\n",
    "<b>Комментарий ревьюера ❌:</b> Чтобы правильно оценить риск убытков для каждого региона, лучше вывести эти значения в процентах. Это можно сделать, например, так:\n",
    "    \n",
    "    print(f\"Риск убытка: {(values < 0).mean():.1%}\")            \n",
    "</div>"
   ]
  },
  {
   "cell_type": "markdown",
   "metadata": {},
   "source": [
    "<div class=\"alert alert-success\">\n",
    "<b>Комментарий ревьюера v2 ✔️:</b> Исправлено.  </div>"
   ]
  },
  {
   "cell_type": "code",
   "execution_count": 26,
   "metadata": {
    "scrolled": false
   },
   "outputs": [
    {
     "name": "stdout",
     "output_type": "stream",
     "text": [
      "Средняя выручка: 0.3942844113405507\n",
      "2.5%-квантиль: -0.06945056685672114\n",
      "Доверительный интервал: (-0.06945056685672114, 0.9154961658311511)\n",
      "Риск убытка: 6.1%\n"
     ]
    }
   ],
   "source": [
    "bootstrap(target_1, predicted_1)"
   ]
  },
  {
   "cell_type": "code",
   "execution_count": 27,
   "metadata": {},
   "outputs": [
    {
     "name": "stdout",
     "output_type": "stream",
     "text": [
      "Средняя выручка: 0.45473635909735777\n",
      "2.5%-квантиль: 0.06107181129769897\n",
      "Доверительный интервал: (0.06107181129769897, 0.8559141491428356)\n",
      "Риск убытка: 0.7%\n"
     ]
    }
   ],
   "source": [
    "bootstrap(target_2, predicted_2)"
   ]
  },
  {
   "cell_type": "code",
   "execution_count": 28,
   "metadata": {
    "scrolled": true
   },
   "outputs": [
    {
     "name": "stdout",
     "output_type": "stream",
     "text": [
      "Средняя выручка: 0.3536640975248346\n",
      "2.5%-квантиль: -0.16265094694229268\n",
      "Доверительный интервал: (-0.16265094694229268, 0.8477618445147683)\n",
      "Риск убытка: 7.6%\n"
     ]
    }
   ],
   "source": [
    "bootstrap(target_3, predicted_3)"
   ]
  },
  {
   "cell_type": "markdown",
   "metadata": {},
   "source": [
    "## Вывод\n",
    "\n",
    "Самым финансово безопасным регионом для разработки является Регион 2, так как имеет наименьшее число риска убытка."
   ]
  },
  {
   "cell_type": "markdown",
   "metadata": {},
   "source": [
    "<div class=\"alert alert-warning\">\n",
    "<b>Комментарий ревьюера ⚠️:</b> Все верно, ты выбрал правильный регион! Только итоговый вывод рекомендую написать поподробнее.  </div>"
   ]
  },
  {
   "cell_type": "markdown",
   "metadata": {},
   "source": [
    "<div style=\"border:solid blue 2px; padding: 20px\">\n",
    "<b>Итоговый комментарий ревьюера</b>\n",
    "<div class=\"alert alert-block alert-success\">\n",
    "<b>✔️ Комментарий ревьюера:</b>\n",
    "Мне очень понравилась твоя работа. Спасибо тебе большое, за хорошее оформление проекта.\n",
    "Чувствуется уверенное знание материала и владение питоном в целом. \n",
    "</div>\n",
    "<b>Но нужно кое-что поправить:</b>\n",
    "<div class=\"alert alert-block alert-danger\">\n",
    "<ul>1) Корректно посчитать риск убытков.</ul>\n",
    "\n",
    "</div>\n",
    "\n",
    "<b>Осталось совсем немного, буду ждать твою работу на повторное ревью 🙂</b></div>"
   ]
  },
  {
   "cell_type": "markdown",
   "metadata": {},
   "source": [
    "<div style=\"border:solid blue 2px; padding: 20px\">\n",
    "<b>Итоговый комментарий ревьюера v2</b>\n",
    "<div class=\"alert alert-block alert-success\">\n",
    "<b>✔️ Комментарий ревьюера:</b>\n",
    "Все недочеты исправлены. Проект принят, поздравляю🥳\n",
    "</div>\n",
    "\n",
    "<b>Желаю успехов и удачи!</b></div>"
   ]
  },
  {
   "cell_type": "markdown",
   "metadata": {},
   "source": [
    "## Чек-лист готовности проекта"
   ]
  },
  {
   "cell_type": "markdown",
   "metadata": {},
   "source": [
    "Поставьте 'x' в выполненных пунктах. Далее нажмите Shift+Enter."
   ]
  },
  {
   "cell_type": "markdown",
   "metadata": {},
   "source": [
    "- [x]  Jupyter Notebook открыт\n",
    "- [x]  Весь код выполняется без ошибок\n",
    "- [x]  Ячейки с кодом расположены в порядке исполнения\n",
    "- [x]  Выполнен шаг 1: данные подготовлены\n",
    "- [x]  Выполнен шаг 2: модели обучены и проверены\n",
    "    - [x]  Данные корректно разбиты на обучающую и валидационную выборки\n",
    "    - [x]  Модели обучены, предсказания сделаны\n",
    "    - [x]  Предсказания и правильные ответы на валидационной выборке сохранены\n",
    "    - [x]  На экране напечатаны результаты\n",
    "    - [x]  Сделаны выводы\n",
    "- [x]  Выполнен шаг 3: проведена подготовка к расчёту прибыли\n",
    "    - [x]  Для всех ключевых значений созданы константы Python\n",
    "    - [x]  Посчитано минимальное среднее количество продукта в месторождениях региона, достаточное для разработки\n",
    "    - [x]  По предыдущему пункту сделаны выводы\n",
    "    - [x]  Написана функция расчёта прибыли\n",
    "- [x]  Выполнен шаг 4: посчитаны риски и прибыль\n",
    "    - [x]  Проведена процедура *Bootstrap*\n",
    "    - [x]  Все параметры бутстрепа соответствуют условию\n",
    "    - [x]  Найдены все нужные величины\n",
    "    - [x]  Предложен регион для разработки месторождения\n",
    "    - [x]  Выбор региона обоснован"
   ]
  },
  {
   "cell_type": "code",
   "execution_count": null,
   "metadata": {},
   "outputs": [],
   "source": []
  }
 ],
 "metadata": {
  "ExecuteTimeLog": [
   {
    "duration": 1109,
    "start_time": "2023-04-25T17:32:20.616Z"
   },
   {
    "duration": 3,
    "start_time": "2023-04-25T17:32:23.026Z"
   },
   {
    "duration": 1098,
    "start_time": "2023-04-25T17:32:32.378Z"
   },
   {
    "duration": 41,
    "start_time": "2023-04-25T17:32:50.977Z"
   },
   {
    "duration": 130,
    "start_time": "2023-04-25T17:33:28.020Z"
   },
   {
    "duration": 25,
    "start_time": "2023-04-25T17:33:36.974Z"
   },
   {
    "duration": 64,
    "start_time": "2023-04-25T17:33:49.235Z"
   },
   {
    "duration": 93,
    "start_time": "2023-04-25T17:34:07.540Z"
   },
   {
    "duration": 22,
    "start_time": "2023-04-25T17:34:15.186Z"
   },
   {
    "duration": 20,
    "start_time": "2023-04-25T17:35:26.630Z"
   },
   {
    "duration": 18,
    "start_time": "2023-04-25T17:36:17.303Z"
   },
   {
    "duration": 4,
    "start_time": "2023-04-25T17:37:02.119Z"
   },
   {
    "duration": 285,
    "start_time": "2023-04-25T17:37:12.391Z"
   },
   {
    "duration": 3,
    "start_time": "2023-04-25T17:37:20.184Z"
   },
   {
    "duration": 8,
    "start_time": "2023-04-25T17:37:28.455Z"
   },
   {
    "duration": 10,
    "start_time": "2023-04-25T17:39:08.952Z"
   },
   {
    "duration": 8,
    "start_time": "2023-04-25T17:39:25.417Z"
   },
   {
    "duration": 3,
    "start_time": "2023-04-25T17:40:11.211Z"
   },
   {
    "duration": 4,
    "start_time": "2023-04-25T17:40:19.078Z"
   },
   {
    "duration": 7,
    "start_time": "2023-04-25T17:40:45.084Z"
   },
   {
    "duration": 3,
    "start_time": "2023-04-25T17:42:43.439Z"
   },
   {
    "duration": 9,
    "start_time": "2023-04-25T17:42:50.991Z"
   },
   {
    "duration": 10,
    "start_time": "2023-04-25T17:43:01.951Z"
   },
   {
    "duration": 19,
    "start_time": "2023-04-25T17:43:13.050Z"
   },
   {
    "duration": 7,
    "start_time": "2023-04-25T17:44:02.162Z"
   },
   {
    "duration": 1598,
    "start_time": "2023-04-25T17:44:12.224Z"
   },
   {
    "duration": 1288,
    "start_time": "2023-04-25T17:44:36.707Z"
   },
   {
    "duration": 1673,
    "start_time": "2023-04-25T17:45:12.034Z"
   },
   {
    "duration": 1345,
    "start_time": "2023-04-26T07:41:27.227Z"
   },
   {
    "duration": 4,
    "start_time": "2023-04-26T07:41:28.574Z"
   },
   {
    "duration": 965,
    "start_time": "2023-04-26T07:41:28.580Z"
   },
   {
    "duration": 42,
    "start_time": "2023-04-26T07:41:29.547Z"
   },
   {
    "duration": 143,
    "start_time": "2023-04-26T07:41:29.591Z"
   },
   {
    "duration": 21,
    "start_time": "2023-04-26T07:41:29.736Z"
   },
   {
    "duration": 44,
    "start_time": "2023-04-26T07:41:29.759Z"
   },
   {
    "duration": 104,
    "start_time": "2023-04-26T07:41:29.805Z"
   },
   {
    "duration": 32,
    "start_time": "2023-04-26T07:41:29.911Z"
   },
   {
    "duration": 15,
    "start_time": "2023-04-26T07:41:29.946Z"
   },
   {
    "duration": 15,
    "start_time": "2023-04-26T07:41:29.963Z"
   },
   {
    "duration": 4,
    "start_time": "2023-04-26T07:41:29.980Z"
   },
   {
    "duration": 451,
    "start_time": "2023-04-26T07:41:29.986Z"
   },
   {
    "duration": 5,
    "start_time": "2023-04-26T07:41:30.439Z"
   },
   {
    "duration": 103,
    "start_time": "2023-04-26T07:41:30.537Z"
   },
   {
    "duration": 44,
    "start_time": "2023-04-26T07:41:30.643Z"
   },
   {
    "duration": 25,
    "start_time": "2023-04-26T07:41:30.690Z"
   },
   {
    "duration": 33,
    "start_time": "2023-04-26T07:41:30.717Z"
   },
   {
    "duration": 56,
    "start_time": "2023-04-26T07:41:30.752Z"
   },
   {
    "duration": 41,
    "start_time": "2023-04-26T07:41:30.811Z"
   },
   {
    "duration": 23,
    "start_time": "2023-04-26T07:41:30.855Z"
   },
   {
    "duration": 41,
    "start_time": "2023-04-26T07:41:30.880Z"
   },
   {
    "duration": 27,
    "start_time": "2023-04-26T07:41:30.923Z"
   },
   {
    "duration": 23,
    "start_time": "2023-04-26T07:41:30.952Z"
   },
   {
    "duration": 9,
    "start_time": "2023-04-26T07:41:30.977Z"
   },
   {
    "duration": 1465,
    "start_time": "2023-04-26T07:41:30.988Z"
   },
   {
    "duration": 1437,
    "start_time": "2023-04-26T07:41:32.455Z"
   },
   {
    "duration": 1414,
    "start_time": "2023-04-26T07:41:33.895Z"
   },
   {
    "duration": 5,
    "start_time": "2023-04-26T07:44:46.344Z"
   },
   {
    "duration": 7,
    "start_time": "2023-04-26T08:00:36.750Z"
   },
   {
    "duration": 1456,
    "start_time": "2023-04-26T08:00:41.926Z"
   },
   {
    "duration": 1443,
    "start_time": "2023-04-26T08:00:44.229Z"
   },
   {
    "duration": 1462,
    "start_time": "2023-04-26T08:00:46.187Z"
   },
   {
    "duration": 1291,
    "start_time": "2023-04-26T08:04:10.412Z"
   },
   {
    "duration": 3,
    "start_time": "2023-04-26T08:04:11.706Z"
   },
   {
    "duration": 1195,
    "start_time": "2023-04-26T08:04:11.711Z"
   },
   {
    "duration": 46,
    "start_time": "2023-04-26T08:04:12.908Z"
   },
   {
    "duration": 146,
    "start_time": "2023-04-26T08:04:12.957Z"
   },
   {
    "duration": 39,
    "start_time": "2023-04-26T08:04:13.105Z"
   },
   {
    "duration": 60,
    "start_time": "2023-04-26T08:04:13.146Z"
   },
   {
    "duration": 108,
    "start_time": "2023-04-26T08:04:13.208Z"
   },
   {
    "duration": 31,
    "start_time": "2023-04-26T08:04:13.318Z"
   },
   {
    "duration": 16,
    "start_time": "2023-04-26T08:04:13.350Z"
   },
   {
    "duration": 15,
    "start_time": "2023-04-26T08:04:13.368Z"
   },
   {
    "duration": 7,
    "start_time": "2023-04-26T08:04:13.385Z"
   },
   {
    "duration": 443,
    "start_time": "2023-04-26T08:04:13.393Z"
   },
   {
    "duration": 4,
    "start_time": "2023-04-26T08:04:13.841Z"
   },
   {
    "duration": 102,
    "start_time": "2023-04-26T08:04:13.936Z"
   },
   {
    "duration": 24,
    "start_time": "2023-04-26T08:04:14.041Z"
   },
   {
    "duration": 11,
    "start_time": "2023-04-26T08:04:14.068Z"
   },
   {
    "duration": 10,
    "start_time": "2023-04-26T08:04:14.081Z"
   },
   {
    "duration": 13,
    "start_time": "2023-04-26T08:04:14.093Z"
   },
   {
    "duration": 19,
    "start_time": "2023-04-26T08:04:14.108Z"
   },
   {
    "duration": 5,
    "start_time": "2023-04-26T08:04:14.129Z"
   },
   {
    "duration": 16,
    "start_time": "2023-04-26T08:04:14.136Z"
   },
   {
    "duration": 10,
    "start_time": "2023-04-26T08:04:14.154Z"
   },
   {
    "duration": 13,
    "start_time": "2023-04-26T08:04:14.166Z"
   },
   {
    "duration": 6,
    "start_time": "2023-04-26T08:04:14.181Z"
   },
   {
    "duration": 1452,
    "start_time": "2023-04-26T08:04:14.188Z"
   },
   {
    "duration": 1487,
    "start_time": "2023-04-26T08:04:15.642Z"
   },
   {
    "duration": 1416,
    "start_time": "2023-04-26T08:04:17.133Z"
   },
   {
    "duration": 9,
    "start_time": "2023-04-26T11:29:29.652Z"
   },
   {
    "duration": 44,
    "start_time": "2023-04-26T11:29:32.090Z"
   },
   {
    "duration": 1108,
    "start_time": "2023-04-26T11:29:40.732Z"
   },
   {
    "duration": 4,
    "start_time": "2023-04-26T11:29:41.842Z"
   },
   {
    "duration": 814,
    "start_time": "2023-04-26T11:29:41.847Z"
   },
   {
    "duration": 35,
    "start_time": "2023-04-26T11:29:42.663Z"
   },
   {
    "duration": 120,
    "start_time": "2023-04-26T11:29:42.699Z"
   },
   {
    "duration": 31,
    "start_time": "2023-04-26T11:29:42.821Z"
   },
   {
    "duration": 46,
    "start_time": "2023-04-26T11:29:42.854Z"
   },
   {
    "duration": 83,
    "start_time": "2023-04-26T11:29:42.901Z"
   },
   {
    "duration": 19,
    "start_time": "2023-04-26T11:29:42.986Z"
   },
   {
    "duration": 13,
    "start_time": "2023-04-26T11:29:43.008Z"
   },
   {
    "duration": 14,
    "start_time": "2023-04-26T11:29:43.035Z"
   },
   {
    "duration": 15,
    "start_time": "2023-04-26T11:29:43.050Z"
   },
   {
    "duration": 276,
    "start_time": "2023-04-26T11:29:43.066Z"
   },
   {
    "duration": 92,
    "start_time": "2023-04-26T11:29:43.344Z"
   },
   {
    "duration": 100,
    "start_time": "2023-04-26T11:29:43.438Z"
   },
   {
    "duration": 6,
    "start_time": "2023-04-26T11:29:43.540Z"
   },
   {
    "duration": 4,
    "start_time": "2023-04-26T11:29:43.548Z"
   },
   {
    "duration": 4,
    "start_time": "2023-04-26T11:29:43.554Z"
   },
   {
    "duration": 7,
    "start_time": "2023-04-26T11:29:43.559Z"
   },
   {
    "duration": 6,
    "start_time": "2023-04-26T11:29:43.568Z"
   },
   {
    "duration": 4,
    "start_time": "2023-04-26T11:29:43.575Z"
   },
   {
    "duration": 10,
    "start_time": "2023-04-26T11:29:43.581Z"
   },
   {
    "duration": 43,
    "start_time": "2023-04-26T11:29:43.592Z"
   },
   {
    "duration": 9,
    "start_time": "2023-04-26T11:29:43.637Z"
   },
   {
    "duration": 32,
    "start_time": "2023-04-26T11:29:43.648Z"
   },
   {
    "duration": 1296,
    "start_time": "2023-04-26T11:29:43.682Z"
   },
   {
    "duration": 1244,
    "start_time": "2023-04-26T11:29:44.980Z"
   },
   {
    "duration": 1239,
    "start_time": "2023-04-26T11:29:46.227Z"
   },
   {
    "duration": 1103,
    "start_time": "2023-04-27T08:16:17.426Z"
   },
   {
    "duration": 4,
    "start_time": "2023-04-27T08:16:18.531Z"
   },
   {
    "duration": 1539,
    "start_time": "2023-04-27T08:16:18.537Z"
   },
   {
    "duration": 47,
    "start_time": "2023-04-27T08:16:20.077Z"
   },
   {
    "duration": 122,
    "start_time": "2023-04-27T08:16:20.126Z"
   },
   {
    "duration": 16,
    "start_time": "2023-04-27T08:16:20.250Z"
   },
   {
    "duration": 53,
    "start_time": "2023-04-27T08:16:20.267Z"
   },
   {
    "duration": 84,
    "start_time": "2023-04-27T08:16:20.322Z"
   },
   {
    "duration": 20,
    "start_time": "2023-04-27T08:16:20.408Z"
   },
   {
    "duration": 13,
    "start_time": "2023-04-27T08:16:20.430Z"
   },
   {
    "duration": 13,
    "start_time": "2023-04-27T08:16:20.445Z"
   },
   {
    "duration": 12,
    "start_time": "2023-04-27T08:16:20.459Z"
   },
   {
    "duration": 439,
    "start_time": "2023-04-27T08:16:20.472Z"
   },
   {
    "duration": 83,
    "start_time": "2023-04-27T08:16:20.912Z"
   },
   {
    "duration": 9,
    "start_time": "2023-04-27T08:16:20.997Z"
   },
   {
    "duration": 7,
    "start_time": "2023-04-27T08:16:21.094Z"
   },
   {
    "duration": 4,
    "start_time": "2023-04-27T08:16:21.103Z"
   },
   {
    "duration": 2,
    "start_time": "2023-04-27T08:16:21.109Z"
   },
   {
    "duration": 13,
    "start_time": "2023-04-27T08:16:21.113Z"
   },
   {
    "duration": 19,
    "start_time": "2023-04-27T08:16:21.127Z"
   },
   {
    "duration": 8,
    "start_time": "2023-04-27T08:16:21.148Z"
   },
   {
    "duration": 9,
    "start_time": "2023-04-27T08:16:21.157Z"
   },
   {
    "duration": 28,
    "start_time": "2023-04-27T08:16:21.168Z"
   },
   {
    "duration": 8,
    "start_time": "2023-04-27T08:16:21.198Z"
   },
   {
    "duration": 4,
    "start_time": "2023-04-27T08:16:21.208Z"
   },
   {
    "duration": 1339,
    "start_time": "2023-04-27T08:16:21.214Z"
   },
   {
    "duration": 1280,
    "start_time": "2023-04-27T08:16:22.555Z"
   },
   {
    "duration": 1388,
    "start_time": "2023-04-27T08:16:23.838Z"
   }
  ],
  "kernelspec": {
   "display_name": "Python 3 (ipykernel)",
   "language": "python",
   "name": "python3"
  },
  "language_info": {
   "codemirror_mode": {
    "name": "ipython",
    "version": 3
   },
   "file_extension": ".py",
   "mimetype": "text/x-python",
   "name": "python",
   "nbconvert_exporter": "python",
   "pygments_lexer": "ipython3",
   "version": "3.9.5"
  },
  "toc": {
   "base_numbering": 1,
   "nav_menu": {},
   "number_sections": true,
   "sideBar": true,
   "skip_h1_title": true,
   "title_cell": "Table of Contents",
   "title_sidebar": "Contents",
   "toc_cell": false,
   "toc_position": {},
   "toc_section_display": true,
   "toc_window_display": false
  }
 },
 "nbformat": 4,
 "nbformat_minor": 2
}
