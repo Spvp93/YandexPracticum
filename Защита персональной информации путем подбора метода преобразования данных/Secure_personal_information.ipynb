{
 "cells": [
  {
   "cell_type": "markdown",
   "metadata": {},
   "source": [
    "<div style=\"border:solid Chocolate 2px; padding: 40px\">\n",
    "    \n",
    " <b>Добрый день, Андрей.</b>\n",
    "    \n",
    "Меня зовут Ксения Цыганова, и я буду комментировать твою работу и помогать тебе сделать ее сильнее. В Практикуме мы общаемся на «ты», но если тебе это будет некомфортно, пожалуйста, скажи, и мы будем обращаться друг к другу на «вы».\n",
    "    \n",
    "Все мои комментарии делятся на три вида:\n",
    "\n",
    "    \n",
    "👍 Здесь все отлично, идем дальше! - <font color='green'> зеленый цвет </font>\n",
    "    \n",
    "💡 Все хорошо, однако, можно оптимизировать или рассмотреть другие способы (необязательно для исполнения, чтобы пройти дальше) - <font color='gold'>желтый цвет</font>\n",
    "    \n",
    "🤔 Необходимо внести исправления, без которых я не смогу принять проект - <font color='red'>красный цвет</font>\n",
    "    \n",
    "    \n",
    "Свои комментарии я буду выделять заголовком «комментарий ревьюера». Пожалуйста, не удаляй их, это поможет сократить время проверки на повторных ревью.Ты также можешь писать свои комментарии к моим и выделять их любым понравившимся способом, отличным от моего. Если у тебя будут возникать вопросы в течение нашей работы, я с радостью на них отвечу.\n",
    "\n",
    "Цель моего ревью не критика и не возможность дать тебе готовые ответы, это способ привести тебя в нужное русло, чтобы ты смог развить собственные идеи и решения. Твой будущий работодатель будет поступать похожим образом. \n",
    "        \n",
    "   <b>У тебя все получится!</b>"
   ]
  },
  {
   "cell_type": "markdown",
   "metadata": {
    "toc": true
   },
   "source": [
    "<h1>Содержание<span class=\"tocSkip\"></span></h1>\n",
    "<div class=\"toc\"><ul class=\"toc-item\"><li><span><a href=\"#Загрузка-данных\" data-toc-modified-id=\"Загрузка-данных-1\"><span class=\"toc-item-num\">1&nbsp;&nbsp;</span>Загрузка данных</a></span></li><li><span><a href=\"#Умножение-матриц\" data-toc-modified-id=\"Умножение-матриц-2\"><span class=\"toc-item-num\">2&nbsp;&nbsp;</span>Умножение матриц</a></span></li><li><span><a href=\"#Алгоритм-преобразования\" data-toc-modified-id=\"Алгоритм-преобразования-3\"><span class=\"toc-item-num\">3&nbsp;&nbsp;</span>Алгоритм преобразования</a></span></li><li><span><a href=\"#Проверка-алгоритма\" data-toc-modified-id=\"Проверка-алгоритма-4\"><span class=\"toc-item-num\">4&nbsp;&nbsp;</span>Проверка алгоритма</a></span></li><li><span><a href=\"#Чек-лист-проверки\" data-toc-modified-id=\"Чек-лист-проверки-5\"><span class=\"toc-item-num\">5&nbsp;&nbsp;</span>Чек-лист проверки</a></span></li></ul></div>"
   ]
  },
  {
   "cell_type": "markdown",
   "metadata": {},
   "source": [
    "# Защита персональных данных клиентов"
   ]
  },
  {
   "cell_type": "markdown",
   "metadata": {},
   "source": [
    "Вам нужно защитить данные клиентов страховой компании «Хоть потоп». Разработайте такой метод преобразования данных, чтобы по ним было сложно восстановить персональную информацию. Обоснуйте корректность его работы.\n",
    "\n",
    "Нужно защитить данные, чтобы при преобразовании качество моделей машинного обучения не ухудшилось. Подбирать наилучшую модель не требуется."
   ]
  },
  {
   "cell_type": "markdown",
   "metadata": {},
   "source": [
    "<div class=\"alert alert-success\">\n",
    "<h2> Комментарий ревьюера <a class=\"tocSkip\"> </h2>\n",
    "\n",
    "<b>Все отлично!👍:</b> \n",
    "    \n",
    "Отлично, что есть вступительный комментарий и содержание."
   ]
  },
  {
   "cell_type": "markdown",
   "metadata": {},
   "source": [
    "## Загрузка данных"
   ]
  },
  {
   "cell_type": "code",
   "execution_count": 1,
   "metadata": {},
   "outputs": [],
   "source": [
    "import pandas as pd \n",
    "import numpy as np\n",
    "import seaborn as sns\n",
    "import matplotlib.pyplot as plt\n",
    "\n",
    "from sklearn.model_selection import train_test_split\n",
    "from sklearn.linear_model import LinearRegression\n",
    "from sklearn.metrics import r2_score"
   ]
  },
  {
   "cell_type": "markdown",
   "metadata": {},
   "source": [
    "<div class=\"alert alert-success\">\n",
    "<h2> Комментарий ревьюера <a class=\"tocSkip\"> </h2>\n",
    "\n",
    "    \n",
    "<b>Все отлично!👍:</b> \n",
    "    \n",
    "Отлично, что все импорты собраны в начале проекта. Это поможет в случае чего сразу увидеть, какие библиотеки следует доустановить."
   ]
  },
  {
   "cell_type": "code",
   "execution_count": 2,
   "metadata": {},
   "outputs": [],
   "source": [
    "df = pd.read_csv('https://code.s3.yandex.net/datasets/insurance.csv')"
   ]
  },
  {
   "cell_type": "markdown",
   "metadata": {},
   "source": [
    "<div class=\"alert alert-warning\">\n",
    "    <h2> Комментарий ревьюера <a class=\"tocSkip\"> </h2>\n",
    "    \n",
    "<b>Некоторые замечания и рекомендации💡:</b> \n",
    "        \n",
    "Для загрузки данных можно использовать библиотеку os или констукцию try/except. Это поможет работать с проектом как локально, так и через Jupyter Hub, не внося дополнительных правок."
   ]
  },
  {
   "cell_type": "code",
   "execution_count": 3,
   "metadata": {},
   "outputs": [],
   "source": [
    "def first_check(dataset):\n",
    "    print(dataset.shape)\n",
    "    print(dataset.info())\n",
    "    print(dataset.head())\n",
    "    print(dataset.tail())\n",
    "    print(dataset.describe)\n",
    "    print(dataset.duplicated().sum())"
   ]
  },
  {
   "cell_type": "markdown",
   "metadata": {},
   "source": [
    "<div class=\"alert alert-success\">\n",
    "<h2> Комментарий ревьюера <a class=\"tocSkip\"> </h2>\n",
    "\n",
    "<b>Все отлично!👍:</b> \n",
    "    \n",
    "Отлично, что оптимизируешь свой код с помощью пользовательских функций."
   ]
  },
  {
   "cell_type": "code",
   "execution_count": 4,
   "metadata": {
    "scrolled": true
   },
   "outputs": [
    {
     "name": "stdout",
     "output_type": "stream",
     "text": [
      "(5000, 5)\n",
      "<class 'pandas.core.frame.DataFrame'>\n",
      "RangeIndex: 5000 entries, 0 to 4999\n",
      "Data columns (total 5 columns):\n",
      " #   Column             Non-Null Count  Dtype  \n",
      "---  ------             --------------  -----  \n",
      " 0   Пол                5000 non-null   int64  \n",
      " 1   Возраст            5000 non-null   float64\n",
      " 2   Зарплата           5000 non-null   float64\n",
      " 3   Члены семьи        5000 non-null   int64  \n",
      " 4   Страховые выплаты  5000 non-null   int64  \n",
      "dtypes: float64(2), int64(3)\n",
      "memory usage: 195.4 KB\n",
      "None\n",
      "   Пол  Возраст  Зарплата  Члены семьи  Страховые выплаты\n",
      "0    1     41.0   49600.0            1                  0\n",
      "1    0     46.0   38000.0            1                  1\n",
      "2    0     29.0   21000.0            0                  0\n",
      "3    0     21.0   41700.0            2                  0\n",
      "4    1     28.0   26100.0            0                  0\n",
      "      Пол  Возраст  Зарплата  Члены семьи  Страховые выплаты\n",
      "4995    0     28.0   35700.0            2                  0\n",
      "4996    0     34.0   52400.0            1                  0\n",
      "4997    0     20.0   33900.0            2                  0\n",
      "4998    1     22.0   32700.0            3                  0\n",
      "4999    1     28.0   40600.0            1                  0\n",
      "<bound method NDFrame.describe of       Пол  Возраст  Зарплата  Члены семьи  Страховые выплаты\n",
      "0       1     41.0   49600.0            1                  0\n",
      "1       0     46.0   38000.0            1                  1\n",
      "2       0     29.0   21000.0            0                  0\n",
      "3       0     21.0   41700.0            2                  0\n",
      "4       1     28.0   26100.0            0                  0\n",
      "...   ...      ...       ...          ...                ...\n",
      "4995    0     28.0   35700.0            2                  0\n",
      "4996    0     34.0   52400.0            1                  0\n",
      "4997    0     20.0   33900.0            2                  0\n",
      "4998    1     22.0   32700.0            3                  0\n",
      "4999    1     28.0   40600.0            1                  0\n",
      "\n",
      "[5000 rows x 5 columns]>\n",
      "153\n"
     ]
    }
   ],
   "source": [
    "first_check(df)"
   ]
  },
  {
   "cell_type": "markdown",
   "metadata": {},
   "source": [
    "153 дубликата. Так как вариативность данных низка по причине малого количества данных\\признаков, то подобное количество дубликатов допустима. Оставим как есть"
   ]
  },
  {
   "cell_type": "code",
   "execution_count": 5,
   "metadata": {
    "scrolled": true
   },
   "outputs": [
    {
     "name": "stdout",
     "output_type": "stream",
     "text": [
      "Количество уникальных значений столбцов\n",
      "Пол:  2\n",
      "Возраст:  46\n",
      "Зарплата:  524\n",
      "Члены семьи:  7\n",
      "Страховые выплаты:  6\n"
     ]
    }
   ],
   "source": [
    "columns = ['Пол', 'Возраст',  'Зарплата',  'Члены семьи',  'Страховые выплаты']\n",
    "print('Количество уникальных значений столбцов')\n",
    "for i in columns:\n",
    "    print('%s: ' %i, df[i].nunique())"
   ]
  },
  {
   "cell_type": "code",
   "execution_count": 6,
   "metadata": {},
   "outputs": [],
   "source": [
    "def make_plot(title, x_name):\n",
    "    sns.set()\n",
    "    fig, ax = plt.subplots(figsize=(12, 5))\n",
    "    sns.countplot(x=x_name, data=df, palette='coolwarm')\n",
    "    ax.set_title(title)\n",
    "    plt.ylabel('Количество')"
   ]
  },
  {
   "cell_type": "code",
   "execution_count": 7,
   "metadata": {
    "scrolled": true
   },
   "outputs": [
    {
     "data": {
      "image/png": "[encoded data removed]",
      "text/plain": [
       "<Figure size 864x360 with 1 Axes>"
      ]
     },
     "metadata": {},
     "output_type": "display_data"
    }
   ],
   "source": [
    "make_plot('Распределение по гендеру', 'Пол')"
   ]
  },
  {
   "cell_type": "code",
   "execution_count": 8,
   "metadata": {
    "scrolled": true
   },
   "outputs": [
    {
     "data": {
      "image/png": "[encoded data removed]",
      "text/plain": [
       "<Figure size 864x360 with 1 Axes>"
      ]
     },
     "metadata": {},
     "output_type": "display_data"
    }
   ],
   "source": [
    "make_plot('Распределение по количество членов семьи', 'Члены семьи')"
   ]
  },
  {
   "cell_type": "code",
   "execution_count": 9,
   "metadata": {
    "scrolled": true
   },
   "outputs": [
    {
     "data": {
      "image/png": "[encoded data removed]",
      "text/plain": [
       "<Figure size 864x360 with 1 Axes>"
      ]
     },
     "metadata": {},
     "output_type": "display_data"
    }
   ],
   "source": [
    "make_plot('Распределение по количеству страховых выплат', 'Страховые выплаты')"
   ]
  },
  {
   "cell_type": "markdown",
   "metadata": {},
   "source": [
    "<div class=\"alert alert-success\">\n",
    "<h2> Комментарий ревьюера <a class=\"tocSkip\"> </h2>\n",
    "\n",
    "<b>Все отлично!👍:</b> \n",
    "    \n",
    "Хорошие графики, молодец!"
   ]
  },
  {
   "cell_type": "code",
   "execution_count": 10,
   "metadata": {
    "scrolled": true
   },
   "outputs": [
    {
     "name": "stderr",
     "output_type": "stream",
     "text": [
      "/opt/conda/lib/python3.9/site-packages/seaborn/distributions.py:2557: FutureWarning: `distplot` is a deprecated function and will be removed in a future version. Please adapt your code to use either `displot` (a figure-level function with similar flexibility) or `histplot` (an axes-level function for histograms).\n",
      "  warnings.warn(msg, FutureWarning)\n"
     ]
    },
    {
     "data": {
      "image/png": "[encoded data removed]",
      "text/plain": [
       "<Figure size 864x360 with 1 Axes>"
      ]
     },
     "metadata": {},
     "output_type": "display_data"
    }
   ],
   "source": [
    "sns.set()\n",
    "fig, ax = plt.subplots(figsize=(12, 5))\n",
    "sns.distplot(df['Возраст'], bins=len(df['Возраст'].unique()))\n",
    "ax.set_title('Распределение по возрасту')\n",
    "plt.ylabel('Плотность частоты');"
   ]
  },
  {
   "cell_type": "code",
   "execution_count": 11,
   "metadata": {
    "scrolled": true
   },
   "outputs": [
    {
     "name": "stderr",
     "output_type": "stream",
     "text": [
      "/opt/conda/lib/python3.9/site-packages/seaborn/distributions.py:2557: FutureWarning: `distplot` is a deprecated function and will be removed in a future version. Please adapt your code to use either `displot` (a figure-level function with similar flexibility) or `histplot` (an axes-level function for histograms).\n",
      "  warnings.warn(msg, FutureWarning)\n"
     ]
    },
    {
     "data": {
      "image/png": "[encoded data removed]",
      "text/plain": [
       "<Figure size 864x360 with 1 Axes>"
      ]
     },
     "metadata": {},
     "output_type": "display_data"
    }
   ],
   "source": [
    "fig, ax = plt.subplots(figsize=(12, 5))\n",
    "sns.distplot(df['Зарплата'])\n",
    "ax.set_title('Распределение по зарплате')\n",
    "plt.ylabel('Плотность частоты');"
   ]
  },
  {
   "cell_type": "code",
   "execution_count": 12,
   "metadata": {
    "scrolled": true
   },
   "outputs": [
    {
     "data": {
      "text/plain": [
       "<AxesSubplot:>"
      ]
     },
     "execution_count": 12,
     "metadata": {},
     "output_type": "execute_result"
    },
    {
     "data": {
      "image/png": "[encoded data removed]",
      "text/plain": [
       "<Figure size 432x288 with 2 Axes>"
      ]
     },
     "metadata": {},
     "output_type": "display_data"
    }
   ],
   "source": [
    "corr = df.corr()\n",
    "sns.heatmap(corr)"
   ]
  },
  {
   "cell_type": "markdown",
   "metadata": {},
   "source": [
    "<div class=\"alert alert-warning\">\n",
    "    <h2> Комментарий ревьюера <a class=\"tocSkip\"> </h2>\n",
    "    \n",
    "<b>Некоторые замечания и рекомендации💡:</b> \n",
    "\n",
    "1. Для расчета корреляций с учетом категориальных признаков стоит использовать инструменты, рассчитанные на это, например, https://phik.readthedocs.io/en/latest/\n",
    "    \n",
    "2. Коэффициент корреляции Пирсона (который по дефолту рассчитывается в методе corr), имеет определенные требования к данным:\n",
    "    \n",
    "- характер взаимосвязи двух переменных должен быть линейным и монотонным (коэффициент корреляции Пирсона не может уловить нелинейные зависимости). Поэтому, чтобы проконтроллировать корректность применения коэффициента корреляции Пирсона стоит сначала построить диаграммы рассеяния для переменных. \n",
    "    \n",
    "- распределения обоих переменных, для которых рассчитывается коэффициент должны быть распределены нормально. Также выбросы, ассиметрия, бимодальность негативно сказываются на адекватности использования среднего значения в качестве некоторого показателя, характеризующего нашу выборку (а коэффициент коррелиции Пирсона основан на среднем значении). Формулу можно посмотреть здесь:\n",
    "    \n",
    "https://studfile.net/preview/2966946/page:34/\n",
    "    \n",
    "Чтобы уменьшить негативное влияние выбросов можно перейти от коэффициента корреляции Пирсона к непараметрическому критерию корреляции - коэффициенту корреляции Спирмена, который уходит от реальных значенийи переходит к рангам."
   ]
  },
  {
   "cell_type": "code",
   "execution_count": 13,
   "metadata": {},
   "outputs": [
    {
     "data": {
      "text/plain": [
       "0.6510300979467256"
      ]
     },
     "execution_count": 13,
     "metadata": {},
     "output_type": "execute_result"
    }
   ],
   "source": [
    "df['Возраст'].corr(df['Страховые выплаты'])"
   ]
  },
  {
   "cell_type": "code",
   "execution_count": 14,
   "metadata": {},
   "outputs": [],
   "source": [
    "target = df.loc[:, 'Страховые выплаты']\n",
    "features = df.drop(['Страховые выплаты'], axis=1)"
   ]
  },
  {
   "cell_type": "markdown",
   "metadata": {},
   "source": [
    "Вывод:\n",
    "\n",
    "* 5000 строк и 5 столбцов\n",
    "* Целевой признак: Страховые выплаты\n",
    "* Признаки: Пол, Возраст, Зарплата, Члены семьи\n",
    "* Корреляция между Возрастом и Страховыми выплатами: 0.6510300979467276\n",
    "* Данные пришли уже в обработанном состоянии"
   ]
  },
  {
   "cell_type": "markdown",
   "metadata": {},
   "source": [
    "<div class=\"alert alert-success\">\n",
    "<h2> Комментарий ревьюера <a class=\"tocSkip\"> </h2>\n",
    "\n",
    "<b>Все отлично!👍:</b> \n",
    "\n",
    "Молодец, что изучаешь данные, с которыми работаешь."
   ]
  },
  {
   "cell_type": "markdown",
   "metadata": {},
   "source": [
    "## Умножение матриц"
   ]
  },
  {
   "cell_type": "markdown",
   "metadata": {},
   "source": [
    "В этом задании вы можете записывать формулы в *Jupyter Notebook.*\n",
    "\n",
    "Чтобы записать формулу внутри текста, окружите её символами доллара \\\\$; если снаружи —  двойными символами \\\\$\\\\$. Эти формулы записываются на языке вёрстки *LaTeX.* \n",
    "\n",
    "Для примера мы записали формулы линейной регрессии. Можете их скопировать и отредактировать, чтобы решить задачу.\n",
    "\n",
    "Работать в *LaTeX* необязательно."
   ]
  },
  {
   "cell_type": "markdown",
   "metadata": {},
   "source": [
    "Обозначения:\n",
    "\n",
    "- $X$ — матрица признаков (нулевой столбец состоит из единиц)\n",
    "\n",
    "- $y$ — вектор целевого признака\n",
    "\n",
    "- $P$ — матрица, на которую умножаются признаки\n",
    "\n",
    "- $w$ — вектор весов линейной регрессии (нулевой элемент равен сдвигу)"
   ]
  },
  {
   "cell_type": "markdown",
   "metadata": {},
   "source": [
    "**Обоснование:** \n",
    "\n",
    "Представим новую матрицу признаков X1 как произведение старой X на матрицу P(обратимую):\n",
    "\n",
    "$$\n",
    "X1 = X * P\n",
    "$$\n",
    "\n",
    "Подставим новое значение X1 в формулу w1:\n",
    "\n",
    "$$\n",
    "w1 = ((XP)^{T}XP)^{-1}(XP)^{T}y\n",
    "$$\n",
    "\n",
    "Раскроем первое произведение (XP)^T:\n",
    "\n",
    "$$\n",
    "w1 = (P^{T}X^{T}XP)^{-1}P^{T}X^{T}y\n",
    "$$\n",
    "\n",
    "Перегруппируем множители в скобках, чтобы это выглядело как произведение трех множителей:\n",
    "\n",
    "$$\n",
    "w1 = (P^{T}(X^{T}X)P)^{-1}P^{T}X^{T}y\n",
    "$$\n",
    "\n",
    "Раскроем скобки $(P^{T}(X^{T}X)P)^{-1}:$\n",
    "\n",
    "$$\n",
    "w1 = P^{-1}(X^TX)^{-1}(P^{T})^{-1}P^{T}X^{T}y\n",
    "$$\n",
    "\n",
    "Так как $P$ по условию обратимая, то произведение $(P^{T})^{-1}P^{T}$ равно $E$(единичная матрица):\n",
    "\n",
    "$$\n",
    "w1 = P^{-1}(X^{T}X)^{-1}EX^{T}y = P^{-1}(X^{T}X)^{-1}X^{T}y\n",
    "$$\n",
    "\n",
    "Можно заметить, что справа получилась формула для $w$:\n",
    "\n",
    "$$\n",
    "w1 = P^{-1}(X^{T}X)^{-1}X^{T}y = P^{-1}w\n",
    "$$\n",
    "\n",
    "Подставим новое значение весов $w1$ в формулу для предсказаний линейной регрессии. Предсказания модели расчитываются по формуле:\n",
    "\n",
    "$$\n",
    "a = Xw\n",
    "$$\n",
    "\n",
    "Подставим в эту формулу значения $X1$ и $w1$ для того, чтобы на их основе вычислить предсказания модели $a1$:\n",
    "\n",
    "$$\n",
    "a1 = X1w1 = XPP^{-1}w\n",
    "$$\n",
    "\n",
    "Так как $P$ по условию обратимая, то произведение $PP^{-1}$ снова равно $E$:\n",
    "\n",
    "$$\n",
    "a1 = XPP^{-1}w = XEw = Xw = a\n",
    "$$\n",
    "\n",
    "\n",
    "Мы доказали, что предсказания $a1$ для матрицы признаков, умноженных на обратимую матрицу $P$ равны предсказаниям $a$. Следовательно, отвечая на вопрос изменится ли качество линейной регрессии при умножении признаков на обратимую матрицу - нет, не изменится. В данном случае, параметры линейной регрессии в исходной задаче $w$ и в преобразованной $w1$ связаны следующим образом:\n",
    "\n",
    "$$\n",
    "w1 = P^{-1}w\n",
    "$$"
   ]
  },
  {
   "cell_type": "markdown",
   "metadata": {},
   "source": [
    "<div class=\"alert alert-success\">\n",
    "<h2> Комментарий ревьюера <a class=\"tocSkip\"> </h2>\n",
    "\n",
    "<b>Все отлично!👍:</b> \n",
    "    \n",
    "Теоретическое обоснование и матричные преобразования корректны, молодец!"
   ]
  },
  {
   "cell_type": "markdown",
   "metadata": {},
   "source": [
    "## Алгоритм преобразования"
   ]
  },
  {
   "cell_type": "markdown",
   "metadata": {},
   "source": [
    "**Алгоритм**\n",
    "\n",
    "В качестве алгоритма преобразования можно предложить матрицу со случайными величинами, у которой существует обратная к ней матрица. Для этого, можно воспользоваться функцией numpy.random.randn."
   ]
  },
  {
   "cell_type": "markdown",
   "metadata": {},
   "source": [
    "**Обоснование**\n",
    "\n",
    "Поделим признаки на test и train"
   ]
  },
  {
   "cell_type": "code",
   "execution_count": 15,
   "metadata": {},
   "outputs": [],
   "source": [
    "features_train, features_test, target_train, target_test = train_test_split(features, target, test_size=0.2, random_state=12345)"
   ]
  },
  {
   "cell_type": "markdown",
   "metadata": {},
   "source": [
    "<div class=\"alert alert-success\">\n",
    "<h2> Комментарий ревьюера <a class=\"tocSkip\"> </h2>\n",
    "\n",
    "<b>Все отлично!👍:</b> \n",
    "\n",
    "Молодец, что разбиваешь данные на выборки"
   ]
  },
  {
   "cell_type": "markdown",
   "metadata": {},
   "source": [
    "Преобразуем выборки в матрицы"
   ]
  },
  {
   "cell_type": "code",
   "execution_count": 16,
   "metadata": {},
   "outputs": [],
   "source": [
    "matrix_features_train = features_train.values\n",
    "matrix_features_test = features_test.values"
   ]
  },
  {
   "cell_type": "code",
   "execution_count": 17,
   "metadata": {
    "scrolled": true
   },
   "outputs": [
    {
     "name": "stdout",
     "output_type": "stream",
     "text": [
      "(4000, 4)\n",
      "(1000, 4)\n"
     ]
    }
   ],
   "source": [
    "print(matrix_features_train.shape)\n",
    "print(matrix_features_test.shape)"
   ]
  },
  {
   "cell_type": "markdown",
   "metadata": {},
   "source": [
    "Сделаем рандомную обратимую матрицу 4 на 4 по количеству признаков основной матрицы:"
   ]
  },
  {
   "cell_type": "code",
   "execution_count": 18,
   "metadata": {},
   "outputs": [
    {
     "data": {
      "text/plain": [
       "array([[-0.6964284 , -0.21916657, -0.68006414, -0.76430902],\n",
       "       [ 0.19934185,  0.02053826,  0.78822785, -1.24413835],\n",
       "       [ 0.42028077, -0.2131764 , -0.72872936,  0.21651545],\n",
       "       [ 1.02167099,  0.434473  ,  0.63993884,  1.3968457 ]])"
      ]
     },
     "execution_count": 18,
     "metadata": {},
     "output_type": "execute_result"
    }
   ],
   "source": [
    "random_matrix = np.random.randn(4, 4)\n",
    "random_matrix"
   ]
  },
  {
   "cell_type": "markdown",
   "metadata": {},
   "source": [
    "Проверим получившеюся матрицу на обратимость. Для этого умножим её на обратную ей матрицу. В результате должна получиться единичная матрица - та матрица, у которой по главной диаганали единицы, а остальное - нули."
   ]
  },
  {
   "cell_type": "code",
   "execution_count": 19,
   "metadata": {
    "scrolled": true
   },
   "outputs": [
    {
     "data": {
      "text/plain": [
       "array([[ 1., -0., -0., -0.],\n",
       "       [-0.,  1., -0.,  0.],\n",
       "       [ 0.,  0.,  1.,  0.],\n",
       "       [-0.,  0., -0.,  1.]])"
      ]
     },
     "execution_count": 19,
     "metadata": {},
     "output_type": "execute_result"
    }
   ],
   "source": [
    "np.round(random_matrix @ np.linalg.inv(random_matrix))"
   ]
  },
  {
   "cell_type": "markdown",
   "metadata": {},
   "source": [
    "Полученная матрица является единичной, что значит рандомная матрица обратима.\n",
    "\n",
    "Перемножим тестовую и тренировочную матрицы на получившуюся рандомную обратимую матрицу:"
   ]
  },
  {
   "cell_type": "markdown",
   "metadata": {},
   "source": [
    "<div class=\"alert alert-success\">\n",
    "    \n",
    "<h2> Комментарий ревьюера <a class=\"tocSkip\"> </h2>\n",
    "\n",
    "<b>Все отлично!👍:</b> \n",
    "    \n",
    "Отлично, что есть проверка случайной матрицы на обратимость."
   ]
  },
  {
   "cell_type": "code",
   "execution_count": 20,
   "metadata": {},
   "outputs": [],
   "source": [
    "encoded_matrix_features_train = matrix_features_train.dot(random_matrix)\n",
    "encoded_matrix_features_test = matrix_features_test.dot(random_matrix)"
   ]
  },
  {
   "cell_type": "markdown",
   "metadata": {},
   "source": [
    "Для проверки попробуем перемножить признаки train на обратную рандомной матрицу:"
   ]
  },
  {
   "cell_type": "code",
   "execution_count": 21,
   "metadata": {},
   "outputs": [],
   "source": [
    "decoded_matrix_features_train = encoded_matrix_features_train.dot(np.linalg.inv(random_matrix))"
   ]
  },
  {
   "cell_type": "markdown",
   "metadata": {},
   "source": [
    "Воссоздадим DataFrame из матрицы:"
   ]
  },
  {
   "cell_type": "code",
   "execution_count": 22,
   "metadata": {},
   "outputs": [],
   "source": [
    "features_train_check = pd.DataFrame(decoded_matrix_features_train, columns=features_train.columns)"
   ]
  },
  {
   "cell_type": "code",
   "execution_count": 23,
   "metadata": {},
   "outputs": [],
   "source": [
    "features_train_check = np.round(features_train_check)"
   ]
  },
  {
   "cell_type": "code",
   "execution_count": 24,
   "metadata": {},
   "outputs": [
    {
     "data": {
      "text/plain": [
       "(      Пол  Возраст  Зарплата  Члены семьи\n",
       " 0     0.0     20.0   39800.0          2.0\n",
       " 1     1.0     40.0   34200.0          0.0\n",
       " 2     1.0     45.0   50800.0          1.0\n",
       " 3     0.0     28.0   39100.0          2.0\n",
       " 4     0.0     28.0   39000.0          1.0\n",
       " ...   ...      ...       ...          ...\n",
       " 3995  0.0     42.0   32100.0          0.0\n",
       " 3996  0.0     28.0   22700.0          4.0\n",
       " 3997  1.0     41.0   44700.0          1.0\n",
       " 3998  0.0     22.0   50100.0          4.0\n",
       " 3999  0.0     19.0   40800.0          0.0\n",
       " \n",
       " [4000 rows x 4 columns],\n",
       "       Пол  Возраст  Зарплата  Члены семьи\n",
       " 317     0     20.0   39800.0            2\n",
       " 4143    1     40.0   34200.0            0\n",
       " 4252    1     45.0   50800.0            1\n",
       " 710     0     28.0   39100.0            2\n",
       " 148     0     28.0   39000.0            1\n",
       " ...   ...      ...       ...          ...\n",
       " 3497    0     42.0   32100.0            0\n",
       " 3492    0     28.0   22700.0            4\n",
       " 2177    1     41.0   44700.0            1\n",
       " 3557    0     22.0   50100.0            4\n",
       " 4578    0     19.0   40800.0            0\n",
       " \n",
       " [4000 rows x 4 columns])"
      ]
     },
     "execution_count": 24,
     "metadata": {},
     "output_type": "execute_result"
    }
   ],
   "source": [
    "features_train_check, features_train"
   ]
  },
  {
   "cell_type": "markdown",
   "metadata": {},
   "source": [
    "<div class=\"alert alert-success\">\n",
    "<h2> Комментарий ревьюера <a class=\"tocSkip\"> </h2>\n",
    "\n",
    "<b>Все отлично!👍:</b> \n",
    "    \n",
    "Молодец, что проверяешь возможность восстановления исходных данных."
   ]
  },
  {
   "cell_type": "markdown",
   "metadata": {},
   "source": [
    "## Проверка алгоритма"
   ]
  },
  {
   "cell_type": "markdown",
   "metadata": {},
   "source": [
    "Создадим модель для матриц. Выбрали Линейную регрессию"
   ]
  },
  {
   "cell_type": "code",
   "execution_count": 25,
   "metadata": {},
   "outputs": [],
   "source": [
    "model = LinearRegression()\n",
    "model.fit(matrix_features_train, target_train)\n",
    "predicted_norm = model.predict(features_test)\n",
    "norm_r2 = model.score(features_test, target_test)"
   ]
  },
  {
   "cell_type": "code",
   "execution_count": 26,
   "metadata": {},
   "outputs": [],
   "source": [
    "model.fit(encoded_matrix_features_train, target_train)\n",
    "predicted_encoded = model.predict(encoded_matrix_features_test)\n",
    "encoded_r2 = model.score(encoded_matrix_features_test, target_test)"
   ]
  },
  {
   "cell_type": "code",
   "execution_count": 27,
   "metadata": {
    "scrolled": true
   },
   "outputs": [
    {
     "name": "stdout",
     "output_type": "stream",
     "text": [
      "R2 score of not encoded matrix:  0.41176839567705226\n",
      "R2 score of encoded matrix:  0.41176839567700063\n"
     ]
    }
   ],
   "source": [
    "print('R2 score of not encoded matrix: ', norm_r2)\n",
    "print('R2 score of encoded matrix: ', encoded_r2)"
   ]
  },
  {
   "cell_type": "markdown",
   "metadata": {},
   "source": [
    "<div class=\"alert alert-success\">\n",
    "    \n",
    "<h2> Комментарий ревьюера <a class=\"tocSkip\"> </h2>\n",
    "\n",
    "<b>Все отлично!👍:</b> \n",
    "    \n",
    "Молодец, что сравниваешь качество работы линейной модели до и после шифрования обучающих данных."
   ]
  },
  {
   "cell_type": "markdown",
   "metadata": {},
   "source": [
    "**Вывод**\n",
    "\n",
    "Мы проверили качества моделей Линейной регрессии с помощью метрики R2 на данных - сначала на исходных, затем умноженных на обратимую матрицу, размер которой равен числу признаков. Показатели метрики совпали. Можно сделать вывод, что алгоритм работает."
   ]
  },
  {
   "cell_type": "markdown",
   "metadata": {},
   "source": [
    "<div class=\"alert alert-warning\">\n",
    "    <h2> Комментарий ревьюера <a class=\"tocSkip\"> </h2>\n",
    "    \n",
    "<b>Некоторые замечания и рекомендации💡:</b> \n",
    "\n",
    "Здесь я оставлю некоторые источники, которые могут быть интересны и полезны:\n",
    "\n",
    "1. Теория по обратным матрицам: https://www.berdov.com/works/matrix/obratnaya-matrica/ \n",
    "    \n",
    "Если интересна тема шифрования, то можно почитать:\n",
    "\n",
    "2. Обзоры по применению криптографии в машинном обучении: \n",
    "    https://arxiv.org/pdf/1902.04109.pdf, \n",
    "    https://www.researchgate.net/publication/342746786_Some_Applications_of_Machine_Learning_in_Cryptography\n",
    "        \n",
    "3. Подробнее про аналогичный алгоритм: https://www.cs.cmu.edu/~rjhall/JOS_revised_May_31a.pdf"
   ]
  },
  {
   "cell_type": "markdown",
   "metadata": {},
   "source": [
    "<div style=\"border:solid Chocolate 2px; padding: 40px\">\n",
    "    \n",
    "<b>Общий вывод по проекту</b>\n",
    "\n",
    "Андрей, спасибо за работу!\n",
    "\n",
    "**Положительные моменты проекта, которые хочу еще раз подчеркнуть**:\n",
    "\n",
    "1. Данные загружены и изучены\n",
    "    \n",
    "2. Линейная модель обучена верно\n",
    "    \n",
    "3. Предложен алгоритм кодирования\n",
    "    \n",
    "4. Проверен тот факт, что шифрование не влияет на качество линейной регрессии\n",
    "    \n",
    "5. Есть проверка случайной матрицы на обратимость\n",
    "    \n",
    "6. Теоретическое обоснование алгоритма шифрования корректное\n",
    "    \n",
    "7. Проверяется возможность восстановления данных после применения алгоритма\n",
    "    \n",
    "      \n",
    "\n",
    "У меня нет критических замечаний.\n",
    "\n",
    "    \n",
    "Остальные мои комментарии ты найдешь выше.\n",
    "    \n",
    "**Все отлично, проект принимаю и желаю успехов в дальнейшем!**"
   ]
  },
  {
   "cell_type": "markdown",
   "metadata": {},
   "source": [
    "## Чек-лист проверки"
   ]
  },
  {
   "cell_type": "markdown",
   "metadata": {},
   "source": [
    "Поставьте 'x' в выполненных пунктах. Далее нажмите Shift+Enter."
   ]
  },
  {
   "cell_type": "markdown",
   "metadata": {},
   "source": [
    "- [x]  Jupyter Notebook открыт\n",
    "- [x]  Весь код выполняется без ошибок\n",
    "- [x]  Ячейки с кодом расположены в порядке исполнения\n",
    "- [x]  Выполнен шаг 1: данные загружены\n",
    "- [x]  Выполнен шаг 2: получен ответ на вопрос об умножении матриц\n",
    "    - [x]  Указан правильный вариант ответа\n",
    "    - [x]  Вариант обоснован\n",
    "- [x]  Выполнен шаг 3: предложен алгоритм преобразования\n",
    "    - [x]  Алгоритм описан\n",
    "    - [x]  Алгоритм обоснован\n",
    "- [x]  Выполнен шаг 4: алгоритм проверен\n",
    "    - [x]  Алгоритм реализован\n",
    "    - [x]  Проведено сравнение качества моделей до и после преобразования"
   ]
  },
  {
   "cell_type": "code",
   "execution_count": null,
   "metadata": {},
   "outputs": [],
   "source": []
  }
 ],
 "metadata": {
  "ExecuteTimeLog": [
   {
    "duration": 1548,
    "start_time": "2023-05-24T06:33:32.160Z"
   },
   {
    "duration": 166,
    "start_time": "2023-05-24T06:33:44.012Z"
   },
   {
    "duration": 3,
    "start_time": "2023-05-24T06:33:53.965Z"
   },
   {
    "duration": 22,
    "start_time": "2023-05-24T06:34:03.677Z"
   },
   {
    "duration": 7,
    "start_time": "2023-05-24T06:35:33.519Z"
   },
   {
    "duration": 3,
    "start_time": "2023-05-24T06:36:10.079Z"
   },
   {
    "duration": 121,
    "start_time": "2023-05-24T06:36:19.810Z"
   },
   {
    "duration": 177,
    "start_time": "2023-05-24T06:36:33.409Z"
   },
   {
    "duration": 138,
    "start_time": "2023-05-24T06:36:44.065Z"
   },
   {
    "duration": 224,
    "start_time": "2023-05-24T06:36:58.705Z"
   },
   {
    "duration": 251,
    "start_time": "2023-05-24T06:37:31.385Z"
   },
   {
    "duration": 548,
    "start_time": "2023-05-24T06:37:44.053Z"
   },
   {
    "duration": 5,
    "start_time": "2023-05-24T06:38:00.499Z"
   },
   {
    "duration": 5,
    "start_time": "2023-05-24T06:38:08.253Z"
   },
   {
    "duration": 7,
    "start_time": "2023-05-24T07:12:02.888Z"
   },
   {
    "duration": 11,
    "start_time": "2023-05-24T07:12:18.793Z"
   },
   {
    "duration": 3,
    "start_time": "2023-05-24T07:12:29.689Z"
   },
   {
    "duration": 266,
    "start_time": "2023-05-24T07:12:41.365Z"
   },
   {
    "duration": 5,
    "start_time": "2023-05-24T07:13:04.314Z"
   },
   {
    "duration": 6,
    "start_time": "2023-05-24T07:13:41.483Z"
   },
   {
    "duration": 2,
    "start_time": "2023-05-24T07:14:15.608Z"
   },
   {
    "duration": 4,
    "start_time": "2023-05-24T07:14:35.312Z"
   },
   {
    "duration": 4,
    "start_time": "2023-05-24T07:14:50.160Z"
   },
   {
    "duration": 3,
    "start_time": "2023-05-24T07:15:08.924Z"
   },
   {
    "duration": 3,
    "start_time": "2023-05-24T07:15:13.264Z"
   },
   {
    "duration": 5,
    "start_time": "2023-05-24T07:15:22.565Z"
   },
   {
    "duration": 13,
    "start_time": "2023-05-24T07:15:30.460Z"
   },
   {
    "duration": 13,
    "start_time": "2023-05-24T07:16:08.264Z"
   },
   {
    "duration": 7,
    "start_time": "2023-05-24T07:16:15.041Z"
   },
   {
    "duration": 6,
    "start_time": "2023-05-24T07:16:22.794Z"
   },
   {
    "duration": 1466,
    "start_time": "2023-05-24T20:23:12.290Z"
   },
   {
    "duration": 149,
    "start_time": "2023-05-24T20:23:13.758Z"
   },
   {
    "duration": 3,
    "start_time": "2023-05-24T20:23:13.909Z"
   },
   {
    "duration": 26,
    "start_time": "2023-05-24T20:23:13.914Z"
   },
   {
    "duration": 7,
    "start_time": "2023-05-24T20:23:13.941Z"
   },
   {
    "duration": 9,
    "start_time": "2023-05-24T20:23:13.949Z"
   },
   {
    "duration": 129,
    "start_time": "2023-05-24T20:23:13.959Z"
   },
   {
    "duration": 148,
    "start_time": "2023-05-24T20:23:14.089Z"
   },
   {
    "duration": 142,
    "start_time": "2023-05-24T20:23:14.239Z"
   },
   {
    "duration": 262,
    "start_time": "2023-05-24T20:23:14.383Z"
   },
   {
    "duration": 253,
    "start_time": "2023-05-24T20:23:14.647Z"
   },
   {
    "duration": 382,
    "start_time": "2023-05-24T20:23:14.901Z"
   },
   {
    "duration": 13,
    "start_time": "2023-05-24T20:23:15.284Z"
   },
   {
    "duration": 8,
    "start_time": "2023-05-24T20:23:15.299Z"
   },
   {
    "duration": 8,
    "start_time": "2023-05-24T20:23:15.309Z"
   },
   {
    "duration": 6,
    "start_time": "2023-05-24T20:23:15.318Z"
   },
   {
    "duration": 33,
    "start_time": "2023-05-24T20:23:15.325Z"
   },
   {
    "duration": 12,
    "start_time": "2023-05-24T20:23:15.359Z"
   },
   {
    "duration": 13,
    "start_time": "2023-05-24T20:23:15.373Z"
   },
   {
    "duration": 6,
    "start_time": "2023-05-24T20:23:15.388Z"
   },
   {
    "duration": 13,
    "start_time": "2023-05-24T20:23:15.395Z"
   },
   {
    "duration": 86,
    "start_time": "2023-05-24T20:23:15.409Z"
   },
   {
    "duration": 14,
    "start_time": "2023-05-24T20:23:15.498Z"
   },
   {
    "duration": 92,
    "start_time": "2023-05-24T20:23:15.514Z"
   },
   {
    "duration": 18,
    "start_time": "2023-05-24T20:23:15.607Z"
   },
   {
    "duration": 10,
    "start_time": "2023-05-24T20:23:15.627Z"
   },
   {
    "duration": 10,
    "start_time": "2023-05-24T20:23:15.638Z"
   }
  ],
  "kernelspec": {
   "display_name": "Python 3 (ipykernel)",
   "language": "python",
   "name": "python3"
  },
  "language_info": {
   "codemirror_mode": {
    "name": "ipython",
    "version": 3
   },
   "file_extension": ".py",
   "mimetype": "text/x-python",
   "name": "python",
   "nbconvert_exporter": "python",
   "pygments_lexer": "ipython3",
   "version": "3.9.5"
  },
  "toc": {
   "base_numbering": 1,
   "nav_menu": {},
   "number_sections": true,
   "sideBar": true,
   "skip_h1_title": true,
   "title_cell": "Содержание",
   "title_sidebar": "Contents",
   "toc_cell": true,
   "toc_position": {},
   "toc_section_display": true,
   "toc_window_display": false
  }
 },
 "nbformat": 4,
 "nbformat_minor": 2
}
