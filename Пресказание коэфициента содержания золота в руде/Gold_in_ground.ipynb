{
 "cells": [
  {
   "cell_type": "markdown",
   "metadata": {},
   "source": [
    "<div style=\"border:solid Chocolate 2px; padding: 40px\">\n",
    "\n",
    "Привет, меня зовут Александр Куимов. Я буду ревьюером твоего проекта. Ты можешь обращаться ко мне на \"ты\"😏 Надеюсь, тебя также не смутит, если я буду обращаться к тебе на \"ты\", но если это неудобно, обязательно скажи об этом!\n",
    "\n",
    "Пожалуйста, не удаляй мои комментарии, они будут особенно полезны для нашей работы в случае повторной проверки проекта. \n",
    "\n",
    "Ты также можешь реагировать на мои комментарии своими по шаблону, показанному чуть ниже. Это нужно, чтобы не создавалась путаница😉\n",
    "\n",
    "Ты можешь найти мои комментарии, обозначенные <font color='green'>зеленым</font>, <font color='gold'>желтым</font> и <font color='red'>красным</font> цветами, например:\n",
    "\n",
    "<br/>\n",
    "\n",
    "<div class=\"alert alert-success\">\n",
    "<h2> Комментарий ревьюера <a class=\"tocSkip\"> </h2>\n",
    "\n",
    "<b>Все отлично!👍:</b> В случае, если решение на отдельном шаге является полностью правильным.\n",
    "</div>\n",
    "\n",
    "<br/>\n",
    "\n",
    "<div class=\"alert alert-warning\">\n",
    "    <h2> Комментарий ревьюера <a class=\"tocSkip\"> </h2>\n",
    "    \n",
    "<b>Некоторые замечания и рекомендации💡:</b> В случае, когда решение на отдельном шаге станет еще лучше, если внести небольшие коррективы.\n",
    "</div>\n",
    "\n",
    "\n",
    "<br/>\n",
    "<div class=\"alert alert-block alert-danger\">\n",
    "<h2> Комментарий ревьюера <a class=\"tocSkip\"></h2>\n",
    "\n",
    "    \n",
    "<b>На доработку🤔:</b>\n",
    " В случае, когда решение на отдельном шаге требует существенной переработки и внесения правок. Напоминаю, что проект не может быть принят с первого раза, если ревью содержит комментарии, рекомендующие доработать шаги.\n",
    "</div>\n",
    "    \n",
    "    \n",
    "<br/>    \n",
    "<div class=\"alert alert-info\">\n",
    "<h2> Комментарий студента: <a class=\"tocSkip\"> </h2>\n",
    "\n",
    "<b>👋:</b> В такой цветовой ячейке я прошу тебя оставлять свои комментарии. Если исправляешь проект на второй итерации и выше, не забывай пожалуйста указывать номер итерации, например, \"Комментарий студента v.2\".\n",
    "</div> \n",
    "\n",
    "<br/>    \n",
    "    \n",
    "Увидев у тебя неточность, в первый раз я лишь укажу на ее наличие и дам тебе возможность самому найти и исправить ее. На реальной работе твой руководитель будет поступать также, и я пытаюсь подготовить тебя именно к работе датасаентистом. Но если ты пока не справишься с такой задачей - при следующей проверке я дам более точную подсказку!🤓"
   ]
  },
  {
   "cell_type": "markdown",
   "metadata": {
    "toc": true
   },
   "source": [
    "<h1>Содержание<span class=\"tocSkip\"></span></h1>\n",
    "<div class=\"toc\"><ul class=\"toc-item\"><li><span><a href=\"#Подготовка-данных\" data-toc-modified-id=\"Подготовка-данных-1\"><span class=\"toc-item-num\">1&nbsp;&nbsp;</span>Подготовка данных</a></span><ul class=\"toc-item\"><li><span><a href=\"#MAE\" data-toc-modified-id=\"MAE-1.1\"><span class=\"toc-item-num\">1.1&nbsp;&nbsp;</span>MAE</a></span></li></ul></li><li><span><a href=\"#Анализ-данных\" data-toc-modified-id=\"Анализ-данных-2\"><span class=\"toc-item-num\">2&nbsp;&nbsp;</span>Анализ данных</a></span><ul class=\"toc-item\"><li><span><a href=\"#Распределения-гранул-сырья\" data-toc-modified-id=\"Распределения-гранул-сырья-2.1\"><span class=\"toc-item-num\">2.1&nbsp;&nbsp;</span>Распределения гранул сырья</a></span></li><li><span><a href=\"#Суммарная-концентрация-всех-веществ-на-разных-этапах-очистки\" data-toc-modified-id=\"Суммарная-концентрация-всех-веществ-на-разных-этапах-очистки-2.2\"><span class=\"toc-item-num\">2.2&nbsp;&nbsp;</span>Суммарная концентрация всех веществ на разных этапах очистки</a></span></li></ul></li><li><span><a href=\"#Модель\" data-toc-modified-id=\"Модель-3\"><span class=\"toc-item-num\">3&nbsp;&nbsp;</span>Модель</a></span><ul class=\"toc-item\"><li><span><a href=\"#Дерево-решений\" data-toc-modified-id=\"Дерево-решений-3.1\"><span class=\"toc-item-num\">3.1&nbsp;&nbsp;</span>Дерево решений</a></span></li><li><span><a href=\"#Случайный-лес\" data-toc-modified-id=\"Случайный-лес-3.2\"><span class=\"toc-item-num\">3.2&nbsp;&nbsp;</span>Случайный лес</a></span></li><li><span><a href=\"#Линейная-регрессия\" data-toc-modified-id=\"Линейная-регрессия-3.3\"><span class=\"toc-item-num\">3.3&nbsp;&nbsp;</span>Линейная регрессия</a></span></li><li><span><a href=\"#Тестирование-модели\" data-toc-modified-id=\"Тестирование-модели-3.4\"><span class=\"toc-item-num\">3.4&nbsp;&nbsp;</span>Тестирование модели</a></span></li><li><span><a href=\"#Вывод\" data-toc-modified-id=\"Вывод-3.5\"><span class=\"toc-item-num\">3.5&nbsp;&nbsp;</span>Вывод</a></span></li></ul></li><li><span><a href=\"#Чек-лист-готовности-проекта\" data-toc-modified-id=\"Чек-лист-готовности-проекта-4\"><span class=\"toc-item-num\">4&nbsp;&nbsp;</span>Чек-лист готовности проекта</a></span></li></ul></div>"
   ]
  },
  {
   "cell_type": "markdown",
   "metadata": {},
   "source": [
    "# Восстановление золота из руды"
   ]
  },
  {
   "cell_type": "markdown",
   "metadata": {},
   "source": [
    "Подготовьте прототип модели машинного обучения для «Цифры». Компания разрабатывает решения для эффективной работы промышленных предприятий.\n",
    "\n",
    "Модель должна предсказать коэффициент восстановления золота из золотосодержащей руды. Используйте данные с параметрами добычи и очистки. \n",
    "\n",
    "Модель поможет оптимизировать производство, чтобы не запускать предприятие с убыточными характеристиками.\n",
    "\n",
    "Вам нужно:\n",
    "\n",
    "1. Подготовить данные;\n",
    "2. Провести исследовательский анализ данных;\n",
    "3. Построить и обучить модель.\n",
    "\n",
    "Чтобы выполнить проект, обращайтесь к библиотекам *pandas*, *matplotlib* и *sklearn.* Вам поможет их документация."
   ]
  },
  {
   "cell_type": "markdown",
   "metadata": {},
   "source": [
    " <div class=\"alert alert-success\">\n",
    "<h2> Комментарий ревьюера <a class=\"tocSkip\"> </h2>\n",
    "\n",
    "<b>Все отлично!👍:</b> \n",
    "    \n",
    "Вижу твое добавленное описание проекта. Молодец! Это поможет тебе расставлять акценты в выводах"
   ]
  },
  {
   "cell_type": "markdown",
   "metadata": {},
   "source": [
    "## Подготовка данных"
   ]
  },
  {
   "cell_type": "code",
   "execution_count": 48,
   "metadata": {},
   "outputs": [],
   "source": [
    "import pandas as pd \n",
    "import numpy as np\n",
    "import seaborn as sns\n",
    "import matplotlib.pyplot as plt\n",
    "import time\n",
    "import warnings\n",
    "warnings.filterwarnings('ignore')\n",
    "\n",
    "from sklearn.model_selection import train_test_split, GridSearchCV, KFold\n",
    "from sklearn.linear_model import LinearRegression\n",
    "from sklearn.ensemble import RandomForestRegressor\n",
    "from sklearn.tree import DecisionTreeRegressor\n",
    "from sklearn.dummy import DummyRegressor\n",
    "from sklearn.neighbors import KNeighborsRegressor\n",
    "from sklearn.linear_model import Lasso\n",
    "from sklearn.metrics import mean_absolute_error as mae\n",
    "from sklearn.metrics import make_scorer, r2_score\n",
    "RND = 12345"
   ]
  },
  {
   "cell_type": "code",
   "execution_count": 2,
   "metadata": {},
   "outputs": [],
   "source": [
    "test = pd.read_csv('/datasets/gold_recovery_test_new.csv')\n",
    "train = pd.read_csv('/datasets/gold_recovery_train_new.csv')\n",
    "df = pd.read_csv('/datasets/gold_recovery_full_new.csv')\n",
    "datasets = [df, train, test]"
   ]
  },
  {
   "cell_type": "code",
   "execution_count": 3,
   "metadata": {},
   "outputs": [
    {
     "name": "stdout",
     "output_type": "stream",
     "text": [
      "<class 'pandas.core.frame.DataFrame'>\n",
      "RangeIndex: 19439 entries, 0 to 19438\n",
      "Data columns (total 87 columns):\n",
      " #   Column                                              Non-Null Count  Dtype  \n",
      "---  ------                                              --------------  -----  \n",
      " 0   date                                                19439 non-null  object \n",
      " 1   final.output.concentrate_ag                         19438 non-null  float64\n",
      " 2   final.output.concentrate_pb                         19438 non-null  float64\n",
      " 3   final.output.concentrate_sol                        19228 non-null  float64\n",
      " 4   final.output.concentrate_au                         19439 non-null  float64\n",
      " 5   final.output.recovery                               19439 non-null  float64\n",
      " 6   final.output.tail_ag                                19438 non-null  float64\n",
      " 7   final.output.tail_pb                                19338 non-null  float64\n",
      " 8   final.output.tail_sol                               19433 non-null  float64\n",
      " 9   final.output.tail_au                                19439 non-null  float64\n",
      " 10  primary_cleaner.input.sulfate                       19415 non-null  float64\n",
      " 11  primary_cleaner.input.depressant                    19402 non-null  float64\n",
      " 12  primary_cleaner.input.feed_size                     19439 non-null  float64\n",
      " 13  primary_cleaner.input.xanthate                      19335 non-null  float64\n",
      " 14  primary_cleaner.output.concentrate_ag               19439 non-null  float64\n",
      " 15  primary_cleaner.output.concentrate_pb               19323 non-null  float64\n",
      " 16  primary_cleaner.output.concentrate_sol              19069 non-null  float64\n",
      " 17  primary_cleaner.output.concentrate_au               19439 non-null  float64\n",
      " 18  primary_cleaner.output.tail_ag                      19435 non-null  float64\n",
      " 19  primary_cleaner.output.tail_pb                      19418 non-null  float64\n",
      " 20  primary_cleaner.output.tail_sol                     19377 non-null  float64\n",
      " 21  primary_cleaner.output.tail_au                      19439 non-null  float64\n",
      " 22  primary_cleaner.state.floatbank8_a_air              19435 non-null  float64\n",
      " 23  primary_cleaner.state.floatbank8_a_level            19438 non-null  float64\n",
      " 24  primary_cleaner.state.floatbank8_b_air              19435 non-null  float64\n",
      " 25  primary_cleaner.state.floatbank8_b_level            19438 non-null  float64\n",
      " 26  primary_cleaner.state.floatbank8_c_air              19437 non-null  float64\n",
      " 27  primary_cleaner.state.floatbank8_c_level            19438 non-null  float64\n",
      " 28  primary_cleaner.state.floatbank8_d_air              19436 non-null  float64\n",
      " 29  primary_cleaner.state.floatbank8_d_level            19438 non-null  float64\n",
      " 30  rougher.calculation.sulfate_to_au_concentrate       19437 non-null  float64\n",
      " 31  rougher.calculation.floatbank10_sulfate_to_au_feed  19437 non-null  float64\n",
      " 32  rougher.calculation.floatbank11_sulfate_to_au_feed  19437 non-null  float64\n",
      " 33  rougher.calculation.au_pb_ratio                     19439 non-null  float64\n",
      " 34  rougher.input.feed_ag                               19439 non-null  float64\n",
      " 35  rougher.input.feed_pb                               19339 non-null  float64\n",
      " 36  rougher.input.feed_rate                             19428 non-null  float64\n",
      " 37  rougher.input.feed_size                             19294 non-null  float64\n",
      " 38  rougher.input.feed_sol                              19340 non-null  float64\n",
      " 39  rougher.input.feed_au                               19439 non-null  float64\n",
      " 40  rougher.input.floatbank10_sulfate                   19405 non-null  float64\n",
      " 41  rougher.input.floatbank10_xanthate                  19431 non-null  float64\n",
      " 42  rougher.input.floatbank11_sulfate                   19395 non-null  float64\n",
      " 43  rougher.input.floatbank11_xanthate                  18986 non-null  float64\n",
      " 44  rougher.output.concentrate_ag                       19439 non-null  float64\n",
      " 45  rougher.output.concentrate_pb                       19439 non-null  float64\n",
      " 46  rougher.output.concentrate_sol                      19416 non-null  float64\n",
      " 47  rougher.output.concentrate_au                       19439 non-null  float64\n",
      " 48  rougher.output.recovery                             19439 non-null  float64\n",
      " 49  rougher.output.tail_ag                              19438 non-null  float64\n",
      " 50  rougher.output.tail_pb                              19439 non-null  float64\n",
      " 51  rougher.output.tail_sol                             19439 non-null  float64\n",
      " 52  rougher.output.tail_au                              19439 non-null  float64\n",
      " 53  rougher.state.floatbank10_a_air                     19438 non-null  float64\n",
      " 54  rougher.state.floatbank10_a_level                   19438 non-null  float64\n",
      " 55  rougher.state.floatbank10_b_air                     19438 non-null  float64\n",
      " 56  rougher.state.floatbank10_b_level                   19438 non-null  float64\n",
      " 57  rougher.state.floatbank10_c_air                     19438 non-null  float64\n",
      " 58  rougher.state.floatbank10_c_level                   19438 non-null  float64\n",
      " 59  rougher.state.floatbank10_d_air                     19439 non-null  float64\n",
      " 60  rougher.state.floatbank10_d_level                   19439 non-null  float64\n",
      " 61  rougher.state.floatbank10_e_air                     19003 non-null  float64\n",
      " 62  rougher.state.floatbank10_e_level                   19439 non-null  float64\n",
      " 63  rougher.state.floatbank10_f_air                     19439 non-null  float64\n",
      " 64  rougher.state.floatbank10_f_level                   19439 non-null  float64\n",
      " 65  secondary_cleaner.output.tail_ag                    19437 non-null  float64\n",
      " 66  secondary_cleaner.output.tail_pb                    19427 non-null  float64\n",
      " 67  secondary_cleaner.output.tail_sol                   17691 non-null  float64\n",
      " 68  secondary_cleaner.output.tail_au                    19439 non-null  float64\n",
      " 69  secondary_cleaner.state.floatbank2_a_air            19219 non-null  float64\n",
      " 70  secondary_cleaner.state.floatbank2_a_level          19438 non-null  float64\n",
      " 71  secondary_cleaner.state.floatbank2_b_air            19416 non-null  float64\n",
      " 72  secondary_cleaner.state.floatbank2_b_level          19438 non-null  float64\n",
      " 73  secondary_cleaner.state.floatbank3_a_air            19426 non-null  float64\n",
      " 74  secondary_cleaner.state.floatbank3_a_level          19438 non-null  float64\n",
      " 75  secondary_cleaner.state.floatbank3_b_air            19438 non-null  float64\n",
      " 76  secondary_cleaner.state.floatbank3_b_level          19438 non-null  float64\n",
      " 77  secondary_cleaner.state.floatbank4_a_air            19433 non-null  float64\n",
      " 78  secondary_cleaner.state.floatbank4_a_level          19438 non-null  float64\n",
      " 79  secondary_cleaner.state.floatbank4_b_air            19438 non-null  float64\n",
      " 80  secondary_cleaner.state.floatbank4_b_level          19438 non-null  float64\n",
      " 81  secondary_cleaner.state.floatbank5_a_air            19438 non-null  float64\n",
      " 82  secondary_cleaner.state.floatbank5_a_level          19438 non-null  float64\n",
      " 83  secondary_cleaner.state.floatbank5_b_air            19438 non-null  float64\n",
      " 84  secondary_cleaner.state.floatbank5_b_level          19438 non-null  float64\n",
      " 85  secondary_cleaner.state.floatbank6_a_air            19437 non-null  float64\n",
      " 86  secondary_cleaner.state.floatbank6_a_level          19438 non-null  float64\n",
      "dtypes: float64(86), object(1)\n",
      "memory usage: 12.9+ MB\n",
      "None\n",
      "<class 'pandas.core.frame.DataFrame'>\n",
      "RangeIndex: 14149 entries, 0 to 14148\n",
      "Data columns (total 87 columns):\n",
      " #   Column                                              Non-Null Count  Dtype  \n",
      "---  ------                                              --------------  -----  \n",
      " 0   date                                                14149 non-null  object \n",
      " 1   final.output.concentrate_ag                         14148 non-null  float64\n",
      " 2   final.output.concentrate_pb                         14148 non-null  float64\n",
      " 3   final.output.concentrate_sol                        13938 non-null  float64\n",
      " 4   final.output.concentrate_au                         14149 non-null  float64\n",
      " 5   final.output.recovery                               14149 non-null  float64\n",
      " 6   final.output.tail_ag                                14149 non-null  float64\n",
      " 7   final.output.tail_pb                                14049 non-null  float64\n",
      " 8   final.output.tail_sol                               14144 non-null  float64\n",
      " 9   final.output.tail_au                                14149 non-null  float64\n",
      " 10  primary_cleaner.input.sulfate                       14129 non-null  float64\n",
      " 11  primary_cleaner.input.depressant                    14117 non-null  float64\n",
      " 12  primary_cleaner.input.feed_size                     14149 non-null  float64\n",
      " 13  primary_cleaner.input.xanthate                      14049 non-null  float64\n",
      " 14  primary_cleaner.output.concentrate_ag               14149 non-null  float64\n",
      " 15  primary_cleaner.output.concentrate_pb               14063 non-null  float64\n",
      " 16  primary_cleaner.output.concentrate_sol              13863 non-null  float64\n",
      " 17  primary_cleaner.output.concentrate_au               14149 non-null  float64\n",
      " 18  primary_cleaner.output.tail_ag                      14148 non-null  float64\n",
      " 19  primary_cleaner.output.tail_pb                      14134 non-null  float64\n",
      " 20  primary_cleaner.output.tail_sol                     14103 non-null  float64\n",
      " 21  primary_cleaner.output.tail_au                      14149 non-null  float64\n",
      " 22  primary_cleaner.state.floatbank8_a_air              14145 non-null  float64\n",
      " 23  primary_cleaner.state.floatbank8_a_level            14148 non-null  float64\n",
      " 24  primary_cleaner.state.floatbank8_b_air              14145 non-null  float64\n",
      " 25  primary_cleaner.state.floatbank8_b_level            14148 non-null  float64\n",
      " 26  primary_cleaner.state.floatbank8_c_air              14147 non-null  float64\n",
      " 27  primary_cleaner.state.floatbank8_c_level            14148 non-null  float64\n",
      " 28  primary_cleaner.state.floatbank8_d_air              14146 non-null  float64\n",
      " 29  primary_cleaner.state.floatbank8_d_level            14148 non-null  float64\n",
      " 30  rougher.calculation.sulfate_to_au_concentrate       14148 non-null  float64\n",
      " 31  rougher.calculation.floatbank10_sulfate_to_au_feed  14148 non-null  float64\n",
      " 32  rougher.calculation.floatbank11_sulfate_to_au_feed  14148 non-null  float64\n",
      " 33  rougher.calculation.au_pb_ratio                     14149 non-null  float64\n",
      " 34  rougher.input.feed_ag                               14149 non-null  float64\n",
      " 35  rougher.input.feed_pb                               14049 non-null  float64\n",
      " 36  rougher.input.feed_rate                             14141 non-null  float64\n",
      " 37  rougher.input.feed_size                             14005 non-null  float64\n",
      " 38  rougher.input.feed_sol                              14071 non-null  float64\n",
      " 39  rougher.input.feed_au                               14149 non-null  float64\n",
      " 40  rougher.input.floatbank10_sulfate                   14120 non-null  float64\n",
      " 41  rougher.input.floatbank10_xanthate                  14141 non-null  float64\n",
      " 42  rougher.input.floatbank11_sulfate                   14113 non-null  float64\n",
      " 43  rougher.input.floatbank11_xanthate                  13721 non-null  float64\n",
      " 44  rougher.output.concentrate_ag                       14149 non-null  float64\n",
      " 45  rougher.output.concentrate_pb                       14149 non-null  float64\n",
      " 46  rougher.output.concentrate_sol                      14127 non-null  float64\n",
      " 47  rougher.output.concentrate_au                       14149 non-null  float64\n",
      " 48  rougher.output.recovery                             14149 non-null  float64\n",
      " 49  rougher.output.tail_ag                              14148 non-null  float64\n",
      " 50  rougher.output.tail_pb                              14149 non-null  float64\n",
      " 51  rougher.output.tail_sol                             14149 non-null  float64\n",
      " 52  rougher.output.tail_au                              14149 non-null  float64\n",
      " 53  rougher.state.floatbank10_a_air                     14148 non-null  float64\n",
      " 54  rougher.state.floatbank10_a_level                   14148 non-null  float64\n",
      " 55  rougher.state.floatbank10_b_air                     14148 non-null  float64\n",
      " 56  rougher.state.floatbank10_b_level                   14148 non-null  float64\n",
      " 57  rougher.state.floatbank10_c_air                     14148 non-null  float64\n",
      " 58  rougher.state.floatbank10_c_level                   14148 non-null  float64\n",
      " 59  rougher.state.floatbank10_d_air                     14149 non-null  float64\n",
      " 60  rougher.state.floatbank10_d_level                   14149 non-null  float64\n",
      " 61  rougher.state.floatbank10_e_air                     13713 non-null  float64\n",
      " 62  rougher.state.floatbank10_e_level                   14149 non-null  float64\n",
      " 63  rougher.state.floatbank10_f_air                     14149 non-null  float64\n",
      " 64  rougher.state.floatbank10_f_level                   14149 non-null  float64\n",
      " 65  secondary_cleaner.output.tail_ag                    14147 non-null  float64\n",
      " 66  secondary_cleaner.output.tail_pb                    14139 non-null  float64\n",
      " 67  secondary_cleaner.output.tail_sol                   12544 non-null  float64\n",
      " 68  secondary_cleaner.output.tail_au                    14149 non-null  float64\n",
      " 69  secondary_cleaner.state.floatbank2_a_air            13932 non-null  float64\n",
      " 70  secondary_cleaner.state.floatbank2_a_level          14148 non-null  float64\n",
      " 71  secondary_cleaner.state.floatbank2_b_air            14128 non-null  float64\n",
      " 72  secondary_cleaner.state.floatbank2_b_level          14148 non-null  float64\n",
      " 73  secondary_cleaner.state.floatbank3_a_air            14145 non-null  float64\n",
      " 74  secondary_cleaner.state.floatbank3_a_level          14148 non-null  float64\n",
      " 75  secondary_cleaner.state.floatbank3_b_air            14148 non-null  float64\n",
      " 76  secondary_cleaner.state.floatbank3_b_level          14148 non-null  float64\n",
      " 77  secondary_cleaner.state.floatbank4_a_air            14143 non-null  float64\n",
      " 78  secondary_cleaner.state.floatbank4_a_level          14148 non-null  float64\n",
      " 79  secondary_cleaner.state.floatbank4_b_air            14148 non-null  float64\n",
      " 80  secondary_cleaner.state.floatbank4_b_level          14148 non-null  float64\n",
      " 81  secondary_cleaner.state.floatbank5_a_air            14148 non-null  float64\n",
      " 82  secondary_cleaner.state.floatbank5_a_level          14148 non-null  float64\n",
      " 83  secondary_cleaner.state.floatbank5_b_air            14148 non-null  float64\n",
      " 84  secondary_cleaner.state.floatbank5_b_level          14148 non-null  float64\n",
      " 85  secondary_cleaner.state.floatbank6_a_air            14147 non-null  float64\n",
      " 86  secondary_cleaner.state.floatbank6_a_level          14148 non-null  float64\n",
      "dtypes: float64(86), object(1)\n",
      "memory usage: 9.4+ MB\n",
      "None\n",
      "<class 'pandas.core.frame.DataFrame'>\n",
      "RangeIndex: 5290 entries, 0 to 5289\n",
      "Data columns (total 53 columns):\n",
      " #   Column                                      Non-Null Count  Dtype  \n",
      "---  ------                                      --------------  -----  \n",
      " 0   date                                        5290 non-null   object \n",
      " 1   primary_cleaner.input.sulfate               5286 non-null   float64\n",
      " 2   primary_cleaner.input.depressant            5285 non-null   float64\n",
      " 3   primary_cleaner.input.feed_size             5290 non-null   float64\n",
      " 4   primary_cleaner.input.xanthate              5286 non-null   float64\n",
      " 5   primary_cleaner.state.floatbank8_a_air      5290 non-null   float64\n",
      " 6   primary_cleaner.state.floatbank8_a_level    5290 non-null   float64\n",
      " 7   primary_cleaner.state.floatbank8_b_air      5290 non-null   float64\n",
      " 8   primary_cleaner.state.floatbank8_b_level    5290 non-null   float64\n",
      " 9   primary_cleaner.state.floatbank8_c_air      5290 non-null   float64\n",
      " 10  primary_cleaner.state.floatbank8_c_level    5290 non-null   float64\n",
      " 11  primary_cleaner.state.floatbank8_d_air      5290 non-null   float64\n",
      " 12  primary_cleaner.state.floatbank8_d_level    5290 non-null   float64\n",
      " 13  rougher.input.feed_ag                       5290 non-null   float64\n",
      " 14  rougher.input.feed_pb                       5290 non-null   float64\n",
      " 15  rougher.input.feed_rate                     5287 non-null   float64\n",
      " 16  rougher.input.feed_size                     5289 non-null   float64\n",
      " 17  rougher.input.feed_sol                      5269 non-null   float64\n",
      " 18  rougher.input.feed_au                       5290 non-null   float64\n",
      " 19  rougher.input.floatbank10_sulfate           5285 non-null   float64\n",
      " 20  rougher.input.floatbank10_xanthate          5290 non-null   float64\n",
      " 21  rougher.input.floatbank11_sulfate           5282 non-null   float64\n",
      " 22  rougher.input.floatbank11_xanthate          5265 non-null   float64\n",
      " 23  rougher.state.floatbank10_a_air             5290 non-null   float64\n",
      " 24  rougher.state.floatbank10_a_level           5290 non-null   float64\n",
      " 25  rougher.state.floatbank10_b_air             5290 non-null   float64\n",
      " 26  rougher.state.floatbank10_b_level           5290 non-null   float64\n",
      " 27  rougher.state.floatbank10_c_air             5290 non-null   float64\n",
      " 28  rougher.state.floatbank10_c_level           5290 non-null   float64\n",
      " 29  rougher.state.floatbank10_d_air             5290 non-null   float64\n",
      " 30  rougher.state.floatbank10_d_level           5290 non-null   float64\n",
      " 31  rougher.state.floatbank10_e_air             5290 non-null   float64\n",
      " 32  rougher.state.floatbank10_e_level           5290 non-null   float64\n",
      " 33  rougher.state.floatbank10_f_air             5290 non-null   float64\n",
      " 34  rougher.state.floatbank10_f_level           5290 non-null   float64\n",
      " 35  secondary_cleaner.state.floatbank2_a_air    5287 non-null   float64\n",
      " 36  secondary_cleaner.state.floatbank2_a_level  5290 non-null   float64\n",
      " 37  secondary_cleaner.state.floatbank2_b_air    5288 non-null   float64\n",
      " 38  secondary_cleaner.state.floatbank2_b_level  5290 non-null   float64\n",
      " 39  secondary_cleaner.state.floatbank3_a_air    5281 non-null   float64\n",
      " 40  secondary_cleaner.state.floatbank3_a_level  5290 non-null   float64\n",
      " 41  secondary_cleaner.state.floatbank3_b_air    5290 non-null   float64\n",
      " 42  secondary_cleaner.state.floatbank3_b_level  5290 non-null   float64\n",
      " 43  secondary_cleaner.state.floatbank4_a_air    5290 non-null   float64\n",
      " 44  secondary_cleaner.state.floatbank4_a_level  5290 non-null   float64\n",
      " 45  secondary_cleaner.state.floatbank4_b_air    5290 non-null   float64\n",
      " 46  secondary_cleaner.state.floatbank4_b_level  5290 non-null   float64\n",
      " 47  secondary_cleaner.state.floatbank5_a_air    5290 non-null   float64\n",
      " 48  secondary_cleaner.state.floatbank5_a_level  5290 non-null   float64\n",
      " 49  secondary_cleaner.state.floatbank5_b_air    5290 non-null   float64\n",
      " 50  secondary_cleaner.state.floatbank5_b_level  5290 non-null   float64\n",
      " 51  secondary_cleaner.state.floatbank6_a_air    5290 non-null   float64\n",
      " 52  secondary_cleaner.state.floatbank6_a_level  5290 non-null   float64\n",
      "dtypes: float64(52), object(1)\n",
      "memory usage: 2.1+ MB\n",
      "None\n"
     ]
    }
   ],
   "source": [
    "for data in datasets:\n",
    "    print(data.info())"
   ]
  },
  {
   "cell_type": "code",
   "execution_count": 4,
   "metadata": {},
   "outputs": [
    {
     "name": "stdout",
     "output_type": "stream",
     "text": [
      "0\n",
      "0\n",
      "0\n"
     ]
    }
   ],
   "source": [
    "for data in datasets:\n",
    "    print(data.duplicated().sum())"
   ]
  },
  {
   "cell_type": "code",
   "execution_count": 5,
   "metadata": {},
   "outputs": [
    {
     "name": "stdout",
     "output_type": "stream",
     "text": [
      "                  date  final.output.concentrate_ag  \\\n",
      "0  2016-01-15 00:00:00                     6.055403   \n",
      "1  2016-01-15 01:00:00                     6.029369   \n",
      "2  2016-01-15 02:00:00                     6.055926   \n",
      "3  2016-01-15 03:00:00                     6.047977   \n",
      "4  2016-01-15 04:00:00                     6.148599   \n",
      "\n",
      "   final.output.concentrate_pb  final.output.concentrate_sol  \\\n",
      "0                     9.889648                      5.507324   \n",
      "1                     9.968944                      5.257781   \n",
      "2                    10.213995                      5.383759   \n",
      "3                     9.977019                      4.858634   \n",
      "4                    10.142511                      4.939416   \n",
      "\n",
      "   final.output.concentrate_au  final.output.recovery  final.output.tail_ag  \\\n",
      "0                    42.192020              70.541216             10.411962   \n",
      "1                    42.701629              69.266198             10.462676   \n",
      "2                    42.657501              68.116445             10.507046   \n",
      "3                    42.689819              68.347543             10.422762   \n",
      "4                    42.774141              66.927016             10.360302   \n",
      "\n",
      "   final.output.tail_pb  final.output.tail_sol  final.output.tail_au  ...  \\\n",
      "0              0.895447              16.904297              2.143149  ...   \n",
      "1              0.927452              16.634514              2.224930  ...   \n",
      "2              0.953716              16.208849              2.257889  ...   \n",
      "3              0.883763              16.532835              2.146849  ...   \n",
      "4              0.792826              16.525686              2.055292  ...   \n",
      "\n",
      "   secondary_cleaner.state.floatbank4_a_air  \\\n",
      "0                                 14.016835   \n",
      "1                                 13.992281   \n",
      "2                                 14.015015   \n",
      "3                                 14.036510   \n",
      "4                                 14.027298   \n",
      "\n",
      "   secondary_cleaner.state.floatbank4_a_level  \\\n",
      "0                                 -502.488007   \n",
      "1                                 -505.503262   \n",
      "2                                 -502.520901   \n",
      "3                                 -500.857308   \n",
      "4                                 -499.838632   \n",
      "\n",
      "   secondary_cleaner.state.floatbank4_b_air  \\\n",
      "0                                 12.099931   \n",
      "1                                 11.950531   \n",
      "2                                 11.912783   \n",
      "3                                 11.999550   \n",
      "4                                 11.953070   \n",
      "\n",
      "   secondary_cleaner.state.floatbank4_b_level  \\\n",
      "0                                 -504.715942   \n",
      "1                                 -501.331529   \n",
      "2                                 -501.133383   \n",
      "3                                 -501.193686   \n",
      "4                                 -501.053894   \n",
      "\n",
      "   secondary_cleaner.state.floatbank5_a_air  \\\n",
      "0                                  9.925633   \n",
      "1                                 10.039245   \n",
      "2                                 10.070913   \n",
      "3                                  9.970366   \n",
      "4                                  9.925709   \n",
      "\n",
      "   secondary_cleaner.state.floatbank5_a_level  \\\n",
      "0                                 -498.310211   \n",
      "1                                 -500.169983   \n",
      "2                                 -500.129135   \n",
      "3                                 -499.201640   \n",
      "4                                 -501.686727   \n",
      "\n",
      "   secondary_cleaner.state.floatbank5_b_air  \\\n",
      "0                                  8.079666   \n",
      "1                                  7.984757   \n",
      "2                                  8.013877   \n",
      "3                                  7.977324   \n",
      "4                                  7.894242   \n",
      "\n",
      "   secondary_cleaner.state.floatbank5_b_level  \\\n",
      "0                                 -500.470978   \n",
      "1                                 -500.582168   \n",
      "2                                 -500.517572   \n",
      "3                                 -500.255908   \n",
      "4                                 -500.356035   \n",
      "\n",
      "   secondary_cleaner.state.floatbank6_a_air  \\\n",
      "0                                 14.151341   \n",
      "1                                 13.998353   \n",
      "2                                 14.028663   \n",
      "3                                 14.005551   \n",
      "4                                 13.996647   \n",
      "\n",
      "   secondary_cleaner.state.floatbank6_a_level  \n",
      "0                                 -605.841980  \n",
      "1                                 -599.787184  \n",
      "2                                 -601.427363  \n",
      "3                                 -599.996129  \n",
      "4                                 -601.496691  \n",
      "\n",
      "[5 rows x 87 columns]\n",
      "                  date  final.output.concentrate_ag  \\\n",
      "0  2016-01-15 00:00:00                     6.055403   \n",
      "1  2016-01-15 01:00:00                     6.029369   \n",
      "2  2016-01-15 02:00:00                     6.055926   \n",
      "3  2016-01-15 03:00:00                     6.047977   \n",
      "4  2016-01-15 04:00:00                     6.148599   \n",
      "\n",
      "   final.output.concentrate_pb  final.output.concentrate_sol  \\\n",
      "0                     9.889648                      5.507324   \n",
      "1                     9.968944                      5.257781   \n",
      "2                    10.213995                      5.383759   \n",
      "3                     9.977019                      4.858634   \n",
      "4                    10.142511                      4.939416   \n",
      "\n",
      "   final.output.concentrate_au  final.output.recovery  final.output.tail_ag  \\\n",
      "0                    42.192020              70.541216             10.411962   \n",
      "1                    42.701629              69.266198             10.462676   \n",
      "2                    42.657501              68.116445             10.507046   \n",
      "3                    42.689819              68.347543             10.422762   \n",
      "4                    42.774141              66.927016             10.360302   \n",
      "\n",
      "   final.output.tail_pb  final.output.tail_sol  final.output.tail_au  ...  \\\n",
      "0              0.895447              16.904297              2.143149  ...   \n",
      "1              0.927452              16.634514              2.224930  ...   \n",
      "2              0.953716              16.208849              2.257889  ...   \n",
      "3              0.883763              16.532835              2.146849  ...   \n",
      "4              0.792826              16.525686              2.055292  ...   \n",
      "\n",
      "   secondary_cleaner.state.floatbank4_a_air  \\\n",
      "0                                 14.016835   \n",
      "1                                 13.992281   \n",
      "2                                 14.015015   \n",
      "3                                 14.036510   \n",
      "4                                 14.027298   \n",
      "\n",
      "   secondary_cleaner.state.floatbank4_a_level  \\\n",
      "0                                 -502.488007   \n",
      "1                                 -505.503262   \n",
      "2                                 -502.520901   \n",
      "3                                 -500.857308   \n",
      "4                                 -499.838632   \n",
      "\n",
      "   secondary_cleaner.state.floatbank4_b_air  \\\n",
      "0                                 12.099931   \n",
      "1                                 11.950531   \n",
      "2                                 11.912783   \n",
      "3                                 11.999550   \n",
      "4                                 11.953070   \n",
      "\n",
      "   secondary_cleaner.state.floatbank4_b_level  \\\n",
      "0                                 -504.715942   \n",
      "1                                 -501.331529   \n",
      "2                                 -501.133383   \n",
      "3                                 -501.193686   \n",
      "4                                 -501.053894   \n",
      "\n",
      "   secondary_cleaner.state.floatbank5_a_air  \\\n",
      "0                                  9.925633   \n",
      "1                                 10.039245   \n",
      "2                                 10.070913   \n",
      "3                                  9.970366   \n",
      "4                                  9.925709   \n",
      "\n",
      "   secondary_cleaner.state.floatbank5_a_level  \\\n",
      "0                                 -498.310211   \n",
      "1                                 -500.169983   \n",
      "2                                 -500.129135   \n",
      "3                                 -499.201640   \n",
      "4                                 -501.686727   \n",
      "\n",
      "   secondary_cleaner.state.floatbank5_b_air  \\\n",
      "0                                  8.079666   \n",
      "1                                  7.984757   \n",
      "2                                  8.013877   \n",
      "3                                  7.977324   \n",
      "4                                  7.894242   \n",
      "\n",
      "   secondary_cleaner.state.floatbank5_b_level  \\\n",
      "0                                 -500.470978   \n",
      "1                                 -500.582168   \n",
      "2                                 -500.517572   \n",
      "3                                 -500.255908   \n",
      "4                                 -500.356035   \n",
      "\n",
      "   secondary_cleaner.state.floatbank6_a_air  \\\n",
      "0                                 14.151341   \n",
      "1                                 13.998353   \n",
      "2                                 14.028663   \n",
      "3                                 14.005551   \n",
      "4                                 13.996647   \n",
      "\n",
      "   secondary_cleaner.state.floatbank6_a_level  \n",
      "0                                 -605.841980  \n",
      "1                                 -599.787184  \n",
      "2                                 -601.427363  \n",
      "3                                 -599.996129  \n",
      "4                                 -601.496691  \n",
      "\n",
      "[5 rows x 87 columns]\n",
      "                  date  primary_cleaner.input.sulfate  \\\n",
      "0  2016-09-01 00:59:59                     210.800909   \n",
      "1  2016-09-01 01:59:59                     215.392455   \n",
      "2  2016-09-01 02:59:59                     215.259946   \n",
      "3  2016-09-01 03:59:59                     215.336236   \n",
      "4  2016-09-01 04:59:59                     199.099327   \n",
      "\n",
      "   primary_cleaner.input.depressant  primary_cleaner.input.feed_size  \\\n",
      "0                         14.993118                         8.080000   \n",
      "1                         14.987471                         8.080000   \n",
      "2                         12.884934                         7.786667   \n",
      "3                         12.006805                         7.640000   \n",
      "4                         10.682530                         7.530000   \n",
      "\n",
      "   primary_cleaner.input.xanthate  primary_cleaner.state.floatbank8_a_air  \\\n",
      "0                        1.005021                             1398.981301   \n",
      "1                        0.990469                             1398.777912   \n",
      "2                        0.996043                             1398.493666   \n",
      "3                        0.863514                             1399.618111   \n",
      "4                        0.805575                             1401.268123   \n",
      "\n",
      "   primary_cleaner.state.floatbank8_a_level  \\\n",
      "0                               -500.225577   \n",
      "1                               -500.057435   \n",
      "2                               -500.868360   \n",
      "3                               -498.863574   \n",
      "4                               -500.808305   \n",
      "\n",
      "   primary_cleaner.state.floatbank8_b_air  \\\n",
      "0                             1399.144926   \n",
      "1                             1398.055362   \n",
      "2                             1398.860436   \n",
      "3                             1397.440120   \n",
      "4                             1398.128818   \n",
      "\n",
      "   primary_cleaner.state.floatbank8_b_level  \\\n",
      "0                               -499.919735   \n",
      "1                               -499.778182   \n",
      "2                               -499.764529   \n",
      "3                               -499.211024   \n",
      "4                               -499.504543   \n",
      "\n",
      "   primary_cleaner.state.floatbank8_c_air  ...  \\\n",
      "0                             1400.102998  ...   \n",
      "1                             1396.151033  ...   \n",
      "2                             1398.075709  ...   \n",
      "3                             1400.129303  ...   \n",
      "4                             1402.172226  ...   \n",
      "\n",
      "   secondary_cleaner.state.floatbank4_a_air  \\\n",
      "0                                 12.023554   \n",
      "1                                 12.058140   \n",
      "2                                 11.962366   \n",
      "3                                 12.033091   \n",
      "4                                 12.025367   \n",
      "\n",
      "   secondary_cleaner.state.floatbank4_a_level  \\\n",
      "0                                 -497.795834   \n",
      "1                                 -498.695773   \n",
      "2                                 -498.767484   \n",
      "3                                 -498.350935   \n",
      "4                                 -500.786497   \n",
      "\n",
      "   secondary_cleaner.state.floatbank4_b_air  \\\n",
      "0                                  8.016656   \n",
      "1                                  8.130979   \n",
      "2                                  8.096893   \n",
      "3                                  8.074946   \n",
      "4                                  8.054678   \n",
      "\n",
      "   secondary_cleaner.state.floatbank4_b_level  \\\n",
      "0                                 -501.289139   \n",
      "1                                 -499.634209   \n",
      "2                                 -500.827423   \n",
      "3                                 -499.474407   \n",
      "4                                 -500.397500   \n",
      "\n",
      "   secondary_cleaner.state.floatbank5_a_air  \\\n",
      "0                                  7.946562   \n",
      "1                                  7.958270   \n",
      "2                                  8.071056   \n",
      "3                                  7.897085   \n",
      "4                                  8.107890   \n",
      "\n",
      "   secondary_cleaner.state.floatbank5_a_level  \\\n",
      "0                                 -432.317850   \n",
      "1                                 -525.839648   \n",
      "2                                 -500.801673   \n",
      "3                                 -500.868509   \n",
      "4                                 -509.526725   \n",
      "\n",
      "   secondary_cleaner.state.floatbank5_b_air  \\\n",
      "0                                  4.872511   \n",
      "1                                  4.878850   \n",
      "2                                  4.905125   \n",
      "3                                  4.931400   \n",
      "4                                  4.957674   \n",
      "\n",
      "   secondary_cleaner.state.floatbank5_b_level  \\\n",
      "0                                 -500.037437   \n",
      "1                                 -500.162375   \n",
      "2                                 -499.828510   \n",
      "3                                 -499.963623   \n",
      "4                                 -500.360026   \n",
      "\n",
      "   secondary_cleaner.state.floatbank6_a_air  \\\n",
      "0                                 26.705889   \n",
      "1                                 25.019940   \n",
      "2                                 24.994862   \n",
      "3                                 24.948919   \n",
      "4                                 25.003331   \n",
      "\n",
      "   secondary_cleaner.state.floatbank6_a_level  \n",
      "0                                 -499.709414  \n",
      "1                                 -499.819438  \n",
      "2                                 -500.622559  \n",
      "3                                 -498.709987  \n",
      "4                                 -500.856333  \n",
      "\n",
      "[5 rows x 53 columns]\n"
     ]
    }
   ],
   "source": [
    "for data in datasets:\n",
    "    print(data.head())"
   ]
  },
  {
   "cell_type": "code",
   "execution_count": 6,
   "metadata": {},
   "outputs": [
    {
     "name": "stdout",
     "output_type": "stream",
     "text": [
      "                      date  final.output.concentrate_ag  \\\n",
      "19434  2018-08-18 06:59:59                     3.224920   \n",
      "19435  2018-08-18 07:59:59                     3.195978   \n",
      "19436  2018-08-18 08:59:59                     3.109998   \n",
      "19437  2018-08-18 09:59:59                     3.367241   \n",
      "19438  2018-08-18 10:59:59                     3.598375   \n",
      "\n",
      "       final.output.concentrate_pb  final.output.concentrate_sol  \\\n",
      "19434                    11.356233                      6.803482   \n",
      "19435                    11.349355                      6.862249   \n",
      "19436                    11.434366                      6.886013   \n",
      "19437                    11.625587                      6.799433   \n",
      "19438                    11.737832                      6.717509   \n",
      "\n",
      "       final.output.concentrate_au  final.output.recovery  \\\n",
      "19434                    46.713954              73.755150   \n",
      "19435                    46.866780              69.049291   \n",
      "19436                    46.795691              67.002189   \n",
      "19437                    46.408188              65.523246   \n",
      "19438                    46.299438              70.281454   \n",
      "\n",
      "       final.output.tail_ag  final.output.tail_pb  final.output.tail_sol  \\\n",
      "19434              8.769645              3.141541              10.403181   \n",
      "19435              8.897321              3.130493              10.549470   \n",
      "19436              8.529606              2.911418              11.115147   \n",
      "19437              8.777171              2.819214              10.463847   \n",
      "19438              8.406690              2.517518              10.652193   \n",
      "\n",
      "       final.output.tail_au  ...  secondary_cleaner.state.floatbank4_a_air  \\\n",
      "19434              1.529220  ...                                 23.031497   \n",
      "19435              1.612542  ...                                 22.960095   \n",
      "19436              1.596616  ...                                 23.015718   \n",
      "19437              1.602879  ...                                 23.024963   \n",
      "19438              1.389434  ...                                 23.018622   \n",
      "\n",
      "       secondary_cleaner.state.floatbank4_a_level  \\\n",
      "19434                                 -501.167942   \n",
      "19435                                 -501.612783   \n",
      "19436                                 -501.711599   \n",
      "19437                                 -501.153409   \n",
      "19438                                 -500.492702   \n",
      "\n",
      "       secondary_cleaner.state.floatbank4_b_air  \\\n",
      "19434                                 20.007571   \n",
      "19435                                 20.035660   \n",
      "19436                                 19.951231   \n",
      "19437                                 20.054122   \n",
      "19438                                 20.020205   \n",
      "\n",
      "       secondary_cleaner.state.floatbank4_b_level  \\\n",
      "19434                                 -499.740028   \n",
      "19435                                 -500.251357   \n",
      "19436                                 -499.857027   \n",
      "19437                                 -500.314711   \n",
      "19438                                 -500.220296   \n",
      "\n",
      "       secondary_cleaner.state.floatbank5_a_air  \\\n",
      "19434                                 18.006038   \n",
      "19435                                 17.998535   \n",
      "19436                                 18.019543   \n",
      "19437                                 17.979515   \n",
      "19438                                 17.963512   \n",
      "\n",
      "       secondary_cleaner.state.floatbank5_a_level  \\\n",
      "19434                                 -499.834374   \n",
      "19435                                 -500.395178   \n",
      "19436                                 -500.451156   \n",
      "19437                                 -499.272871   \n",
      "19438                                 -499.939490   \n",
      "\n",
      "       secondary_cleaner.state.floatbank5_b_air  \\\n",
      "19434                                 13.001114   \n",
      "19435                                 12.954048   \n",
      "19436                                 13.023431   \n",
      "19437                                 12.992404   \n",
      "19438                                 12.990306   \n",
      "\n",
      "       secondary_cleaner.state.floatbank5_b_level  \\\n",
      "19434                                 -500.155694   \n",
      "19435                                 -499.895163   \n",
      "19436                                 -499.914391   \n",
      "19437                                 -499.976268   \n",
      "19438                                 -500.080993   \n",
      "\n",
      "       secondary_cleaner.state.floatbank6_a_air  \\\n",
      "19434                                 20.007840   \n",
      "19435                                 19.968498   \n",
      "19436                                 19.990885   \n",
      "19437                                 20.013986   \n",
      "19438                                 19.990336   \n",
      "\n",
      "       secondary_cleaner.state.floatbank6_a_level  \n",
      "19434                                 -501.296428  \n",
      "19435                                 -501.041608  \n",
      "19436                                 -501.518452  \n",
      "19437                                 -500.625471  \n",
      "19438                                 -499.191575  \n",
      "\n",
      "[5 rows x 87 columns]\n",
      "                      date  final.output.concentrate_ag  \\\n",
      "14144  2018-08-18 06:59:59                     3.224920   \n",
      "14145  2018-08-18 07:59:59                     3.195978   \n",
      "14146  2018-08-18 08:59:59                     3.109998   \n",
      "14147  2018-08-18 09:59:59                     3.367241   \n",
      "14148  2018-08-18 10:59:59                     3.598375   \n",
      "\n",
      "       final.output.concentrate_pb  final.output.concentrate_sol  \\\n",
      "14144                    11.356233                      6.803482   \n",
      "14145                    11.349355                      6.862249   \n",
      "14146                    11.434366                      6.886013   \n",
      "14147                    11.625587                      6.799433   \n",
      "14148                    11.737832                      6.717509   \n",
      "\n",
      "       final.output.concentrate_au  final.output.recovery  \\\n",
      "14144                    46.713954              73.755150   \n",
      "14145                    46.866780              69.049291   \n",
      "14146                    46.795691              67.002189   \n",
      "14147                    46.408188              65.523246   \n",
      "14148                    46.299438              70.281454   \n",
      "\n",
      "       final.output.tail_ag  final.output.tail_pb  final.output.tail_sol  \\\n",
      "14144              8.769645              3.141541              10.403181   \n",
      "14145              8.897321              3.130493              10.549470   \n",
      "14146              8.529606              2.911418              11.115147   \n",
      "14147              8.777171              2.819214              10.463847   \n",
      "14148              8.406690              2.517518              10.652193   \n",
      "\n",
      "       final.output.tail_au  ...  secondary_cleaner.state.floatbank4_a_air  \\\n",
      "14144              1.529220  ...                                 23.031497   \n",
      "14145              1.612542  ...                                 22.960095   \n",
      "14146              1.596616  ...                                 23.015718   \n",
      "14147              1.602879  ...                                 23.024963   \n",
      "14148              1.389434  ...                                 23.018622   \n",
      "\n",
      "       secondary_cleaner.state.floatbank4_a_level  \\\n",
      "14144                                 -501.167942   \n",
      "14145                                 -501.612783   \n",
      "14146                                 -501.711599   \n",
      "14147                                 -501.153409   \n",
      "14148                                 -500.492702   \n",
      "\n",
      "       secondary_cleaner.state.floatbank4_b_air  \\\n",
      "14144                                 20.007571   \n",
      "14145                                 20.035660   \n",
      "14146                                 19.951231   \n",
      "14147                                 20.054122   \n",
      "14148                                 20.020205   \n",
      "\n",
      "       secondary_cleaner.state.floatbank4_b_level  \\\n",
      "14144                                 -499.740028   \n",
      "14145                                 -500.251357   \n",
      "14146                                 -499.857027   \n",
      "14147                                 -500.314711   \n",
      "14148                                 -500.220296   \n",
      "\n",
      "       secondary_cleaner.state.floatbank5_a_air  \\\n",
      "14144                                 18.006038   \n",
      "14145                                 17.998535   \n",
      "14146                                 18.019543   \n",
      "14147                                 17.979515   \n",
      "14148                                 17.963512   \n",
      "\n",
      "       secondary_cleaner.state.floatbank5_a_level  \\\n",
      "14144                                 -499.834374   \n",
      "14145                                 -500.395178   \n",
      "14146                                 -500.451156   \n",
      "14147                                 -499.272871   \n",
      "14148                                 -499.939490   \n",
      "\n",
      "       secondary_cleaner.state.floatbank5_b_air  \\\n",
      "14144                                 13.001114   \n",
      "14145                                 12.954048   \n",
      "14146                                 13.023431   \n",
      "14147                                 12.992404   \n",
      "14148                                 12.990306   \n",
      "\n",
      "       secondary_cleaner.state.floatbank5_b_level  \\\n",
      "14144                                 -500.155694   \n",
      "14145                                 -499.895163   \n",
      "14146                                 -499.914391   \n",
      "14147                                 -499.976268   \n",
      "14148                                 -500.080993   \n",
      "\n",
      "       secondary_cleaner.state.floatbank6_a_air  \\\n",
      "14144                                 20.007840   \n",
      "14145                                 19.968498   \n",
      "14146                                 19.990885   \n",
      "14147                                 20.013986   \n",
      "14148                                 19.990336   \n",
      "\n",
      "       secondary_cleaner.state.floatbank6_a_level  \n",
      "14144                                 -501.296428  \n",
      "14145                                 -501.041608  \n",
      "14146                                 -501.518452  \n",
      "14147                                 -500.625471  \n",
      "14148                                 -499.191575  \n",
      "\n",
      "[5 rows x 87 columns]\n",
      "                     date  primary_cleaner.input.sulfate  \\\n",
      "5285  2017-12-31 19:59:59                     173.957757   \n",
      "5286  2017-12-31 20:59:59                     172.910270   \n",
      "5287  2017-12-31 21:59:59                     171.135718   \n",
      "5288  2017-12-31 22:59:59                     179.697158   \n",
      "5289  2017-12-31 23:59:59                     181.556856   \n",
      "\n",
      "      primary_cleaner.input.depressant  primary_cleaner.input.feed_size  \\\n",
      "5285                         15.963399                             8.07   \n",
      "5286                         16.002605                             8.07   \n",
      "5287                         15.993669                             8.07   \n",
      "5288                         15.438979                             8.07   \n",
      "5289                         14.995850                             8.07   \n",
      "\n",
      "      primary_cleaner.input.xanthate  primary_cleaner.state.floatbank8_a_air  \\\n",
      "5285                        0.896701                             1401.930554   \n",
      "5286                        0.896519                             1447.075722   \n",
      "5287                        1.165996                             1498.836182   \n",
      "5288                        1.501068                             1498.466243   \n",
      "5289                        1.623454                             1498.096303   \n",
      "\n",
      "      primary_cleaner.state.floatbank8_a_level  \\\n",
      "5285                               -499.728848   \n",
      "5286                               -494.716823   \n",
      "5287                               -501.770403   \n",
      "5288                               -500.483984   \n",
      "5289                               -499.796922   \n",
      "\n",
      "      primary_cleaner.state.floatbank8_b_air  \\\n",
      "5285                             1401.441445   \n",
      "5286                             1448.851892   \n",
      "5287                             1499.572353   \n",
      "5288                             1497.986986   \n",
      "5289                             1501.743791   \n",
      "\n",
      "      primary_cleaner.state.floatbank8_b_level  \\\n",
      "5285                               -499.193423   \n",
      "5286                               -465.963026   \n",
      "5287                               -495.516347   \n",
      "5288                               -519.200340   \n",
      "5289                               -505.146931   \n",
      "\n",
      "      primary_cleaner.state.floatbank8_c_air  ...  \\\n",
      "5285                             1399.810313  ...   \n",
      "5286                             1443.890424  ...   \n",
      "5287                             1502.749213  ...   \n",
      "5288                             1496.569047  ...   \n",
      "5289                             1499.535978  ...   \n",
      "\n",
      "      secondary_cleaner.state.floatbank4_a_air  \\\n",
      "5285                                 13.995957   \n",
      "5286                                 16.749781   \n",
      "5287                                 19.994130   \n",
      "5288                                 19.958760   \n",
      "5289                                 20.034715   \n",
      "\n",
      "      secondary_cleaner.state.floatbank4_a_level  \\\n",
      "5285                                 -500.157454   \n",
      "5286                                 -496.031539   \n",
      "5287                                 -499.791312   \n",
      "5288                                 -499.958750   \n",
      "5289                                 -500.728588   \n",
      "\n",
      "      secondary_cleaner.state.floatbank4_b_air  \\\n",
      "5285                                 12.069155   \n",
      "5286                                 13.365371   \n",
      "5287                                 15.101425   \n",
      "5288                                 15.026853   \n",
      "5289                                 14.914199   \n",
      "\n",
      "      secondary_cleaner.state.floatbank4_b_level  \\\n",
      "5285                                 -499.673279   \n",
      "5286                                 -499.122723   \n",
      "5287                                 -499.936252   \n",
      "5288                                 -499.723143   \n",
      "5289                                 -499.948518   \n",
      "\n",
      "      secondary_cleaner.state.floatbank5_a_air  \\\n",
      "5285                                  7.977259   \n",
      "5286                                  9.288553   \n",
      "5287                                 10.989181   \n",
      "5288                                 11.011607   \n",
      "5289                                 10.986607   \n",
      "\n",
      "      secondary_cleaner.state.floatbank5_a_level  \\\n",
      "5285                                 -499.516126   \n",
      "5286                                 -496.892967   \n",
      "5287                                 -498.347898   \n",
      "5288                                 -499.985046   \n",
      "5289                                 -500.658027   \n",
      "\n",
      "      secondary_cleaner.state.floatbank5_b_air  \\\n",
      "5285                                  5.933319   \n",
      "5286                                  7.372897   \n",
      "5287                                  9.020944   \n",
      "5288                                  9.009783   \n",
      "5289                                  8.989497   \n",
      "\n",
      "      secondary_cleaner.state.floatbank5_b_level  \\\n",
      "5285                                 -499.965973   \n",
      "5286                                 -499.942956   \n",
      "5287                                 -500.040448   \n",
      "5288                                 -499.937902   \n",
      "5289                                 -500.337588   \n",
      "\n",
      "      secondary_cleaner.state.floatbank6_a_air  \\\n",
      "5285                                  8.987171   \n",
      "5286                                  8.986832   \n",
      "5287                                  8.982038   \n",
      "5288                                  9.012660   \n",
      "5289                                  8.988632   \n",
      "\n",
      "      secondary_cleaner.state.floatbank6_a_level  \n",
      "5285                                 -499.755909  \n",
      "5286                                 -499.903761  \n",
      "5287                                 -497.789882  \n",
      "5288                                 -500.154284  \n",
      "5289                                 -500.764937  \n",
      "\n",
      "[5 rows x 53 columns]\n"
     ]
    }
   ],
   "source": [
    "for data in datasets:\n",
    "    print(data.tail())"
   ]
  },
  {
   "cell_type": "code",
   "execution_count": 7,
   "metadata": {},
   "outputs": [
    {
     "name": "stdout",
     "output_type": "stream",
     "text": [
      "       final.output.concentrate_ag  final.output.concentrate_pb  \\\n",
      "count                 19438.000000                 19438.000000   \n",
      "mean                      5.168470                     9.978895   \n",
      "std                       1.372348                     1.669240   \n",
      "min                       0.000000                     0.000000   \n",
      "25%                       4.251240                     9.137262   \n",
      "50%                       5.066094                    10.102433   \n",
      "75%                       5.895527                    11.035769   \n",
      "max                      16.001945                    17.031899   \n",
      "\n",
      "       final.output.concentrate_sol  final.output.concentrate_au  \\\n",
      "count                  19228.000000                 19439.000000   \n",
      "mean                       9.501224                    44.076513   \n",
      "std                        2.787537                     5.129784   \n",
      "min                        0.000000                     0.000000   \n",
      "25%                        7.722820                    43.402215   \n",
      "50%                        9.218961                    45.011244   \n",
      "75%                       10.947813                    46.275313   \n",
      "max                       19.615720                    52.756638   \n",
      "\n",
      "       final.output.recovery  final.output.tail_ag  final.output.tail_pb  \\\n",
      "count           19439.000000          19438.000000          19338.000000   \n",
      "mean               67.050208              9.688589              2.705795   \n",
      "std                10.125840              2.328642              0.949077   \n",
      "min                 0.000000              0.000000              0.000000   \n",
      "25%                63.299712              8.062878              2.040119   \n",
      "50%                68.172738              9.743623              2.748730   \n",
      "75%                72.686642             11.134294              3.333216   \n",
      "max               100.000000             19.552149              5.804178   \n",
      "\n",
      "       final.output.tail_sol  final.output.tail_au  \\\n",
      "count           19433.000000          19439.000000   \n",
      "mean               10.583728              3.042467   \n",
      "std                 2.868782              0.922808   \n",
      "min                 0.000000              0.000000   \n",
      "25%                 8.938947              2.461138   \n",
      "50%                10.622456              2.984909   \n",
      "75%                12.104271              3.571351   \n",
      "max                22.317730              8.245022   \n",
      "\n",
      "       primary_cleaner.input.sulfate  ...  \\\n",
      "count                   19415.000000  ...   \n",
      "mean                      144.624774  ...   \n",
      "std                        44.464071  ...   \n",
      "min                         0.003112  ...   \n",
      "25%                       114.107029  ...   \n",
      "50%                       143.232103  ...   \n",
      "75%                       175.075656  ...   \n",
      "max                       265.983123  ...   \n",
      "\n",
      "       secondary_cleaner.state.floatbank4_a_air  \\\n",
      "count                              19433.000000   \n",
      "mean                                  18.987674   \n",
      "std                                    5.411058   \n",
      "min                                    0.000000   \n",
      "25%                                   14.975734   \n",
      "50%                                   18.017481   \n",
      "75%                                   23.012470   \n",
      "max                                   30.115735   \n",
      "\n",
      "       secondary_cleaner.state.floatbank4_a_level  \\\n",
      "count                                19438.000000   \n",
      "mean                                  -485.894516   \n",
      "std                                     47.758570   \n",
      "min                                   -799.798523   \n",
      "25%                                   -500.704892   \n",
      "50%                                   -499.837793   \n",
      "75%                                   -498.249730   \n",
      "max                                   -245.239184   \n",
      "\n",
      "       secondary_cleaner.state.floatbank4_b_air  \\\n",
      "count                              19438.000000   \n",
      "mean                                  15.010366   \n",
      "std                                    4.890228   \n",
      "min                                    0.000000   \n",
      "25%                                   11.940294   \n",
      "50%                                   14.971014   \n",
      "75%                                   19.034162   \n",
      "max                                   31.269706   \n",
      "\n",
      "       secondary_cleaner.state.floatbank4_b_level  \\\n",
      "count                                19438.000000   \n",
      "mean                                  -461.078636   \n",
      "std                                     67.405524   \n",
      "min                                   -800.836914   \n",
      "25%                                   -500.187742   \n",
      "50%                                   -499.459786   \n",
      "75%                                   -400.118106   \n",
      "max                                     -6.506986   \n",
      "\n",
      "       secondary_cleaner.state.floatbank5_a_air  \\\n",
      "count                              19438.000000   \n",
      "mean                                  15.694452   \n",
      "std                                    5.510974   \n",
      "min                                   -0.372054   \n",
      "25%                                   10.988606   \n",
      "50%                                   15.000036   \n",
      "75%                                   18.026190   \n",
      "max                                   43.709931   \n",
      "\n",
      "       secondary_cleaner.state.floatbank5_a_level  \\\n",
      "count                                19438.000000   \n",
      "mean                                  -488.684065   \n",
      "std                                     34.533396   \n",
      "min                                   -797.323986   \n",
      "25%                                   -500.458467   \n",
      "50%                                   -499.802605   \n",
      "75%                                   -498.384187   \n",
      "max                                   -244.483566   \n",
      "\n",
      "       secondary_cleaner.state.floatbank5_b_air  \\\n",
      "count                              19438.000000   \n",
      "mean                                  12.198224   \n",
      "std                                    5.333024   \n",
      "min                                    0.528083   \n",
      "25%                                    8.971105   \n",
      "50%                                   11.019433   \n",
      "75%                                   14.019088   \n",
      "max                                   27.926001   \n",
      "\n",
      "       secondary_cleaner.state.floatbank5_b_level  \\\n",
      "count                                19438.000000   \n",
      "mean                                  -487.149827   \n",
      "std                                     38.347312   \n",
      "min                                   -800.220337   \n",
      "25%                                   -500.129462   \n",
      "50%                                   -499.935317   \n",
      "75%                                   -499.436708   \n",
      "max                                   -137.740004   \n",
      "\n",
      "       secondary_cleaner.state.floatbank6_a_air  \\\n",
      "count                              19437.000000   \n",
      "mean                                  18.959024   \n",
      "std                                    5.550498   \n",
      "min                                   -0.079426   \n",
      "25%                                   14.983037   \n",
      "50%                                   19.960541   \n",
      "75%                                   24.003170   \n",
      "max                                   32.188906   \n",
      "\n",
      "       secondary_cleaner.state.floatbank6_a_level  \n",
      "count                                19438.000000  \n",
      "mean                                  -505.436305  \n",
      "std                                     37.689057  \n",
      "min                                   -809.741464  \n",
      "25%                                   -500.728067  \n",
      "50%                                   -500.048400  \n",
      "75%                                   -499.495378  \n",
      "max                                   -104.427459  \n",
      "\n",
      "[8 rows x 86 columns]\n",
      "       final.output.concentrate_ag  final.output.concentrate_pb  \\\n",
      "count                 14148.000000                 14148.000000   \n",
      "mean                      5.142034                    10.132960   \n",
      "std                       1.369586                     1.654930   \n",
      "min                       0.000000                     0.000000   \n",
      "25%                       4.211620                     9.297355   \n",
      "50%                       4.994652                    10.297144   \n",
      "75%                       5.859540                    11.170603   \n",
      "max                      16.001945                    17.031899   \n",
      "\n",
      "       final.output.concentrate_sol  final.output.concentrate_au  \\\n",
      "count                  13938.000000                 14149.000000   \n",
      "mean                       9.202849                    44.003792   \n",
      "std                        2.790516                     4.905261   \n",
      "min                        0.000000                     0.000000   \n",
      "25%                        7.484645                    43.276111   \n",
      "50%                        8.845462                    44.872436   \n",
      "75%                       10.487508                    46.166425   \n",
      "max                       18.124851                    52.756638   \n",
      "\n",
      "       final.output.recovery  final.output.tail_ag  final.output.tail_pb  \\\n",
      "count           14149.000000          14149.000000          14049.000000   \n",
      "mean               66.518832              9.607035              2.597298   \n",
      "std                10.295402              2.319069              0.971843   \n",
      "min                 0.000000              0.000000              0.000000   \n",
      "25%                62.545817              7.997429              1.905973   \n",
      "50%                67.432775              9.480270              2.592022   \n",
      "75%                72.346428             11.003707              3.241723   \n",
      "max               100.000000             19.552149              5.639565   \n",
      "\n",
      "       final.output.tail_sol  final.output.tail_au  \\\n",
      "count           14144.000000          14149.000000   \n",
      "mean               10.512122              2.918421   \n",
      "std                 3.003617              0.903712   \n",
      "min                 0.000000              0.000000   \n",
      "25%                 8.811324              2.368607   \n",
      "50%                10.514621              2.851025   \n",
      "75%                11.933009              3.434764   \n",
      "max                22.317730              8.197408   \n",
      "\n",
      "       primary_cleaner.input.sulfate  ...  \\\n",
      "count                   14129.000000  ...   \n",
      "mean                      133.320659  ...   \n",
      "std                        39.431659  ...   \n",
      "min                         0.003112  ...   \n",
      "25%                       107.006651  ...   \n",
      "50%                       133.018328  ...   \n",
      "75%                       159.825396  ...   \n",
      "max                       250.127834  ...   \n",
      "\n",
      "       secondary_cleaner.state.floatbank4_a_air  \\\n",
      "count                              14143.000000   \n",
      "mean                                  19.985454   \n",
      "std                                    5.657723   \n",
      "min                                    0.000000   \n",
      "25%                                   14.990775   \n",
      "50%                                   20.001789   \n",
      "75%                                   24.990826   \n",
      "max                                   30.115735   \n",
      "\n",
      "       secondary_cleaner.state.floatbank4_a_level  \\\n",
      "count                                14148.000000   \n",
      "mean                                  -478.696836   \n",
      "std                                     50.736021   \n",
      "min                                   -799.709069   \n",
      "25%                                   -500.628656   \n",
      "50%                                   -499.681450   \n",
      "75%                                   -477.472413   \n",
      "max                                   -245.239184   \n",
      "\n",
      "       secondary_cleaner.state.floatbank4_b_air  \\\n",
      "count                              14148.000000   \n",
      "mean                                  15.487065   \n",
      "std                                    5.255655   \n",
      "min                                    0.000000   \n",
      "25%                                   11.894558   \n",
      "50%                                   14.975536   \n",
      "75%                                   20.059375   \n",
      "max                                   24.007913   \n",
      "\n",
      "       secondary_cleaner.state.floatbank4_b_level  \\\n",
      "count                                14148.000000   \n",
      "mean                                  -460.229416   \n",
      "std                                     58.843586   \n",
      "min                                   -799.889113   \n",
      "25%                                   -500.149000   \n",
      "50%                                   -499.388738   \n",
      "75%                                   -400.039008   \n",
      "max                                   -145.071088   \n",
      "\n",
      "       secondary_cleaner.state.floatbank5_a_air  \\\n",
      "count                              14148.000000   \n",
      "mean                                  16.775136   \n",
      "std                                    5.831906   \n",
      "min                                   -0.372054   \n",
      "25%                                   11.083980   \n",
      "50%                                   17.932223   \n",
      "75%                                   21.346550   \n",
      "max                                   43.709931   \n",
      "\n",
      "       secondary_cleaner.state.floatbank5_a_level  \\\n",
      "count                                14148.000000   \n",
      "mean                                  -483.956022   \n",
      "std                                     37.892788   \n",
      "min                                   -797.142475   \n",
      "25%                                   -500.363177   \n",
      "50%                                   -499.702452   \n",
      "75%                                   -487.712108   \n",
      "max                                   -275.073125   \n",
      "\n",
      "       secondary_cleaner.state.floatbank5_b_air  \\\n",
      "count                              14148.000000   \n",
      "mean                                  13.064590   \n",
      "std                                    5.765617   \n",
      "min                                    0.646208   \n",
      "25%                                    8.994405   \n",
      "50%                                   11.997547   \n",
      "75%                                   17.982903   \n",
      "max                                   27.926001   \n",
      "\n",
      "       secondary_cleaner.state.floatbank5_b_level  \\\n",
      "count                                14148.000000   \n",
      "mean                                  -483.966564   \n",
      "std                                     39.207913   \n",
      "min                                   -800.006180   \n",
      "25%                                   -500.105994   \n",
      "50%                                   -499.914556   \n",
      "75%                                   -453.186936   \n",
      "max                                   -157.396071   \n",
      "\n",
      "       secondary_cleaner.state.floatbank6_a_air  \\\n",
      "count                              14147.000000   \n",
      "mean                                  19.577539   \n",
      "std                                    5.764417   \n",
      "min                                    0.195324   \n",
      "25%                                   14.989304   \n",
      "50%                                   19.984175   \n",
      "75%                                   24.991623   \n",
      "max                                   32.188906   \n",
      "\n",
      "       secondary_cleaner.state.floatbank6_a_level  \n",
      "count                                14148.000000  \n",
      "mean                                  -506.798480  \n",
      "std                                     37.079249  \n",
      "min                                   -809.398668  \n",
      "25%                                   -500.745104  \n",
      "50%                                   -500.061431  \n",
      "75%                                   -499.536466  \n",
      "max                                   -104.427459  \n",
      "\n",
      "[8 rows x 86 columns]\n",
      "       primary_cleaner.input.sulfate  primary_cleaner.input.depressant  \\\n",
      "count                    5286.000000                       5285.000000   \n",
      "mean                      174.839652                          8.683596   \n",
      "std                        43.027080                          3.072050   \n",
      "min                         2.566156                          0.003839   \n",
      "25%                       147.121401                          6.489555   \n",
      "50%                       177.828489                          8.052207   \n",
      "75%                       208.125438                         10.027764   \n",
      "max                       265.983123                         40.000000   \n",
      "\n",
      "       primary_cleaner.input.feed_size  primary_cleaner.input.xanthate  \\\n",
      "count                      5290.000000                     5286.000000   \n",
      "mean                          7.266339                        1.383803   \n",
      "std                           0.610219                        0.643474   \n",
      "min                           5.650000                        0.004984   \n",
      "25%                           6.890000                        0.907623   \n",
      "50%                           7.250000                        1.197610   \n",
      "75%                           7.600000                        1.797819   \n",
      "max                          15.500000                        4.102454   \n",
      "\n",
      "       primary_cleaner.state.floatbank8_a_air  \\\n",
      "count                            5.290000e+03   \n",
      "mean                             1.539494e+03   \n",
      "std                              1.167979e+02   \n",
      "min                              5.445860e-32   \n",
      "25%                              1.498936e+03   \n",
      "50%                              1.585129e+03   \n",
      "75%                              1.602077e+03   \n",
      "max                              2.103104e+03   \n",
      "\n",
      "       primary_cleaner.state.floatbank8_a_level  \\\n",
      "count                               5290.000000   \n",
      "mean                                -497.665883   \n",
      "std                                   19.952431   \n",
      "min                                 -795.316337   \n",
      "25%                                 -500.357298   \n",
      "50%                                 -499.969164   \n",
      "75%                                 -499.568951   \n",
      "max                                  -57.195404   \n",
      "\n",
      "       primary_cleaner.state.floatbank8_b_air  \\\n",
      "count                            5.290000e+03   \n",
      "mean                             1.545174e+03   \n",
      "std                              1.222246e+02   \n",
      "min                              6.647490e-32   \n",
      "25%                              1.498971e+03   \n",
      "50%                              1.595622e+03   \n",
      "75%                              1.602324e+03   \n",
      "max                              1.813084e+03   \n",
      "\n",
      "       primary_cleaner.state.floatbank8_b_level  \\\n",
      "count                               5290.000000   \n",
      "mean                                -500.273098   \n",
      "std                                   32.968307   \n",
      "min                                 -799.997015   \n",
      "25%                                 -500.703002   \n",
      "50%                                 -500.028514   \n",
      "75%                                 -499.293257   \n",
      "max                                 -142.527229   \n",
      "\n",
      "       primary_cleaner.state.floatbank8_c_air  \\\n",
      "count                            5.290000e+03   \n",
      "mean                             1.527272e+03   \n",
      "std                              1.225380e+02   \n",
      "min                              4.033736e-32   \n",
      "25%                              1.473230e+03   \n",
      "50%                              1.549595e+03   \n",
      "75%                              1.601144e+03   \n",
      "max                              1.715054e+03   \n",
      "\n",
      "       primary_cleaner.state.floatbank8_c_level  ...  \\\n",
      "count                               5290.000000  ...   \n",
      "mean                                -498.330680  ...   \n",
      "std                                   21.964876  ...   \n",
      "min                                 -799.960571  ...   \n",
      "25%                                 -501.018117  ...   \n",
      "50%                                 -500.017711  ...   \n",
      "75%                                 -498.994130  ...   \n",
      "max                                 -150.937035  ...   \n",
      "\n",
      "       secondary_cleaner.state.floatbank4_a_air  \\\n",
      "count                              5.290000e+03   \n",
      "mean                               1.632007e+01   \n",
      "std                                3.493583e+00   \n",
      "min                                1.079872e-16   \n",
      "25%                                1.403618e+01   \n",
      "50%                                1.700847e+01   \n",
      "75%                                1.803862e+01   \n",
      "max                                3.005180e+01   \n",
      "\n",
      "       secondary_cleaner.state.floatbank4_a_level  \\\n",
      "count                                 5290.000000   \n",
      "mean                                  -505.144570   \n",
      "std                                     31.427337   \n",
      "min                                   -799.798523   \n",
      "25%                                   -500.868258   \n",
      "50%                                   -500.115727   \n",
      "75%                                   -499.404224   \n",
      "max                                   -401.565212   \n",
      "\n",
      "       secondary_cleaner.state.floatbank4_b_air  \\\n",
      "count                              5.290000e+03   \n",
      "mean                               1.373544e+01   \n",
      "std                                3.430484e+00   \n",
      "min                                2.489718e-17   \n",
      "25%                                1.202862e+01   \n",
      "50%                                1.496486e+01   \n",
      "75%                                1.596213e+01   \n",
      "max                                3.126971e+01   \n",
      "\n",
      "       secondary_cleaner.state.floatbank4_b_level  \\\n",
      "count                                 5290.000000   \n",
      "mean                                  -463.349858   \n",
      "std                                     86.189107   \n",
      "min                                   -800.836914   \n",
      "25%                                   -500.323028   \n",
      "50%                                   -499.576513   \n",
      "75%                                   -400.933805   \n",
      "max                                     -6.506986   \n",
      "\n",
      "       secondary_cleaner.state.floatbank5_a_air  \\\n",
      "count                               5290.000000   \n",
      "mean                                  12.804186   \n",
      "std                                    3.026591   \n",
      "min                                    0.069227   \n",
      "25%                                   10.914838   \n",
      "50%                                   12.954182   \n",
      "75%                                   15.097528   \n",
      "max                                   25.258848   \n",
      "\n",
      "       secondary_cleaner.state.floatbank5_a_level  \\\n",
      "count                                 5290.000000   \n",
      "mean                                  -501.329122   \n",
      "std                                     17.951495   \n",
      "min                                   -797.323986   \n",
      "25%                                   -500.726841   \n",
      "50%                                   -499.990332   \n",
      "75%                                   -499.283191   \n",
      "max                                   -244.483566   \n",
      "\n",
      "       secondary_cleaner.state.floatbank5_b_air  \\\n",
      "count                               5290.000000   \n",
      "mean                                   9.881145   \n",
      "std                                    2.868205   \n",
      "min                                    0.528083   \n",
      "25%                                    8.036719   \n",
      "50%                                   10.004301   \n",
      "75%                                   11.997467   \n",
      "max                                   14.086866   \n",
      "\n",
      "       secondary_cleaner.state.floatbank5_b_level  \\\n",
      "count                                 5290.000000   \n",
      "mean                                  -495.663398   \n",
      "std                                     34.535007   \n",
      "min                                   -800.220337   \n",
      "25%                                   -500.194668   \n",
      "50%                                   -499.990535   \n",
      "75%                                   -499.719913   \n",
      "max                                   -137.740004   \n",
      "\n",
      "       secondary_cleaner.state.floatbank6_a_air  \\\n",
      "count                               5290.000000   \n",
      "mean                                  17.304935   \n",
      "std                                    4.536544   \n",
      "min                                   -0.079426   \n",
      "25%                                   13.997317   \n",
      "50%                                   16.014935   \n",
      "75%                                   21.020013   \n",
      "max                                   26.705889   \n",
      "\n",
      "       secondary_cleaner.state.floatbank6_a_level  \n",
      "count                                 5290.000000  \n",
      "mean                                  -501.793193  \n",
      "std                                     39.044215  \n",
      "min                                   -809.741464  \n",
      "25%                                   -500.690984  \n",
      "50%                                   -500.007126  \n",
      "75%                                   -499.373018  \n",
      "max                                   -123.307487  \n",
      "\n",
      "[8 rows x 52 columns]\n"
     ]
    }
   ],
   "source": [
    "for data in datasets:\n",
    "    print(data.describe())"
   ]
  },
  {
   "cell_type": "markdown",
   "metadata": {},
   "source": [
    "Столбцы, которые отсутствуют в датасете Test"
   ]
  },
  {
   "cell_type": "code",
   "execution_count": 8,
   "metadata": {
    "scrolled": true
   },
   "outputs": [
    {
     "data": {
      "text/plain": [
       "{'final.output.concentrate_ag',\n",
       " 'final.output.concentrate_au',\n",
       " 'final.output.concentrate_pb',\n",
       " 'final.output.concentrate_sol',\n",
       " 'final.output.recovery',\n",
       " 'final.output.tail_ag',\n",
       " 'final.output.tail_au',\n",
       " 'final.output.tail_pb',\n",
       " 'final.output.tail_sol',\n",
       " 'primary_cleaner.output.concentrate_ag',\n",
       " 'primary_cleaner.output.concentrate_au',\n",
       " 'primary_cleaner.output.concentrate_pb',\n",
       " 'primary_cleaner.output.concentrate_sol',\n",
       " 'primary_cleaner.output.tail_ag',\n",
       " 'primary_cleaner.output.tail_au',\n",
       " 'primary_cleaner.output.tail_pb',\n",
       " 'primary_cleaner.output.tail_sol',\n",
       " 'rougher.calculation.au_pb_ratio',\n",
       " 'rougher.calculation.floatbank10_sulfate_to_au_feed',\n",
       " 'rougher.calculation.floatbank11_sulfate_to_au_feed',\n",
       " 'rougher.calculation.sulfate_to_au_concentrate',\n",
       " 'rougher.output.concentrate_ag',\n",
       " 'rougher.output.concentrate_au',\n",
       " 'rougher.output.concentrate_pb',\n",
       " 'rougher.output.concentrate_sol',\n",
       " 'rougher.output.recovery',\n",
       " 'rougher.output.tail_ag',\n",
       " 'rougher.output.tail_au',\n",
       " 'rougher.output.tail_pb',\n",
       " 'rougher.output.tail_sol',\n",
       " 'secondary_cleaner.output.tail_ag',\n",
       " 'secondary_cleaner.output.tail_au',\n",
       " 'secondary_cleaner.output.tail_pb',\n",
       " 'secondary_cleaner.output.tail_sol'}"
      ]
     },
     "execution_count": 8,
     "metadata": {},
     "output_type": "execute_result"
    }
   ],
   "source": [
    "only_train = set(df.columns) - set(test.columns)\n",
    "only_train"
   ]
  },
  {
   "cell_type": "markdown",
   "metadata": {},
   "source": [
    "Данные столбцы показывают состояния продукта после этапов флотации и очисток, а также содержат расчетные характеристики и целевые значения эффективности обогащения"
   ]
  },
  {
   "cell_type": "markdown",
   "metadata": {},
   "source": [
    "<div class=\"alert alert-success\">\n",
    "<h2> Комментарий ревьюера <a class=\"tocSkip\"> </h2>\n",
    "\n",
    "<b>Все отлично!👍:  </b> \n",
    "    \n",
    "С данными познакомились, проведен первичный аналитический осмотр!) Полученная информация поможет нам в дальнейшем с предобработкой данных"
   ]
  },
  {
   "cell_type": "markdown",
   "metadata": {},
   "source": [
    "### MAE"
   ]
  },
  {
   "cell_type": "code",
   "execution_count": 9,
   "metadata": {},
   "outputs": [],
   "source": [
    "columns_for_mae = ['rougher.output.recovery',\n",
    "           'rougher.output.concentrate_au',\n",
    "           'rougher.input.feed_au',\n",
    "           'rougher.output.tail_au']\n",
    "\n",
    "data_check = train[columns_for_mae].dropna()"
   ]
  },
  {
   "cell_type": "code",
   "execution_count": 10,
   "metadata": {},
   "outputs": [],
   "source": [
    "C = data_check['rougher.output.concentrate_au']\n",
    "F = data_check['rougher.input.feed_au']\n",
    "T = data_check['rougher.output.tail_au']\n",
    "recovery = (C * (F-T)) / (F * (C - T)) * 100"
   ]
  },
  {
   "cell_type": "code",
   "execution_count": 11,
   "metadata": {
    "scrolled": true
   },
   "outputs": [
    {
     "data": {
      "text/plain": [
       "9.73512347450521e-15"
      ]
     },
     "execution_count": 11,
     "metadata": {},
     "output_type": "execute_result"
    }
   ],
   "source": [
    "mae(data_check['rougher.output.recovery'], recovery)"
   ]
  },
  {
   "cell_type": "markdown",
   "metadata": {},
   "source": [
    "MAE довольна мала, считаем что Recovery посчитан верно"
   ]
  },
  {
   "cell_type": "markdown",
   "metadata": {},
   "source": [
    "<div class=\"alert alert-success\">\n",
    "<h2> Комментарий ревьюера <a class=\"tocSkip\"> </h2>\n",
    "\n",
    "<b>Все отлично!👍:</b> \n",
    "    \n",
    "Твое расссчитанное значение `MAE` верно)"
   ]
  },
  {
   "cell_type": "code",
   "execution_count": 12,
   "metadata": {
    "scrolled": false
   },
   "outputs": [
    {
     "name": "stdout",
     "output_type": "stream",
     "text": [
      "(19439, 87)\n",
      "(14149, 87)\n",
      "(5290, 53)\n"
     ]
    }
   ],
   "source": [
    "for data in datasets:\n",
    "    print(data.shape)"
   ]
  },
  {
   "cell_type": "markdown",
   "metadata": {},
   "source": [
    "<br/>\n",
    "<div class=\"alert alert-block alert-danger\">\n",
    "<h2> Комментарий ревьюера <a class=\"tocSkip\"></h2>\n",
    "\n",
    "    \n",
    "<b>На доработку🤔:</b>\n",
    "    \n",
    "Тут еще следует вывести список недоступных признаков на тесте. Добавь пожалуйста сюда вывод, что это за параметры и какому типу относятся?\n",
    "    \n",
    "Неплохо еще будет предположить, почему эти признаки недоступны нам в тестовой выборке...\n",
    "</div>"
   ]
  },
  {
   "cell_type": "markdown",
   "metadata": {},
   "source": [
    "<div class=\"alert alert-success\">\n",
    "<h2> Комментарий ревьюера 2 <a class=\"tocSkip\"> </h2>\n",
    "\n",
    "<b>Все отлично!👍:</b>"
   ]
  },
  {
   "cell_type": "code",
   "execution_count": 13,
   "metadata": {},
   "outputs": [
    {
     "data": {
      "text/plain": [
       "{'final.output.concentrate_ag',\n",
       " 'final.output.concentrate_au',\n",
       " 'final.output.concentrate_pb',\n",
       " 'final.output.concentrate_sol',\n",
       " 'final.output.recovery',\n",
       " 'final.output.tail_ag',\n",
       " 'final.output.tail_au',\n",
       " 'final.output.tail_pb',\n",
       " 'final.output.tail_sol',\n",
       " 'primary_cleaner.output.concentrate_ag',\n",
       " 'primary_cleaner.output.concentrate_au',\n",
       " 'primary_cleaner.output.concentrate_pb',\n",
       " 'primary_cleaner.output.concentrate_sol',\n",
       " 'primary_cleaner.output.tail_ag',\n",
       " 'primary_cleaner.output.tail_au',\n",
       " 'primary_cleaner.output.tail_pb',\n",
       " 'primary_cleaner.output.tail_sol',\n",
       " 'rougher.calculation.au_pb_ratio',\n",
       " 'rougher.calculation.floatbank10_sulfate_to_au_feed',\n",
       " 'rougher.calculation.floatbank11_sulfate_to_au_feed',\n",
       " 'rougher.calculation.sulfate_to_au_concentrate',\n",
       " 'rougher.output.concentrate_ag',\n",
       " 'rougher.output.concentrate_au',\n",
       " 'rougher.output.concentrate_pb',\n",
       " 'rougher.output.concentrate_sol',\n",
       " 'rougher.output.recovery',\n",
       " 'rougher.output.tail_ag',\n",
       " 'rougher.output.tail_au',\n",
       " 'rougher.output.tail_pb',\n",
       " 'rougher.output.tail_sol',\n",
       " 'secondary_cleaner.output.tail_ag',\n",
       " 'secondary_cleaner.output.tail_au',\n",
       " 'secondary_cleaner.output.tail_pb',\n",
       " 'secondary_cleaner.output.tail_sol'}"
      ]
     },
     "execution_count": 13,
     "metadata": {},
     "output_type": "execute_result"
    }
   ],
   "source": [
    "set(train.columns) - set(test.columns)"
   ]
  },
  {
   "cell_type": "markdown",
   "metadata": {},
   "source": [
    "В тестовой выборке нам не доступны:\n",
    "\n",
    "* Расчетные характеристики этапа флотации\n",
    "* Параметры выходных продуктов со всех этапов, в том числе целевых признаков\n",
    " - эффективность обогащения чернового концентрата rougher.output.recovery;\n",
    " - эффективность обогащения финального концентрата final.output.recovery.\n",
    "\n",
    "Как говорилось в условиях задачи, \"некоторые параметры недоступны, потому что замеряются и/или рассчитываются значительно позже\"."
   ]
  },
  {
   "cell_type": "markdown",
   "metadata": {},
   "source": [
    "## Анализ данных"
   ]
  },
  {
   "cell_type": "markdown",
   "metadata": {},
   "source": [
    "Распределение концентрации металлов на различных ступенях обработки"
   ]
  },
  {
   "cell_type": "code",
   "execution_count": 14,
   "metadata": {},
   "outputs": [],
   "source": [
    "def show_concentrate_of_metal_hist(metal, title):\n",
    "    x0 = df[f'rougher.input.feed_{metal}'].dropna()\n",
    "    x1 = df[f'rougher.output.concentrate_{metal}'].dropna()\n",
    "    x2 = df[f'primary_cleaner.output.concentrate_{metal}'].dropna()\n",
    "    x3 = df[f'final.output.concentrate_{metal}'].dropna()\n",
    "\n",
    "    plt.figure(figsize=(12, 6))\n",
    "\n",
    "    sns.distplot(x0, kde_kws= {\"label\": \"Сырье\"})\n",
    "    sns.distplot(x1, kde_kws= {\"label\": \"Черновой\"})\n",
    "    sns.distplot(x2, kde_kws= {\"label\": \"Первичная очистка\"})\n",
    "    sns.distplot(x3, kde_kws= {\"label\": \"Финальный этап\"})\n",
    "\n",
    "    plt.title(label=f'Концентрация {title} на различных этапах очистки', fontsize=15)\n",
    "    plt.xlabel('Концентрация')\n",
    "    plt.ylabel('Количество наблюдений')"
   ]
  },
  {
   "cell_type": "code",
   "execution_count": 15,
   "metadata": {
    "scrolled": true
   },
   "outputs": [
    {
     "data": {
      "image/png": "[encoded data removed]",
      "text/plain": [
       "<Figure size 864x432 with 1 Axes>"
      ]
     },
     "metadata": {
      "needs_background": "light"
     },
     "output_type": "display_data"
    }
   ],
   "source": [
    "show_concentrate_of_metal_hist('au', 'золота')"
   ]
  },
  {
   "cell_type": "code",
   "execution_count": 16,
   "metadata": {
    "scrolled": true
   },
   "outputs": [
    {
     "data": {
      "image/png": "[encoded data removed]",
      "text/plain": [
       "<Figure size 864x432 with 1 Axes>"
      ]
     },
     "metadata": {
      "needs_background": "light"
     },
     "output_type": "display_data"
    }
   ],
   "source": [
    "show_concentrate_of_metal_hist('ag', 'серебра')"
   ]
  },
  {
   "cell_type": "code",
   "execution_count": 17,
   "metadata": {
    "scrolled": true
   },
   "outputs": [
    {
     "data": {
      "image/png": "[encoded data removed]",
      "text/plain": [
       "<Figure size 864x432 with 1 Axes>"
      ]
     },
     "metadata": {
      "needs_background": "light"
     },
     "output_type": "display_data"
    }
   ],
   "source": [
    "show_concentrate_of_metal_hist('pb', 'свинца')"
   ]
  },
  {
   "cell_type": "markdown",
   "metadata": {},
   "source": [
    "Вывод:\n",
    "\n",
    "* Концентрация золота увеличивается после каждого этапа очистки\n",
    "\n",
    "* Концентрация серебра увеличивается после флотации и уменьшается после следующих этапов\n",
    "\n",
    "* Концентрация свинца снижается после первого этапа очистки и незначительно изменяется в дальнейшем"
   ]
  },
  {
   "cell_type": "markdown",
   "metadata": {},
   "source": [
    "<div class=\"alert alert-success\">\n",
    "<h2> Комментарий ревьюера <a class=\"tocSkip\"> </h2>\n",
    "\n",
    "<b>Верно!👍:\\\n",
    "</b> Видно, что золото растёт в концентрации - это здорово!) А серебро падает - ведь наша цель -  золото, верно?)\n",
    "А свинец - это побочный элемент химических реакций, по этой причине немного и увеличивается его концентрация"
   ]
  },
  {
   "cell_type": "markdown",
   "metadata": {},
   "source": [
    "### Распределения гранул сырья"
   ]
  },
  {
   "cell_type": "code",
   "execution_count": 18,
   "metadata": {},
   "outputs": [],
   "source": [
    "def show_feed_size_hist(step, title):\n",
    "    x0 = train[f'{step}.input.feed_size'].dropna()\n",
    "    x1 = test[f'{step}.input.feed_size'].dropna()\n",
    "    plt.figure(figsize=(12, 6))\n",
    "    sns.distplot(x0, kde_kws= {\"label\": \"Train\"})\n",
    "    sns.distplot(x1, kde_kws= {\"label\": \"Test\"})\n",
    "    plt.xlabel('Размер гранул')\n",
    "    plt.ylabel('Количество наблюдений')\n",
    "    plt.title(label=f'Распределение размеров гранул сырья для {title}', fontsize=15)\n",
    "    "
   ]
  },
  {
   "cell_type": "code",
   "execution_count": 19,
   "metadata": {
    "scrolled": true
   },
   "outputs": [
    {
     "data": {
      "image/png": "[encoded data removed]",
      "text/plain": [
       "<Figure size 864x432 with 1 Axes>"
      ]
     },
     "metadata": {
      "needs_background": "light"
     },
     "output_type": "display_data"
    }
   ],
   "source": [
    "show_feed_size_hist('rougher', 'флотации')"
   ]
  },
  {
   "cell_type": "code",
   "execution_count": 20,
   "metadata": {
    "scrolled": true
   },
   "outputs": [
    {
     "data": {
      "image/png": "[encoded data removed]",
      "text/plain": [
       "<Figure size 864x432 with 1 Axes>"
      ]
     },
     "metadata": {
      "needs_background": "light"
     },
     "output_type": "display_data"
    }
   ],
   "source": [
    "show_feed_size_hist('primary_cleaner', 'очистки')"
   ]
  },
  {
   "cell_type": "markdown",
   "metadata": {},
   "source": [
    "Вывод: Размеры гранул распределенны примерно одинаково на двух выборках"
   ]
  },
  {
   "cell_type": "markdown",
   "metadata": {},
   "source": [
    "<div class=\"alert alert-success\">\n",
    "<h2> Комментарий ревьюера <a class=\"tocSkip\"> </h2>\n",
    "\n",
    "<b>Все отлично!👍:</b> \n",
    "\n",
    "Распределения примерно одинаковы. Отлично, что использованы графики плотности, вместо гистограмм частотности)"
   ]
  },
  {
   "cell_type": "markdown",
   "metadata": {},
   "source": [
    "### Суммарная концентрация всех веществ на разных этапах очистки"
   ]
  },
  {
   "cell_type": "code",
   "execution_count": 21,
   "metadata": {},
   "outputs": [],
   "source": [
    "def all_metal_concentration(df): \n",
    "    df['rougher_input_feed_all_metal'] = (df['rougher.input.feed_au'] + \n",
    "                                 df['rougher.input.feed_ag'] + \n",
    "                                 df['rougher.input.feed_pb'])\n",
    "\n",
    "    df['rougher_output_concentrate_all_metal'] = (df['rougher.output.concentrate_au'] + \n",
    "                                 df['rougher.output.concentrate_ag'] + \n",
    "                                 df['rougher.output.concentrate_pb'])\n",
    "\n",
    "    df['primary_output_concentrate_all_metal'] = (df['primary_cleaner.output.concentrate_au'] + \n",
    "                                 df['primary_cleaner.output.concentrate_ag'] + \n",
    "                                 df['primary_cleaner.output.concentrate_pb'])\n",
    "\n",
    "\n",
    "    df['final_output_concentrate_all_metal'] = (df['final.output.concentrate_au'] + \n",
    "                                 df['final.output.concentrate_ag'] + \n",
    "                                 df['final.output.concentrate_pb'])\n",
    "\n",
    "    return df"
   ]
  },
  {
   "cell_type": "code",
   "execution_count": 22,
   "metadata": {},
   "outputs": [],
   "source": [
    "def vizualization(df):\n",
    "    plt.figure(figsize=(12, 6))\n",
    "   \n",
    "    sns.distplot(df['rougher_input_feed_all_metal'], kde_kws= {\"label\": \"Сырье\"})\n",
    "    sns.distplot(df['rougher_output_concentrate_all_metal'], kde_kws= {\"label\": \"Черновой\"})\n",
    "    sns.distplot(df['final_output_concentrate_all_metal'], kde_kws= {\"label\": \"Финальный этап\"})\n",
    "    sns.distplot(df['primary_output_concentrate_all_metal'], kde_kws= {\"label\": \"Первичная очистка\"})\n",
    "    \n",
    "    plt.xlabel('Концентрация')\n",
    "    plt.ylabel('Количество наблюдений')\n",
    "    plt.title(label='Концентрация всех веществ на разных стадиях', fontsize=15)  "
   ]
  },
  {
   "cell_type": "code",
   "execution_count": 23,
   "metadata": {},
   "outputs": [
    {
     "data": {
      "image/png": "[encoded data removed]",
      "text/plain": [
       "<Figure size 864x432 with 1 Axes>"
      ]
     },
     "metadata": {
      "needs_background": "light"
     },
     "output_type": "display_data"
    }
   ],
   "source": [
    "train = all_metal_concentration(train)\n",
    "vizualization(train)"
   ]
  },
  {
   "cell_type": "markdown",
   "metadata": {},
   "source": [
    "После флотации увеличивается концентрация веществ."
   ]
  },
  {
   "cell_type": "markdown",
   "metadata": {},
   "source": [
    "<br/>\n",
    "<div class=\"alert alert-block alert-danger\">\n",
    "<h2> Комментарий ревьюера <a class=\"tocSkip\"></h2>\n",
    "    \n",
    "<b>На доработку🤔:</b>\n",
    "    \n",
    "Итак, суммарную концентрацию всех веществ на разных стадиях исследовали. Есть такой момент, что на гистограммах распределений суммарных концентраций имеются аномалии, и эти аномалии важно удалить по всем типам суммарных концентраций на обучающей выборке. Ведь отдельно по каждому веществу они могут быть (не всегда же есть крупинки золота в руде), а вот суммарно - вряд ли (в руде хоть что-то но будет) А если мы имеем аномалии, значит большая вероятность неточности в измерениях. Исправь, пожалуйста "
   ]
  },
  {
   "cell_type": "markdown",
   "metadata": {},
   "source": [
    "<div class=\"alert alert-success\">\n",
    "<h2> Комментарий ревьюера 2 <a class=\"tocSkip\"> </h2>\n",
    "\n",
    "<b>Все отлично!👍:</b>"
   ]
  },
  {
   "cell_type": "code",
   "execution_count": 24,
   "metadata": {},
   "outputs": [],
   "source": [
    "def cleaning(df):\n",
    "    before = df.shape[0]\n",
    "    df = df.query('1 < rougher_input_feed_all_metal')\n",
    "    df = df.query('1 < rougher_output_concentrate_all_metal')\n",
    "    df = df.query('1 < primary_output_concentrate_all_metal')\n",
    "    df = df.query('1 < final_output_concentrate_all_metal')\n",
    "    after = df.shape[0]\n",
    "    display('удалено {:.2%} строк'.format((before-after)/before))\n",
    "   \n",
    "    rougher_input_feed_all_metal_low = df['rougher_input_feed_all_metal'].quantile(.025)\n",
    "    rougher_input_feed_all_metal_up = df['rougher_input_feed_all_metal'].quantile(.975)\n",
    "    rougher_output_concentrate_all_metal_low = df['rougher_output_concentrate_all_metal'].quantile(.025)\n",
    "    rougher_output_concentrate_all_metal_up = df['rougher_output_concentrate_all_metal'].quantile(.975)    \n",
    "    primary_output_concentrate_all_metal_low = df['primary_output_concentrate_all_metal'].quantile(.025)\n",
    "    primary_output_concentrate_all_metal_up = df['primary_output_concentrate_all_metal'].quantile(.975)    \n",
    "    final_output_concentrate_all_metal_low = df['final_output_concentrate_all_metal'].quantile(.025)\n",
    "    final_output_concentrate_all_metal_up = df['final_output_concentrate_all_metal'].quantile(.975)\n",
    "    \n",
    "    df = df.query('@rougher_input_feed_all_metal_low < rougher_input_feed_all_metal < @rougher_input_feed_all_metal_up')\n",
    "    df = df.query('@rougher_output_concentrate_all_metal_low < rougher_output_concentrate_all_metal < @rougher_output_concentrate_all_metal_up')\n",
    "    df = df.query('@primary_output_concentrate_all_metal_low < rougher_output_concentrate_all_metal < @primary_output_concentrate_all_metal_up')\n",
    "    df = df.query('@final_output_concentrate_all_metal_low < final_output_concentrate_all_metal < @final_output_concentrate_all_metal_up')\n",
    "    \n",
    "    return df"
   ]
  },
  {
   "cell_type": "code",
   "execution_count": 25,
   "metadata": {
    "scrolled": true
   },
   "outputs": [
    {
     "data": {
      "text/plain": [
       "'удалено 4.93% строк'"
      ]
     },
     "metadata": {},
     "output_type": "display_data"
    }
   ],
   "source": [
    "train = cleaning(train)"
   ]
  },
  {
   "cell_type": "code",
   "execution_count": 26,
   "metadata": {},
   "outputs": [
    {
     "data": {
      "image/png": "[encoded data removed]",
      "text/plain": [
       "<Figure size 864x432 with 1 Axes>"
      ]
     },
     "metadata": {
      "needs_background": "light"
     },
     "output_type": "display_data"
    }
   ],
   "source": [
    "vizualization(train)"
   ]
  },
  {
   "cell_type": "markdown",
   "metadata": {},
   "source": [
    "<div class=\"alert alert-success\">\n",
    "<h2> Комментарий ревьюера 2 <a class=\"tocSkip\"> </h2>\n",
    "\n",
    "<b>Все отлично!👍:</b>"
   ]
  },
  {
   "cell_type": "markdown",
   "metadata": {},
   "source": [
    "## Модель"
   ]
  },
  {
   "cell_type": "markdown",
   "metadata": {},
   "source": [
    "**sMAPE**\n",
    "\n",
    "* target_rougher - целевой признак(эффективность обогащения чернового концентрата)\n",
    "* predict_rougher - предсказание эффективности обогащения чернового концентрата\n",
    "* target_final - целевой признак(эффективность обогащения финального концентрата)\n",
    "* predict_final - предсказание эффективности обогащения финального концентрата"
   ]
  },
  {
   "cell_type": "code",
   "execution_count": 27,
   "metadata": {
    "scrolled": true
   },
   "outputs": [],
   "source": [
    "train = train[test.columns]\n",
    "\n",
    "test = test.dropna()\n",
    "train = train.dropna()\n",
    "\n",
    "test.drop(['date'], axis=1, inplace=True)\n",
    "train.drop(['date'], axis=1, inplace=True)\n",
    "\n",
    "X_train_rougher = train\n",
    "X_test_rougher = test\n",
    "y_train_rougher = df.loc[X_train_rougher.index.intersection(df.index), 'rougher.output.recovery']\n",
    "y_test_rougher = df.loc[X_test_rougher.index.intersection(df.index),'rougher.output.recovery']\n",
    "\n",
    "X_train_final = train\n",
    "X_test_final = test\n",
    "y_train_final = df.loc[X_train_final.index.intersection(df.index), 'final.output.recovery']\n",
    "y_test_final = df.loc[X_test_final.index.intersection(df.index), 'final.output.recovery']\n",
    "\n",
    "y_train_final = y_train_final.fillna(y_train_final.mean())\n",
    "y_train_rougher = y_train_rougher.fillna(y_train_rougher.mean())"
   ]
  },
  {
   "cell_type": "markdown",
   "metadata": {},
   "source": [
    "<div class=\"alert alert-warning\">\n",
    "    <h2> Комментарий ревьюера <a class=\"tocSkip\"> </h2>\n",
    "    \n",
    "<b>Некоторые замечания и рекомендации💡:</b> \n",
    "        \n",
    "Обработка пропусков таким способом возможна. Обрати пожалуйста внимание, что все наблюдения представляют собой последовательные измерения, заполнинить пропуски можно и  методами `pandas`: `ffill`/ `bfill`/ интерполяцией , это вполне уместно.\\\n",
    "Хочу посоветовать тебе статью, которая рассматривает разные способы обработки пропусков, выделяет их плюсы и минусы, думаю, тебе может быть интересно: https://loginom.ru/blog/missing   "
   ]
  },
  {
   "cell_type": "code",
   "execution_count": 28,
   "metadata": {},
   "outputs": [],
   "source": [
    "def smape(y_target, y_pred):\n",
    "    return ((1/len(y_target)) * np.sum(2 * np.abs(y_target - y_pred) / (np.abs(y_target) + np.abs(y_pred)))) * 100"
   ]
  },
  {
   "cell_type": "code",
   "execution_count": 29,
   "metadata": {},
   "outputs": [],
   "source": [
    "rougher_median = pd.Series(y_train_rougher.median(), index=y_test_rougher.index)\n",
    "final_median = pd.Series(y_train_final.median(), index=y_test_final.index)"
   ]
  },
  {
   "cell_type": "markdown",
   "metadata": {},
   "source": [
    "<br/>\n",
    "<div class=\"alert alert-block alert-danger\">\n",
    "<h2> Комментарий ревьюера <a class=\"tocSkip\"></h2>\n",
    "    \n",
    "<b>На доработку🤔:</b>\n",
    "    \n",
    "Тут еще предполагается написать функцию для вычисления итоговой sMAPE (ее формула дана в описании к проекту), добавь пожалуйста"
   ]
  },
  {
   "cell_type": "markdown",
   "metadata": {},
   "source": [
    "<div class=\"alert alert-success\">\n",
    "<h2> Комментарий ревьюера 2 <a class=\"tocSkip\"> </h2>\n",
    "\n",
    "<b>Все отлично!👍:</b>"
   ]
  },
  {
   "cell_type": "code",
   "execution_count": 30,
   "metadata": {},
   "outputs": [
    {
     "name": "stdout",
     "output_type": "stream",
     "text": [
      "Итоговый smape константной модели:  11.240979446250254\n"
     ]
    }
   ],
   "source": [
    "def final_smape(y_test_final, y_test_rougher, rougher_median, final_median):\n",
    "    sMAPE_rougher = smape(y_test_rougher, rougher_median)\n",
    "    sMAPE_final = smape(y_test_final, final_median)\n",
    "    \n",
    "    final_sMAPE = (sMAPE_rougher * 0.25) + (sMAPE_final * 0.75)\n",
    " \n",
    "    return final_sMAPE\n",
    "print('Итоговый smape константной модели: ', final_smape(y_test_final, y_test_rougher, rougher_median, final_median))"
   ]
  },
  {
   "cell_type": "code",
   "execution_count": 31,
   "metadata": {},
   "outputs": [],
   "source": [
    "smape_score = make_scorer(smape, greater_is_better=False)"
   ]
  },
  {
   "cell_type": "markdown",
   "metadata": {},
   "source": [
    "<div class=\"alert alert-success\">\n",
    "<h2> Комментарий ревьюера <a class=\"tocSkip\"> </h2>\n",
    "\n",
    "<b>Все отлично!👍:</b> \n",
    "        \n",
    "Молодец, что проводишь сравнение своей модели с константной дамми моделью. В каждом проекте при оценке качества модели, имеет смысл проводить такую проверку на адекватность"
   ]
  },
  {
   "cell_type": "markdown",
   "metadata": {},
   "source": [
    "Удалили признаки, которых нет в тестовой выборке, за исключением целевых"
   ]
  },
  {
   "cell_type": "code",
   "execution_count": 32,
   "metadata": {},
   "outputs": [
    {
     "data": {
      "text/plain": [
       "((9351, 52), (5229, 52), (9351,), (5229,))"
      ]
     },
     "execution_count": 32,
     "metadata": {},
     "output_type": "execute_result"
    }
   ],
   "source": [
    "(X_train_final.shape), (X_test_final.shape), (y_train_final.shape), (y_test_final.shape)"
   ]
  },
  {
   "cell_type": "markdown",
   "metadata": {},
   "source": [
    "### Дерево решений"
   ]
  },
  {
   "cell_type": "code",
   "execution_count": 33,
   "metadata": {
    "scrolled": true
   },
   "outputs": [
    {
     "name": "stdout",
     "output_type": "stream",
     "text": [
      "Best params for model:  {'max_depth': 1}\n",
      "Best score for model:  13.95094240416687\n",
      " 2.8036141395568848 seconds \n"
     ]
    }
   ],
   "source": [
    "start_time = time.time()\n",
    "params_dtr_grid = {\n",
    "    'max_depth' : range(1,6)\n",
    "}\n",
    "grid_decision_tree_regr_rougher = GridSearchCV(DecisionTreeRegressor(random_state=RND), param_grid = params_dtr_grid, cv=5, n_jobs=-1, scoring=smape_score) \n",
    "grid_decision_tree_regr_rougher.fit(X_train_rougher, y_train_rougher)\n",
    "params_dtr_rougher = grid_decision_tree_regr_rougher.best_params_\n",
    "decision_tree_regr_rougher = DecisionTreeRegressor(**params_dtr_rougher, random_state = RND)\n",
    "decision_tree_regr_rougher.fit(X_train_rougher, y_train_rougher)\n",
    "print('Best params for model: ', grid_decision_tree_regr_rougher.best_params_)\n",
    "print(\"Best score for model: \", abs(grid_decision_tree_regr_rougher.best_score_))\n",
    "print(\" %s seconds \" % (time.time() - start_time))"
   ]
  },
  {
   "cell_type": "code",
   "execution_count": 34,
   "metadata": {},
   "outputs": [
    {
     "name": "stdout",
     "output_type": "stream",
     "text": [
      "Best params for model:  {'max_depth': 1}\n",
      "Best score for model:  10.057244063038107\n",
      " 2.7001953125 seconds \n"
     ]
    }
   ],
   "source": [
    "start_time = time.time()\n",
    "\n",
    "grid_decision_tree_regr_final = GridSearchCV(DecisionTreeRegressor(random_state=RND), param_grid = params_dtr_grid, cv=5, n_jobs=-1, scoring=smape_score) \n",
    "grid_decision_tree_regr_final.fit(X_train_final, y_train_final)\n",
    "params_dtr_final = grid_decision_tree_regr_final.best_params_\n",
    "decision_tree_regr_final = DecisionTreeRegressor(**params_dtr_final, random_state = RND)\n",
    "decision_tree_regr_final.fit(X_train_final, y_train_final)\n",
    "print('Best params for model: ', grid_decision_tree_regr_final.best_params_)\n",
    "print(\"Best score for model: \", abs(grid_decision_tree_regr_final.best_score_))\n",
    "print(\" %s seconds \" % (time.time() - start_time))"
   ]
  },
  {
   "cell_type": "markdown",
   "metadata": {},
   "source": [
    "<br/>\n",
    "<div class=\"alert alert-block alert-danger\">\n",
    "<h2> Комментарий ревьюера  <a class=\"tocSkip\"></h2>\n",
    "    \n",
    "<b>На доработку🤔:</b>\n",
    "    \n",
    "К шагу тестирования мы приходим с ОДНОЙ лучшей моделью, выбранной в шаге обучения различных моделей. Сейчас модели сразу проверяются на тестовой выборке, однако, тестовая выборка должна использоваться только для итоговой оценки качества ОДНОЙ модели - победителя с шага обучения И ТОЛЬКО В ШАГЕ ТЕСТИРОВАНИЯ, первая - для чернового концентрата, вторая - для финального (константную модель (dummy) тоже можно в шаге проверки адекватности). Исправь, пожалуйста.  Ниже - аналогично"
   ]
  },
  {
   "cell_type": "markdown",
   "metadata": {},
   "source": [
    "<div class=\"alert alert-info\">\n",
    "\n",
    "На каждой модели убрал проверку на тестовой выборке. Ипользовал её только для тестировски лучшей модели.\n",
    "</div> "
   ]
  },
  {
   "cell_type": "markdown",
   "metadata": {},
   "source": [
    "<div class=\"alert alert-success\">\n",
    "<h2> Комментарий ревьюера 2 <a class=\"tocSkip\"> </h2>\n",
    "\n",
    "<b>Все отлично!👍:</b>"
   ]
  },
  {
   "cell_type": "markdown",
   "metadata": {},
   "source": [
    "### Случайный лес"
   ]
  },
  {
   "cell_type": "code",
   "execution_count": 37,
   "metadata": {
    "scrolled": true
   },
   "outputs": [
    {
     "name": "stdout",
     "output_type": "stream",
     "text": [
      "Best params for model:  {'max_depth': 4, 'n_estimators': 50}\n",
      "Best score for model:  15.439179869227805\n"
     ]
    }
   ],
   "source": [
    "param_rf_grid = {\n",
    "        'max_depth' : range(4,20), 'n_estimators': [10, 50, 100] }\n",
    "grid_random_forest_regr_rougher = GridSearchCV(RandomForestRegressor(random_state=RND), \n",
    "                                               param_grid = param_rf_grid, \n",
    "                                               cv=5, \n",
    "                                               n_jobs=-1, \n",
    "                                               scoring=smape_score) \n",
    "grid_random_forest_regr_rougher.fit(X_train_rougher, y_train_rougher)\n",
    "params_rf_rougher = grid_random_forest_regr_rougher.best_params_\n",
    "random_forest_regr_rougher = RandomForestRegressor(**params_rf_rougher, random_state = RND)\n",
    "random_forest_regr_rougher.fit(X_train_rougher, y_train_rougher)\n",
    "print('Best params for model: ', grid_random_forest_regr_rougher.best_params_)\n",
    "print(\"Best score for model: \", abs(grid_random_forest_regr_rougher.best_score_))\n"
   ]
  },
  {
   "cell_type": "code",
   "execution_count": 38,
   "metadata": {},
   "outputs": [
    {
     "name": "stdout",
     "output_type": "stream",
     "text": [
      "Best params for model:  {'max_depth': 4, 'n_estimators': 10}\n",
      "Best score for model:  10.66267174364538\n"
     ]
    }
   ],
   "source": [
    "grid_random_forest_regr_final = GridSearchCV(RandomForestRegressor(random_state=RND), \n",
    "                                             param_grid = param_rf_grid, \n",
    "                                             cv=5, \n",
    "                                             n_jobs=-1, \n",
    "                                             scoring=smape_score) \n",
    "grid_random_forest_regr_final.fit(X_train_final, y_train_final)\n",
    "params_rf_final = grid_random_forest_regr_final.best_params_\n",
    "random_forest_regr_final = RandomForestRegressor(**params_rf_final, random_state = RND)\n",
    "random_forest_regr_final.fit(X_train_final, y_train_final)\n",
    "print('Best params for model: ', grid_random_forest_regr_final.best_params_)\n",
    "print(\"Best score for model: \", abs(grid_random_forest_regr_final.best_score_))"
   ]
  },
  {
   "cell_type": "markdown",
   "metadata": {},
   "source": [
    "### Линейная регрессия"
   ]
  },
  {
   "cell_type": "code",
   "execution_count": 41,
   "metadata": {},
   "outputs": [
    {
     "name": "stdout",
     "output_type": "stream",
     "text": [
      "Best params for model:  {'copy_X': True, 'fit_intercept': True, 'normalize': False}\n",
      "Best score for model:  15.764197393446613\n",
      " 13.646191358566284 seconds \n"
     ]
    }
   ],
   "source": [
    "start_time = time.time()\n",
    "\n",
    "param_lr_grid = {'fit_intercept':[True, False],\n",
    "             'normalize':[True, False],\n",
    "             'copy_X':[True, False]}\n",
    "\n",
    "grid_line_regr_rougher = GridSearchCV(LinearRegression(), param_grid = param_lr_grid, n_jobs=-1, cv = 5, scoring = smape_score)\n",
    "grid_line_regr_rougher.fit(X_train_rougher, y_train_rougher)\n",
    "params_lr_rougher = grid_line_regr_rougher.best_params_\n",
    "line_regr_rougher = LinearRegression(**params_lr_rougher)\n",
    "line_regr_rougher.fit(X_train_rougher, y_train_rougher)\n",
    "                      \n",
    "print('Best params for model: ', grid_line_regr_rougher.best_params_)\n",
    "print(\"Best score for model: \", abs(grid_line_regr_rougher.best_score_))\n",
    "print(\" %s seconds \" % (time.time() - start_time))"
   ]
  },
  {
   "cell_type": "code",
   "execution_count": 42,
   "metadata": {},
   "outputs": [
    {
     "name": "stdout",
     "output_type": "stream",
     "text": [
      "Best params for model:  {'copy_X': True, 'fit_intercept': False, 'normalize': True}\n",
      "Best score for model:  12.395794020569092\n",
      " 27.65406107902527 seconds \n"
     ]
    }
   ],
   "source": [
    "grid_line_regr_final = GridSearchCV(LinearRegression(), param_grid = param_lr_grid, n_jobs=-1, cv = 5, scoring = smape_score)\n",
    "grid_line_regr_final.fit(X_train_final, y_train_final)\n",
    "params_lr_final = grid_line_regr_final.best_params_\n",
    "line_regr_final = LinearRegression(**params_lr_final)\n",
    "line_regr_final.fit(X_train_final, y_train_final)\n",
    "print('Best params for model: ', grid_line_regr_final.best_params_)\n",
    "print(\"Best score for model: \", abs(grid_line_regr_final.best_score_))\n",
    "print(\" %s seconds \" % (time.time() - start_time))"
   ]
  },
  {
   "cell_type": "markdown",
   "metadata": {},
   "source": [
    "Линейная регрессия имеет лучший результат"
   ]
  },
  {
   "cell_type": "markdown",
   "metadata": {},
   "source": [
    "### Тестирование модели"
   ]
  },
  {
   "cell_type": "code",
   "execution_count": 46,
   "metadata": {
    "scrolled": true
   },
   "outputs": [
    {
     "name": "stdout",
     "output_type": "stream",
     "text": [
      "sMAPE =  12.079145411548136\n"
     ]
    }
   ],
   "source": [
    "pred_lr_rough = line_regr_rougher.predict(X_test_rougher)\n",
    "smape_lr_rougher = smape(df.loc[X_test_rougher.index, 'rougher.output.recovery'], pred_lr_rough)\n",
    "\n",
    "pred_lr_final = line_regr_final.predict(X_test_final)\n",
    "smape_lr_final = smape(df.loc[X_test_final.index, 'final.output.recovery'], pred_lr_final)\n",
    "\n",
    "total_lr_smape = 0.25*smape_lr_rougher + 0.75*smape_lr_final\n",
    "\n",
    "print('sMAPE = ',total_lr_smape)"
   ]
  },
  {
   "cell_type": "code",
   "execution_count": 51,
   "metadata": {},
   "outputs": [
    {
     "name": "stdout",
     "output_type": "stream",
     "text": [
      "sMAPE =  -10.840706564710882\n"
     ]
    }
   ],
   "source": [
    "dummy_model = DummyRegressor(strategy='median')\n",
    "dummy_model.fit(X_train_final, y_train_final)\n",
    "smape_model = smape_score(dummy_model, X_test_final, y_test_final)\n",
    "\n",
    "print('sMAPE = ',smape_model)"
   ]
  },
  {
   "cell_type": "markdown",
   "metadata": {},
   "source": [
    "### Вывод\n",
    "\n",
    "* Наша модель ошибается на 12.07 % в предсказании восстановления золота из руды.\n",
    "* Т.к. показатель sMAPE должен стремиться к нулю то, наша модель работает не лучше Dummy модели. \n",
    "* Есть вероятность, что если мы получим данные после этапа флотации, нам удастся значительно улучшить модель."
   ]
  },
  {
   "cell_type": "markdown",
   "metadata": {},
   "source": [
    "<div style=\"border:solid Chocolate 2px; padding: 40px\">\n",
    "\n",
    "\n",
    "<h2> Итоговый комментарий ревьюера <a class=\"tocSkip\"> </h2>    \n",
    "    \n",
    "  \n",
    "У меня сложилось хорошее общее впечатление о проекте, тебе удалось неплохо справиться с таким объемным и сложным проектом. Молодец! Подготовлены данные для анализа, изучен каждый параметр. Все красиво визуализировано, построено несколько моделей регрессии и оценено их качество. Осмысленная аналитика и дельная модельная работа - многое удалось как надо)\n",
    "    \n",
    "Отмечу отдельные положительные моменты проекта🙂:\n",
    "    \n",
    "- в ходе проекта встречались функции, помогающие избавиться от дублирования кода;\n",
    "- много красивых визуализаций в проекте и хорошая интерпретация;\n",
    "- при обучении моделей использована кросс-валидация и поиск гиперпараметров.\n",
    "    \n",
    "Есть несколько моментов всего, на которые стоит ещё раз взглянуть, их я обзначил тебе в комментариях по ходу проекта. Предлагаю тебе доработать проект по моим комментариям, чтобы довести его до совершенства.\n",
    "\n",
    " \n",
    "</div>"
   ]
  },
  {
   "cell_type": "markdown",
   "metadata": {},
   "source": [
    "<div style=\"border:solid Chocolate 2px; padding: 40px\">\n",
    "\n",
    "\n",
    "<h2> Итоговый комментарий ревьюера v.2 <a class=\"tocSkip\"> </h2>    \n",
    "    \n",
    "     \n",
    "  \n",
    "Теперь почти идеально. Принимаю работу)\n",
    "    \n",
    "Если хочешь лучше разобраться в ML, то могу посоветовать тебе: \n",
    "    \n",
    "- Открытый курс машинного обучения: https://habr.com/ru/company/ods/blog/322626/   \n",
    "    \n",
    "- Книжка от ШАД: https://academy.yandex.ru/handbook/ml/\n",
    "    \n",
    "- Также рекомендую лекции от Andrew Ng: https://www.youtube.com/watch?v=PPLop4L2eGk&list=PLLssT5z_DsK-h9vYZkQkYNWcItqhlRJLN\n",
    "- Избежать утечки данных при кросс-валидации тебе поможет <a href=\"https://towardsdatascience.com/pipeline-columntransformer-and-featureunion-explained-f5491f815f\">конвеерная обработка данных</a>.     \n",
    "    \n",
    "- Не все признаки приносят пользу при моделировании. Инструмент <a href=\"https://proglib.io/p/feature-selector\">FeatureSelector</a> поможет тебе отобрать важные признаки и избавит от ручной обработки.  Также можешь посмотреть статью на <a href=\"https://www.kaggle.com/code/prashant111/comprehensive-guide-on-feature-selection/notebook\">Kaggle</a> (она сложнее).    \n",
    "    \n",
    "    \n",
    "В этом проекте были отработаны несколько моментов. А самый очевидный: заметно, что разность метрик качества (константной и нашей модели) -  не слишком большая. Такое расхождение метрик допустимо в этом проекте. Что тогда  для дальнейшего улучшения качества моделирования возможно тут пересмотреть?\n",
    "Попробую описать для тебя:\n",
    "1. Качество данных на входе модели машинного обучения: повторно оценить аномалии, пропуски, соответствие законам химии и физики, все ли правдоподобно?\n",
    "2. Работа с моделями машинного обучения:\n",
    "- Создание новых признаков для моделей, Features Engineering: возможно стоит обратиться к технологу производства и ещё раз пробежаться по бизнес-цепочке процесса.\n",
    "- Отбор самих моделей машинного обучения и гиперпараметров.\n",
    "    \n",
    "3. Параметры производственного процесса, к примеру: температура сырья, скорость ленточного конвейера, и.т.п.\n",
    "    \n",
    "\n",
    "Если провести Анализ измерительных систем, или MSA, то можно разобраться в причинах неточности полученных с производства данных. Статистический анализ данных, или SPC, - тоже будет являться незаменимым помощником в решении нашей задачи.\n",
    "    \n",
    "Добавлю здесь, что цель нашего проекта достигнута, а именно пройдены важные этапы подготовки данных и построения модели для производства золота.\n",
    "    \n",
    "Успехов тебе в следующем спринте!\n",
    "    \n",
    "Рад был помочь тебе)\n",
    "    \n",
    "</div>"
   ]
  },
  {
   "cell_type": "markdown",
   "metadata": {},
   "source": [
    "## Чек-лист готовности проекта"
   ]
  },
  {
   "cell_type": "markdown",
   "metadata": {},
   "source": [
    "- [x]  Jupyter Notebook открыт\n",
    "- [x]  Весь код выполняется без ошибок\n",
    "- [x]  Ячейки с кодом расположены в порядке выполнения\n",
    "- [x]  Выполнен шаг 1: данные подготовлены\n",
    "    - [x]  Проверена формула вычисления эффективности обогащения\n",
    "    - [x]  Проанализированы признаки, недоступные в тестовой выборке\n",
    "    - [x]  Проведена предобработка данных\n",
    "- [x]  Выполнен шаг 2: данные проанализированы\n",
    "    - [x]  Исследовано изменение концентрации элементов на каждом этапе\n",
    "    - [x]  Проанализированы распределения размеров гранул на обучающей и тестовой выборках\n",
    "    - [x]  Исследованы суммарные концентрации\n",
    "- [x]  Выполнен шаг 3: построена модель прогнозирования\n",
    "    - [x]  Написана функция для вычисления итогового *sMAPE*\n",
    "    - [x]  Обучено и проверено несколько моделей\n",
    "    - [x]  Выбрана лучшая модель, её качество проверено на тестовой выборке"
   ]
  }
 ],
 "metadata": {
  "ExecuteTimeLog": [
   {
    "duration": 1545,
    "start_time": "2023-04-27T13:52:19.523Z"
   },
   {
    "duration": 1173,
    "start_time": "2023-04-27T13:53:57.207Z"
   },
   {
    "duration": 44,
    "start_time": "2023-04-27T13:54:05.557Z"
   },
   {
    "duration": 195,
    "start_time": "2023-04-27T13:55:05.126Z"
   },
   {
    "duration": 27,
    "start_time": "2023-04-27T13:55:13.367Z"
   },
   {
    "duration": 26,
    "start_time": "2023-04-27T13:56:09.321Z"
   },
   {
    "duration": 622,
    "start_time": "2023-04-27T13:56:26.985Z"
   },
   {
    "duration": 5,
    "start_time": "2023-04-27T13:57:12.001Z"
   },
   {
    "duration": 8,
    "start_time": "2023-04-27T13:58:21.485Z"
   },
   {
    "duration": 6,
    "start_time": "2023-04-27T13:58:31.438Z"
   },
   {
    "duration": 5,
    "start_time": "2023-04-27T13:58:40.818Z"
   },
   {
    "duration": 4,
    "start_time": "2023-04-27T13:59:15.714Z"
   },
   {
    "duration": 5,
    "start_time": "2023-04-27T14:00:15.921Z"
   },
   {
    "duration": 1429,
    "start_time": "2023-04-27T14:00:24.672Z"
   },
   {
    "duration": 1501,
    "start_time": "2023-04-27T14:01:05.816Z"
   },
   {
    "duration": 1450,
    "start_time": "2023-04-27T14:02:17.746Z"
   },
   {
    "duration": 4,
    "start_time": "2023-04-27T14:03:19.426Z"
   },
   {
    "duration": 542,
    "start_time": "2023-04-27T14:03:26.254Z"
   },
   {
    "duration": 516,
    "start_time": "2023-04-27T14:03:46.372Z"
   },
   {
    "duration": 3,
    "start_time": "2023-04-27T14:04:37.806Z"
   },
   {
    "duration": 3,
    "start_time": "2023-04-27T14:04:46.019Z"
   },
   {
    "duration": 8,
    "start_time": "2023-04-27T14:04:53.216Z"
   },
   {
    "duration": 1304,
    "start_time": "2023-04-27T14:05:03.286Z"
   },
   {
    "duration": 28,
    "start_time": "2023-04-27T14:07:55.518Z"
   },
   {
    "duration": 146,
    "start_time": "2023-04-27T14:08:06.379Z"
   },
   {
    "duration": 14,
    "start_time": "2023-04-27T14:09:31.363Z"
   },
   {
    "duration": 29,
    "start_time": "2023-04-27T14:09:33.151Z"
   },
   {
    "duration": 23,
    "start_time": "2023-04-27T14:11:11.333Z"
   },
   {
    "duration": 24,
    "start_time": "2023-04-27T14:11:18.626Z"
   },
   {
    "duration": 1452,
    "start_time": "2023-04-27T14:11:57.463Z"
   },
   {
    "duration": 770,
    "start_time": "2023-04-27T14:11:58.917Z"
   },
   {
    "duration": 39,
    "start_time": "2023-04-27T14:11:59.689Z"
   },
   {
    "duration": 217,
    "start_time": "2023-04-27T14:11:59.730Z"
   },
   {
    "duration": 38,
    "start_time": "2023-04-27T14:11:59.950Z"
   },
   {
    "duration": 28,
    "start_time": "2023-04-27T14:11:59.989Z"
   },
   {
    "duration": 609,
    "start_time": "2023-04-27T14:12:00.019Z"
   },
   {
    "duration": 6,
    "start_time": "2023-04-27T14:12:00.630Z"
   },
   {
    "duration": 26,
    "start_time": "2023-04-27T14:12:00.638Z"
   },
   {
    "duration": 24,
    "start_time": "2023-04-27T14:12:00.665Z"
   },
   {
    "duration": 23,
    "start_time": "2023-04-27T14:12:00.691Z"
   },
   {
    "duration": 32,
    "start_time": "2023-04-27T14:12:00.716Z"
   },
   {
    "duration": 35,
    "start_time": "2023-04-27T14:12:00.750Z"
   },
   {
    "duration": 1561,
    "start_time": "2023-04-27T14:12:00.789Z"
   },
   {
    "duration": 1556,
    "start_time": "2023-04-27T14:12:02.352Z"
   },
   {
    "duration": 1486,
    "start_time": "2023-04-27T14:12:03.910Z"
   },
   {
    "duration": 5,
    "start_time": "2023-04-27T14:12:05.397Z"
   },
   {
    "duration": 583,
    "start_time": "2023-04-27T14:12:05.403Z"
   },
   {
    "duration": 513,
    "start_time": "2023-04-27T14:12:05.988Z"
   },
   {
    "duration": 3,
    "start_time": "2023-04-27T14:12:06.502Z"
   },
   {
    "duration": 13,
    "start_time": "2023-04-27T14:12:06.506Z"
   },
   {
    "duration": 10,
    "start_time": "2023-04-27T14:12:06.520Z"
   },
   {
    "duration": 1240,
    "start_time": "2023-04-27T14:12:06.532Z"
   },
   {
    "duration": 30,
    "start_time": "2023-04-27T14:12:07.774Z"
   },
   {
    "duration": 151,
    "start_time": "2023-04-27T14:12:07.806Z"
   },
   {
    "duration": 4,
    "start_time": "2023-04-27T14:14:28.088Z"
   },
   {
    "duration": 36,
    "start_time": "2023-04-27T14:14:33.430Z"
   },
   {
    "duration": 1464,
    "start_time": "2023-04-27T14:14:40.966Z"
   },
   {
    "duration": 807,
    "start_time": "2023-04-27T14:14:42.433Z"
   },
   {
    "duration": 47,
    "start_time": "2023-04-27T14:14:43.242Z"
   },
   {
    "duration": 232,
    "start_time": "2023-04-27T14:14:43.292Z"
   },
   {
    "duration": 28,
    "start_time": "2023-04-27T14:14:43.526Z"
   },
   {
    "duration": 47,
    "start_time": "2023-04-27T14:14:43.556Z"
   },
   {
    "duration": 683,
    "start_time": "2023-04-27T14:14:43.605Z"
   },
   {
    "duration": 6,
    "start_time": "2023-04-27T14:14:44.289Z"
   },
   {
    "duration": 8,
    "start_time": "2023-04-27T14:14:44.296Z"
   },
   {
    "duration": 5,
    "start_time": "2023-04-27T14:14:44.307Z"
   },
   {
    "duration": 6,
    "start_time": "2023-04-27T14:14:44.314Z"
   },
   {
    "duration": 4,
    "start_time": "2023-04-27T14:14:44.321Z"
   },
   {
    "duration": 10,
    "start_time": "2023-04-27T14:14:44.327Z"
   },
   {
    "duration": 1469,
    "start_time": "2023-04-27T14:14:44.339Z"
   },
   {
    "duration": 1531,
    "start_time": "2023-04-27T14:14:45.810Z"
   },
   {
    "duration": 1453,
    "start_time": "2023-04-27T14:14:47.343Z"
   },
   {
    "duration": 4,
    "start_time": "2023-04-27T14:14:48.798Z"
   },
   {
    "duration": 578,
    "start_time": "2023-04-27T14:14:48.804Z"
   },
   {
    "duration": 525,
    "start_time": "2023-04-27T14:14:49.384Z"
   },
   {
    "duration": 3,
    "start_time": "2023-04-27T14:14:49.911Z"
   },
   {
    "duration": 5,
    "start_time": "2023-04-27T14:14:49.915Z"
   },
   {
    "duration": 9,
    "start_time": "2023-04-27T14:14:49.921Z"
   },
   {
    "duration": 1135,
    "start_time": "2023-04-27T14:14:49.932Z"
   },
   {
    "duration": 33,
    "start_time": "2023-04-27T14:14:51.070Z"
   },
   {
    "duration": 148,
    "start_time": "2023-04-27T14:14:51.105Z"
   },
   {
    "duration": 4,
    "start_time": "2023-04-27T14:16:41.961Z"
   },
   {
    "duration": 3,
    "start_time": "2023-04-27T14:16:49.913Z"
   },
   {
    "duration": 10,
    "start_time": "2023-04-27T14:17:00.536Z"
   },
   {
    "duration": 30,
    "start_time": "2023-04-27T14:18:13.815Z"
   },
   {
    "duration": 3,
    "start_time": "2023-04-27T14:18:16.283Z"
   },
   {
    "duration": 26,
    "start_time": "2023-04-27T14:18:19.035Z"
   },
   {
    "duration": 1367,
    "start_time": "2023-04-27T14:18:40.124Z"
   },
   {
    "duration": 829,
    "start_time": "2023-04-27T14:18:41.493Z"
   },
   {
    "duration": 43,
    "start_time": "2023-04-27T14:18:42.324Z"
   },
   {
    "duration": 245,
    "start_time": "2023-04-27T14:18:42.369Z"
   },
   {
    "duration": 29,
    "start_time": "2023-04-27T14:18:42.617Z"
   },
   {
    "duration": 50,
    "start_time": "2023-04-27T14:18:42.648Z"
   },
   {
    "duration": 620,
    "start_time": "2023-04-27T14:18:42.700Z"
   },
   {
    "duration": 6,
    "start_time": "2023-04-27T14:18:43.322Z"
   },
   {
    "duration": 8,
    "start_time": "2023-04-27T14:18:43.330Z"
   },
   {
    "duration": 5,
    "start_time": "2023-04-27T14:18:43.339Z"
   },
   {
    "duration": 5,
    "start_time": "2023-04-27T14:18:43.346Z"
   },
   {
    "duration": 4,
    "start_time": "2023-04-27T14:18:43.386Z"
   },
   {
    "duration": 6,
    "start_time": "2023-04-27T14:18:43.391Z"
   },
   {
    "duration": 1539,
    "start_time": "2023-04-27T14:18:43.400Z"
   },
   {
    "duration": 1576,
    "start_time": "2023-04-27T14:18:44.941Z"
   },
   {
    "duration": 1458,
    "start_time": "2023-04-27T14:18:46.520Z"
   },
   {
    "duration": 6,
    "start_time": "2023-04-27T14:18:47.979Z"
   },
   {
    "duration": 513,
    "start_time": "2023-04-27T14:18:47.987Z"
   },
   {
    "duration": 596,
    "start_time": "2023-04-27T14:18:48.501Z"
   },
   {
    "duration": 2,
    "start_time": "2023-04-27T14:18:49.099Z"
   },
   {
    "duration": 9,
    "start_time": "2023-04-27T14:18:49.103Z"
   },
   {
    "duration": 21,
    "start_time": "2023-04-27T14:18:49.114Z"
   },
   {
    "duration": 1221,
    "start_time": "2023-04-27T14:18:49.136Z"
   },
   {
    "duration": 36,
    "start_time": "2023-04-27T14:18:50.359Z"
   },
   {
    "duration": 157,
    "start_time": "2023-04-27T14:18:50.397Z"
   },
   {
    "duration": 0,
    "start_time": "2023-04-27T14:18:50.556Z"
   },
   {
    "duration": 0,
    "start_time": "2023-04-27T14:18:50.557Z"
   },
   {
    "duration": 0,
    "start_time": "2023-04-27T14:18:50.559Z"
   },
   {
    "duration": 29,
    "start_time": "2023-04-27T14:24:19.608Z"
   },
   {
    "duration": 1423,
    "start_time": "2023-04-27T14:24:31.263Z"
   },
   {
    "duration": 784,
    "start_time": "2023-04-27T14:24:32.689Z"
   },
   {
    "duration": 48,
    "start_time": "2023-04-27T14:24:33.475Z"
   },
   {
    "duration": 227,
    "start_time": "2023-04-27T14:24:33.525Z"
   },
   {
    "duration": 41,
    "start_time": "2023-04-27T14:24:33.754Z"
   },
   {
    "duration": 28,
    "start_time": "2023-04-27T14:24:33.797Z"
   },
   {
    "duration": 663,
    "start_time": "2023-04-27T14:24:33.827Z"
   },
   {
    "duration": 6,
    "start_time": "2023-04-27T14:24:34.492Z"
   },
   {
    "duration": 8,
    "start_time": "2023-04-27T14:24:34.499Z"
   },
   {
    "duration": 5,
    "start_time": "2023-04-27T14:24:34.509Z"
   },
   {
    "duration": 5,
    "start_time": "2023-04-27T14:24:34.515Z"
   },
   {
    "duration": 12,
    "start_time": "2023-04-27T14:24:34.522Z"
   },
   {
    "duration": 5,
    "start_time": "2023-04-27T14:24:34.535Z"
   },
   {
    "duration": 1473,
    "start_time": "2023-04-27T14:24:34.543Z"
   },
   {
    "duration": 1597,
    "start_time": "2023-04-27T14:24:36.018Z"
   },
   {
    "duration": 1383,
    "start_time": "2023-04-27T14:24:37.617Z"
   },
   {
    "duration": 4,
    "start_time": "2023-04-27T14:24:39.002Z"
   },
   {
    "duration": 562,
    "start_time": "2023-04-27T14:24:39.008Z"
   },
   {
    "duration": 538,
    "start_time": "2023-04-27T14:24:39.571Z"
   },
   {
    "duration": 2,
    "start_time": "2023-04-27T14:24:40.111Z"
   },
   {
    "duration": 5,
    "start_time": "2023-04-27T14:24:40.115Z"
   },
   {
    "duration": 9,
    "start_time": "2023-04-27T14:24:40.121Z"
   },
   {
    "duration": 1226,
    "start_time": "2023-04-27T14:24:40.132Z"
   },
   {
    "duration": 31,
    "start_time": "2023-04-27T14:24:41.360Z"
   },
   {
    "duration": 526,
    "start_time": "2023-04-27T14:24:41.393Z"
   },
   {
    "duration": 0,
    "start_time": "2023-04-27T14:24:41.921Z"
   },
   {
    "duration": 0,
    "start_time": "2023-04-27T14:24:41.922Z"
   },
   {
    "duration": 0,
    "start_time": "2023-04-27T14:24:41.923Z"
   },
   {
    "duration": 36,
    "start_time": "2023-04-27T14:29:14.174Z"
   },
   {
    "duration": 1477,
    "start_time": "2023-04-27T14:29:23.282Z"
   },
   {
    "duration": 789,
    "start_time": "2023-04-27T14:29:24.761Z"
   },
   {
    "duration": 50,
    "start_time": "2023-04-27T14:29:25.552Z"
   },
   {
    "duration": 214,
    "start_time": "2023-04-27T14:29:25.604Z"
   },
   {
    "duration": 29,
    "start_time": "2023-04-27T14:29:25.820Z"
   },
   {
    "duration": 42,
    "start_time": "2023-04-27T14:29:25.850Z"
   },
   {
    "duration": 607,
    "start_time": "2023-04-27T14:29:25.893Z"
   },
   {
    "duration": 6,
    "start_time": "2023-04-27T14:29:26.502Z"
   },
   {
    "duration": 8,
    "start_time": "2023-04-27T14:29:26.509Z"
   },
   {
    "duration": 5,
    "start_time": "2023-04-27T14:29:26.518Z"
   },
   {
    "duration": 5,
    "start_time": "2023-04-27T14:29:26.524Z"
   },
   {
    "duration": 3,
    "start_time": "2023-04-27T14:29:26.531Z"
   },
   {
    "duration": 5,
    "start_time": "2023-04-27T14:29:26.536Z"
   },
   {
    "duration": 1568,
    "start_time": "2023-04-27T14:29:26.544Z"
   },
   {
    "duration": 1619,
    "start_time": "2023-04-27T14:29:28.114Z"
   },
   {
    "duration": 1447,
    "start_time": "2023-04-27T14:29:29.734Z"
   },
   {
    "duration": 5,
    "start_time": "2023-04-27T14:29:31.183Z"
   },
   {
    "duration": 591,
    "start_time": "2023-04-27T14:29:31.190Z"
   },
   {
    "duration": 515,
    "start_time": "2023-04-27T14:29:31.783Z"
   },
   {
    "duration": 2,
    "start_time": "2023-04-27T14:29:32.300Z"
   },
   {
    "duration": 10,
    "start_time": "2023-04-27T14:29:32.304Z"
   },
   {
    "duration": 10,
    "start_time": "2023-04-27T14:29:32.316Z"
   },
   {
    "duration": 1238,
    "start_time": "2023-04-27T14:29:32.328Z"
   },
   {
    "duration": 32,
    "start_time": "2023-04-27T14:29:33.567Z"
   },
   {
    "duration": 150,
    "start_time": "2023-04-27T14:29:33.601Z"
   },
   {
    "duration": 0,
    "start_time": "2023-04-27T14:29:33.753Z"
   },
   {
    "duration": 0,
    "start_time": "2023-04-27T14:29:33.754Z"
   },
   {
    "duration": 0,
    "start_time": "2023-04-27T14:29:33.755Z"
   },
   {
    "duration": 29,
    "start_time": "2023-04-27T14:33:21.460Z"
   },
   {
    "duration": 1365,
    "start_time": "2023-04-27T14:33:31.538Z"
   },
   {
    "duration": 772,
    "start_time": "2023-04-27T14:33:32.905Z"
   },
   {
    "duration": 45,
    "start_time": "2023-04-27T14:33:33.678Z"
   },
   {
    "duration": 242,
    "start_time": "2023-04-27T14:33:33.724Z"
   },
   {
    "duration": 49,
    "start_time": "2023-04-27T14:33:33.969Z"
   },
   {
    "duration": 38,
    "start_time": "2023-04-27T14:33:34.020Z"
   },
   {
    "duration": 639,
    "start_time": "2023-04-27T14:33:34.060Z"
   },
   {
    "duration": 5,
    "start_time": "2023-04-27T14:33:34.701Z"
   },
   {
    "duration": 14,
    "start_time": "2023-04-27T14:33:34.708Z"
   },
   {
    "duration": 34,
    "start_time": "2023-04-27T14:33:34.723Z"
   },
   {
    "duration": 10,
    "start_time": "2023-04-27T14:33:34.758Z"
   },
   {
    "duration": 22,
    "start_time": "2023-04-27T14:33:34.770Z"
   },
   {
    "duration": 17,
    "start_time": "2023-04-27T14:33:34.793Z"
   },
   {
    "duration": 1484,
    "start_time": "2023-04-27T14:33:34.812Z"
   },
   {
    "duration": 1622,
    "start_time": "2023-04-27T14:33:36.297Z"
   },
   {
    "duration": 1473,
    "start_time": "2023-04-27T14:33:37.920Z"
   },
   {
    "duration": 4,
    "start_time": "2023-04-27T14:33:39.395Z"
   },
   {
    "duration": 570,
    "start_time": "2023-04-27T14:33:39.400Z"
   },
   {
    "duration": 534,
    "start_time": "2023-04-27T14:33:39.971Z"
   },
   {
    "duration": 3,
    "start_time": "2023-04-27T14:33:40.507Z"
   },
   {
    "duration": 4,
    "start_time": "2023-04-27T14:33:40.511Z"
   },
   {
    "duration": 9,
    "start_time": "2023-04-27T14:33:40.516Z"
   },
   {
    "duration": 1225,
    "start_time": "2023-04-27T14:33:40.526Z"
   },
   {
    "duration": 34,
    "start_time": "2023-04-27T14:33:41.752Z"
   },
   {
    "duration": 150,
    "start_time": "2023-04-27T14:33:41.788Z"
   },
   {
    "duration": 0,
    "start_time": "2023-04-27T14:33:41.939Z"
   },
   {
    "duration": 0,
    "start_time": "2023-04-27T14:33:41.940Z"
   },
   {
    "duration": 0,
    "start_time": "2023-04-27T14:33:41.941Z"
   },
   {
    "duration": 1386,
    "start_time": "2023-04-27T14:35:59.308Z"
   },
   {
    "duration": 829,
    "start_time": "2023-04-27T14:36:00.696Z"
   },
   {
    "duration": 45,
    "start_time": "2023-04-27T14:36:01.527Z"
   },
   {
    "duration": 245,
    "start_time": "2023-04-27T14:36:01.573Z"
   },
   {
    "duration": 28,
    "start_time": "2023-04-27T14:36:01.821Z"
   },
   {
    "duration": 45,
    "start_time": "2023-04-27T14:36:01.851Z"
   },
   {
    "duration": 607,
    "start_time": "2023-04-27T14:36:01.897Z"
   },
   {
    "duration": 6,
    "start_time": "2023-04-27T14:36:02.506Z"
   },
   {
    "duration": 13,
    "start_time": "2023-04-27T14:36:02.514Z"
   },
   {
    "duration": 24,
    "start_time": "2023-04-27T14:36:02.529Z"
   },
   {
    "duration": 31,
    "start_time": "2023-04-27T14:36:02.554Z"
   },
   {
    "duration": 14,
    "start_time": "2023-04-27T14:36:02.587Z"
   },
   {
    "duration": 11,
    "start_time": "2023-04-27T14:36:02.603Z"
   },
   {
    "duration": 1557,
    "start_time": "2023-04-27T14:36:02.616Z"
   },
   {
    "duration": 1545,
    "start_time": "2023-04-27T14:36:04.176Z"
   },
   {
    "duration": 1470,
    "start_time": "2023-04-27T14:36:05.722Z"
   },
   {
    "duration": 4,
    "start_time": "2023-04-27T14:36:07.193Z"
   },
   {
    "duration": 591,
    "start_time": "2023-04-27T14:36:07.199Z"
   },
   {
    "duration": 625,
    "start_time": "2023-04-27T14:36:07.793Z"
   },
   {
    "duration": 3,
    "start_time": "2023-04-27T14:36:08.420Z"
   },
   {
    "duration": 5,
    "start_time": "2023-04-27T14:36:08.425Z"
   },
   {
    "duration": 19,
    "start_time": "2023-04-27T14:36:08.432Z"
   },
   {
    "duration": 1221,
    "start_time": "2023-04-27T14:36:08.453Z"
   },
   {
    "duration": 27,
    "start_time": "2023-04-27T14:36:09.676Z"
   },
   {
    "duration": 47,
    "start_time": "2023-04-27T14:36:09.705Z"
   },
   {
    "duration": 0,
    "start_time": "2023-04-27T14:36:09.753Z"
   },
   {
    "duration": 0,
    "start_time": "2023-04-27T14:36:09.755Z"
   },
   {
    "duration": 0,
    "start_time": "2023-04-27T14:36:09.756Z"
   },
   {
    "duration": 172,
    "start_time": "2023-04-27T14:37:00.986Z"
   },
   {
    "duration": 28,
    "start_time": "2023-04-27T14:39:52.758Z"
   },
   {
    "duration": 24,
    "start_time": "2023-04-27T14:40:12.735Z"
   },
   {
    "duration": 1446,
    "start_time": "2023-04-27T14:40:17.656Z"
   },
   {
    "duration": 826,
    "start_time": "2023-04-27T14:40:19.104Z"
   },
   {
    "duration": 53,
    "start_time": "2023-04-27T14:40:19.932Z"
   },
   {
    "duration": 215,
    "start_time": "2023-04-27T14:40:19.987Z"
   },
   {
    "duration": 27,
    "start_time": "2023-04-27T14:40:20.205Z"
   },
   {
    "duration": 26,
    "start_time": "2023-04-27T14:40:20.234Z"
   },
   {
    "duration": 650,
    "start_time": "2023-04-27T14:40:20.262Z"
   },
   {
    "duration": 6,
    "start_time": "2023-04-27T14:40:20.914Z"
   },
   {
    "duration": 7,
    "start_time": "2023-04-27T14:40:20.921Z"
   },
   {
    "duration": 4,
    "start_time": "2023-04-27T14:40:20.930Z"
   },
   {
    "duration": 5,
    "start_time": "2023-04-27T14:40:20.936Z"
   },
   {
    "duration": 5,
    "start_time": "2023-04-27T14:40:20.942Z"
   },
   {
    "duration": 39,
    "start_time": "2023-04-27T14:40:20.948Z"
   },
   {
    "duration": 1534,
    "start_time": "2023-04-27T14:40:20.990Z"
   },
   {
    "duration": 1713,
    "start_time": "2023-04-27T14:40:22.526Z"
   },
   {
    "duration": 1541,
    "start_time": "2023-04-27T14:40:24.241Z"
   },
   {
    "duration": 4,
    "start_time": "2023-04-27T14:40:25.784Z"
   },
   {
    "duration": 601,
    "start_time": "2023-04-27T14:40:25.790Z"
   },
   {
    "duration": 549,
    "start_time": "2023-04-27T14:40:26.393Z"
   },
   {
    "duration": 4,
    "start_time": "2023-04-27T14:40:26.944Z"
   },
   {
    "duration": 6,
    "start_time": "2023-04-27T14:40:26.949Z"
   },
   {
    "duration": 15,
    "start_time": "2023-04-27T14:40:26.957Z"
   },
   {
    "duration": 1341,
    "start_time": "2023-04-27T14:40:26.974Z"
   },
   {
    "duration": 29,
    "start_time": "2023-04-27T14:40:28.317Z"
   },
   {
    "duration": 151,
    "start_time": "2023-04-27T14:40:28.348Z"
   },
   {
    "duration": 0,
    "start_time": "2023-04-27T14:40:28.501Z"
   },
   {
    "duration": 0,
    "start_time": "2023-04-27T14:40:28.502Z"
   },
   {
    "duration": 0,
    "start_time": "2023-04-27T14:40:28.503Z"
   },
   {
    "duration": 1422,
    "start_time": "2023-04-27T14:41:53.841Z"
   },
   {
    "duration": 801,
    "start_time": "2023-04-27T14:41:55.265Z"
   },
   {
    "duration": 47,
    "start_time": "2023-04-27T14:41:56.068Z"
   },
   {
    "duration": 213,
    "start_time": "2023-04-27T14:41:56.117Z"
   },
   {
    "duration": 27,
    "start_time": "2023-04-27T14:41:56.334Z"
   },
   {
    "duration": 47,
    "start_time": "2023-04-27T14:41:56.363Z"
   },
   {
    "duration": 641,
    "start_time": "2023-04-27T14:41:56.412Z"
   },
   {
    "duration": 6,
    "start_time": "2023-04-27T14:41:57.054Z"
   },
   {
    "duration": 17,
    "start_time": "2023-04-27T14:41:57.061Z"
   },
   {
    "duration": 6,
    "start_time": "2023-04-27T14:41:57.085Z"
   },
   {
    "duration": 8,
    "start_time": "2023-04-27T14:41:57.092Z"
   },
   {
    "duration": 4,
    "start_time": "2023-04-27T14:41:57.102Z"
   },
   {
    "duration": 5,
    "start_time": "2023-04-27T14:41:57.108Z"
   },
   {
    "duration": 1514,
    "start_time": "2023-04-27T14:41:57.116Z"
   },
   {
    "duration": 1648,
    "start_time": "2023-04-27T14:41:58.631Z"
   },
   {
    "duration": 1416,
    "start_time": "2023-04-27T14:42:00.285Z"
   },
   {
    "duration": 5,
    "start_time": "2023-04-27T14:42:01.703Z"
   },
   {
    "duration": 584,
    "start_time": "2023-04-27T14:42:01.709Z"
   },
   {
    "duration": 615,
    "start_time": "2023-04-27T14:42:02.295Z"
   },
   {
    "duration": 3,
    "start_time": "2023-04-27T14:42:02.912Z"
   },
   {
    "duration": 6,
    "start_time": "2023-04-27T14:42:02.916Z"
   },
   {
    "duration": 8,
    "start_time": "2023-04-27T14:42:02.924Z"
   },
   {
    "duration": 1306,
    "start_time": "2023-04-27T14:42:02.934Z"
   },
   {
    "duration": 26,
    "start_time": "2023-04-27T14:42:04.242Z"
   },
   {
    "duration": 144,
    "start_time": "2023-04-27T14:42:04.269Z"
   },
   {
    "duration": 0,
    "start_time": "2023-04-27T14:42:04.414Z"
   },
   {
    "duration": 0,
    "start_time": "2023-04-27T14:42:04.415Z"
   },
   {
    "duration": 0,
    "start_time": "2023-04-27T14:42:04.416Z"
   },
   {
    "duration": 1482,
    "start_time": "2023-04-27T14:42:43.153Z"
   },
   {
    "duration": 763,
    "start_time": "2023-04-27T14:42:44.637Z"
   },
   {
    "duration": 42,
    "start_time": "2023-04-27T14:42:45.401Z"
   },
   {
    "duration": 203,
    "start_time": "2023-04-27T14:42:45.445Z"
   },
   {
    "duration": 27,
    "start_time": "2023-04-27T14:42:45.649Z"
   },
   {
    "duration": 27,
    "start_time": "2023-04-27T14:42:45.686Z"
   },
   {
    "duration": 602,
    "start_time": "2023-04-27T14:42:45.715Z"
   },
   {
    "duration": 6,
    "start_time": "2023-04-27T14:42:46.319Z"
   },
   {
    "duration": 8,
    "start_time": "2023-04-27T14:42:46.326Z"
   },
   {
    "duration": 5,
    "start_time": "2023-04-27T14:42:46.337Z"
   },
   {
    "duration": 6,
    "start_time": "2023-04-27T14:42:46.344Z"
   },
   {
    "duration": 4,
    "start_time": "2023-04-27T14:42:46.351Z"
   },
   {
    "duration": 5,
    "start_time": "2023-04-27T14:42:46.386Z"
   },
   {
    "duration": 1510,
    "start_time": "2023-04-27T14:42:46.394Z"
   },
   {
    "duration": 1542,
    "start_time": "2023-04-27T14:42:47.905Z"
   },
   {
    "duration": 1463,
    "start_time": "2023-04-27T14:42:49.450Z"
   },
   {
    "duration": 5,
    "start_time": "2023-04-27T14:42:50.915Z"
   },
   {
    "duration": 567,
    "start_time": "2023-04-27T14:42:50.922Z"
   },
   {
    "duration": 664,
    "start_time": "2023-04-27T14:42:51.491Z"
   },
   {
    "duration": 4,
    "start_time": "2023-04-27T14:42:52.157Z"
   },
   {
    "duration": 9,
    "start_time": "2023-04-27T14:42:52.163Z"
   },
   {
    "duration": 21,
    "start_time": "2023-04-27T14:42:52.174Z"
   },
   {
    "duration": 1372,
    "start_time": "2023-04-27T14:42:52.196Z"
   },
   {
    "duration": 33,
    "start_time": "2023-04-27T14:42:53.571Z"
   },
   {
    "duration": 148,
    "start_time": "2023-04-27T14:42:53.605Z"
   },
   {
    "duration": 0,
    "start_time": "2023-04-27T14:42:53.754Z"
   },
   {
    "duration": 0,
    "start_time": "2023-04-27T14:42:53.756Z"
   },
   {
    "duration": 0,
    "start_time": "2023-04-27T14:42:53.757Z"
   },
   {
    "duration": 1430,
    "start_time": "2023-04-27T14:43:01.319Z"
   },
   {
    "duration": 730,
    "start_time": "2023-04-27T14:43:02.751Z"
   },
   {
    "duration": 43,
    "start_time": "2023-04-27T14:43:03.483Z"
   },
   {
    "duration": 223,
    "start_time": "2023-04-27T14:43:03.528Z"
   },
   {
    "duration": 39,
    "start_time": "2023-04-27T14:43:03.753Z"
   },
   {
    "duration": 29,
    "start_time": "2023-04-27T14:43:03.794Z"
   },
   {
    "duration": 706,
    "start_time": "2023-04-27T14:43:03.824Z"
   },
   {
    "duration": 5,
    "start_time": "2023-04-27T14:43:04.532Z"
   },
   {
    "duration": 21,
    "start_time": "2023-04-27T14:43:04.539Z"
   },
   {
    "duration": 19,
    "start_time": "2023-04-27T14:43:04.562Z"
   },
   {
    "duration": 10,
    "start_time": "2023-04-27T14:43:04.583Z"
   },
   {
    "duration": 4,
    "start_time": "2023-04-27T14:43:04.594Z"
   },
   {
    "duration": 5,
    "start_time": "2023-04-27T14:43:04.600Z"
   },
   {
    "duration": 1534,
    "start_time": "2023-04-27T14:43:04.608Z"
   },
   {
    "duration": 1577,
    "start_time": "2023-04-27T14:43:06.144Z"
   },
   {
    "duration": 1365,
    "start_time": "2023-04-27T14:43:07.723Z"
   },
   {
    "duration": 4,
    "start_time": "2023-04-27T14:43:09.089Z"
   },
   {
    "duration": 579,
    "start_time": "2023-04-27T14:43:09.095Z"
   },
   {
    "duration": 533,
    "start_time": "2023-04-27T14:43:09.676Z"
   },
   {
    "duration": 2,
    "start_time": "2023-04-27T14:43:10.211Z"
   },
   {
    "duration": 6,
    "start_time": "2023-04-27T14:43:10.215Z"
   },
   {
    "duration": 10,
    "start_time": "2023-04-27T14:43:10.223Z"
   },
   {
    "duration": 1231,
    "start_time": "2023-04-27T14:43:10.235Z"
   },
   {
    "duration": 29,
    "start_time": "2023-04-27T14:43:11.467Z"
   },
   {
    "duration": 147,
    "start_time": "2023-04-27T14:43:11.498Z"
   },
   {
    "duration": 0,
    "start_time": "2023-04-27T14:43:11.647Z"
   },
   {
    "duration": 0,
    "start_time": "2023-04-27T14:43:11.649Z"
   },
   {
    "duration": 0,
    "start_time": "2023-04-27T14:43:11.650Z"
   },
   {
    "duration": 1323,
    "start_time": "2023-04-27T14:47:54.140Z"
   },
   {
    "duration": 837,
    "start_time": "2023-04-27T14:47:55.465Z"
   },
   {
    "duration": 41,
    "start_time": "2023-04-27T14:47:56.303Z"
   },
   {
    "duration": 231,
    "start_time": "2023-04-27T14:47:56.346Z"
   },
   {
    "duration": 31,
    "start_time": "2023-04-27T14:47:56.584Z"
   },
   {
    "duration": 27,
    "start_time": "2023-04-27T14:47:56.617Z"
   },
   {
    "duration": 664,
    "start_time": "2023-04-27T14:47:56.646Z"
   },
   {
    "duration": 6,
    "start_time": "2023-04-27T14:47:57.312Z"
   },
   {
    "duration": 11,
    "start_time": "2023-04-27T14:47:57.320Z"
   },
   {
    "duration": 5,
    "start_time": "2023-04-27T14:47:57.333Z"
   },
   {
    "duration": 7,
    "start_time": "2023-04-27T14:47:57.340Z"
   },
   {
    "duration": 3,
    "start_time": "2023-04-27T14:47:57.349Z"
   },
   {
    "duration": 38,
    "start_time": "2023-04-27T14:47:57.354Z"
   },
   {
    "duration": 1511,
    "start_time": "2023-04-27T14:47:57.395Z"
   },
   {
    "duration": 1509,
    "start_time": "2023-04-27T14:47:58.907Z"
   },
   {
    "duration": 1483,
    "start_time": "2023-04-27T14:48:00.418Z"
   },
   {
    "duration": 4,
    "start_time": "2023-04-27T14:48:01.904Z"
   },
   {
    "duration": 648,
    "start_time": "2023-04-27T14:48:01.910Z"
   },
   {
    "duration": 637,
    "start_time": "2023-04-27T14:48:02.560Z"
   },
   {
    "duration": 3,
    "start_time": "2023-04-27T14:48:03.199Z"
   },
   {
    "duration": 11,
    "start_time": "2023-04-27T14:48:03.204Z"
   },
   {
    "duration": 9,
    "start_time": "2023-04-27T14:48:03.216Z"
   },
   {
    "duration": 1248,
    "start_time": "2023-04-27T14:48:03.226Z"
   },
   {
    "duration": 27,
    "start_time": "2023-04-27T14:48:04.476Z"
   },
   {
    "duration": 146,
    "start_time": "2023-04-27T14:48:04.504Z"
   },
   {
    "duration": 0,
    "start_time": "2023-04-27T14:48:04.652Z"
   },
   {
    "duration": 0,
    "start_time": "2023-04-27T14:48:04.653Z"
   },
   {
    "duration": 0,
    "start_time": "2023-04-27T14:48:04.654Z"
   },
   {
    "duration": 1436,
    "start_time": "2023-04-27T14:52:21.050Z"
   },
   {
    "duration": 793,
    "start_time": "2023-04-27T14:52:22.488Z"
   },
   {
    "duration": 45,
    "start_time": "2023-04-27T14:52:23.283Z"
   },
   {
    "duration": 219,
    "start_time": "2023-04-27T14:52:23.330Z"
   },
   {
    "duration": 38,
    "start_time": "2023-04-27T14:52:23.551Z"
   },
   {
    "duration": 26,
    "start_time": "2023-04-27T14:52:23.591Z"
   },
   {
    "duration": 642,
    "start_time": "2023-04-27T14:52:23.618Z"
   },
   {
    "duration": 7,
    "start_time": "2023-04-27T14:52:24.261Z"
   },
   {
    "duration": 22,
    "start_time": "2023-04-27T14:52:24.269Z"
   },
   {
    "duration": 11,
    "start_time": "2023-04-27T14:52:24.293Z"
   },
   {
    "duration": 32,
    "start_time": "2023-04-27T14:52:24.305Z"
   },
   {
    "duration": 6,
    "start_time": "2023-04-27T14:52:24.338Z"
   },
   {
    "duration": 7,
    "start_time": "2023-04-27T14:52:24.346Z"
   },
   {
    "duration": 1457,
    "start_time": "2023-04-27T14:52:24.355Z"
   },
   {
    "duration": 1521,
    "start_time": "2023-04-27T14:52:25.814Z"
   },
   {
    "duration": 1472,
    "start_time": "2023-04-27T14:52:27.336Z"
   },
   {
    "duration": 4,
    "start_time": "2023-04-27T14:52:28.810Z"
   },
   {
    "duration": 560,
    "start_time": "2023-04-27T14:52:28.815Z"
   },
   {
    "duration": 524,
    "start_time": "2023-04-27T14:52:29.377Z"
   },
   {
    "duration": 2,
    "start_time": "2023-04-27T14:52:29.903Z"
   },
   {
    "duration": 4,
    "start_time": "2023-04-27T14:52:29.907Z"
   },
   {
    "duration": 10,
    "start_time": "2023-04-27T14:52:29.912Z"
   },
   {
    "duration": 1232,
    "start_time": "2023-04-27T14:52:29.924Z"
   },
   {
    "duration": 35,
    "start_time": "2023-04-27T14:52:31.158Z"
   },
   {
    "duration": 1054,
    "start_time": "2023-04-27T14:52:31.195Z"
   },
   {
    "duration": 0,
    "start_time": "2023-04-27T14:52:32.256Z"
   },
   {
    "duration": 0,
    "start_time": "2023-04-27T14:52:32.257Z"
   },
   {
    "duration": 0,
    "start_time": "2023-04-27T14:52:32.259Z"
   },
   {
    "duration": 1412,
    "start_time": "2023-04-27T14:53:31.571Z"
   },
   {
    "duration": 845,
    "start_time": "2023-04-27T14:53:32.985Z"
   },
   {
    "duration": 44,
    "start_time": "2023-04-27T14:53:33.832Z"
   },
   {
    "duration": 244,
    "start_time": "2023-04-27T14:53:33.878Z"
   },
   {
    "duration": 38,
    "start_time": "2023-04-27T14:53:34.126Z"
   },
   {
    "duration": 54,
    "start_time": "2023-04-27T14:53:34.166Z"
   },
   {
    "duration": 624,
    "start_time": "2023-04-27T14:53:34.222Z"
   },
   {
    "duration": 6,
    "start_time": "2023-04-27T14:53:34.848Z"
   },
   {
    "duration": 13,
    "start_time": "2023-04-27T14:53:34.855Z"
   },
   {
    "duration": 15,
    "start_time": "2023-04-27T14:53:34.870Z"
   },
   {
    "duration": 5,
    "start_time": "2023-04-27T14:53:34.887Z"
   },
   {
    "duration": 3,
    "start_time": "2023-04-27T14:53:34.894Z"
   },
   {
    "duration": 5,
    "start_time": "2023-04-27T14:53:34.898Z"
   },
   {
    "duration": 1485,
    "start_time": "2023-04-27T14:53:34.906Z"
   },
   {
    "duration": 1511,
    "start_time": "2023-04-27T14:53:36.393Z"
   },
   {
    "duration": 1534,
    "start_time": "2023-04-27T14:53:37.906Z"
   },
   {
    "duration": 4,
    "start_time": "2023-04-27T14:53:39.442Z"
   },
   {
    "duration": 524,
    "start_time": "2023-04-27T14:53:39.447Z"
   },
   {
    "duration": 527,
    "start_time": "2023-04-27T14:53:39.972Z"
   },
   {
    "duration": 3,
    "start_time": "2023-04-27T14:53:40.501Z"
   },
   {
    "duration": 13,
    "start_time": "2023-04-27T14:53:40.506Z"
   },
   {
    "duration": 30,
    "start_time": "2023-04-27T14:53:40.521Z"
   },
   {
    "duration": 1204,
    "start_time": "2023-04-27T14:53:40.553Z"
   },
   {
    "duration": 37,
    "start_time": "2023-04-27T14:53:41.759Z"
   },
   {
    "duration": 141,
    "start_time": "2023-04-27T14:53:41.798Z"
   },
   {
    "duration": 0,
    "start_time": "2023-04-27T14:53:41.941Z"
   },
   {
    "duration": 0,
    "start_time": "2023-04-27T14:53:41.942Z"
   },
   {
    "duration": 0,
    "start_time": "2023-04-27T14:53:41.943Z"
   },
   {
    "duration": 1463,
    "start_time": "2023-04-27T14:54:25.943Z"
   },
   {
    "duration": 815,
    "start_time": "2023-04-27T14:54:27.408Z"
   },
   {
    "duration": 62,
    "start_time": "2023-04-27T14:54:28.225Z"
   },
   {
    "duration": 236,
    "start_time": "2023-04-27T14:54:28.289Z"
   },
   {
    "duration": 28,
    "start_time": "2023-04-27T14:54:28.527Z"
   },
   {
    "duration": 47,
    "start_time": "2023-04-27T14:54:28.556Z"
   },
   {
    "duration": 620,
    "start_time": "2023-04-27T14:54:28.605Z"
   },
   {
    "duration": 6,
    "start_time": "2023-04-27T14:54:29.226Z"
   },
   {
    "duration": 7,
    "start_time": "2023-04-27T14:54:29.234Z"
   },
   {
    "duration": 5,
    "start_time": "2023-04-27T14:54:29.242Z"
   },
   {
    "duration": 5,
    "start_time": "2023-04-27T14:54:29.248Z"
   },
   {
    "duration": 3,
    "start_time": "2023-04-27T14:54:29.255Z"
   },
   {
    "duration": 28,
    "start_time": "2023-04-27T14:54:29.259Z"
   },
   {
    "duration": 1538,
    "start_time": "2023-04-27T14:54:29.289Z"
   },
   {
    "duration": 1581,
    "start_time": "2023-04-27T14:54:30.829Z"
   },
   {
    "duration": 1575,
    "start_time": "2023-04-27T14:54:32.412Z"
   },
   {
    "duration": 5,
    "start_time": "2023-04-27T14:54:33.989Z"
   },
   {
    "duration": 576,
    "start_time": "2023-04-27T14:54:33.996Z"
   },
   {
    "duration": 516,
    "start_time": "2023-04-27T14:54:34.574Z"
   },
   {
    "duration": 3,
    "start_time": "2023-04-27T14:54:35.091Z"
   },
   {
    "duration": 25,
    "start_time": "2023-04-27T14:54:35.095Z"
   },
   {
    "duration": 14,
    "start_time": "2023-04-27T14:54:35.121Z"
   },
   {
    "duration": 1226,
    "start_time": "2023-04-27T14:54:35.136Z"
   },
   {
    "duration": 36,
    "start_time": "2023-04-27T14:54:36.364Z"
   },
   {
    "duration": 34,
    "start_time": "2023-04-27T14:54:36.402Z"
   },
   {
    "duration": 4,
    "start_time": "2023-04-27T14:54:36.437Z"
   },
   {
    "duration": 6,
    "start_time": "2023-04-27T14:54:36.443Z"
   },
   {
    "duration": 16,
    "start_time": "2023-04-27T14:54:36.450Z"
   },
   {
    "duration": 4,
    "start_time": "2023-04-27T14:55:33.306Z"
   },
   {
    "duration": 111,
    "start_time": "2023-04-27T14:57:16.620Z"
   },
   {
    "duration": 1375,
    "start_time": "2023-04-27T15:04:41.283Z"
   },
   {
    "duration": 773,
    "start_time": "2023-04-27T15:04:42.661Z"
   },
   {
    "duration": 50,
    "start_time": "2023-04-27T15:04:43.435Z"
   },
   {
    "duration": 215,
    "start_time": "2023-04-27T15:04:43.487Z"
   },
   {
    "duration": 27,
    "start_time": "2023-04-27T15:04:43.704Z"
   },
   {
    "duration": 26,
    "start_time": "2023-04-27T15:04:43.733Z"
   },
   {
    "duration": 685,
    "start_time": "2023-04-27T15:04:43.761Z"
   },
   {
    "duration": 5,
    "start_time": "2023-04-27T15:04:44.448Z"
   },
   {
    "duration": 11,
    "start_time": "2023-04-27T15:04:44.455Z"
   },
   {
    "duration": 20,
    "start_time": "2023-04-27T15:04:44.467Z"
   },
   {
    "duration": 6,
    "start_time": "2023-04-27T15:04:44.489Z"
   },
   {
    "duration": 15,
    "start_time": "2023-04-27T15:04:44.497Z"
   },
   {
    "duration": 19,
    "start_time": "2023-04-27T15:04:44.514Z"
   },
   {
    "duration": 1486,
    "start_time": "2023-04-27T15:04:44.536Z"
   },
   {
    "duration": 1574,
    "start_time": "2023-04-27T15:04:46.024Z"
   },
   {
    "duration": 1470,
    "start_time": "2023-04-27T15:04:47.600Z"
   },
   {
    "duration": 4,
    "start_time": "2023-04-27T15:04:49.072Z"
   },
   {
    "duration": 493,
    "start_time": "2023-04-27T15:04:49.077Z"
   },
   {
    "duration": 535,
    "start_time": "2023-04-27T15:04:49.571Z"
   },
   {
    "duration": 2,
    "start_time": "2023-04-27T15:04:50.108Z"
   },
   {
    "duration": 10,
    "start_time": "2023-04-27T15:04:50.112Z"
   },
   {
    "duration": 8,
    "start_time": "2023-04-27T15:04:50.124Z"
   },
   {
    "duration": 1222,
    "start_time": "2023-04-27T15:04:50.133Z"
   },
   {
    "duration": 32,
    "start_time": "2023-04-27T15:04:51.357Z"
   },
   {
    "duration": 144,
    "start_time": "2023-04-27T15:04:51.391Z"
   },
   {
    "duration": 0,
    "start_time": "2023-04-27T15:04:51.537Z"
   },
   {
    "duration": 0,
    "start_time": "2023-04-27T15:04:51.538Z"
   },
   {
    "duration": 0,
    "start_time": "2023-04-27T15:04:51.539Z"
   },
   {
    "duration": 0,
    "start_time": "2023-04-27T15:04:51.540Z"
   },
   {
    "duration": 0,
    "start_time": "2023-04-27T15:04:51.542Z"
   },
   {
    "duration": 22,
    "start_time": "2023-04-27T15:05:58.856Z"
   },
   {
    "duration": 1409,
    "start_time": "2023-04-27T15:06:05.153Z"
   },
   {
    "duration": 797,
    "start_time": "2023-04-27T15:06:06.565Z"
   },
   {
    "duration": 49,
    "start_time": "2023-04-27T15:06:07.364Z"
   },
   {
    "duration": 234,
    "start_time": "2023-04-27T15:06:07.415Z"
   },
   {
    "duration": 37,
    "start_time": "2023-04-27T15:06:07.652Z"
   },
   {
    "duration": 28,
    "start_time": "2023-04-27T15:06:07.691Z"
   },
   {
    "duration": 673,
    "start_time": "2023-04-27T15:06:07.720Z"
   },
   {
    "duration": 5,
    "start_time": "2023-04-27T15:06:08.396Z"
   },
   {
    "duration": 20,
    "start_time": "2023-04-27T15:06:08.403Z"
   },
   {
    "duration": 13,
    "start_time": "2023-04-27T15:06:08.425Z"
   },
   {
    "duration": 5,
    "start_time": "2023-04-27T15:06:08.440Z"
   },
   {
    "duration": 4,
    "start_time": "2023-04-27T15:06:08.447Z"
   },
   {
    "duration": 4,
    "start_time": "2023-04-27T15:06:08.453Z"
   },
   {
    "duration": 1447,
    "start_time": "2023-04-27T15:06:08.460Z"
   },
   {
    "duration": 1612,
    "start_time": "2023-04-27T15:06:09.908Z"
   },
   {
    "duration": 1469,
    "start_time": "2023-04-27T15:06:11.522Z"
   },
   {
    "duration": 4,
    "start_time": "2023-04-27T15:06:12.993Z"
   },
   {
    "duration": 571,
    "start_time": "2023-04-27T15:06:12.998Z"
   },
   {
    "duration": 590,
    "start_time": "2023-04-27T15:06:13.571Z"
   },
   {
    "duration": 4,
    "start_time": "2023-04-27T15:06:14.163Z"
   },
   {
    "duration": 10,
    "start_time": "2023-04-27T15:06:14.169Z"
   },
   {
    "duration": 9,
    "start_time": "2023-04-27T15:06:14.187Z"
   },
   {
    "duration": 1254,
    "start_time": "2023-04-27T15:06:14.198Z"
   },
   {
    "duration": 37,
    "start_time": "2023-04-27T15:06:15.454Z"
   },
   {
    "duration": 21,
    "start_time": "2023-04-27T15:06:15.492Z"
   },
   {
    "duration": 3,
    "start_time": "2023-04-27T15:06:15.514Z"
   },
   {
    "duration": 8,
    "start_time": "2023-04-27T15:06:15.519Z"
   },
   {
    "duration": 13,
    "start_time": "2023-04-27T15:06:15.529Z"
   },
   {
    "duration": 3,
    "start_time": "2023-04-27T15:06:15.544Z"
   },
   {
    "duration": 120,
    "start_time": "2023-04-27T15:06:15.548Z"
   },
   {
    "duration": 1392,
    "start_time": "2023-04-27T15:07:19.889Z"
   },
   {
    "duration": 788,
    "start_time": "2023-04-27T15:07:21.284Z"
   },
   {
    "duration": 43,
    "start_time": "2023-04-27T15:07:22.074Z"
   },
   {
    "duration": 217,
    "start_time": "2023-04-27T15:07:22.119Z"
   },
   {
    "duration": 27,
    "start_time": "2023-04-27T15:07:22.338Z"
   },
   {
    "duration": 41,
    "start_time": "2023-04-27T15:07:22.366Z"
   },
   {
    "duration": 600,
    "start_time": "2023-04-27T15:07:22.409Z"
   },
   {
    "duration": 6,
    "start_time": "2023-04-27T15:07:23.011Z"
   },
   {
    "duration": 17,
    "start_time": "2023-04-27T15:07:23.019Z"
   },
   {
    "duration": 14,
    "start_time": "2023-04-27T15:07:23.038Z"
   },
   {
    "duration": 27,
    "start_time": "2023-04-27T15:07:23.054Z"
   },
   {
    "duration": 4,
    "start_time": "2023-04-27T15:07:23.083Z"
   },
   {
    "duration": 5,
    "start_time": "2023-04-27T15:07:23.089Z"
   },
   {
    "duration": 1502,
    "start_time": "2023-04-27T15:07:23.097Z"
   },
   {
    "duration": 1497,
    "start_time": "2023-04-27T15:07:24.601Z"
   },
   {
    "duration": 1499,
    "start_time": "2023-04-27T15:07:26.100Z"
   },
   {
    "duration": 5,
    "start_time": "2023-04-27T15:07:27.601Z"
   },
   {
    "duration": 568,
    "start_time": "2023-04-27T15:07:27.607Z"
   },
   {
    "duration": 629,
    "start_time": "2023-04-27T15:07:28.177Z"
   },
   {
    "duration": 3,
    "start_time": "2023-04-27T15:07:28.808Z"
   },
   {
    "duration": 20,
    "start_time": "2023-04-27T15:07:28.813Z"
   },
   {
    "duration": 29,
    "start_time": "2023-04-27T15:07:28.835Z"
   },
   {
    "duration": 1190,
    "start_time": "2023-04-27T15:07:28.866Z"
   },
   {
    "duration": 31,
    "start_time": "2023-04-27T15:07:30.058Z"
   },
   {
    "duration": 136,
    "start_time": "2023-04-27T15:07:30.091Z"
   },
   {
    "duration": 0,
    "start_time": "2023-04-27T15:07:30.228Z"
   },
   {
    "duration": 1,
    "start_time": "2023-04-27T15:07:30.229Z"
   },
   {
    "duration": 0,
    "start_time": "2023-04-27T15:07:30.230Z"
   },
   {
    "duration": 0,
    "start_time": "2023-04-27T15:07:30.231Z"
   },
   {
    "duration": 0,
    "start_time": "2023-04-27T15:07:30.232Z"
   },
   {
    "duration": 1317,
    "start_time": "2023-04-27T15:08:08.138Z"
   },
   {
    "duration": 792,
    "start_time": "2023-04-27T15:08:09.457Z"
   },
   {
    "duration": 45,
    "start_time": "2023-04-27T15:08:10.251Z"
   },
   {
    "duration": 240,
    "start_time": "2023-04-27T15:08:10.297Z"
   },
   {
    "duration": 33,
    "start_time": "2023-04-27T15:08:10.540Z"
   },
   {
    "duration": 50,
    "start_time": "2023-04-27T15:08:10.575Z"
   },
   {
    "duration": 627,
    "start_time": "2023-04-27T15:08:10.627Z"
   },
   {
    "duration": 5,
    "start_time": "2023-04-27T15:08:11.256Z"
   },
   {
    "duration": 9,
    "start_time": "2023-04-27T15:08:11.263Z"
   },
   {
    "duration": 5,
    "start_time": "2023-04-27T15:08:11.284Z"
   },
   {
    "duration": 30,
    "start_time": "2023-04-27T15:08:11.291Z"
   },
   {
    "duration": 17,
    "start_time": "2023-04-27T15:08:11.323Z"
   },
   {
    "duration": 7,
    "start_time": "2023-04-27T15:08:11.342Z"
   },
   {
    "duration": 1450,
    "start_time": "2023-04-27T15:08:11.352Z"
   },
   {
    "duration": 1561,
    "start_time": "2023-04-27T15:08:12.804Z"
   },
   {
    "duration": 1416,
    "start_time": "2023-04-27T15:08:14.367Z"
   },
   {
    "duration": 4,
    "start_time": "2023-04-27T15:08:15.784Z"
   },
   {
    "duration": 568,
    "start_time": "2023-04-27T15:08:15.790Z"
   },
   {
    "duration": 540,
    "start_time": "2023-04-27T15:08:16.360Z"
   },
   {
    "duration": 3,
    "start_time": "2023-04-27T15:08:16.901Z"
   },
   {
    "duration": 9,
    "start_time": "2023-04-27T15:08:16.906Z"
   },
   {
    "duration": 9,
    "start_time": "2023-04-27T15:08:16.917Z"
   },
   {
    "duration": 1225,
    "start_time": "2023-04-27T15:08:16.927Z"
   },
   {
    "duration": 35,
    "start_time": "2023-04-27T15:08:18.154Z"
   },
   {
    "duration": 170,
    "start_time": "2023-04-27T15:08:18.191Z"
   },
   {
    "duration": 0,
    "start_time": "2023-04-27T15:08:18.362Z"
   },
   {
    "duration": 0,
    "start_time": "2023-04-27T15:08:18.363Z"
   },
   {
    "duration": 0,
    "start_time": "2023-04-27T15:08:18.365Z"
   },
   {
    "duration": 0,
    "start_time": "2023-04-27T15:08:18.367Z"
   },
   {
    "duration": 0,
    "start_time": "2023-04-27T15:08:18.368Z"
   },
   {
    "duration": 1461,
    "start_time": "2023-04-27T15:10:36.165Z"
   },
   {
    "duration": 802,
    "start_time": "2023-04-27T15:10:37.628Z"
   },
   {
    "duration": 43,
    "start_time": "2023-04-27T15:10:38.433Z"
   },
   {
    "duration": 236,
    "start_time": "2023-04-27T15:10:38.477Z"
   },
   {
    "duration": 28,
    "start_time": "2023-04-27T15:10:38.716Z"
   },
   {
    "duration": 39,
    "start_time": "2023-04-27T15:10:38.746Z"
   },
   {
    "duration": 591,
    "start_time": "2023-04-27T15:10:38.787Z"
   },
   {
    "duration": 6,
    "start_time": "2023-04-27T15:10:39.384Z"
   },
   {
    "duration": 30,
    "start_time": "2023-04-27T15:10:39.391Z"
   },
   {
    "duration": 19,
    "start_time": "2023-04-27T15:10:39.422Z"
   },
   {
    "duration": 7,
    "start_time": "2023-04-27T15:10:39.442Z"
   },
   {
    "duration": 13,
    "start_time": "2023-04-27T15:10:39.451Z"
   },
   {
    "duration": 10,
    "start_time": "2023-04-27T15:10:39.465Z"
   },
   {
    "duration": 1422,
    "start_time": "2023-04-27T15:10:39.477Z"
   },
   {
    "duration": 1500,
    "start_time": "2023-04-27T15:10:40.901Z"
   },
   {
    "duration": 1491,
    "start_time": "2023-04-27T15:10:42.403Z"
   },
   {
    "duration": 5,
    "start_time": "2023-04-27T15:10:43.896Z"
   },
   {
    "duration": 602,
    "start_time": "2023-04-27T15:10:43.902Z"
   },
   {
    "duration": 618,
    "start_time": "2023-04-27T15:10:44.507Z"
   },
   {
    "duration": 3,
    "start_time": "2023-04-27T15:10:45.127Z"
   },
   {
    "duration": 25,
    "start_time": "2023-04-27T15:10:45.131Z"
   },
   {
    "duration": 27,
    "start_time": "2023-04-27T15:10:45.158Z"
   },
   {
    "duration": 1184,
    "start_time": "2023-04-27T15:10:45.186Z"
   },
   {
    "duration": 30,
    "start_time": "2023-04-27T15:10:46.371Z"
   },
   {
    "duration": 31,
    "start_time": "2023-04-27T15:10:46.403Z"
   },
   {
    "duration": 3,
    "start_time": "2023-04-27T15:10:46.437Z"
   },
   {
    "duration": 9,
    "start_time": "2023-04-27T15:10:46.441Z"
   },
   {
    "duration": 14,
    "start_time": "2023-04-27T15:10:46.451Z"
   },
   {
    "duration": 20,
    "start_time": "2023-04-27T15:10:46.466Z"
   },
   {
    "duration": 116,
    "start_time": "2023-04-27T15:10:46.488Z"
   },
   {
    "duration": 1370,
    "start_time": "2023-04-27T15:11:45.507Z"
   },
   {
    "duration": 802,
    "start_time": "2023-04-27T15:11:46.878Z"
   },
   {
    "duration": 41,
    "start_time": "2023-04-27T15:11:47.682Z"
   },
   {
    "duration": 207,
    "start_time": "2023-04-27T15:11:47.725Z"
   },
   {
    "duration": 28,
    "start_time": "2023-04-27T15:11:47.933Z"
   },
   {
    "duration": 39,
    "start_time": "2023-04-27T15:11:47.962Z"
   },
   {
    "duration": 603,
    "start_time": "2023-04-27T15:11:48.002Z"
   },
   {
    "duration": 5,
    "start_time": "2023-04-27T15:11:48.607Z"
   },
   {
    "duration": 16,
    "start_time": "2023-04-27T15:11:48.614Z"
   },
   {
    "duration": 5,
    "start_time": "2023-04-27T15:11:48.633Z"
   },
   {
    "duration": 8,
    "start_time": "2023-04-27T15:11:48.639Z"
   },
   {
    "duration": 7,
    "start_time": "2023-04-27T15:11:48.648Z"
   },
   {
    "duration": 14,
    "start_time": "2023-04-27T15:11:48.656Z"
   },
   {
    "duration": 1444,
    "start_time": "2023-04-27T15:11:48.672Z"
   },
   {
    "duration": 1596,
    "start_time": "2023-04-27T15:11:50.118Z"
   },
   {
    "duration": 1489,
    "start_time": "2023-04-27T15:11:51.715Z"
   },
   {
    "duration": 4,
    "start_time": "2023-04-27T15:11:53.205Z"
   },
   {
    "duration": 559,
    "start_time": "2023-04-27T15:11:53.211Z"
   },
   {
    "duration": 584,
    "start_time": "2023-04-27T15:11:53.772Z"
   },
   {
    "duration": 3,
    "start_time": "2023-04-27T15:11:54.358Z"
   },
   {
    "duration": 16,
    "start_time": "2023-04-27T15:11:54.363Z"
   },
   {
    "duration": 18,
    "start_time": "2023-04-27T15:11:54.381Z"
   },
   {
    "duration": 1161,
    "start_time": "2023-04-27T15:11:54.401Z"
   },
   {
    "duration": 43,
    "start_time": "2023-04-27T15:11:55.564Z"
   },
   {
    "duration": 141,
    "start_time": "2023-04-27T15:11:55.609Z"
   },
   {
    "duration": 0,
    "start_time": "2023-04-27T15:11:55.752Z"
   },
   {
    "duration": 0,
    "start_time": "2023-04-27T15:11:55.754Z"
   },
   {
    "duration": 0,
    "start_time": "2023-04-27T15:11:55.755Z"
   },
   {
    "duration": 0,
    "start_time": "2023-04-27T15:11:55.757Z"
   },
   {
    "duration": 0,
    "start_time": "2023-04-27T15:11:55.758Z"
   },
   {
    "duration": 4,
    "start_time": "2023-04-27T15:16:46.984Z"
   },
   {
    "duration": 1336,
    "start_time": "2023-04-27T15:27:35.331Z"
   },
   {
    "duration": 784,
    "start_time": "2023-04-27T15:27:36.669Z"
   },
   {
    "duration": 47,
    "start_time": "2023-04-27T15:27:37.455Z"
   },
   {
    "duration": 214,
    "start_time": "2023-04-27T15:27:37.504Z"
   },
   {
    "duration": 28,
    "start_time": "2023-04-27T15:27:37.719Z"
   },
   {
    "duration": 39,
    "start_time": "2023-04-27T15:27:37.749Z"
   },
   {
    "duration": 683,
    "start_time": "2023-04-27T15:27:37.790Z"
   },
   {
    "duration": 13,
    "start_time": "2023-04-27T15:27:38.475Z"
   },
   {
    "duration": 7,
    "start_time": "2023-04-27T15:27:38.490Z"
   },
   {
    "duration": 4,
    "start_time": "2023-04-27T15:27:38.500Z"
   },
   {
    "duration": 7,
    "start_time": "2023-04-27T15:27:38.506Z"
   },
   {
    "duration": 5,
    "start_time": "2023-04-27T15:27:38.515Z"
   },
   {
    "duration": 6,
    "start_time": "2023-04-27T15:27:38.522Z"
   },
   {
    "duration": 1576,
    "start_time": "2023-04-27T15:27:38.530Z"
   },
   {
    "duration": 1400,
    "start_time": "2023-04-27T15:27:40.108Z"
   },
   {
    "duration": 1502,
    "start_time": "2023-04-27T15:27:41.509Z"
   },
   {
    "duration": 4,
    "start_time": "2023-04-27T15:27:43.013Z"
   },
   {
    "duration": 540,
    "start_time": "2023-04-27T15:27:43.019Z"
   },
   {
    "duration": 607,
    "start_time": "2023-04-27T15:27:43.562Z"
   },
   {
    "duration": 3,
    "start_time": "2023-04-27T15:27:44.171Z"
   },
   {
    "duration": 16,
    "start_time": "2023-04-27T15:27:44.176Z"
   },
   {
    "duration": 12,
    "start_time": "2023-04-27T15:27:44.194Z"
   },
   {
    "duration": 1238,
    "start_time": "2023-04-27T15:27:44.208Z"
   },
   {
    "duration": 38,
    "start_time": "2023-04-27T15:27:45.447Z"
   },
   {
    "duration": 34,
    "start_time": "2023-04-27T15:27:45.487Z"
   },
   {
    "duration": 3,
    "start_time": "2023-04-27T15:27:45.522Z"
   },
   {
    "duration": 18,
    "start_time": "2023-04-27T15:27:45.526Z"
   },
   {
    "duration": 12,
    "start_time": "2023-04-27T15:27:45.547Z"
   },
   {
    "duration": 7,
    "start_time": "2023-04-27T15:27:45.560Z"
   },
   {
    "duration": 130,
    "start_time": "2023-04-27T15:27:45.569Z"
   },
   {
    "duration": 1441,
    "start_time": "2023-04-27T15:28:28.756Z"
   },
   {
    "duration": 808,
    "start_time": "2023-04-27T15:28:30.199Z"
   },
   {
    "duration": 45,
    "start_time": "2023-04-27T15:28:31.009Z"
   },
   {
    "duration": 229,
    "start_time": "2023-04-27T15:28:31.056Z"
   },
   {
    "duration": 31,
    "start_time": "2023-04-27T15:28:31.287Z"
   },
   {
    "duration": 39,
    "start_time": "2023-04-27T15:28:31.319Z"
   },
   {
    "duration": 633,
    "start_time": "2023-04-27T15:28:31.360Z"
   },
   {
    "duration": 5,
    "start_time": "2023-04-27T15:28:31.995Z"
   },
   {
    "duration": 16,
    "start_time": "2023-04-27T15:28:32.002Z"
   },
   {
    "duration": 11,
    "start_time": "2023-04-27T15:28:32.019Z"
   },
   {
    "duration": 12,
    "start_time": "2023-04-27T15:28:32.032Z"
   },
   {
    "duration": 7,
    "start_time": "2023-04-27T15:28:32.046Z"
   },
   {
    "duration": 7,
    "start_time": "2023-04-27T15:28:32.054Z"
   },
   {
    "duration": 1437,
    "start_time": "2023-04-27T15:28:32.065Z"
   },
   {
    "duration": 1519,
    "start_time": "2023-04-27T15:28:33.504Z"
   },
   {
    "duration": 1499,
    "start_time": "2023-04-27T15:28:35.025Z"
   },
   {
    "duration": 4,
    "start_time": "2023-04-27T15:28:36.525Z"
   },
   {
    "duration": 546,
    "start_time": "2023-04-27T15:28:36.531Z"
   },
   {
    "duration": 541,
    "start_time": "2023-04-27T15:28:37.078Z"
   },
   {
    "duration": 3,
    "start_time": "2023-04-27T15:28:37.620Z"
   },
   {
    "duration": 20,
    "start_time": "2023-04-27T15:28:37.625Z"
   },
   {
    "duration": 18,
    "start_time": "2023-04-27T15:28:37.647Z"
   },
   {
    "duration": 1192,
    "start_time": "2023-04-27T15:28:37.667Z"
   },
   {
    "duration": 31,
    "start_time": "2023-04-27T15:28:38.861Z"
   },
   {
    "duration": 26,
    "start_time": "2023-04-27T15:28:38.894Z"
   },
   {
    "duration": 3,
    "start_time": "2023-04-27T15:28:38.922Z"
   },
   {
    "duration": 8,
    "start_time": "2023-04-27T15:28:38.927Z"
   },
   {
    "duration": 10,
    "start_time": "2023-04-27T15:28:38.936Z"
   },
   {
    "duration": 4,
    "start_time": "2023-04-27T15:28:38.947Z"
   },
   {
    "duration": 136,
    "start_time": "2023-04-27T15:28:38.952Z"
   },
   {
    "duration": 1411,
    "start_time": "2023-04-27T15:29:22.201Z"
   },
   {
    "duration": 900,
    "start_time": "2023-04-27T15:29:23.614Z"
   },
   {
    "duration": 45,
    "start_time": "2023-04-27T15:29:24.516Z"
   },
   {
    "duration": 254,
    "start_time": "2023-04-27T15:29:24.563Z"
   },
   {
    "duration": 32,
    "start_time": "2023-04-27T15:29:24.820Z"
   },
   {
    "duration": 48,
    "start_time": "2023-04-27T15:29:24.853Z"
   },
   {
    "duration": 625,
    "start_time": "2023-04-27T15:29:24.902Z"
   },
   {
    "duration": 6,
    "start_time": "2023-04-27T15:29:25.529Z"
   },
   {
    "duration": 9,
    "start_time": "2023-04-27T15:29:25.536Z"
   },
   {
    "duration": 8,
    "start_time": "2023-04-27T15:29:25.547Z"
   },
   {
    "duration": 7,
    "start_time": "2023-04-27T15:29:25.556Z"
   },
   {
    "duration": 19,
    "start_time": "2023-04-27T15:29:25.565Z"
   },
   {
    "duration": 6,
    "start_time": "2023-04-27T15:29:25.586Z"
   },
   {
    "duration": 1458,
    "start_time": "2023-04-27T15:29:25.594Z"
   },
   {
    "duration": 1576,
    "start_time": "2023-04-27T15:29:27.054Z"
   },
   {
    "duration": 1472,
    "start_time": "2023-04-27T15:29:28.632Z"
   },
   {
    "duration": 5,
    "start_time": "2023-04-27T15:29:30.105Z"
   },
   {
    "duration": 584,
    "start_time": "2023-04-27T15:29:30.112Z"
   },
   {
    "duration": 608,
    "start_time": "2023-04-27T15:29:30.698Z"
   },
   {
    "duration": 2,
    "start_time": "2023-04-27T15:29:31.308Z"
   },
   {
    "duration": 50,
    "start_time": "2023-04-27T15:29:31.312Z"
   },
   {
    "duration": 62,
    "start_time": "2023-04-27T15:29:31.364Z"
   },
   {
    "duration": 1339,
    "start_time": "2023-04-27T15:29:31.427Z"
   },
   {
    "duration": 32,
    "start_time": "2023-04-27T15:29:32.768Z"
   },
   {
    "duration": 23,
    "start_time": "2023-04-27T15:29:32.802Z"
   },
   {
    "duration": 4,
    "start_time": "2023-04-27T15:29:32.826Z"
   },
   {
    "duration": 4,
    "start_time": "2023-04-27T15:29:32.831Z"
   },
   {
    "duration": 9,
    "start_time": "2023-04-27T15:29:32.837Z"
   },
   {
    "duration": 40,
    "start_time": "2023-04-27T15:29:32.848Z"
   },
   {
    "duration": 129,
    "start_time": "2023-04-27T15:29:32.889Z"
   },
   {
    "duration": 1383,
    "start_time": "2023-04-27T15:29:54.896Z"
   },
   {
    "duration": 810,
    "start_time": "2023-04-27T15:29:56.281Z"
   },
   {
    "duration": 45,
    "start_time": "2023-04-27T15:29:57.093Z"
   },
   {
    "duration": 232,
    "start_time": "2023-04-27T15:29:57.139Z"
   },
   {
    "duration": 39,
    "start_time": "2023-04-27T15:29:57.373Z"
   },
   {
    "duration": 30,
    "start_time": "2023-04-27T15:29:57.414Z"
   },
   {
    "duration": 635,
    "start_time": "2023-04-27T15:29:57.445Z"
   },
   {
    "duration": 5,
    "start_time": "2023-04-27T15:29:58.082Z"
   },
   {
    "duration": 9,
    "start_time": "2023-04-27T15:29:58.089Z"
   },
   {
    "duration": 7,
    "start_time": "2023-04-27T15:29:58.100Z"
   },
   {
    "duration": 6,
    "start_time": "2023-04-27T15:29:58.108Z"
   },
   {
    "duration": 12,
    "start_time": "2023-04-27T15:29:58.115Z"
   },
   {
    "duration": 8,
    "start_time": "2023-04-27T15:29:58.129Z"
   },
   {
    "duration": 1579,
    "start_time": "2023-04-27T15:29:58.139Z"
   },
   {
    "duration": 1602,
    "start_time": "2023-04-27T15:29:59.719Z"
   },
   {
    "duration": 1467,
    "start_time": "2023-04-27T15:30:01.322Z"
   },
   {
    "duration": 4,
    "start_time": "2023-04-27T15:30:02.791Z"
   },
   {
    "duration": 590,
    "start_time": "2023-04-27T15:30:02.797Z"
   },
   {
    "duration": 512,
    "start_time": "2023-04-27T15:30:03.389Z"
   },
   {
    "duration": 2,
    "start_time": "2023-04-27T15:30:03.903Z"
   },
   {
    "duration": 6,
    "start_time": "2023-04-27T15:30:03.907Z"
   },
   {
    "duration": 22,
    "start_time": "2023-04-27T15:30:03.915Z"
   },
   {
    "duration": 1332,
    "start_time": "2023-04-27T15:30:03.940Z"
   },
   {
    "duration": 27,
    "start_time": "2023-04-27T15:30:05.274Z"
   },
   {
    "duration": 28,
    "start_time": "2023-04-27T15:30:05.302Z"
   },
   {
    "duration": 6,
    "start_time": "2023-04-27T15:30:05.332Z"
   },
   {
    "duration": 23,
    "start_time": "2023-04-27T15:30:05.339Z"
   },
   {
    "duration": 29,
    "start_time": "2023-04-27T15:30:05.364Z"
   },
   {
    "duration": 7,
    "start_time": "2023-04-27T15:30:05.395Z"
   },
   {
    "duration": 139,
    "start_time": "2023-04-27T15:30:05.404Z"
   },
   {
    "duration": 1545,
    "start_time": "2023-04-27T15:30:29.520Z"
   },
   {
    "duration": 832,
    "start_time": "2023-04-27T15:30:31.067Z"
   },
   {
    "duration": 43,
    "start_time": "2023-04-27T15:30:31.901Z"
   },
   {
    "duration": 225,
    "start_time": "2023-04-27T15:30:31.946Z"
   },
   {
    "duration": 35,
    "start_time": "2023-04-27T15:30:32.173Z"
   },
   {
    "duration": 29,
    "start_time": "2023-04-27T15:30:32.210Z"
   },
   {
    "duration": 668,
    "start_time": "2023-04-27T15:30:32.241Z"
   },
   {
    "duration": 5,
    "start_time": "2023-04-27T15:30:32.911Z"
   },
   {
    "duration": 9,
    "start_time": "2023-04-27T15:30:32.917Z"
   },
   {
    "duration": 5,
    "start_time": "2023-04-27T15:30:32.928Z"
   },
   {
    "duration": 6,
    "start_time": "2023-04-27T15:30:32.935Z"
   },
   {
    "duration": 5,
    "start_time": "2023-04-27T15:30:32.942Z"
   },
   {
    "duration": 38,
    "start_time": "2023-04-27T15:30:32.949Z"
   },
   {
    "duration": 1557,
    "start_time": "2023-04-27T15:30:32.990Z"
   },
   {
    "duration": 1571,
    "start_time": "2023-04-27T15:30:34.548Z"
   },
   {
    "duration": 1479,
    "start_time": "2023-04-27T15:30:36.121Z"
   },
   {
    "duration": 5,
    "start_time": "2023-04-27T15:30:37.602Z"
   },
   {
    "duration": 572,
    "start_time": "2023-04-27T15:30:37.609Z"
   },
   {
    "duration": 514,
    "start_time": "2023-04-27T15:30:38.183Z"
   },
   {
    "duration": 3,
    "start_time": "2023-04-27T15:30:38.699Z"
   },
   {
    "duration": 20,
    "start_time": "2023-04-27T15:30:38.703Z"
   },
   {
    "duration": 14,
    "start_time": "2023-04-27T15:30:38.725Z"
   },
   {
    "duration": 1217,
    "start_time": "2023-04-27T15:30:38.740Z"
   },
   {
    "duration": 33,
    "start_time": "2023-04-27T15:30:39.958Z"
   },
   {
    "duration": 38,
    "start_time": "2023-04-27T15:30:39.992Z"
   },
   {
    "duration": 4,
    "start_time": "2023-04-27T15:30:40.032Z"
   },
   {
    "duration": 15,
    "start_time": "2023-04-27T15:30:40.038Z"
   },
   {
    "duration": 14,
    "start_time": "2023-04-27T15:30:40.054Z"
   },
   {
    "duration": 16,
    "start_time": "2023-04-27T15:30:40.070Z"
   },
   {
    "duration": 120,
    "start_time": "2023-04-27T15:30:40.088Z"
   },
   {
    "duration": 1395,
    "start_time": "2023-04-27T15:46:16.605Z"
   },
   {
    "duration": 861,
    "start_time": "2023-04-27T15:46:18.002Z"
   },
   {
    "duration": 51,
    "start_time": "2023-04-27T15:46:18.865Z"
   },
   {
    "duration": 221,
    "start_time": "2023-04-27T15:46:18.918Z"
   },
   {
    "duration": 28,
    "start_time": "2023-04-27T15:46:19.141Z"
   },
   {
    "duration": 49,
    "start_time": "2023-04-27T15:46:19.171Z"
   },
   {
    "duration": 630,
    "start_time": "2023-04-27T15:46:19.221Z"
   },
   {
    "duration": 5,
    "start_time": "2023-04-27T15:46:19.853Z"
   },
   {
    "duration": 19,
    "start_time": "2023-04-27T15:46:19.859Z"
   },
   {
    "duration": 17,
    "start_time": "2023-04-27T15:46:19.885Z"
   },
   {
    "duration": 14,
    "start_time": "2023-04-27T15:46:19.904Z"
   },
   {
    "duration": 13,
    "start_time": "2023-04-27T15:46:19.920Z"
   },
   {
    "duration": 7,
    "start_time": "2023-04-27T15:46:19.936Z"
   },
   {
    "duration": 1463,
    "start_time": "2023-04-27T15:46:19.947Z"
   },
   {
    "duration": 1469,
    "start_time": "2023-04-27T15:46:21.411Z"
   },
   {
    "duration": 1471,
    "start_time": "2023-04-27T15:46:22.882Z"
   },
   {
    "duration": 4,
    "start_time": "2023-04-27T15:46:24.355Z"
   },
   {
    "duration": 537,
    "start_time": "2023-04-27T15:46:24.361Z"
   },
   {
    "duration": 517,
    "start_time": "2023-04-27T15:46:24.899Z"
   },
   {
    "duration": 2,
    "start_time": "2023-04-27T15:46:25.418Z"
   },
   {
    "duration": 4,
    "start_time": "2023-04-27T15:46:25.422Z"
   },
   {
    "duration": 13,
    "start_time": "2023-04-27T15:46:25.428Z"
   },
   {
    "duration": 1254,
    "start_time": "2023-04-27T15:46:25.443Z"
   },
   {
    "duration": 26,
    "start_time": "2023-04-27T15:46:26.700Z"
   },
   {
    "duration": 159,
    "start_time": "2023-04-27T15:46:26.728Z"
   },
   {
    "duration": 0,
    "start_time": "2023-04-27T15:46:26.889Z"
   },
   {
    "duration": 0,
    "start_time": "2023-04-27T15:46:26.889Z"
   },
   {
    "duration": 0,
    "start_time": "2023-04-27T15:46:26.890Z"
   },
   {
    "duration": 0,
    "start_time": "2023-04-27T15:46:26.891Z"
   },
   {
    "duration": 0,
    "start_time": "2023-04-27T15:46:26.892Z"
   },
   {
    "duration": 1462,
    "start_time": "2023-04-27T15:48:36.608Z"
   },
   {
    "duration": 851,
    "start_time": "2023-04-27T15:48:38.072Z"
   },
   {
    "duration": 42,
    "start_time": "2023-04-27T15:48:38.925Z"
   },
   {
    "duration": 244,
    "start_time": "2023-04-27T15:48:38.969Z"
   },
   {
    "duration": 29,
    "start_time": "2023-04-27T15:48:39.214Z"
   },
   {
    "duration": 26,
    "start_time": "2023-04-27T15:48:39.245Z"
   },
   {
    "duration": 658,
    "start_time": "2023-04-27T15:48:39.285Z"
   },
   {
    "duration": 5,
    "start_time": "2023-04-27T15:48:39.945Z"
   },
   {
    "duration": 8,
    "start_time": "2023-04-27T15:48:39.952Z"
   },
   {
    "duration": 5,
    "start_time": "2023-04-27T15:48:39.962Z"
   },
   {
    "duration": 22,
    "start_time": "2023-04-27T15:48:39.968Z"
   },
   {
    "duration": 8,
    "start_time": "2023-04-27T15:48:39.992Z"
   },
   {
    "duration": 12,
    "start_time": "2023-04-27T15:48:40.002Z"
   },
   {
    "duration": 1520,
    "start_time": "2023-04-27T15:48:40.016Z"
   },
   {
    "duration": 1633,
    "start_time": "2023-04-27T15:48:41.538Z"
   },
   {
    "duration": 1476,
    "start_time": "2023-04-27T15:48:43.172Z"
   },
   {
    "duration": 4,
    "start_time": "2023-04-27T15:48:44.650Z"
   },
   {
    "duration": 564,
    "start_time": "2023-04-27T15:48:44.656Z"
   },
   {
    "duration": 617,
    "start_time": "2023-04-27T15:48:45.222Z"
   },
   {
    "duration": 2,
    "start_time": "2023-04-27T15:48:45.842Z"
   },
   {
    "duration": 21,
    "start_time": "2023-04-27T15:48:45.846Z"
   },
   {
    "duration": 18,
    "start_time": "2023-04-27T15:48:45.869Z"
   },
   {
    "duration": 1229,
    "start_time": "2023-04-27T15:48:45.890Z"
   },
   {
    "duration": 25,
    "start_time": "2023-04-27T15:48:47.121Z"
   },
   {
    "duration": 158,
    "start_time": "2023-04-27T15:48:47.148Z"
   },
   {
    "duration": 0,
    "start_time": "2023-04-27T15:48:47.309Z"
   },
   {
    "duration": 0,
    "start_time": "2023-04-27T15:48:47.310Z"
   },
   {
    "duration": 0,
    "start_time": "2023-04-27T15:48:47.312Z"
   },
   {
    "duration": 0,
    "start_time": "2023-04-27T15:48:47.314Z"
   },
   {
    "duration": 0,
    "start_time": "2023-04-27T15:48:47.315Z"
   },
   {
    "duration": 37,
    "start_time": "2023-04-27T15:56:57.624Z"
   },
   {
    "duration": 1532,
    "start_time": "2023-04-27T15:57:02.969Z"
   },
   {
    "duration": 817,
    "start_time": "2023-04-27T15:57:04.503Z"
   },
   {
    "duration": 42,
    "start_time": "2023-04-27T15:57:05.321Z"
   },
   {
    "duration": 245,
    "start_time": "2023-04-27T15:57:05.364Z"
   },
   {
    "duration": 30,
    "start_time": "2023-04-27T15:57:05.611Z"
   },
   {
    "duration": 46,
    "start_time": "2023-04-27T15:57:05.643Z"
   },
   {
    "duration": 665,
    "start_time": "2023-04-27T15:57:05.691Z"
   },
   {
    "duration": 5,
    "start_time": "2023-04-27T15:57:06.358Z"
   },
   {
    "duration": 24,
    "start_time": "2023-04-27T15:57:06.365Z"
   },
   {
    "duration": 9,
    "start_time": "2023-04-27T15:57:06.392Z"
   },
   {
    "duration": 7,
    "start_time": "2023-04-27T15:57:06.403Z"
   },
   {
    "duration": 5,
    "start_time": "2023-04-27T15:57:06.411Z"
   },
   {
    "duration": 6,
    "start_time": "2023-04-27T15:57:06.418Z"
   },
   {
    "duration": 1519,
    "start_time": "2023-04-27T15:57:06.428Z"
   },
   {
    "duration": 1576,
    "start_time": "2023-04-27T15:57:07.949Z"
   },
   {
    "duration": 1485,
    "start_time": "2023-04-27T15:57:09.527Z"
   },
   {
    "duration": 4,
    "start_time": "2023-04-27T15:57:11.014Z"
   },
   {
    "duration": 704,
    "start_time": "2023-04-27T15:57:11.020Z"
   },
   {
    "duration": 677,
    "start_time": "2023-04-27T15:57:11.727Z"
   },
   {
    "duration": 3,
    "start_time": "2023-04-27T15:57:12.406Z"
   },
   {
    "duration": 4,
    "start_time": "2023-04-27T15:57:12.411Z"
   },
   {
    "duration": 10,
    "start_time": "2023-04-27T15:57:12.416Z"
   },
   {
    "duration": 1262,
    "start_time": "2023-04-27T15:57:12.428Z"
   },
   {
    "duration": 28,
    "start_time": "2023-04-27T15:57:13.692Z"
   },
   {
    "duration": 175,
    "start_time": "2023-04-27T15:57:13.722Z"
   },
   {
    "duration": 0,
    "start_time": "2023-04-27T15:57:13.899Z"
   },
   {
    "duration": 0,
    "start_time": "2023-04-27T15:57:13.901Z"
   },
   {
    "duration": 0,
    "start_time": "2023-04-27T15:57:13.902Z"
   },
   {
    "duration": 0,
    "start_time": "2023-04-27T15:57:13.903Z"
   },
   {
    "duration": 0,
    "start_time": "2023-04-27T15:57:13.904Z"
   },
   {
    "duration": 1476,
    "start_time": "2023-04-27T16:26:09.761Z"
   },
   {
    "duration": 861,
    "start_time": "2023-04-27T16:26:11.240Z"
   },
   {
    "duration": 49,
    "start_time": "2023-04-27T16:26:12.103Z"
   },
   {
    "duration": 267,
    "start_time": "2023-04-27T16:26:12.155Z"
   },
   {
    "duration": 35,
    "start_time": "2023-04-27T16:26:12.425Z"
   },
   {
    "duration": 52,
    "start_time": "2023-04-27T16:26:12.462Z"
   },
   {
    "duration": 664,
    "start_time": "2023-04-27T16:26:12.515Z"
   },
   {
    "duration": 10,
    "start_time": "2023-04-27T16:26:13.184Z"
   },
   {
    "duration": 10,
    "start_time": "2023-04-27T16:26:13.197Z"
   },
   {
    "duration": 15,
    "start_time": "2023-04-27T16:26:13.208Z"
   },
   {
    "duration": 12,
    "start_time": "2023-04-27T16:26:13.225Z"
   },
   {
    "duration": 45,
    "start_time": "2023-04-27T16:26:13.238Z"
   },
   {
    "duration": 29,
    "start_time": "2023-04-27T16:26:13.285Z"
   },
   {
    "duration": 1499,
    "start_time": "2023-04-27T16:26:13.316Z"
   },
   {
    "duration": 1512,
    "start_time": "2023-04-27T16:26:14.817Z"
   },
   {
    "duration": 1495,
    "start_time": "2023-04-27T16:26:16.331Z"
   },
   {
    "duration": 6,
    "start_time": "2023-04-27T16:26:17.828Z"
   },
   {
    "duration": 696,
    "start_time": "2023-04-27T16:26:17.835Z"
   },
   {
    "duration": 747,
    "start_time": "2023-04-27T16:26:18.536Z"
   },
   {
    "duration": 5,
    "start_time": "2023-04-27T16:26:19.285Z"
   },
   {
    "duration": 5,
    "start_time": "2023-04-27T16:26:19.292Z"
   },
   {
    "duration": 10,
    "start_time": "2023-04-27T16:26:19.300Z"
   },
   {
    "duration": 1397,
    "start_time": "2023-04-27T16:26:19.312Z"
   },
   {
    "duration": 26,
    "start_time": "2023-04-27T16:26:20.710Z"
   },
   {
    "duration": 190,
    "start_time": "2023-04-27T16:26:20.738Z"
   },
   {
    "duration": 0,
    "start_time": "2023-04-27T16:26:20.930Z"
   },
   {
    "duration": 0,
    "start_time": "2023-04-27T16:26:20.931Z"
   },
   {
    "duration": 0,
    "start_time": "2023-04-27T16:26:20.932Z"
   },
   {
    "duration": 0,
    "start_time": "2023-04-27T16:26:20.933Z"
   },
   {
    "duration": 0,
    "start_time": "2023-04-27T16:26:20.935Z"
   },
   {
    "duration": 1394,
    "start_time": "2023-04-27T16:27:00.932Z"
   },
   {
    "duration": 830,
    "start_time": "2023-04-27T16:27:02.328Z"
   },
   {
    "duration": 52,
    "start_time": "2023-04-27T16:27:03.160Z"
   },
   {
    "duration": 220,
    "start_time": "2023-04-27T16:27:03.214Z"
   },
   {
    "duration": 29,
    "start_time": "2023-04-27T16:27:03.437Z"
   },
   {
    "duration": 32,
    "start_time": "2023-04-27T16:27:03.485Z"
   },
   {
    "duration": 719,
    "start_time": "2023-04-27T16:27:03.519Z"
   },
   {
    "duration": 5,
    "start_time": "2023-04-27T16:27:04.240Z"
   },
   {
    "duration": 13,
    "start_time": "2023-04-27T16:27:04.247Z"
   },
   {
    "duration": 5,
    "start_time": "2023-04-27T16:27:04.262Z"
   },
   {
    "duration": 25,
    "start_time": "2023-04-27T16:27:04.269Z"
   },
   {
    "duration": 3,
    "start_time": "2023-04-27T16:27:04.297Z"
   },
   {
    "duration": 6,
    "start_time": "2023-04-27T16:27:04.302Z"
   },
   {
    "duration": 1513,
    "start_time": "2023-04-27T16:27:04.310Z"
   },
   {
    "duration": 1612,
    "start_time": "2023-04-27T16:27:05.824Z"
   },
   {
    "duration": 1479,
    "start_time": "2023-04-27T16:27:07.438Z"
   },
   {
    "duration": 4,
    "start_time": "2023-04-27T16:27:08.919Z"
   },
   {
    "duration": 577,
    "start_time": "2023-04-27T16:27:08.924Z"
   },
   {
    "duration": 628,
    "start_time": "2023-04-27T16:27:09.503Z"
   },
   {
    "duration": 3,
    "start_time": "2023-04-27T16:27:10.133Z"
   },
   {
    "duration": 4,
    "start_time": "2023-04-27T16:27:10.138Z"
   },
   {
    "duration": 9,
    "start_time": "2023-04-27T16:27:10.143Z"
   },
   {
    "duration": 1324,
    "start_time": "2023-04-27T16:27:10.154Z"
   },
   {
    "duration": 36,
    "start_time": "2023-04-27T16:27:11.480Z"
   },
   {
    "duration": 156,
    "start_time": "2023-04-27T16:27:11.518Z"
   },
   {
    "duration": 0,
    "start_time": "2023-04-27T16:27:11.676Z"
   },
   {
    "duration": 0,
    "start_time": "2023-04-27T16:27:11.686Z"
   },
   {
    "duration": 0,
    "start_time": "2023-04-27T16:27:11.687Z"
   },
   {
    "duration": 0,
    "start_time": "2023-04-27T16:27:11.689Z"
   },
   {
    "duration": 0,
    "start_time": "2023-04-27T16:27:11.690Z"
   },
   {
    "duration": 1387,
    "start_time": "2023-04-27T16:28:04.736Z"
   },
   {
    "duration": 817,
    "start_time": "2023-04-27T16:28:06.125Z"
   },
   {
    "duration": 51,
    "start_time": "2023-04-27T16:28:06.944Z"
   },
   {
    "duration": 232,
    "start_time": "2023-04-27T16:28:06.997Z"
   },
   {
    "duration": 27,
    "start_time": "2023-04-27T16:28:07.231Z"
   },
   {
    "duration": 47,
    "start_time": "2023-04-27T16:28:07.260Z"
   },
   {
    "duration": 642,
    "start_time": "2023-04-27T16:28:07.309Z"
   },
   {
    "duration": 5,
    "start_time": "2023-04-27T16:28:07.953Z"
   },
   {
    "duration": 8,
    "start_time": "2023-04-27T16:28:07.960Z"
   },
   {
    "duration": 18,
    "start_time": "2023-04-27T16:28:07.969Z"
   },
   {
    "duration": 7,
    "start_time": "2023-04-27T16:28:07.990Z"
   },
   {
    "duration": 3,
    "start_time": "2023-04-27T16:28:08.000Z"
   },
   {
    "duration": 6,
    "start_time": "2023-04-27T16:28:08.005Z"
   },
   {
    "duration": 1512,
    "start_time": "2023-04-27T16:28:08.014Z"
   },
   {
    "duration": 1624,
    "start_time": "2023-04-27T16:28:09.528Z"
   },
   {
    "duration": 1490,
    "start_time": "2023-04-27T16:28:11.154Z"
   },
   {
    "duration": 4,
    "start_time": "2023-04-27T16:28:12.646Z"
   },
   {
    "duration": 550,
    "start_time": "2023-04-27T16:28:12.652Z"
   },
   {
    "duration": 619,
    "start_time": "2023-04-27T16:28:13.204Z"
   },
   {
    "duration": 3,
    "start_time": "2023-04-27T16:28:13.824Z"
   },
   {
    "duration": 9,
    "start_time": "2023-04-27T16:28:13.828Z"
   },
   {
    "duration": 8,
    "start_time": "2023-04-27T16:28:13.839Z"
   },
   {
    "duration": 1228,
    "start_time": "2023-04-27T16:28:13.848Z"
   },
   {
    "duration": 37,
    "start_time": "2023-04-27T16:28:15.077Z"
   },
   {
    "duration": 31,
    "start_time": "2023-04-27T16:28:15.116Z"
   },
   {
    "duration": 3,
    "start_time": "2023-04-27T16:28:15.149Z"
   },
   {
    "duration": 4,
    "start_time": "2023-04-27T16:28:15.153Z"
   },
   {
    "duration": 34,
    "start_time": "2023-04-27T16:28:15.158Z"
   },
   {
    "duration": 6,
    "start_time": "2023-04-27T16:28:15.195Z"
   },
   {
    "duration": 132,
    "start_time": "2023-04-27T16:28:15.203Z"
   },
   {
    "duration": 1448,
    "start_time": "2023-04-27T16:29:09.971Z"
   },
   {
    "duration": 810,
    "start_time": "2023-04-27T16:29:11.421Z"
   },
   {
    "duration": 40,
    "start_time": "2023-04-27T16:29:12.233Z"
   },
   {
    "duration": 232,
    "start_time": "2023-04-27T16:29:12.275Z"
   },
   {
    "duration": 27,
    "start_time": "2023-04-27T16:29:12.510Z"
   },
   {
    "duration": 25,
    "start_time": "2023-04-27T16:29:12.538Z"
   },
   {
    "duration": 649,
    "start_time": "2023-04-27T16:29:12.565Z"
   },
   {
    "duration": 6,
    "start_time": "2023-04-27T16:29:13.216Z"
   },
   {
    "duration": 7,
    "start_time": "2023-04-27T16:29:13.224Z"
   },
   {
    "duration": 6,
    "start_time": "2023-04-27T16:29:13.232Z"
   },
   {
    "duration": 12,
    "start_time": "2023-04-27T16:29:13.240Z"
   },
   {
    "duration": 18,
    "start_time": "2023-04-27T16:29:13.253Z"
   },
   {
    "duration": 14,
    "start_time": "2023-04-27T16:29:13.272Z"
   },
   {
    "duration": 1540,
    "start_time": "2023-04-27T16:29:13.291Z"
   },
   {
    "duration": 1607,
    "start_time": "2023-04-27T16:29:14.833Z"
   },
   {
    "duration": 1485,
    "start_time": "2023-04-27T16:29:16.442Z"
   },
   {
    "duration": 4,
    "start_time": "2023-04-27T16:29:17.929Z"
   },
   {
    "duration": 609,
    "start_time": "2023-04-27T16:29:17.934Z"
   },
   {
    "duration": 581,
    "start_time": "2023-04-27T16:29:18.545Z"
   },
   {
    "duration": 3,
    "start_time": "2023-04-27T16:29:19.127Z"
   },
   {
    "duration": 8,
    "start_time": "2023-04-27T16:29:19.131Z"
   },
   {
    "duration": 11,
    "start_time": "2023-04-27T16:29:19.140Z"
   },
   {
    "duration": 1211,
    "start_time": "2023-04-27T16:29:19.153Z"
   },
   {
    "duration": 38,
    "start_time": "2023-04-27T16:29:20.365Z"
   },
   {
    "duration": 21,
    "start_time": "2023-04-27T16:29:20.405Z"
   },
   {
    "duration": 4,
    "start_time": "2023-04-27T16:29:20.428Z"
   },
   {
    "duration": 3,
    "start_time": "2023-04-27T16:29:20.434Z"
   },
   {
    "duration": 14,
    "start_time": "2023-04-27T16:29:20.439Z"
   },
   {
    "duration": 14,
    "start_time": "2023-04-27T16:29:20.455Z"
   },
   {
    "duration": 144,
    "start_time": "2023-04-27T16:29:20.485Z"
   },
   {
    "duration": 5,
    "start_time": "2023-04-27T16:31:04.507Z"
   },
   {
    "duration": 1534,
    "start_time": "2023-04-27T16:31:12.770Z"
   },
   {
    "duration": 841,
    "start_time": "2023-04-27T16:31:14.307Z"
   },
   {
    "duration": 53,
    "start_time": "2023-04-27T16:31:15.150Z"
   },
   {
    "duration": 221,
    "start_time": "2023-04-27T16:31:15.205Z"
   },
   {
    "duration": 27,
    "start_time": "2023-04-27T16:31:15.428Z"
   },
   {
    "duration": 52,
    "start_time": "2023-04-27T16:31:15.457Z"
   },
   {
    "duration": 640,
    "start_time": "2023-04-27T16:31:15.511Z"
   },
   {
    "duration": 6,
    "start_time": "2023-04-27T16:31:16.154Z"
   },
   {
    "duration": 26,
    "start_time": "2023-04-27T16:31:16.162Z"
   },
   {
    "duration": 11,
    "start_time": "2023-04-27T16:31:16.191Z"
   },
   {
    "duration": 12,
    "start_time": "2023-04-27T16:31:16.203Z"
   },
   {
    "duration": 5,
    "start_time": "2023-04-27T16:31:16.217Z"
   },
   {
    "duration": 10,
    "start_time": "2023-04-27T16:31:16.224Z"
   },
   {
    "duration": 1494,
    "start_time": "2023-04-27T16:31:16.236Z"
   },
   {
    "duration": 1604,
    "start_time": "2023-04-27T16:31:17.732Z"
   },
   {
    "duration": 1474,
    "start_time": "2023-04-27T16:31:19.337Z"
   },
   {
    "duration": 4,
    "start_time": "2023-04-27T16:31:20.813Z"
   },
   {
    "duration": 585,
    "start_time": "2023-04-27T16:31:20.818Z"
   },
   {
    "duration": 622,
    "start_time": "2023-04-27T16:31:21.405Z"
   },
   {
    "duration": 2,
    "start_time": "2023-04-27T16:31:22.029Z"
   },
   {
    "duration": 7,
    "start_time": "2023-04-27T16:31:22.033Z"
   },
   {
    "duration": 11,
    "start_time": "2023-04-27T16:31:22.041Z"
   },
   {
    "duration": 1244,
    "start_time": "2023-04-27T16:31:22.054Z"
   },
   {
    "duration": 26,
    "start_time": "2023-04-27T16:31:23.300Z"
   },
   {
    "duration": 21,
    "start_time": "2023-04-27T16:31:23.328Z"
   },
   {
    "duration": 5,
    "start_time": "2023-04-27T16:31:23.351Z"
   },
   {
    "duration": 18,
    "start_time": "2023-04-27T16:31:23.357Z"
   },
   {
    "duration": 14,
    "start_time": "2023-04-27T16:31:23.387Z"
   },
   {
    "duration": 9,
    "start_time": "2023-04-27T16:31:23.403Z"
   },
   {
    "duration": 4,
    "start_time": "2023-04-27T16:31:23.414Z"
   },
   {
    "duration": 137,
    "start_time": "2023-04-27T16:31:23.420Z"
   },
   {
    "duration": 1525,
    "start_time": "2023-04-27T16:31:52.728Z"
   },
   {
    "duration": 880,
    "start_time": "2023-04-27T16:31:54.256Z"
   },
   {
    "duration": 60,
    "start_time": "2023-04-27T16:31:55.138Z"
   },
   {
    "duration": 226,
    "start_time": "2023-04-27T16:31:55.200Z"
   },
   {
    "duration": 30,
    "start_time": "2023-04-27T16:31:55.428Z"
   },
   {
    "duration": 49,
    "start_time": "2023-04-27T16:31:55.460Z"
   },
   {
    "duration": 644,
    "start_time": "2023-04-27T16:31:55.511Z"
   },
   {
    "duration": 5,
    "start_time": "2023-04-27T16:31:56.157Z"
   },
   {
    "duration": 21,
    "start_time": "2023-04-27T16:31:56.164Z"
   },
   {
    "duration": 27,
    "start_time": "2023-04-27T16:31:56.189Z"
   },
   {
    "duration": 25,
    "start_time": "2023-04-27T16:31:56.218Z"
   },
   {
    "duration": 20,
    "start_time": "2023-04-27T16:31:56.245Z"
   },
   {
    "duration": 15,
    "start_time": "2023-04-27T16:31:56.267Z"
   },
   {
    "duration": 1553,
    "start_time": "2023-04-27T16:31:56.286Z"
   },
   {
    "duration": 1592,
    "start_time": "2023-04-27T16:31:57.840Z"
   },
   {
    "duration": 1492,
    "start_time": "2023-04-27T16:31:59.434Z"
   },
   {
    "duration": 4,
    "start_time": "2023-04-27T16:32:00.927Z"
   },
   {
    "duration": 586,
    "start_time": "2023-04-27T16:32:00.933Z"
   },
   {
    "duration": 607,
    "start_time": "2023-04-27T16:32:01.521Z"
   },
   {
    "duration": 2,
    "start_time": "2023-04-27T16:32:02.130Z"
   },
   {
    "duration": 30,
    "start_time": "2023-04-27T16:32:02.134Z"
   },
   {
    "duration": 36,
    "start_time": "2023-04-27T16:32:02.165Z"
   },
   {
    "duration": 1277,
    "start_time": "2023-04-27T16:32:02.203Z"
   },
   {
    "duration": 32,
    "start_time": "2023-04-27T16:32:03.481Z"
   },
   {
    "duration": 30,
    "start_time": "2023-04-27T16:32:03.514Z"
   },
   {
    "duration": 4,
    "start_time": "2023-04-27T16:32:03.546Z"
   },
   {
    "duration": 15,
    "start_time": "2023-04-27T16:32:03.551Z"
   },
   {
    "duration": 23,
    "start_time": "2023-04-27T16:32:03.568Z"
   },
   {
    "duration": 18,
    "start_time": "2023-04-27T16:32:03.595Z"
   },
   {
    "duration": 4,
    "start_time": "2023-04-27T16:32:03.614Z"
   },
   {
    "duration": 124,
    "start_time": "2023-04-27T16:32:03.620Z"
   },
   {
    "duration": 1353,
    "start_time": "2023-04-27T17:22:40.693Z"
   },
   {
    "duration": 768,
    "start_time": "2023-04-27T17:22:42.048Z"
   },
   {
    "duration": 39,
    "start_time": "2023-04-27T17:22:42.817Z"
   },
   {
    "duration": 209,
    "start_time": "2023-04-27T17:22:42.858Z"
   },
   {
    "duration": 34,
    "start_time": "2023-04-27T17:22:43.069Z"
   },
   {
    "duration": 26,
    "start_time": "2023-04-27T17:22:43.104Z"
   },
   {
    "duration": 604,
    "start_time": "2023-04-27T17:22:43.131Z"
   },
   {
    "duration": 6,
    "start_time": "2023-04-27T17:22:43.737Z"
   },
   {
    "duration": 9,
    "start_time": "2023-04-27T17:22:43.744Z"
   },
   {
    "duration": 5,
    "start_time": "2023-04-27T17:22:43.754Z"
   },
   {
    "duration": 5,
    "start_time": "2023-04-27T17:22:43.760Z"
   },
   {
    "duration": 19,
    "start_time": "2023-04-27T17:22:43.767Z"
   },
   {
    "duration": 5,
    "start_time": "2023-04-27T17:22:43.788Z"
   },
   {
    "duration": 1515,
    "start_time": "2023-04-27T17:22:43.795Z"
   },
   {
    "duration": 1574,
    "start_time": "2023-04-27T17:22:45.312Z"
   },
   {
    "duration": 1405,
    "start_time": "2023-04-27T17:22:46.888Z"
   },
   {
    "duration": 4,
    "start_time": "2023-04-27T17:22:48.295Z"
   },
   {
    "duration": 562,
    "start_time": "2023-04-27T17:22:48.300Z"
   },
   {
    "duration": 522,
    "start_time": "2023-04-27T17:22:48.863Z"
   },
   {
    "duration": 3,
    "start_time": "2023-04-27T17:22:49.386Z"
   },
   {
    "duration": 3,
    "start_time": "2023-04-27T17:22:49.391Z"
   },
   {
    "duration": 7,
    "start_time": "2023-04-27T17:22:49.395Z"
   },
   {
    "duration": 1270,
    "start_time": "2023-04-27T17:22:49.403Z"
   },
   {
    "duration": 3,
    "start_time": "2023-04-27T17:22:50.674Z"
   },
   {
    "duration": 28,
    "start_time": "2023-04-27T17:22:50.685Z"
   },
   {
    "duration": 4,
    "start_time": "2023-04-27T17:22:50.715Z"
   },
   {
    "duration": 3,
    "start_time": "2023-04-27T17:23:36.221Z"
   },
   {
    "duration": 3,
    "start_time": "2023-04-27T17:23:44.508Z"
   },
   {
    "duration": 10,
    "start_time": "2023-04-27T17:23:54.349Z"
   },
   {
    "duration": 5,
    "start_time": "2023-04-27T17:24:20.397Z"
   },
   {
    "duration": 1393,
    "start_time": "2023-04-27T17:24:27.035Z"
   },
   {
    "duration": 785,
    "start_time": "2023-04-27T17:24:28.430Z"
   },
   {
    "duration": 41,
    "start_time": "2023-04-27T17:24:29.217Z"
   },
   {
    "duration": 215,
    "start_time": "2023-04-27T17:24:29.259Z"
   },
   {
    "duration": 34,
    "start_time": "2023-04-27T17:24:29.476Z"
   },
   {
    "duration": 29,
    "start_time": "2023-04-27T17:24:29.512Z"
   },
   {
    "duration": 635,
    "start_time": "2023-04-27T17:24:29.542Z"
   },
   {
    "duration": 12,
    "start_time": "2023-04-27T17:24:30.178Z"
   },
   {
    "duration": 21,
    "start_time": "2023-04-27T17:24:30.191Z"
   },
   {
    "duration": 20,
    "start_time": "2023-04-27T17:24:30.214Z"
   },
   {
    "duration": 25,
    "start_time": "2023-04-27T17:24:30.236Z"
   },
   {
    "duration": 18,
    "start_time": "2023-04-27T17:24:30.263Z"
   },
   {
    "duration": 32,
    "start_time": "2023-04-27T17:24:30.283Z"
   },
   {
    "duration": 1483,
    "start_time": "2023-04-27T17:24:30.318Z"
   },
   {
    "duration": 1497,
    "start_time": "2023-04-27T17:24:31.803Z"
   },
   {
    "duration": 1470,
    "start_time": "2023-04-27T17:24:33.302Z"
   },
   {
    "duration": 5,
    "start_time": "2023-04-27T17:24:34.774Z"
   },
   {
    "duration": 502,
    "start_time": "2023-04-27T17:24:34.784Z"
   },
   {
    "duration": 502,
    "start_time": "2023-04-27T17:24:35.288Z"
   },
   {
    "duration": 2,
    "start_time": "2023-04-27T17:24:35.792Z"
   },
   {
    "duration": 16,
    "start_time": "2023-04-27T17:24:35.795Z"
   },
   {
    "duration": 22,
    "start_time": "2023-04-27T17:24:35.812Z"
   },
   {
    "duration": 1218,
    "start_time": "2023-04-27T17:24:35.835Z"
   },
   {
    "duration": 39,
    "start_time": "2023-04-27T17:24:37.055Z"
   },
   {
    "duration": 3,
    "start_time": "2023-04-27T17:24:37.096Z"
   },
   {
    "duration": 4,
    "start_time": "2023-04-27T17:24:37.101Z"
   },
   {
    "duration": 9,
    "start_time": "2023-04-27T17:24:37.107Z"
   },
   {
    "duration": 5,
    "start_time": "2023-04-27T17:24:37.118Z"
   },
   {
    "duration": 4513,
    "start_time": "2023-04-27T17:27:53.907Z"
   },
   {
    "duration": 4369,
    "start_time": "2023-04-27T17:28:19.957Z"
   },
   {
    "duration": 12,
    "start_time": "2023-04-27T17:29:22.790Z"
   },
   {
    "duration": 5,
    "start_time": "2023-04-27T17:29:38.855Z"
   },
   {
    "duration": 1360,
    "start_time": "2023-04-27T17:51:38.618Z"
   },
   {
    "duration": 775,
    "start_time": "2023-04-27T17:51:39.980Z"
   },
   {
    "duration": 47,
    "start_time": "2023-04-27T17:51:40.756Z"
   },
   {
    "duration": 205,
    "start_time": "2023-04-27T17:51:40.805Z"
   },
   {
    "duration": 29,
    "start_time": "2023-04-27T17:51:41.012Z"
   },
   {
    "duration": 46,
    "start_time": "2023-04-27T17:51:41.042Z"
   },
   {
    "duration": 592,
    "start_time": "2023-04-27T17:51:41.090Z"
   },
   {
    "duration": 7,
    "start_time": "2023-04-27T17:51:41.685Z"
   },
   {
    "duration": 30,
    "start_time": "2023-04-27T17:51:41.693Z"
   },
   {
    "duration": 20,
    "start_time": "2023-04-27T17:51:41.725Z"
   },
   {
    "duration": 8,
    "start_time": "2023-04-27T17:51:41.747Z"
   },
   {
    "duration": 3,
    "start_time": "2023-04-27T17:51:41.756Z"
   },
   {
    "duration": 9,
    "start_time": "2023-04-27T17:51:41.761Z"
   },
   {
    "duration": 1543,
    "start_time": "2023-04-27T17:51:41.773Z"
   },
   {
    "duration": 1604,
    "start_time": "2023-04-27T17:51:43.318Z"
   },
   {
    "duration": 1454,
    "start_time": "2023-04-27T17:51:44.924Z"
   },
   {
    "duration": 5,
    "start_time": "2023-04-27T17:51:46.380Z"
   },
   {
    "duration": 592,
    "start_time": "2023-04-27T17:51:46.386Z"
   },
   {
    "duration": 550,
    "start_time": "2023-04-27T17:51:46.985Z"
   },
   {
    "duration": 3,
    "start_time": "2023-04-27T17:51:47.537Z"
   },
   {
    "duration": 6,
    "start_time": "2023-04-27T17:51:47.541Z"
   },
   {
    "duration": 14,
    "start_time": "2023-04-27T17:51:47.548Z"
   },
   {
    "duration": 1188,
    "start_time": "2023-04-27T17:51:47.563Z"
   },
   {
    "duration": 40,
    "start_time": "2023-04-27T17:51:48.753Z"
   },
   {
    "duration": 3,
    "start_time": "2023-04-27T17:51:48.795Z"
   },
   {
    "duration": 4,
    "start_time": "2023-04-27T17:51:48.799Z"
   },
   {
    "duration": 11,
    "start_time": "2023-04-27T17:51:48.804Z"
   },
   {
    "duration": 4,
    "start_time": "2023-04-27T17:51:48.816Z"
   },
   {
    "duration": 4531,
    "start_time": "2023-04-27T17:51:48.822Z"
   },
   {
    "duration": 4551,
    "start_time": "2023-04-27T17:51:53.355Z"
   },
   {
    "duration": 15,
    "start_time": "2023-04-27T17:51:57.908Z"
   },
   {
    "duration": 15,
    "start_time": "2023-04-27T17:51:57.925Z"
   },
   {
    "duration": 1398,
    "start_time": "2023-04-27T18:50:39.678Z"
   },
   {
    "duration": 766,
    "start_time": "2023-04-27T18:50:41.077Z"
   },
   {
    "duration": 47,
    "start_time": "2023-04-27T18:50:41.844Z"
   },
   {
    "duration": 211,
    "start_time": "2023-04-27T18:50:41.893Z"
   },
   {
    "duration": 27,
    "start_time": "2023-04-27T18:50:42.106Z"
   },
   {
    "duration": 26,
    "start_time": "2023-04-27T18:50:42.134Z"
   },
   {
    "duration": 610,
    "start_time": "2023-04-27T18:50:42.162Z"
   },
   {
    "duration": 12,
    "start_time": "2023-04-27T18:50:42.774Z"
   },
   {
    "duration": 10,
    "start_time": "2023-04-27T18:50:42.788Z"
   },
   {
    "duration": 5,
    "start_time": "2023-04-27T18:50:42.800Z"
   },
   {
    "duration": 7,
    "start_time": "2023-04-27T18:50:42.807Z"
   },
   {
    "duration": 10,
    "start_time": "2023-04-27T18:50:42.815Z"
   },
   {
    "duration": 7,
    "start_time": "2023-04-27T18:50:42.827Z"
   },
   {
    "duration": 1535,
    "start_time": "2023-04-27T18:50:42.835Z"
   },
   {
    "duration": 1537,
    "start_time": "2023-04-27T18:50:44.371Z"
   },
   {
    "duration": 1464,
    "start_time": "2023-04-27T18:50:45.910Z"
   },
   {
    "duration": 4,
    "start_time": "2023-04-27T18:50:47.376Z"
   },
   {
    "duration": 494,
    "start_time": "2023-04-27T18:50:47.384Z"
   },
   {
    "duration": 541,
    "start_time": "2023-04-27T18:50:47.880Z"
   },
   {
    "duration": 4,
    "start_time": "2023-04-27T18:50:48.422Z"
   },
   {
    "duration": 10,
    "start_time": "2023-04-27T18:50:48.427Z"
   },
   {
    "duration": 20,
    "start_time": "2023-04-27T18:50:48.439Z"
   },
   {
    "duration": 1219,
    "start_time": "2023-04-27T18:50:48.461Z"
   },
   {
    "duration": 30,
    "start_time": "2023-04-27T18:50:49.682Z"
   },
   {
    "duration": 3,
    "start_time": "2023-04-27T18:50:49.714Z"
   },
   {
    "duration": 11,
    "start_time": "2023-04-27T18:50:49.718Z"
   },
   {
    "duration": 12,
    "start_time": "2023-04-27T18:50:49.731Z"
   },
   {
    "duration": 5,
    "start_time": "2023-04-27T18:50:49.746Z"
   },
   {
    "duration": 4602,
    "start_time": "2023-04-27T18:50:49.753Z"
   },
   {
    "duration": 4633,
    "start_time": "2023-04-27T18:50:54.356Z"
   },
   {
    "duration": 13,
    "start_time": "2023-04-27T18:50:58.991Z"
   },
   {
    "duration": 3,
    "start_time": "2023-04-27T18:50:59.006Z"
   },
   {
    "duration": 1395,
    "start_time": "2023-04-27T19:13:57.776Z"
   },
   {
    "duration": 809,
    "start_time": "2023-04-27T19:13:59.173Z"
   },
   {
    "duration": 43,
    "start_time": "2023-04-27T19:13:59.983Z"
   },
   {
    "duration": 208,
    "start_time": "2023-04-27T19:14:00.028Z"
   },
   {
    "duration": 28,
    "start_time": "2023-04-27T19:14:00.238Z"
   },
   {
    "duration": 40,
    "start_time": "2023-04-27T19:14:00.267Z"
   },
   {
    "duration": 668,
    "start_time": "2023-04-27T19:14:00.308Z"
   },
   {
    "duration": 8,
    "start_time": "2023-04-27T19:14:00.978Z"
   },
   {
    "duration": 33,
    "start_time": "2023-04-27T19:14:00.988Z"
   },
   {
    "duration": 38,
    "start_time": "2023-04-27T19:14:01.023Z"
   },
   {
    "duration": 37,
    "start_time": "2023-04-27T19:14:01.063Z"
   },
   {
    "duration": 33,
    "start_time": "2023-04-27T19:14:01.102Z"
   },
   {
    "duration": 21,
    "start_time": "2023-04-27T19:14:01.137Z"
   },
   {
    "duration": 1445,
    "start_time": "2023-04-27T19:14:01.162Z"
   },
   {
    "duration": 1515,
    "start_time": "2023-04-27T19:14:02.609Z"
   },
   {
    "duration": 1568,
    "start_time": "2023-04-27T19:14:04.126Z"
   },
   {
    "duration": 4,
    "start_time": "2023-04-27T19:14:05.695Z"
   },
   {
    "duration": 569,
    "start_time": "2023-04-27T19:14:05.700Z"
   },
   {
    "duration": 535,
    "start_time": "2023-04-27T19:14:06.271Z"
   },
   {
    "duration": 3,
    "start_time": "2023-04-27T19:14:06.807Z"
   },
   {
    "duration": 7,
    "start_time": "2023-04-27T19:14:06.811Z"
   },
   {
    "duration": 11,
    "start_time": "2023-04-27T19:14:06.820Z"
   },
   {
    "duration": 1229,
    "start_time": "2023-04-27T19:14:06.833Z"
   },
   {
    "duration": 38,
    "start_time": "2023-04-27T19:14:08.063Z"
   },
   {
    "duration": 5,
    "start_time": "2023-04-27T19:14:08.103Z"
   },
   {
    "duration": 3,
    "start_time": "2023-04-27T19:14:08.110Z"
   },
   {
    "duration": 9,
    "start_time": "2023-04-27T19:14:08.115Z"
   },
   {
    "duration": 4,
    "start_time": "2023-04-27T19:14:08.126Z"
   },
   {
    "duration": 4478,
    "start_time": "2023-04-27T19:14:08.132Z"
   },
   {
    "duration": 4388,
    "start_time": "2023-04-27T19:14:12.612Z"
   },
   {
    "duration": 12,
    "start_time": "2023-04-27T19:14:17.002Z"
   },
   {
    "duration": 4,
    "start_time": "2023-04-27T19:14:17.016Z"
   },
   {
    "duration": 1497,
    "start_time": "2023-04-27T19:18:57.450Z"
   },
   {
    "duration": 824,
    "start_time": "2023-04-27T19:18:58.949Z"
   },
   {
    "duration": 44,
    "start_time": "2023-04-27T19:18:59.774Z"
   },
   {
    "duration": 227,
    "start_time": "2023-04-27T19:18:59.820Z"
   },
   {
    "duration": 44,
    "start_time": "2023-04-27T19:19:00.050Z"
   },
   {
    "duration": 29,
    "start_time": "2023-04-27T19:19:00.096Z"
   },
   {
    "duration": 677,
    "start_time": "2023-04-27T19:19:00.126Z"
   },
   {
    "duration": 6,
    "start_time": "2023-04-27T19:19:00.805Z"
   },
   {
    "duration": 46,
    "start_time": "2023-04-27T19:19:00.813Z"
   },
   {
    "duration": 60,
    "start_time": "2023-04-27T19:19:00.861Z"
   },
   {
    "duration": 50,
    "start_time": "2023-04-27T19:19:00.923Z"
   },
   {
    "duration": 18,
    "start_time": "2023-04-27T19:19:00.975Z"
   },
   {
    "duration": 23,
    "start_time": "2023-04-27T19:19:00.995Z"
   },
   {
    "duration": 1493,
    "start_time": "2023-04-27T19:19:01.021Z"
   },
   {
    "duration": 1616,
    "start_time": "2023-04-27T19:19:02.516Z"
   },
   {
    "duration": 1460,
    "start_time": "2023-04-27T19:19:04.135Z"
   },
   {
    "duration": 5,
    "start_time": "2023-04-27T19:19:05.597Z"
   },
   {
    "duration": 566,
    "start_time": "2023-04-27T19:19:05.603Z"
   },
   {
    "duration": 520,
    "start_time": "2023-04-27T19:19:06.171Z"
   },
   {
    "duration": 3,
    "start_time": "2023-04-27T19:19:06.693Z"
   },
   {
    "duration": 7,
    "start_time": "2023-04-27T19:19:06.697Z"
   },
   {
    "duration": 27,
    "start_time": "2023-04-27T19:19:06.705Z"
   },
   {
    "duration": 1223,
    "start_time": "2023-04-27T19:19:06.734Z"
   },
   {
    "duration": 38,
    "start_time": "2023-04-27T19:19:07.958Z"
   },
   {
    "duration": 3,
    "start_time": "2023-04-27T19:19:07.998Z"
   },
   {
    "duration": 4,
    "start_time": "2023-04-27T19:19:08.002Z"
   },
   {
    "duration": 8,
    "start_time": "2023-04-27T19:19:08.008Z"
   },
   {
    "duration": 3,
    "start_time": "2023-04-27T19:19:08.018Z"
   },
   {
    "duration": 4447,
    "start_time": "2023-04-27T19:19:08.023Z"
   },
   {
    "duration": 4345,
    "start_time": "2023-04-27T19:19:12.472Z"
   },
   {
    "duration": 12,
    "start_time": "2023-04-27T19:19:16.819Z"
   },
   {
    "duration": 4,
    "start_time": "2023-04-27T19:19:16.833Z"
   },
   {
    "duration": 1367,
    "start_time": "2023-04-27T19:21:51.522Z"
   },
   {
    "duration": 805,
    "start_time": "2023-04-27T19:21:52.891Z"
   },
   {
    "duration": 43,
    "start_time": "2023-04-27T19:21:53.697Z"
   },
   {
    "duration": 236,
    "start_time": "2023-04-27T19:21:53.742Z"
   },
   {
    "duration": 38,
    "start_time": "2023-04-27T19:21:53.985Z"
   },
   {
    "duration": 36,
    "start_time": "2023-04-27T19:21:54.026Z"
   },
   {
    "duration": 692,
    "start_time": "2023-04-27T19:21:54.064Z"
   },
   {
    "duration": 6,
    "start_time": "2023-04-27T19:21:54.757Z"
   },
   {
    "duration": 14,
    "start_time": "2023-04-27T19:21:54.764Z"
   },
   {
    "duration": 4,
    "start_time": "2023-04-27T19:21:54.787Z"
   },
   {
    "duration": 6,
    "start_time": "2023-04-27T19:21:54.792Z"
   },
   {
    "duration": 9,
    "start_time": "2023-04-27T19:21:54.799Z"
   },
   {
    "duration": 12,
    "start_time": "2023-04-27T19:21:54.809Z"
   },
   {
    "duration": 1478,
    "start_time": "2023-04-27T19:21:54.823Z"
   },
   {
    "duration": 1508,
    "start_time": "2023-04-27T19:21:56.303Z"
   },
   {
    "duration": 1384,
    "start_time": "2023-04-27T19:21:57.813Z"
   },
   {
    "duration": 5,
    "start_time": "2023-04-27T19:21:59.198Z"
   },
   {
    "duration": 568,
    "start_time": "2023-04-27T19:21:59.205Z"
   },
   {
    "duration": 512,
    "start_time": "2023-04-27T19:21:59.774Z"
   },
   {
    "duration": 3,
    "start_time": "2023-04-27T19:22:00.288Z"
   },
   {
    "duration": 22,
    "start_time": "2023-04-27T19:22:00.292Z"
   },
   {
    "duration": 26,
    "start_time": "2023-04-27T19:22:00.316Z"
   },
   {
    "duration": 1223,
    "start_time": "2023-04-27T19:22:00.344Z"
   },
   {
    "duration": 36,
    "start_time": "2023-04-27T19:22:01.568Z"
   },
   {
    "duration": 35,
    "start_time": "2023-04-27T19:22:01.605Z"
   },
   {
    "duration": 7,
    "start_time": "2023-04-27T19:22:01.642Z"
   },
   {
    "duration": 14,
    "start_time": "2023-04-27T19:22:01.651Z"
   },
   {
    "duration": 24,
    "start_time": "2023-04-27T19:22:01.668Z"
   },
   {
    "duration": 4464,
    "start_time": "2023-04-27T19:22:01.693Z"
   },
   {
    "duration": 4408,
    "start_time": "2023-04-27T19:22:06.159Z"
   },
   {
    "duration": 20,
    "start_time": "2023-04-27T19:22:10.569Z"
   },
   {
    "duration": 4,
    "start_time": "2023-04-27T19:22:10.591Z"
   },
   {
    "duration": 1347,
    "start_time": "2023-04-27T19:33:32.006Z"
   },
   {
    "duration": 817,
    "start_time": "2023-04-27T19:33:33.355Z"
   },
   {
    "duration": 46,
    "start_time": "2023-04-27T19:33:34.174Z"
   },
   {
    "duration": 208,
    "start_time": "2023-04-27T19:33:34.222Z"
   },
   {
    "duration": 27,
    "start_time": "2023-04-27T19:33:34.432Z"
   },
   {
    "duration": 45,
    "start_time": "2023-04-27T19:33:34.460Z"
   },
   {
    "duration": 605,
    "start_time": "2023-04-27T19:33:34.506Z"
   },
   {
    "duration": 5,
    "start_time": "2023-04-27T19:33:35.113Z"
   },
   {
    "duration": 12,
    "start_time": "2023-04-27T19:33:35.120Z"
   },
   {
    "duration": 36,
    "start_time": "2023-04-27T19:33:35.134Z"
   },
   {
    "duration": 14,
    "start_time": "2023-04-27T19:33:35.172Z"
   },
   {
    "duration": 4,
    "start_time": "2023-04-27T19:33:35.187Z"
   },
   {
    "duration": 5,
    "start_time": "2023-04-27T19:33:35.193Z"
   },
   {
    "duration": 1507,
    "start_time": "2023-04-27T19:33:35.201Z"
   },
   {
    "duration": 1521,
    "start_time": "2023-04-27T19:33:36.709Z"
   },
   {
    "duration": 1519,
    "start_time": "2023-04-27T19:33:38.233Z"
   },
   {
    "duration": 4,
    "start_time": "2023-04-27T19:33:39.754Z"
   },
   {
    "duration": 523,
    "start_time": "2023-04-27T19:33:39.759Z"
   },
   {
    "duration": 521,
    "start_time": "2023-04-27T19:33:40.285Z"
   },
   {
    "duration": 3,
    "start_time": "2023-04-27T19:33:40.808Z"
   },
   {
    "duration": 5,
    "start_time": "2023-04-27T19:33:40.812Z"
   },
   {
    "duration": 8,
    "start_time": "2023-04-27T19:33:40.818Z"
   },
   {
    "duration": 1231,
    "start_time": "2023-04-27T19:33:40.827Z"
   },
   {
    "duration": 38,
    "start_time": "2023-04-27T19:33:42.060Z"
   },
   {
    "duration": 3,
    "start_time": "2023-04-27T19:33:42.100Z"
   },
   {
    "duration": 5,
    "start_time": "2023-04-27T19:33:42.104Z"
   },
   {
    "duration": 12,
    "start_time": "2023-04-27T19:33:42.111Z"
   },
   {
    "duration": 4,
    "start_time": "2023-04-27T19:33:42.124Z"
   },
   {
    "duration": 4458,
    "start_time": "2023-04-27T19:33:42.130Z"
   },
   {
    "duration": 4405,
    "start_time": "2023-04-27T19:33:46.590Z"
   },
   {
    "duration": 0,
    "start_time": "2023-04-27T19:33:50.996Z"
   },
   {
    "duration": 0,
    "start_time": "2023-04-27T19:33:50.998Z"
   },
   {
    "duration": 0,
    "start_time": "2023-04-27T19:33:50.999Z"
   },
   {
    "duration": 1350,
    "start_time": "2023-04-27T19:35:24.701Z"
   },
   {
    "duration": 803,
    "start_time": "2023-04-27T19:35:26.054Z"
   },
   {
    "duration": 50,
    "start_time": "2023-04-27T19:35:26.858Z"
   },
   {
    "duration": 224,
    "start_time": "2023-04-27T19:35:26.910Z"
   },
   {
    "duration": 30,
    "start_time": "2023-04-27T19:35:27.136Z"
   },
   {
    "duration": 31,
    "start_time": "2023-04-27T19:35:27.184Z"
   },
   {
    "duration": 624,
    "start_time": "2023-04-27T19:35:27.217Z"
   },
   {
    "duration": 5,
    "start_time": "2023-04-27T19:35:27.843Z"
   },
   {
    "duration": 8,
    "start_time": "2023-04-27T19:35:27.850Z"
   },
   {
    "duration": 5,
    "start_time": "2023-04-27T19:35:27.860Z"
   },
   {
    "duration": 7,
    "start_time": "2023-04-27T19:35:27.884Z"
   },
   {
    "duration": 4,
    "start_time": "2023-04-27T19:35:27.893Z"
   },
   {
    "duration": 6,
    "start_time": "2023-04-27T19:35:27.899Z"
   },
   {
    "duration": 1510,
    "start_time": "2023-04-27T19:35:27.909Z"
   },
   {
    "duration": 1525,
    "start_time": "2023-04-27T19:35:29.421Z"
   },
   {
    "duration": 1453,
    "start_time": "2023-04-27T19:35:30.948Z"
   },
   {
    "duration": 4,
    "start_time": "2023-04-27T19:35:32.403Z"
   },
   {
    "duration": 573,
    "start_time": "2023-04-27T19:35:32.409Z"
   },
   {
    "duration": 508,
    "start_time": "2023-04-27T19:35:32.985Z"
   },
   {
    "duration": 3,
    "start_time": "2023-04-27T19:35:33.495Z"
   },
   {
    "duration": 7,
    "start_time": "2023-04-27T19:35:33.499Z"
   },
   {
    "duration": 8,
    "start_time": "2023-04-27T19:35:33.508Z"
   },
   {
    "duration": 1240,
    "start_time": "2023-04-27T19:35:33.517Z"
   },
   {
    "duration": 36,
    "start_time": "2023-04-27T19:35:34.758Z"
   },
   {
    "duration": 3,
    "start_time": "2023-04-27T19:35:34.796Z"
   },
   {
    "duration": 3,
    "start_time": "2023-04-27T19:35:34.801Z"
   },
   {
    "duration": 9,
    "start_time": "2023-04-27T19:35:34.806Z"
   },
   {
    "duration": 4,
    "start_time": "2023-04-27T19:35:34.817Z"
   },
   {
    "duration": 4514,
    "start_time": "2023-04-27T19:35:34.823Z"
   },
   {
    "duration": 4402,
    "start_time": "2023-04-27T19:35:39.339Z"
   },
   {
    "duration": 13,
    "start_time": "2023-04-27T19:35:43.743Z"
   },
   {
    "duration": 3,
    "start_time": "2023-04-27T19:35:43.757Z"
   },
   {
    "duration": 1402,
    "start_time": "2023-04-27T19:37:38.781Z"
   },
   {
    "duration": 789,
    "start_time": "2023-04-27T19:37:40.185Z"
   },
   {
    "duration": 46,
    "start_time": "2023-04-27T19:37:40.976Z"
   },
   {
    "duration": 209,
    "start_time": "2023-04-27T19:37:41.024Z"
   },
   {
    "duration": 29,
    "start_time": "2023-04-27T19:37:41.236Z"
   },
   {
    "duration": 42,
    "start_time": "2023-04-27T19:37:41.267Z"
   },
   {
    "duration": 587,
    "start_time": "2023-04-27T19:37:41.310Z"
   },
   {
    "duration": 5,
    "start_time": "2023-04-27T19:37:41.898Z"
   },
   {
    "duration": 7,
    "start_time": "2023-04-27T19:37:41.905Z"
   },
   {
    "duration": 4,
    "start_time": "2023-04-27T19:37:41.914Z"
   },
   {
    "duration": 6,
    "start_time": "2023-04-27T19:37:41.919Z"
   },
   {
    "duration": 3,
    "start_time": "2023-04-27T19:37:41.927Z"
   },
   {
    "duration": 6,
    "start_time": "2023-04-27T19:37:41.932Z"
   },
   {
    "duration": 1601,
    "start_time": "2023-04-27T19:37:41.941Z"
   },
   {
    "duration": 1515,
    "start_time": "2023-04-27T19:37:43.544Z"
   },
   {
    "duration": 1445,
    "start_time": "2023-04-27T19:37:45.061Z"
   },
   {
    "duration": 4,
    "start_time": "2023-04-27T19:37:46.508Z"
   },
   {
    "duration": 546,
    "start_time": "2023-04-27T19:37:46.514Z"
   },
   {
    "duration": 536,
    "start_time": "2023-04-27T19:37:47.061Z"
   },
   {
    "duration": 3,
    "start_time": "2023-04-27T19:37:47.598Z"
   },
   {
    "duration": 5,
    "start_time": "2023-04-27T19:37:47.602Z"
   },
   {
    "duration": 9,
    "start_time": "2023-04-27T19:37:47.608Z"
   },
   {
    "duration": 1238,
    "start_time": "2023-04-27T19:37:47.619Z"
   },
   {
    "duration": 33,
    "start_time": "2023-04-27T19:37:48.858Z"
   },
   {
    "duration": 4,
    "start_time": "2023-04-27T19:37:48.892Z"
   },
   {
    "duration": 4,
    "start_time": "2023-04-27T19:37:48.897Z"
   },
   {
    "duration": 9,
    "start_time": "2023-04-27T19:37:48.903Z"
   },
   {
    "duration": 5,
    "start_time": "2023-04-27T19:37:48.913Z"
   },
   {
    "duration": 4397,
    "start_time": "2023-04-27T19:37:48.919Z"
   },
   {
    "duration": 4445,
    "start_time": "2023-04-27T19:37:53.317Z"
   },
   {
    "duration": 29,
    "start_time": "2023-04-27T19:37:57.764Z"
   },
   {
    "duration": 4,
    "start_time": "2023-04-27T19:37:57.795Z"
   },
   {
    "duration": 1389,
    "start_time": "2023-04-27T19:38:29.304Z"
   },
   {
    "duration": 856,
    "start_time": "2023-04-27T19:38:30.695Z"
   },
   {
    "duration": 50,
    "start_time": "2023-04-27T19:38:31.552Z"
   },
   {
    "duration": 222,
    "start_time": "2023-04-27T19:38:31.604Z"
   },
   {
    "duration": 31,
    "start_time": "2023-04-27T19:38:31.828Z"
   },
   {
    "duration": 39,
    "start_time": "2023-04-27T19:38:31.861Z"
   },
   {
    "duration": 594,
    "start_time": "2023-04-27T19:38:31.902Z"
   },
   {
    "duration": 5,
    "start_time": "2023-04-27T19:38:32.498Z"
   },
   {
    "duration": 12,
    "start_time": "2023-04-27T19:38:32.505Z"
   },
   {
    "duration": 12,
    "start_time": "2023-04-27T19:38:32.518Z"
   },
   {
    "duration": 5,
    "start_time": "2023-04-27T19:38:32.531Z"
   },
   {
    "duration": 3,
    "start_time": "2023-04-27T19:38:32.537Z"
   },
   {
    "duration": 5,
    "start_time": "2023-04-27T19:38:32.542Z"
   },
   {
    "duration": 1474,
    "start_time": "2023-04-27T19:38:32.550Z"
   },
   {
    "duration": 1583,
    "start_time": "2023-04-27T19:38:34.026Z"
   },
   {
    "duration": 1486,
    "start_time": "2023-04-27T19:38:35.611Z"
   },
   {
    "duration": 5,
    "start_time": "2023-04-27T19:38:37.098Z"
   },
   {
    "duration": 577,
    "start_time": "2023-04-27T19:38:37.104Z"
   },
   {
    "duration": 573,
    "start_time": "2023-04-27T19:38:37.685Z"
   },
   {
    "duration": 3,
    "start_time": "2023-04-27T19:38:38.260Z"
   },
   {
    "duration": 5,
    "start_time": "2023-04-27T19:38:38.265Z"
   },
   {
    "duration": 19,
    "start_time": "2023-04-27T19:38:38.272Z"
   },
   {
    "duration": 1265,
    "start_time": "2023-04-27T19:38:38.293Z"
   },
   {
    "duration": 38,
    "start_time": "2023-04-27T19:38:39.560Z"
   },
   {
    "duration": 7,
    "start_time": "2023-04-27T19:38:39.600Z"
   },
   {
    "duration": 5,
    "start_time": "2023-04-27T19:38:39.609Z"
   },
   {
    "duration": 11,
    "start_time": "2023-04-27T19:38:39.616Z"
   },
   {
    "duration": 5,
    "start_time": "2023-04-27T19:38:39.629Z"
   },
   {
    "duration": 4471,
    "start_time": "2023-04-27T19:38:39.636Z"
   },
   {
    "duration": 4349,
    "start_time": "2023-04-27T19:38:44.109Z"
   },
   {
    "duration": 17,
    "start_time": "2023-04-27T19:38:48.460Z"
   },
   {
    "duration": 4,
    "start_time": "2023-04-27T19:38:48.485Z"
   },
   {
    "duration": 1466,
    "start_time": "2023-04-27T19:48:42.959Z"
   },
   {
    "duration": 793,
    "start_time": "2023-04-27T19:48:44.427Z"
   },
   {
    "duration": 42,
    "start_time": "2023-04-27T19:48:45.222Z"
   },
   {
    "duration": 209,
    "start_time": "2023-04-27T19:48:45.266Z"
   },
   {
    "duration": 28,
    "start_time": "2023-04-27T19:48:45.487Z"
   },
   {
    "duration": 28,
    "start_time": "2023-04-27T19:48:45.517Z"
   },
   {
    "duration": 628,
    "start_time": "2023-04-27T19:48:45.547Z"
   },
   {
    "duration": 11,
    "start_time": "2023-04-27T19:48:46.177Z"
   },
   {
    "duration": 13,
    "start_time": "2023-04-27T19:48:46.189Z"
   },
   {
    "duration": 5,
    "start_time": "2023-04-27T19:48:46.203Z"
   },
   {
    "duration": 5,
    "start_time": "2023-04-27T19:48:46.209Z"
   },
   {
    "duration": 4,
    "start_time": "2023-04-27T19:48:46.215Z"
   },
   {
    "duration": 5,
    "start_time": "2023-04-27T19:48:46.220Z"
   },
   {
    "duration": 1473,
    "start_time": "2023-04-27T19:48:46.227Z"
   },
   {
    "duration": 1499,
    "start_time": "2023-04-27T19:48:47.702Z"
   },
   {
    "duration": 1488,
    "start_time": "2023-04-27T19:48:49.202Z"
   },
   {
    "duration": 4,
    "start_time": "2023-04-27T19:48:50.692Z"
   },
   {
    "duration": 581,
    "start_time": "2023-04-27T19:48:50.697Z"
   },
   {
    "duration": 512,
    "start_time": "2023-04-27T19:48:51.280Z"
   },
   {
    "duration": 2,
    "start_time": "2023-04-27T19:48:51.794Z"
   },
   {
    "duration": 9,
    "start_time": "2023-04-27T19:48:51.798Z"
   },
   {
    "duration": 8,
    "start_time": "2023-04-27T19:48:51.809Z"
   },
   {
    "duration": 1242,
    "start_time": "2023-04-27T19:48:51.818Z"
   },
   {
    "duration": 38,
    "start_time": "2023-04-27T19:48:53.061Z"
   },
   {
    "duration": 3,
    "start_time": "2023-04-27T19:48:53.101Z"
   },
   {
    "duration": 4,
    "start_time": "2023-04-27T19:48:53.105Z"
   },
   {
    "duration": 11,
    "start_time": "2023-04-27T19:48:53.111Z"
   },
   {
    "duration": 4,
    "start_time": "2023-04-27T19:48:53.124Z"
   },
   {
    "duration": 4521,
    "start_time": "2023-04-27T19:48:53.129Z"
   },
   {
    "duration": 4373,
    "start_time": "2023-04-27T19:48:57.652Z"
   },
   {
    "duration": 13,
    "start_time": "2023-04-27T19:49:02.027Z"
   },
   {
    "duration": 52,
    "start_time": "2023-04-27T19:49:02.042Z"
   },
   {
    "duration": 1367,
    "start_time": "2023-04-27T19:53:58.132Z"
   },
   {
    "duration": 785,
    "start_time": "2023-04-27T19:53:59.501Z"
   },
   {
    "duration": 42,
    "start_time": "2023-04-27T19:54:00.287Z"
   },
   {
    "duration": 229,
    "start_time": "2023-04-27T19:54:00.331Z"
   },
   {
    "duration": 44,
    "start_time": "2023-04-27T19:54:00.563Z"
   },
   {
    "duration": 31,
    "start_time": "2023-04-27T19:54:00.609Z"
   },
   {
    "duration": 613,
    "start_time": "2023-04-27T19:54:00.641Z"
   },
   {
    "duration": 5,
    "start_time": "2023-04-27T19:54:01.255Z"
   },
   {
    "duration": 23,
    "start_time": "2023-04-27T19:54:01.262Z"
   },
   {
    "duration": 15,
    "start_time": "2023-04-27T19:54:01.287Z"
   },
   {
    "duration": 15,
    "start_time": "2023-04-27T19:54:01.304Z"
   },
   {
    "duration": 17,
    "start_time": "2023-04-27T19:54:01.321Z"
   },
   {
    "duration": 24,
    "start_time": "2023-04-27T19:54:01.340Z"
   },
   {
    "duration": 1433,
    "start_time": "2023-04-27T19:54:01.366Z"
   },
   {
    "duration": 1551,
    "start_time": "2023-04-27T19:54:02.801Z"
   },
   {
    "duration": 1423,
    "start_time": "2023-04-27T19:54:04.354Z"
   },
   {
    "duration": 7,
    "start_time": "2023-04-27T19:54:05.779Z"
   },
   {
    "duration": 493,
    "start_time": "2023-04-27T19:54:05.787Z"
   },
   {
    "duration": 615,
    "start_time": "2023-04-27T19:54:06.282Z"
   },
   {
    "duration": 3,
    "start_time": "2023-04-27T19:54:06.898Z"
   },
   {
    "duration": 14,
    "start_time": "2023-04-27T19:54:06.902Z"
   },
   {
    "duration": 12,
    "start_time": "2023-04-27T19:54:06.918Z"
   },
   {
    "duration": 1227,
    "start_time": "2023-04-27T19:54:06.931Z"
   },
   {
    "duration": 35,
    "start_time": "2023-04-27T19:54:08.160Z"
   },
   {
    "duration": 3,
    "start_time": "2023-04-27T19:54:08.197Z"
   },
   {
    "duration": 5,
    "start_time": "2023-04-27T19:54:08.202Z"
   },
   {
    "duration": 12,
    "start_time": "2023-04-27T19:54:08.209Z"
   },
   {
    "duration": 4,
    "start_time": "2023-04-27T19:54:08.222Z"
   },
   {
    "duration": 4451,
    "start_time": "2023-04-27T19:54:08.227Z"
   },
   {
    "duration": 4350,
    "start_time": "2023-04-27T19:54:12.680Z"
   },
   {
    "duration": 14,
    "start_time": "2023-04-27T19:54:17.032Z"
   },
   {
    "duration": 3,
    "start_time": "2023-04-27T19:54:17.047Z"
   },
   {
    "duration": 1324,
    "start_time": "2023-04-27T19:56:14.931Z"
   },
   {
    "duration": 789,
    "start_time": "2023-04-27T19:56:16.257Z"
   },
   {
    "duration": 45,
    "start_time": "2023-04-27T19:56:17.048Z"
   },
   {
    "duration": 214,
    "start_time": "2023-04-27T19:56:17.095Z"
   },
   {
    "duration": 27,
    "start_time": "2023-04-27T19:56:17.311Z"
   },
   {
    "duration": 25,
    "start_time": "2023-04-27T19:56:17.340Z"
   },
   {
    "duration": 616,
    "start_time": "2023-04-27T19:56:17.366Z"
   },
   {
    "duration": 6,
    "start_time": "2023-04-27T19:56:17.984Z"
   },
   {
    "duration": 8,
    "start_time": "2023-04-27T19:56:17.992Z"
   },
   {
    "duration": 7,
    "start_time": "2023-04-27T19:56:18.002Z"
   },
   {
    "duration": 8,
    "start_time": "2023-04-27T19:56:18.011Z"
   },
   {
    "duration": 4,
    "start_time": "2023-04-27T19:56:18.021Z"
   },
   {
    "duration": 6,
    "start_time": "2023-04-27T19:56:18.027Z"
   },
   {
    "duration": 1462,
    "start_time": "2023-04-27T19:56:18.036Z"
   },
   {
    "duration": 1513,
    "start_time": "2023-04-27T19:56:19.500Z"
   },
   {
    "duration": 1480,
    "start_time": "2023-04-27T19:56:21.015Z"
   },
   {
    "duration": 4,
    "start_time": "2023-04-27T19:56:22.497Z"
   },
   {
    "duration": 566,
    "start_time": "2023-04-27T19:56:22.502Z"
   },
   {
    "duration": 532,
    "start_time": "2023-04-27T19:56:23.070Z"
   },
   {
    "duration": 2,
    "start_time": "2023-04-27T19:56:23.604Z"
   },
   {
    "duration": 4,
    "start_time": "2023-04-27T19:56:23.608Z"
   },
   {
    "duration": 11,
    "start_time": "2023-04-27T19:56:23.613Z"
   },
   {
    "duration": 1142,
    "start_time": "2023-04-27T19:56:23.625Z"
   },
   {
    "duration": 34,
    "start_time": "2023-04-27T19:56:24.769Z"
   },
   {
    "duration": 3,
    "start_time": "2023-04-27T19:56:24.804Z"
   },
   {
    "duration": 4,
    "start_time": "2023-04-27T19:56:24.809Z"
   },
   {
    "duration": 9,
    "start_time": "2023-04-27T19:56:24.815Z"
   },
   {
    "duration": 5,
    "start_time": "2023-04-27T19:56:24.825Z"
   },
   {
    "duration": 4645,
    "start_time": "2023-04-27T19:56:24.831Z"
   },
   {
    "duration": 4479,
    "start_time": "2023-04-27T19:56:29.478Z"
   },
   {
    "duration": 16,
    "start_time": "2023-04-27T19:56:33.959Z"
   },
   {
    "duration": 9,
    "start_time": "2023-04-27T19:56:33.977Z"
   },
   {
    "duration": 1371,
    "start_time": "2023-04-27T20:07:39.321Z"
   },
   {
    "duration": 792,
    "start_time": "2023-04-27T20:07:40.694Z"
   },
   {
    "duration": 40,
    "start_time": "2023-04-27T20:07:41.487Z"
   },
   {
    "duration": 214,
    "start_time": "2023-04-27T20:07:41.529Z"
   },
   {
    "duration": 28,
    "start_time": "2023-04-27T20:07:41.745Z"
   },
   {
    "duration": 35,
    "start_time": "2023-04-27T20:07:41.775Z"
   },
   {
    "duration": 574,
    "start_time": "2023-04-27T20:07:41.811Z"
   },
   {
    "duration": 5,
    "start_time": "2023-04-27T20:07:42.387Z"
   },
   {
    "duration": 11,
    "start_time": "2023-04-27T20:07:42.393Z"
   },
   {
    "duration": 4,
    "start_time": "2023-04-27T20:07:42.406Z"
   },
   {
    "duration": 7,
    "start_time": "2023-04-27T20:07:42.412Z"
   },
   {
    "duration": 3,
    "start_time": "2023-04-27T20:07:42.421Z"
   },
   {
    "duration": 5,
    "start_time": "2023-04-27T20:07:42.426Z"
   },
   {
    "duration": 1469,
    "start_time": "2023-04-27T20:07:42.434Z"
   },
   {
    "duration": 1592,
    "start_time": "2023-04-27T20:07:43.904Z"
   },
   {
    "duration": 1487,
    "start_time": "2023-04-27T20:07:45.498Z"
   },
   {
    "duration": 4,
    "start_time": "2023-04-27T20:07:46.986Z"
   },
   {
    "duration": 481,
    "start_time": "2023-04-27T20:07:46.992Z"
   },
   {
    "duration": 529,
    "start_time": "2023-04-27T20:07:47.474Z"
   },
   {
    "duration": 2,
    "start_time": "2023-04-27T20:07:48.005Z"
   },
   {
    "duration": 21,
    "start_time": "2023-04-27T20:07:48.008Z"
   },
   {
    "duration": 18,
    "start_time": "2023-04-27T20:07:48.030Z"
   },
   {
    "duration": 1217,
    "start_time": "2023-04-27T20:07:48.050Z"
   },
   {
    "duration": 32,
    "start_time": "2023-04-27T20:07:49.268Z"
   },
   {
    "duration": 3,
    "start_time": "2023-04-27T20:07:49.302Z"
   },
   {
    "duration": 4,
    "start_time": "2023-04-27T20:07:49.306Z"
   },
   {
    "duration": 8,
    "start_time": "2023-04-27T20:07:49.311Z"
   },
   {
    "duration": 4,
    "start_time": "2023-04-27T20:07:49.321Z"
   },
   {
    "duration": 4487,
    "start_time": "2023-04-27T20:07:49.326Z"
   },
   {
    "duration": 4536,
    "start_time": "2023-04-27T20:07:53.815Z"
   },
   {
    "duration": 13,
    "start_time": "2023-04-27T20:07:58.352Z"
   },
   {
    "duration": 18,
    "start_time": "2023-04-27T20:07:58.367Z"
   },
   {
    "duration": 11206,
    "start_time": "2023-04-27T20:07:58.386Z"
   },
   {
    "duration": 11068,
    "start_time": "2023-04-27T20:09:39.326Z"
   },
   {
    "duration": 11755,
    "start_time": "2023-04-27T20:10:13.743Z"
   },
   {
    "duration": 1339,
    "start_time": "2023-04-27T20:39:11.316Z"
   },
   {
    "duration": 801,
    "start_time": "2023-04-27T20:39:12.657Z"
   },
   {
    "duration": 44,
    "start_time": "2023-04-27T20:39:13.460Z"
   },
   {
    "duration": 209,
    "start_time": "2023-04-27T20:39:13.506Z"
   },
   {
    "duration": 28,
    "start_time": "2023-04-27T20:39:13.716Z"
   },
   {
    "duration": 43,
    "start_time": "2023-04-27T20:39:13.746Z"
   },
   {
    "duration": 661,
    "start_time": "2023-04-27T20:39:13.791Z"
   },
   {
    "duration": 5,
    "start_time": "2023-04-27T20:39:14.454Z"
   },
   {
    "duration": 8,
    "start_time": "2023-04-27T20:39:14.461Z"
   },
   {
    "duration": 4,
    "start_time": "2023-04-27T20:39:14.485Z"
   },
   {
    "duration": 14,
    "start_time": "2023-04-27T20:39:14.491Z"
   },
   {
    "duration": 5,
    "start_time": "2023-04-27T20:39:14.506Z"
   },
   {
    "duration": 6,
    "start_time": "2023-04-27T20:39:14.512Z"
   },
   {
    "duration": 1475,
    "start_time": "2023-04-27T20:39:14.519Z"
   },
   {
    "duration": 1514,
    "start_time": "2023-04-27T20:39:15.996Z"
   },
   {
    "duration": 1493,
    "start_time": "2023-04-27T20:39:17.511Z"
   },
   {
    "duration": 4,
    "start_time": "2023-04-27T20:39:19.006Z"
   },
   {
    "duration": 566,
    "start_time": "2023-04-27T20:39:19.012Z"
   },
   {
    "duration": 513,
    "start_time": "2023-04-27T20:39:19.580Z"
   },
   {
    "duration": 3,
    "start_time": "2023-04-27T20:39:20.095Z"
   },
   {
    "duration": 7,
    "start_time": "2023-04-27T20:39:20.099Z"
   },
   {
    "duration": 18,
    "start_time": "2023-04-27T20:39:20.108Z"
   },
   {
    "duration": 1237,
    "start_time": "2023-04-27T20:39:20.128Z"
   },
   {
    "duration": 37,
    "start_time": "2023-04-27T20:39:21.367Z"
   },
   {
    "duration": 3,
    "start_time": "2023-04-27T20:39:21.406Z"
   },
   {
    "duration": 8,
    "start_time": "2023-04-27T20:39:21.411Z"
   },
   {
    "duration": 10,
    "start_time": "2023-04-27T20:39:21.421Z"
   },
   {
    "duration": 4,
    "start_time": "2023-04-27T20:39:21.434Z"
   },
   {
    "duration": 4468,
    "start_time": "2023-04-27T20:39:21.439Z"
   },
   {
    "duration": 4428,
    "start_time": "2023-04-27T20:39:25.908Z"
   },
   {
    "duration": 12,
    "start_time": "2023-04-27T20:39:30.338Z"
   },
   {
    "duration": 9,
    "start_time": "2023-04-27T20:39:30.351Z"
   },
   {
    "duration": 127,
    "start_time": "2023-04-27T20:39:30.361Z"
   },
   {
    "duration": 0,
    "start_time": "2023-04-27T20:39:30.489Z"
   },
   {
    "duration": 1330,
    "start_time": "2023-04-27T20:40:39.317Z"
   },
   {
    "duration": 796,
    "start_time": "2023-04-27T20:40:40.649Z"
   },
   {
    "duration": 45,
    "start_time": "2023-04-27T20:40:41.447Z"
   },
   {
    "duration": 198,
    "start_time": "2023-04-27T20:40:41.494Z"
   },
   {
    "duration": 27,
    "start_time": "2023-04-27T20:40:41.694Z"
   },
   {
    "duration": 30,
    "start_time": "2023-04-27T20:40:41.723Z"
   },
   {
    "duration": 609,
    "start_time": "2023-04-27T20:40:41.755Z"
   },
   {
    "duration": 5,
    "start_time": "2023-04-27T20:40:42.366Z"
   },
   {
    "duration": 7,
    "start_time": "2023-04-27T20:40:42.385Z"
   },
   {
    "duration": 6,
    "start_time": "2023-04-27T20:40:42.394Z"
   },
   {
    "duration": 6,
    "start_time": "2023-04-27T20:40:42.401Z"
   },
   {
    "duration": 4,
    "start_time": "2023-04-27T20:40:42.409Z"
   },
   {
    "duration": 5,
    "start_time": "2023-04-27T20:40:42.415Z"
   },
   {
    "duration": 1479,
    "start_time": "2023-04-27T20:40:42.424Z"
   },
   {
    "duration": 1592,
    "start_time": "2023-04-27T20:40:43.905Z"
   },
   {
    "duration": 1395,
    "start_time": "2023-04-27T20:40:45.499Z"
   },
   {
    "duration": 3,
    "start_time": "2023-04-27T20:40:46.896Z"
   },
   {
    "duration": 553,
    "start_time": "2023-04-27T20:40:46.901Z"
   },
   {
    "duration": 534,
    "start_time": "2023-04-27T20:40:47.456Z"
   },
   {
    "duration": 2,
    "start_time": "2023-04-27T20:40:47.992Z"
   },
   {
    "duration": 4,
    "start_time": "2023-04-27T20:40:47.996Z"
   },
   {
    "duration": 15,
    "start_time": "2023-04-27T20:40:48.001Z"
   },
   {
    "duration": 1235,
    "start_time": "2023-04-27T20:40:48.017Z"
   },
   {
    "duration": 34,
    "start_time": "2023-04-27T20:40:49.254Z"
   },
   {
    "duration": 3,
    "start_time": "2023-04-27T20:40:49.290Z"
   },
   {
    "duration": 4,
    "start_time": "2023-04-27T20:40:49.294Z"
   },
   {
    "duration": 8,
    "start_time": "2023-04-27T20:40:49.300Z"
   },
   {
    "duration": 4,
    "start_time": "2023-04-27T20:40:49.310Z"
   },
   {
    "duration": 4444,
    "start_time": "2023-04-27T20:40:49.315Z"
   },
   {
    "duration": 4413,
    "start_time": "2023-04-27T20:40:53.761Z"
   },
   {
    "duration": 19,
    "start_time": "2023-04-27T20:40:58.176Z"
   },
   {
    "duration": 4,
    "start_time": "2023-04-27T20:40:58.197Z"
   },
   {
    "duration": 376,
    "start_time": "2023-04-27T20:40:58.202Z"
   },
   {
    "duration": 0,
    "start_time": "2023-04-27T20:40:58.580Z"
   },
   {
    "duration": 223,
    "start_time": "2023-04-27T20:42:53.601Z"
   },
   {
    "duration": 1447,
    "start_time": "2023-04-27T20:45:33.262Z"
   },
   {
    "duration": 785,
    "start_time": "2023-04-27T20:45:34.711Z"
   },
   {
    "duration": 41,
    "start_time": "2023-04-27T20:45:35.498Z"
   },
   {
    "duration": 207,
    "start_time": "2023-04-27T20:45:35.541Z"
   },
   {
    "duration": 42,
    "start_time": "2023-04-27T20:45:35.750Z"
   },
   {
    "duration": 27,
    "start_time": "2023-04-27T20:45:35.795Z"
   },
   {
    "duration": 596,
    "start_time": "2023-04-27T20:45:35.823Z"
   },
   {
    "duration": 6,
    "start_time": "2023-04-27T20:45:36.421Z"
   },
   {
    "duration": 8,
    "start_time": "2023-04-27T20:45:36.428Z"
   },
   {
    "duration": 33,
    "start_time": "2023-04-27T20:45:36.438Z"
   },
   {
    "duration": 11,
    "start_time": "2023-04-27T20:45:36.473Z"
   },
   {
    "duration": 4,
    "start_time": "2023-04-27T20:45:36.486Z"
   },
   {
    "duration": 7,
    "start_time": "2023-04-27T20:45:36.492Z"
   },
   {
    "duration": 1504,
    "start_time": "2023-04-27T20:45:36.502Z"
   },
   {
    "duration": 1574,
    "start_time": "2023-04-27T20:45:38.008Z"
   },
   {
    "duration": 1409,
    "start_time": "2023-04-27T20:45:39.584Z"
   },
   {
    "duration": 4,
    "start_time": "2023-04-27T20:45:40.995Z"
   },
   {
    "duration": 574,
    "start_time": "2023-04-27T20:45:41.000Z"
   },
   {
    "duration": 511,
    "start_time": "2023-04-27T20:45:41.576Z"
   },
   {
    "duration": 2,
    "start_time": "2023-04-27T20:45:42.089Z"
   },
   {
    "duration": 5,
    "start_time": "2023-04-27T20:45:42.092Z"
   },
   {
    "duration": 8,
    "start_time": "2023-04-27T20:45:42.098Z"
   },
   {
    "duration": 1258,
    "start_time": "2023-04-27T20:45:42.108Z"
   },
   {
    "duration": 37,
    "start_time": "2023-04-27T20:45:43.368Z"
   },
   {
    "duration": 4,
    "start_time": "2023-04-27T20:45:43.406Z"
   },
   {
    "duration": 4,
    "start_time": "2023-04-27T20:45:43.412Z"
   },
   {
    "duration": 11,
    "start_time": "2023-04-27T20:45:43.417Z"
   },
   {
    "duration": 4,
    "start_time": "2023-04-27T20:45:43.430Z"
   },
   {
    "duration": 4426,
    "start_time": "2023-04-27T20:45:43.436Z"
   },
   {
    "duration": 4353,
    "start_time": "2023-04-27T20:45:47.864Z"
   },
   {
    "duration": 15,
    "start_time": "2023-04-27T20:45:52.219Z"
   },
   {
    "duration": 19,
    "start_time": "2023-04-27T20:45:52.235Z"
   },
   {
    "duration": 1972376,
    "start_time": "2023-04-27T20:45:52.255Z"
   },
   {
    "duration": 12152,
    "start_time": "2023-04-27T21:18:44.632Z"
   },
   {
    "duration": 1627,
    "start_time": "2023-04-28T06:33:52.530Z"
   },
   {
    "duration": 1405,
    "start_time": "2023-04-28T06:33:54.159Z"
   },
   {
    "duration": 48,
    "start_time": "2023-04-28T06:33:55.566Z"
   },
   {
    "duration": 213,
    "start_time": "2023-04-28T06:33:55.616Z"
   },
   {
    "duration": 33,
    "start_time": "2023-04-28T06:33:55.831Z"
   },
   {
    "duration": 33,
    "start_time": "2023-04-28T06:33:55.865Z"
   },
   {
    "duration": 635,
    "start_time": "2023-04-28T06:33:55.912Z"
   },
   {
    "duration": 6,
    "start_time": "2023-04-28T06:33:56.548Z"
   },
   {
    "duration": 15,
    "start_time": "2023-04-28T06:33:56.556Z"
   },
   {
    "duration": 19,
    "start_time": "2023-04-28T06:33:56.573Z"
   },
   {
    "duration": 10,
    "start_time": "2023-04-28T06:33:56.594Z"
   },
   {
    "duration": 32,
    "start_time": "2023-04-28T06:33:56.606Z"
   },
   {
    "duration": 39,
    "start_time": "2023-04-28T06:33:56.640Z"
   },
   {
    "duration": 1560,
    "start_time": "2023-04-28T06:33:56.683Z"
   },
   {
    "duration": 1609,
    "start_time": "2023-04-28T06:33:58.244Z"
   },
   {
    "duration": 1478,
    "start_time": "2023-04-28T06:33:59.854Z"
   },
   {
    "duration": 4,
    "start_time": "2023-04-28T06:34:01.334Z"
   },
   {
    "duration": 589,
    "start_time": "2023-04-28T06:34:01.340Z"
   },
   {
    "duration": 637,
    "start_time": "2023-04-28T06:34:01.931Z"
   },
   {
    "duration": 3,
    "start_time": "2023-04-28T06:34:02.570Z"
   },
   {
    "duration": 13,
    "start_time": "2023-04-28T06:34:02.574Z"
   },
   {
    "duration": 15,
    "start_time": "2023-04-28T06:34:02.588Z"
   },
   {
    "duration": 1360,
    "start_time": "2023-04-28T06:34:02.611Z"
   },
   {
    "duration": 41,
    "start_time": "2023-04-28T06:34:03.973Z"
   },
   {
    "duration": 4,
    "start_time": "2023-04-28T06:34:04.016Z"
   },
   {
    "duration": 33,
    "start_time": "2023-04-28T06:34:04.021Z"
   },
   {
    "duration": 24,
    "start_time": "2023-04-28T06:34:04.056Z"
   },
   {
    "duration": 77,
    "start_time": "2023-04-28T06:34:04.082Z"
   },
   {
    "duration": 4829,
    "start_time": "2023-04-28T06:34:04.161Z"
   },
   {
    "duration": 4572,
    "start_time": "2023-04-28T06:34:08.992Z"
   },
   {
    "duration": 13,
    "start_time": "2023-04-28T06:34:13.566Z"
   },
   {
    "duration": 3,
    "start_time": "2023-04-28T06:34:13.582Z"
   },
   {
    "duration": 2822512,
    "start_time": "2023-04-28T06:34:13.587Z"
   },
   {
    "duration": 2707513,
    "start_time": "2023-04-28T07:21:16.100Z"
   },
   {
    "duration": 56,
    "start_time": "2023-04-28T08:06:23.616Z"
   },
   {
    "duration": 4,
    "start_time": "2023-04-28T08:06:23.674Z"
   },
   {
    "duration": 15463,
    "start_time": "2023-04-28T08:06:23.680Z"
   },
   {
    "duration": 11810,
    "start_time": "2023-04-28T08:13:51.116Z"
   },
   {
    "duration": 15,
    "start_time": "2023-04-28T08:15:18.225Z"
   },
   {
    "duration": 5,
    "start_time": "2023-04-28T08:15:30.514Z"
   },
   {
    "duration": 11,
    "start_time": "2023-04-29T17:56:20.061Z"
   },
   {
    "duration": 64,
    "start_time": "2023-04-29T17:58:50.688Z"
   },
   {
    "duration": 4,
    "start_time": "2023-04-29T17:59:12.272Z"
   },
   {
    "duration": 6,
    "start_time": "2023-04-29T17:59:14.673Z"
   },
   {
    "duration": 6,
    "start_time": "2023-04-29T18:00:25.266Z"
   },
   {
    "duration": 8,
    "start_time": "2023-04-29T18:12:56.399Z"
   },
   {
    "duration": 2102,
    "start_time": "2023-04-29T18:44:44.070Z"
   },
   {
    "duration": 2910,
    "start_time": "2023-04-29T18:44:46.174Z"
   },
   {
    "duration": 80,
    "start_time": "2023-04-29T18:44:49.086Z"
   },
   {
    "duration": 354,
    "start_time": "2023-04-29T18:44:49.169Z"
   },
   {
    "duration": 53,
    "start_time": "2023-04-29T18:44:49.532Z"
   },
   {
    "duration": 39,
    "start_time": "2023-04-29T18:44:49.587Z"
   },
   {
    "duration": 807,
    "start_time": "2023-04-29T18:44:49.636Z"
   },
   {
    "duration": 7,
    "start_time": "2023-04-29T18:44:50.457Z"
   },
   {
    "duration": 30,
    "start_time": "2023-04-29T18:44:50.466Z"
   },
   {
    "duration": 12,
    "start_time": "2023-04-29T18:44:50.498Z"
   },
   {
    "duration": 19,
    "start_time": "2023-04-29T18:44:50.511Z"
   },
   {
    "duration": 9,
    "start_time": "2023-04-29T18:44:50.539Z"
   },
   {
    "duration": 10,
    "start_time": "2023-04-29T18:44:50.550Z"
   },
   {
    "duration": 1610,
    "start_time": "2023-04-29T18:44:50.565Z"
   },
   {
    "duration": 1675,
    "start_time": "2023-04-29T18:44:52.177Z"
   },
   {
    "duration": 1554,
    "start_time": "2023-04-29T18:44:53.855Z"
   },
   {
    "duration": 6,
    "start_time": "2023-04-29T18:44:55.412Z"
   },
   {
    "duration": 670,
    "start_time": "2023-04-29T18:44:55.423Z"
   },
   {
    "duration": 699,
    "start_time": "2023-04-29T18:44:56.096Z"
   },
   {
    "duration": 3,
    "start_time": "2023-04-29T18:44:56.797Z"
   },
   {
    "duration": 20,
    "start_time": "2023-04-29T18:44:56.802Z"
   },
   {
    "duration": 15,
    "start_time": "2023-04-29T18:44:56.826Z"
   },
   {
    "duration": 1261,
    "start_time": "2023-04-29T18:44:56.843Z"
   },
   {
    "duration": 48,
    "start_time": "2023-04-29T18:44:58.106Z"
   },
   {
    "duration": 3,
    "start_time": "2023-04-29T18:44:58.157Z"
   },
   {
    "duration": 5,
    "start_time": "2023-04-29T18:44:58.161Z"
   },
   {
    "duration": 12,
    "start_time": "2023-04-29T18:44:58.168Z"
   },
   {
    "duration": 38,
    "start_time": "2023-04-29T18:44:58.182Z"
   },
   {
    "duration": 6,
    "start_time": "2023-04-29T18:44:58.222Z"
   },
   {
    "duration": 5365,
    "start_time": "2023-04-29T18:44:58.230Z"
   },
   {
    "duration": 4712,
    "start_time": "2023-04-29T18:45:03.597Z"
   },
   {
    "duration": 24,
    "start_time": "2023-04-29T18:45:08.318Z"
   },
   {
    "duration": 5,
    "start_time": "2023-04-29T18:45:08.344Z"
   },
   {
    "duration": 1879,
    "start_time": "2023-04-29T18:49:45.676Z"
   },
   {
    "duration": 1042,
    "start_time": "2023-04-29T18:49:47.561Z"
   },
   {
    "duration": 71,
    "start_time": "2023-04-29T18:49:48.605Z"
   },
   {
    "duration": 374,
    "start_time": "2023-04-29T18:49:48.682Z"
   },
   {
    "duration": 56,
    "start_time": "2023-04-29T18:49:49.058Z"
   },
   {
    "duration": 52,
    "start_time": "2023-04-29T18:49:49.117Z"
   },
   {
    "duration": 849,
    "start_time": "2023-04-29T18:49:49.172Z"
   },
   {
    "duration": 13,
    "start_time": "2023-04-29T18:49:50.023Z"
   },
   {
    "duration": 12,
    "start_time": "2023-04-29T18:49:50.039Z"
   },
   {
    "duration": 28,
    "start_time": "2023-04-29T18:49:50.055Z"
   },
   {
    "duration": 7,
    "start_time": "2023-04-29T18:49:50.084Z"
   },
   {
    "duration": 7,
    "start_time": "2023-04-29T18:49:50.093Z"
   },
   {
    "duration": 24,
    "start_time": "2023-04-29T18:49:50.101Z"
   },
   {
    "duration": 1758,
    "start_time": "2023-04-29T18:49:50.127Z"
   },
   {
    "duration": 1819,
    "start_time": "2023-04-29T18:49:51.888Z"
   },
   {
    "duration": 1717,
    "start_time": "2023-04-29T18:49:53.711Z"
   },
   {
    "duration": 10,
    "start_time": "2023-04-29T18:49:55.431Z"
   },
   {
    "duration": 722,
    "start_time": "2023-04-29T18:49:55.447Z"
   },
   {
    "duration": 784,
    "start_time": "2023-04-29T18:49:56.173Z"
   },
   {
    "duration": 4,
    "start_time": "2023-04-29T18:49:56.959Z"
   },
   {
    "duration": 5,
    "start_time": "2023-04-29T18:49:56.966Z"
   },
   {
    "duration": 13,
    "start_time": "2023-04-29T18:49:56.974Z"
   },
   {
    "duration": 1487,
    "start_time": "2023-04-29T18:49:56.989Z"
   },
   {
    "duration": 35,
    "start_time": "2023-04-29T18:49:58.478Z"
   },
   {
    "duration": 6,
    "start_time": "2023-04-29T18:49:58.518Z"
   },
   {
    "duration": 4,
    "start_time": "2023-04-29T18:49:58.526Z"
   },
   {
    "duration": 26,
    "start_time": "2023-04-29T18:49:58.532Z"
   },
   {
    "duration": 13,
    "start_time": "2023-04-29T18:49:58.565Z"
   },
   {
    "duration": 15,
    "start_time": "2023-04-29T18:49:58.581Z"
   },
   {
    "duration": 5690,
    "start_time": "2023-04-29T18:49:58.598Z"
   },
   {
    "duration": 5493,
    "start_time": "2023-04-29T18:50:04.290Z"
   },
   {
    "duration": 30,
    "start_time": "2023-04-29T18:50:09.785Z"
   },
   {
    "duration": 5,
    "start_time": "2023-04-29T18:50:09.817Z"
   },
   {
    "duration": 1832,
    "start_time": "2023-04-29T19:04:19.592Z"
   },
   {
    "duration": 992,
    "start_time": "2023-04-29T19:04:21.426Z"
   },
   {
    "duration": 65,
    "start_time": "2023-04-29T19:04:22.421Z"
   },
   {
    "duration": 364,
    "start_time": "2023-04-29T19:04:22.489Z"
   },
   {
    "duration": 46,
    "start_time": "2023-04-29T19:04:22.865Z"
   },
   {
    "duration": 62,
    "start_time": "2023-04-29T19:04:22.913Z"
   },
   {
    "duration": 936,
    "start_time": "2023-04-29T19:04:22.986Z"
   },
   {
    "duration": 9,
    "start_time": "2023-04-29T19:04:23.925Z"
   },
   {
    "duration": 10,
    "start_time": "2023-04-29T19:04:23.938Z"
   },
   {
    "duration": 8,
    "start_time": "2023-04-29T19:04:23.953Z"
   },
   {
    "duration": 11,
    "start_time": "2023-04-29T19:04:23.968Z"
   },
   {
    "duration": 8,
    "start_time": "2023-04-29T19:04:23.986Z"
   },
   {
    "duration": 23,
    "start_time": "2023-04-29T19:04:23.996Z"
   },
   {
    "duration": 1789,
    "start_time": "2023-04-29T19:04:24.032Z"
   },
   {
    "duration": 2061,
    "start_time": "2023-04-29T19:04:25.823Z"
   },
   {
    "duration": 1857,
    "start_time": "2023-04-29T19:04:27.886Z"
   },
   {
    "duration": 18,
    "start_time": "2023-04-29T19:04:29.746Z"
   },
   {
    "duration": 741,
    "start_time": "2023-04-29T19:04:29.767Z"
   },
   {
    "duration": 809,
    "start_time": "2023-04-29T19:04:30.513Z"
   },
   {
    "duration": 18,
    "start_time": "2023-04-29T19:04:31.333Z"
   },
   {
    "duration": 13,
    "start_time": "2023-04-29T19:04:31.366Z"
   },
   {
    "duration": 38,
    "start_time": "2023-04-29T19:04:31.382Z"
   },
   {
    "duration": 1597,
    "start_time": "2023-04-29T19:04:31.427Z"
   },
   {
    "duration": 59,
    "start_time": "2023-04-29T19:04:33.027Z"
   },
   {
    "duration": 5,
    "start_time": "2023-04-29T19:04:33.088Z"
   },
   {
    "duration": 6,
    "start_time": "2023-04-29T19:04:33.095Z"
   },
   {
    "duration": 17,
    "start_time": "2023-04-29T19:04:33.103Z"
   },
   {
    "duration": 10,
    "start_time": "2023-04-29T19:04:33.127Z"
   },
   {
    "duration": 10,
    "start_time": "2023-04-29T19:04:33.142Z"
   },
   {
    "duration": 5496,
    "start_time": "2023-04-29T19:04:33.155Z"
   },
   {
    "duration": 5818,
    "start_time": "2023-04-29T19:04:38.654Z"
   },
   {
    "duration": 18,
    "start_time": "2023-04-29T19:04:44.474Z"
   },
   {
    "duration": 4,
    "start_time": "2023-04-29T19:04:44.494Z"
   },
   {
    "duration": 2278,
    "start_time": "2023-04-29T19:09:44.460Z"
   },
   {
    "duration": 1270,
    "start_time": "2023-04-29T19:09:46.741Z"
   },
   {
    "duration": 79,
    "start_time": "2023-04-29T19:09:48.013Z"
   },
   {
    "duration": 416,
    "start_time": "2023-04-29T19:09:48.095Z"
   },
   {
    "duration": 61,
    "start_time": "2023-04-29T19:09:48.517Z"
   },
   {
    "duration": 60,
    "start_time": "2023-04-29T19:09:48.580Z"
   },
   {
    "duration": 1015,
    "start_time": "2023-04-29T19:09:48.646Z"
   },
   {
    "duration": 30,
    "start_time": "2023-04-29T19:09:49.668Z"
   },
   {
    "duration": 18,
    "start_time": "2023-04-29T19:09:49.707Z"
   },
   {
    "duration": 12,
    "start_time": "2023-04-29T19:09:49.728Z"
   },
   {
    "duration": 10,
    "start_time": "2023-04-29T19:09:49.743Z"
   },
   {
    "duration": 20,
    "start_time": "2023-04-29T19:09:49.755Z"
   },
   {
    "duration": 15,
    "start_time": "2023-04-29T19:09:49.778Z"
   },
   {
    "duration": 2035,
    "start_time": "2023-04-29T19:09:49.797Z"
   },
   {
    "duration": 2442,
    "start_time": "2023-04-29T19:09:51.834Z"
   },
   {
    "duration": 1976,
    "start_time": "2023-04-29T19:09:54.283Z"
   },
   {
    "duration": 13,
    "start_time": "2023-04-29T19:09:56.267Z"
   },
   {
    "duration": 782,
    "start_time": "2023-04-29T19:09:56.289Z"
   },
   {
    "duration": 874,
    "start_time": "2023-04-29T19:09:57.081Z"
   },
   {
    "duration": 3,
    "start_time": "2023-04-29T19:09:57.956Z"
   },
   {
    "duration": 21,
    "start_time": "2023-04-29T19:09:57.960Z"
   },
   {
    "duration": 14,
    "start_time": "2023-04-29T19:09:57.982Z"
   },
   {
    "duration": 1704,
    "start_time": "2023-04-29T19:09:57.998Z"
   },
   {
    "duration": 46,
    "start_time": "2023-04-29T19:09:59.708Z"
   },
   {
    "duration": 6,
    "start_time": "2023-04-29T19:09:59.760Z"
   },
   {
    "duration": 212,
    "start_time": "2023-04-29T19:09:59.771Z"
   },
   {
    "duration": 0,
    "start_time": "2023-04-29T19:09:59.989Z"
   },
   {
    "duration": 0,
    "start_time": "2023-04-29T19:09:59.998Z"
   },
   {
    "duration": 0,
    "start_time": "2023-04-29T19:10:00.010Z"
   },
   {
    "duration": 0,
    "start_time": "2023-04-29T19:10:00.016Z"
   },
   {
    "duration": 0,
    "start_time": "2023-04-29T19:10:00.029Z"
   },
   {
    "duration": 0,
    "start_time": "2023-04-29T19:10:00.043Z"
   },
   {
    "duration": 0,
    "start_time": "2023-04-29T19:10:00.048Z"
   },
   {
    "duration": 0,
    "start_time": "2023-04-29T19:10:00.050Z"
   },
   {
    "duration": 0,
    "start_time": "2023-04-29T19:10:00.063Z"
   },
   {
    "duration": 0,
    "start_time": "2023-04-29T19:10:00.065Z"
   },
   {
    "duration": 0,
    "start_time": "2023-04-29T19:10:00.066Z"
   },
   {
    "duration": 0,
    "start_time": "2023-04-29T19:10:00.083Z"
   },
   {
    "duration": 0,
    "start_time": "2023-04-29T19:10:00.084Z"
   },
   {
    "duration": 0,
    "start_time": "2023-04-29T19:10:00.086Z"
   },
   {
    "duration": 1968,
    "start_time": "2023-04-29T19:11:46.611Z"
   },
   {
    "duration": 1198,
    "start_time": "2023-04-29T19:11:48.584Z"
   },
   {
    "duration": 66,
    "start_time": "2023-04-29T19:11:49.785Z"
   },
   {
    "duration": 363,
    "start_time": "2023-04-29T19:11:49.854Z"
   },
   {
    "duration": 58,
    "start_time": "2023-04-29T19:11:50.231Z"
   },
   {
    "duration": 46,
    "start_time": "2023-04-29T19:11:50.292Z"
   },
   {
    "duration": 753,
    "start_time": "2023-04-29T19:11:50.339Z"
   },
   {
    "duration": 18,
    "start_time": "2023-04-29T19:11:51.095Z"
   },
   {
    "duration": 13,
    "start_time": "2023-04-29T19:11:51.115Z"
   },
   {
    "duration": 13,
    "start_time": "2023-04-29T19:11:51.134Z"
   },
   {
    "duration": 10,
    "start_time": "2023-04-29T19:11:51.154Z"
   },
   {
    "duration": 9,
    "start_time": "2023-04-29T19:11:51.166Z"
   },
   {
    "duration": 7,
    "start_time": "2023-04-29T19:11:51.178Z"
   },
   {
    "duration": 1681,
    "start_time": "2023-04-29T19:11:51.187Z"
   },
   {
    "duration": 1766,
    "start_time": "2023-04-29T19:11:52.872Z"
   },
   {
    "duration": 1743,
    "start_time": "2023-04-29T19:11:54.645Z"
   },
   {
    "duration": 4,
    "start_time": "2023-04-29T19:11:56.390Z"
   },
   {
    "duration": 792,
    "start_time": "2023-04-29T19:11:56.397Z"
   },
   {
    "duration": 797,
    "start_time": "2023-04-29T19:11:57.192Z"
   },
   {
    "duration": 5,
    "start_time": "2023-04-29T19:11:57.991Z"
   },
   {
    "duration": 30,
    "start_time": "2023-04-29T19:11:57.998Z"
   },
   {
    "duration": 23,
    "start_time": "2023-04-29T19:11:58.034Z"
   },
   {
    "duration": 1824,
    "start_time": "2023-04-29T19:11:58.062Z"
   },
   {
    "duration": 43,
    "start_time": "2023-04-29T19:11:59.888Z"
   },
   {
    "duration": 6,
    "start_time": "2023-04-29T19:11:59.933Z"
   },
   {
    "duration": 17,
    "start_time": "2023-04-29T19:11:59.943Z"
   },
   {
    "duration": 12,
    "start_time": "2023-04-29T19:11:59.962Z"
   },
   {
    "duration": 8,
    "start_time": "2023-04-29T19:11:59.980Z"
   },
   {
    "duration": 7,
    "start_time": "2023-04-29T19:11:59.993Z"
   },
   {
    "duration": 5495,
    "start_time": "2023-04-29T19:12:00.002Z"
   },
   {
    "duration": 5562,
    "start_time": "2023-04-29T19:12:05.499Z"
   },
   {
    "duration": 23,
    "start_time": "2023-04-29T19:12:11.063Z"
   },
   {
    "duration": 4,
    "start_time": "2023-04-29T19:12:11.090Z"
   },
   {
    "duration": 1971,
    "start_time": "2023-04-29T19:23:24.224Z"
   },
   {
    "duration": 1116,
    "start_time": "2023-04-29T19:23:26.202Z"
   },
   {
    "duration": 77,
    "start_time": "2023-04-29T19:23:27.319Z"
   },
   {
    "duration": 333,
    "start_time": "2023-04-29T19:23:27.399Z"
   },
   {
    "duration": 43,
    "start_time": "2023-04-29T19:23:27.737Z"
   },
   {
    "duration": 41,
    "start_time": "2023-04-29T19:23:27.782Z"
   },
   {
    "duration": 730,
    "start_time": "2023-04-29T19:23:27.825Z"
   },
   {
    "duration": 11,
    "start_time": "2023-04-29T19:23:28.563Z"
   },
   {
    "duration": 14,
    "start_time": "2023-04-29T19:23:28.576Z"
   },
   {
    "duration": 6,
    "start_time": "2023-04-29T19:23:28.592Z"
   },
   {
    "duration": 6,
    "start_time": "2023-04-29T19:23:28.600Z"
   },
   {
    "duration": 15,
    "start_time": "2023-04-29T19:23:28.607Z"
   },
   {
    "duration": 168,
    "start_time": "2023-04-29T19:23:28.632Z"
   },
   {
    "duration": 0,
    "start_time": "2023-04-29T19:23:28.805Z"
   },
   {
    "duration": 0,
    "start_time": "2023-04-29T19:23:28.807Z"
   },
   {
    "duration": 0,
    "start_time": "2023-04-29T19:23:28.811Z"
   },
   {
    "duration": 0,
    "start_time": "2023-04-29T19:23:28.812Z"
   },
   {
    "duration": 0,
    "start_time": "2023-04-29T19:23:28.812Z"
   },
   {
    "duration": 0,
    "start_time": "2023-04-29T19:23:28.813Z"
   },
   {
    "duration": 0,
    "start_time": "2023-04-29T19:23:28.814Z"
   },
   {
    "duration": 0,
    "start_time": "2023-04-29T19:23:28.814Z"
   },
   {
    "duration": 0,
    "start_time": "2023-04-29T19:23:28.815Z"
   },
   {
    "duration": 0,
    "start_time": "2023-04-29T19:23:28.816Z"
   },
   {
    "duration": 0,
    "start_time": "2023-04-29T19:23:28.817Z"
   },
   {
    "duration": 0,
    "start_time": "2023-04-29T19:23:28.817Z"
   },
   {
    "duration": 0,
    "start_time": "2023-04-29T19:23:28.818Z"
   },
   {
    "duration": 0,
    "start_time": "2023-04-29T19:23:28.819Z"
   },
   {
    "duration": 0,
    "start_time": "2023-04-29T19:23:28.820Z"
   },
   {
    "duration": 0,
    "start_time": "2023-04-29T19:23:28.821Z"
   },
   {
    "duration": 0,
    "start_time": "2023-04-29T19:23:28.822Z"
   },
   {
    "duration": 0,
    "start_time": "2023-04-29T19:23:28.825Z"
   },
   {
    "duration": 0,
    "start_time": "2023-04-29T19:23:28.828Z"
   },
   {
    "duration": 0,
    "start_time": "2023-04-29T19:23:28.833Z"
   },
   {
    "duration": 0,
    "start_time": "2023-04-29T19:23:28.836Z"
   },
   {
    "duration": 0,
    "start_time": "2023-04-29T19:23:28.837Z"
   },
   {
    "duration": 0,
    "start_time": "2023-04-29T19:23:28.838Z"
   },
   {
    "duration": 0,
    "start_time": "2023-04-29T19:23:28.845Z"
   },
   {
    "duration": 0,
    "start_time": "2023-04-29T19:23:28.847Z"
   },
   {
    "duration": 0,
    "start_time": "2023-04-29T19:23:28.848Z"
   },
   {
    "duration": 0,
    "start_time": "2023-04-29T19:23:28.849Z"
   },
   {
    "duration": 0,
    "start_time": "2023-04-29T19:23:28.851Z"
   },
   {
    "duration": 0,
    "start_time": "2023-04-29T19:23:28.855Z"
   },
   {
    "duration": 2014,
    "start_time": "2023-04-29T19:25:15.129Z"
   },
   {
    "duration": 1085,
    "start_time": "2023-04-29T19:25:17.147Z"
   },
   {
    "duration": 65,
    "start_time": "2023-04-29T19:25:18.234Z"
   },
   {
    "duration": 391,
    "start_time": "2023-04-29T19:25:18.302Z"
   },
   {
    "duration": 68,
    "start_time": "2023-04-29T19:25:18.695Z"
   },
   {
    "duration": 51,
    "start_time": "2023-04-29T19:25:18.774Z"
   },
   {
    "duration": 894,
    "start_time": "2023-04-29T19:25:18.827Z"
   },
   {
    "duration": 14,
    "start_time": "2023-04-29T19:25:19.726Z"
   },
   {
    "duration": 29,
    "start_time": "2023-04-29T19:25:19.745Z"
   },
   {
    "duration": 10,
    "start_time": "2023-04-29T19:25:19.777Z"
   },
   {
    "duration": 14,
    "start_time": "2023-04-29T19:25:19.791Z"
   },
   {
    "duration": 8,
    "start_time": "2023-04-29T19:25:19.807Z"
   },
   {
    "duration": 7,
    "start_time": "2023-04-29T19:25:19.818Z"
   },
   {
    "duration": 12,
    "start_time": "2023-04-29T19:25:19.830Z"
   },
   {
    "duration": 2012,
    "start_time": "2023-04-29T19:25:19.845Z"
   },
   {
    "duration": 1687,
    "start_time": "2023-04-29T19:25:21.863Z"
   },
   {
    "duration": 1671,
    "start_time": "2023-04-29T19:25:23.553Z"
   },
   {
    "duration": 7,
    "start_time": "2023-04-29T19:25:25.225Z"
   },
   {
    "duration": 758,
    "start_time": "2023-04-29T19:25:25.235Z"
   },
   {
    "duration": 684,
    "start_time": "2023-04-29T19:25:25.995Z"
   },
   {
    "duration": 3,
    "start_time": "2023-04-29T19:25:26.681Z"
   },
   {
    "duration": 4,
    "start_time": "2023-04-29T19:25:26.687Z"
   },
   {
    "duration": 9,
    "start_time": "2023-04-29T19:25:26.693Z"
   },
   {
    "duration": 1636,
    "start_time": "2023-04-29T19:25:26.724Z"
   },
   {
    "duration": 41,
    "start_time": "2023-04-29T19:25:28.366Z"
   },
   {
    "duration": 12,
    "start_time": "2023-04-29T19:25:28.409Z"
   },
   {
    "duration": 10,
    "start_time": "2023-04-29T19:25:28.423Z"
   },
   {
    "duration": 11,
    "start_time": "2023-04-29T19:25:28.435Z"
   },
   {
    "duration": 5,
    "start_time": "2023-04-29T19:25:28.448Z"
   },
   {
    "duration": 6,
    "start_time": "2023-04-29T19:25:28.455Z"
   },
   {
    "duration": 6582,
    "start_time": "2023-04-29T19:25:28.464Z"
   },
   {
    "duration": 5878,
    "start_time": "2023-04-29T19:25:35.048Z"
   },
   {
    "duration": 20,
    "start_time": "2023-04-29T19:25:40.928Z"
   },
   {
    "duration": 13,
    "start_time": "2023-04-29T19:25:40.951Z"
   },
   {
    "duration": 2119,
    "start_time": "2023-04-29T20:37:42.533Z"
   },
   {
    "duration": 1195,
    "start_time": "2023-04-29T20:37:44.657Z"
   },
   {
    "duration": 83,
    "start_time": "2023-04-29T20:37:45.860Z"
   },
   {
    "duration": 356,
    "start_time": "2023-04-29T20:37:45.950Z"
   },
   {
    "duration": 68,
    "start_time": "2023-04-29T20:37:46.310Z"
   },
   {
    "duration": 39,
    "start_time": "2023-04-29T20:37:46.380Z"
   },
   {
    "duration": 763,
    "start_time": "2023-04-29T20:37:46.428Z"
   },
   {
    "duration": 23,
    "start_time": "2023-04-29T20:37:47.194Z"
   },
   {
    "duration": 21,
    "start_time": "2023-04-29T20:37:47.221Z"
   },
   {
    "duration": 9,
    "start_time": "2023-04-29T20:37:47.245Z"
   },
   {
    "duration": 13,
    "start_time": "2023-04-29T20:37:47.260Z"
   },
   {
    "duration": 5,
    "start_time": "2023-04-29T20:37:47.277Z"
   },
   {
    "duration": 7,
    "start_time": "2023-04-29T20:37:47.284Z"
   },
   {
    "duration": 6,
    "start_time": "2023-04-29T20:37:47.296Z"
   },
   {
    "duration": 1788,
    "start_time": "2023-04-29T20:37:47.322Z"
   },
   {
    "duration": 2008,
    "start_time": "2023-04-29T20:37:49.124Z"
   },
   {
    "duration": 1679,
    "start_time": "2023-04-29T20:37:51.134Z"
   },
   {
    "duration": 7,
    "start_time": "2023-04-29T20:37:52.815Z"
   },
   {
    "duration": 795,
    "start_time": "2023-04-29T20:37:52.824Z"
   },
   {
    "duration": 839,
    "start_time": "2023-04-29T20:37:53.622Z"
   },
   {
    "duration": 8,
    "start_time": "2023-04-29T20:37:54.468Z"
   },
   {
    "duration": 6,
    "start_time": "2023-04-29T20:37:54.478Z"
   },
   {
    "duration": 15,
    "start_time": "2023-04-29T20:37:54.486Z"
   },
   {
    "duration": 1662,
    "start_time": "2023-04-29T20:37:54.503Z"
   },
   {
    "duration": 46,
    "start_time": "2023-04-29T20:37:56.168Z"
   },
   {
    "duration": 11,
    "start_time": "2023-04-29T20:37:56.222Z"
   },
   {
    "duration": 22,
    "start_time": "2023-04-29T20:37:56.236Z"
   },
   {
    "duration": 8,
    "start_time": "2023-04-29T20:37:56.264Z"
   },
   {
    "duration": 11,
    "start_time": "2023-04-29T20:37:56.275Z"
   },
   {
    "duration": 3,
    "start_time": "2023-04-29T20:37:56.288Z"
   },
   {
    "duration": 5,
    "start_time": "2023-04-29T20:37:56.293Z"
   },
   {
    "duration": 5676,
    "start_time": "2023-04-29T20:37:56.300Z"
   },
   {
    "duration": 5872,
    "start_time": "2023-04-29T20:38:01.979Z"
   },
   {
    "duration": 22,
    "start_time": "2023-04-29T20:38:07.855Z"
   },
   {
    "duration": 10,
    "start_time": "2023-04-29T20:38:07.879Z"
   },
   {
    "duration": 1909,
    "start_time": "2023-04-29T20:38:43.468Z"
   },
   {
    "duration": 1082,
    "start_time": "2023-04-29T20:38:45.382Z"
   },
   {
    "duration": 77,
    "start_time": "2023-04-29T20:38:46.472Z"
   },
   {
    "duration": 366,
    "start_time": "2023-04-29T20:38:46.552Z"
   },
   {
    "duration": 55,
    "start_time": "2023-04-29T20:38:46.923Z"
   },
   {
    "duration": 55,
    "start_time": "2023-04-29T20:38:46.985Z"
   },
   {
    "duration": 913,
    "start_time": "2023-04-29T20:38:47.048Z"
   },
   {
    "duration": 16,
    "start_time": "2023-04-29T20:38:47.967Z"
   },
   {
    "duration": 11,
    "start_time": "2023-04-29T20:38:47.985Z"
   },
   {
    "duration": 22,
    "start_time": "2023-04-29T20:38:48.000Z"
   },
   {
    "duration": 13,
    "start_time": "2023-04-29T20:38:48.025Z"
   },
   {
    "duration": 25,
    "start_time": "2023-04-29T20:38:48.040Z"
   },
   {
    "duration": 11,
    "start_time": "2023-04-29T20:38:48.070Z"
   },
   {
    "duration": 17,
    "start_time": "2023-04-29T20:38:48.083Z"
   },
   {
    "duration": 2065,
    "start_time": "2023-04-29T20:38:48.102Z"
   },
   {
    "duration": 1931,
    "start_time": "2023-04-29T20:38:50.173Z"
   },
   {
    "duration": 2359,
    "start_time": "2023-04-29T20:38:52.111Z"
   },
   {
    "duration": 17,
    "start_time": "2023-04-29T20:38:54.477Z"
   },
   {
    "duration": 690,
    "start_time": "2023-04-29T20:38:54.501Z"
   },
   {
    "duration": 1048,
    "start_time": "2023-04-29T20:38:55.197Z"
   },
   {
    "duration": 13,
    "start_time": "2023-04-29T20:38:56.250Z"
   },
   {
    "duration": 6,
    "start_time": "2023-04-29T20:38:56.269Z"
   },
   {
    "duration": 14,
    "start_time": "2023-04-29T20:38:56.281Z"
   },
   {
    "duration": 2093,
    "start_time": "2023-04-29T20:38:56.302Z"
   },
   {
    "duration": 70,
    "start_time": "2023-04-29T20:38:58.400Z"
   },
   {
    "duration": 27,
    "start_time": "2023-04-29T20:38:58.476Z"
   },
   {
    "duration": 14,
    "start_time": "2023-04-29T20:38:58.512Z"
   },
   {
    "duration": 17,
    "start_time": "2023-04-29T20:38:58.530Z"
   },
   {
    "duration": 18,
    "start_time": "2023-04-29T20:38:58.549Z"
   },
   {
    "duration": 7,
    "start_time": "2023-04-29T20:38:58.569Z"
   },
   {
    "duration": 6726,
    "start_time": "2023-04-29T20:38:58.579Z"
   },
   {
    "duration": 6041,
    "start_time": "2023-04-29T20:39:05.308Z"
   },
   {
    "duration": 31,
    "start_time": "2023-04-29T20:39:11.355Z"
   },
   {
    "duration": 13,
    "start_time": "2023-04-29T20:39:11.393Z"
   },
   {
    "duration": 2937715,
    "start_time": "2023-04-29T20:39:11.408Z"
   },
   {
    "duration": 1558,
    "start_time": "2023-04-29T21:34:41.642Z"
   },
   {
    "duration": 884,
    "start_time": "2023-04-29T21:34:43.202Z"
   },
   {
    "duration": 56,
    "start_time": "2023-04-29T21:34:44.088Z"
   },
   {
    "duration": 249,
    "start_time": "2023-04-29T21:34:44.147Z"
   },
   {
    "duration": 56,
    "start_time": "2023-04-29T21:34:44.399Z"
   },
   {
    "duration": 42,
    "start_time": "2023-04-29T21:34:44.457Z"
   },
   {
    "duration": 644,
    "start_time": "2023-04-29T21:34:44.501Z"
   },
   {
    "duration": 7,
    "start_time": "2023-04-29T21:34:45.148Z"
   },
   {
    "duration": 14,
    "start_time": "2023-04-29T21:34:45.157Z"
   },
   {
    "duration": 12,
    "start_time": "2023-04-29T21:34:45.173Z"
   },
   {
    "duration": 13,
    "start_time": "2023-04-29T21:34:45.187Z"
   },
   {
    "duration": 8,
    "start_time": "2023-04-29T21:34:45.202Z"
   },
   {
    "duration": 13,
    "start_time": "2023-04-29T21:34:45.222Z"
   },
   {
    "duration": 11,
    "start_time": "2023-04-29T21:34:45.241Z"
   },
   {
    "duration": 1535,
    "start_time": "2023-04-29T21:34:45.255Z"
   },
   {
    "duration": 1487,
    "start_time": "2023-04-29T21:34:46.792Z"
   },
   {
    "duration": 1654,
    "start_time": "2023-04-29T21:34:48.281Z"
   },
   {
    "duration": 7,
    "start_time": "2023-04-29T21:34:49.937Z"
   },
   {
    "duration": 601,
    "start_time": "2023-04-29T21:34:49.946Z"
   },
   {
    "duration": 618,
    "start_time": "2023-04-29T21:34:50.549Z"
   },
   {
    "duration": 3,
    "start_time": "2023-04-29T21:34:51.169Z"
   },
   {
    "duration": 10,
    "start_time": "2023-04-29T21:34:51.173Z"
   },
   {
    "duration": 9,
    "start_time": "2023-04-29T21:34:51.185Z"
   },
   {
    "duration": 1328,
    "start_time": "2023-04-29T21:34:51.195Z"
   },
   {
    "duration": 7,
    "start_time": "2023-04-29T21:34:52.526Z"
   },
   {
    "duration": 22,
    "start_time": "2023-04-29T21:34:52.535Z"
   },
   {
    "duration": 213,
    "start_time": "2023-04-29T21:34:52.559Z"
   },
   {
    "duration": 0,
    "start_time": "2023-04-29T21:34:52.776Z"
   },
   {
    "duration": 0,
    "start_time": "2023-04-29T21:34:52.778Z"
   },
   {
    "duration": 0,
    "start_time": "2023-04-29T21:34:52.779Z"
   },
   {
    "duration": 0,
    "start_time": "2023-04-29T21:34:52.780Z"
   },
   {
    "duration": 0,
    "start_time": "2023-04-29T21:34:52.781Z"
   },
   {
    "duration": 0,
    "start_time": "2023-04-29T21:34:52.782Z"
   },
   {
    "duration": 0,
    "start_time": "2023-04-29T21:34:52.783Z"
   },
   {
    "duration": 0,
    "start_time": "2023-04-29T21:34:52.784Z"
   },
   {
    "duration": 0,
    "start_time": "2023-04-29T21:34:52.786Z"
   },
   {
    "duration": 0,
    "start_time": "2023-04-29T21:34:52.787Z"
   },
   {
    "duration": 0,
    "start_time": "2023-04-29T21:34:52.789Z"
   },
   {
    "duration": 0,
    "start_time": "2023-04-29T21:34:52.816Z"
   },
   {
    "duration": 0,
    "start_time": "2023-04-29T21:34:52.820Z"
   },
   {
    "duration": 0,
    "start_time": "2023-04-29T21:34:52.821Z"
   },
   {
    "duration": 0,
    "start_time": "2023-04-29T21:34:52.821Z"
   },
   {
    "duration": 0,
    "start_time": "2023-04-29T21:34:52.823Z"
   },
   {
    "duration": 0,
    "start_time": "2023-04-29T21:34:52.824Z"
   },
   {
    "duration": 0,
    "start_time": "2023-04-29T21:34:52.825Z"
   },
   {
    "duration": 0,
    "start_time": "2023-04-29T21:34:52.826Z"
   },
   {
    "duration": 1533,
    "start_time": "2023-04-29T21:39:49.428Z"
   },
   {
    "duration": 830,
    "start_time": "2023-04-29T21:39:50.963Z"
   },
   {
    "duration": 54,
    "start_time": "2023-04-29T21:39:51.795Z"
   },
   {
    "duration": 288,
    "start_time": "2023-04-29T21:39:51.851Z"
   },
   {
    "duration": 31,
    "start_time": "2023-04-29T21:39:52.146Z"
   },
   {
    "duration": 44,
    "start_time": "2023-04-29T21:39:52.178Z"
   },
   {
    "duration": 674,
    "start_time": "2023-04-29T21:39:52.225Z"
   },
   {
    "duration": 12,
    "start_time": "2023-04-29T21:39:52.901Z"
   },
   {
    "duration": 21,
    "start_time": "2023-04-29T21:39:52.915Z"
   },
   {
    "duration": 8,
    "start_time": "2023-04-29T21:39:52.948Z"
   },
   {
    "duration": 20,
    "start_time": "2023-04-29T21:39:52.958Z"
   },
   {
    "duration": 10,
    "start_time": "2023-04-29T21:39:52.979Z"
   },
   {
    "duration": 8,
    "start_time": "2023-04-29T21:39:52.991Z"
   },
   {
    "duration": 21,
    "start_time": "2023-04-29T21:39:53.002Z"
   },
   {
    "duration": 1567,
    "start_time": "2023-04-29T21:39:53.025Z"
   },
   {
    "duration": 1587,
    "start_time": "2023-04-29T21:39:54.593Z"
   },
   {
    "duration": 1503,
    "start_time": "2023-04-29T21:39:56.182Z"
   },
   {
    "duration": 3,
    "start_time": "2023-04-29T21:39:57.687Z"
   },
   {
    "duration": 556,
    "start_time": "2023-04-29T21:39:57.692Z"
   },
   {
    "duration": 671,
    "start_time": "2023-04-29T21:39:58.250Z"
   },
   {
    "duration": 6,
    "start_time": "2023-04-29T21:39:58.932Z"
   },
   {
    "duration": 5,
    "start_time": "2023-04-29T21:39:58.941Z"
   },
   {
    "duration": 11,
    "start_time": "2023-04-29T21:39:58.948Z"
   },
   {
    "duration": 1228,
    "start_time": "2023-04-29T21:39:58.961Z"
   },
   {
    "duration": 5,
    "start_time": "2023-04-29T21:40:00.191Z"
   },
   {
    "duration": 45,
    "start_time": "2023-04-29T21:40:00.198Z"
   },
   {
    "duration": 14,
    "start_time": "2023-04-29T21:40:00.245Z"
   },
   {
    "duration": 143,
    "start_time": "2023-04-29T21:40:00.261Z"
   },
   {
    "duration": 1238,
    "start_time": "2023-04-29T21:40:00.406Z"
   },
   {
    "duration": 25,
    "start_time": "2023-04-29T21:40:01.646Z"
   },
   {
    "duration": 14,
    "start_time": "2023-04-29T21:40:01.673Z"
   },
   {
    "duration": 32,
    "start_time": "2023-04-29T21:40:01.689Z"
   },
   {
    "duration": 32,
    "start_time": "2023-04-29T21:40:01.725Z"
   },
   {
    "duration": 43,
    "start_time": "2023-04-29T21:40:01.759Z"
   },
   {
    "duration": 35,
    "start_time": "2023-04-29T21:40:01.804Z"
   },
   {
    "duration": 3407,
    "start_time": "2023-04-29T21:40:01.840Z"
   },
   {
    "duration": 3300,
    "start_time": "2023-04-29T21:40:05.251Z"
   },
   {
    "duration": 15,
    "start_time": "2023-04-29T21:40:08.553Z"
   },
   {
    "duration": 4,
    "start_time": "2023-04-29T21:40:08.570Z"
   },
   {
    "duration": 1696,
    "start_time": "2023-04-29T21:46:08.668Z"
   },
   {
    "duration": 830,
    "start_time": "2023-04-29T21:46:10.366Z"
   },
   {
    "duration": 58,
    "start_time": "2023-04-29T21:46:11.198Z"
   },
   {
    "duration": 274,
    "start_time": "2023-04-29T21:46:11.258Z"
   },
   {
    "duration": 41,
    "start_time": "2023-04-29T21:46:11.535Z"
   },
   {
    "duration": 51,
    "start_time": "2023-04-29T21:46:11.578Z"
   },
   {
    "duration": 625,
    "start_time": "2023-04-29T21:46:11.631Z"
   },
   {
    "duration": 7,
    "start_time": "2023-04-29T21:46:12.258Z"
   },
   {
    "duration": 13,
    "start_time": "2023-04-29T21:46:12.266Z"
   },
   {
    "duration": 6,
    "start_time": "2023-04-29T21:46:12.281Z"
   },
   {
    "duration": 7,
    "start_time": "2023-04-29T21:46:12.289Z"
   },
   {
    "duration": 9,
    "start_time": "2023-04-29T21:46:12.322Z"
   },
   {
    "duration": 9,
    "start_time": "2023-04-29T21:46:12.337Z"
   },
   {
    "duration": 18,
    "start_time": "2023-04-29T21:46:12.350Z"
   },
   {
    "duration": 1589,
    "start_time": "2023-04-29T21:46:12.370Z"
   },
   {
    "duration": 1628,
    "start_time": "2023-04-29T21:46:13.961Z"
   },
   {
    "duration": 1489,
    "start_time": "2023-04-29T21:46:15.592Z"
   },
   {
    "duration": 4,
    "start_time": "2023-04-29T21:46:17.083Z"
   },
   {
    "duration": 657,
    "start_time": "2023-04-29T21:46:17.089Z"
   },
   {
    "duration": 630,
    "start_time": "2023-04-29T21:46:17.748Z"
   },
   {
    "duration": 3,
    "start_time": "2023-04-29T21:46:18.379Z"
   },
   {
    "duration": 4,
    "start_time": "2023-04-29T21:46:18.384Z"
   },
   {
    "duration": 9,
    "start_time": "2023-04-29T21:46:18.390Z"
   },
   {
    "duration": 1225,
    "start_time": "2023-04-29T21:46:18.411Z"
   },
   {
    "duration": 4,
    "start_time": "2023-04-29T21:46:19.644Z"
   },
   {
    "duration": 14,
    "start_time": "2023-04-29T21:46:19.649Z"
   },
   {
    "duration": 7,
    "start_time": "2023-04-29T21:46:19.664Z"
   },
   {
    "duration": 120,
    "start_time": "2023-04-29T21:46:19.672Z"
   },
   {
    "duration": 1246,
    "start_time": "2023-04-29T21:46:19.794Z"
   },
   {
    "duration": 33,
    "start_time": "2023-04-29T21:46:21.044Z"
   },
   {
    "duration": 4,
    "start_time": "2023-04-29T21:46:21.079Z"
   },
   {
    "duration": 18,
    "start_time": "2023-04-29T21:46:21.084Z"
   },
   {
    "duration": 21,
    "start_time": "2023-04-29T21:46:21.104Z"
   },
   {
    "duration": 10,
    "start_time": "2023-04-29T21:46:21.127Z"
   },
   {
    "duration": 7,
    "start_time": "2023-04-29T21:46:21.139Z"
   },
   {
    "duration": 3343,
    "start_time": "2023-04-29T21:46:21.147Z"
   },
   {
    "duration": 3286,
    "start_time": "2023-04-29T21:46:24.492Z"
   },
   {
    "duration": 13,
    "start_time": "2023-04-29T21:46:27.780Z"
   },
   {
    "duration": 26,
    "start_time": "2023-04-29T21:46:27.794Z"
   },
   {
    "duration": 1520,
    "start_time": "2023-04-29T21:48:42.937Z"
   },
   {
    "duration": 814,
    "start_time": "2023-04-29T21:48:44.459Z"
   },
   {
    "duration": 62,
    "start_time": "2023-04-29T21:48:45.275Z"
   },
   {
    "duration": 267,
    "start_time": "2023-04-29T21:48:45.341Z"
   },
   {
    "duration": 37,
    "start_time": "2023-04-29T21:48:45.612Z"
   },
   {
    "duration": 27,
    "start_time": "2023-04-29T21:48:45.650Z"
   },
   {
    "duration": 637,
    "start_time": "2023-04-29T21:48:45.678Z"
   },
   {
    "duration": 9,
    "start_time": "2023-04-29T21:48:46.318Z"
   },
   {
    "duration": 34,
    "start_time": "2023-04-29T21:48:46.328Z"
   },
   {
    "duration": 5,
    "start_time": "2023-04-29T21:48:46.364Z"
   },
   {
    "duration": 12,
    "start_time": "2023-04-29T21:48:46.370Z"
   },
   {
    "duration": 4,
    "start_time": "2023-04-29T21:48:46.384Z"
   },
   {
    "duration": 8,
    "start_time": "2023-04-29T21:48:46.389Z"
   },
   {
    "duration": 5,
    "start_time": "2023-04-29T21:48:46.401Z"
   },
   {
    "duration": 1492,
    "start_time": "2023-04-29T21:48:46.407Z"
   },
   {
    "duration": 1493,
    "start_time": "2023-04-29T21:48:47.901Z"
   },
   {
    "duration": 1504,
    "start_time": "2023-04-29T21:48:49.396Z"
   },
   {
    "duration": 19,
    "start_time": "2023-04-29T21:48:50.902Z"
   },
   {
    "duration": 641,
    "start_time": "2023-04-29T21:48:50.926Z"
   },
   {
    "duration": 593,
    "start_time": "2023-04-29T21:48:51.568Z"
   },
   {
    "duration": 3,
    "start_time": "2023-04-29T21:48:52.163Z"
   },
   {
    "duration": 5,
    "start_time": "2023-04-29T21:48:52.168Z"
   },
   {
    "duration": 9,
    "start_time": "2023-04-29T21:48:52.175Z"
   },
   {
    "duration": 1260,
    "start_time": "2023-04-29T21:48:52.186Z"
   },
   {
    "duration": 4,
    "start_time": "2023-04-29T21:48:53.448Z"
   },
   {
    "duration": 33,
    "start_time": "2023-04-29T21:48:53.454Z"
   },
   {
    "duration": 1353,
    "start_time": "2023-04-29T21:48:53.489Z"
   },
   {
    "duration": 5,
    "start_time": "2023-04-29T21:48:54.844Z"
   },
   {
    "duration": 128,
    "start_time": "2023-04-29T21:48:54.851Z"
   },
   {
    "duration": 1248,
    "start_time": "2023-04-29T21:48:54.981Z"
   },
   {
    "duration": 27,
    "start_time": "2023-04-29T21:48:56.231Z"
   },
   {
    "duration": 5,
    "start_time": "2023-04-29T21:48:56.259Z"
   },
   {
    "duration": 6,
    "start_time": "2023-04-29T21:48:56.265Z"
   },
   {
    "duration": 8,
    "start_time": "2023-04-29T21:48:56.273Z"
   },
   {
    "duration": 7,
    "start_time": "2023-04-29T21:48:56.283Z"
   },
   {
    "duration": 34,
    "start_time": "2023-04-29T21:48:56.291Z"
   },
   {
    "duration": 3322,
    "start_time": "2023-04-29T21:48:56.326Z"
   },
   {
    "duration": 3305,
    "start_time": "2023-04-29T21:48:59.650Z"
   },
   {
    "duration": 14,
    "start_time": "2023-04-29T21:49:02.957Z"
   },
   {
    "duration": 5,
    "start_time": "2023-04-29T21:49:02.973Z"
   },
   {
    "duration": 1510,
    "start_time": "2023-04-29T21:50:20.600Z"
   },
   {
    "duration": 855,
    "start_time": "2023-04-29T21:50:22.116Z"
   },
   {
    "duration": 66,
    "start_time": "2023-04-29T21:50:22.972Z"
   },
   {
    "duration": 279,
    "start_time": "2023-04-29T21:50:23.045Z"
   },
   {
    "duration": 49,
    "start_time": "2023-04-29T21:50:23.326Z"
   },
   {
    "duration": 47,
    "start_time": "2023-04-29T21:50:23.377Z"
   },
   {
    "duration": 634,
    "start_time": "2023-04-29T21:50:23.430Z"
   },
   {
    "duration": 7,
    "start_time": "2023-04-29T21:50:24.065Z"
   },
   {
    "duration": 17,
    "start_time": "2023-04-29T21:50:24.073Z"
   },
   {
    "duration": 5,
    "start_time": "2023-04-29T21:50:24.092Z"
   },
   {
    "duration": 32,
    "start_time": "2023-04-29T21:50:24.099Z"
   },
   {
    "duration": 10,
    "start_time": "2023-04-29T21:50:24.133Z"
   },
   {
    "duration": 4,
    "start_time": "2023-04-29T21:50:24.145Z"
   },
   {
    "duration": 5,
    "start_time": "2023-04-29T21:50:24.154Z"
   },
   {
    "duration": 1527,
    "start_time": "2023-04-29T21:50:24.161Z"
   },
   {
    "duration": 1587,
    "start_time": "2023-04-29T21:50:25.690Z"
   },
   {
    "duration": 1415,
    "start_time": "2023-04-29T21:50:27.279Z"
   },
   {
    "duration": 6,
    "start_time": "2023-04-29T21:50:28.697Z"
   },
   {
    "duration": 550,
    "start_time": "2023-04-29T21:50:28.721Z"
   },
   {
    "duration": 586,
    "start_time": "2023-04-29T21:50:29.273Z"
   },
   {
    "duration": 3,
    "start_time": "2023-04-29T21:50:29.860Z"
   },
   {
    "duration": 6,
    "start_time": "2023-04-29T21:50:29.865Z"
   },
   {
    "duration": 11,
    "start_time": "2023-04-29T21:50:29.873Z"
   },
   {
    "duration": 1263,
    "start_time": "2023-04-29T21:50:29.885Z"
   },
   {
    "duration": 5,
    "start_time": "2023-04-29T21:50:31.150Z"
   },
   {
    "duration": 13,
    "start_time": "2023-04-29T21:50:31.156Z"
   },
   {
    "duration": 1472,
    "start_time": "2023-04-29T21:50:31.171Z"
   },
   {
    "duration": 6,
    "start_time": "2023-04-29T21:50:32.645Z"
   },
   {
    "duration": 1266,
    "start_time": "2023-04-29T21:50:32.653Z"
   },
   {
    "duration": 1213,
    "start_time": "2023-04-29T21:50:33.925Z"
   },
   {
    "duration": 26,
    "start_time": "2023-04-29T21:50:35.139Z"
   },
   {
    "duration": 3,
    "start_time": "2023-04-29T21:50:35.166Z"
   },
   {
    "duration": 11,
    "start_time": "2023-04-29T21:50:35.171Z"
   },
   {
    "duration": 8,
    "start_time": "2023-04-29T21:50:35.183Z"
   },
   {
    "duration": 3,
    "start_time": "2023-04-29T21:50:35.193Z"
   },
   {
    "duration": 6,
    "start_time": "2023-04-29T21:50:35.212Z"
   },
   {
    "duration": 3346,
    "start_time": "2023-04-29T21:50:35.220Z"
   },
   {
    "duration": 3328,
    "start_time": "2023-04-29T21:50:38.568Z"
   },
   {
    "duration": 23,
    "start_time": "2023-04-29T21:50:41.898Z"
   },
   {
    "duration": 5,
    "start_time": "2023-04-29T21:50:41.929Z"
   },
   {
    "duration": 1542,
    "start_time": "2023-04-29T21:53:36.440Z"
   },
   {
    "duration": 869,
    "start_time": "2023-04-29T21:53:37.984Z"
   },
   {
    "duration": 75,
    "start_time": "2023-04-29T21:53:38.855Z"
   },
   {
    "duration": 316,
    "start_time": "2023-04-29T21:53:38.932Z"
   },
   {
    "duration": 31,
    "start_time": "2023-04-29T21:53:39.251Z"
   },
   {
    "duration": 54,
    "start_time": "2023-04-29T21:53:39.284Z"
   },
   {
    "duration": 620,
    "start_time": "2023-04-29T21:53:39.346Z"
   },
   {
    "duration": 5,
    "start_time": "2023-04-29T21:53:39.968Z"
   },
   {
    "duration": 11,
    "start_time": "2023-04-29T21:53:39.974Z"
   },
   {
    "duration": 8,
    "start_time": "2023-04-29T21:53:39.987Z"
   },
   {
    "duration": 26,
    "start_time": "2023-04-29T21:53:39.997Z"
   },
   {
    "duration": 11,
    "start_time": "2023-04-29T21:53:40.024Z"
   },
   {
    "duration": 5,
    "start_time": "2023-04-29T21:53:40.044Z"
   },
   {
    "duration": 6,
    "start_time": "2023-04-29T21:53:40.053Z"
   },
   {
    "duration": 1527,
    "start_time": "2023-04-29T21:53:40.060Z"
   },
   {
    "duration": 1635,
    "start_time": "2023-04-29T21:53:41.588Z"
   },
   {
    "duration": 1565,
    "start_time": "2023-04-29T21:53:43.228Z"
   },
   {
    "duration": 5,
    "start_time": "2023-04-29T21:53:44.795Z"
   },
   {
    "duration": 574,
    "start_time": "2023-04-29T21:53:44.811Z"
   },
   {
    "duration": 583,
    "start_time": "2023-04-29T21:53:45.387Z"
   },
   {
    "duration": 2,
    "start_time": "2023-04-29T21:53:45.972Z"
   },
   {
    "duration": 5,
    "start_time": "2023-04-29T21:53:45.976Z"
   },
   {
    "duration": 9,
    "start_time": "2023-04-29T21:53:45.983Z"
   },
   {
    "duration": 1456,
    "start_time": "2023-04-29T21:53:45.993Z"
   },
   {
    "duration": 6,
    "start_time": "2023-04-29T21:53:47.455Z"
   },
   {
    "duration": 5,
    "start_time": "2023-04-29T21:53:47.465Z"
   },
   {
    "duration": 1337,
    "start_time": "2023-04-29T21:53:47.472Z"
   },
   {
    "duration": 8,
    "start_time": "2023-04-29T21:53:48.811Z"
   },
   {
    "duration": 1555,
    "start_time": "2023-04-29T21:53:48.822Z"
   },
   {
    "duration": 8,
    "start_time": "2023-04-29T21:53:50.379Z"
   },
   {
    "duration": 1179,
    "start_time": "2023-04-29T21:53:50.388Z"
   },
   {
    "duration": 25,
    "start_time": "2023-04-29T21:53:51.569Z"
   },
   {
    "duration": 23,
    "start_time": "2023-04-29T21:53:51.596Z"
   },
   {
    "duration": 17,
    "start_time": "2023-04-29T21:53:51.621Z"
   },
   {
    "duration": 8,
    "start_time": "2023-04-29T21:53:51.644Z"
   },
   {
    "duration": 15,
    "start_time": "2023-04-29T21:53:51.653Z"
   },
   {
    "duration": 9,
    "start_time": "2023-04-29T21:53:51.670Z"
   },
   {
    "duration": 3463,
    "start_time": "2023-04-29T21:53:51.681Z"
   },
   {
    "duration": 3317,
    "start_time": "2023-04-29T21:53:55.146Z"
   },
   {
    "duration": 14,
    "start_time": "2023-04-29T21:53:58.465Z"
   },
   {
    "duration": 5,
    "start_time": "2023-04-29T21:53:58.483Z"
   },
   {
    "duration": 1563,
    "start_time": "2023-04-29T21:54:44.507Z"
   },
   {
    "duration": 827,
    "start_time": "2023-04-29T21:54:46.072Z"
   },
   {
    "duration": 53,
    "start_time": "2023-04-29T21:54:46.901Z"
   },
   {
    "duration": 282,
    "start_time": "2023-04-29T21:54:46.956Z"
   },
   {
    "duration": 30,
    "start_time": "2023-04-29T21:54:47.241Z"
   },
   {
    "duration": 49,
    "start_time": "2023-04-29T21:54:47.272Z"
   },
   {
    "duration": 639,
    "start_time": "2023-04-29T21:54:47.322Z"
   },
   {
    "duration": 5,
    "start_time": "2023-04-29T21:54:47.963Z"
   },
   {
    "duration": 8,
    "start_time": "2023-04-29T21:54:47.970Z"
   },
   {
    "duration": 6,
    "start_time": "2023-04-29T21:54:47.980Z"
   },
   {
    "duration": 19,
    "start_time": "2023-04-29T21:54:48.013Z"
   },
   {
    "duration": 8,
    "start_time": "2023-04-29T21:54:48.033Z"
   },
   {
    "duration": 7,
    "start_time": "2023-04-29T21:54:48.043Z"
   },
   {
    "duration": 8,
    "start_time": "2023-04-29T21:54:48.055Z"
   },
   {
    "duration": 1535,
    "start_time": "2023-04-29T21:54:48.065Z"
   },
   {
    "duration": 1573,
    "start_time": "2023-04-29T21:54:49.602Z"
   },
   {
    "duration": 1523,
    "start_time": "2023-04-29T21:54:51.177Z"
   },
   {
    "duration": 11,
    "start_time": "2023-04-29T21:54:52.702Z"
   },
   {
    "duration": 649,
    "start_time": "2023-04-29T21:54:52.719Z"
   },
   {
    "duration": 729,
    "start_time": "2023-04-29T21:54:53.370Z"
   },
   {
    "duration": 2,
    "start_time": "2023-04-29T21:54:54.101Z"
   },
   {
    "duration": 14,
    "start_time": "2023-04-29T21:54:54.118Z"
   },
   {
    "duration": 15,
    "start_time": "2023-04-29T21:54:54.137Z"
   },
   {
    "duration": 1320,
    "start_time": "2023-04-29T21:54:54.153Z"
   },
   {
    "duration": 4,
    "start_time": "2023-04-29T21:54:55.475Z"
   },
   {
    "duration": 49,
    "start_time": "2023-04-29T21:54:55.481Z"
   },
   {
    "duration": 1190,
    "start_time": "2023-04-29T21:54:55.538Z"
   },
   {
    "duration": 8,
    "start_time": "2023-04-29T21:54:56.732Z"
   },
   {
    "duration": 1217,
    "start_time": "2023-04-29T21:54:56.742Z"
   },
   {
    "duration": 3,
    "start_time": "2023-04-29T21:54:57.961Z"
   },
   {
    "duration": 4,
    "start_time": "2023-04-29T21:54:57.966Z"
   },
   {
    "duration": 16,
    "start_time": "2023-04-29T21:54:57.972Z"
   },
   {
    "duration": 1204,
    "start_time": "2023-04-29T21:54:57.990Z"
   },
   {
    "duration": 43,
    "start_time": "2023-04-29T21:54:59.196Z"
   },
   {
    "duration": 5,
    "start_time": "2023-04-29T21:54:59.241Z"
   },
   {
    "duration": 6,
    "start_time": "2023-04-29T21:54:59.248Z"
   },
   {
    "duration": 9,
    "start_time": "2023-04-29T21:54:59.256Z"
   },
   {
    "duration": 4,
    "start_time": "2023-04-29T21:54:59.266Z"
   },
   {
    "duration": 5,
    "start_time": "2023-04-29T21:54:59.272Z"
   },
   {
    "duration": 3424,
    "start_time": "2023-04-29T21:54:59.279Z"
   },
   {
    "duration": 3471,
    "start_time": "2023-04-29T21:55:02.707Z"
   },
   {
    "duration": 16,
    "start_time": "2023-04-29T21:55:06.181Z"
   },
   {
    "duration": 6,
    "start_time": "2023-04-29T21:55:06.212Z"
   },
   {
    "duration": 1611,
    "start_time": "2023-04-29T21:58:04.866Z"
   },
   {
    "duration": 860,
    "start_time": "2023-04-29T21:58:06.480Z"
   },
   {
    "duration": 52,
    "start_time": "2023-04-29T21:58:07.342Z"
   },
   {
    "duration": 290,
    "start_time": "2023-04-29T21:58:07.396Z"
   },
   {
    "duration": 53,
    "start_time": "2023-04-29T21:58:07.688Z"
   },
   {
    "duration": 39,
    "start_time": "2023-04-29T21:58:07.748Z"
   },
   {
    "duration": 683,
    "start_time": "2023-04-29T21:58:07.789Z"
   },
   {
    "duration": 5,
    "start_time": "2023-04-29T21:58:08.474Z"
   },
   {
    "duration": 16,
    "start_time": "2023-04-29T21:58:08.481Z"
   },
   {
    "duration": 20,
    "start_time": "2023-04-29T21:58:08.499Z"
   },
   {
    "duration": 7,
    "start_time": "2023-04-29T21:58:08.521Z"
   },
   {
    "duration": 6,
    "start_time": "2023-04-29T21:58:08.530Z"
   },
   {
    "duration": 8,
    "start_time": "2023-04-29T21:58:08.537Z"
   },
   {
    "duration": 7,
    "start_time": "2023-04-29T21:58:08.549Z"
   },
   {
    "duration": 1536,
    "start_time": "2023-04-29T21:58:08.557Z"
   },
   {
    "duration": 1689,
    "start_time": "2023-04-29T21:58:10.095Z"
   },
   {
    "duration": 1564,
    "start_time": "2023-04-29T21:58:11.785Z"
   },
   {
    "duration": 6,
    "start_time": "2023-04-29T21:58:13.351Z"
   },
   {
    "duration": 614,
    "start_time": "2023-04-29T21:58:13.359Z"
   },
   {
    "duration": 657,
    "start_time": "2023-04-29T21:58:13.975Z"
   },
   {
    "duration": 5,
    "start_time": "2023-04-29T21:58:14.634Z"
   },
   {
    "duration": 9,
    "start_time": "2023-04-29T21:58:14.642Z"
   },
   {
    "duration": 51,
    "start_time": "2023-04-29T21:58:14.653Z"
   },
   {
    "duration": 1358,
    "start_time": "2023-04-29T21:58:14.706Z"
   },
   {
    "duration": 4,
    "start_time": "2023-04-29T21:58:16.066Z"
   },
   {
    "duration": 7,
    "start_time": "2023-04-29T21:58:16.072Z"
   },
   {
    "duration": 1297,
    "start_time": "2023-04-29T21:58:16.080Z"
   },
   {
    "duration": 7,
    "start_time": "2023-04-29T21:58:17.378Z"
   },
   {
    "duration": 1247,
    "start_time": "2023-04-29T21:58:17.386Z"
   },
   {
    "duration": 6,
    "start_time": "2023-04-29T21:58:18.635Z"
   },
   {
    "duration": 8,
    "start_time": "2023-04-29T21:58:18.646Z"
   },
   {
    "duration": 21,
    "start_time": "2023-04-29T21:58:18.655Z"
   },
   {
    "duration": 1258,
    "start_time": "2023-04-29T21:58:18.678Z"
   },
   {
    "duration": 28,
    "start_time": "2023-04-29T21:58:19.937Z"
   },
   {
    "duration": 4,
    "start_time": "2023-04-29T21:58:19.966Z"
   },
   {
    "duration": 6,
    "start_time": "2023-04-29T21:58:19.972Z"
   },
   {
    "duration": 7,
    "start_time": "2023-04-29T21:58:19.980Z"
   },
   {
    "duration": 21,
    "start_time": "2023-04-29T21:58:20.018Z"
   },
   {
    "duration": 12,
    "start_time": "2023-04-29T21:58:20.040Z"
   },
   {
    "duration": 3400,
    "start_time": "2023-04-29T21:58:20.054Z"
   },
   {
    "duration": 3422,
    "start_time": "2023-04-29T21:58:23.459Z"
   },
   {
    "duration": 16,
    "start_time": "2023-04-29T21:58:26.883Z"
   },
   {
    "duration": 22,
    "start_time": "2023-04-29T21:58:26.900Z"
   },
   {
    "duration": 1588,
    "start_time": "2023-04-29T21:59:14.448Z"
   },
   {
    "duration": 837,
    "start_time": "2023-04-29T21:59:16.048Z"
   },
   {
    "duration": 69,
    "start_time": "2023-04-29T21:59:16.887Z"
   },
   {
    "duration": 278,
    "start_time": "2023-04-29T21:59:16.958Z"
   },
   {
    "duration": 44,
    "start_time": "2023-04-29T21:59:17.248Z"
   },
   {
    "duration": 53,
    "start_time": "2023-04-29T21:59:17.294Z"
   },
   {
    "duration": 648,
    "start_time": "2023-04-29T21:59:17.350Z"
   },
   {
    "duration": 8,
    "start_time": "2023-04-29T21:59:18.000Z"
   },
   {
    "duration": 15,
    "start_time": "2023-04-29T21:59:18.010Z"
   },
   {
    "duration": 7,
    "start_time": "2023-04-29T21:59:18.031Z"
   },
   {
    "duration": 11,
    "start_time": "2023-04-29T21:59:18.040Z"
   },
   {
    "duration": 10,
    "start_time": "2023-04-29T21:59:18.052Z"
   },
   {
    "duration": 9,
    "start_time": "2023-04-29T21:59:18.064Z"
   },
   {
    "duration": 6,
    "start_time": "2023-04-29T21:59:18.078Z"
   },
   {
    "duration": 1541,
    "start_time": "2023-04-29T21:59:18.086Z"
   },
   {
    "duration": 1568,
    "start_time": "2023-04-29T21:59:19.629Z"
   },
   {
    "duration": 1624,
    "start_time": "2023-04-29T21:59:21.199Z"
   },
   {
    "duration": 10,
    "start_time": "2023-04-29T21:59:22.825Z"
   },
   {
    "duration": 552,
    "start_time": "2023-04-29T21:59:22.840Z"
   },
   {
    "duration": 594,
    "start_time": "2023-04-29T21:59:23.394Z"
   },
   {
    "duration": 3,
    "start_time": "2023-04-29T21:59:23.990Z"
   },
   {
    "duration": 6,
    "start_time": "2023-04-29T21:59:23.994Z"
   },
   {
    "duration": 18,
    "start_time": "2023-04-29T21:59:24.011Z"
   },
   {
    "duration": 1323,
    "start_time": "2023-04-29T21:59:24.031Z"
   },
   {
    "duration": 5,
    "start_time": "2023-04-29T21:59:25.357Z"
   },
   {
    "duration": 33,
    "start_time": "2023-04-29T21:59:25.365Z"
   },
   {
    "duration": 1359,
    "start_time": "2023-04-29T21:59:25.401Z"
   },
   {
    "duration": 6,
    "start_time": "2023-04-29T21:59:26.762Z"
   },
   {
    "duration": 1313,
    "start_time": "2023-04-29T21:59:26.770Z"
   },
   {
    "duration": 3,
    "start_time": "2023-04-29T21:59:28.085Z"
   },
   {
    "duration": 39,
    "start_time": "2023-04-29T21:59:28.090Z"
   },
   {
    "duration": 27,
    "start_time": "2023-04-29T21:59:28.133Z"
   },
   {
    "duration": 1227,
    "start_time": "2023-04-29T21:59:28.162Z"
   },
   {
    "duration": 46,
    "start_time": "2023-04-29T21:59:29.391Z"
   },
   {
    "duration": 8,
    "start_time": "2023-04-29T21:59:29.439Z"
   },
   {
    "duration": 9,
    "start_time": "2023-04-29T21:59:29.450Z"
   },
   {
    "duration": 12,
    "start_time": "2023-04-29T21:59:29.461Z"
   },
   {
    "duration": 11,
    "start_time": "2023-04-29T21:59:29.475Z"
   },
   {
    "duration": 31,
    "start_time": "2023-04-29T21:59:29.488Z"
   },
   {
    "duration": 3472,
    "start_time": "2023-04-29T21:59:29.525Z"
   },
   {
    "duration": 3423,
    "start_time": "2023-04-29T21:59:33.001Z"
   },
   {
    "duration": 27,
    "start_time": "2023-04-29T21:59:36.426Z"
   },
   {
    "duration": 9,
    "start_time": "2023-04-29T21:59:36.455Z"
   },
   {
    "duration": 1660,
    "start_time": "2023-04-29T22:02:33.911Z"
   },
   {
    "duration": 890,
    "start_time": "2023-04-29T22:02:35.573Z"
   },
   {
    "duration": 61,
    "start_time": "2023-04-29T22:02:36.465Z"
   },
   {
    "duration": 294,
    "start_time": "2023-04-29T22:02:36.528Z"
   },
   {
    "duration": 40,
    "start_time": "2023-04-29T22:02:36.824Z"
   },
   {
    "duration": 35,
    "start_time": "2023-04-29T22:02:36.866Z"
   },
   {
    "duration": 670,
    "start_time": "2023-04-29T22:02:36.903Z"
   },
   {
    "duration": 7,
    "start_time": "2023-04-29T22:02:37.574Z"
   },
   {
    "duration": 8,
    "start_time": "2023-04-29T22:02:37.583Z"
   },
   {
    "duration": 7,
    "start_time": "2023-04-29T22:02:37.612Z"
   },
   {
    "duration": 18,
    "start_time": "2023-04-29T22:02:37.621Z"
   },
   {
    "duration": 10,
    "start_time": "2023-04-29T22:02:37.641Z"
   },
   {
    "duration": 8,
    "start_time": "2023-04-29T22:02:37.656Z"
   },
   {
    "duration": 22,
    "start_time": "2023-04-29T22:02:37.669Z"
   },
   {
    "duration": 1788,
    "start_time": "2023-04-29T22:02:37.693Z"
   },
   {
    "duration": 1826,
    "start_time": "2023-04-29T22:02:39.483Z"
   },
   {
    "duration": 1565,
    "start_time": "2023-04-29T22:02:41.311Z"
   },
   {
    "duration": 5,
    "start_time": "2023-04-29T22:02:42.878Z"
   },
   {
    "duration": 693,
    "start_time": "2023-04-29T22:02:42.885Z"
   },
   {
    "duration": 703,
    "start_time": "2023-04-29T22:02:43.580Z"
   },
   {
    "duration": 4,
    "start_time": "2023-04-29T22:02:44.284Z"
   },
   {
    "duration": 10,
    "start_time": "2023-04-29T22:02:44.289Z"
   },
   {
    "duration": 25,
    "start_time": "2023-04-29T22:02:44.301Z"
   },
   {
    "duration": 1430,
    "start_time": "2023-04-29T22:02:44.329Z"
   },
   {
    "duration": 5,
    "start_time": "2023-04-29T22:02:45.761Z"
   },
   {
    "duration": 17,
    "start_time": "2023-04-29T22:02:45.768Z"
   },
   {
    "duration": 1261,
    "start_time": "2023-04-29T22:02:45.787Z"
   },
   {
    "duration": 7,
    "start_time": "2023-04-29T22:02:47.050Z"
   },
   {
    "duration": 1426,
    "start_time": "2023-04-29T22:02:47.059Z"
   },
   {
    "duration": 4,
    "start_time": "2023-04-29T22:02:48.487Z"
   },
   {
    "duration": 12,
    "start_time": "2023-04-29T22:02:48.493Z"
   },
   {
    "duration": 12,
    "start_time": "2023-04-29T22:02:48.517Z"
   },
   {
    "duration": 1337,
    "start_time": "2023-04-29T22:02:48.536Z"
   },
   {
    "duration": 38,
    "start_time": "2023-04-29T22:02:49.875Z"
   },
   {
    "duration": 6,
    "start_time": "2023-04-29T22:02:49.921Z"
   },
   {
    "duration": 8,
    "start_time": "2023-04-29T22:02:49.933Z"
   },
   {
    "duration": 14,
    "start_time": "2023-04-29T22:02:49.943Z"
   },
   {
    "duration": 4,
    "start_time": "2023-04-29T22:02:49.959Z"
   },
   {
    "duration": 9,
    "start_time": "2023-04-29T22:02:49.964Z"
   },
   {
    "duration": 3566,
    "start_time": "2023-04-29T22:02:49.975Z"
   },
   {
    "duration": 3461,
    "start_time": "2023-04-29T22:02:53.545Z"
   },
   {
    "duration": 20,
    "start_time": "2023-04-29T22:02:57.008Z"
   },
   {
    "duration": 3,
    "start_time": "2023-04-29T22:02:57.030Z"
   },
   {
    "duration": 1617,
    "start_time": "2023-04-29T22:04:11.936Z"
   },
   {
    "duration": 852,
    "start_time": "2023-04-29T22:04:13.555Z"
   },
   {
    "duration": 54,
    "start_time": "2023-04-29T22:04:14.411Z"
   },
   {
    "duration": 303,
    "start_time": "2023-04-29T22:04:14.467Z"
   },
   {
    "duration": 47,
    "start_time": "2023-04-29T22:04:14.773Z"
   },
   {
    "duration": 36,
    "start_time": "2023-04-29T22:04:14.826Z"
   },
   {
    "duration": 654,
    "start_time": "2023-04-29T22:04:14.865Z"
   },
   {
    "duration": 11,
    "start_time": "2023-04-29T22:04:15.528Z"
   },
   {
    "duration": 7,
    "start_time": "2023-04-29T22:04:15.543Z"
   },
   {
    "duration": 7,
    "start_time": "2023-04-29T22:04:15.552Z"
   },
   {
    "duration": 5,
    "start_time": "2023-04-29T22:04:15.561Z"
   },
   {
    "duration": 5,
    "start_time": "2023-04-29T22:04:15.568Z"
   },
   {
    "duration": 6,
    "start_time": "2023-04-29T22:04:15.574Z"
   },
   {
    "duration": 5,
    "start_time": "2023-04-29T22:04:15.584Z"
   },
   {
    "duration": 1691,
    "start_time": "2023-04-29T22:04:15.611Z"
   },
   {
    "duration": 1598,
    "start_time": "2023-04-29T22:04:17.304Z"
   },
   {
    "duration": 1584,
    "start_time": "2023-04-29T22:04:18.917Z"
   },
   {
    "duration": 13,
    "start_time": "2023-04-29T22:04:20.503Z"
   },
   {
    "duration": 642,
    "start_time": "2023-04-29T22:04:20.518Z"
   },
   {
    "duration": 618,
    "start_time": "2023-04-29T22:04:21.162Z"
   },
   {
    "duration": 3,
    "start_time": "2023-04-29T22:04:21.781Z"
   },
   {
    "duration": 5,
    "start_time": "2023-04-29T22:04:21.785Z"
   },
   {
    "duration": 25,
    "start_time": "2023-04-29T22:04:21.792Z"
   },
   {
    "duration": 1327,
    "start_time": "2023-04-29T22:04:21.819Z"
   },
   {
    "duration": 4,
    "start_time": "2023-04-29T22:04:23.148Z"
   },
   {
    "duration": 9,
    "start_time": "2023-04-29T22:04:23.153Z"
   },
   {
    "duration": 1375,
    "start_time": "2023-04-29T22:04:23.164Z"
   },
   {
    "duration": 6,
    "start_time": "2023-04-29T22:04:24.543Z"
   },
   {
    "duration": 1284,
    "start_time": "2023-04-29T22:04:24.551Z"
   },
   {
    "duration": 4,
    "start_time": "2023-04-29T22:04:25.837Z"
   },
   {
    "duration": 12,
    "start_time": "2023-04-29T22:04:25.844Z"
   },
   {
    "duration": 22,
    "start_time": "2023-04-29T22:04:25.858Z"
   },
   {
    "duration": 1172,
    "start_time": "2023-04-29T22:04:25.882Z"
   },
   {
    "duration": 25,
    "start_time": "2023-04-29T22:04:27.055Z"
   },
   {
    "duration": 3,
    "start_time": "2023-04-29T22:04:27.082Z"
   },
   {
    "duration": 30,
    "start_time": "2023-04-29T22:04:27.087Z"
   },
   {
    "duration": 13,
    "start_time": "2023-04-29T22:04:27.126Z"
   },
   {
    "duration": 5,
    "start_time": "2023-04-29T22:04:27.140Z"
   },
   {
    "duration": 5,
    "start_time": "2023-04-29T22:04:27.147Z"
   },
   {
    "duration": 3486,
    "start_time": "2023-04-29T22:04:27.153Z"
   },
   {
    "duration": 3899,
    "start_time": "2023-04-29T22:04:30.646Z"
   },
   {
    "duration": 14,
    "start_time": "2023-04-29T22:04:34.547Z"
   },
   {
    "duration": 5,
    "start_time": "2023-04-29T22:04:34.563Z"
   },
   {
    "duration": 1604,
    "start_time": "2023-04-29T22:05:03.259Z"
   },
   {
    "duration": 858,
    "start_time": "2023-04-29T22:05:04.865Z"
   },
   {
    "duration": 51,
    "start_time": "2023-04-29T22:05:05.730Z"
   },
   {
    "duration": 277,
    "start_time": "2023-04-29T22:05:05.783Z"
   },
   {
    "duration": 31,
    "start_time": "2023-04-29T22:05:06.063Z"
   },
   {
    "duration": 61,
    "start_time": "2023-04-29T22:05:06.095Z"
   },
   {
    "duration": 648,
    "start_time": "2023-04-29T22:05:06.158Z"
   },
   {
    "duration": 28,
    "start_time": "2023-04-29T22:05:06.811Z"
   },
   {
    "duration": 9,
    "start_time": "2023-04-29T22:05:06.841Z"
   },
   {
    "duration": 6,
    "start_time": "2023-04-29T22:05:06.852Z"
   },
   {
    "duration": 7,
    "start_time": "2023-04-29T22:05:06.860Z"
   },
   {
    "duration": 4,
    "start_time": "2023-04-29T22:05:06.868Z"
   },
   {
    "duration": 22,
    "start_time": "2023-04-29T22:05:06.874Z"
   },
   {
    "duration": 7,
    "start_time": "2023-04-29T22:05:06.911Z"
   },
   {
    "duration": 1577,
    "start_time": "2023-04-29T22:05:06.921Z"
   },
   {
    "duration": 1587,
    "start_time": "2023-04-29T22:05:08.500Z"
   },
   {
    "duration": 1470,
    "start_time": "2023-04-29T22:05:10.089Z"
   },
   {
    "duration": 6,
    "start_time": "2023-04-29T22:05:11.562Z"
   },
   {
    "duration": 611,
    "start_time": "2023-04-29T22:05:11.570Z"
   },
   {
    "duration": 658,
    "start_time": "2023-04-29T22:05:12.183Z"
   },
   {
    "duration": 3,
    "start_time": "2023-04-29T22:05:12.843Z"
   },
   {
    "duration": 13,
    "start_time": "2023-04-29T22:05:12.848Z"
   },
   {
    "duration": 8,
    "start_time": "2023-04-29T22:05:12.868Z"
   },
   {
    "duration": 1449,
    "start_time": "2023-04-29T22:05:12.878Z"
   },
   {
    "duration": 6,
    "start_time": "2023-04-29T22:05:14.329Z"
   },
   {
    "duration": 15,
    "start_time": "2023-04-29T22:05:14.336Z"
   },
   {
    "duration": 1616,
    "start_time": "2023-04-29T22:05:14.353Z"
   },
   {
    "duration": 6,
    "start_time": "2023-04-29T22:05:15.971Z"
   },
   {
    "duration": 1559,
    "start_time": "2023-04-29T22:05:15.979Z"
   },
   {
    "duration": 4,
    "start_time": "2023-04-29T22:05:17.543Z"
   },
   {
    "duration": 12,
    "start_time": "2023-04-29T22:05:17.549Z"
   },
   {
    "duration": 15,
    "start_time": "2023-04-29T22:05:17.562Z"
   },
   {
    "duration": 1167,
    "start_time": "2023-04-29T22:05:17.579Z"
   },
   {
    "duration": 27,
    "start_time": "2023-04-29T22:05:18.748Z"
   },
   {
    "duration": 3,
    "start_time": "2023-04-29T22:05:18.777Z"
   },
   {
    "duration": 6,
    "start_time": "2023-04-29T22:05:18.781Z"
   },
   {
    "duration": 33,
    "start_time": "2023-04-29T22:05:18.789Z"
   },
   {
    "duration": 9,
    "start_time": "2023-04-29T22:05:18.826Z"
   },
   {
    "duration": 22,
    "start_time": "2023-04-29T22:05:18.838Z"
   },
   {
    "duration": 3477,
    "start_time": "2023-04-29T22:05:18.864Z"
   },
   {
    "duration": 3437,
    "start_time": "2023-04-29T22:05:22.346Z"
   },
   {
    "duration": 14,
    "start_time": "2023-04-29T22:05:25.785Z"
   },
   {
    "duration": 7,
    "start_time": "2023-04-29T22:05:25.817Z"
   },
   {
    "duration": 1535,
    "start_time": "2023-04-29T22:06:50.562Z"
   },
   {
    "duration": 875,
    "start_time": "2023-04-29T22:06:52.099Z"
   },
   {
    "duration": 61,
    "start_time": "2023-04-29T22:06:52.976Z"
   },
   {
    "duration": 286,
    "start_time": "2023-04-29T22:06:53.039Z"
   },
   {
    "duration": 37,
    "start_time": "2023-04-29T22:06:53.333Z"
   },
   {
    "duration": 45,
    "start_time": "2023-04-29T22:06:53.372Z"
   },
   {
    "duration": 664,
    "start_time": "2023-04-29T22:06:53.419Z"
   },
   {
    "duration": 6,
    "start_time": "2023-04-29T22:06:54.085Z"
   },
   {
    "duration": 24,
    "start_time": "2023-04-29T22:06:54.093Z"
   },
   {
    "duration": 11,
    "start_time": "2023-04-29T22:06:54.120Z"
   },
   {
    "duration": 11,
    "start_time": "2023-04-29T22:06:54.134Z"
   },
   {
    "duration": 5,
    "start_time": "2023-04-29T22:06:54.147Z"
   },
   {
    "duration": 10,
    "start_time": "2023-04-29T22:06:54.153Z"
   },
   {
    "duration": 6,
    "start_time": "2023-04-29T22:06:54.165Z"
   },
   {
    "duration": 1527,
    "start_time": "2023-04-29T22:06:54.173Z"
   },
   {
    "duration": 1803,
    "start_time": "2023-04-29T22:06:55.702Z"
   },
   {
    "duration": 1560,
    "start_time": "2023-04-29T22:06:57.507Z"
   },
   {
    "duration": 4,
    "start_time": "2023-04-29T22:06:59.069Z"
   },
   {
    "duration": 591,
    "start_time": "2023-04-29T22:06:59.074Z"
   },
   {
    "duration": 602,
    "start_time": "2023-04-29T22:06:59.666Z"
   },
   {
    "duration": 3,
    "start_time": "2023-04-29T22:07:00.270Z"
   },
   {
    "duration": 26,
    "start_time": "2023-04-29T22:07:00.275Z"
   },
   {
    "duration": 40,
    "start_time": "2023-04-29T22:07:00.302Z"
   },
   {
    "duration": 1306,
    "start_time": "2023-04-29T22:07:00.344Z"
   },
   {
    "duration": 4,
    "start_time": "2023-04-29T22:07:01.652Z"
   },
   {
    "duration": 35,
    "start_time": "2023-04-29T22:07:01.658Z"
   },
   {
    "duration": 1533,
    "start_time": "2023-04-29T22:07:01.694Z"
   },
   {
    "duration": 9,
    "start_time": "2023-04-29T22:07:03.234Z"
   },
   {
    "duration": 1251,
    "start_time": "2023-04-29T22:07:03.245Z"
   },
   {
    "duration": 3,
    "start_time": "2023-04-29T22:07:04.498Z"
   },
   {
    "duration": 6,
    "start_time": "2023-04-29T22:07:04.511Z"
   },
   {
    "duration": 23,
    "start_time": "2023-04-29T22:07:04.519Z"
   },
   {
    "duration": 1198,
    "start_time": "2023-04-29T22:07:04.547Z"
   },
   {
    "duration": 25,
    "start_time": "2023-04-29T22:07:05.747Z"
   },
   {
    "duration": 3,
    "start_time": "2023-04-29T22:07:05.774Z"
   },
   {
    "duration": 7,
    "start_time": "2023-04-29T22:07:05.778Z"
   },
   {
    "duration": 38,
    "start_time": "2023-04-29T22:07:05.787Z"
   },
   {
    "duration": 9,
    "start_time": "2023-04-29T22:07:05.835Z"
   },
   {
    "duration": 26,
    "start_time": "2023-04-29T22:07:05.846Z"
   },
   {
    "duration": 3472,
    "start_time": "2023-04-29T22:07:05.873Z"
   },
   {
    "duration": 3367,
    "start_time": "2023-04-29T22:07:09.347Z"
   },
   {
    "duration": 23,
    "start_time": "2023-04-29T22:07:12.724Z"
   },
   {
    "duration": 6,
    "start_time": "2023-04-29T22:07:12.752Z"
   },
   {
    "duration": 1477,
    "start_time": "2023-04-30T08:43:25.015Z"
   },
   {
    "duration": 1944,
    "start_time": "2023-04-30T08:43:26.494Z"
   },
   {
    "duration": 39,
    "start_time": "2023-04-30T08:43:28.439Z"
   },
   {
    "duration": 211,
    "start_time": "2023-04-30T08:43:28.479Z"
   },
   {
    "duration": 28,
    "start_time": "2023-04-30T08:43:28.694Z"
   },
   {
    "duration": 25,
    "start_time": "2023-04-30T08:43:28.724Z"
   },
   {
    "duration": 563,
    "start_time": "2023-04-30T08:43:28.750Z"
   },
   {
    "duration": 7,
    "start_time": "2023-04-30T08:43:29.315Z"
   },
   {
    "duration": 10,
    "start_time": "2023-04-30T08:43:29.324Z"
   },
   {
    "duration": 6,
    "start_time": "2023-04-30T08:43:29.336Z"
   },
   {
    "duration": 7,
    "start_time": "2023-04-30T08:43:29.344Z"
   },
   {
    "duration": 8,
    "start_time": "2023-04-30T08:43:29.353Z"
   },
   {
    "duration": 34,
    "start_time": "2023-04-30T08:43:29.363Z"
   },
   {
    "duration": 11,
    "start_time": "2023-04-30T08:43:29.400Z"
   },
   {
    "duration": 1606,
    "start_time": "2023-04-30T08:43:29.413Z"
   },
   {
    "duration": 1603,
    "start_time": "2023-04-30T08:43:31.020Z"
   },
   {
    "duration": 1510,
    "start_time": "2023-04-30T08:43:32.625Z"
   },
   {
    "duration": 7,
    "start_time": "2023-04-30T08:43:34.137Z"
   },
   {
    "duration": 530,
    "start_time": "2023-04-30T08:43:34.146Z"
   },
   {
    "duration": 528,
    "start_time": "2023-04-30T08:43:34.678Z"
   },
   {
    "duration": 3,
    "start_time": "2023-04-30T08:43:35.207Z"
   },
   {
    "duration": 13,
    "start_time": "2023-04-30T08:43:35.211Z"
   },
   {
    "duration": 13,
    "start_time": "2023-04-30T08:43:35.226Z"
   },
   {
    "duration": 1312,
    "start_time": "2023-04-30T08:43:35.241Z"
   },
   {
    "duration": 5,
    "start_time": "2023-04-30T08:43:36.555Z"
   },
   {
    "duration": 47,
    "start_time": "2023-04-30T08:43:36.562Z"
   },
   {
    "duration": 0,
    "start_time": "2023-04-30T08:43:36.612Z"
   },
   {
    "duration": 0,
    "start_time": "2023-04-30T08:43:36.613Z"
   },
   {
    "duration": 0,
    "start_time": "2023-04-30T08:43:36.615Z"
   },
   {
    "duration": 0,
    "start_time": "2023-04-30T08:43:36.616Z"
   },
   {
    "duration": 0,
    "start_time": "2023-04-30T08:43:36.617Z"
   },
   {
    "duration": 0,
    "start_time": "2023-04-30T08:43:36.619Z"
   },
   {
    "duration": 0,
    "start_time": "2023-04-30T08:43:36.620Z"
   },
   {
    "duration": 0,
    "start_time": "2023-04-30T08:43:36.622Z"
   },
   {
    "duration": 0,
    "start_time": "2023-04-30T08:43:36.623Z"
   },
   {
    "duration": 0,
    "start_time": "2023-04-30T08:43:36.624Z"
   },
   {
    "duration": 0,
    "start_time": "2023-04-30T08:43:36.626Z"
   },
   {
    "duration": 0,
    "start_time": "2023-04-30T08:43:36.627Z"
   },
   {
    "duration": 0,
    "start_time": "2023-04-30T08:43:36.628Z"
   },
   {
    "duration": 0,
    "start_time": "2023-04-30T08:43:36.629Z"
   },
   {
    "duration": 0,
    "start_time": "2023-04-30T08:43:36.631Z"
   },
   {
    "duration": 0,
    "start_time": "2023-04-30T08:43:36.632Z"
   },
   {
    "duration": 0,
    "start_time": "2023-04-30T08:43:36.634Z"
   },
   {
    "duration": 0,
    "start_time": "2023-04-30T08:43:36.635Z"
   },
   {
    "duration": 0,
    "start_time": "2023-04-30T08:43:36.636Z"
   },
   {
    "duration": 0,
    "start_time": "2023-04-30T08:43:36.638Z"
   },
   {
    "duration": 0,
    "start_time": "2023-04-30T08:43:36.639Z"
   },
   {
    "duration": 0,
    "start_time": "2023-04-30T08:43:36.640Z"
   },
   {
    "duration": 0,
    "start_time": "2023-04-30T08:43:36.642Z"
   },
   {
    "duration": 0,
    "start_time": "2023-04-30T08:43:36.643Z"
   },
   {
    "duration": 0,
    "start_time": "2023-04-30T08:43:36.644Z"
   },
   {
    "duration": 1253,
    "start_time": "2023-04-30T08:44:07.552Z"
   },
   {
    "duration": 632,
    "start_time": "2023-04-30T08:44:08.807Z"
   },
   {
    "duration": 49,
    "start_time": "2023-04-30T08:44:09.445Z"
   },
   {
    "duration": 225,
    "start_time": "2023-04-30T08:44:09.496Z"
   },
   {
    "duration": 26,
    "start_time": "2023-04-30T08:44:09.724Z"
   },
   {
    "duration": 43,
    "start_time": "2023-04-30T08:44:09.752Z"
   },
   {
    "duration": 531,
    "start_time": "2023-04-30T08:44:09.796Z"
   },
   {
    "duration": 5,
    "start_time": "2023-04-30T08:44:10.328Z"
   },
   {
    "duration": 10,
    "start_time": "2023-04-30T08:44:10.335Z"
   },
   {
    "duration": 4,
    "start_time": "2023-04-30T08:44:10.347Z"
   },
   {
    "duration": 5,
    "start_time": "2023-04-30T08:44:10.353Z"
   },
   {
    "duration": 4,
    "start_time": "2023-04-30T08:44:10.359Z"
   },
   {
    "duration": 33,
    "start_time": "2023-04-30T08:44:10.365Z"
   },
   {
    "duration": 5,
    "start_time": "2023-04-30T08:44:10.401Z"
   },
   {
    "duration": 1390,
    "start_time": "2023-04-30T08:44:10.407Z"
   },
   {
    "duration": 1592,
    "start_time": "2023-04-30T08:44:11.799Z"
   },
   {
    "duration": 1414,
    "start_time": "2023-04-30T08:44:13.394Z"
   },
   {
    "duration": 3,
    "start_time": "2023-04-30T08:44:14.810Z"
   },
   {
    "duration": 548,
    "start_time": "2023-04-30T08:44:14.815Z"
   },
   {
    "duration": 505,
    "start_time": "2023-04-30T08:44:15.365Z"
   },
   {
    "duration": 3,
    "start_time": "2023-04-30T08:44:15.871Z"
   },
   {
    "duration": 5,
    "start_time": "2023-04-30T08:44:15.876Z"
   },
   {
    "duration": 17,
    "start_time": "2023-04-30T08:44:15.883Z"
   },
   {
    "duration": 1283,
    "start_time": "2023-04-30T08:44:15.902Z"
   },
   {
    "duration": 8,
    "start_time": "2023-04-30T08:44:17.187Z"
   },
   {
    "duration": 7,
    "start_time": "2023-04-30T08:44:17.197Z"
   },
   {
    "duration": 932,
    "start_time": "2023-04-30T08:44:17.207Z"
   },
   {
    "duration": 6,
    "start_time": "2023-04-30T08:44:18.141Z"
   },
   {
    "duration": 1160,
    "start_time": "2023-04-30T08:44:18.149Z"
   },
   {
    "duration": 2,
    "start_time": "2023-04-30T08:44:19.311Z"
   },
   {
    "duration": 13,
    "start_time": "2023-04-30T08:44:19.314Z"
   },
   {
    "duration": 12,
    "start_time": "2023-04-30T08:44:19.328Z"
   },
   {
    "duration": 1008,
    "start_time": "2023-04-30T08:44:19.341Z"
   },
   {
    "duration": 24,
    "start_time": "2023-04-30T08:44:20.351Z"
   },
   {
    "duration": 4,
    "start_time": "2023-04-30T08:44:20.377Z"
   },
   {
    "duration": 17,
    "start_time": "2023-04-30T08:44:20.393Z"
   },
   {
    "duration": 14,
    "start_time": "2023-04-30T08:44:20.411Z"
   },
   {
    "duration": 39,
    "start_time": "2023-04-30T08:44:20.426Z"
   },
   {
    "duration": 132,
    "start_time": "2023-04-30T08:44:20.467Z"
   },
   {
    "duration": 2619,
    "start_time": "2023-04-30T08:44:20.601Z"
   },
   {
    "duration": 2617,
    "start_time": "2023-04-30T08:44:23.224Z"
   },
   {
    "duration": 11,
    "start_time": "2023-04-30T08:44:25.843Z"
   },
   {
    "duration": 4,
    "start_time": "2023-04-30T08:44:25.856Z"
   },
   {
    "duration": 1362,
    "start_time": "2023-04-30T08:57:08.820Z"
   },
   {
    "duration": 704,
    "start_time": "2023-04-30T08:57:10.184Z"
   },
   {
    "duration": 45,
    "start_time": "2023-04-30T08:57:10.890Z"
   },
   {
    "duration": 240,
    "start_time": "2023-04-30T08:57:10.937Z"
   },
   {
    "duration": 50,
    "start_time": "2023-04-30T08:57:11.179Z"
   },
   {
    "duration": 36,
    "start_time": "2023-04-30T08:57:11.231Z"
   },
   {
    "duration": 652,
    "start_time": "2023-04-30T08:57:11.268Z"
   },
   {
    "duration": 7,
    "start_time": "2023-04-30T08:57:11.922Z"
   },
   {
    "duration": 11,
    "start_time": "2023-04-30T08:57:11.931Z"
   },
   {
    "duration": 7,
    "start_time": "2023-04-30T08:57:11.943Z"
   },
   {
    "duration": 6,
    "start_time": "2023-04-30T08:57:11.953Z"
   },
   {
    "duration": 13,
    "start_time": "2023-04-30T08:57:11.960Z"
   },
   {
    "duration": 21,
    "start_time": "2023-04-30T08:57:11.975Z"
   },
   {
    "duration": 7,
    "start_time": "2023-04-30T08:57:12.000Z"
   },
   {
    "duration": 1559,
    "start_time": "2023-04-30T08:57:12.008Z"
   },
   {
    "duration": 1313,
    "start_time": "2023-04-30T08:57:13.569Z"
   },
   {
    "duration": 1211,
    "start_time": "2023-04-30T08:57:14.884Z"
   },
   {
    "duration": 4,
    "start_time": "2023-04-30T08:57:16.097Z"
   },
   {
    "duration": 452,
    "start_time": "2023-04-30T08:57:16.102Z"
   },
   {
    "duration": 550,
    "start_time": "2023-04-30T08:57:16.556Z"
   },
   {
    "duration": 3,
    "start_time": "2023-04-30T08:57:17.107Z"
   },
   {
    "duration": 6,
    "start_time": "2023-04-30T08:57:17.112Z"
   },
   {
    "duration": 9,
    "start_time": "2023-04-30T08:57:17.120Z"
   },
   {
    "duration": 1552,
    "start_time": "2023-04-30T08:57:17.131Z"
   },
   {
    "duration": 9,
    "start_time": "2023-04-30T08:57:18.685Z"
   },
   {
    "duration": 6,
    "start_time": "2023-04-30T08:57:18.696Z"
   },
   {
    "duration": 1404,
    "start_time": "2023-04-30T08:57:18.704Z"
   },
   {
    "duration": 5,
    "start_time": "2023-04-30T08:57:20.109Z"
   },
   {
    "duration": 1116,
    "start_time": "2023-04-30T08:57:20.116Z"
   },
   {
    "duration": 3,
    "start_time": "2023-04-30T08:57:21.234Z"
   },
   {
    "duration": 13,
    "start_time": "2023-04-30T08:57:21.239Z"
   },
   {
    "duration": 16,
    "start_time": "2023-04-30T08:57:21.254Z"
   },
   {
    "duration": 1382,
    "start_time": "2023-04-30T08:57:21.272Z"
   },
   {
    "duration": 21,
    "start_time": "2023-04-30T08:57:22.656Z"
   },
   {
    "duration": 3,
    "start_time": "2023-04-30T08:57:22.679Z"
   },
   {
    "duration": 4,
    "start_time": "2023-04-30T08:57:22.694Z"
   },
   {
    "duration": 8,
    "start_time": "2023-04-30T08:57:22.700Z"
   },
   {
    "duration": 3,
    "start_time": "2023-04-30T08:57:22.709Z"
   },
   {
    "duration": 7,
    "start_time": "2023-04-30T08:57:22.714Z"
   },
   {
    "duration": 2841,
    "start_time": "2023-04-30T08:57:22.722Z"
   },
   {
    "duration": 3055,
    "start_time": "2023-04-30T08:57:25.567Z"
   },
   {
    "duration": 22,
    "start_time": "2023-04-30T08:57:28.624Z"
   },
   {
    "duration": 5,
    "start_time": "2023-04-30T08:57:28.648Z"
   },
   {
    "duration": 1600,
    "start_time": "2023-04-30T08:59:10.812Z"
   },
   {
    "duration": 906,
    "start_time": "2023-04-30T08:59:12.416Z"
   },
   {
    "duration": 52,
    "start_time": "2023-04-30T08:59:13.325Z"
   },
   {
    "duration": 309,
    "start_time": "2023-04-30T08:59:13.379Z"
   },
   {
    "duration": 37,
    "start_time": "2023-04-30T08:59:13.694Z"
   },
   {
    "duration": 42,
    "start_time": "2023-04-30T08:59:13.733Z"
   },
   {
    "duration": 817,
    "start_time": "2023-04-30T08:59:13.777Z"
   },
   {
    "duration": 9,
    "start_time": "2023-04-30T08:59:14.596Z"
   },
   {
    "duration": 12,
    "start_time": "2023-04-30T08:59:14.608Z"
   },
   {
    "duration": 9,
    "start_time": "2023-04-30T08:59:14.623Z"
   },
   {
    "duration": 5,
    "start_time": "2023-04-30T08:59:14.634Z"
   },
   {
    "duration": 4,
    "start_time": "2023-04-30T08:59:14.641Z"
   },
   {
    "duration": 10,
    "start_time": "2023-04-30T08:59:14.647Z"
   },
   {
    "duration": 7,
    "start_time": "2023-04-30T08:59:14.659Z"
   },
   {
    "duration": 1749,
    "start_time": "2023-04-30T08:59:14.700Z"
   },
   {
    "duration": 1993,
    "start_time": "2023-04-30T08:59:16.453Z"
   },
   {
    "duration": 1977,
    "start_time": "2023-04-30T08:59:18.448Z"
   },
   {
    "duration": 12,
    "start_time": "2023-04-30T08:59:20.427Z"
   },
   {
    "duration": 520,
    "start_time": "2023-04-30T08:59:20.441Z"
   },
   {
    "duration": 742,
    "start_time": "2023-04-30T08:59:20.965Z"
   },
   {
    "duration": 4,
    "start_time": "2023-04-30T08:59:21.709Z"
   },
   {
    "duration": 13,
    "start_time": "2023-04-30T08:59:21.715Z"
   },
   {
    "duration": 14,
    "start_time": "2023-04-30T08:59:21.730Z"
   },
   {
    "duration": 1636,
    "start_time": "2023-04-30T08:59:21.746Z"
   },
   {
    "duration": 10,
    "start_time": "2023-04-30T08:59:23.384Z"
   },
   {
    "duration": 14,
    "start_time": "2023-04-30T08:59:23.396Z"
   },
   {
    "duration": 1501,
    "start_time": "2023-04-30T08:59:23.422Z"
   },
   {
    "duration": 8,
    "start_time": "2023-04-30T08:59:24.925Z"
   },
   {
    "duration": 149,
    "start_time": "2023-04-30T08:59:24.935Z"
   },
   {
    "duration": 1245,
    "start_time": "2023-04-30T08:59:25.086Z"
   },
   {
    "duration": 28,
    "start_time": "2023-04-30T08:59:26.334Z"
   },
   {
    "duration": 3,
    "start_time": "2023-04-30T08:59:26.364Z"
   },
   {
    "duration": 9,
    "start_time": "2023-04-30T08:59:26.369Z"
   },
   {
    "duration": 20,
    "start_time": "2023-04-30T08:59:26.380Z"
   },
   {
    "duration": 9,
    "start_time": "2023-04-30T08:59:26.402Z"
   },
   {
    "duration": 7,
    "start_time": "2023-04-30T08:59:26.413Z"
   },
   {
    "duration": 3881,
    "start_time": "2023-04-30T08:59:26.421Z"
   },
   {
    "duration": 2865,
    "start_time": "2023-04-30T08:59:30.304Z"
   },
   {
    "duration": 13,
    "start_time": "2023-04-30T08:59:33.171Z"
   },
   {
    "duration": 5,
    "start_time": "2023-04-30T08:59:33.194Z"
   },
   {
    "duration": 1695,
    "start_time": "2023-04-30T09:01:20.716Z"
   },
   {
    "duration": 652,
    "start_time": "2023-04-30T09:01:22.413Z"
   },
   {
    "duration": 44,
    "start_time": "2023-04-30T09:01:23.067Z"
   },
   {
    "duration": 289,
    "start_time": "2023-04-30T09:01:23.113Z"
   },
   {
    "duration": 31,
    "start_time": "2023-04-30T09:01:23.422Z"
   },
   {
    "duration": 26,
    "start_time": "2023-04-30T09:01:23.455Z"
   },
   {
    "duration": 604,
    "start_time": "2023-04-30T09:01:23.483Z"
   },
   {
    "duration": 7,
    "start_time": "2023-04-30T09:01:24.089Z"
   },
   {
    "duration": 13,
    "start_time": "2023-04-30T09:01:24.098Z"
   },
   {
    "duration": 9,
    "start_time": "2023-04-30T09:01:24.114Z"
   },
   {
    "duration": 8,
    "start_time": "2023-04-30T09:01:24.125Z"
   },
   {
    "duration": 4,
    "start_time": "2023-04-30T09:01:24.135Z"
   },
   {
    "duration": 7,
    "start_time": "2023-04-30T09:01:24.140Z"
   },
   {
    "duration": 7,
    "start_time": "2023-04-30T09:01:24.151Z"
   },
   {
    "duration": 1478,
    "start_time": "2023-04-30T09:01:24.160Z"
   },
   {
    "duration": 1803,
    "start_time": "2023-04-30T09:01:25.640Z"
   },
   {
    "duration": 1822,
    "start_time": "2023-04-30T09:01:27.445Z"
   },
   {
    "duration": 9,
    "start_time": "2023-04-30T09:01:29.269Z"
   },
   {
    "duration": 667,
    "start_time": "2023-04-30T09:01:29.280Z"
   },
   {
    "duration": 701,
    "start_time": "2023-04-30T09:01:29.950Z"
   },
   {
    "duration": 5,
    "start_time": "2023-04-30T09:01:30.653Z"
   },
   {
    "duration": 28,
    "start_time": "2023-04-30T09:01:30.661Z"
   },
   {
    "duration": 1768,
    "start_time": "2023-04-30T09:01:30.691Z"
   },
   {
    "duration": 7,
    "start_time": "2023-04-30T09:01:32.461Z"
   },
   {
    "duration": 5,
    "start_time": "2023-04-30T09:01:32.471Z"
   },
   {
    "duration": 1586,
    "start_time": "2023-04-30T09:01:32.494Z"
   },
   {
    "duration": 12,
    "start_time": "2023-04-30T09:01:34.082Z"
   },
   {
    "duration": 185,
    "start_time": "2023-04-30T09:01:34.103Z"
   },
   {
    "duration": 1459,
    "start_time": "2023-04-30T09:01:34.290Z"
   },
   {
    "duration": 32,
    "start_time": "2023-04-30T09:01:35.751Z"
   },
   {
    "duration": 3,
    "start_time": "2023-04-30T09:01:35.795Z"
   },
   {
    "duration": 17,
    "start_time": "2023-04-30T09:01:35.800Z"
   },
   {
    "duration": 15,
    "start_time": "2023-04-30T09:01:35.819Z"
   },
   {
    "duration": 3,
    "start_time": "2023-04-30T09:01:35.836Z"
   },
   {
    "duration": 11,
    "start_time": "2023-04-30T09:01:35.841Z"
   },
   {
    "duration": 2875,
    "start_time": "2023-04-30T09:01:35.853Z"
   },
   {
    "duration": 2971,
    "start_time": "2023-04-30T09:01:38.730Z"
   },
   {
    "duration": 15,
    "start_time": "2023-04-30T09:01:41.702Z"
   },
   {
    "duration": 4,
    "start_time": "2023-04-30T09:01:41.719Z"
   },
   {
    "duration": 1597,
    "start_time": "2023-04-30T09:02:06.009Z"
   },
   {
    "duration": 896,
    "start_time": "2023-04-30T09:02:07.608Z"
   },
   {
    "duration": 50,
    "start_time": "2023-04-30T09:02:08.506Z"
   },
   {
    "duration": 311,
    "start_time": "2023-04-30T09:02:08.558Z"
   },
   {
    "duration": 48,
    "start_time": "2023-04-30T09:02:08.873Z"
   },
   {
    "duration": 34,
    "start_time": "2023-04-30T09:02:08.923Z"
   },
   {
    "duration": 730,
    "start_time": "2023-04-30T09:02:08.959Z"
   },
   {
    "duration": 7,
    "start_time": "2023-04-30T09:02:09.690Z"
   },
   {
    "duration": 10,
    "start_time": "2023-04-30T09:02:09.699Z"
   },
   {
    "duration": 9,
    "start_time": "2023-04-30T09:02:09.711Z"
   },
   {
    "duration": 7,
    "start_time": "2023-04-30T09:02:09.722Z"
   },
   {
    "duration": 4,
    "start_time": "2023-04-30T09:02:09.730Z"
   },
   {
    "duration": 16,
    "start_time": "2023-04-30T09:02:09.736Z"
   },
   {
    "duration": 6,
    "start_time": "2023-04-30T09:02:09.756Z"
   },
   {
    "duration": 2007,
    "start_time": "2023-04-30T09:02:09.764Z"
   },
   {
    "duration": 1642,
    "start_time": "2023-04-30T09:02:11.773Z"
   },
   {
    "duration": 1504,
    "start_time": "2023-04-30T09:02:13.416Z"
   },
   {
    "duration": 5,
    "start_time": "2023-04-30T09:02:14.922Z"
   },
   {
    "duration": 628,
    "start_time": "2023-04-30T09:02:14.929Z"
   },
   {
    "duration": 627,
    "start_time": "2023-04-30T09:02:15.559Z"
   },
   {
    "duration": 8,
    "start_time": "2023-04-30T09:02:16.187Z"
   },
   {
    "duration": 7,
    "start_time": "2023-04-30T09:02:16.197Z"
   },
   {
    "duration": 1730,
    "start_time": "2023-04-30T09:02:16.206Z"
   },
   {
    "duration": 8,
    "start_time": "2023-04-30T09:02:17.938Z"
   },
   {
    "duration": 158,
    "start_time": "2023-04-30T09:02:17.948Z"
   },
   {
    "duration": 1359,
    "start_time": "2023-04-30T09:02:18.108Z"
   },
   {
    "duration": 37,
    "start_time": "2023-04-30T09:02:19.469Z"
   },
   {
    "duration": 4,
    "start_time": "2023-04-30T09:02:19.508Z"
   },
   {
    "duration": 6,
    "start_time": "2023-04-30T09:02:19.514Z"
   },
   {
    "duration": 8,
    "start_time": "2023-04-30T09:02:19.522Z"
   },
   {
    "duration": 3,
    "start_time": "2023-04-30T09:02:19.531Z"
   },
   {
    "duration": 6,
    "start_time": "2023-04-30T09:02:19.536Z"
   },
   {
    "duration": 3020,
    "start_time": "2023-04-30T09:02:19.543Z"
   },
   {
    "duration": 2721,
    "start_time": "2023-04-30T09:02:22.564Z"
   },
   {
    "duration": 21,
    "start_time": "2023-04-30T09:02:25.287Z"
   },
   {
    "duration": 4,
    "start_time": "2023-04-30T09:02:25.309Z"
   },
   {
    "duration": 1457,
    "start_time": "2023-04-30T09:03:42.000Z"
   },
   {
    "duration": 625,
    "start_time": "2023-04-30T09:03:43.459Z"
   },
   {
    "duration": 55,
    "start_time": "2023-04-30T09:03:44.087Z"
   },
   {
    "duration": 267,
    "start_time": "2023-04-30T09:03:44.144Z"
   },
   {
    "duration": 30,
    "start_time": "2023-04-30T09:03:44.413Z"
   },
   {
    "duration": 25,
    "start_time": "2023-04-30T09:03:44.445Z"
   },
   {
    "duration": 577,
    "start_time": "2023-04-30T09:03:44.471Z"
   },
   {
    "duration": 7,
    "start_time": "2023-04-30T09:03:45.050Z"
   },
   {
    "duration": 15,
    "start_time": "2023-04-30T09:03:45.058Z"
   },
   {
    "duration": 10,
    "start_time": "2023-04-30T09:03:45.075Z"
   },
   {
    "duration": 7,
    "start_time": "2023-04-30T09:03:45.093Z"
   },
   {
    "duration": 4,
    "start_time": "2023-04-30T09:03:45.102Z"
   },
   {
    "duration": 11,
    "start_time": "2023-04-30T09:03:45.107Z"
   },
   {
    "duration": 6,
    "start_time": "2023-04-30T09:03:45.122Z"
   },
   {
    "duration": 2004,
    "start_time": "2023-04-30T09:03:45.129Z"
   },
   {
    "duration": 1580,
    "start_time": "2023-04-30T09:03:47.135Z"
   },
   {
    "duration": 1657,
    "start_time": "2023-04-30T09:03:48.717Z"
   },
   {
    "duration": 4,
    "start_time": "2023-04-30T09:03:50.375Z"
   },
   {
    "duration": 620,
    "start_time": "2023-04-30T09:03:50.381Z"
   },
   {
    "duration": 648,
    "start_time": "2023-04-30T09:03:51.003Z"
   },
   {
    "duration": 9,
    "start_time": "2023-04-30T09:03:51.653Z"
   },
   {
    "duration": 7,
    "start_time": "2023-04-30T09:03:51.664Z"
   },
   {
    "duration": 1440,
    "start_time": "2023-04-30T09:03:51.673Z"
   },
   {
    "duration": 7,
    "start_time": "2023-04-30T09:03:53.115Z"
   },
   {
    "duration": 139,
    "start_time": "2023-04-30T09:03:53.124Z"
   },
   {
    "duration": 1478,
    "start_time": "2023-04-30T09:03:53.265Z"
   },
   {
    "duration": 26,
    "start_time": "2023-04-30T09:03:54.745Z"
   },
   {
    "duration": 48,
    "start_time": "2023-04-30T09:03:54.773Z"
   },
   {
    "duration": 20,
    "start_time": "2023-04-30T09:03:54.823Z"
   },
   {
    "duration": 9,
    "start_time": "2023-04-30T09:03:54.845Z"
   },
   {
    "duration": 4,
    "start_time": "2023-04-30T09:03:54.856Z"
   },
   {
    "duration": 7,
    "start_time": "2023-04-30T09:03:54.862Z"
   },
   {
    "duration": 2916,
    "start_time": "2023-04-30T09:03:54.871Z"
   },
   {
    "duration": 3133,
    "start_time": "2023-04-30T09:03:57.789Z"
   },
   {
    "duration": 21,
    "start_time": "2023-04-30T09:04:00.924Z"
   },
   {
    "duration": 16,
    "start_time": "2023-04-30T09:04:00.948Z"
   },
   {
    "duration": 1557351,
    "start_time": "2023-04-30T09:04:00.966Z"
   },
   {
    "duration": 1615855,
    "start_time": "2023-04-30T09:29:58.319Z"
   },
   {
    "duration": 72,
    "start_time": "2023-04-30T09:56:54.176Z"
   },
   {
    "duration": 8,
    "start_time": "2023-04-30T09:56:54.250Z"
   },
   {
    "duration": 10644,
    "start_time": "2023-04-30T09:56:54.262Z"
   },
   {
    "duration": 10806,
    "start_time": "2023-04-30T09:57:04.996Z"
   },
   {
    "duration": 193,
    "start_time": "2023-04-30T09:57:15.804Z"
   },
   {
    "duration": 4,
    "start_time": "2023-04-30T09:57:16.000Z"
   },
   {
    "duration": 1343,
    "start_time": "2023-04-30T10:20:45.179Z"
   },
   {
    "duration": 643,
    "start_time": "2023-04-30T10:20:46.524Z"
   },
   {
    "duration": 49,
    "start_time": "2023-04-30T10:20:47.168Z"
   },
   {
    "duration": 245,
    "start_time": "2023-04-30T10:20:47.220Z"
   },
   {
    "duration": 43,
    "start_time": "2023-04-30T10:20:47.467Z"
   },
   {
    "duration": 24,
    "start_time": "2023-04-30T10:20:47.512Z"
   },
   {
    "duration": 530,
    "start_time": "2023-04-30T10:20:47.537Z"
   },
   {
    "duration": 6,
    "start_time": "2023-04-30T10:20:48.070Z"
   },
   {
    "duration": 37,
    "start_time": "2023-04-30T10:20:48.077Z"
   },
   {
    "duration": 6,
    "start_time": "2023-04-30T10:20:48.117Z"
   },
   {
    "duration": 8,
    "start_time": "2023-04-30T10:20:48.124Z"
   },
   {
    "duration": 4,
    "start_time": "2023-04-30T10:20:48.141Z"
   },
   {
    "duration": 6,
    "start_time": "2023-04-30T10:20:48.147Z"
   },
   {
    "duration": 5,
    "start_time": "2023-04-30T10:20:48.155Z"
   },
   {
    "duration": 1467,
    "start_time": "2023-04-30T10:20:48.162Z"
   },
   {
    "duration": 1276,
    "start_time": "2023-04-30T10:20:49.631Z"
   },
   {
    "duration": 1377,
    "start_time": "2023-04-30T10:20:50.909Z"
   },
   {
    "duration": 9,
    "start_time": "2023-04-30T10:20:52.287Z"
   },
   {
    "duration": 456,
    "start_time": "2023-04-30T10:20:52.302Z"
   },
   {
    "duration": 532,
    "start_time": "2023-04-30T10:20:52.760Z"
   },
   {
    "duration": 11,
    "start_time": "2023-04-30T10:20:53.294Z"
   },
   {
    "duration": 5,
    "start_time": "2023-04-30T10:20:53.306Z"
   },
   {
    "duration": 1289,
    "start_time": "2023-04-30T10:20:53.313Z"
   },
   {
    "duration": 6,
    "start_time": "2023-04-30T10:20:54.604Z"
   },
   {
    "duration": 125,
    "start_time": "2023-04-30T10:20:54.612Z"
   },
   {
    "duration": 1113,
    "start_time": "2023-04-30T10:20:54.738Z"
   },
   {
    "duration": 25,
    "start_time": "2023-04-30T10:20:55.853Z"
   },
   {
    "duration": 3,
    "start_time": "2023-04-30T10:20:55.881Z"
   },
   {
    "duration": 5,
    "start_time": "2023-04-30T10:20:55.894Z"
   },
   {
    "duration": 11,
    "start_time": "2023-04-30T10:20:55.900Z"
   },
   {
    "duration": 24,
    "start_time": "2023-04-30T10:20:55.913Z"
   },
   {
    "duration": 5,
    "start_time": "2023-04-30T10:20:55.938Z"
   },
   {
    "duration": 2818,
    "start_time": "2023-04-30T10:20:55.944Z"
   },
   {
    "duration": 2965,
    "start_time": "2023-04-30T10:20:58.764Z"
   },
   {
    "duration": 67,
    "start_time": "2023-04-30T10:21:01.730Z"
   },
   {
    "duration": 11,
    "start_time": "2023-04-30T10:21:01.803Z"
   },
   {
    "duration": 1362,
    "start_time": "2023-04-30T13:09:26.983Z"
   },
   {
    "duration": 676,
    "start_time": "2023-04-30T13:09:28.347Z"
   },
   {
    "duration": 38,
    "start_time": "2023-04-30T13:09:29.024Z"
   },
   {
    "duration": 245,
    "start_time": "2023-04-30T13:09:29.064Z"
   },
   {
    "duration": 27,
    "start_time": "2023-04-30T13:09:29.311Z"
   },
   {
    "duration": 24,
    "start_time": "2023-04-30T13:09:29.339Z"
   },
   {
    "duration": 552,
    "start_time": "2023-04-30T13:09:29.365Z"
   },
   {
    "duration": 5,
    "start_time": "2023-04-30T13:09:29.918Z"
   },
   {
    "duration": 11,
    "start_time": "2023-04-30T13:09:29.924Z"
   },
   {
    "duration": 7,
    "start_time": "2023-04-30T13:09:29.937Z"
   },
   {
    "duration": 6,
    "start_time": "2023-04-30T13:09:29.945Z"
   },
   {
    "duration": 5,
    "start_time": "2023-04-30T13:09:29.953Z"
   },
   {
    "duration": 10,
    "start_time": "2023-04-30T13:09:29.960Z"
   },
   {
    "duration": 31,
    "start_time": "2023-04-30T13:09:29.973Z"
   },
   {
    "duration": 1523,
    "start_time": "2023-04-30T13:09:30.006Z"
   },
   {
    "duration": 1248,
    "start_time": "2023-04-30T13:09:31.530Z"
   },
   {
    "duration": 1206,
    "start_time": "2023-04-30T13:09:32.779Z"
   },
   {
    "duration": 8,
    "start_time": "2023-04-30T13:09:33.994Z"
   },
   {
    "duration": 466,
    "start_time": "2023-04-30T13:09:34.003Z"
   },
   {
    "duration": 497,
    "start_time": "2023-04-30T13:09:34.470Z"
   },
   {
    "duration": 4,
    "start_time": "2023-04-30T13:09:34.968Z"
   },
   {
    "duration": 16,
    "start_time": "2023-04-30T13:09:34.973Z"
   },
   {
    "duration": 1285,
    "start_time": "2023-04-30T13:09:34.990Z"
   },
   {
    "duration": 5,
    "start_time": "2023-04-30T13:09:36.276Z"
   },
   {
    "duration": 104,
    "start_time": "2023-04-30T13:09:36.282Z"
   },
   {
    "duration": 1055,
    "start_time": "2023-04-30T13:09:36.388Z"
   },
   {
    "duration": 23,
    "start_time": "2023-04-30T13:09:37.445Z"
   },
   {
    "duration": 3,
    "start_time": "2023-04-30T13:09:37.470Z"
   },
   {
    "duration": 36,
    "start_time": "2023-04-30T13:09:37.474Z"
   },
   {
    "duration": 6,
    "start_time": "2023-04-30T13:09:37.512Z"
   },
   {
    "duration": 5,
    "start_time": "2023-04-30T13:09:37.519Z"
   },
   {
    "duration": 6,
    "start_time": "2023-04-30T13:09:37.526Z"
   },
   {
    "duration": 2808,
    "start_time": "2023-04-30T13:09:37.533Z"
   },
   {
    "duration": 2704,
    "start_time": "2023-04-30T13:09:40.342Z"
   },
   {
    "duration": 11,
    "start_time": "2023-04-30T13:09:43.048Z"
   },
   {
    "duration": 3,
    "start_time": "2023-04-30T13:09:43.061Z"
   },
   {
    "duration": 2408842,
    "start_time": "2023-04-30T13:09:43.065Z"
   },
   {
    "duration": 2403517,
    "start_time": "2023-04-30T13:49:51.909Z"
   },
   {
    "duration": 22,
    "start_time": "2023-04-30T14:29:55.428Z"
   },
   {
    "duration": 3,
    "start_time": "2023-04-30T14:29:55.452Z"
   },
   {
    "duration": 13659,
    "start_time": "2023-04-30T14:29:55.458Z"
   },
   {
    "duration": 14007,
    "start_time": "2023-04-30T14:30:09.195Z"
   },
   {
    "duration": 190,
    "start_time": "2023-04-30T14:30:23.204Z"
   },
   {
    "duration": 18,
    "start_time": "2023-04-30T14:30:23.396Z"
   },
   {
    "duration": 111,
    "start_time": "2023-04-30T14:39:12.535Z"
   },
   {
    "duration": 12,
    "start_time": "2023-04-30T14:45:54.659Z"
   },
   {
    "duration": 9,
    "start_time": "2023-04-30T14:55:37.828Z"
   },
   {
    "duration": 5,
    "start_time": "2023-04-30T14:56:16.224Z"
   },
   {
    "duration": 10,
    "start_time": "2023-04-30T14:56:21.175Z"
   },
   {
    "duration": 6,
    "start_time": "2023-04-30T14:57:15.337Z"
   },
   {
    "duration": 6,
    "start_time": "2023-04-30T14:59:13.458Z"
   },
   {
    "duration": 50,
    "start_time": "2023-04-30T15:02:38.553Z"
   },
   {
    "duration": 55,
    "start_time": "2023-04-30T15:03:18.737Z"
   },
   {
    "duration": 43,
    "start_time": "2023-04-30T15:03:36.625Z"
   }
  ],
  "kernelspec": {
   "display_name": "Python 3 (ipykernel)",
   "language": "python",
   "name": "python3"
  },
  "language_info": {
   "codemirror_mode": {
    "name": "ipython",
    "version": 3
   },
   "file_extension": ".py",
   "mimetype": "text/x-python",
   "name": "python",
   "nbconvert_exporter": "python",
   "pygments_lexer": "ipython3",
   "version": "3.9.5"
  },
  "toc": {
   "base_numbering": 1,
   "nav_menu": {},
   "number_sections": true,
   "sideBar": true,
   "skip_h1_title": true,
   "title_cell": "Содержание",
   "title_sidebar": "Contents",
   "toc_cell": true,
   "toc_position": {},
   "toc_section_display": true,
   "toc_window_display": true
  }
 },
 "nbformat": 4,
 "nbformat_minor": 2
}
